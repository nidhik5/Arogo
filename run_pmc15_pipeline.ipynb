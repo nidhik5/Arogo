{
 "cells": [
  {
   "cell_type": "markdown",
   "metadata": {},
   "source": [
    "## PMC15 Pipeline\n",
    "\n",
    "This will run the PMC15 pipeline. The steps are as follows:\n",
    "\n",
    "1. Download the list of PMC Open Access data\n",
    "2. Download and extract the data\n",
    "3. Parse all the articles and create a `_results/data/pubmed_parsed_data.jsonl` file\n",
    "\n",
    "In the `pubmed_parsed_data.jsonl` file, each line is a JSON object with the following shape:\n",
    "\n",
    "```json\n",
    "{\n",
    "    \"pmid\": \"PMID_VALUE like 11178228\",\n",
    "    \"pmc\": \"PMC_VALUE like 15015\",\n",
    "    \"location\": \"LOCATION_PATH: path to where the article is stored on disk\",\n",
    "    \"figures\": [\n",
    "        {\n",
    "            \"fig_caption\": \"FIGURE_CAPTION: the caption of the figure in the article\",\n",
    "            \"fig_id\": \"FIGURE_ID: F1, F2, etc\",\n",
    "            \"fig_label\": \"FIGURE_LABEL: Figure 1, Figure 2, etc. Where the figure is referenced in the article\",\n",
    "            \"graphic_ref\": \"GRAPHIC_REFERENCE_PATH: path to where the imape is stored on disk\",\n",
    "            \"pair_id\": \"PAIR_ID: {pmid}_{fig_id}\",\n",
    "        },\n",
    "    ]\n",
    "}\n",
    "```"
   ]
  },
  {
   "cell_type": "code",
   "execution_count": 2,
   "metadata": {},
   "outputs": [],
   "source": [
    "# this controls how many articles will be downloaded and processed. Set to `None` to process all articles in the PMCOA list\n",
    "MAX_ITEMS_TO_PROCESS = 1000"
   ]
  },
  {
   "cell_type": "code",
   "execution_count": 3,
   "metadata": {},
   "outputs": [],
   "source": [
    "from pmc15_pipeline import data\n",
    "from pmc15_pipeline.utils import fs_utils"
   ]
  },
  {
   "cell_type": "code",
   "execution_count": 4,
   "metadata": {},
   "outputs": [],
   "source": [
    "repo_root = fs_utils.get_repo_root_path()"
   ]
  },
  {
   "cell_type": "code",
   "execution_count": 5,
   "metadata": {},
   "outputs": [
    {
     "name": "stdout",
     "output_type": "stream",
     "text": [
      "Downloading OpenAccess file list from: https://ftp.ncbi.nlm.nih.gov/pub/pmc/oa_file_list.txt to a:\\Vishal\\BiomedCLIP_data_pipeline\\_results\\data\\pubmed_open_access_file_list.txt\n",
      "File already exists: a:\\Vishal\\BiomedCLIP_data_pipeline\\_results\\data\\pubmed_open_access_file_list.txt\n"
     ]
    }
   ],
   "source": [
    "list_output_path = repo_root / \"_results\" / \"data\" / \"pubmed_open_access_file_list.txt\"\n",
    "\n",
    "data.download_pubmed_file_list(\n",
    "    output_file_path=list_output_path,\n",
    ")"
   ]
  },
  {
   "cell_type": "code",
   "execution_count": 6,
   "metadata": {},
   "outputs": [
    {
     "name": "stderr",
     "output_type": "stream",
     "text": [
      "  4%|▍         | 41/1000 [00:00<00:03, 312.98it/s]"
     ]
    },
    {
     "name": "stdout",
     "output_type": "stream",
     "text": [
      "File: PMC13900.tar.gz already exists. Not downloading again.\n",
      "File: PMC13901.tar.gz already exists. Not downloading again.\n",
      "File: PMC13902.tar.gz already exists. Not downloading again.\n",
      "File: PMC13911.tar.gz already exists. Not downloading again.\n",
      "File: PMC13912.tar.gz already exists. Not downloading again.\n",
      "File: PMC13913.tar.gz already exists. Not downloading again.\n",
      "File: PMC13914.tar.gz already exists. Not downloading again.\n",
      "File: PMC13915.tar.gz already exists. Not downloading again.\n",
      "File: PMC13916.tar.gz already exists. Not downloading again.\n",
      "File: PMC13917.tar.gz already exists. Not downloading again.\n",
      "File: PMC13918.tar.gz already exists. Not downloading again.\n",
      "File: PMC13919.tar.gz already exists. Not downloading again.\n",
      "File: PMC13920.tar.gz already exists. Not downloading again.\n",
      "File: PMC13921.tar.gz already exists. Not downloading again.\n",
      "File: PMC13922.tar.gz already exists. Not downloading again.\n",
      "File: PMC13923.tar.gz already exists. Not downloading again.\n",
      "File: PMC13924.tar.gz already exists. Not downloading again.\n",
      "File: PMC14752.tar.gz already exists. Not downloading again.\n",
      "File: PMC15015.tar.gz already exists. Not downloading again.\n",
      "File: PMC15016.tar.gz already exists. Not downloading again.\n",
      "File: PMC15023.tar.gz already exists. Not downloading again.\n",
      "File: PMC15024.tar.gz already exists. Not downloading again.\n",
      "File: PMC15025.tar.gz already exists. Not downloading again.\n",
      "File: PMC15026.tar.gz already exists. Not downloading again.\n",
      "File: PMC15027.tar.gz already exists. Not downloading again.\n",
      "File: PMC15028.tar.gz already exists. Not downloading again.\n",
      "File: PMC16139.tar.gz already exists. Not downloading again.\n",
      "File: PMC16141.tar.gz already exists. Not downloading again.\n",
      "File: PMC16144.tar.gz already exists. Not downloading again.\n",
      "File: PMC16145.tar.gz already exists. Not downloading again.\n",
      "File: PMC17597.tar.gz already exists. Not downloading again.\n",
      "File: PMC17598.tar.gz already exists. Not downloading again.\n",
      "File: PMC17599.tar.gz already exists. Not downloading again.\n",
      "File: PMC17774.tar.gz already exists. Not downloading again.\n",
      "File: PMC17776.tar.gz already exists. Not downloading again.\n",
      "File: PMC17779.tar.gz already exists. Not downloading again.\n",
      "File: PMC17803.tar.gz already exists. Not downloading again.\n",
      "File: PMC17804.tar.gz already exists. Not downloading again.\n",
      "File: PMC17805.tar.gz already exists. Not downloading again.\n",
      "File: PMC17806.tar.gz already exists. Not downloading again.\n",
      "File: PMC17807.tar.gz already exists. Not downloading again.\n",
      "File: PMC17808.tar.gz already exists. Not downloading again.\n",
      "File: PMC17809.tar.gz already exists. Not downloading again.\n",
      "File: PMC17810.tar.gz already exists. Not downloading again.\n",
      "File: PMC17811.tar.gz already exists. Not downloading again.\n",
      "File: PMC17812.tar.gz already exists. Not downloading again.\n",
      "File: PMC17813.tar.gz already exists. Not downloading again.\n",
      "File: PMC17814.tar.gz already exists. Not downloading again.\n",
      "File: PMC17815.tar.gz already exists. Not downloading again.\n",
      "File: PMC17816.tar.gz already exists. Not downloading again.\n",
      "File: PMC17817.tar.gz already exists. Not downloading again.\n",
      "File: PMC17818.tar.gz already exists. Not downloading again.\n",
      "File: PMC17819.tar.gz already exists. Not downloading again.\n",
      "File: PMC17820.tar.gz already exists. Not downloading again.\n",
      "File: PMC17821.tar.gz already exists. Not downloading again.\n",
      "File: PMC17822.tar.gz already exists. Not downloading again.\n",
      "File: PMC17823.tar.gz already exists. Not downloading again.\n",
      "File: PMC17824.tar.gz already exists. Not downloading again.\n",
      "File: PMC17825.tar.gz already exists. Not downloading again.\n",
      "File: PMC17826.tar.gz already exists. Not downloading again.\n",
      "File: PMC17827.tar.gz already exists. Not downloading again.\n",
      "File: PMC17828.tar.gz already exists. Not downloading again.\n",
      "File: PMC17829.tar.gz already exists. Not downloading again.\n",
      "File: PMC25774.tar.gz already exists. Not downloading again.\n",
      "File: PMC25775.tar.gz already exists. Not downloading again.\n",
      "File: PMC25776.tar.gz already exists. Not downloading again.\n",
      "File: PMC28985.tar.gz already exists. Not downloading again.\n",
      "File: PMC28986.tar.gz already exists. Not downloading again.\n",
      "File: PMC28987.tar.gz already exists. Not downloading again.\n",
      "File: PMC28988.tar.gz already exists. Not downloading again.\n",
      "File: PMC28989.tar.gz already exists. Not downloading again.\n",
      "File: PMC28990.tar.gz already exists. Not downloading again.\n",
      "File: PMC28991.tar.gz already exists. Not downloading again.\n",
      "File: PMC28992.tar.gz already exists. Not downloading again.\n",
      "File: PMC28993.tar.gz already exists. Not downloading again.\n",
      "File: PMC28994.tar.gz already exists. Not downloading again.\n",
      "File: PMC28995.tar.gz already exists. Not downloading again.\n"
     ]
    },
    {
     "name": "stderr",
     "output_type": "stream",
     "text": [
      "  4%|▍         | 41/1000 [00:00<00:03, 312.98it/s]"
     ]
    },
    {
     "name": "stdout",
     "output_type": "stream",
     "text": [
      "File: PMC28996.tar.gz already exists. Not downloading again.\n",
      "File: PMC28997.tar.gz already exists. Not downloading again.\n",
      "File: PMC28998.tar.gz already exists. Not downloading again.\n",
      "File: PMC28999.tar.gz already exists. Not downloading again.\n",
      "File: PMC29000.tar.gz already exists. Not downloading again.\n",
      "File: PMC29001.tar.gz already exists. Not downloading again.\n",
      "File: PMC29002.tar.gz already exists. Not downloading again.\n",
      "File: PMC29003.tar.gz already exists. Not downloading again.\n",
      "File: PMC29004.tar.gz already exists. Not downloading again.\n",
      "File: PMC29005.tar.gz already exists. Not downloading again.\n",
      "File: PMC29006.tar.gz already exists. Not downloading again.\n",
      "File: PMC29007.tar.gz already exists. Not downloading again.\n",
      "File: PMC29008.tar.gz already exists. Not downloading again.\n",
      "File: PMC29009.tar.gz already exists. Not downloading again.\n",
      "File: PMC29010.tar.gz already exists. Not downloading again.\n",
      "File: PMC29011.tar.gz already exists. Not downloading again.\n",
      "File: PMC29012.tar.gz already exists. Not downloading again.\n",
      "File: PMC29013.tar.gz already exists. Not downloading again.\n",
      "File: PMC29014.tar.gz already exists. Not downloading again.\n",
      "File: PMC29015.tar.gz already exists. Not downloading again.\n",
      "File: PMC29016.tar.gz already exists. Not downloading again.\n",
      "File: PMC29017.tar.gz already exists. Not downloading again.\n",
      "File: PMC29018.tar.gz already exists. Not downloading again.\n"
     ]
    },
    {
     "name": "stderr",
     "output_type": "stream",
     "text": [
      "  4%|▍         | 41/1000 [00:01<00:03, 312.98it/s]"
     ]
    },
    {
     "name": "stdout",
     "output_type": "stream",
     "text": [
      "File: PMC29019.tar.gz size: 122308 bytes\n"
     ]
    },
    {
     "name": "stderr",
     "output_type": "stream",
     "text": [
      " 10%|█         | 101/1000 [00:04<00:38, 23.29it/s]"
     ]
    },
    {
     "name": "stdout",
     "output_type": "stream",
     "text": [
      "File: PMC29020.tar.gz size: 554865 bytes\n"
     ]
    },
    {
     "name": "stderr",
     "output_type": "stream",
     "text": [
      " 10%|█         | 101/1000 [00:08<00:38, 23.29it/s]"
     ]
    },
    {
     "name": "stdout",
     "output_type": "stream",
     "text": [
      "File: PMC29021.tar.gz size: 566226 bytes\n"
     ]
    },
    {
     "name": "stderr",
     "output_type": "stream",
     "text": [
      " 10%|█         | 101/1000 [00:11<00:38, 23.29it/s]"
     ]
    },
    {
     "name": "stdout",
     "output_type": "stream",
     "text": [
      "File: PMC29022.tar.gz size: 361237 bytes\n"
     ]
    },
    {
     "name": "stderr",
     "output_type": "stream",
     "text": [
      " 10%|█         | 101/1000 [00:16<00:38, 23.29it/s]"
     ]
    },
    {
     "name": "stdout",
     "output_type": "stream",
     "text": [
      "File: PMC29023.tar.gz size: 190168 bytes\n"
     ]
    },
    {
     "name": "stderr",
     "output_type": "stream",
     "text": [
      " 10%|█         | 101/1000 [00:19<00:38, 23.29it/s]"
     ]
    },
    {
     "name": "stdout",
     "output_type": "stream",
     "text": [
      "File: PMC29024.tar.gz size: 184616 bytes\n"
     ]
    },
    {
     "name": "stderr",
     "output_type": "stream",
     "text": [
      " 11%|█         | 106/1000 [00:22<04:27,  3.34it/s]"
     ]
    },
    {
     "name": "stdout",
     "output_type": "stream",
     "text": [
      "File: PMC29025.tar.gz size: 295435 bytes\n"
     ]
    },
    {
     "name": "stderr",
     "output_type": "stream",
     "text": [
      " 11%|█         | 107/1000 [00:25<05:19,  2.79it/s]"
     ]
    },
    {
     "name": "stdout",
     "output_type": "stream",
     "text": [
      "File: PMC29026.tar.gz size: 155705 bytes\n"
     ]
    },
    {
     "name": "stderr",
     "output_type": "stream",
     "text": [
      " 11%|█         | 107/1000 [00:28<05:19,  2.79it/s]"
     ]
    },
    {
     "name": "stdout",
     "output_type": "stream",
     "text": [
      "File: PMC29027.tar.gz size: 507486 bytes\n"
     ]
    },
    {
     "name": "stderr",
     "output_type": "stream",
     "text": [
      " 11%|█         | 107/1000 [00:31<05:19,  2.79it/s]"
     ]
    },
    {
     "name": "stdout",
     "output_type": "stream",
     "text": [
      "File: PMC29028.tar.gz size: 183269 bytes\n"
     ]
    },
    {
     "name": "stderr",
     "output_type": "stream",
     "text": [
      " 11%|█         | 107/1000 [00:34<05:19,  2.79it/s]"
     ]
    },
    {
     "name": "stdout",
     "output_type": "stream",
     "text": [
      "File: PMC29029.tar.gz size: 130195 bytes\n"
     ]
    },
    {
     "name": "stderr",
     "output_type": "stream",
     "text": [
      " 11%|█         | 107/1000 [00:37<05:19,  2.79it/s]"
     ]
    },
    {
     "name": "stdout",
     "output_type": "stream",
     "text": [
      "File: PMC29030.tar.gz size: 123349 bytes\n"
     ]
    },
    {
     "name": "stderr",
     "output_type": "stream",
     "text": [
      " 11%|█         | 107/1000 [00:40<05:19,  2.79it/s]"
     ]
    },
    {
     "name": "stdout",
     "output_type": "stream",
     "text": [
      "File: PMC29031.tar.gz size: 156027 bytes\n"
     ]
    },
    {
     "name": "stderr",
     "output_type": "stream",
     "text": [
      " 11%|█▏        | 113/1000 [00:42<11:03,  1.34it/s]"
     ]
    },
    {
     "name": "stdout",
     "output_type": "stream",
     "text": [
      "File: PMC29032.tar.gz size: 529817 bytes\n"
     ]
    },
    {
     "name": "stderr",
     "output_type": "stream",
     "text": [
      " 11%|█▏        | 114/1000 [00:47<13:13,  1.12it/s]"
     ]
    },
    {
     "name": "stdout",
     "output_type": "stream",
     "text": [
      "File: PMC29033.tar.gz size: 130269 bytes\n"
     ]
    },
    {
     "name": "stderr",
     "output_type": "stream",
     "text": [
      " 11%|█▏        | 114/1000 [00:51<13:13,  1.12it/s]"
     ]
    },
    {
     "name": "stdout",
     "output_type": "stream",
     "text": [
      "File: PMC29034.tar.gz size: 973127 bytes\n"
     ]
    },
    {
     "name": "stderr",
     "output_type": "stream",
     "text": [
      " 11%|█▏        | 114/1000 [00:54<13:13,  1.12it/s]"
     ]
    },
    {
     "name": "stdout",
     "output_type": "stream",
     "text": [
      "File: PMC29035.tar.gz size: 162805 bytes\n"
     ]
    },
    {
     "name": "stderr",
     "output_type": "stream",
     "text": [
      " 11%|█▏        | 114/1000 [00:57<13:13,  1.12it/s]"
     ]
    },
    {
     "name": "stdout",
     "output_type": "stream",
     "text": [
      "File: PMC29036.tar.gz size: 76983 bytes\n"
     ]
    },
    {
     "name": "stderr",
     "output_type": "stream",
     "text": [
      " 11%|█▏        | 114/1000 [01:00<13:13,  1.12it/s]"
     ]
    },
    {
     "name": "stdout",
     "output_type": "stream",
     "text": [
      "File: PMC29037.tar.gz size: 296808 bytes\n"
     ]
    },
    {
     "name": "stderr",
     "output_type": "stream",
     "text": [
      " 12%|█▏        | 119/1000 [01:03<19:28,  1.33s/it]"
     ]
    },
    {
     "name": "stdout",
     "output_type": "stream",
     "text": [
      "File: PMC29038.tar.gz size: 155293 bytes\n"
     ]
    },
    {
     "name": "stderr",
     "output_type": "stream",
     "text": [
      " 12%|█▏        | 120/1000 [01:06<20:37,  1.41s/it]"
     ]
    },
    {
     "name": "stdout",
     "output_type": "stream",
     "text": [
      "File: PMC29039.tar.gz size: 241936 bytes\n"
     ]
    },
    {
     "name": "stderr",
     "output_type": "stream",
     "text": [
      " 12%|█▏        | 120/1000 [01:09<20:37,  1.41s/it]"
     ]
    },
    {
     "name": "stdout",
     "output_type": "stream",
     "text": [
      "File: PMC29040.tar.gz size: 104901 bytes\n"
     ]
    },
    {
     "name": "stderr",
     "output_type": "stream",
     "text": [
      " 12%|█▏        | 120/1000 [01:11<20:37,  1.41s/it]"
     ]
    },
    {
     "name": "stdout",
     "output_type": "stream",
     "text": [
      "File: PMC29041.tar.gz size: 254252 bytes\n"
     ]
    },
    {
     "name": "stderr",
     "output_type": "stream",
     "text": [
      " 12%|█▏        | 123/1000 [01:15<25:05,  1.72s/it]"
     ]
    },
    {
     "name": "stdout",
     "output_type": "stream",
     "text": [
      "File: PMC29042.tar.gz size: 87616 bytes\n"
     ]
    },
    {
     "name": "stderr",
     "output_type": "stream",
     "text": [
      " 12%|█▏        | 123/1000 [01:17<25:05,  1.72s/it]"
     ]
    },
    {
     "name": "stdout",
     "output_type": "stream",
     "text": [
      "File: PMC29043.tar.gz size: 262087 bytes\n"
     ]
    },
    {
     "name": "stderr",
     "output_type": "stream",
     "text": [
      " 12%|█▎        | 125/1000 [01:21<27:45,  1.90s/it]"
     ]
    },
    {
     "name": "stdout",
     "output_type": "stream",
     "text": [
      "File: PMC29044.tar.gz size: 355962 bytes\n"
     ]
    },
    {
     "name": "stderr",
     "output_type": "stream",
     "text": [
      " 12%|█▎        | 125/1000 [01:24<27:45,  1.90s/it]"
     ]
    },
    {
     "name": "stdout",
     "output_type": "stream",
     "text": [
      "File: PMC29045.tar.gz size: 148569 bytes\n"
     ]
    },
    {
     "name": "stderr",
     "output_type": "stream",
     "text": [
      " 13%|█▎        | 127/1000 [01:27<30:42,  2.11s/it]"
     ]
    },
    {
     "name": "stdout",
     "output_type": "stream",
     "text": [
      "File: PMC29046.tar.gz size: 353735 bytes\n"
     ]
    },
    {
     "name": "stderr",
     "output_type": "stream",
     "text": [
      " 13%|█▎        | 128/1000 [01:30<32:28,  2.23s/it]"
     ]
    },
    {
     "name": "stdout",
     "output_type": "stream",
     "text": [
      "File: PMC29047.tar.gz size: 625848 bytes\n"
     ]
    },
    {
     "name": "stderr",
     "output_type": "stream",
     "text": [
      " 13%|█▎        | 129/1000 [01:33<34:35,  2.38s/it]"
     ]
    },
    {
     "name": "stdout",
     "output_type": "stream",
     "text": [
      "File: PMC29048.tar.gz size: 99832 bytes\n"
     ]
    },
    {
     "name": "stderr",
     "output_type": "stream",
     "text": [
      " 13%|█▎        | 130/1000 [01:36<35:46,  2.47s/it]"
     ]
    },
    {
     "name": "stdout",
     "output_type": "stream",
     "text": [
      "File: PMC29049.tar.gz size: 117362 bytes\n"
     ]
    },
    {
     "name": "stderr",
     "output_type": "stream",
     "text": [
      " 13%|█▎        | 131/1000 [01:39<36:49,  2.54s/it]"
     ]
    },
    {
     "name": "stdout",
     "output_type": "stream",
     "text": [
      "File: PMC29050.tar.gz size: 100734 bytes\n"
     ]
    },
    {
     "name": "stderr",
     "output_type": "stream",
     "text": [
      " 13%|█▎        | 132/1000 [01:42<37:24,  2.59s/it]"
     ]
    },
    {
     "name": "stdout",
     "output_type": "stream",
     "text": [
      "File: PMC29051.tar.gz size: 461359 bytes\n"
     ]
    },
    {
     "name": "stderr",
     "output_type": "stream",
     "text": [
      " 13%|█▎        | 133/1000 [01:45<39:46,  2.75s/it]"
     ]
    },
    {
     "name": "stdout",
     "output_type": "stream",
     "text": [
      "File: PMC29052.tar.gz size: 325144 bytes\n"
     ]
    },
    {
     "name": "stderr",
     "output_type": "stream",
     "text": [
      " 13%|█▎        | 134/1000 [01:48<41:03,  2.84s/it]"
     ]
    },
    {
     "name": "stdout",
     "output_type": "stream",
     "text": [
      "File: PMC29053.tar.gz size: 180577 bytes\n"
     ]
    },
    {
     "name": "stderr",
     "output_type": "stream",
     "text": [
      " 14%|█▎        | 135/1000 [01:51<41:03,  2.85s/it]"
     ]
    },
    {
     "name": "stdout",
     "output_type": "stream",
     "text": [
      "File: PMC29054.tar.gz size: 230267 bytes\n"
     ]
    },
    {
     "name": "stderr",
     "output_type": "stream",
     "text": [
      " 14%|█▎        | 136/1000 [01:54<41:57,  2.91s/it]"
     ]
    },
    {
     "name": "stdout",
     "output_type": "stream",
     "text": [
      "File: PMC29055.tar.gz size: 82444 bytes\n"
     ]
    },
    {
     "name": "stderr",
     "output_type": "stream",
     "text": [
      " 14%|█▎        | 137/1000 [01:57<40:28,  2.81s/it]"
     ]
    },
    {
     "name": "stdout",
     "output_type": "stream",
     "text": [
      "File: PMC29056.tar.gz size: 259643 bytes\n"
     ]
    },
    {
     "name": "stderr",
     "output_type": "stream",
     "text": [
      " 14%|█▍        | 138/1000 [02:00<41:29,  2.89s/it]"
     ]
    },
    {
     "name": "stdout",
     "output_type": "stream",
     "text": [
      "File: PMC29057.tar.gz size: 2133649 bytes\n"
     ]
    },
    {
     "name": "stderr",
     "output_type": "stream",
     "text": [
      " 14%|█▍        | 139/1000 [02:04<45:46,  3.19s/it]"
     ]
    },
    {
     "name": "stdout",
     "output_type": "stream",
     "text": [
      "File: PMC29058.tar.gz size: 1304706 bytes\n"
     ]
    },
    {
     "name": "stderr",
     "output_type": "stream",
     "text": [
      " 14%|█▍        | 140/1000 [02:07<47:17,  3.30s/it]"
     ]
    },
    {
     "name": "stdout",
     "output_type": "stream",
     "text": [
      "File: PMC29059.tar.gz size: 393415 bytes\n"
     ]
    },
    {
     "name": "stderr",
     "output_type": "stream",
     "text": [
      " 14%|█▍        | 141/1000 [02:11<48:05,  3.36s/it]"
     ]
    },
    {
     "name": "stdout",
     "output_type": "stream",
     "text": [
      "File: PMC29061.tar.gz size: 434742 bytes\n"
     ]
    },
    {
     "name": "stderr",
     "output_type": "stream",
     "text": [
      " 14%|█▍        | 142/1000 [02:14<47:35,  3.33s/it]"
     ]
    },
    {
     "name": "stdout",
     "output_type": "stream",
     "text": [
      "File: PMC29062.tar.gz size: 9714661 bytes\n"
     ]
    },
    {
     "name": "stderr",
     "output_type": "stream",
     "text": [
      " 14%|█▍        | 143/1000 [02:23<1:11:20,  4.99s/it]"
     ]
    },
    {
     "name": "stdout",
     "output_type": "stream",
     "text": [
      "File: PMC29063.tar.gz size: 1335454 bytes\n"
     ]
    },
    {
     "name": "stderr",
     "output_type": "stream",
     "text": [
      " 14%|█▍        | 144/1000 [02:27<1:06:04,  4.63s/it]"
     ]
    },
    {
     "name": "stdout",
     "output_type": "stream",
     "text": [
      "File: PMC29064.tar.gz size: 449007 bytes\n"
     ]
    },
    {
     "name": "stderr",
     "output_type": "stream",
     "text": [
      " 14%|█▍        | 145/1000 [02:30<1:01:21,  4.31s/it]"
     ]
    },
    {
     "name": "stdout",
     "output_type": "stream",
     "text": [
      "File: PMC29065.tar.gz size: 777609 bytes\n"
     ]
    },
    {
     "name": "stderr",
     "output_type": "stream",
     "text": [
      " 15%|█▍        | 146/1000 [02:34<58:13,  4.09s/it]  "
     ]
    },
    {
     "name": "stdout",
     "output_type": "stream",
     "text": [
      "File: PMC29066.tar.gz size: 746487 bytes\n"
     ]
    },
    {
     "name": "stderr",
     "output_type": "stream",
     "text": [
      " 15%|█▍        | 147/1000 [02:37<55:58,  3.94s/it]"
     ]
    },
    {
     "name": "stdout",
     "output_type": "stream",
     "text": [
      "File: PMC29067.tar.gz size: 1512957 bytes\n"
     ]
    },
    {
     "name": "stderr",
     "output_type": "stream",
     "text": [
      " 15%|█▍        | 148/1000 [02:42<57:16,  4.03s/it]"
     ]
    },
    {
     "name": "stdout",
     "output_type": "stream",
     "text": [
      "File: PMC29068.tar.gz size: 1647371 bytes\n"
     ]
    },
    {
     "name": "stderr",
     "output_type": "stream",
     "text": [
      " 15%|█▍        | 149/1000 [02:45<56:13,  3.96s/it]"
     ]
    },
    {
     "name": "stdout",
     "output_type": "stream",
     "text": [
      "File: PMC29069.tar.gz size: 3187499 bytes\n"
     ]
    },
    {
     "name": "stderr",
     "output_type": "stream",
     "text": [
      " 15%|█▌        | 150/1000 [02:50<56:32,  3.99s/it]"
     ]
    },
    {
     "name": "stdout",
     "output_type": "stream",
     "text": [
      "File: PMC29073.tar.gz size: 426761 bytes\n"
     ]
    },
    {
     "name": "stderr",
     "output_type": "stream",
     "text": [
      " 15%|█▌        | 151/1000 [02:53<53:35,  3.79s/it]"
     ]
    },
    {
     "name": "stdout",
     "output_type": "stream",
     "text": [
      "File: PMC29074.tar.gz size: 363652 bytes\n"
     ]
    },
    {
     "name": "stderr",
     "output_type": "stream",
     "text": [
      " 15%|█▌        | 152/1000 [02:56<51:47,  3.66s/it]"
     ]
    },
    {
     "name": "stdout",
     "output_type": "stream",
     "text": [
      "File: PMC29075.tar.gz size: 195170 bytes\n"
     ]
    },
    {
     "name": "stderr",
     "output_type": "stream",
     "text": [
      " 15%|█▌        | 153/1000 [02:59<48:01,  3.40s/it]"
     ]
    },
    {
     "name": "stdout",
     "output_type": "stream",
     "text": [
      "File: PMC29076.tar.gz size: 482881 bytes\n"
     ]
    },
    {
     "name": "stderr",
     "output_type": "stream",
     "text": [
      " 15%|█▌        | 154/1000 [03:02<47:46,  3.39s/it]"
     ]
    },
    {
     "name": "stdout",
     "output_type": "stream",
     "text": [
      "File: PMC29077.tar.gz size: 744234 bytes\n"
     ]
    },
    {
     "name": "stderr",
     "output_type": "stream",
     "text": [
      " 16%|█▌        | 155/1000 [03:06<48:10,  3.42s/it]"
     ]
    },
    {
     "name": "stdout",
     "output_type": "stream",
     "text": [
      "File: PMC29078.tar.gz size: 223931 bytes\n"
     ]
    },
    {
     "name": "stderr",
     "output_type": "stream",
     "text": [
      " 16%|█▌        | 156/1000 [03:09<46:35,  3.31s/it]"
     ]
    },
    {
     "name": "stdout",
     "output_type": "stream",
     "text": [
      "File: PMC29079.tar.gz size: 243844 bytes\n"
     ]
    },
    {
     "name": "stderr",
     "output_type": "stream",
     "text": [
      " 16%|█▌        | 157/1000 [03:12<45:39,  3.25s/it]"
     ]
    },
    {
     "name": "stdout",
     "output_type": "stream",
     "text": [
      "File: PMC29080.tar.gz size: 4096984 bytes\n"
     ]
    },
    {
     "name": "stderr",
     "output_type": "stream",
     "text": [
      " 16%|█▌        | 158/1000 [03:16<50:05,  3.57s/it]"
     ]
    },
    {
     "name": "stdout",
     "output_type": "stream",
     "text": [
      "File: PMC29081.tar.gz size: 1548550 bytes\n"
     ]
    },
    {
     "name": "stderr",
     "output_type": "stream",
     "text": [
      " 16%|█▌        | 159/1000 [03:21<53:22,  3.81s/it]"
     ]
    },
    {
     "name": "stdout",
     "output_type": "stream",
     "text": [
      "File: PMC29082.tar.gz size: 2124615 bytes\n"
     ]
    },
    {
     "name": "stderr",
     "output_type": "stream",
     "text": [
      " 16%|█▌        | 160/1000 [03:25<53:16,  3.81s/it]"
     ]
    },
    {
     "name": "stdout",
     "output_type": "stream",
     "text": [
      "File: PMC29083.tar.gz size: 795041 bytes\n"
     ]
    },
    {
     "name": "stderr",
     "output_type": "stream",
     "text": [
      " 16%|█▌        | 161/1000 [03:28<52:22,  3.75s/it]"
     ]
    },
    {
     "name": "stdout",
     "output_type": "stream",
     "text": [
      "File: PMC29084.tar.gz size: 2971615 bytes\n"
     ]
    },
    {
     "name": "stderr",
     "output_type": "stream",
     "text": [
      " 16%|█▌        | 162/1000 [03:32<53:16,  3.81s/it]"
     ]
    },
    {
     "name": "stdout",
     "output_type": "stream",
     "text": [
      "File: PMC29085.tar.gz size: 205418 bytes\n"
     ]
    },
    {
     "name": "stderr",
     "output_type": "stream",
     "text": [
      " 16%|█▋        | 163/1000 [03:35<49:13,  3.53s/it]"
     ]
    },
    {
     "name": "stdout",
     "output_type": "stream",
     "text": [
      "File: PMC29086.tar.gz size: 1143531 bytes\n"
     ]
    },
    {
     "name": "stderr",
     "output_type": "stream",
     "text": [
      " 16%|█▋        | 164/1000 [03:39<50:07,  3.60s/it]"
     ]
    },
    {
     "name": "stdout",
     "output_type": "stream",
     "text": [
      "File: PMC29087.tar.gz size: 988570 bytes\n"
     ]
    },
    {
     "name": "stderr",
     "output_type": "stream",
     "text": [
      " 16%|█▋        | 165/1000 [03:42<50:10,  3.61s/it]"
     ]
    },
    {
     "name": "stdout",
     "output_type": "stream",
     "text": [
      "File: PMC29088.tar.gz size: 2075197 bytes\n"
     ]
    },
    {
     "name": "stderr",
     "output_type": "stream",
     "text": [
      " 17%|█▋        | 166/1000 [03:47<53:19,  3.84s/it]"
     ]
    },
    {
     "name": "stdout",
     "output_type": "stream",
     "text": [
      "File: PMC29089.tar.gz size: 191702 bytes\n"
     ]
    },
    {
     "name": "stderr",
     "output_type": "stream",
     "text": [
      " 17%|█▋        | 167/1000 [03:50<52:01,  3.75s/it]"
     ]
    },
    {
     "name": "stdout",
     "output_type": "stream",
     "text": [
      "File: PMC29090.tar.gz size: 488327 bytes\n"
     ]
    },
    {
     "name": "stderr",
     "output_type": "stream",
     "text": [
      " 17%|█▋        | 168/1000 [03:54<50:11,  3.62s/it]"
     ]
    },
    {
     "name": "stdout",
     "output_type": "stream",
     "text": [
      "File: PMC29091.tar.gz size: 3514574 bytes\n"
     ]
    },
    {
     "name": "stderr",
     "output_type": "stream",
     "text": [
      " 17%|█▋        | 169/1000 [03:58<51:48,  3.74s/it]"
     ]
    },
    {
     "name": "stdout",
     "output_type": "stream",
     "text": [
      "File: PMC29092.tar.gz size: 309299 bytes\n"
     ]
    },
    {
     "name": "stderr",
     "output_type": "stream",
     "text": [
      " 17%|█▋        | 170/1000 [04:01<49:03,  3.55s/it]"
     ]
    },
    {
     "name": "stdout",
     "output_type": "stream",
     "text": [
      "File: PMC29093.tar.gz size: 114106 bytes\n"
     ]
    },
    {
     "name": "stderr",
     "output_type": "stream",
     "text": [
      " 17%|█▋        | 171/1000 [04:04<45:56,  3.32s/it]"
     ]
    },
    {
     "name": "stdout",
     "output_type": "stream",
     "text": [
      "File: PMC29094.tar.gz size: 132510 bytes\n"
     ]
    },
    {
     "name": "stderr",
     "output_type": "stream",
     "text": [
      " 17%|█▋        | 172/1000 [04:06<44:11,  3.20s/it]"
     ]
    },
    {
     "name": "stdout",
     "output_type": "stream",
     "text": [
      "File: PMC29095.tar.gz size: 205902 bytes\n"
     ]
    },
    {
     "name": "stderr",
     "output_type": "stream",
     "text": [
      " 17%|█▋        | 173/1000 [04:09<42:21,  3.07s/it]"
     ]
    },
    {
     "name": "stdout",
     "output_type": "stream",
     "text": [
      "File: PMC29096.tar.gz size: 271490 bytes\n"
     ]
    },
    {
     "name": "stderr",
     "output_type": "stream",
     "text": [
      " 17%|█▋        | 174/1000 [04:12<43:19,  3.15s/it]"
     ]
    },
    {
     "name": "stdout",
     "output_type": "stream",
     "text": [
      "File: PMC29097.tar.gz size: 651512 bytes\n"
     ]
    },
    {
     "name": "stderr",
     "output_type": "stream",
     "text": [
      " 18%|█▊        | 175/1000 [04:16<43:47,  3.18s/it]"
     ]
    },
    {
     "name": "stdout",
     "output_type": "stream",
     "text": [
      "File: PMC29098.tar.gz size: 177625 bytes\n"
     ]
    },
    {
     "name": "stderr",
     "output_type": "stream",
     "text": [
      " 18%|█▊        | 176/1000 [04:19<42:26,  3.09s/it]"
     ]
    },
    {
     "name": "stdout",
     "output_type": "stream",
     "text": [
      "File: PMC29099.tar.gz size: 948877 bytes\n"
     ]
    },
    {
     "name": "stderr",
     "output_type": "stream",
     "text": [
      " 18%|█▊        | 177/1000 [04:25<55:39,  4.06s/it]"
     ]
    },
    {
     "name": "stdout",
     "output_type": "stream",
     "text": [
      "File: PMC29100.tar.gz size: 718340 bytes\n"
     ]
    },
    {
     "name": "stderr",
     "output_type": "stream",
     "text": [
      " 18%|█▊        | 178/1000 [04:28<53:21,  3.90s/it]"
     ]
    },
    {
     "name": "stdout",
     "output_type": "stream",
     "text": [
      "File: PMC29101.tar.gz size: 2065030 bytes\n"
     ]
    },
    {
     "name": "stderr",
     "output_type": "stream",
     "text": [
      " 18%|█▊        | 179/1000 [04:32<53:20,  3.90s/it]"
     ]
    },
    {
     "name": "stdout",
     "output_type": "stream",
     "text": [
      "File: PMC29102.tar.gz size: 1746792 bytes\n"
     ]
    },
    {
     "name": "stderr",
     "output_type": "stream",
     "text": [
      " 18%|█▊        | 180/1000 [04:36<53:05,  3.88s/it]"
     ]
    },
    {
     "name": "stdout",
     "output_type": "stream",
     "text": [
      "File: PMC29103.tar.gz size: 3521351 bytes\n"
     ]
    },
    {
     "name": "stderr",
     "output_type": "stream",
     "text": [
      " 18%|█▊        | 181/1000 [04:41<55:58,  4.10s/it]"
     ]
    },
    {
     "name": "stdout",
     "output_type": "stream",
     "text": [
      "File: PMC29104.tar.gz size: 273214 bytes\n"
     ]
    },
    {
     "name": "stderr",
     "output_type": "stream",
     "text": [
      " 18%|█▊        | 182/1000 [04:44<51:33,  3.78s/it]"
     ]
    },
    {
     "name": "stdout",
     "output_type": "stream",
     "text": [
      "File: PMC29105.tar.gz size: 163207 bytes\n"
     ]
    },
    {
     "name": "stderr",
     "output_type": "stream",
     "text": [
      " 18%|█▊        | 183/1000 [04:47<47:42,  3.50s/it]"
     ]
    },
    {
     "name": "stdout",
     "output_type": "stream",
     "text": [
      "File: PMC29106.tar.gz size: 147069 bytes\n"
     ]
    },
    {
     "name": "stderr",
     "output_type": "stream",
     "text": [
      " 18%|█▊        | 184/1000 [04:50<44:46,  3.29s/it]"
     ]
    },
    {
     "name": "stdout",
     "output_type": "stream",
     "text": [
      "File: PMC29715.tar.gz size: 354197 bytes\n"
     ]
    },
    {
     "name": "stderr",
     "output_type": "stream",
     "text": [
      " 18%|█▊        | 185/1000 [04:53<45:05,  3.32s/it]"
     ]
    },
    {
     "name": "stdout",
     "output_type": "stream",
     "text": [
      "File: PMC29831.tar.gz size: 333570 bytes\n"
     ]
    },
    {
     "name": "stderr",
     "output_type": "stream",
     "text": [
      " 19%|█▊        | 186/1000 [04:56<43:59,  3.24s/it]"
     ]
    },
    {
     "name": "stdout",
     "output_type": "stream",
     "text": [
      "File: PMC30703.tar.gz size: 824064 bytes\n"
     ]
    },
    {
     "name": "stderr",
     "output_type": "stream",
     "text": [
      " 19%|█▊        | 187/1000 [04:59<44:58,  3.32s/it]"
     ]
    },
    {
     "name": "stdout",
     "output_type": "stream",
     "text": [
      "File: PMC30704.tar.gz size: 520891 bytes\n"
     ]
    },
    {
     "name": "stderr",
     "output_type": "stream",
     "text": [
      " 19%|█▉        | 188/1000 [05:04<48:14,  3.56s/it]"
     ]
    },
    {
     "name": "stdout",
     "output_type": "stream",
     "text": [
      "File: PMC30705.tar.gz size: 577427 bytes\n"
     ]
    },
    {
     "name": "stderr",
     "output_type": "stream",
     "text": [
      " 19%|█▉        | 189/1000 [05:07<47:20,  3.50s/it]"
     ]
    },
    {
     "name": "stdout",
     "output_type": "stream",
     "text": [
      "File: PMC30706.tar.gz size: 1604972 bytes\n"
     ]
    },
    {
     "name": "stderr",
     "output_type": "stream",
     "text": [
      " 19%|█▉        | 190/1000 [05:11<48:58,  3.63s/it]"
     ]
    },
    {
     "name": "stdout",
     "output_type": "stream",
     "text": [
      "File: PMC30707.tar.gz size: 191532 bytes\n"
     ]
    },
    {
     "name": "stderr",
     "output_type": "stream",
     "text": [
      " 19%|█▉        | 191/1000 [05:14<45:29,  3.37s/it]"
     ]
    },
    {
     "name": "stdout",
     "output_type": "stream",
     "text": [
      "File: PMC30708.tar.gz size: 592037 bytes\n"
     ]
    },
    {
     "name": "stderr",
     "output_type": "stream",
     "text": [
      " 19%|█▉        | 192/1000 [05:17<45:20,  3.37s/it]"
     ]
    },
    {
     "name": "stdout",
     "output_type": "stream",
     "text": [
      "File: PMC30709.tar.gz size: 870054 bytes\n"
     ]
    },
    {
     "name": "stderr",
     "output_type": "stream",
     "text": [
      " 19%|█▉        | 193/1000 [05:21<45:59,  3.42s/it]"
     ]
    },
    {
     "name": "stdout",
     "output_type": "stream",
     "text": [
      "File: PMC30710.tar.gz size: 187712 bytes\n"
     ]
    },
    {
     "name": "stderr",
     "output_type": "stream",
     "text": [
      " 19%|█▉        | 194/1000 [05:23<43:19,  3.22s/it]"
     ]
    },
    {
     "name": "stdout",
     "output_type": "stream",
     "text": [
      "File: PMC30711.tar.gz size: 468206 bytes\n"
     ]
    },
    {
     "name": "stderr",
     "output_type": "stream",
     "text": [
      " 20%|█▉        | 195/1000 [05:27<43:54,  3.27s/it]"
     ]
    },
    {
     "name": "stdout",
     "output_type": "stream",
     "text": [
      "File: PMC30712.tar.gz size: 915004 bytes\n"
     ]
    },
    {
     "name": "stderr",
     "output_type": "stream",
     "text": [
      " 20%|█▉        | 196/1000 [05:33<55:49,  4.17s/it]"
     ]
    },
    {
     "name": "stdout",
     "output_type": "stream",
     "text": [
      "File: PMC30713.tar.gz size: 202743 bytes\n"
     ]
    },
    {
     "name": "stderr",
     "output_type": "stream",
     "text": [
      " 20%|█▉        | 197/1000 [05:36<50:23,  3.77s/it]"
     ]
    },
    {
     "name": "stdout",
     "output_type": "stream",
     "text": [
      "File: PMC30714.tar.gz size: 958245 bytes\n"
     ]
    },
    {
     "name": "stderr",
     "output_type": "stream",
     "text": [
      " 20%|█▉        | 198/1000 [05:39<49:34,  3.71s/it]"
     ]
    },
    {
     "name": "stdout",
     "output_type": "stream",
     "text": [
      "File: PMC30715.tar.gz size: 206280 bytes\n"
     ]
    },
    {
     "name": "stderr",
     "output_type": "stream",
     "text": [
      " 20%|█▉        | 199/1000 [05:42<46:41,  3.50s/it]"
     ]
    },
    {
     "name": "stdout",
     "output_type": "stream",
     "text": [
      "File: PMC30938.tar.gz size: 94144 bytes\n"
     ]
    },
    {
     "name": "stderr",
     "output_type": "stream",
     "text": [
      " 20%|██        | 200/1000 [05:45<43:03,  3.23s/it]"
     ]
    },
    {
     "name": "stdout",
     "output_type": "stream",
     "text": [
      "File: PMC30939.tar.gz size: 401776 bytes\n"
     ]
    },
    {
     "name": "stderr",
     "output_type": "stream",
     "text": [
      " 20%|██        | 201/1000 [05:48<43:03,  3.23s/it]"
     ]
    },
    {
     "name": "stdout",
     "output_type": "stream",
     "text": [
      "File: PMC31329.tar.gz size: 251177 bytes\n"
     ]
    },
    {
     "name": "stderr",
     "output_type": "stream",
     "text": [
      " 20%|██        | 202/1000 [05:51<42:02,  3.16s/it]"
     ]
    },
    {
     "name": "stdout",
     "output_type": "stream",
     "text": [
      "File: PMC31330.tar.gz size: 702513 bytes\n"
     ]
    },
    {
     "name": "stderr",
     "output_type": "stream",
     "text": [
      " 20%|██        | 203/1000 [05:55<43:05,  3.24s/it]"
     ]
    },
    {
     "name": "stdout",
     "output_type": "stream",
     "text": [
      "File: PMC31331.tar.gz size: 378741 bytes\n"
     ]
    },
    {
     "name": "stderr",
     "output_type": "stream",
     "text": [
      " 20%|██        | 204/1000 [05:59<43:25,  3.27s/it]"
     ]
    },
    {
     "name": "stdout",
     "output_type": "stream",
     "text": [
      "File: PMC31332.tar.gz size: 466663 bytes\n"
     ]
    },
    {
     "name": "stderr",
     "output_type": "stream",
     "text": [
      " 20%|██        | 205/1000 [06:04<54:45,  4.13s/it]"
     ]
    },
    {
     "name": "stdout",
     "output_type": "stream",
     "text": [
      "File: PMC31333.tar.gz size: 648339 bytes\n"
     ]
    },
    {
     "name": "stderr",
     "output_type": "stream",
     "text": [
      " 21%|██        | 206/1000 [06:07<51:30,  3.89s/it]"
     ]
    },
    {
     "name": "stdout",
     "output_type": "stream",
     "text": [
      "File: PMC31334.tar.gz size: 461990 bytes\n"
     ]
    },
    {
     "name": "stderr",
     "output_type": "stream",
     "text": [
      " 21%|██        | 207/1000 [06:11<49:52,  3.77s/it]"
     ]
    },
    {
     "name": "stdout",
     "output_type": "stream",
     "text": [
      "File: PMC31335.tar.gz size: 701495 bytes\n"
     ]
    },
    {
     "name": "stderr",
     "output_type": "stream",
     "text": [
      " 21%|██        | 208/1000 [06:15<49:05,  3.72s/it]"
     ]
    },
    {
     "name": "stdout",
     "output_type": "stream",
     "text": [
      "File: PMC31336.tar.gz size: 2243517 bytes\n"
     ]
    },
    {
     "name": "stderr",
     "output_type": "stream",
     "text": [
      " 21%|██        | 209/1000 [06:19<50:49,  3.85s/it]"
     ]
    },
    {
     "name": "stdout",
     "output_type": "stream",
     "text": [
      "File: PMC31337.tar.gz size: 12890446 bytes\n"
     ]
    },
    {
     "name": "stderr",
     "output_type": "stream",
     "text": [
      " 21%|██        | 210/1000 [06:25<59:58,  4.56s/it]"
     ]
    },
    {
     "name": "stdout",
     "output_type": "stream",
     "text": [
      "File: PMC31338.tar.gz size: 2349354 bytes\n"
     ]
    },
    {
     "name": "stderr",
     "output_type": "stream",
     "text": [
      " 21%|██        | 211/1000 [06:29<57:47,  4.39s/it]"
     ]
    },
    {
     "name": "stdout",
     "output_type": "stream",
     "text": [
      "File: PMC31339.tar.gz size: 3156910 bytes\n"
     ]
    },
    {
     "name": "stderr",
     "output_type": "stream",
     "text": [
      " 21%|██        | 212/1000 [06:33<56:36,  4.31s/it]"
     ]
    },
    {
     "name": "stdout",
     "output_type": "stream",
     "text": [
      "File: PMC31340.tar.gz size: 3058005 bytes\n"
     ]
    },
    {
     "name": "stderr",
     "output_type": "stream",
     "text": [
      " 21%|██▏       | 213/1000 [06:37<55:52,  4.26s/it]"
     ]
    },
    {
     "name": "stdout",
     "output_type": "stream",
     "text": [
      "File: PMC31341.tar.gz size: 1554549 bytes\n"
     ]
    },
    {
     "name": "stderr",
     "output_type": "stream",
     "text": [
      " 21%|██▏       | 214/1000 [06:41<53:28,  4.08s/it]"
     ]
    },
    {
     "name": "stdout",
     "output_type": "stream",
     "text": [
      "File: PMC31342.tar.gz size: 4742938 bytes\n"
     ]
    },
    {
     "name": "stderr",
     "output_type": "stream",
     "text": [
      " 22%|██▏       | 215/1000 [06:45<53:51,  4.12s/it]"
     ]
    },
    {
     "name": "stdout",
     "output_type": "stream",
     "text": [
      "File: PMC31343.tar.gz size: 530970 bytes\n"
     ]
    },
    {
     "name": "stderr",
     "output_type": "stream",
     "text": [
      " 22%|██▏       | 216/1000 [06:49<54:28,  4.17s/it]"
     ]
    },
    {
     "name": "stdout",
     "output_type": "stream",
     "text": [
      "File: PMC31344.tar.gz size: 1369917 bytes\n"
     ]
    },
    {
     "name": "stderr",
     "output_type": "stream",
     "text": [
      " 22%|██▏       | 217/1000 [06:54<54:39,  4.19s/it]"
     ]
    },
    {
     "name": "stdout",
     "output_type": "stream",
     "text": [
      "File: PMC31345.tar.gz size: 141846 bytes\n"
     ]
    },
    {
     "name": "stderr",
     "output_type": "stream",
     "text": [
      " 22%|██▏       | 218/1000 [06:57<49:50,  3.82s/it]"
     ]
    },
    {
     "name": "stdout",
     "output_type": "stream",
     "text": [
      "File: PMC31346.tar.gz size: 184510 bytes\n"
     ]
    },
    {
     "name": "stderr",
     "output_type": "stream",
     "text": [
      " 22%|██▏       | 219/1000 [07:00<47:21,  3.64s/it]"
     ]
    },
    {
     "name": "stdout",
     "output_type": "stream",
     "text": [
      "File: PMC31347.tar.gz size: 1001887 bytes\n"
     ]
    },
    {
     "name": "stderr",
     "output_type": "stream",
     "text": [
      " 22%|██▏       | 220/1000 [07:03<46:52,  3.61s/it]"
     ]
    },
    {
     "name": "stdout",
     "output_type": "stream",
     "text": [
      "File: PMC31348.tar.gz size: 137804 bytes\n"
     ]
    },
    {
     "name": "stderr",
     "output_type": "stream",
     "text": [
      " 22%|██▏       | 221/1000 [07:06<43:41,  3.36s/it]"
     ]
    },
    {
     "name": "stdout",
     "output_type": "stream",
     "text": [
      "File: PMC31349.tar.gz size: 2253560 bytes\n"
     ]
    },
    {
     "name": "stderr",
     "output_type": "stream",
     "text": [
      " 22%|██▏       | 222/1000 [07:10<45:05,  3.48s/it]"
     ]
    },
    {
     "name": "stdout",
     "output_type": "stream",
     "text": [
      "File: PMC31370.tar.gz size: 3938661 bytes\n"
     ]
    },
    {
     "name": "stderr",
     "output_type": "stream",
     "text": [
      " 22%|██▏       | 223/1000 [07:14<47:17,  3.65s/it]"
     ]
    },
    {
     "name": "stdout",
     "output_type": "stream",
     "text": [
      "File: PMC31388.tar.gz size: 285642 bytes\n"
     ]
    },
    {
     "name": "stderr",
     "output_type": "stream",
     "text": [
      " 22%|██▏       | 224/1000 [07:17<44:45,  3.46s/it]"
     ]
    },
    {
     "name": "stdout",
     "output_type": "stream",
     "text": [
      "File: PMC31389.tar.gz size: 1507772 bytes\n"
     ]
    },
    {
     "name": "stderr",
     "output_type": "stream",
     "text": [
      " 22%|██▎       | 225/1000 [07:21<46:21,  3.59s/it]"
     ]
    },
    {
     "name": "stdout",
     "output_type": "stream",
     "text": [
      "File: PMC31411.tar.gz size: 2648284 bytes\n"
     ]
    },
    {
     "name": "stderr",
     "output_type": "stream",
     "text": [
      " 23%|██▎       | 226/1000 [07:25<47:15,  3.66s/it]"
     ]
    },
    {
     "name": "stdout",
     "output_type": "stream",
     "text": [
      "File: PMC31412.tar.gz size: 238585 bytes\n"
     ]
    },
    {
     "name": "stderr",
     "output_type": "stream",
     "text": [
      " 23%|██▎       | 227/1000 [07:28<44:39,  3.47s/it]"
     ]
    },
    {
     "name": "stdout",
     "output_type": "stream",
     "text": [
      "File: PMC31413.tar.gz size: 6733707 bytes\n"
     ]
    },
    {
     "name": "stderr",
     "output_type": "stream",
     "text": [
      " 23%|██▎       | 228/1000 [07:32<48:45,  3.79s/it]"
     ]
    },
    {
     "name": "stdout",
     "output_type": "stream",
     "text": [
      "File: PMC31431.tar.gz size: 553990 bytes\n"
     ]
    },
    {
     "name": "stderr",
     "output_type": "stream",
     "text": [
      " 23%|██▎       | 229/1000 [07:36<48:55,  3.81s/it]"
     ]
    },
    {
     "name": "stdout",
     "output_type": "stream",
     "text": [
      "File: PMC31432.tar.gz size: 795835 bytes\n"
     ]
    },
    {
     "name": "stderr",
     "output_type": "stream",
     "text": [
      " 23%|██▎       | 230/1000 [07:40<47:45,  3.72s/it]"
     ]
    },
    {
     "name": "stdout",
     "output_type": "stream",
     "text": [
      "File: PMC31433.tar.gz size: 2440649 bytes\n"
     ]
    },
    {
     "name": "stderr",
     "output_type": "stream",
     "text": [
      " 23%|██▎       | 231/1000 [07:43<47:54,  3.74s/it]"
     ]
    },
    {
     "name": "stdout",
     "output_type": "stream",
     "text": [
      "File: PMC31434.tar.gz size: 1732410 bytes\n"
     ]
    },
    {
     "name": "stderr",
     "output_type": "stream",
     "text": [
      " 23%|██▎       | 232/1000 [07:48<50:14,  3.93s/it]"
     ]
    },
    {
     "name": "stdout",
     "output_type": "stream",
     "text": [
      "File: PMC31435.tar.gz size: 186714 bytes\n"
     ]
    },
    {
     "name": "stderr",
     "output_type": "stream",
     "text": [
      " 23%|██▎       | 233/1000 [07:50<45:35,  3.57s/it]"
     ]
    },
    {
     "name": "stdout",
     "output_type": "stream",
     "text": [
      "File: PMC31479.tar.gz size: 1255747 bytes\n"
     ]
    },
    {
     "name": "stderr",
     "output_type": "stream",
     "text": [
      " 23%|██▎       | 234/1000 [07:54<45:29,  3.56s/it]"
     ]
    },
    {
     "name": "stdout",
     "output_type": "stream",
     "text": [
      "File: PMC31480.tar.gz size: 798572 bytes\n"
     ]
    },
    {
     "name": "stderr",
     "output_type": "stream",
     "text": [
      " 24%|██▎       | 235/1000 [07:58<45:19,  3.55s/it]"
     ]
    },
    {
     "name": "stdout",
     "output_type": "stream",
     "text": [
      "File: PMC31481.tar.gz size: 451485 bytes\n"
     ]
    },
    {
     "name": "stderr",
     "output_type": "stream",
     "text": [
      " 24%|██▎       | 236/1000 [08:01<44:09,  3.47s/it]"
     ]
    },
    {
     "name": "stdout",
     "output_type": "stream",
     "text": [
      "File: PMC31482.tar.gz size: 248959 bytes\n"
     ]
    },
    {
     "name": "stderr",
     "output_type": "stream",
     "text": [
      " 24%|██▎       | 237/1000 [08:04<42:19,  3.33s/it]"
     ]
    },
    {
     "name": "stdout",
     "output_type": "stream",
     "text": [
      "File: PMC31483.tar.gz size: 2041320 bytes\n"
     ]
    },
    {
     "name": "stderr",
     "output_type": "stream",
     "text": [
      " 24%|██▍       | 238/1000 [08:08<44:03,  3.47s/it]"
     ]
    },
    {
     "name": "stdout",
     "output_type": "stream",
     "text": [
      "File: PMC31577.tar.gz size: 2544333 bytes\n"
     ]
    },
    {
     "name": "stderr",
     "output_type": "stream",
     "text": [
      " 24%|██▍       | 239/1000 [08:15<59:00,  4.65s/it]"
     ]
    },
    {
     "name": "stdout",
     "output_type": "stream",
     "text": [
      "File: PMC31578.tar.gz size: 967357 bytes\n"
     ]
    },
    {
     "name": "stderr",
     "output_type": "stream",
     "text": [
      " 24%|██▍       | 240/1000 [08:19<54:44,  4.32s/it]"
     ]
    },
    {
     "name": "stdout",
     "output_type": "stream",
     "text": [
      "File: PMC31579.tar.gz size: 195120 bytes\n"
     ]
    },
    {
     "name": "stderr",
     "output_type": "stream",
     "text": [
      " 24%|██▍       | 241/1000 [08:21<48:59,  3.87s/it]"
     ]
    },
    {
     "name": "stdout",
     "output_type": "stream",
     "text": [
      "File: PMC31580.tar.gz size: 363100 bytes\n"
     ]
    },
    {
     "name": "stderr",
     "output_type": "stream",
     "text": [
      " 24%|██▍       | 242/1000 [08:25<47:53,  3.79s/it]"
     ]
    },
    {
     "name": "stdout",
     "output_type": "stream",
     "text": [
      "File: PMC31581.tar.gz size: 239573 bytes\n"
     ]
    },
    {
     "name": "stderr",
     "output_type": "stream",
     "text": [
      " 24%|██▍       | 243/1000 [08:28<45:19,  3.59s/it]"
     ]
    },
    {
     "name": "stdout",
     "output_type": "stream",
     "text": [
      "File: PMC31582.tar.gz size: 141365 bytes\n"
     ]
    },
    {
     "name": "stderr",
     "output_type": "stream",
     "text": [
      " 24%|██▍       | 244/1000 [08:31<42:00,  3.33s/it]"
     ]
    },
    {
     "name": "stdout",
     "output_type": "stream",
     "text": [
      "File: PMC31918.tar.gz size: 395328 bytes\n"
     ]
    },
    {
     "name": "stderr",
     "output_type": "stream",
     "text": [
      " 24%|██▍       | 245/1000 [08:34<41:42,  3.32s/it]"
     ]
    },
    {
     "name": "stdout",
     "output_type": "stream",
     "text": [
      "File: PMC31919.tar.gz size: 228461 bytes\n"
     ]
    },
    {
     "name": "stderr",
     "output_type": "stream",
     "text": [
      " 25%|██▍       | 246/1000 [08:37<40:21,  3.21s/it]"
     ]
    },
    {
     "name": "stdout",
     "output_type": "stream",
     "text": [
      "File: PMC31925.tar.gz size: 1456130 bytes\n"
     ]
    },
    {
     "name": "stderr",
     "output_type": "stream",
     "text": [
      " 25%|██▍       | 247/1000 [08:41<42:26,  3.38s/it]"
     ]
    },
    {
     "name": "stdout",
     "output_type": "stream",
     "text": [
      "File: PMC32158.tar.gz size: 219552 bytes\n"
     ]
    },
    {
     "name": "stderr",
     "output_type": "stream",
     "text": [
      " 25%|██▍       | 248/1000 [08:44<40:48,  3.26s/it]"
     ]
    },
    {
     "name": "stdout",
     "output_type": "stream",
     "text": [
      "File: PMC32159.tar.gz size: 81383 bytes\n"
     ]
    },
    {
     "name": "stderr",
     "output_type": "stream",
     "text": [
      " 25%|██▍       | 249/1000 [08:46<38:08,  3.05s/it]"
     ]
    },
    {
     "name": "stdout",
     "output_type": "stream",
     "text": [
      "File: PMC32160.tar.gz size: 129315 bytes\n"
     ]
    },
    {
     "name": "stderr",
     "output_type": "stream",
     "text": [
      " 25%|██▌       | 250/1000 [08:49<37:19,  2.99s/it]"
     ]
    },
    {
     "name": "stdout",
     "output_type": "stream",
     "text": [
      "File: PMC32162.tar.gz size: 635487 bytes\n"
     ]
    },
    {
     "name": "stderr",
     "output_type": "stream",
     "text": [
      " 25%|██▌       | 251/1000 [08:53<40:43,  3.26s/it]"
     ]
    },
    {
     "name": "stdout",
     "output_type": "stream",
     "text": [
      "File: PMC32163.tar.gz size: 132937 bytes\n"
     ]
    },
    {
     "name": "stderr",
     "output_type": "stream",
     "text": [
      " 25%|██▌       | 252/1000 [08:56<38:53,  3.12s/it]"
     ]
    },
    {
     "name": "stdout",
     "output_type": "stream",
     "text": [
      "File: PMC32169.tar.gz size: 611870 bytes\n"
     ]
    },
    {
     "name": "stderr",
     "output_type": "stream",
     "text": [
      " 25%|██▌       | 253/1000 [08:59<39:31,  3.18s/it]"
     ]
    },
    {
     "name": "stdout",
     "output_type": "stream",
     "text": [
      "File: PMC32170.tar.gz size: 331288 bytes\n"
     ]
    },
    {
     "name": "stderr",
     "output_type": "stream",
     "text": [
      " 25%|██▌       | 254/1000 [09:03<40:23,  3.25s/it]"
     ]
    },
    {
     "name": "stdout",
     "output_type": "stream",
     "text": [
      "File: PMC32171.tar.gz size: 347710 bytes\n"
     ]
    },
    {
     "name": "stderr",
     "output_type": "stream",
     "text": [
      " 26%|██▌       | 255/1000 [09:06<40:30,  3.26s/it]"
     ]
    },
    {
     "name": "stdout",
     "output_type": "stream",
     "text": [
      "File: PMC32172.tar.gz size: 177013 bytes\n"
     ]
    },
    {
     "name": "stderr",
     "output_type": "stream",
     "text": [
      " 26%|██▌       | 256/1000 [09:09<39:35,  3.19s/it]"
     ]
    },
    {
     "name": "stdout",
     "output_type": "stream",
     "text": [
      "File: PMC32173.tar.gz size: 247190 bytes\n"
     ]
    },
    {
     "name": "stderr",
     "output_type": "stream",
     "text": [
      " 26%|██▌       | 257/1000 [09:12<39:00,  3.15s/it]"
     ]
    },
    {
     "name": "stdout",
     "output_type": "stream",
     "text": [
      "File: PMC32174.tar.gz size: 150154 bytes\n"
     ]
    },
    {
     "name": "stderr",
     "output_type": "stream",
     "text": [
      " 26%|██▌       | 258/1000 [09:15<37:54,  3.06s/it]"
     ]
    },
    {
     "name": "stdout",
     "output_type": "stream",
     "text": [
      "File: PMC32176.tar.gz size: 127373 bytes\n"
     ]
    },
    {
     "name": "stderr",
     "output_type": "stream",
     "text": [
      " 26%|██▌       | 259/1000 [09:18<36:41,  2.97s/it]"
     ]
    },
    {
     "name": "stdout",
     "output_type": "stream",
     "text": [
      "File: PMC32177.tar.gz size: 130811 bytes\n"
     ]
    },
    {
     "name": "stderr",
     "output_type": "stream",
     "text": [
      " 26%|██▌       | 260/1000 [09:21<36:44,  2.98s/it]"
     ]
    },
    {
     "name": "stdout",
     "output_type": "stream",
     "text": [
      "File: PMC32178.tar.gz size: 106123 bytes\n"
     ]
    },
    {
     "name": "stderr",
     "output_type": "stream",
     "text": [
      " 26%|██▌       | 261/1000 [09:23<36:05,  2.93s/it]"
     ]
    },
    {
     "name": "stdout",
     "output_type": "stream",
     "text": [
      "File: PMC32179.tar.gz size: 150544 bytes\n"
     ]
    },
    {
     "name": "stderr",
     "output_type": "stream",
     "text": [
      " 26%|██▌       | 262/1000 [09:26<35:40,  2.90s/it]"
     ]
    },
    {
     "name": "stdout",
     "output_type": "stream",
     "text": [
      "File: PMC32180.tar.gz size: 1135075 bytes\n"
     ]
    },
    {
     "name": "stderr",
     "output_type": "stream",
     "text": [
      " 26%|██▋       | 263/1000 [09:30<37:55,  3.09s/it]"
     ]
    },
    {
     "name": "stdout",
     "output_type": "stream",
     "text": [
      "File: PMC32181.tar.gz size: 8321882 bytes\n"
     ]
    },
    {
     "name": "stderr",
     "output_type": "stream",
     "text": [
      " 26%|██▋       | 264/1000 [09:38<55:00,  4.48s/it]"
     ]
    },
    {
     "name": "stdout",
     "output_type": "stream",
     "text": [
      "File: PMC32182.tar.gz size: 904142 bytes\n"
     ]
    },
    {
     "name": "stderr",
     "output_type": "stream",
     "text": [
      " 26%|██▋       | 265/1000 [09:44<1:01:49,  5.05s/it]"
     ]
    },
    {
     "name": "stdout",
     "output_type": "stream",
     "text": [
      "File: PMC32183.tar.gz size: 7022636 bytes\n"
     ]
    },
    {
     "name": "stderr",
     "output_type": "stream",
     "text": [
      " 27%|██▋       | 266/1000 [09:51<1:08:18,  5.58s/it]"
     ]
    },
    {
     "name": "stdout",
     "output_type": "stream",
     "text": [
      "File: PMC32187.tar.gz size: 620068 bytes\n"
     ]
    },
    {
     "name": "stderr",
     "output_type": "stream",
     "text": [
      " 27%|██▋       | 267/1000 [09:54<1:00:14,  4.93s/it]"
     ]
    },
    {
     "name": "stdout",
     "output_type": "stream",
     "text": [
      "File: PMC32188.tar.gz size: 1194175 bytes\n"
     ]
    },
    {
     "name": "stderr",
     "output_type": "stream",
     "text": [
      " 27%|██▋       | 268/1000 [09:58<55:38,  4.56s/it]  "
     ]
    },
    {
     "name": "stdout",
     "output_type": "stream",
     "text": [
      "File: PMC32189.tar.gz size: 744095 bytes\n"
     ]
    },
    {
     "name": "stderr",
     "output_type": "stream",
     "text": [
      " 27%|██▋       | 269/1000 [10:01<51:35,  4.23s/it]"
     ]
    },
    {
     "name": "stdout",
     "output_type": "stream",
     "text": [
      "File: PMC32190.tar.gz size: 860888 bytes\n"
     ]
    },
    {
     "name": "stderr",
     "output_type": "stream",
     "text": [
      " 27%|██▋       | 270/1000 [10:05<50:47,  4.17s/it]"
     ]
    },
    {
     "name": "stdout",
     "output_type": "stream",
     "text": [
      "File: PMC32191.tar.gz size: 168394 bytes\n"
     ]
    },
    {
     "name": "stderr",
     "output_type": "stream",
     "text": [
      " 27%|██▋       | 271/1000 [10:12<59:42,  4.91s/it]"
     ]
    },
    {
     "name": "stdout",
     "output_type": "stream",
     "text": [
      "File: PMC32192.tar.gz size: 119964 bytes\n"
     ]
    },
    {
     "name": "stderr",
     "output_type": "stream",
     "text": [
      " 27%|██▋       | 272/1000 [10:15<51:54,  4.28s/it]"
     ]
    },
    {
     "name": "stdout",
     "output_type": "stream",
     "text": [
      "File: PMC32193.tar.gz size: 154904 bytes\n"
     ]
    },
    {
     "name": "stderr",
     "output_type": "stream",
     "text": [
      " 27%|██▋       | 273/1000 [10:18<46:21,  3.83s/it]"
     ]
    },
    {
     "name": "stdout",
     "output_type": "stream",
     "text": [
      "File: PMC32194.tar.gz size: 204419 bytes\n"
     ]
    },
    {
     "name": "stderr",
     "output_type": "stream",
     "text": [
      " 27%|██▋       | 274/1000 [10:20<42:46,  3.54s/it]"
     ]
    },
    {
     "name": "stdout",
     "output_type": "stream",
     "text": [
      "File: PMC32195.tar.gz size: 182877 bytes\n"
     ]
    },
    {
     "name": "stderr",
     "output_type": "stream",
     "text": [
      " 28%|██▊       | 275/1000 [10:23<39:49,  3.30s/it]"
     ]
    },
    {
     "name": "stdout",
     "output_type": "stream",
     "text": [
      "File: PMC32196.tar.gz size: 194215 bytes\n"
     ]
    },
    {
     "name": "stderr",
     "output_type": "stream",
     "text": [
      " 28%|██▊       | 276/1000 [10:26<37:55,  3.14s/it]"
     ]
    },
    {
     "name": "stdout",
     "output_type": "stream",
     "text": [
      "File: PMC32197.tar.gz size: 1066608 bytes\n"
     ]
    },
    {
     "name": "stderr",
     "output_type": "stream",
     "text": [
      " 28%|██▊       | 277/1000 [10:30<40:33,  3.37s/it]"
     ]
    },
    {
     "name": "stdout",
     "output_type": "stream",
     "text": [
      "File: PMC32198.tar.gz size: 373773 bytes\n"
     ]
    },
    {
     "name": "stderr",
     "output_type": "stream",
     "text": [
      " 28%|██▊       | 278/1000 [10:33<39:56,  3.32s/it]"
     ]
    },
    {
     "name": "stdout",
     "output_type": "stream",
     "text": [
      "File: PMC32199.tar.gz size: 842019 bytes\n"
     ]
    },
    {
     "name": "stderr",
     "output_type": "stream",
     "text": [
      " 28%|██▊       | 279/1000 [10:37<40:59,  3.41s/it]"
     ]
    },
    {
     "name": "stdout",
     "output_type": "stream",
     "text": [
      "File: PMC32200.tar.gz size: 254578 bytes\n"
     ]
    },
    {
     "name": "stderr",
     "output_type": "stream",
     "text": [
      " 28%|██▊       | 280/1000 [10:40<42:31,  3.54s/it]"
     ]
    },
    {
     "name": "stdout",
     "output_type": "stream",
     "text": [
      "File: PMC32201.tar.gz size: 203630 bytes\n"
     ]
    },
    {
     "name": "stderr",
     "output_type": "stream",
     "text": [
      " 28%|██▊       | 281/1000 [10:44<40:29,  3.38s/it]"
     ]
    },
    {
     "name": "stdout",
     "output_type": "stream",
     "text": [
      "File: PMC32203.tar.gz size: 643236 bytes\n"
     ]
    },
    {
     "name": "stderr",
     "output_type": "stream",
     "text": [
      " 28%|██▊       | 282/1000 [10:47<40:08,  3.35s/it]"
     ]
    },
    {
     "name": "stdout",
     "output_type": "stream",
     "text": [
      "File: PMC32204.tar.gz size: 136306 bytes\n"
     ]
    },
    {
     "name": "stderr",
     "output_type": "stream",
     "text": [
      " 28%|██▊       | 283/1000 [10:50<38:59,  3.26s/it]"
     ]
    },
    {
     "name": "stdout",
     "output_type": "stream",
     "text": [
      "File: PMC32205.tar.gz size: 144670 bytes\n"
     ]
    },
    {
     "name": "stderr",
     "output_type": "stream",
     "text": [
      " 28%|██▊       | 284/1000 [10:53<37:19,  3.13s/it]"
     ]
    },
    {
     "name": "stdout",
     "output_type": "stream",
     "text": [
      "File: PMC32206.tar.gz size: 2551970 bytes\n"
     ]
    },
    {
     "name": "stderr",
     "output_type": "stream",
     "text": [
      " 28%|██▊       | 285/1000 [10:57<42:16,  3.55s/it]"
     ]
    },
    {
     "name": "stdout",
     "output_type": "stream",
     "text": [
      "File: PMC32207.tar.gz size: 1011968 bytes\n"
     ]
    },
    {
     "name": "stderr",
     "output_type": "stream",
     "text": [
      " 29%|██▊       | 286/1000 [11:01<42:27,  3.57s/it]"
     ]
    },
    {
     "name": "stdout",
     "output_type": "stream",
     "text": [
      "File: PMC32208.tar.gz size: 417206 bytes\n"
     ]
    },
    {
     "name": "stderr",
     "output_type": "stream",
     "text": [
      " 29%|██▊       | 287/1000 [11:04<41:26,  3.49s/it]"
     ]
    },
    {
     "name": "stdout",
     "output_type": "stream",
     "text": [
      "File: PMC32247.tar.gz size: 93839 bytes\n"
     ]
    },
    {
     "name": "stderr",
     "output_type": "stream",
     "text": [
      " 29%|██▉       | 288/1000 [11:07<38:15,  3.22s/it]"
     ]
    },
    {
     "name": "stdout",
     "output_type": "stream",
     "text": [
      "File: PMC32248.tar.gz size: 1776086 bytes\n"
     ]
    },
    {
     "name": "stderr",
     "output_type": "stream",
     "text": [
      " 29%|██▉       | 289/1000 [11:11<41:28,  3.50s/it]"
     ]
    },
    {
     "name": "stdout",
     "output_type": "stream",
     "text": [
      "File: PMC32249.tar.gz size: 3002950 bytes\n"
     ]
    },
    {
     "name": "stderr",
     "output_type": "stream",
     "text": [
      " 29%|██▉       | 290/1000 [11:15<43:37,  3.69s/it]"
     ]
    },
    {
     "name": "stdout",
     "output_type": "stream",
     "text": [
      "File: PMC32250.tar.gz size: 369004 bytes\n"
     ]
    },
    {
     "name": "stderr",
     "output_type": "stream",
     "text": [
      " 29%|██▉       | 291/1000 [11:18<42:08,  3.57s/it]"
     ]
    },
    {
     "name": "stdout",
     "output_type": "stream",
     "text": [
      "File: PMC32296.tar.gz size: 3563036 bytes\n"
     ]
    },
    {
     "name": "stderr",
     "output_type": "stream",
     "text": [
      " 29%|██▉       | 292/1000 [11:23<45:52,  3.89s/it]"
     ]
    },
    {
     "name": "stdout",
     "output_type": "stream",
     "text": [
      "File: PMC32297.tar.gz size: 3615526 bytes\n"
     ]
    },
    {
     "name": "stderr",
     "output_type": "stream",
     "text": [
      " 29%|██▉       | 293/1000 [11:28<50:50,  4.32s/it]"
     ]
    },
    {
     "name": "stdout",
     "output_type": "stream",
     "text": [
      "File: PMC32298.tar.gz size: 153855 bytes\n"
     ]
    },
    {
     "name": "stderr",
     "output_type": "stream",
     "text": [
      " 29%|██▉       | 294/1000 [11:31<45:31,  3.87s/it]"
     ]
    },
    {
     "name": "stdout",
     "output_type": "stream",
     "text": [
      "File: PMC32299.tar.gz size: 1177759 bytes\n"
     ]
    },
    {
     "name": "stderr",
     "output_type": "stream",
     "text": [
      " 30%|██▉       | 295/1000 [11:35<44:45,  3.81s/it]"
     ]
    },
    {
     "name": "stdout",
     "output_type": "stream",
     "text": [
      "File: PMC32300.tar.gz size: 838467 bytes\n"
     ]
    },
    {
     "name": "stderr",
     "output_type": "stream",
     "text": [
      " 30%|██▉       | 296/1000 [11:38<44:02,  3.75s/it]"
     ]
    },
    {
     "name": "stdout",
     "output_type": "stream",
     "text": [
      "File: PMC32301.tar.gz size: 221601 bytes\n"
     ]
    },
    {
     "name": "stderr",
     "output_type": "stream",
     "text": [
      " 30%|██▉       | 297/1000 [11:42<41:58,  3.58s/it]"
     ]
    },
    {
     "name": "stdout",
     "output_type": "stream",
     "text": [
      "File: PMC32302.tar.gz size: 234234 bytes\n"
     ]
    },
    {
     "name": "stderr",
     "output_type": "stream",
     "text": [
      " 30%|██▉       | 298/1000 [11:45<39:54,  3.41s/it]"
     ]
    },
    {
     "name": "stdout",
     "output_type": "stream",
     "text": [
      "File: PMC32303.tar.gz size: 129463 bytes\n"
     ]
    },
    {
     "name": "stderr",
     "output_type": "stream",
     "text": [
      " 30%|██▉       | 299/1000 [11:47<37:45,  3.23s/it]"
     ]
    },
    {
     "name": "stdout",
     "output_type": "stream",
     "text": [
      "File: PMC32304.tar.gz size: 710538 bytes\n"
     ]
    },
    {
     "name": "stderr",
     "output_type": "stream",
     "text": [
      " 30%|███       | 300/1000 [11:51<39:13,  3.36s/it]"
     ]
    },
    {
     "name": "stdout",
     "output_type": "stream",
     "text": [
      "File: PMC32305.tar.gz size: 270628 bytes\n"
     ]
    },
    {
     "name": "stderr",
     "output_type": "stream",
     "text": [
      " 30%|███       | 301/1000 [11:54<37:44,  3.24s/it]"
     ]
    },
    {
     "name": "stdout",
     "output_type": "stream",
     "text": [
      "File: PMC32311.tar.gz size: 116769 bytes\n"
     ]
    },
    {
     "name": "stderr",
     "output_type": "stream",
     "text": [
      " 30%|███       | 302/1000 [11:57<36:25,  3.13s/it]"
     ]
    },
    {
     "name": "stdout",
     "output_type": "stream",
     "text": [
      "File: PMC32312.tar.gz size: 529230 bytes\n"
     ]
    },
    {
     "name": "stderr",
     "output_type": "stream",
     "text": [
      " 30%|███       | 303/1000 [12:00<36:57,  3.18s/it]"
     ]
    },
    {
     "name": "stdout",
     "output_type": "stream",
     "text": [
      "File: PMC32313.tar.gz size: 823629 bytes\n"
     ]
    },
    {
     "name": "stderr",
     "output_type": "stream",
     "text": [
      " 30%|███       | 304/1000 [12:04<38:26,  3.31s/it]"
     ]
    },
    {
     "name": "stdout",
     "output_type": "stream",
     "text": [
      "File: PMC32314.tar.gz size: 158698 bytes\n"
     ]
    },
    {
     "name": "stderr",
     "output_type": "stream",
     "text": [
      " 30%|███       | 305/1000 [12:07<36:51,  3.18s/it]"
     ]
    },
    {
     "name": "stdout",
     "output_type": "stream",
     "text": [
      "File: PMC33341.tar.gz size: 1186856 bytes\n"
     ]
    },
    {
     "name": "stderr",
     "output_type": "stream",
     "text": [
      " 31%|███       | 306/1000 [12:10<38:07,  3.30s/it]"
     ]
    },
    {
     "name": "stdout",
     "output_type": "stream",
     "text": [
      "File: PMC33342.tar.gz size: 68309 bytes\n"
     ]
    },
    {
     "name": "stderr",
     "output_type": "stream",
     "text": [
      " 31%|███       | 307/1000 [12:13<36:05,  3.12s/it]"
     ]
    },
    {
     "name": "stdout",
     "output_type": "stream",
     "text": [
      "File: PMC33343.tar.gz size: 133994 bytes\n"
     ]
    },
    {
     "name": "stderr",
     "output_type": "stream",
     "text": [
      " 31%|███       | 308/1000 [12:16<35:21,  3.07s/it]"
     ]
    },
    {
     "name": "stdout",
     "output_type": "stream",
     "text": [
      "File: PMC33344.tar.gz size: 553582 bytes\n"
     ]
    },
    {
     "name": "stderr",
     "output_type": "stream",
     "text": [
      " 31%|███       | 309/1000 [12:19<35:48,  3.11s/it]"
     ]
    },
    {
     "name": "stdout",
     "output_type": "stream",
     "text": [
      "File: PMC33392.tar.gz size: 1318219 bytes\n"
     ]
    },
    {
     "name": "stderr",
     "output_type": "stream",
     "text": [
      " 31%|███       | 310/1000 [12:23<39:13,  3.41s/it]"
     ]
    },
    {
     "name": "stdout",
     "output_type": "stream",
     "text": [
      "File: PMC33393.tar.gz size: 541040 bytes\n"
     ]
    },
    {
     "name": "stderr",
     "output_type": "stream",
     "text": [
      " 31%|███       | 311/1000 [12:26<38:47,  3.38s/it]"
     ]
    },
    {
     "name": "stdout",
     "output_type": "stream",
     "text": [
      "File: PMC33394.tar.gz size: 29268291 bytes\n"
     ]
    },
    {
     "name": "stderr",
     "output_type": "stream",
     "text": [
      " 31%|███       | 312/1000 [12:39<1:08:32,  5.98s/it]"
     ]
    },
    {
     "name": "stdout",
     "output_type": "stream",
     "text": [
      "File: PMC33395.tar.gz size: 209032 bytes\n"
     ]
    },
    {
     "name": "stderr",
     "output_type": "stream",
     "text": [
      " 31%|███▏      | 313/1000 [12:41<57:40,  5.04s/it]  "
     ]
    },
    {
     "name": "stdout",
     "output_type": "stream",
     "text": [
      "File: PMC33396.tar.gz size: 1528508 bytes\n"
     ]
    },
    {
     "name": "stderr",
     "output_type": "stream",
     "text": [
      " 31%|███▏      | 314/1000 [12:48<1:03:03,  5.52s/it]"
     ]
    },
    {
     "name": "stdout",
     "output_type": "stream",
     "text": [
      "File: PMC33397.tar.gz size: 1493958 bytes\n"
     ]
    },
    {
     "name": "stderr",
     "output_type": "stream",
     "text": [
      " 32%|███▏      | 315/1000 [12:52<56:49,  4.98s/it]  "
     ]
    },
    {
     "name": "stdout",
     "output_type": "stream",
     "text": [
      "File: PMC33398.tar.gz size: 4263833 bytes\n"
     ]
    },
    {
     "name": "stderr",
     "output_type": "stream",
     "text": [
      " 32%|███▏      | 316/1000 [13:00<1:09:12,  6.07s/it]"
     ]
    },
    {
     "name": "stdout",
     "output_type": "stream",
     "text": [
      "File: PMC33506.tar.gz size: 651026 bytes\n"
     ]
    },
    {
     "name": "stderr",
     "output_type": "stream",
     "text": [
      " 32%|███▏      | 317/1000 [13:07<1:10:09,  6.16s/it]"
     ]
    },
    {
     "name": "stdout",
     "output_type": "stream",
     "text": [
      "File: PMC33507.tar.gz size: 661046 bytes\n"
     ]
    },
    {
     "name": "stderr",
     "output_type": "stream",
     "text": [
      " 32%|███▏      | 318/1000 [13:11<1:01:57,  5.45s/it]"
     ]
    },
    {
     "name": "stdout",
     "output_type": "stream",
     "text": [
      "File: PMC33517.tar.gz size: 353034 bytes\n"
     ]
    },
    {
     "name": "stderr",
     "output_type": "stream",
     "text": [
      " 32%|███▏      | 319/1000 [13:16<1:00:48,  5.36s/it]"
     ]
    },
    {
     "name": "stdout",
     "output_type": "stream",
     "text": [
      "File: PMC33518.tar.gz size: 236104 bytes\n"
     ]
    },
    {
     "name": "stderr",
     "output_type": "stream",
     "text": [
      " 32%|███▏      | 320/1000 [13:19<52:46,  4.66s/it]  "
     ]
    },
    {
     "name": "stdout",
     "output_type": "stream",
     "text": [
      "File: PMC33820.tar.gz size: 315672 bytes\n"
     ]
    },
    {
     "name": "stderr",
     "output_type": "stream",
     "text": [
      " 32%|███▏      | 321/1000 [13:22<48:10,  4.26s/it]"
     ]
    },
    {
     "name": "stdout",
     "output_type": "stream",
     "text": [
      "File: PMC34096.tar.gz size: 268478 bytes\n"
     ]
    },
    {
     "name": "stderr",
     "output_type": "stream",
     "text": [
      " 32%|███▏      | 322/1000 [13:25<44:04,  3.90s/it]"
     ]
    },
    {
     "name": "stdout",
     "output_type": "stream",
     "text": [
      "File: PMC34102.tar.gz size: 541892 bytes\n"
     ]
    },
    {
     "name": "stderr",
     "output_type": "stream",
     "text": [
      " 32%|███▏      | 323/1000 [13:28<41:46,  3.70s/it]"
     ]
    },
    {
     "name": "stdout",
     "output_type": "stream",
     "text": [
      "File: PMC34107.tar.gz size: 151210 bytes\n"
     ]
    },
    {
     "name": "stderr",
     "output_type": "stream",
     "text": [
      " 32%|███▏      | 324/1000 [13:31<38:48,  3.44s/it]"
     ]
    },
    {
     "name": "stdout",
     "output_type": "stream",
     "text": [
      "File: PMC34108.tar.gz size: 521826 bytes\n"
     ]
    },
    {
     "name": "stderr",
     "output_type": "stream",
     "text": [
      " 32%|███▎      | 325/1000 [13:35<39:13,  3.49s/it]"
     ]
    },
    {
     "name": "stdout",
     "output_type": "stream",
     "text": [
      "File: PMC34109.tar.gz size: 1526213 bytes\n"
     ]
    },
    {
     "name": "stderr",
     "output_type": "stream",
     "text": [
      " 33%|███▎      | 326/1000 [13:40<46:46,  4.16s/it]"
     ]
    },
    {
     "name": "stdout",
     "output_type": "stream",
     "text": [
      "File: PMC34110.tar.gz size: 163054 bytes\n"
     ]
    },
    {
     "name": "stderr",
     "output_type": "stream",
     "text": [
      " 33%|███▎      | 327/1000 [13:43<42:48,  3.82s/it]"
     ]
    },
    {
     "name": "stdout",
     "output_type": "stream",
     "text": [
      "File: PMC34111.tar.gz size: 153530 bytes\n"
     ]
    },
    {
     "name": "stderr",
     "output_type": "stream",
     "text": [
      " 33%|███▎      | 328/1000 [13:47<40:06,  3.58s/it]"
     ]
    },
    {
     "name": "stdout",
     "output_type": "stream",
     "text": [
      "File: PMC34112.tar.gz size: 480386 bytes\n"
     ]
    },
    {
     "name": "stderr",
     "output_type": "stream",
     "text": [
      " 33%|███▎      | 329/1000 [13:50<38:58,  3.48s/it]"
     ]
    },
    {
     "name": "stdout",
     "output_type": "stream",
     "text": [
      "File: PMC34113.tar.gz size: 363863 bytes\n"
     ]
    },
    {
     "name": "stderr",
     "output_type": "stream",
     "text": [
      " 33%|███▎      | 330/1000 [13:53<38:27,  3.44s/it]"
     ]
    },
    {
     "name": "stdout",
     "output_type": "stream",
     "text": [
      "File: PMC34114.tar.gz size: 404065 bytes\n"
     ]
    },
    {
     "name": "stderr",
     "output_type": "stream",
     "text": [
      " 33%|███▎      | 331/1000 [13:57<38:49,  3.48s/it]"
     ]
    },
    {
     "name": "stdout",
     "output_type": "stream",
     "text": [
      "File: PMC34115.tar.gz size: 261964 bytes\n"
     ]
    },
    {
     "name": "stderr",
     "output_type": "stream",
     "text": [
      " 33%|███▎      | 332/1000 [14:00<37:53,  3.40s/it]"
     ]
    },
    {
     "name": "stdout",
     "output_type": "stream",
     "text": [
      "File: PMC34116.tar.gz size: 315060 bytes\n"
     ]
    },
    {
     "name": "stderr",
     "output_type": "stream",
     "text": [
      " 33%|███▎      | 333/1000 [14:06<46:29,  4.18s/it]"
     ]
    },
    {
     "name": "stdout",
     "output_type": "stream",
     "text": [
      "File: PMC34117.tar.gz size: 2582793 bytes\n"
     ]
    },
    {
     "name": "stderr",
     "output_type": "stream",
     "text": [
      " 33%|███▎      | 334/1000 [14:10<46:20,  4.17s/it]"
     ]
    },
    {
     "name": "stdout",
     "output_type": "stream",
     "text": [
      "File: PMC34514.tar.gz size: 179885 bytes\n"
     ]
    },
    {
     "name": "stderr",
     "output_type": "stream",
     "text": [
      " 34%|███▎      | 335/1000 [14:13<41:39,  3.76s/it]"
     ]
    },
    {
     "name": "stdout",
     "output_type": "stream",
     "text": [
      "File: PMC34515.tar.gz size: 1110370 bytes\n"
     ]
    },
    {
     "name": "stderr",
     "output_type": "stream",
     "text": [
      " 34%|███▎      | 336/1000 [14:17<41:43,  3.77s/it]"
     ]
    },
    {
     "name": "stdout",
     "output_type": "stream",
     "text": [
      "File: PMC34516.tar.gz size: 236462 bytes\n"
     ]
    },
    {
     "name": "stderr",
     "output_type": "stream",
     "text": [
      " 34%|███▎      | 337/1000 [14:20<39:37,  3.59s/it]"
     ]
    },
    {
     "name": "stdout",
     "output_type": "stream",
     "text": [
      "File: PMC34519.tar.gz size: 118446 bytes\n"
     ]
    },
    {
     "name": "stderr",
     "output_type": "stream",
     "text": [
      " 34%|███▍      | 338/1000 [14:23<37:05,  3.36s/it]"
     ]
    },
    {
     "name": "stdout",
     "output_type": "stream",
     "text": [
      "File: PMC34520.tar.gz size: 1119767 bytes\n"
     ]
    },
    {
     "name": "stderr",
     "output_type": "stream",
     "text": [
      " 34%|███▍      | 339/1000 [14:28<44:44,  4.06s/it]"
     ]
    },
    {
     "name": "stdout",
     "output_type": "stream",
     "text": [
      "File: PMC34549.tar.gz size: 290726 bytes\n"
     ]
    },
    {
     "name": "stderr",
     "output_type": "stream",
     "text": [
      " 34%|███▍      | 340/1000 [14:32<42:10,  3.83s/it]"
     ]
    },
    {
     "name": "stdout",
     "output_type": "stream",
     "text": [
      "File: PMC34550.tar.gz size: 159332 bytes\n"
     ]
    },
    {
     "name": "stderr",
     "output_type": "stream",
     "text": [
      " 34%|███▍      | 341/1000 [14:35<39:31,  3.60s/it]"
     ]
    },
    {
     "name": "stdout",
     "output_type": "stream",
     "text": [
      "File: PMC34551.tar.gz size: 322268 bytes\n"
     ]
    },
    {
     "name": "stderr",
     "output_type": "stream",
     "text": [
      " 34%|███▍      | 342/1000 [14:38<38:12,  3.48s/it]"
     ]
    },
    {
     "name": "stdout",
     "output_type": "stream",
     "text": [
      "File: PMC34552.tar.gz size: 302469 bytes\n"
     ]
    },
    {
     "name": "stderr",
     "output_type": "stream",
     "text": [
      " 34%|███▍      | 343/1000 [14:41<36:41,  3.35s/it]"
     ]
    },
    {
     "name": "stdout",
     "output_type": "stream",
     "text": [
      "File: PMC34604.tar.gz size: 1316186 bytes\n"
     ]
    },
    {
     "name": "stderr",
     "output_type": "stream",
     "text": [
      " 34%|███▍      | 344/1000 [14:45<37:25,  3.42s/it]"
     ]
    },
    {
     "name": "stdout",
     "output_type": "stream",
     "text": [
      "File: PMC34605.tar.gz size: 151591 bytes\n"
     ]
    },
    {
     "name": "stderr",
     "output_type": "stream",
     "text": [
      " 34%|███▍      | 345/1000 [14:48<36:12,  3.32s/it]"
     ]
    },
    {
     "name": "stdout",
     "output_type": "stream",
     "text": [
      "File: PMC34606.tar.gz size: 1685131 bytes\n"
     ]
    },
    {
     "name": "stderr",
     "output_type": "stream",
     "text": [
      " 35%|███▍      | 346/1000 [14:52<39:23,  3.61s/it]"
     ]
    },
    {
     "name": "stdout",
     "output_type": "stream",
     "text": [
      "File: PMC34772.tar.gz size: 2035654 bytes\n"
     ]
    },
    {
     "name": "stderr",
     "output_type": "stream",
     "text": [
      " 35%|███▍      | 347/1000 [14:56<39:52,  3.66s/it]"
     ]
    },
    {
     "name": "stdout",
     "output_type": "stream",
     "text": [
      "File: PMC35267.tar.gz size: 896280 bytes\n"
     ]
    },
    {
     "name": "stderr",
     "output_type": "stream",
     "text": [
      " 35%|███▍      | 348/1000 [14:59<39:38,  3.65s/it]"
     ]
    },
    {
     "name": "stdout",
     "output_type": "stream",
     "text": [
      "File: PMC35277.tar.gz size: 2033747 bytes\n"
     ]
    },
    {
     "name": "stderr",
     "output_type": "stream",
     "text": [
      " 35%|███▍      | 349/1000 [15:04<41:57,  3.87s/it]"
     ]
    },
    {
     "name": "stdout",
     "output_type": "stream",
     "text": [
      "File: PMC35278.tar.gz size: 1403472 bytes\n"
     ]
    },
    {
     "name": "stderr",
     "output_type": "stream",
     "text": [
      " 35%|███▌      | 350/1000 [15:08<42:07,  3.89s/it]"
     ]
    },
    {
     "name": "stdout",
     "output_type": "stream",
     "text": [
      "File: PMC35279.tar.gz size: 3619460 bytes\n"
     ]
    },
    {
     "name": "stderr",
     "output_type": "stream",
     "text": [
      " 35%|███▌      | 351/1000 [15:12<43:09,  3.99s/it]"
     ]
    },
    {
     "name": "stdout",
     "output_type": "stream",
     "text": [
      "File: PMC35280.tar.gz size: 224520 bytes\n"
     ]
    },
    {
     "name": "stderr",
     "output_type": "stream",
     "text": [
      " 35%|███▌      | 352/1000 [15:15<40:22,  3.74s/it]"
     ]
    },
    {
     "name": "stdout",
     "output_type": "stream",
     "text": [
      "File: PMC35281.tar.gz size: 151269 bytes\n"
     ]
    },
    {
     "name": "stderr",
     "output_type": "stream",
     "text": [
      " 35%|███▌      | 353/1000 [15:18<37:10,  3.45s/it]"
     ]
    },
    {
     "name": "stdout",
     "output_type": "stream",
     "text": [
      "File: PMC35282.tar.gz size: 124732 bytes\n"
     ]
    },
    {
     "name": "stderr",
     "output_type": "stream",
     "text": [
      " 35%|███▌      | 354/1000 [15:21<35:06,  3.26s/it]"
     ]
    },
    {
     "name": "stdout",
     "output_type": "stream",
     "text": [
      "File: PMC35283.tar.gz size: 1064354 bytes\n"
     ]
    },
    {
     "name": "stderr",
     "output_type": "stream",
     "text": [
      " 36%|███▌      | 355/1000 [15:24<36:16,  3.37s/it]"
     ]
    },
    {
     "name": "stdout",
     "output_type": "stream",
     "text": [
      "File: PMC35284.tar.gz size: 1526282 bytes\n"
     ]
    },
    {
     "name": "stderr",
     "output_type": "stream",
     "text": [
      " 36%|███▌      | 356/1000 [15:29<39:08,  3.65s/it]"
     ]
    },
    {
     "name": "stdout",
     "output_type": "stream",
     "text": [
      "File: PMC35285.tar.gz size: 830412 bytes\n"
     ]
    },
    {
     "name": "stderr",
     "output_type": "stream",
     "text": [
      " 36%|███▌      | 357/1000 [15:32<38:37,  3.60s/it]"
     ]
    },
    {
     "name": "stdout",
     "output_type": "stream",
     "text": [
      "File: PMC35286.tar.gz size: 136564 bytes\n"
     ]
    },
    {
     "name": "stderr",
     "output_type": "stream",
     "text": [
      " 36%|███▌      | 358/1000 [15:35<36:06,  3.37s/it]"
     ]
    },
    {
     "name": "stdout",
     "output_type": "stream",
     "text": [
      "File: PMC35287.tar.gz size: 275657 bytes\n"
     ]
    },
    {
     "name": "stderr",
     "output_type": "stream",
     "text": [
      " 36%|███▌      | 359/1000 [15:38<35:04,  3.28s/it]"
     ]
    },
    {
     "name": "stdout",
     "output_type": "stream",
     "text": [
      "File: PMC35352.tar.gz size: 342942 bytes\n"
     ]
    },
    {
     "name": "stderr",
     "output_type": "stream",
     "text": [
      " 36%|███▌      | 360/1000 [15:41<35:23,  3.32s/it]"
     ]
    },
    {
     "name": "stdout",
     "output_type": "stream",
     "text": [
      "File: PMC35353.tar.gz size: 772473 bytes\n"
     ]
    },
    {
     "name": "stderr",
     "output_type": "stream",
     "text": [
      " 36%|███▌      | 361/1000 [15:45<36:02,  3.38s/it]"
     ]
    },
    {
     "name": "stdout",
     "output_type": "stream",
     "text": [
      "File: PMC35354.tar.gz size: 193017 bytes\n"
     ]
    },
    {
     "name": "stderr",
     "output_type": "stream",
     "text": [
      " 36%|███▌      | 362/1000 [15:48<34:07,  3.21s/it]"
     ]
    },
    {
     "name": "stdout",
     "output_type": "stream",
     "text": [
      "File: PMC35355.tar.gz size: 307600 bytes\n"
     ]
    },
    {
     "name": "stderr",
     "output_type": "stream",
     "text": [
      " 36%|███▋      | 363/1000 [15:51<33:57,  3.20s/it]"
     ]
    },
    {
     "name": "stdout",
     "output_type": "stream",
     "text": [
      "File: PMC35356.tar.gz size: 317018 bytes\n"
     ]
    },
    {
     "name": "stderr",
     "output_type": "stream",
     "text": [
      " 36%|███▋      | 364/1000 [15:54<33:15,  3.14s/it]"
     ]
    },
    {
     "name": "stdout",
     "output_type": "stream",
     "text": [
      "File: PMC35360.tar.gz size: 281165 bytes\n"
     ]
    },
    {
     "name": "stderr",
     "output_type": "stream",
     "text": [
      " 36%|███▋      | 365/1000 [15:57<33:13,  3.14s/it]"
     ]
    },
    {
     "name": "stdout",
     "output_type": "stream",
     "text": [
      "File: PMC35361.tar.gz size: 950060 bytes\n"
     ]
    },
    {
     "name": "stderr",
     "output_type": "stream",
     "text": [
      " 37%|███▋      | 366/1000 [16:01<34:51,  3.30s/it]"
     ]
    },
    {
     "name": "stdout",
     "output_type": "stream",
     "text": [
      "File: PMC35392.tar.gz size: 296694 bytes\n"
     ]
    },
    {
     "name": "stderr",
     "output_type": "stream",
     "text": [
      " 37%|███▋      | 367/1000 [16:04<34:12,  3.24s/it]"
     ]
    },
    {
     "name": "stdout",
     "output_type": "stream",
     "text": [
      "File: PMC37241.tar.gz size: 544059 bytes\n"
     ]
    },
    {
     "name": "stderr",
     "output_type": "stream",
     "text": [
      " 37%|███▋      | 368/1000 [16:09<40:24,  3.84s/it]"
     ]
    },
    {
     "name": "stdout",
     "output_type": "stream",
     "text": [
      "File: PMC37242.tar.gz size: 573159 bytes\n"
     ]
    },
    {
     "name": "stderr",
     "output_type": "stream",
     "text": [
      " 37%|███▋      | 369/1000 [16:12<38:59,  3.71s/it]"
     ]
    },
    {
     "name": "stdout",
     "output_type": "stream",
     "text": [
      "File: PMC37243.tar.gz size: 1083976 bytes\n"
     ]
    },
    {
     "name": "stderr",
     "output_type": "stream",
     "text": [
      " 37%|███▋      | 370/1000 [16:17<40:12,  3.83s/it]"
     ]
    },
    {
     "name": "stdout",
     "output_type": "stream",
     "text": [
      "File: PMC37267.tar.gz size: 2186337 bytes\n"
     ]
    },
    {
     "name": "stderr",
     "output_type": "stream",
     "text": [
      " 37%|███▋      | 371/1000 [16:20<40:04,  3.82s/it]"
     ]
    },
    {
     "name": "stdout",
     "output_type": "stream",
     "text": [
      "File: PMC37310.tar.gz size: 130035 bytes\n"
     ]
    },
    {
     "name": "stderr",
     "output_type": "stream",
     "text": [
      " 37%|███▋      | 372/1000 [16:23<36:51,  3.52s/it]"
     ]
    },
    {
     "name": "stdout",
     "output_type": "stream",
     "text": [
      "File: PMC37311.tar.gz size: 125664 bytes\n"
     ]
    },
    {
     "name": "stderr",
     "output_type": "stream",
     "text": [
      " 37%|███▋      | 373/1000 [16:26<34:49,  3.33s/it]"
     ]
    },
    {
     "name": "stdout",
     "output_type": "stream",
     "text": [
      "File: PMC37312.tar.gz size: 1706728 bytes\n"
     ]
    },
    {
     "name": "stderr",
     "output_type": "stream",
     "text": [
      " 37%|███▋      | 374/1000 [16:30<36:10,  3.47s/it]"
     ]
    },
    {
     "name": "stdout",
     "output_type": "stream",
     "text": [
      "File: PMC37313.tar.gz size: 173619 bytes\n"
     ]
    },
    {
     "name": "stderr",
     "output_type": "stream",
     "text": [
      " 38%|███▊      | 375/1000 [16:33<34:17,  3.29s/it]"
     ]
    },
    {
     "name": "stdout",
     "output_type": "stream",
     "text": [
      "File: PMC37314.tar.gz size: 1063673 bytes\n"
     ]
    },
    {
     "name": "stderr",
     "output_type": "stream",
     "text": [
      " 38%|███▊      | 376/1000 [16:39<43:55,  4.22s/it]"
     ]
    },
    {
     "name": "stdout",
     "output_type": "stream",
     "text": [
      "File: PMC37351.tar.gz size: 765260 bytes\n"
     ]
    },
    {
     "name": "stderr",
     "output_type": "stream",
     "text": [
      " 38%|███▊      | 377/1000 [16:43<42:14,  4.07s/it]"
     ]
    },
    {
     "name": "stdout",
     "output_type": "stream",
     "text": [
      "File: PMC37352.tar.gz size: 611541 bytes\n"
     ]
    },
    {
     "name": "stderr",
     "output_type": "stream",
     "text": [
      " 38%|███▊      | 378/1000 [16:46<39:58,  3.86s/it]"
     ]
    },
    {
     "name": "stdout",
     "output_type": "stream",
     "text": [
      "File: PMC37353.tar.gz size: 339841 bytes\n"
     ]
    },
    {
     "name": "stderr",
     "output_type": "stream",
     "text": [
      " 38%|███▊      | 379/1000 [16:49<37:40,  3.64s/it]"
     ]
    },
    {
     "name": "stdout",
     "output_type": "stream",
     "text": [
      "File: PMC37354.tar.gz size: 1136310 bytes\n"
     ]
    },
    {
     "name": "stderr",
     "output_type": "stream",
     "text": [
      " 38%|███▊      | 380/1000 [16:53<39:03,  3.78s/it]"
     ]
    },
    {
     "name": "stdout",
     "output_type": "stream",
     "text": [
      "File: PMC37355.tar.gz size: 494997 bytes\n"
     ]
    },
    {
     "name": "stderr",
     "output_type": "stream",
     "text": [
      " 38%|███▊      | 381/1000 [16:57<37:37,  3.65s/it]"
     ]
    },
    {
     "name": "stdout",
     "output_type": "stream",
     "text": [
      "File: PMC37356.tar.gz size: 571360 bytes\n"
     ]
    },
    {
     "name": "stderr",
     "output_type": "stream",
     "text": [
      " 38%|███▊      | 382/1000 [17:00<37:00,  3.59s/it]"
     ]
    },
    {
     "name": "stdout",
     "output_type": "stream",
     "text": [
      "File: PMC37390.tar.gz size: 115738 bytes\n"
     ]
    },
    {
     "name": "stderr",
     "output_type": "stream",
     "text": [
      " 38%|███▊      | 383/1000 [17:03<34:28,  3.35s/it]"
     ]
    },
    {
     "name": "stdout",
     "output_type": "stream",
     "text": [
      "File: PMC37391.tar.gz size: 1234962 bytes\n"
     ]
    },
    {
     "name": "stderr",
     "output_type": "stream",
     "text": [
      " 38%|███▊      | 384/1000 [17:07<34:52,  3.40s/it]"
     ]
    },
    {
     "name": "stdout",
     "output_type": "stream",
     "text": [
      "File: PMC37392.tar.gz size: 222970 bytes\n"
     ]
    },
    {
     "name": "stderr",
     "output_type": "stream",
     "text": [
      " 38%|███▊      | 385/1000 [17:10<33:40,  3.28s/it]"
     ]
    },
    {
     "name": "stdout",
     "output_type": "stream",
     "text": [
      "File: PMC37402.tar.gz size: 818055 bytes\n"
     ]
    },
    {
     "name": "stderr",
     "output_type": "stream",
     "text": [
      " 39%|███▊      | 386/1000 [17:13<34:36,  3.38s/it]"
     ]
    },
    {
     "name": "stdout",
     "output_type": "stream",
     "text": [
      "File: PMC37403.tar.gz size: 140566 bytes\n"
     ]
    },
    {
     "name": "stderr",
     "output_type": "stream",
     "text": [
      " 39%|███▊      | 387/1000 [17:16<32:47,  3.21s/it]"
     ]
    },
    {
     "name": "stdout",
     "output_type": "stream",
     "text": [
      "File: PMC37404.tar.gz size: 437224 bytes\n"
     ]
    },
    {
     "name": "stderr",
     "output_type": "stream",
     "text": [
      " 39%|███▉      | 388/1000 [17:19<33:21,  3.27s/it]"
     ]
    },
    {
     "name": "stdout",
     "output_type": "stream",
     "text": [
      "File: PMC37405.tar.gz size: 113924 bytes\n"
     ]
    },
    {
     "name": "stderr",
     "output_type": "stream",
     "text": [
      " 39%|███▉      | 389/1000 [17:22<31:50,  3.13s/it]"
     ]
    },
    {
     "name": "stdout",
     "output_type": "stream",
     "text": [
      "File: PMC37406.tar.gz size: 177124 bytes\n"
     ]
    },
    {
     "name": "stderr",
     "output_type": "stream",
     "text": [
      " 39%|███▉      | 390/1000 [17:25<31:03,  3.05s/it]"
     ]
    },
    {
     "name": "stdout",
     "output_type": "stream",
     "text": [
      "File: PMC37407.tar.gz size: 379190 bytes\n"
     ]
    },
    {
     "name": "stderr",
     "output_type": "stream",
     "text": [
      " 39%|███▉      | 391/1000 [17:28<31:41,  3.12s/it]"
     ]
    },
    {
     "name": "stdout",
     "output_type": "stream",
     "text": [
      "File: PMC37408.tar.gz size: 218444 bytes\n"
     ]
    },
    {
     "name": "stderr",
     "output_type": "stream",
     "text": [
      " 39%|███▉      | 392/1000 [17:32<32:11,  3.18s/it]"
     ]
    },
    {
     "name": "stdout",
     "output_type": "stream",
     "text": [
      "File: PMC37409.tar.gz size: 355320 bytes\n"
     ]
    },
    {
     "name": "stderr",
     "output_type": "stream",
     "text": [
      " 39%|███▉      | 393/1000 [17:35<32:47,  3.24s/it]"
     ]
    },
    {
     "name": "stdout",
     "output_type": "stream",
     "text": [
      "File: PMC37410.tar.gz size: 768911 bytes\n"
     ]
    },
    {
     "name": "stderr",
     "output_type": "stream",
     "text": [
      " 39%|███▉      | 394/1000 [17:39<33:40,  3.33s/it]"
     ]
    },
    {
     "name": "stdout",
     "output_type": "stream",
     "text": [
      "File: PMC37536.tar.gz size: 1148258 bytes\n"
     ]
    },
    {
     "name": "stderr",
     "output_type": "stream",
     "text": [
      " 40%|███▉      | 395/1000 [17:42<34:15,  3.40s/it]"
     ]
    },
    {
     "name": "stdout",
     "output_type": "stream",
     "text": [
      "File: PMC37537.tar.gz size: 234477 bytes\n"
     ]
    },
    {
     "name": "stderr",
     "output_type": "stream",
     "text": [
      " 40%|███▉      | 396/1000 [17:45<32:57,  3.27s/it]"
     ]
    },
    {
     "name": "stdout",
     "output_type": "stream",
     "text": [
      "File: PMC37538.tar.gz size: 3403850 bytes\n"
     ]
    },
    {
     "name": "stderr",
     "output_type": "stream",
     "text": [
      " 40%|███▉      | 397/1000 [17:49<35:09,  3.50s/it]"
     ]
    },
    {
     "name": "stdout",
     "output_type": "stream",
     "text": [
      "File: PMC37539.tar.gz size: 224455 bytes\n"
     ]
    },
    {
     "name": "stderr",
     "output_type": "stream",
     "text": [
      " 40%|███▉      | 398/1000 [17:52<33:45,  3.37s/it]"
     ]
    },
    {
     "name": "stdout",
     "output_type": "stream",
     "text": [
      "File: PMC37540.tar.gz size: 316022 bytes\n"
     ]
    },
    {
     "name": "stderr",
     "output_type": "stream",
     "text": [
      " 40%|███▉      | 399/1000 [17:55<33:02,  3.30s/it]"
     ]
    },
    {
     "name": "stdout",
     "output_type": "stream",
     "text": [
      "File: PMC37541.tar.gz size: 422569 bytes\n"
     ]
    },
    {
     "name": "stderr",
     "output_type": "stream",
     "text": [
      " 40%|████      | 400/1000 [18:00<37:31,  3.75s/it]"
     ]
    },
    {
     "name": "stdout",
     "output_type": "stream",
     "text": [
      "File: PMC37542.tar.gz size: 2880403 bytes\n"
     ]
    },
    {
     "name": "stderr",
     "output_type": "stream",
     "text": [
      " 40%|████      | 401/1000 [18:04<38:12,  3.83s/it]"
     ]
    },
    {
     "name": "stdout",
     "output_type": "stream",
     "text": [
      "File: PMC37543.tar.gz size: 185258 bytes\n"
     ]
    },
    {
     "name": "stderr",
     "output_type": "stream",
     "text": [
      " 40%|████      | 402/1000 [18:07<35:11,  3.53s/it]"
     ]
    },
    {
     "name": "stdout",
     "output_type": "stream",
     "text": [
      "File: PMC37544.tar.gz size: 126462 bytes\n"
     ]
    },
    {
     "name": "stderr",
     "output_type": "stream",
     "text": [
      " 40%|████      | 403/1000 [18:10<33:24,  3.36s/it]"
     ]
    },
    {
     "name": "stdout",
     "output_type": "stream",
     "text": [
      "File: PMC37545.tar.gz size: 979793 bytes\n"
     ]
    },
    {
     "name": "stderr",
     "output_type": "stream",
     "text": [
      " 40%|████      | 404/1000 [18:14<33:58,  3.42s/it]"
     ]
    },
    {
     "name": "stdout",
     "output_type": "stream",
     "text": [
      "File: PMC37546.tar.gz size: 138985 bytes\n"
     ]
    },
    {
     "name": "stderr",
     "output_type": "stream",
     "text": [
      " 40%|████      | 405/1000 [18:16<32:01,  3.23s/it]"
     ]
    },
    {
     "name": "stdout",
     "output_type": "stream",
     "text": [
      "File: PMC37547.tar.gz size: 651623 bytes\n"
     ]
    },
    {
     "name": "stderr",
     "output_type": "stream",
     "text": [
      " 41%|████      | 406/1000 [18:22<38:46,  3.92s/it]"
     ]
    },
    {
     "name": "stdout",
     "output_type": "stream",
     "text": [
      "File: PMC37548.tar.gz size: 1368648 bytes\n"
     ]
    },
    {
     "name": "stderr",
     "output_type": "stream",
     "text": [
      " 41%|████      | 407/1000 [18:25<37:30,  3.79s/it]"
     ]
    },
    {
     "name": "stdout",
     "output_type": "stream",
     "text": [
      "File: PMC45583.tar.gz size: 142944 bytes\n"
     ]
    },
    {
     "name": "stderr",
     "output_type": "stream",
     "text": [
      " 41%|████      | 408/1000 [18:28<34:40,  3.51s/it]"
     ]
    },
    {
     "name": "stdout",
     "output_type": "stream",
     "text": [
      "File: PMC45584.tar.gz size: 257235 bytes\n"
     ]
    },
    {
     "name": "stderr",
     "output_type": "stream",
     "text": [
      " 41%|████      | 409/1000 [18:31<33:27,  3.40s/it]"
     ]
    },
    {
     "name": "stdout",
     "output_type": "stream",
     "text": [
      "File: PMC45585.tar.gz size: 585634 bytes\n"
     ]
    },
    {
     "name": "stderr",
     "output_type": "stream",
     "text": [
      " 41%|████      | 410/1000 [18:35<33:13,  3.38s/it]"
     ]
    },
    {
     "name": "stdout",
     "output_type": "stream",
     "text": [
      "File: PMC45586.tar.gz size: 154564 bytes\n"
     ]
    },
    {
     "name": "stderr",
     "output_type": "stream",
     "text": [
      " 41%|████      | 411/1000 [18:38<31:48,  3.24s/it]"
     ]
    },
    {
     "name": "stdout",
     "output_type": "stream",
     "text": [
      "File: PMC48139.tar.gz size: 984185 bytes\n"
     ]
    },
    {
     "name": "stderr",
     "output_type": "stream",
     "text": [
      " 41%|████      | 412/1000 [18:41<32:59,  3.37s/it]"
     ]
    },
    {
     "name": "stdout",
     "output_type": "stream",
     "text": [
      "File: PMC48140.tar.gz size: 2328943 bytes\n"
     ]
    },
    {
     "name": "stderr",
     "output_type": "stream",
     "text": [
      " 41%|████▏     | 413/1000 [18:46<36:48,  3.76s/it]"
     ]
    },
    {
     "name": "stdout",
     "output_type": "stream",
     "text": [
      "File: PMC48141.tar.gz size: 997109 bytes\n"
     ]
    },
    {
     "name": "stderr",
     "output_type": "stream",
     "text": [
      " 41%|████▏     | 414/1000 [18:50<36:16,  3.71s/it]"
     ]
    },
    {
     "name": "stdout",
     "output_type": "stream",
     "text": [
      "File: PMC48142.tar.gz size: 353194 bytes\n"
     ]
    },
    {
     "name": "stderr",
     "output_type": "stream",
     "text": [
      " 42%|████▏     | 415/1000 [18:53<35:10,  3.61s/it]"
     ]
    },
    {
     "name": "stdout",
     "output_type": "stream",
     "text": [
      "File: PMC48143.tar.gz size: 845740 bytes\n"
     ]
    },
    {
     "name": "stderr",
     "output_type": "stream",
     "text": [
      " 42%|████▏     | 416/1000 [18:56<35:11,  3.62s/it]"
     ]
    },
    {
     "name": "stdout",
     "output_type": "stream",
     "text": [
      "File: PMC48144.tar.gz size: 829243 bytes\n"
     ]
    },
    {
     "name": "stderr",
     "output_type": "stream",
     "text": [
      " 42%|████▏     | 417/1000 [19:00<35:31,  3.66s/it]"
     ]
    },
    {
     "name": "stdout",
     "output_type": "stream",
     "text": [
      "File: PMC48145.tar.gz size: 342930 bytes\n"
     ]
    },
    {
     "name": "stderr",
     "output_type": "stream",
     "text": [
      " 42%|████▏     | 418/1000 [19:04<35:22,  3.65s/it]"
     ]
    },
    {
     "name": "stdout",
     "output_type": "stream",
     "text": [
      "File: PMC48146.tar.gz size: 684985 bytes\n"
     ]
    },
    {
     "name": "stderr",
     "output_type": "stream",
     "text": [
      " 42%|████▏     | 419/1000 [19:07<34:26,  3.56s/it]"
     ]
    },
    {
     "name": "stdout",
     "output_type": "stream",
     "text": [
      "File: PMC48147.tar.gz size: 296148 bytes\n"
     ]
    },
    {
     "name": "stderr",
     "output_type": "stream",
     "text": [
      " 42%|████▏     | 420/1000 [19:10<32:40,  3.38s/it]"
     ]
    },
    {
     "name": "stdout",
     "output_type": "stream",
     "text": [
      "File: PMC48148.tar.gz size: 240562 bytes\n"
     ]
    },
    {
     "name": "stderr",
     "output_type": "stream",
     "text": [
      " 42%|████▏     | 421/1000 [19:13<31:42,  3.29s/it]"
     ]
    },
    {
     "name": "stdout",
     "output_type": "stream",
     "text": [
      "File: PMC48149.tar.gz size: 206117 bytes\n"
     ]
    },
    {
     "name": "stderr",
     "output_type": "stream",
     "text": [
      " 42%|████▏     | 422/1000 [19:16<30:36,  3.18s/it]"
     ]
    },
    {
     "name": "stdout",
     "output_type": "stream",
     "text": [
      "File: PMC48150.tar.gz size: 222261 bytes\n"
     ]
    },
    {
     "name": "stderr",
     "output_type": "stream",
     "text": [
      " 42%|████▏     | 423/1000 [19:19<30:14,  3.15s/it]"
     ]
    },
    {
     "name": "stdout",
     "output_type": "stream",
     "text": [
      "File: PMC48151.tar.gz size: 2441303 bytes\n"
     ]
    },
    {
     "name": "stderr",
     "output_type": "stream",
     "text": [
      " 42%|████▏     | 424/1000 [19:24<34:27,  3.59s/it]"
     ]
    },
    {
     "name": "stdout",
     "output_type": "stream",
     "text": [
      "File: PMC48152.tar.gz size: 228899 bytes\n"
     ]
    },
    {
     "name": "stderr",
     "output_type": "stream",
     "text": [
      " 42%|████▎     | 425/1000 [19:27<32:57,  3.44s/it]"
     ]
    },
    {
     "name": "stdout",
     "output_type": "stream",
     "text": [
      "File: PMC48153.tar.gz size: 640781 bytes\n"
     ]
    },
    {
     "name": "stderr",
     "output_type": "stream",
     "text": [
      " 43%|████▎     | 426/1000 [19:30<32:23,  3.39s/it]"
     ]
    },
    {
     "name": "stdout",
     "output_type": "stream",
     "text": [
      "File: PMC48154.tar.gz size: 129626 bytes\n"
     ]
    },
    {
     "name": "stderr",
     "output_type": "stream",
     "text": [
      " 43%|████▎     | 427/1000 [19:33<30:41,  3.21s/it]"
     ]
    },
    {
     "name": "stdout",
     "output_type": "stream",
     "text": [
      "File: PMC48155.tar.gz size: 140039 bytes\n"
     ]
    },
    {
     "name": "stderr",
     "output_type": "stream",
     "text": [
      " 43%|████▎     | 428/1000 [19:36<29:44,  3.12s/it]"
     ]
    },
    {
     "name": "stdout",
     "output_type": "stream",
     "text": [
      "File: PMC55319.tar.gz size: 243847 bytes\n"
     ]
    },
    {
     "name": "stderr",
     "output_type": "stream",
     "text": [
      " 43%|████▎     | 429/1000 [19:39<29:37,  3.11s/it]"
     ]
    },
    {
     "name": "stdout",
     "output_type": "stream",
     "text": [
      "File: PMC55320.tar.gz size: 1878534 bytes\n"
     ]
    },
    {
     "name": "stderr",
     "output_type": "stream",
     "text": [
      " 43%|████▎     | 430/1000 [19:43<31:40,  3.33s/it]"
     ]
    },
    {
     "name": "stdout",
     "output_type": "stream",
     "text": [
      "File: PMC55321.tar.gz size: 518860 bytes\n"
     ]
    },
    {
     "name": "stderr",
     "output_type": "stream",
     "text": [
      " 43%|████▎     | 431/1000 [19:46<31:53,  3.36s/it]"
     ]
    },
    {
     "name": "stdout",
     "output_type": "stream",
     "text": [
      "File: PMC55322.tar.gz size: 171954418 bytes\n"
     ]
    },
    {
     "name": "stderr",
     "output_type": "stream",
     "text": [
      " 43%|████▎     | 432/1000 [20:36<2:42:14, 17.14s/it]"
     ]
    },
    {
     "name": "stdout",
     "output_type": "stream",
     "text": [
      "File: PMC55323.tar.gz size: 102235 bytes\n"
     ]
    },
    {
     "name": "stderr",
     "output_type": "stream",
     "text": [
      " 43%|████▎     | 433/1000 [20:38<2:01:33, 12.86s/it]"
     ]
    },
    {
     "name": "stdout",
     "output_type": "stream",
     "text": [
      "File: PMC55324.tar.gz size: 321053 bytes\n"
     ]
    },
    {
     "name": "stderr",
     "output_type": "stream",
     "text": [
      " 43%|████▎     | 434/1000 [20:42<1:33:43,  9.94s/it]"
     ]
    },
    {
     "name": "stdout",
     "output_type": "stream",
     "text": [
      "File: PMC55325.tar.gz size: 84161 bytes\n"
     ]
    },
    {
     "name": "stderr",
     "output_type": "stream",
     "text": [
      " 44%|████▎     | 435/1000 [20:44<1:12:51,  7.74s/it]"
     ]
    },
    {
     "name": "stdout",
     "output_type": "stream",
     "text": [
      "File: PMC55326.tar.gz size: 655152 bytes\n"
     ]
    },
    {
     "name": "stderr",
     "output_type": "stream",
     "text": [
      " 44%|████▎     | 436/1000 [20:48<1:00:54,  6.48s/it]"
     ]
    },
    {
     "name": "stdout",
     "output_type": "stream",
     "text": [
      "File: PMC55327.tar.gz size: 563119 bytes\n"
     ]
    },
    {
     "name": "stderr",
     "output_type": "stream",
     "text": [
      " 44%|████▎     | 437/1000 [20:51<51:37,  5.50s/it]  "
     ]
    },
    {
     "name": "stdout",
     "output_type": "stream",
     "text": [
      "File: PMC55328.tar.gz size: 2057367 bytes\n"
     ]
    },
    {
     "name": "stderr",
     "output_type": "stream",
     "text": [
      " 44%|████▍     | 438/1000 [20:55<47:18,  5.05s/it]"
     ]
    },
    {
     "name": "stdout",
     "output_type": "stream",
     "text": [
      "File: PMC55329.tar.gz size: 1784655 bytes\n"
     ]
    },
    {
     "name": "stderr",
     "output_type": "stream",
     "text": [
      " 44%|████▍     | 439/1000 [20:59<44:13,  4.73s/it]"
     ]
    },
    {
     "name": "stdout",
     "output_type": "stream",
     "text": [
      "File: PMC55330.tar.gz size: 441275 bytes\n"
     ]
    },
    {
     "name": "stderr",
     "output_type": "stream",
     "text": [
      " 44%|████▍     | 440/1000 [21:02<40:22,  4.33s/it]"
     ]
    },
    {
     "name": "stdout",
     "output_type": "stream",
     "text": [
      "File: PMC55331.tar.gz size: 1712183 bytes\n"
     ]
    },
    {
     "name": "stderr",
     "output_type": "stream",
     "text": [
      " 44%|████▍     | 441/1000 [21:07<40:14,  4.32s/it]"
     ]
    },
    {
     "name": "stdout",
     "output_type": "stream",
     "text": [
      "File: PMC55332.tar.gz size: 393855 bytes\n"
     ]
    },
    {
     "name": "stderr",
     "output_type": "stream",
     "text": [
      " 44%|████▍     | 442/1000 [21:10<37:55,  4.08s/it]"
     ]
    },
    {
     "name": "stdout",
     "output_type": "stream",
     "text": [
      "File: PMC55333.tar.gz size: 181974 bytes\n"
     ]
    },
    {
     "name": "stderr",
     "output_type": "stream",
     "text": [
      " 44%|████▍     | 443/1000 [21:13<34:15,  3.69s/it]"
     ]
    },
    {
     "name": "stdout",
     "output_type": "stream",
     "text": [
      "File: PMC55334.tar.gz size: 444249 bytes\n"
     ]
    },
    {
     "name": "stderr",
     "output_type": "stream",
     "text": [
      " 44%|████▍     | 444/1000 [21:16<33:06,  3.57s/it]"
     ]
    },
    {
     "name": "stdout",
     "output_type": "stream",
     "text": [
      "File: PMC55335.tar.gz size: 398918 bytes\n"
     ]
    },
    {
     "name": "stderr",
     "output_type": "stream",
     "text": [
      " 44%|████▍     | 445/1000 [21:19<32:13,  3.48s/it]"
     ]
    },
    {
     "name": "stdout",
     "output_type": "stream",
     "text": [
      "File: PMC55336.tar.gz size: 384199 bytes\n"
     ]
    },
    {
     "name": "stderr",
     "output_type": "stream",
     "text": [
      " 45%|████▍     | 446/1000 [21:23<32:09,  3.48s/it]"
     ]
    },
    {
     "name": "stdout",
     "output_type": "stream",
     "text": [
      "File: PMC55337.tar.gz size: 227620 bytes\n"
     ]
    },
    {
     "name": "stderr",
     "output_type": "stream",
     "text": [
      " 45%|████▍     | 447/1000 [21:26<31:03,  3.37s/it]"
     ]
    },
    {
     "name": "stdout",
     "output_type": "stream",
     "text": [
      "File: PMC55338.tar.gz size: 482774 bytes\n"
     ]
    },
    {
     "name": "stderr",
     "output_type": "stream",
     "text": [
      " 45%|████▍     | 448/1000 [21:29<30:57,  3.37s/it]"
     ]
    },
    {
     "name": "stdout",
     "output_type": "stream",
     "text": [
      "File: PMC55339.tar.gz size: 640877 bytes\n"
     ]
    },
    {
     "name": "stderr",
     "output_type": "stream",
     "text": [
      " 45%|████▍     | 449/1000 [21:33<32:35,  3.55s/it]"
     ]
    },
    {
     "name": "stdout",
     "output_type": "stream",
     "text": [
      "File: PMC55340.tar.gz size: 594531 bytes\n"
     ]
    },
    {
     "name": "stderr",
     "output_type": "stream",
     "text": [
      " 45%|████▌     | 450/1000 [21:37<33:21,  3.64s/it]"
     ]
    },
    {
     "name": "stdout",
     "output_type": "stream",
     "text": [
      "File: PMC55341.tar.gz size: 450843 bytes\n"
     ]
    },
    {
     "name": "stderr",
     "output_type": "stream",
     "text": [
      " 45%|████▌     | 451/1000 [21:41<32:20,  3.54s/it]"
     ]
    },
    {
     "name": "stdout",
     "output_type": "stream",
     "text": [
      "File: PMC55342.tar.gz size: 812140 bytes\n"
     ]
    },
    {
     "name": "stderr",
     "output_type": "stream",
     "text": [
      " 45%|████▌     | 452/1000 [21:44<32:29,  3.56s/it]"
     ]
    },
    {
     "name": "stdout",
     "output_type": "stream",
     "text": [
      "File: PMC55343.tar.gz size: 411210 bytes\n"
     ]
    },
    {
     "name": "stderr",
     "output_type": "stream",
     "text": [
      " 45%|████▌     | 453/1000 [21:48<32:33,  3.57s/it]"
     ]
    },
    {
     "name": "stdout",
     "output_type": "stream",
     "text": [
      "File: PMC55344.tar.gz size: 234709 bytes\n"
     ]
    },
    {
     "name": "stderr",
     "output_type": "stream",
     "text": [
      " 45%|████▌     | 454/1000 [21:51<31:41,  3.48s/it]"
     ]
    },
    {
     "name": "stdout",
     "output_type": "stream",
     "text": [
      "File: PMC55345.tar.gz size: 218870 bytes\n"
     ]
    },
    {
     "name": "stderr",
     "output_type": "stream",
     "text": [
      " 46%|████▌     | 455/1000 [21:54<30:30,  3.36s/it]"
     ]
    },
    {
     "name": "stdout",
     "output_type": "stream",
     "text": [
      "File: PMC55692.tar.gz size: 643209 bytes\n"
     ]
    },
    {
     "name": "stderr",
     "output_type": "stream",
     "text": [
      " 46%|████▌     | 456/1000 [21:58<31:04,  3.43s/it]"
     ]
    },
    {
     "name": "stdout",
     "output_type": "stream",
     "text": [
      "File: PMC55693.tar.gz size: 1143629 bytes\n"
     ]
    },
    {
     "name": "stderr",
     "output_type": "stream",
     "text": [
      " 46%|████▌     | 457/1000 [22:02<32:47,  3.62s/it]"
     ]
    },
    {
     "name": "stdout",
     "output_type": "stream",
     "text": [
      "File: PMC55694.tar.gz size: 193566 bytes\n"
     ]
    },
    {
     "name": "stderr",
     "output_type": "stream",
     "text": [
      " 46%|████▌     | 458/1000 [22:05<31:43,  3.51s/it]"
     ]
    },
    {
     "name": "stdout",
     "output_type": "stream",
     "text": [
      "File: PMC56202.tar.gz size: 182712 bytes\n"
     ]
    },
    {
     "name": "stderr",
     "output_type": "stream",
     "text": [
      " 46%|████▌     | 459/1000 [22:08<29:54,  3.32s/it]"
     ]
    },
    {
     "name": "stdout",
     "output_type": "stream",
     "text": [
      "File: PMC56203.tar.gz size: 142831 bytes\n"
     ]
    },
    {
     "name": "stderr",
     "output_type": "stream",
     "text": [
      " 46%|████▌     | 460/1000 [22:11<28:49,  3.20s/it]"
     ]
    },
    {
     "name": "stdout",
     "output_type": "stream",
     "text": [
      "File: PMC56204.tar.gz size: 167267 bytes\n"
     ]
    },
    {
     "name": "stderr",
     "output_type": "stream",
     "text": [
      " 46%|████▌     | 461/1000 [22:14<27:50,  3.10s/it]"
     ]
    },
    {
     "name": "stdout",
     "output_type": "stream",
     "text": [
      "File: PMC56205.tar.gz size: 177440 bytes\n"
     ]
    },
    {
     "name": "stderr",
     "output_type": "stream",
     "text": [
      " 46%|████▌     | 462/1000 [22:16<27:00,  3.01s/it]"
     ]
    },
    {
     "name": "stdout",
     "output_type": "stream",
     "text": [
      "File: PMC56206.tar.gz size: 277184 bytes\n"
     ]
    },
    {
     "name": "stderr",
     "output_type": "stream",
     "text": [
      " 46%|████▋     | 463/1000 [22:20<27:17,  3.05s/it]"
     ]
    },
    {
     "name": "stdout",
     "output_type": "stream",
     "text": [
      "File: PMC56207.tar.gz size: 325791 bytes\n"
     ]
    },
    {
     "name": "stderr",
     "output_type": "stream",
     "text": [
      " 46%|████▋     | 464/1000 [22:23<27:20,  3.06s/it]"
     ]
    },
    {
     "name": "stdout",
     "output_type": "stream",
     "text": [
      "File: PMC56208.tar.gz size: 487987 bytes\n"
     ]
    },
    {
     "name": "stderr",
     "output_type": "stream",
     "text": [
      " 46%|████▋     | 465/1000 [22:26<28:00,  3.14s/it]"
     ]
    },
    {
     "name": "stdout",
     "output_type": "stream",
     "text": [
      "File: PMC56210.tar.gz size: 383290 bytes\n"
     ]
    },
    {
     "name": "stderr",
     "output_type": "stream",
     "text": [
      " 47%|████▋     | 466/1000 [22:29<28:29,  3.20s/it]"
     ]
    },
    {
     "name": "stdout",
     "output_type": "stream",
     "text": [
      "File: PMC56211.tar.gz size: 218808 bytes\n"
     ]
    },
    {
     "name": "stderr",
     "output_type": "stream",
     "text": [
      " 47%|████▋     | 467/1000 [22:33<28:42,  3.23s/it]"
     ]
    },
    {
     "name": "stdout",
     "output_type": "stream",
     "text": [
      "File: PMC56221.tar.gz size: 114402 bytes\n"
     ]
    },
    {
     "name": "stderr",
     "output_type": "stream",
     "text": [
      " 47%|████▋     | 468/1000 [22:36<27:49,  3.14s/it]"
     ]
    },
    {
     "name": "stdout",
     "output_type": "stream",
     "text": [
      "File: PMC56589.tar.gz size: 319839 bytes\n"
     ]
    },
    {
     "name": "stderr",
     "output_type": "stream",
     "text": [
      " 47%|████▋     | 469/1000 [22:39<27:49,  3.14s/it]"
     ]
    },
    {
     "name": "stdout",
     "output_type": "stream",
     "text": [
      "File: PMC56590.tar.gz size: 1081033 bytes\n"
     ]
    },
    {
     "name": "stderr",
     "output_type": "stream",
     "text": [
      " 47%|████▋     | 470/1000 [22:43<29:23,  3.33s/it]"
     ]
    },
    {
     "name": "stdout",
     "output_type": "stream",
     "text": [
      "File: PMC56591.tar.gz size: 697351 bytes\n"
     ]
    },
    {
     "name": "stderr",
     "output_type": "stream",
     "text": [
      " 47%|████▋     | 471/1000 [22:46<29:46,  3.38s/it]"
     ]
    },
    {
     "name": "stdout",
     "output_type": "stream",
     "text": [
      "File: PMC56592.tar.gz size: 529535 bytes\n"
     ]
    },
    {
     "name": "stderr",
     "output_type": "stream",
     "text": [
      " 47%|████▋     | 472/1000 [22:49<29:26,  3.35s/it]"
     ]
    },
    {
     "name": "stdout",
     "output_type": "stream",
     "text": [
      "File: PMC56593.tar.gz size: 240070 bytes\n"
     ]
    },
    {
     "name": "stderr",
     "output_type": "stream",
     "text": [
      " 47%|████▋     | 473/1000 [22:52<28:28,  3.24s/it]"
     ]
    },
    {
     "name": "stdout",
     "output_type": "stream",
     "text": [
      "File: PMC56594.tar.gz size: 314114 bytes\n"
     ]
    },
    {
     "name": "stderr",
     "output_type": "stream",
     "text": [
      " 47%|████▋     | 474/1000 [22:55<27:56,  3.19s/it]"
     ]
    },
    {
     "name": "stdout",
     "output_type": "stream",
     "text": [
      "File: PMC56607.tar.gz size: 343188 bytes\n"
     ]
    },
    {
     "name": "stderr",
     "output_type": "stream",
     "text": [
      " 48%|████▊     | 475/1000 [22:59<28:50,  3.30s/it]"
     ]
    },
    {
     "name": "stdout",
     "output_type": "stream",
     "text": [
      "File: PMC56633.tar.gz size: 299025 bytes\n"
     ]
    },
    {
     "name": "stderr",
     "output_type": "stream",
     "text": [
      " 48%|████▊     | 476/1000 [23:02<28:03,  3.21s/it]"
     ]
    },
    {
     "name": "stdout",
     "output_type": "stream",
     "text": [
      "File: PMC56634.tar.gz size: 310976 bytes\n"
     ]
    },
    {
     "name": "stderr",
     "output_type": "stream",
     "text": [
      " 48%|████▊     | 477/1000 [23:05<27:35,  3.17s/it]"
     ]
    },
    {
     "name": "stdout",
     "output_type": "stream",
     "text": [
      "File: PMC56895.tar.gz size: 1014770 bytes\n"
     ]
    },
    {
     "name": "stderr",
     "output_type": "stream",
     "text": [
      " 48%|████▊     | 478/1000 [23:08<28:33,  3.28s/it]"
     ]
    },
    {
     "name": "stdout",
     "output_type": "stream",
     "text": [
      "File: PMC56896.tar.gz size: 437636 bytes\n"
     ]
    },
    {
     "name": "stderr",
     "output_type": "stream",
     "text": [
      " 48%|████▊     | 479/1000 [23:12<28:29,  3.28s/it]"
     ]
    },
    {
     "name": "stdout",
     "output_type": "stream",
     "text": [
      "File: PMC56897.tar.gz size: 339638 bytes\n"
     ]
    },
    {
     "name": "stderr",
     "output_type": "stream",
     "text": [
      " 48%|████▊     | 480/1000 [23:15<27:49,  3.21s/it]"
     ]
    },
    {
     "name": "stdout",
     "output_type": "stream",
     "text": [
      "File: PMC56898.tar.gz size: 5656241 bytes\n"
     ]
    },
    {
     "name": "stderr",
     "output_type": "stream",
     "text": [
      " 48%|████▊     | 481/1000 [23:19<31:15,  3.61s/it]"
     ]
    },
    {
     "name": "stdout",
     "output_type": "stream",
     "text": [
      "File: PMC56899.tar.gz size: 978187 bytes\n"
     ]
    },
    {
     "name": "stderr",
     "output_type": "stream",
     "text": [
      " 48%|████▊     | 482/1000 [23:23<31:01,  3.59s/it]"
     ]
    },
    {
     "name": "stdout",
     "output_type": "stream",
     "text": [
      "File: PMC56900.tar.gz size: 172184 bytes\n"
     ]
    },
    {
     "name": "stderr",
     "output_type": "stream",
     "text": [
      " 48%|████▊     | 483/1000 [23:26<28:46,  3.34s/it]"
     ]
    },
    {
     "name": "stdout",
     "output_type": "stream",
     "text": [
      "File: PMC56901.tar.gz size: 496257 bytes\n"
     ]
    },
    {
     "name": "stderr",
     "output_type": "stream",
     "text": [
      " 48%|████▊     | 484/1000 [23:31<32:44,  3.81s/it]"
     ]
    },
    {
     "name": "stdout",
     "output_type": "stream",
     "text": [
      "File: PMC56902.tar.gz size: 224598 bytes\n"
     ]
    },
    {
     "name": "stderr",
     "output_type": "stream",
     "text": [
      " 48%|████▊     | 485/1000 [23:34<30:40,  3.57s/it]"
     ]
    },
    {
     "name": "stdout",
     "output_type": "stream",
     "text": [
      "File: PMC56903.tar.gz size: 490492 bytes\n"
     ]
    },
    {
     "name": "stderr",
     "output_type": "stream",
     "text": [
      " 49%|████▊     | 486/1000 [23:37<29:59,  3.50s/it]"
     ]
    },
    {
     "name": "stdout",
     "output_type": "stream",
     "text": [
      "File: PMC56995.tar.gz size: 889539 bytes\n"
     ]
    },
    {
     "name": "stderr",
     "output_type": "stream",
     "text": [
      " 49%|████▊     | 487/1000 [23:41<30:15,  3.54s/it]"
     ]
    },
    {
     "name": "stdout",
     "output_type": "stream",
     "text": [
      "File: PMC56996.tar.gz size: 328323 bytes\n"
     ]
    },
    {
     "name": "stderr",
     "output_type": "stream",
     "text": [
      " 49%|████▉     | 488/1000 [23:44<29:48,  3.49s/it]"
     ]
    },
    {
     "name": "stdout",
     "output_type": "stream",
     "text": [
      "File: PMC56997.tar.gz size: 695844 bytes\n"
     ]
    },
    {
     "name": "stderr",
     "output_type": "stream",
     "text": [
      " 49%|████▉     | 489/1000 [23:48<29:57,  3.52s/it]"
     ]
    },
    {
     "name": "stdout",
     "output_type": "stream",
     "text": [
      "File: PMC56998.tar.gz size: 823558 bytes\n"
     ]
    },
    {
     "name": "stderr",
     "output_type": "stream",
     "text": [
      " 49%|████▉     | 490/1000 [23:51<30:00,  3.53s/it]"
     ]
    },
    {
     "name": "stdout",
     "output_type": "stream",
     "text": [
      "File: PMC56999.tar.gz size: 1298108 bytes\n"
     ]
    },
    {
     "name": "stderr",
     "output_type": "stream",
     "text": [
      " 49%|████▉     | 491/1000 [23:55<30:42,  3.62s/it]"
     ]
    },
    {
     "name": "stdout",
     "output_type": "stream",
     "text": [
      "File: PMC57000.tar.gz size: 248735 bytes\n"
     ]
    },
    {
     "name": "stderr",
     "output_type": "stream",
     "text": [
      " 49%|████▉     | 492/1000 [23:58<29:16,  3.46s/it]"
     ]
    },
    {
     "name": "stdout",
     "output_type": "stream",
     "text": [
      "File: PMC57001.tar.gz size: 1182892 bytes\n"
     ]
    },
    {
     "name": "stderr",
     "output_type": "stream",
     "text": [
      " 49%|████▉     | 493/1000 [24:02<29:40,  3.51s/it]"
     ]
    },
    {
     "name": "stdout",
     "output_type": "stream",
     "text": [
      "File: PMC57002.tar.gz size: 312332 bytes\n"
     ]
    },
    {
     "name": "stderr",
     "output_type": "stream",
     "text": [
      " 49%|████▉     | 494/1000 [24:05<28:49,  3.42s/it]"
     ]
    },
    {
     "name": "stdout",
     "output_type": "stream",
     "text": [
      "File: PMC57003.tar.gz size: 276766 bytes\n"
     ]
    },
    {
     "name": "stderr",
     "output_type": "stream",
     "text": [
      " 50%|████▉     | 495/1000 [24:08<28:25,  3.38s/it]"
     ]
    },
    {
     "name": "stdout",
     "output_type": "stream",
     "text": [
      "File: PMC57004.tar.gz size: 225815 bytes\n"
     ]
    },
    {
     "name": "stderr",
     "output_type": "stream",
     "text": [
      " 50%|████▉     | 496/1000 [24:11<27:40,  3.30s/it]"
     ]
    },
    {
     "name": "stdout",
     "output_type": "stream",
     "text": [
      "File: PMC57005.tar.gz size: 205853 bytes\n"
     ]
    },
    {
     "name": "stderr",
     "output_type": "stream",
     "text": [
      " 50%|████▉     | 497/1000 [24:14<27:05,  3.23s/it]"
     ]
    },
    {
     "name": "stdout",
     "output_type": "stream",
     "text": [
      "File: PMC57006.tar.gz size: 549840 bytes\n"
     ]
    },
    {
     "name": "stderr",
     "output_type": "stream",
     "text": [
      " 50%|████▉     | 498/1000 [24:18<28:18,  3.38s/it]"
     ]
    },
    {
     "name": "stdout",
     "output_type": "stream",
     "text": [
      "File: PMC57007.tar.gz size: 1180933 bytes\n"
     ]
    },
    {
     "name": "stderr",
     "output_type": "stream",
     "text": [
      " 50%|████▉     | 499/1000 [24:22<28:37,  3.43s/it]"
     ]
    },
    {
     "name": "stdout",
     "output_type": "stream",
     "text": [
      "File: PMC57008.tar.gz size: 436568 bytes\n"
     ]
    },
    {
     "name": "stderr",
     "output_type": "stream",
     "text": [
      " 50%|█████     | 500/1000 [24:25<28:36,  3.43s/it]"
     ]
    },
    {
     "name": "stdout",
     "output_type": "stream",
     "text": [
      "File: PMC57009.tar.gz size: 304106 bytes\n"
     ]
    },
    {
     "name": "stderr",
     "output_type": "stream",
     "text": [
      " 50%|█████     | 501/1000 [24:28<27:38,  3.32s/it]"
     ]
    },
    {
     "name": "stdout",
     "output_type": "stream",
     "text": [
      "File: PMC57735.tar.gz size: 1704536 bytes\n"
     ]
    },
    {
     "name": "stderr",
     "output_type": "stream",
     "text": [
      " 50%|█████     | 502/1000 [24:32<28:56,  3.49s/it]"
     ]
    },
    {
     "name": "stdout",
     "output_type": "stream",
     "text": [
      "File: PMC57736.tar.gz size: 1480258 bytes\n"
     ]
    },
    {
     "name": "stderr",
     "output_type": "stream",
     "text": [
      " 50%|█████     | 503/1000 [24:36<29:38,  3.58s/it]"
     ]
    },
    {
     "name": "stdout",
     "output_type": "stream",
     "text": [
      "File: PMC57737.tar.gz size: 1973501 bytes\n"
     ]
    },
    {
     "name": "stderr",
     "output_type": "stream",
     "text": [
      " 50%|█████     | 504/1000 [24:40<30:07,  3.64s/it]"
     ]
    },
    {
     "name": "stdout",
     "output_type": "stream",
     "text": [
      "File: PMC57738.tar.gz size: 137994 bytes\n"
     ]
    },
    {
     "name": "stderr",
     "output_type": "stream",
     "text": [
      " 50%|█████     | 505/1000 [24:42<27:58,  3.39s/it]"
     ]
    },
    {
     "name": "stdout",
     "output_type": "stream",
     "text": [
      "File: PMC57739.tar.gz size: 1341703 bytes\n"
     ]
    },
    {
     "name": "stderr",
     "output_type": "stream",
     "text": [
      " 51%|█████     | 506/1000 [24:47<30:09,  3.66s/it]"
     ]
    },
    {
     "name": "stdout",
     "output_type": "stream",
     "text": [
      "File: PMC57740.tar.gz size: 1526345 bytes\n"
     ]
    },
    {
     "name": "stderr",
     "output_type": "stream",
     "text": [
      " 51%|█████     | 507/1000 [24:51<31:37,  3.85s/it]"
     ]
    },
    {
     "name": "stdout",
     "output_type": "stream",
     "text": [
      "File: PMC57741.tar.gz size: 271736 bytes\n"
     ]
    },
    {
     "name": "stderr",
     "output_type": "stream",
     "text": [
      " 51%|█████     | 508/1000 [24:54<29:39,  3.62s/it]"
     ]
    },
    {
     "name": "stdout",
     "output_type": "stream",
     "text": [
      "File: PMC57742.tar.gz size: 204784 bytes\n"
     ]
    },
    {
     "name": "stderr",
     "output_type": "stream",
     "text": [
      " 51%|█████     | 509/1000 [24:57<27:46,  3.39s/it]"
     ]
    },
    {
     "name": "stdout",
     "output_type": "stream",
     "text": [
      "File: PMC57743.tar.gz size: 331337 bytes\n"
     ]
    },
    {
     "name": "stderr",
     "output_type": "stream",
     "text": [
      " 51%|█████     | 510/1000 [25:00<27:00,  3.31s/it]"
     ]
    },
    {
     "name": "stdout",
     "output_type": "stream",
     "text": [
      "File: PMC57744.tar.gz size: 264363 bytes\n"
     ]
    },
    {
     "name": "stderr",
     "output_type": "stream",
     "text": [
      " 51%|█████     | 511/1000 [25:03<26:33,  3.26s/it]"
     ]
    },
    {
     "name": "stdout",
     "output_type": "stream",
     "text": [
      "File: PMC57745.tar.gz size: 188065 bytes\n"
     ]
    },
    {
     "name": "stderr",
     "output_type": "stream",
     "text": [
      " 51%|█████     | 512/1000 [25:06<25:29,  3.13s/it]"
     ]
    },
    {
     "name": "stdout",
     "output_type": "stream",
     "text": [
      "File: PMC57746.tar.gz size: 996073 bytes\n"
     ]
    },
    {
     "name": "stderr",
     "output_type": "stream",
     "text": [
      " 51%|█████▏    | 513/1000 [25:10<26:59,  3.32s/it]"
     ]
    },
    {
     "name": "stdout",
     "output_type": "stream",
     "text": [
      "File: PMC57747.tar.gz size: 933548 bytes\n"
     ]
    },
    {
     "name": "stderr",
     "output_type": "stream",
     "text": [
      " 51%|█████▏    | 514/1000 [25:13<27:45,  3.43s/it]"
     ]
    },
    {
     "name": "stdout",
     "output_type": "stream",
     "text": [
      "File: PMC57748.tar.gz size: 304522 bytes\n"
     ]
    },
    {
     "name": "stderr",
     "output_type": "stream",
     "text": [
      " 52%|█████▏    | 515/1000 [25:17<28:58,  3.59s/it]"
     ]
    },
    {
     "name": "stdout",
     "output_type": "stream",
     "text": [
      "File: PMC57749.tar.gz size: 168667 bytes\n"
     ]
    },
    {
     "name": "stderr",
     "output_type": "stream",
     "text": [
      " 52%|█████▏    | 516/1000 [25:20<27:40,  3.43s/it]"
     ]
    },
    {
     "name": "stdout",
     "output_type": "stream",
     "text": [
      "File: PMC57750.tar.gz size: 68194 bytes\n"
     ]
    },
    {
     "name": "stderr",
     "output_type": "stream",
     "text": [
      " 52%|█████▏    | 517/1000 [25:23<25:29,  3.17s/it]"
     ]
    },
    {
     "name": "stdout",
     "output_type": "stream",
     "text": [
      "File: PMC57751.tar.gz size: 815606 bytes\n"
     ]
    },
    {
     "name": "stderr",
     "output_type": "stream",
     "text": [
      " 52%|█████▏    | 518/1000 [25:27<26:35,  3.31s/it]"
     ]
    },
    {
     "name": "stdout",
     "output_type": "stream",
     "text": [
      "File: PMC57752.tar.gz size: 378616 bytes\n"
     ]
    },
    {
     "name": "stderr",
     "output_type": "stream",
     "text": [
      " 52%|█████▏    | 519/1000 [25:30<26:37,  3.32s/it]"
     ]
    },
    {
     "name": "stdout",
     "output_type": "stream",
     "text": [
      "File: PMC57753.tar.gz size: 1455956 bytes\n"
     ]
    },
    {
     "name": "stderr",
     "output_type": "stream",
     "text": [
      " 52%|█████▏    | 520/1000 [25:34<27:49,  3.48s/it]"
     ]
    },
    {
     "name": "stdout",
     "output_type": "stream",
     "text": [
      "File: PMC57796.tar.gz size: 1002406 bytes\n"
     ]
    },
    {
     "name": "stderr",
     "output_type": "stream",
     "text": [
      " 52%|█████▏    | 521/1000 [25:38<28:04,  3.52s/it]"
     ]
    },
    {
     "name": "stdout",
     "output_type": "stream",
     "text": [
      "File: PMC57797.tar.gz size: 4265973 bytes\n"
     ]
    },
    {
     "name": "stderr",
     "output_type": "stream",
     "text": [
      " 52%|█████▏    | 522/1000 [25:42<31:09,  3.91s/it]"
     ]
    },
    {
     "name": "stdout",
     "output_type": "stream",
     "text": [
      "File: PMC57798.tar.gz size: 1230029 bytes\n"
     ]
    },
    {
     "name": "stderr",
     "output_type": "stream",
     "text": [
      " 52%|█████▏    | 523/1000 [25:46<30:06,  3.79s/it]"
     ]
    },
    {
     "name": "stdout",
     "output_type": "stream",
     "text": [
      "File: PMC57799.tar.gz size: 549611 bytes\n"
     ]
    },
    {
     "name": "stderr",
     "output_type": "stream",
     "text": [
      " 52%|█████▏    | 524/1000 [25:49<29:11,  3.68s/it]"
     ]
    },
    {
     "name": "stdout",
     "output_type": "stream",
     "text": [
      "File: PMC57803.tar.gz size: 1469526 bytes\n"
     ]
    },
    {
     "name": "stderr",
     "output_type": "stream",
     "text": [
      " 52%|█████▎    | 525/1000 [25:54<30:54,  3.90s/it]"
     ]
    },
    {
     "name": "stdout",
     "output_type": "stream",
     "text": [
      "File: PMC57804.tar.gz size: 100784 bytes\n"
     ]
    },
    {
     "name": "stderr",
     "output_type": "stream",
     "text": [
      " 53%|█████▎    | 526/1000 [25:56<28:08,  3.56s/it]"
     ]
    },
    {
     "name": "stdout",
     "output_type": "stream",
     "text": [
      "File: PMC57805.tar.gz size: 269777 bytes\n"
     ]
    },
    {
     "name": "stderr",
     "output_type": "stream",
     "text": [
      " 53%|█████▎    | 527/1000 [25:59<26:58,  3.42s/it]"
     ]
    },
    {
     "name": "stdout",
     "output_type": "stream",
     "text": [
      "File: PMC57806.tar.gz size: 1266880 bytes\n"
     ]
    },
    {
     "name": "stderr",
     "output_type": "stream",
     "text": [
      " 53%|█████▎    | 528/1000 [26:03<27:45,  3.53s/it]"
     ]
    },
    {
     "name": "stdout",
     "output_type": "stream",
     "text": [
      "File: PMC57807.tar.gz size: 257238 bytes\n"
     ]
    },
    {
     "name": "stderr",
     "output_type": "stream",
     "text": [
      " 53%|█████▎    | 529/1000 [26:07<27:01,  3.44s/it]"
     ]
    },
    {
     "name": "stdout",
     "output_type": "stream",
     "text": [
      "File: PMC57808.tar.gz size: 230798 bytes\n"
     ]
    },
    {
     "name": "stderr",
     "output_type": "stream",
     "text": [
      " 53%|█████▎    | 530/1000 [26:10<26:11,  3.34s/it]"
     ]
    },
    {
     "name": "stdout",
     "output_type": "stream",
     "text": [
      "File: PMC57809.tar.gz size: 251618 bytes\n"
     ]
    },
    {
     "name": "stderr",
     "output_type": "stream",
     "text": [
      " 53%|█████▎    | 531/1000 [26:13<26:08,  3.34s/it]"
     ]
    },
    {
     "name": "stdout",
     "output_type": "stream",
     "text": [
      "File: PMC57810.tar.gz size: 257404 bytes\n"
     ]
    },
    {
     "name": "stderr",
     "output_type": "stream",
     "text": [
      " 53%|█████▎    | 532/1000 [26:16<25:23,  3.26s/it]"
     ]
    },
    {
     "name": "stdout",
     "output_type": "stream",
     "text": [
      "File: PMC57811.tar.gz size: 1146027 bytes\n"
     ]
    },
    {
     "name": "stderr",
     "output_type": "stream",
     "text": [
      " 53%|█████▎    | 533/1000 [26:20<25:53,  3.33s/it]"
     ]
    },
    {
     "name": "stdout",
     "output_type": "stream",
     "text": [
      "File: PMC57812.tar.gz size: 205267 bytes\n"
     ]
    },
    {
     "name": "stderr",
     "output_type": "stream",
     "text": [
      " 53%|█████▎    | 534/1000 [26:22<24:42,  3.18s/it]"
     ]
    },
    {
     "name": "stdout",
     "output_type": "stream",
     "text": [
      "File: PMC57813.tar.gz size: 236208 bytes\n"
     ]
    },
    {
     "name": "stderr",
     "output_type": "stream",
     "text": [
      " 54%|█████▎    | 535/1000 [26:25<24:17,  3.14s/it]"
     ]
    },
    {
     "name": "stdout",
     "output_type": "stream",
     "text": [
      "File: PMC57814.tar.gz size: 412481 bytes\n"
     ]
    },
    {
     "name": "stderr",
     "output_type": "stream",
     "text": [
      " 54%|█████▎    | 536/1000 [26:29<25:18,  3.27s/it]"
     ]
    },
    {
     "name": "stdout",
     "output_type": "stream",
     "text": [
      "File: PMC57815.tar.gz size: 1979163 bytes\n"
     ]
    },
    {
     "name": "stderr",
     "output_type": "stream",
     "text": [
      " 54%|█████▎    | 537/1000 [26:33<26:43,  3.46s/it]"
     ]
    },
    {
     "name": "stdout",
     "output_type": "stream",
     "text": [
      "File: PMC57816.tar.gz size: 281381 bytes\n"
     ]
    },
    {
     "name": "stderr",
     "output_type": "stream",
     "text": [
      " 54%|█████▍    | 538/1000 [26:36<25:42,  3.34s/it]"
     ]
    },
    {
     "name": "stdout",
     "output_type": "stream",
     "text": [
      "File: PMC57979.tar.gz size: 312983 bytes\n"
     ]
    },
    {
     "name": "stderr",
     "output_type": "stream",
     "text": [
      " 54%|█████▍    | 539/1000 [26:39<25:09,  3.27s/it]"
     ]
    },
    {
     "name": "stdout",
     "output_type": "stream",
     "text": [
      "File: PMC57980.tar.gz size: 814604 bytes\n"
     ]
    },
    {
     "name": "stderr",
     "output_type": "stream",
     "text": [
      " 54%|█████▍    | 540/1000 [26:43<25:45,  3.36s/it]"
     ]
    },
    {
     "name": "stdout",
     "output_type": "stream",
     "text": [
      "File: PMC57981.tar.gz size: 430201 bytes\n"
     ]
    },
    {
     "name": "stderr",
     "output_type": "stream",
     "text": [
      " 54%|█████▍    | 541/1000 [26:46<25:38,  3.35s/it]"
     ]
    },
    {
     "name": "stdout",
     "output_type": "stream",
     "text": [
      "File: PMC57982.tar.gz size: 296864 bytes\n"
     ]
    },
    {
     "name": "stderr",
     "output_type": "stream",
     "text": [
      " 54%|█████▍    | 542/1000 [26:49<25:01,  3.28s/it]"
     ]
    },
    {
     "name": "stdout",
     "output_type": "stream",
     "text": [
      "File: PMC58584.tar.gz size: 572800 bytes\n"
     ]
    },
    {
     "name": "stderr",
     "output_type": "stream",
     "text": [
      " 54%|█████▍    | 543/1000 [26:52<25:12,  3.31s/it]"
     ]
    },
    {
     "name": "stdout",
     "output_type": "stream",
     "text": [
      "File: PMC58585.tar.gz size: 396124 bytes\n"
     ]
    },
    {
     "name": "stderr",
     "output_type": "stream",
     "text": [
      " 54%|█████▍    | 544/1000 [26:56<25:39,  3.38s/it]"
     ]
    },
    {
     "name": "stdout",
     "output_type": "stream",
     "text": [
      "File: PMC58586.tar.gz size: 838653 bytes\n"
     ]
    },
    {
     "name": "stderr",
     "output_type": "stream",
     "text": [
      " 55%|█████▍    | 545/1000 [27:00<26:16,  3.47s/it]"
     ]
    },
    {
     "name": "stdout",
     "output_type": "stream",
     "text": [
      "File: PMC58587.tar.gz size: 343851 bytes\n"
     ]
    },
    {
     "name": "stderr",
     "output_type": "stream",
     "text": [
      " 55%|█████▍    | 546/1000 [27:03<26:07,  3.45s/it]"
     ]
    },
    {
     "name": "stdout",
     "output_type": "stream",
     "text": [
      "File: PMC58588.tar.gz size: 213518 bytes\n"
     ]
    },
    {
     "name": "stderr",
     "output_type": "stream",
     "text": [
      " 55%|█████▍    | 547/1000 [27:06<25:08,  3.33s/it]"
     ]
    },
    {
     "name": "stdout",
     "output_type": "stream",
     "text": [
      "File: PMC58589.tar.gz size: 233834 bytes\n"
     ]
    },
    {
     "name": "stderr",
     "output_type": "stream",
     "text": [
      " 55%|█████▍    | 548/1000 [27:09<24:49,  3.30s/it]"
     ]
    },
    {
     "name": "stdout",
     "output_type": "stream",
     "text": [
      "File: PMC58590.tar.gz size: 1068502 bytes\n"
     ]
    },
    {
     "name": "stderr",
     "output_type": "stream",
     "text": [
      " 55%|█████▍    | 549/1000 [27:15<30:52,  4.11s/it]"
     ]
    },
    {
     "name": "stdout",
     "output_type": "stream",
     "text": [
      "File: PMC58833.tar.gz size: 891524 bytes\n"
     ]
    },
    {
     "name": "stderr",
     "output_type": "stream",
     "text": [
      " 55%|█████▌    | 550/1000 [27:19<29:31,  3.94s/it]"
     ]
    },
    {
     "name": "stdout",
     "output_type": "stream",
     "text": [
      "File: PMC58835.tar.gz size: 476207 bytes\n"
     ]
    },
    {
     "name": "stderr",
     "output_type": "stream",
     "text": [
      " 55%|█████▌    | 551/1000 [27:22<28:19,  3.79s/it]"
     ]
    },
    {
     "name": "stdout",
     "output_type": "stream",
     "text": [
      "File: PMC58836.tar.gz size: 391537 bytes\n"
     ]
    },
    {
     "name": "stderr",
     "output_type": "stream",
     "text": [
      " 55%|█████▌    | 552/1000 [27:26<27:19,  3.66s/it]"
     ]
    },
    {
     "name": "stdout",
     "output_type": "stream",
     "text": [
      "File: PMC58837.tar.gz size: 279863 bytes\n"
     ]
    },
    {
     "name": "stderr",
     "output_type": "stream",
     "text": [
      " 55%|█████▌    | 553/1000 [27:30<28:03,  3.77s/it]"
     ]
    },
    {
     "name": "stdout",
     "output_type": "stream",
     "text": [
      "File: PMC58838.tar.gz size: 597012 bytes\n"
     ]
    },
    {
     "name": "stderr",
     "output_type": "stream",
     "text": [
      " 55%|█████▌    | 554/1000 [27:35<31:29,  4.24s/it]"
     ]
    },
    {
     "name": "stdout",
     "output_type": "stream",
     "text": [
      "File: PMC58839.tar.gz size: 488879 bytes\n"
     ]
    },
    {
     "name": "stderr",
     "output_type": "stream",
     "text": [
      " 56%|█████▌    | 555/1000 [27:39<29:57,  4.04s/it]"
     ]
    },
    {
     "name": "stdout",
     "output_type": "stream",
     "text": [
      "File: PMC59472.tar.gz size: 386881 bytes\n"
     ]
    },
    {
     "name": "stderr",
     "output_type": "stream",
     "text": [
      " 56%|█████▌    | 556/1000 [27:42<28:39,  3.87s/it]"
     ]
    },
    {
     "name": "stdout",
     "output_type": "stream",
     "text": [
      "File: PMC59506.tar.gz size: 374373 bytes\n"
     ]
    },
    {
     "name": "stderr",
     "output_type": "stream",
     "text": [
      " 56%|█████▌    | 557/1000 [27:46<27:38,  3.74s/it]"
     ]
    },
    {
     "name": "stdout",
     "output_type": "stream",
     "text": [
      "File: PMC59507.tar.gz size: 964328 bytes\n"
     ]
    },
    {
     "name": "stderr",
     "output_type": "stream",
     "text": [
      " 56%|█████▌    | 558/1000 [27:49<27:26,  3.73s/it]"
     ]
    },
    {
     "name": "stdout",
     "output_type": "stream",
     "text": [
      "File: PMC59508.tar.gz size: 57219 bytes\n"
     ]
    },
    {
     "name": "stderr",
     "output_type": "stream",
     "text": [
      " 56%|█████▌    | 559/1000 [27:52<24:54,  3.39s/it]"
     ]
    },
    {
     "name": "stdout",
     "output_type": "stream",
     "text": [
      "File: PMC59509.tar.gz size: 36027 bytes\n"
     ]
    },
    {
     "name": "stderr",
     "output_type": "stream",
     "text": [
      " 56%|█████▌    | 560/1000 [27:54<22:29,  3.07s/it]"
     ]
    },
    {
     "name": "stdout",
     "output_type": "stream",
     "text": [
      "File: PMC59510.tar.gz size: 48476 bytes\n"
     ]
    },
    {
     "name": "stderr",
     "output_type": "stream",
     "text": [
      " 56%|█████▌    | 561/1000 [27:57<21:20,  2.92s/it]"
     ]
    },
    {
     "name": "stdout",
     "output_type": "stream",
     "text": [
      "File: PMC59511.tar.gz size: 46384 bytes\n"
     ]
    },
    {
     "name": "stderr",
     "output_type": "stream",
     "text": [
      " 56%|█████▌    | 562/1000 [27:59<20:39,  2.83s/it]"
     ]
    },
    {
     "name": "stdout",
     "output_type": "stream",
     "text": [
      "File: PMC59512.tar.gz size: 51529 bytes\n"
     ]
    },
    {
     "name": "stderr",
     "output_type": "stream",
     "text": [
      " 56%|█████▋    | 563/1000 [28:02<20:04,  2.76s/it]"
     ]
    },
    {
     "name": "stdout",
     "output_type": "stream",
     "text": [
      "File: PMC59513.tar.gz size: 149448 bytes\n"
     ]
    },
    {
     "name": "stderr",
     "output_type": "stream",
     "text": [
      " 56%|█████▋    | 564/1000 [28:05<20:22,  2.80s/it]"
     ]
    },
    {
     "name": "stdout",
     "output_type": "stream",
     "text": [
      "File: PMC59514.tar.gz size: 73168 bytes\n"
     ]
    },
    {
     "name": "stderr",
     "output_type": "stream",
     "text": [
      " 56%|█████▋    | 565/1000 [28:07<19:46,  2.73s/it]"
     ]
    },
    {
     "name": "stdout",
     "output_type": "stream",
     "text": [
      "File: PMC59515.tar.gz size: 47460 bytes\n"
     ]
    },
    {
     "name": "stderr",
     "output_type": "stream",
     "text": [
      " 57%|█████▋    | 566/1000 [28:10<19:11,  2.65s/it]"
     ]
    },
    {
     "name": "stdout",
     "output_type": "stream",
     "text": [
      "File: PMC59516.tar.gz size: 57608 bytes\n"
     ]
    },
    {
     "name": "stderr",
     "output_type": "stream",
     "text": [
      " 57%|█████▋    | 567/1000 [28:12<19:05,  2.65s/it]"
     ]
    },
    {
     "name": "stdout",
     "output_type": "stream",
     "text": [
      "File: PMC59517.tar.gz size: 213555 bytes\n"
     ]
    },
    {
     "name": "stderr",
     "output_type": "stream",
     "text": [
      " 57%|█████▋    | 568/1000 [28:16<20:04,  2.79s/it]"
     ]
    },
    {
     "name": "stdout",
     "output_type": "stream",
     "text": [
      "File: PMC59518.tar.gz size: 449825 bytes\n"
     ]
    },
    {
     "name": "stderr",
     "output_type": "stream",
     "text": [
      " 57%|█████▋    | 569/1000 [28:19<20:59,  2.92s/it]"
     ]
    },
    {
     "name": "stdout",
     "output_type": "stream",
     "text": [
      "File: PMC59519.tar.gz size: 542200 bytes\n"
     ]
    },
    {
     "name": "stderr",
     "output_type": "stream",
     "text": [
      " 57%|█████▋    | 570/1000 [28:22<21:49,  3.05s/it]"
     ]
    },
    {
     "name": "stdout",
     "output_type": "stream",
     "text": [
      "File: PMC59520.tar.gz size: 2291436 bytes\n"
     ]
    },
    {
     "name": "stderr",
     "output_type": "stream",
     "text": [
      " 57%|█████▋    | 571/1000 [28:26<23:55,  3.35s/it]"
     ]
    },
    {
     "name": "stdout",
     "output_type": "stream",
     "text": [
      "File: PMC59521.tar.gz size: 2003510 bytes\n"
     ]
    },
    {
     "name": "stderr",
     "output_type": "stream",
     "text": [
      " 57%|█████▋    | 572/1000 [28:30<25:14,  3.54s/it]"
     ]
    },
    {
     "name": "stdout",
     "output_type": "stream",
     "text": [
      "File: PMC59522.tar.gz size: 36098 bytes\n"
     ]
    },
    {
     "name": "stderr",
     "output_type": "stream",
     "text": [
      " 57%|█████▋    | 573/1000 [28:32<22:33,  3.17s/it]"
     ]
    },
    {
     "name": "stdout",
     "output_type": "stream",
     "text": [
      "File: PMC59523.tar.gz size: 45894 bytes\n"
     ]
    },
    {
     "name": "stderr",
     "output_type": "stream",
     "text": [
      " 57%|█████▋    | 574/1000 [28:35<21:16,  3.00s/it]"
     ]
    },
    {
     "name": "stdout",
     "output_type": "stream",
     "text": [
      "File: PMC59524.tar.gz size: 36992 bytes\n"
     ]
    },
    {
     "name": "stderr",
     "output_type": "stream",
     "text": [
      " 57%|█████▊    | 575/1000 [28:37<19:44,  2.79s/it]"
     ]
    },
    {
     "name": "stdout",
     "output_type": "stream",
     "text": [
      "File: PMC59525.tar.gz size: 34875 bytes\n"
     ]
    },
    {
     "name": "stderr",
     "output_type": "stream",
     "text": [
      " 58%|█████▊    | 576/1000 [28:40<18:37,  2.64s/it]"
     ]
    },
    {
     "name": "stdout",
     "output_type": "stream",
     "text": [
      "File: PMC59526.tar.gz size: 71010 bytes\n"
     ]
    },
    {
     "name": "stderr",
     "output_type": "stream",
     "text": [
      " 58%|█████▊    | 577/1000 [28:42<18:40,  2.65s/it]"
     ]
    },
    {
     "name": "stdout",
     "output_type": "stream",
     "text": [
      "File: PMC59527.tar.gz size: 58945 bytes\n"
     ]
    },
    {
     "name": "stderr",
     "output_type": "stream",
     "text": [
      " 58%|█████▊    | 578/1000 [28:45<18:27,  2.62s/it]"
     ]
    },
    {
     "name": "stdout",
     "output_type": "stream",
     "text": [
      "File: PMC59528.tar.gz size: 43340 bytes\n"
     ]
    },
    {
     "name": "stderr",
     "output_type": "stream",
     "text": [
      " 58%|█████▊    | 579/1000 [28:48<18:22,  2.62s/it]"
     ]
    },
    {
     "name": "stdout",
     "output_type": "stream",
     "text": [
      "File: PMC59529.tar.gz size: 48078 bytes\n"
     ]
    },
    {
     "name": "stderr",
     "output_type": "stream",
     "text": [
      " 58%|█████▊    | 580/1000 [28:50<18:13,  2.60s/it]"
     ]
    },
    {
     "name": "stdout",
     "output_type": "stream",
     "text": [
      "File: PMC59530.tar.gz size: 1143718 bytes\n"
     ]
    },
    {
     "name": "stderr",
     "output_type": "stream",
     "text": [
      " 58%|█████▊    | 581/1000 [28:54<19:59,  2.86s/it]"
     ]
    },
    {
     "name": "stdout",
     "output_type": "stream",
     "text": [
      "File: PMC59531.tar.gz size: 74247 bytes\n"
     ]
    },
    {
     "name": "stderr",
     "output_type": "stream",
     "text": [
      " 58%|█████▊    | 582/1000 [28:56<19:19,  2.77s/it]"
     ]
    },
    {
     "name": "stdout",
     "output_type": "stream",
     "text": [
      "File: PMC59532.tar.gz size: 101662 bytes\n"
     ]
    },
    {
     "name": "stderr",
     "output_type": "stream",
     "text": [
      " 58%|█████▊    | 583/1000 [28:59<19:26,  2.80s/it]"
     ]
    },
    {
     "name": "stdout",
     "output_type": "stream",
     "text": [
      "File: PMC59533.tar.gz size: 82879 bytes\n"
     ]
    },
    {
     "name": "stderr",
     "output_type": "stream",
     "text": [
      " 58%|█████▊    | 584/1000 [29:02<19:11,  2.77s/it]"
     ]
    },
    {
     "name": "stdout",
     "output_type": "stream",
     "text": [
      "File: PMC59534.tar.gz size: 102497 bytes\n"
     ]
    },
    {
     "name": "stderr",
     "output_type": "stream",
     "text": [
      " 58%|█████▊    | 585/1000 [29:04<19:10,  2.77s/it]"
     ]
    },
    {
     "name": "stdout",
     "output_type": "stream",
     "text": [
      "File: PMC59535.tar.gz size: 93694 bytes\n"
     ]
    },
    {
     "name": "stderr",
     "output_type": "stream",
     "text": [
      " 59%|█████▊    | 586/1000 [29:07<18:43,  2.71s/it]"
     ]
    },
    {
     "name": "stdout",
     "output_type": "stream",
     "text": [
      "File: PMC59536.tar.gz size: 226913 bytes\n"
     ]
    },
    {
     "name": "stderr",
     "output_type": "stream",
     "text": [
      " 59%|█████▊    | 587/1000 [29:10<19:32,  2.84s/it]"
     ]
    },
    {
     "name": "stdout",
     "output_type": "stream",
     "text": [
      "File: PMC59537.tar.gz size: 117020 bytes\n"
     ]
    },
    {
     "name": "stderr",
     "output_type": "stream",
     "text": [
      " 59%|█████▉    | 588/1000 [29:13<19:28,  2.84s/it]"
     ]
    },
    {
     "name": "stdout",
     "output_type": "stream",
     "text": [
      "File: PMC59538.tar.gz size: 214372 bytes\n"
     ]
    },
    {
     "name": "stderr",
     "output_type": "stream",
     "text": [
      " 59%|█████▉    | 589/1000 [29:16<19:58,  2.92s/it]"
     ]
    },
    {
     "name": "stdout",
     "output_type": "stream",
     "text": [
      "File: PMC59539.tar.gz size: 411673 bytes\n"
     ]
    },
    {
     "name": "stderr",
     "output_type": "stream",
     "text": [
      " 59%|█████▉    | 590/1000 [29:19<20:45,  3.04s/it]"
     ]
    },
    {
     "name": "stdout",
     "output_type": "stream",
     "text": [
      "File: PMC59540.tar.gz size: 88942 bytes\n"
     ]
    },
    {
     "name": "stderr",
     "output_type": "stream",
     "text": [
      " 59%|█████▉    | 591/1000 [29:22<19:41,  2.89s/it]"
     ]
    },
    {
     "name": "stdout",
     "output_type": "stream",
     "text": [
      "File: PMC59541.tar.gz size: 1513747 bytes\n"
     ]
    },
    {
     "name": "stderr",
     "output_type": "stream",
     "text": [
      " 59%|█████▉    | 592/1000 [29:26<21:28,  3.16s/it]"
     ]
    },
    {
     "name": "stdout",
     "output_type": "stream",
     "text": [
      "File: PMC59542.tar.gz size: 321445 bytes\n"
     ]
    },
    {
     "name": "stderr",
     "output_type": "stream",
     "text": [
      " 59%|█████▉    | 593/1000 [29:29<21:17,  3.14s/it]"
     ]
    },
    {
     "name": "stdout",
     "output_type": "stream",
     "text": [
      "File: PMC59543.tar.gz size: 126017 bytes\n"
     ]
    },
    {
     "name": "stderr",
     "output_type": "stream",
     "text": [
      " 59%|█████▉    | 594/1000 [29:32<20:35,  3.04s/it]"
     ]
    },
    {
     "name": "stdout",
     "output_type": "stream",
     "text": [
      "File: PMC59544.tar.gz size: 136426 bytes\n"
     ]
    },
    {
     "name": "stderr",
     "output_type": "stream",
     "text": [
      " 60%|█████▉    | 595/1000 [29:35<20:16,  3.00s/it]"
     ]
    },
    {
     "name": "stdout",
     "output_type": "stream",
     "text": [
      "File: PMC59545.tar.gz size: 103397 bytes\n"
     ]
    },
    {
     "name": "stderr",
     "output_type": "stream",
     "text": [
      " 60%|█████▉    | 596/1000 [29:37<19:49,  2.94s/it]"
     ]
    },
    {
     "name": "stdout",
     "output_type": "stream",
     "text": [
      "File: PMC59546.tar.gz size: 105164 bytes\n"
     ]
    },
    {
     "name": "stderr",
     "output_type": "stream",
     "text": [
      " 60%|█████▉    | 597/1000 [29:40<19:31,  2.91s/it]"
     ]
    },
    {
     "name": "stdout",
     "output_type": "stream",
     "text": [
      "File: PMC59547.tar.gz size: 95158 bytes\n"
     ]
    },
    {
     "name": "stderr",
     "output_type": "stream",
     "text": [
      " 60%|█████▉    | 598/1000 [29:43<18:45,  2.80s/it]"
     ]
    },
    {
     "name": "stdout",
     "output_type": "stream",
     "text": [
      "File: PMC59548.tar.gz size: 370641 bytes\n"
     ]
    },
    {
     "name": "stderr",
     "output_type": "stream",
     "text": [
      " 60%|█████▉    | 599/1000 [29:46<19:45,  2.96s/it]"
     ]
    },
    {
     "name": "stdout",
     "output_type": "stream",
     "text": [
      "File: PMC59549.tar.gz size: 455443 bytes\n"
     ]
    },
    {
     "name": "stderr",
     "output_type": "stream",
     "text": [
      " 60%|██████    | 600/1000 [29:50<20:52,  3.13s/it]"
     ]
    },
    {
     "name": "stdout",
     "output_type": "stream",
     "text": [
      "File: PMC59550.tar.gz size: 342449 bytes\n"
     ]
    },
    {
     "name": "stderr",
     "output_type": "stream",
     "text": [
      " 60%|██████    | 601/1000 [29:53<20:43,  3.12s/it]"
     ]
    },
    {
     "name": "stdout",
     "output_type": "stream",
     "text": [
      "File: PMC59551.tar.gz size: 112131 bytes\n"
     ]
    },
    {
     "name": "stderr",
     "output_type": "stream",
     "text": [
      " 60%|██████    | 602/1000 [29:56<20:10,  3.04s/it]"
     ]
    },
    {
     "name": "stdout",
     "output_type": "stream",
     "text": [
      "File: PMC59552.tar.gz size: 88939 bytes\n"
     ]
    },
    {
     "name": "stderr",
     "output_type": "stream",
     "text": [
      " 60%|██████    | 603/1000 [29:58<18:59,  2.87s/it]"
     ]
    },
    {
     "name": "stdout",
     "output_type": "stream",
     "text": [
      "File: PMC59553.tar.gz size: 147485 bytes\n"
     ]
    },
    {
     "name": "stderr",
     "output_type": "stream",
     "text": [
      " 60%|██████    | 604/1000 [30:01<18:45,  2.84s/it]"
     ]
    },
    {
     "name": "stdout",
     "output_type": "stream",
     "text": [
      "File: PMC59554.tar.gz size: 183975 bytes\n"
     ]
    },
    {
     "name": "stderr",
     "output_type": "stream",
     "text": [
      " 60%|██████    | 605/1000 [30:04<18:30,  2.81s/it]"
     ]
    },
    {
     "name": "stdout",
     "output_type": "stream",
     "text": [
      "File: PMC59555.tar.gz size: 1647372 bytes\n"
     ]
    },
    {
     "name": "stderr",
     "output_type": "stream",
     "text": [
      " 61%|██████    | 606/1000 [30:13<31:03,  4.73s/it]"
     ]
    },
    {
     "name": "stdout",
     "output_type": "stream",
     "text": [
      "File: PMC59556.tar.gz size: 300051 bytes\n"
     ]
    },
    {
     "name": "stderr",
     "output_type": "stream",
     "text": [
      " 61%|██████    | 607/1000 [30:19<33:10,  5.07s/it]"
     ]
    },
    {
     "name": "stdout",
     "output_type": "stream",
     "text": [
      "File: PMC59557.tar.gz size: 77453 bytes\n"
     ]
    },
    {
     "name": "stderr",
     "output_type": "stream",
     "text": [
      " 61%|██████    | 608/1000 [30:21<28:19,  4.34s/it]"
     ]
    },
    {
     "name": "stdout",
     "output_type": "stream",
     "text": [
      "File: PMC59558.tar.gz size: 109319 bytes\n"
     ]
    },
    {
     "name": "stderr",
     "output_type": "stream",
     "text": [
      " 61%|██████    | 609/1000 [30:24<25:09,  3.86s/it]"
     ]
    },
    {
     "name": "stdout",
     "output_type": "stream",
     "text": [
      "File: PMC59559.tar.gz size: 100394 bytes\n"
     ]
    },
    {
     "name": "stderr",
     "output_type": "stream",
     "text": [
      " 61%|██████    | 610/1000 [30:27<23:13,  3.57s/it]"
     ]
    },
    {
     "name": "stdout",
     "output_type": "stream",
     "text": [
      "File: PMC59560.tar.gz size: 1093636 bytes\n"
     ]
    },
    {
     "name": "stderr",
     "output_type": "stream",
     "text": [
      " 61%|██████    | 611/1000 [30:31<23:29,  3.62s/it]"
     ]
    },
    {
     "name": "stdout",
     "output_type": "stream",
     "text": [
      "File: PMC59562.tar.gz size: 152963 bytes\n"
     ]
    },
    {
     "name": "stderr",
     "output_type": "stream",
     "text": [
      " 61%|██████    | 612/1000 [30:33<21:50,  3.38s/it]"
     ]
    },
    {
     "name": "stdout",
     "output_type": "stream",
     "text": [
      "File: PMC59563.tar.gz size: 159561 bytes\n"
     ]
    },
    {
     "name": "stderr",
     "output_type": "stream",
     "text": [
      " 61%|██████▏   | 613/1000 [30:37<21:11,  3.29s/it]"
     ]
    },
    {
     "name": "stdout",
     "output_type": "stream",
     "text": [
      "File: PMC59564.tar.gz size: 404833 bytes\n"
     ]
    },
    {
     "name": "stderr",
     "output_type": "stream",
     "text": [
      " 61%|██████▏   | 614/1000 [30:41<23:10,  3.60s/it]"
     ]
    },
    {
     "name": "stdout",
     "output_type": "stream",
     "text": [
      "File: PMC59565.tar.gz size: 186034 bytes\n"
     ]
    },
    {
     "name": "stderr",
     "output_type": "stream",
     "text": [
      " 62%|██████▏   | 615/1000 [30:44<22:27,  3.50s/it]"
     ]
    },
    {
     "name": "stdout",
     "output_type": "stream",
     "text": [
      "File: PMC59566.tar.gz size: 228854 bytes\n"
     ]
    },
    {
     "name": "stderr",
     "output_type": "stream",
     "text": [
      " 62%|██████▏   | 616/1000 [30:47<21:33,  3.37s/it]"
     ]
    },
    {
     "name": "stdout",
     "output_type": "stream",
     "text": [
      "File: PMC59567.tar.gz size: 2181326 bytes\n"
     ]
    },
    {
     "name": "stderr",
     "output_type": "stream",
     "text": [
      " 62%|██████▏   | 617/1000 [30:52<23:22,  3.66s/it]"
     ]
    },
    {
     "name": "stdout",
     "output_type": "stream",
     "text": [
      "File: PMC59568.tar.gz size: 144780 bytes\n"
     ]
    },
    {
     "name": "stderr",
     "output_type": "stream",
     "text": [
      " 62%|██████▏   | 618/1000 [30:55<22:12,  3.49s/it]"
     ]
    },
    {
     "name": "stdout",
     "output_type": "stream",
     "text": [
      "File: PMC59569.tar.gz size: 132556 bytes\n"
     ]
    },
    {
     "name": "stderr",
     "output_type": "stream",
     "text": [
      " 62%|██████▏   | 619/1000 [30:58<21:24,  3.37s/it]"
     ]
    },
    {
     "name": "stdout",
     "output_type": "stream",
     "text": [
      "File: PMC59570.tar.gz size: 282617 bytes\n"
     ]
    },
    {
     "name": "stderr",
     "output_type": "stream",
     "text": [
      " 62%|██████▏   | 620/1000 [31:01<20:39,  3.26s/it]"
     ]
    },
    {
     "name": "stdout",
     "output_type": "stream",
     "text": [
      "File: PMC59571.tar.gz size: 239116 bytes\n"
     ]
    },
    {
     "name": "stderr",
     "output_type": "stream",
     "text": [
      " 62%|██████▏   | 621/1000 [31:04<20:16,  3.21s/it]"
     ]
    },
    {
     "name": "stdout",
     "output_type": "stream",
     "text": [
      "File: PMC59572.tar.gz size: 197906 bytes\n"
     ]
    },
    {
     "name": "stderr",
     "output_type": "stream",
     "text": [
      " 62%|██████▏   | 622/1000 [31:07<19:30,  3.10s/it]"
     ]
    },
    {
     "name": "stdout",
     "output_type": "stream",
     "text": [
      "File: PMC59573.tar.gz size: 293556 bytes\n"
     ]
    },
    {
     "name": "stderr",
     "output_type": "stream",
     "text": [
      " 62%|██████▏   | 623/1000 [31:10<19:29,  3.10s/it]"
     ]
    },
    {
     "name": "stdout",
     "output_type": "stream",
     "text": [
      "File: PMC59574.tar.gz size: 442709 bytes\n"
     ]
    },
    {
     "name": "stderr",
     "output_type": "stream",
     "text": [
      " 62%|██████▏   | 624/1000 [31:13<20:05,  3.21s/it]"
     ]
    },
    {
     "name": "stdout",
     "output_type": "stream",
     "text": [
      "File: PMC59575.tar.gz size: 264214 bytes\n"
     ]
    },
    {
     "name": "stderr",
     "output_type": "stream",
     "text": [
      " 62%|██████▎   | 625/1000 [31:16<19:55,  3.19s/it]"
     ]
    },
    {
     "name": "stdout",
     "output_type": "stream",
     "text": [
      "File: PMC59576.tar.gz size: 562932 bytes\n"
     ]
    },
    {
     "name": "stderr",
     "output_type": "stream",
     "text": [
      " 63%|██████▎   | 626/1000 [31:21<23:18,  3.74s/it]"
     ]
    },
    {
     "name": "stdout",
     "output_type": "stream",
     "text": [
      "File: PMC59577.tar.gz size: 564216 bytes\n"
     ]
    },
    {
     "name": "stderr",
     "output_type": "stream",
     "text": [
      " 63%|██████▎   | 627/1000 [31:25<22:30,  3.62s/it]"
     ]
    },
    {
     "name": "stdout",
     "output_type": "stream",
     "text": [
      "File: PMC59578.tar.gz size: 368760 bytes\n"
     ]
    },
    {
     "name": "stderr",
     "output_type": "stream",
     "text": [
      " 63%|██████▎   | 628/1000 [31:28<21:58,  3.54s/it]"
     ]
    },
    {
     "name": "stdout",
     "output_type": "stream",
     "text": [
      "File: PMC59579.tar.gz size: 199643 bytes\n"
     ]
    },
    {
     "name": "stderr",
     "output_type": "stream",
     "text": [
      " 63%|██████▎   | 629/1000 [31:31<20:34,  3.33s/it]"
     ]
    },
    {
     "name": "stdout",
     "output_type": "stream",
     "text": [
      "File: PMC59580.tar.gz size: 1403760 bytes\n"
     ]
    },
    {
     "name": "stderr",
     "output_type": "stream",
     "text": [
      " 63%|██████▎   | 630/1000 [31:35<21:11,  3.44s/it]"
     ]
    },
    {
     "name": "stdout",
     "output_type": "stream",
     "text": [
      "File: PMC59581.tar.gz size: 247600 bytes\n"
     ]
    },
    {
     "name": "stderr",
     "output_type": "stream",
     "text": [
      " 63%|██████▎   | 631/1000 [31:38<20:34,  3.34s/it]"
     ]
    },
    {
     "name": "stdout",
     "output_type": "stream",
     "text": [
      "File: PMC59582.tar.gz size: 161664 bytes\n"
     ]
    },
    {
     "name": "stderr",
     "output_type": "stream",
     "text": [
      " 63%|██████▎   | 632/1000 [31:41<19:37,  3.20s/it]"
     ]
    },
    {
     "name": "stdout",
     "output_type": "stream",
     "text": [
      "File: PMC59583.tar.gz size: 1380401 bytes\n"
     ]
    },
    {
     "name": "stderr",
     "output_type": "stream",
     "text": [
      " 63%|██████▎   | 633/1000 [31:44<20:29,  3.35s/it]"
     ]
    },
    {
     "name": "stdout",
     "output_type": "stream",
     "text": [
      "File: PMC59584.tar.gz size: 522623 bytes\n"
     ]
    },
    {
     "name": "stderr",
     "output_type": "stream",
     "text": [
      " 63%|██████▎   | 634/1000 [31:48<21:17,  3.49s/it]"
     ]
    },
    {
     "name": "stdout",
     "output_type": "stream",
     "text": [
      "File: PMC59585.tar.gz size: 770700 bytes\n"
     ]
    },
    {
     "name": "stderr",
     "output_type": "stream",
     "text": [
      " 64%|██████▎   | 635/1000 [31:52<21:24,  3.52s/it]"
     ]
    },
    {
     "name": "stdout",
     "output_type": "stream",
     "text": [
      "File: PMC59586.tar.gz size: 69803 bytes\n"
     ]
    },
    {
     "name": "stderr",
     "output_type": "stream",
     "text": [
      " 64%|██████▎   | 636/1000 [31:54<19:39,  3.24s/it]"
     ]
    },
    {
     "name": "stdout",
     "output_type": "stream",
     "text": [
      "File: PMC59587.tar.gz size: 111324 bytes\n"
     ]
    },
    {
     "name": "stderr",
     "output_type": "stream",
     "text": [
      " 64%|██████▎   | 637/1000 [31:57<19:03,  3.15s/it]"
     ]
    },
    {
     "name": "stdout",
     "output_type": "stream",
     "text": [
      "File: PMC59588.tar.gz size: 206358 bytes\n"
     ]
    },
    {
     "name": "stderr",
     "output_type": "stream",
     "text": [
      " 64%|██████▍   | 638/1000 [32:00<18:27,  3.06s/it]"
     ]
    },
    {
     "name": "stdout",
     "output_type": "stream",
     "text": [
      "File: PMC59589.tar.gz size: 177666 bytes\n"
     ]
    },
    {
     "name": "stderr",
     "output_type": "stream",
     "text": [
      " 64%|██████▍   | 639/1000 [32:03<17:56,  2.98s/it]"
     ]
    },
    {
     "name": "stdout",
     "output_type": "stream",
     "text": [
      "File: PMC59590.tar.gz size: 72628 bytes\n"
     ]
    },
    {
     "name": "stderr",
     "output_type": "stream",
     "text": [
      " 64%|██████▍   | 640/1000 [32:06<17:23,  2.90s/it]"
     ]
    },
    {
     "name": "stdout",
     "output_type": "stream",
     "text": [
      "File: PMC59591.tar.gz size: 72164 bytes\n"
     ]
    },
    {
     "name": "stderr",
     "output_type": "stream",
     "text": [
      " 64%|██████▍   | 641/1000 [32:08<17:05,  2.86s/it]"
     ]
    },
    {
     "name": "stdout",
     "output_type": "stream",
     "text": [
      "File: PMC59592.tar.gz size: 73985 bytes\n"
     ]
    },
    {
     "name": "stderr",
     "output_type": "stream",
     "text": [
      " 64%|██████▍   | 642/1000 [32:11<16:33,  2.78s/it]"
     ]
    },
    {
     "name": "stdout",
     "output_type": "stream",
     "text": [
      "File: PMC59593.tar.gz size: 75773 bytes\n"
     ]
    },
    {
     "name": "stderr",
     "output_type": "stream",
     "text": [
      " 64%|██████▍   | 643/1000 [32:14<16:16,  2.74s/it]"
     ]
    },
    {
     "name": "stdout",
     "output_type": "stream",
     "text": [
      "File: PMC59594.tar.gz size: 80317 bytes\n"
     ]
    },
    {
     "name": "stderr",
     "output_type": "stream",
     "text": [
      " 64%|██████▍   | 644/1000 [32:16<16:04,  2.71s/it]"
     ]
    },
    {
     "name": "stdout",
     "output_type": "stream",
     "text": [
      "File: PMC59595.tar.gz size: 78419 bytes\n"
     ]
    },
    {
     "name": "stderr",
     "output_type": "stream",
     "text": [
      " 64%|██████▍   | 645/1000 [32:19<15:55,  2.69s/it]"
     ]
    },
    {
     "name": "stdout",
     "output_type": "stream",
     "text": [
      "File: PMC59596.tar.gz size: 80168 bytes\n"
     ]
    },
    {
     "name": "stderr",
     "output_type": "stream",
     "text": [
      " 65%|██████▍   | 646/1000 [32:21<15:40,  2.66s/it]"
     ]
    },
    {
     "name": "stdout",
     "output_type": "stream",
     "text": [
      "File: PMC59597.tar.gz size: 139816 bytes\n"
     ]
    },
    {
     "name": "stderr",
     "output_type": "stream",
     "text": [
      " 65%|██████▍   | 647/1000 [32:25<16:39,  2.83s/it]"
     ]
    },
    {
     "name": "stdout",
     "output_type": "stream",
     "text": [
      "File: PMC59598.tar.gz size: 77884 bytes\n"
     ]
    },
    {
     "name": "stderr",
     "output_type": "stream",
     "text": [
      " 65%|██████▍   | 648/1000 [32:27<16:08,  2.75s/it]"
     ]
    },
    {
     "name": "stdout",
     "output_type": "stream",
     "text": [
      "File: PMC59599.tar.gz size: 102871 bytes\n"
     ]
    },
    {
     "name": "stderr",
     "output_type": "stream",
     "text": [
      " 65%|██████▍   | 649/1000 [32:30<16:21,  2.80s/it]"
     ]
    },
    {
     "name": "stdout",
     "output_type": "stream",
     "text": [
      "File: PMC59600.tar.gz size: 74350 bytes\n"
     ]
    },
    {
     "name": "stderr",
     "output_type": "stream",
     "text": [
      " 65%|██████▌   | 650/1000 [32:33<16:00,  2.74s/it]"
     ]
    },
    {
     "name": "stdout",
     "output_type": "stream",
     "text": [
      "File: PMC59601.tar.gz size: 73951 bytes\n"
     ]
    },
    {
     "name": "stderr",
     "output_type": "stream",
     "text": [
      " 65%|██████▌   | 651/1000 [32:35<15:46,  2.71s/it]"
     ]
    },
    {
     "name": "stdout",
     "output_type": "stream",
     "text": [
      "File: PMC59602.tar.gz size: 87400 bytes\n"
     ]
    },
    {
     "name": "stderr",
     "output_type": "stream",
     "text": [
      " 65%|██████▌   | 652/1000 [32:38<15:26,  2.66s/it]"
     ]
    },
    {
     "name": "stdout",
     "output_type": "stream",
     "text": [
      "File: PMC59603.tar.gz size: 79245 bytes\n"
     ]
    },
    {
     "name": "stderr",
     "output_type": "stream",
     "text": [
      " 65%|██████▌   | 653/1000 [32:40<15:13,  2.63s/it]"
     ]
    },
    {
     "name": "stdout",
     "output_type": "stream",
     "text": [
      "File: PMC59604.tar.gz size: 87517 bytes\n"
     ]
    },
    {
     "name": "stderr",
     "output_type": "stream",
     "text": [
      " 65%|██████▌   | 654/1000 [32:43<15:29,  2.69s/it]"
     ]
    },
    {
     "name": "stdout",
     "output_type": "stream",
     "text": [
      "File: PMC59605.tar.gz size: 485648 bytes\n"
     ]
    },
    {
     "name": "stderr",
     "output_type": "stream",
     "text": [
      " 66%|██████▌   | 655/1000 [32:47<17:29,  3.04s/it]"
     ]
    },
    {
     "name": "stdout",
     "output_type": "stream",
     "text": [
      "File: PMC59606.tar.gz size: 94745 bytes\n"
     ]
    },
    {
     "name": "stderr",
     "output_type": "stream",
     "text": [
      " 66%|██████▌   | 656/1000 [32:50<16:36,  2.90s/it]"
     ]
    },
    {
     "name": "stdout",
     "output_type": "stream",
     "text": [
      "File: PMC59607.tar.gz size: 72987 bytes\n"
     ]
    },
    {
     "name": "stderr",
     "output_type": "stream",
     "text": [
      " 66%|██████▌   | 657/1000 [32:52<15:56,  2.79s/it]"
     ]
    },
    {
     "name": "stdout",
     "output_type": "stream",
     "text": [
      "File: PMC59608.tar.gz size: 75036 bytes\n"
     ]
    },
    {
     "name": "stderr",
     "output_type": "stream",
     "text": [
      " 66%|██████▌   | 658/1000 [32:55<15:37,  2.74s/it]"
     ]
    },
    {
     "name": "stdout",
     "output_type": "stream",
     "text": [
      "File: PMC59609.tar.gz size: 169436 bytes\n"
     ]
    },
    {
     "name": "stderr",
     "output_type": "stream",
     "text": [
      " 66%|██████▌   | 659/1000 [32:58<15:44,  2.77s/it]"
     ]
    },
    {
     "name": "stdout",
     "output_type": "stream",
     "text": [
      "File: PMC59610.tar.gz size: 101728 bytes\n"
     ]
    },
    {
     "name": "stderr",
     "output_type": "stream",
     "text": [
      " 66%|██████▌   | 660/1000 [33:01<15:49,  2.79s/it]"
     ]
    },
    {
     "name": "stdout",
     "output_type": "stream",
     "text": [
      "File: PMC59611.tar.gz size: 100353 bytes\n"
     ]
    },
    {
     "name": "stderr",
     "output_type": "stream",
     "text": [
      " 66%|██████▌   | 661/1000 [33:03<15:47,  2.80s/it]"
     ]
    },
    {
     "name": "stdout",
     "output_type": "stream",
     "text": [
      "File: PMC59612.tar.gz size: 201299 bytes\n"
     ]
    },
    {
     "name": "stderr",
     "output_type": "stream",
     "text": [
      " 66%|██████▌   | 662/1000 [33:07<17:21,  3.08s/it]"
     ]
    },
    {
     "name": "stdout",
     "output_type": "stream",
     "text": [
      "File: PMC59613.tar.gz size: 126119 bytes\n"
     ]
    },
    {
     "name": "stderr",
     "output_type": "stream",
     "text": [
      " 66%|██████▋   | 663/1000 [33:10<16:52,  3.01s/it]"
     ]
    },
    {
     "name": "stdout",
     "output_type": "stream",
     "text": [
      "File: PMC59614.tar.gz size: 68589 bytes\n"
     ]
    },
    {
     "name": "stderr",
     "output_type": "stream",
     "text": [
      " 66%|██████▋   | 664/1000 [33:13<16:06,  2.88s/it]"
     ]
    },
    {
     "name": "stdout",
     "output_type": "stream",
     "text": [
      "File: PMC59615.tar.gz size: 79808 bytes\n"
     ]
    },
    {
     "name": "stderr",
     "output_type": "stream",
     "text": [
      " 66%|██████▋   | 665/1000 [33:15<15:40,  2.81s/it]"
     ]
    },
    {
     "name": "stdout",
     "output_type": "stream",
     "text": [
      "File: PMC59616.tar.gz size: 92556 bytes\n"
     ]
    },
    {
     "name": "stderr",
     "output_type": "stream",
     "text": [
      " 67%|██████▋   | 666/1000 [33:18<15:07,  2.72s/it]"
     ]
    },
    {
     "name": "stdout",
     "output_type": "stream",
     "text": [
      "File: PMC59617.tar.gz size: 96569 bytes\n"
     ]
    },
    {
     "name": "stderr",
     "output_type": "stream",
     "text": [
      " 67%|██████▋   | 667/1000 [33:20<14:57,  2.69s/it]"
     ]
    },
    {
     "name": "stdout",
     "output_type": "stream",
     "text": [
      "File: PMC59618.tar.gz size: 86811 bytes\n"
     ]
    },
    {
     "name": "stderr",
     "output_type": "stream",
     "text": [
      " 67%|██████▋   | 668/1000 [33:23<14:55,  2.70s/it]"
     ]
    },
    {
     "name": "stdout",
     "output_type": "stream",
     "text": [
      "File: PMC59619.tar.gz size: 86816 bytes\n"
     ]
    },
    {
     "name": "stderr",
     "output_type": "stream",
     "text": [
      " 67%|██████▋   | 669/1000 [33:26<14:41,  2.66s/it]"
     ]
    },
    {
     "name": "stdout",
     "output_type": "stream",
     "text": [
      "File: PMC59620.tar.gz size: 84275 bytes\n"
     ]
    },
    {
     "name": "stderr",
     "output_type": "stream",
     "text": [
      " 67%|██████▋   | 670/1000 [33:28<14:26,  2.63s/it]"
     ]
    },
    {
     "name": "stdout",
     "output_type": "stream",
     "text": [
      "File: PMC59621.tar.gz size: 185838 bytes\n"
     ]
    },
    {
     "name": "stderr",
     "output_type": "stream",
     "text": [
      " 67%|██████▋   | 671/1000 [33:31<14:46,  2.69s/it]"
     ]
    },
    {
     "name": "stdout",
     "output_type": "stream",
     "text": [
      "File: PMC59622.tar.gz size: 341894 bytes\n"
     ]
    },
    {
     "name": "stderr",
     "output_type": "stream",
     "text": [
      " 67%|██████▋   | 672/1000 [33:35<16:30,  3.02s/it]"
     ]
    },
    {
     "name": "stdout",
     "output_type": "stream",
     "text": [
      "File: PMC59623.tar.gz size: 194324 bytes\n"
     ]
    },
    {
     "name": "stderr",
     "output_type": "stream",
     "text": [
      " 67%|██████▋   | 673/1000 [33:38<16:05,  2.95s/it]"
     ]
    },
    {
     "name": "stdout",
     "output_type": "stream",
     "text": [
      "File: PMC59624.tar.gz size: 580328 bytes\n"
     ]
    },
    {
     "name": "stderr",
     "output_type": "stream",
     "text": [
      " 67%|██████▋   | 674/1000 [33:41<16:46,  3.09s/it]"
     ]
    },
    {
     "name": "stdout",
     "output_type": "stream",
     "text": [
      "File: PMC59625.tar.gz size: 543713 bytes\n"
     ]
    },
    {
     "name": "stderr",
     "output_type": "stream",
     "text": [
      " 68%|██████▊   | 675/1000 [33:44<17:01,  3.14s/it]"
     ]
    },
    {
     "name": "stdout",
     "output_type": "stream",
     "text": [
      "File: PMC59626.tar.gz size: 142367 bytes\n"
     ]
    },
    {
     "name": "stderr",
     "output_type": "stream",
     "text": [
      " 68%|██████▊   | 676/1000 [33:47<16:30,  3.06s/it]"
     ]
    },
    {
     "name": "stdout",
     "output_type": "stream",
     "text": [
      "File: PMC59627.tar.gz size: 142487 bytes\n"
     ]
    },
    {
     "name": "stderr",
     "output_type": "stream",
     "text": [
      " 68%|██████▊   | 677/1000 [33:50<16:21,  3.04s/it]"
     ]
    },
    {
     "name": "stdout",
     "output_type": "stream",
     "text": [
      "File: PMC59628.tar.gz size: 144563 bytes\n"
     ]
    },
    {
     "name": "stderr",
     "output_type": "stream",
     "text": [
      " 68%|██████▊   | 678/1000 [33:53<16:01,  2.99s/it]"
     ]
    },
    {
     "name": "stdout",
     "output_type": "stream",
     "text": [
      "File: PMC59629.tar.gz size: 292899 bytes\n"
     ]
    },
    {
     "name": "stderr",
     "output_type": "stream",
     "text": [
      " 68%|██████▊   | 679/1000 [33:56<16:17,  3.04s/it]"
     ]
    },
    {
     "name": "stdout",
     "output_type": "stream",
     "text": [
      "File: PMC59630.tar.gz size: 147764 bytes\n"
     ]
    },
    {
     "name": "stderr",
     "output_type": "stream",
     "text": [
      " 68%|██████▊   | 680/1000 [33:59<16:22,  3.07s/it]"
     ]
    },
    {
     "name": "stdout",
     "output_type": "stream",
     "text": [
      "File: PMC59631.tar.gz size: 153204 bytes\n"
     ]
    },
    {
     "name": "stderr",
     "output_type": "stream",
     "text": [
      " 68%|██████▊   | 681/1000 [34:03<16:33,  3.11s/it]"
     ]
    },
    {
     "name": "stdout",
     "output_type": "stream",
     "text": [
      "File: PMC59632.tar.gz size: 137544 bytes\n"
     ]
    },
    {
     "name": "stderr",
     "output_type": "stream",
     "text": [
      " 68%|██████▊   | 682/1000 [34:05<16:09,  3.05s/it]"
     ]
    },
    {
     "name": "stdout",
     "output_type": "stream",
     "text": [
      "File: PMC59634.tar.gz size: 160029 bytes\n"
     ]
    },
    {
     "name": "stderr",
     "output_type": "stream",
     "text": [
      " 68%|██████▊   | 683/1000 [34:09<16:20,  3.09s/it]"
     ]
    },
    {
     "name": "stdout",
     "output_type": "stream",
     "text": [
      "File: PMC59635.tar.gz size: 142209 bytes\n"
     ]
    },
    {
     "name": "stderr",
     "output_type": "stream",
     "text": [
      " 68%|██████▊   | 684/1000 [34:12<16:03,  3.05s/it]"
     ]
    },
    {
     "name": "stdout",
     "output_type": "stream",
     "text": [
      "File: PMC59636.tar.gz size: 164568 bytes\n"
     ]
    },
    {
     "name": "stderr",
     "output_type": "stream",
     "text": [
      " 68%|██████▊   | 685/1000 [34:14<15:42,  2.99s/it]"
     ]
    },
    {
     "name": "stdout",
     "output_type": "stream",
     "text": [
      "File: PMC59637.tar.gz size: 251202 bytes\n"
     ]
    },
    {
     "name": "stderr",
     "output_type": "stream",
     "text": [
      " 69%|██████▊   | 686/1000 [34:18<15:58,  3.05s/it]"
     ]
    },
    {
     "name": "stdout",
     "output_type": "stream",
     "text": [
      "File: PMC59638.tar.gz size: 418233 bytes\n"
     ]
    },
    {
     "name": "stderr",
     "output_type": "stream",
     "text": [
      " 69%|██████▊   | 687/1000 [34:21<16:18,  3.13s/it]"
     ]
    },
    {
     "name": "stdout",
     "output_type": "stream",
     "text": [
      "File: PMC59639.tar.gz size: 226484 bytes\n"
     ]
    },
    {
     "name": "stderr",
     "output_type": "stream",
     "text": [
      " 69%|██████▉   | 688/1000 [34:24<16:16,  3.13s/it]"
     ]
    },
    {
     "name": "stdout",
     "output_type": "stream",
     "text": [
      "File: PMC59640.tar.gz size: 275659 bytes\n"
     ]
    },
    {
     "name": "stderr",
     "output_type": "stream",
     "text": [
      " 69%|██████▉   | 689/1000 [34:27<16:11,  3.12s/it]"
     ]
    },
    {
     "name": "stdout",
     "output_type": "stream",
     "text": [
      "File: PMC59641.tar.gz size: 77575 bytes\n"
     ]
    },
    {
     "name": "stderr",
     "output_type": "stream",
     "text": [
      " 69%|██████▉   | 690/1000 [34:30<15:37,  3.02s/it]"
     ]
    },
    {
     "name": "stdout",
     "output_type": "stream",
     "text": [
      "File: PMC59642.tar.gz size: 51861 bytes\n"
     ]
    },
    {
     "name": "stderr",
     "output_type": "stream",
     "text": [
      " 69%|██████▉   | 691/1000 [34:33<15:01,  2.92s/it]"
     ]
    },
    {
     "name": "stdout",
     "output_type": "stream",
     "text": [
      "File: PMC59643.tar.gz size: 65899 bytes\n"
     ]
    },
    {
     "name": "stderr",
     "output_type": "stream",
     "text": [
      " 69%|██████▉   | 692/1000 [34:35<14:36,  2.85s/it]"
     ]
    },
    {
     "name": "stdout",
     "output_type": "stream",
     "text": [
      "File: PMC59644.tar.gz size: 420500 bytes\n"
     ]
    },
    {
     "name": "stderr",
     "output_type": "stream",
     "text": [
      " 69%|██████▉   | 693/1000 [34:40<17:10,  3.36s/it]"
     ]
    },
    {
     "name": "stdout",
     "output_type": "stream",
     "text": [
      "File: PMC59645.tar.gz size: 156690 bytes\n"
     ]
    },
    {
     "name": "stderr",
     "output_type": "stream",
     "text": [
      " 69%|██████▉   | 694/1000 [34:43<16:18,  3.20s/it]"
     ]
    },
    {
     "name": "stdout",
     "output_type": "stream",
     "text": [
      "File: PMC59646.tar.gz size: 146463 bytes\n"
     ]
    },
    {
     "name": "stderr",
     "output_type": "stream",
     "text": [
      " 70%|██████▉   | 695/1000 [34:46<15:46,  3.10s/it]"
     ]
    },
    {
     "name": "stdout",
     "output_type": "stream",
     "text": [
      "File: PMC59647.tar.gz size: 139575 bytes\n"
     ]
    },
    {
     "name": "stderr",
     "output_type": "stream",
     "text": [
      " 70%|██████▉   | 696/1000 [34:48<15:21,  3.03s/it]"
     ]
    },
    {
     "name": "stdout",
     "output_type": "stream",
     "text": [
      "File: PMC59648.tar.gz size: 312708 bytes\n"
     ]
    },
    {
     "name": "stderr",
     "output_type": "stream",
     "text": [
      " 70%|██████▉   | 697/1000 [34:53<17:17,  3.43s/it]"
     ]
    },
    {
     "name": "stdout",
     "output_type": "stream",
     "text": [
      "File: PMC59649.tar.gz size: 777600 bytes\n"
     ]
    },
    {
     "name": "stderr",
     "output_type": "stream",
     "text": [
      " 70%|██████▉   | 698/1000 [34:56<17:30,  3.48s/it]"
     ]
    },
    {
     "name": "stdout",
     "output_type": "stream",
     "text": [
      "File: PMC59650.tar.gz size: 122974 bytes\n"
     ]
    },
    {
     "name": "stderr",
     "output_type": "stream",
     "text": [
      " 70%|██████▉   | 699/1000 [34:59<16:23,  3.27s/it]"
     ]
    },
    {
     "name": "stdout",
     "output_type": "stream",
     "text": [
      "File: PMC59651.tar.gz size: 174418 bytes\n"
     ]
    },
    {
     "name": "stderr",
     "output_type": "stream",
     "text": [
      " 70%|███████   | 700/1000 [35:02<15:42,  3.14s/it]"
     ]
    },
    {
     "name": "stdout",
     "output_type": "stream",
     "text": [
      "File: PMC59652.tar.gz size: 1858126 bytes\n"
     ]
    },
    {
     "name": "stderr",
     "output_type": "stream",
     "text": [
      " 70%|███████   | 701/1000 [35:06<17:01,  3.42s/it]"
     ]
    },
    {
     "name": "stdout",
     "output_type": "stream",
     "text": [
      "File: PMC59653.tar.gz size: 606948 bytes\n"
     ]
    },
    {
     "name": "stderr",
     "output_type": "stream",
     "text": [
      " 70%|███████   | 702/1000 [35:09<16:54,  3.40s/it]"
     ]
    },
    {
     "name": "stdout",
     "output_type": "stream",
     "text": [
      "File: PMC59654.tar.gz size: 231494 bytes\n"
     ]
    },
    {
     "name": "stderr",
     "output_type": "stream",
     "text": [
      " 70%|███████   | 703/1000 [35:13<17:26,  3.52s/it]"
     ]
    },
    {
     "name": "stdout",
     "output_type": "stream",
     "text": [
      "File: PMC59655.tar.gz size: 198320 bytes\n"
     ]
    },
    {
     "name": "stderr",
     "output_type": "stream",
     "text": [
      " 70%|███████   | 704/1000 [35:16<16:28,  3.34s/it]"
     ]
    },
    {
     "name": "stdout",
     "output_type": "stream",
     "text": [
      "File: PMC59656.tar.gz size: 169139 bytes\n"
     ]
    },
    {
     "name": "stderr",
     "output_type": "stream",
     "text": [
      " 70%|███████   | 705/1000 [35:19<15:44,  3.20s/it]"
     ]
    },
    {
     "name": "stdout",
     "output_type": "stream",
     "text": [
      "File: PMC59657.tar.gz size: 154814 bytes\n"
     ]
    },
    {
     "name": "stderr",
     "output_type": "stream",
     "text": [
      " 71%|███████   | 706/1000 [35:22<15:06,  3.08s/it]"
     ]
    },
    {
     "name": "stdout",
     "output_type": "stream",
     "text": [
      "File: PMC59658.tar.gz size: 860173 bytes\n"
     ]
    },
    {
     "name": "stderr",
     "output_type": "stream",
     "text": [
      " 71%|███████   | 707/1000 [35:25<15:45,  3.23s/it]"
     ]
    },
    {
     "name": "stdout",
     "output_type": "stream",
     "text": [
      "File: PMC59659.tar.gz size: 272458 bytes\n"
     ]
    },
    {
     "name": "stderr",
     "output_type": "stream",
     "text": [
      " 71%|███████   | 708/1000 [35:29<15:35,  3.20s/it]"
     ]
    },
    {
     "name": "stdout",
     "output_type": "stream",
     "text": [
      "File: PMC59660.tar.gz size: 322303 bytes\n"
     ]
    },
    {
     "name": "stderr",
     "output_type": "stream",
     "text": [
      " 71%|███████   | 709/1000 [35:32<15:19,  3.16s/it]"
     ]
    },
    {
     "name": "stdout",
     "output_type": "stream",
     "text": [
      "File: PMC59661.tar.gz size: 462339 bytes\n"
     ]
    },
    {
     "name": "stderr",
     "output_type": "stream",
     "text": [
      " 71%|███████   | 710/1000 [35:35<15:46,  3.26s/it]"
     ]
    },
    {
     "name": "stdout",
     "output_type": "stream",
     "text": [
      "File: PMC59662.tar.gz size: 2501896 bytes\n"
     ]
    },
    {
     "name": "stderr",
     "output_type": "stream",
     "text": [
      " 71%|███████   | 711/1000 [35:44<22:27,  4.66s/it]"
     ]
    },
    {
     "name": "stdout",
     "output_type": "stream",
     "text": [
      "File: PMC59663.tar.gz size: 183484 bytes\n"
     ]
    },
    {
     "name": "stderr",
     "output_type": "stream",
     "text": [
      " 71%|███████   | 712/1000 [35:47<20:52,  4.35s/it]"
     ]
    },
    {
     "name": "stdout",
     "output_type": "stream",
     "text": [
      "File: PMC59664.tar.gz size: 212749 bytes\n"
     ]
    },
    {
     "name": "stderr",
     "output_type": "stream",
     "text": [
      " 71%|███████▏  | 713/1000 [35:50<18:49,  3.94s/it]"
     ]
    },
    {
     "name": "stdout",
     "output_type": "stream",
     "text": [
      "File: PMC59665.tar.gz size: 637940 bytes\n"
     ]
    },
    {
     "name": "stderr",
     "output_type": "stream",
     "text": [
      " 71%|███████▏  | 714/1000 [35:53<17:52,  3.75s/it]"
     ]
    },
    {
     "name": "stdout",
     "output_type": "stream",
     "text": [
      "File: PMC59666.tar.gz size: 736539 bytes\n"
     ]
    },
    {
     "name": "stderr",
     "output_type": "stream",
     "text": [
      " 72%|███████▏  | 715/1000 [35:57<17:36,  3.71s/it]"
     ]
    },
    {
     "name": "stdout",
     "output_type": "stream",
     "text": [
      "File: PMC59667.tar.gz size: 160327 bytes\n"
     ]
    },
    {
     "name": "stderr",
     "output_type": "stream",
     "text": [
      " 72%|███████▏  | 716/1000 [35:59<16:20,  3.45s/it]"
     ]
    },
    {
     "name": "stdout",
     "output_type": "stream",
     "text": [
      "File: PMC59668.tar.gz size: 242552 bytes\n"
     ]
    },
    {
     "name": "stderr",
     "output_type": "stream",
     "text": [
      " 72%|███████▏  | 717/1000 [36:02<15:35,  3.30s/it]"
     ]
    },
    {
     "name": "stdout",
     "output_type": "stream",
     "text": [
      "File: PMC59671.tar.gz size: 219522 bytes\n"
     ]
    },
    {
     "name": "stderr",
     "output_type": "stream",
     "text": [
      " 72%|███████▏  | 718/1000 [36:05<15:06,  3.21s/it]"
     ]
    },
    {
     "name": "stdout",
     "output_type": "stream",
     "text": [
      "File: PMC59672.tar.gz size: 316033 bytes\n"
     ]
    },
    {
     "name": "stderr",
     "output_type": "stream",
     "text": [
      " 72%|███████▏  | 719/1000 [36:11<18:29,  3.95s/it]"
     ]
    },
    {
     "name": "stdout",
     "output_type": "stream",
     "text": [
      "File: PMC59673.tar.gz size: 242574 bytes\n"
     ]
    },
    {
     "name": "stderr",
     "output_type": "stream",
     "text": [
      " 72%|███████▏  | 720/1000 [36:14<17:18,  3.71s/it]"
     ]
    },
    {
     "name": "stdout",
     "output_type": "stream",
     "text": [
      "File: PMC59674.tar.gz size: 214412 bytes\n"
     ]
    },
    {
     "name": "stderr",
     "output_type": "stream",
     "text": [
      " 72%|███████▏  | 721/1000 [36:17<16:21,  3.52s/it]"
     ]
    },
    {
     "name": "stdout",
     "output_type": "stream",
     "text": [
      "File: PMC59675.tar.gz size: 200105 bytes\n"
     ]
    },
    {
     "name": "stderr",
     "output_type": "stream",
     "text": [
      " 72%|███████▏  | 722/1000 [36:22<18:12,  3.93s/it]"
     ]
    },
    {
     "name": "stdout",
     "output_type": "stream",
     "text": [
      "File: PMC59676.tar.gz size: 331714 bytes\n"
     ]
    },
    {
     "name": "stderr",
     "output_type": "stream",
     "text": [
      " 72%|███████▏  | 723/1000 [36:26<17:29,  3.79s/it]"
     ]
    },
    {
     "name": "stdout",
     "output_type": "stream",
     "text": [
      "File: PMC59677.tar.gz size: 781793 bytes\n"
     ]
    },
    {
     "name": "stderr",
     "output_type": "stream",
     "text": [
      " 72%|███████▏  | 724/1000 [36:29<17:01,  3.70s/it]"
     ]
    },
    {
     "name": "stdout",
     "output_type": "stream",
     "text": [
      "File: PMC59678.tar.gz size: 678792 bytes\n"
     ]
    },
    {
     "name": "stderr",
     "output_type": "stream",
     "text": [
      " 72%|███████▎  | 725/1000 [36:32<16:27,  3.59s/it]"
     ]
    },
    {
     "name": "stdout",
     "output_type": "stream",
     "text": [
      "File: PMC59679.tar.gz size: 843898 bytes\n"
     ]
    },
    {
     "name": "stderr",
     "output_type": "stream",
     "text": [
      " 73%|███████▎  | 726/1000 [36:36<16:19,  3.58s/it]"
     ]
    },
    {
     "name": "stdout",
     "output_type": "stream",
     "text": [
      "File: PMC59680.tar.gz size: 327962 bytes\n"
     ]
    },
    {
     "name": "stderr",
     "output_type": "stream",
     "text": [
      " 73%|███████▎  | 727/1000 [36:39<15:32,  3.41s/it]"
     ]
    },
    {
     "name": "stdout",
     "output_type": "stream",
     "text": [
      "File: PMC59691.tar.gz size: 231675 bytes\n"
     ]
    },
    {
     "name": "stderr",
     "output_type": "stream",
     "text": [
      " 73%|███████▎  | 728/1000 [36:42<15:03,  3.32s/it]"
     ]
    },
    {
     "name": "stdout",
     "output_type": "stream",
     "text": [
      "File: PMC59692.tar.gz size: 285904 bytes\n"
     ]
    },
    {
     "name": "stderr",
     "output_type": "stream",
     "text": [
      " 73%|███████▎  | 729/1000 [36:45<14:44,  3.26s/it]"
     ]
    },
    {
     "name": "stdout",
     "output_type": "stream",
     "text": [
      "File: PMC59693.tar.gz size: 539571 bytes\n"
     ]
    },
    {
     "name": "stderr",
     "output_type": "stream",
     "text": [
      " 73%|███████▎  | 730/1000 [36:49<15:25,  3.43s/it]"
     ]
    },
    {
     "name": "stdout",
     "output_type": "stream",
     "text": [
      "File: PMC59694.tar.gz size: 1056893 bytes\n"
     ]
    },
    {
     "name": "stderr",
     "output_type": "stream",
     "text": [
      " 73%|███████▎  | 731/1000 [36:53<15:51,  3.54s/it]"
     ]
    },
    {
     "name": "stdout",
     "output_type": "stream",
     "text": [
      "File: PMC59723.tar.gz size: 1199024 bytes\n"
     ]
    },
    {
     "name": "stderr",
     "output_type": "stream",
     "text": [
      " 73%|███████▎  | 732/1000 [36:57<16:04,  3.60s/it]"
     ]
    },
    {
     "name": "stdout",
     "output_type": "stream",
     "text": [
      "File: PMC59831.tar.gz size: 665287 bytes\n"
     ]
    },
    {
     "name": "stderr",
     "output_type": "stream",
     "text": [
      " 73%|███████▎  | 733/1000 [37:00<16:11,  3.64s/it]"
     ]
    },
    {
     "name": "stdout",
     "output_type": "stream",
     "text": [
      "File: PMC59832.tar.gz size: 1204074 bytes\n"
     ]
    },
    {
     "name": "stderr",
     "output_type": "stream",
     "text": [
      " 73%|███████▎  | 734/1000 [37:09<22:20,  5.04s/it]"
     ]
    },
    {
     "name": "stdout",
     "output_type": "stream",
     "text": [
      "File: PMC59833.tar.gz size: 848358 bytes\n"
     ]
    },
    {
     "name": "stderr",
     "output_type": "stream",
     "text": [
      " 74%|███████▎  | 735/1000 [37:12<20:28,  4.63s/it]"
     ]
    },
    {
     "name": "stdout",
     "output_type": "stream",
     "text": [
      "File: PMC59834.tar.gz size: 1057915 bytes\n"
     ]
    },
    {
     "name": "stderr",
     "output_type": "stream",
     "text": [
      " 74%|███████▎  | 736/1000 [37:18<22:24,  5.09s/it]"
     ]
    },
    {
     "name": "stdout",
     "output_type": "stream",
     "text": [
      "File: PMC59835.tar.gz size: 940413 bytes\n"
     ]
    },
    {
     "name": "stderr",
     "output_type": "stream",
     "text": [
      " 74%|███████▎  | 737/1000 [37:22<20:53,  4.76s/it]"
     ]
    },
    {
     "name": "stdout",
     "output_type": "stream",
     "text": [
      "File: PMC59836.tar.gz size: 610845 bytes\n"
     ]
    },
    {
     "name": "stderr",
     "output_type": "stream",
     "text": [
      " 74%|███████▍  | 738/1000 [37:26<18:56,  4.34s/it]"
     ]
    },
    {
     "name": "stdout",
     "output_type": "stream",
     "text": [
      "File: PMC59837.tar.gz size: 2685434 bytes\n"
     ]
    },
    {
     "name": "stderr",
     "output_type": "stream",
     "text": [
      " 74%|███████▍  | 739/1000 [37:30<18:14,  4.19s/it]"
     ]
    },
    {
     "name": "stdout",
     "output_type": "stream",
     "text": [
      "File: PMC59838.tar.gz size: 664434 bytes\n"
     ]
    },
    {
     "name": "stderr",
     "output_type": "stream",
     "text": [
      " 74%|███████▍  | 740/1000 [37:33<17:27,  4.03s/it]"
     ]
    },
    {
     "name": "stdout",
     "output_type": "stream",
     "text": [
      "File: PMC59839.tar.gz size: 876718 bytes\n"
     ]
    },
    {
     "name": "stderr",
     "output_type": "stream",
     "text": [
      " 74%|███████▍  | 741/1000 [37:37<16:52,  3.91s/it]"
     ]
    },
    {
     "name": "stdout",
     "output_type": "stream",
     "text": [
      "File: PMC59840.tar.gz size: 445721 bytes\n"
     ]
    },
    {
     "name": "stderr",
     "output_type": "stream",
     "text": [
      " 74%|███████▍  | 742/1000 [37:40<15:54,  3.70s/it]"
     ]
    },
    {
     "name": "stdout",
     "output_type": "stream",
     "text": [
      "File: PMC59841.tar.gz size: 219691 bytes\n"
     ]
    },
    {
     "name": "stderr",
     "output_type": "stream",
     "text": [
      " 74%|███████▍  | 743/1000 [37:43<14:57,  3.49s/it]"
     ]
    },
    {
     "name": "stdout",
     "output_type": "stream",
     "text": [
      "File: PMC59842.tar.gz size: 474338 bytes\n"
     ]
    },
    {
     "name": "stderr",
     "output_type": "stream",
     "text": [
      " 74%|███████▍  | 744/1000 [37:47<15:21,  3.60s/it]"
     ]
    },
    {
     "name": "stdout",
     "output_type": "stream",
     "text": [
      "File: PMC59843.tar.gz size: 255703 bytes\n"
     ]
    },
    {
     "name": "stderr",
     "output_type": "stream",
     "text": [
      " 74%|███████▍  | 745/1000 [37:50<14:43,  3.46s/it]"
     ]
    },
    {
     "name": "stdout",
     "output_type": "stream",
     "text": [
      "File: PMC59844.tar.gz size: 1110074 bytes\n"
     ]
    },
    {
     "name": "stderr",
     "output_type": "stream",
     "text": [
      " 75%|███████▍  | 746/1000 [37:54<14:53,  3.52s/it]"
     ]
    },
    {
     "name": "stdout",
     "output_type": "stream",
     "text": [
      "File: PMC59845.tar.gz size: 574611 bytes\n"
     ]
    },
    {
     "name": "stderr",
     "output_type": "stream",
     "text": [
      " 75%|███████▍  | 747/1000 [37:57<14:34,  3.46s/it]"
     ]
    },
    {
     "name": "stdout",
     "output_type": "stream",
     "text": [
      "File: PMC59846.tar.gz size: 269178 bytes\n"
     ]
    },
    {
     "name": "stderr",
     "output_type": "stream",
     "text": [
      " 75%|███████▍  | 748/1000 [38:00<13:59,  3.33s/it]"
     ]
    },
    {
     "name": "stdout",
     "output_type": "stream",
     "text": [
      "File: PMC59881.tar.gz size: 231713 bytes\n"
     ]
    },
    {
     "name": "stderr",
     "output_type": "stream",
     "text": [
      " 75%|███████▍  | 749/1000 [38:03<13:32,  3.24s/it]"
     ]
    },
    {
     "name": "stdout",
     "output_type": "stream",
     "text": [
      "File: PMC59882.tar.gz size: 126851432 bytes\n"
     ]
    },
    {
     "name": "stderr",
     "output_type": "stream",
     "text": [
      " 75%|███████▌  | 750/1000 [38:41<56:29, 13.56s/it]"
     ]
    },
    {
     "name": "stdout",
     "output_type": "stream",
     "text": [
      "File: PMC59885.tar.gz size: 1040592 bytes\n"
     ]
    },
    {
     "name": "stderr",
     "output_type": "stream",
     "text": [
      " 75%|███████▌  | 751/1000 [38:44<43:49, 10.56s/it]"
     ]
    },
    {
     "name": "stdout",
     "output_type": "stream",
     "text": [
      "File: PMC59886.tar.gz size: 1914049 bytes\n"
     ]
    },
    {
     "name": "stderr",
     "output_type": "stream",
     "text": [
      " 75%|███████▌  | 752/1000 [38:51<39:23,  9.53s/it]"
     ]
    },
    {
     "name": "stdout",
     "output_type": "stream",
     "text": [
      "File: PMC59887.tar.gz size: 2601909 bytes\n"
     ]
    },
    {
     "name": "stderr",
     "output_type": "stream",
     "text": [
      " 75%|███████▌  | 753/1000 [38:56<32:32,  7.90s/it]"
     ]
    },
    {
     "name": "stdout",
     "output_type": "stream",
     "text": [
      "File: PMC59888.tar.gz size: 576115 bytes\n"
     ]
    },
    {
     "name": "stderr",
     "output_type": "stream",
     "text": [
      " 75%|███████▌  | 754/1000 [38:59<26:43,  6.52s/it]"
     ]
    },
    {
     "name": "stdout",
     "output_type": "stream",
     "text": [
      "File: PMC59889.tar.gz size: 3065054 bytes\n"
     ]
    },
    {
     "name": "stderr",
     "output_type": "stream",
     "text": [
      " 76%|███████▌  | 755/1000 [39:03<23:36,  5.78s/it]"
     ]
    },
    {
     "name": "stdout",
     "output_type": "stream",
     "text": [
      "File: PMC59890.tar.gz size: 514053 bytes\n"
     ]
    },
    {
     "name": "stderr",
     "output_type": "stream",
     "text": [
      " 76%|███████▌  | 756/1000 [39:06<20:23,  5.01s/it]"
     ]
    },
    {
     "name": "stdout",
     "output_type": "stream",
     "text": [
      "File: PMC59891.tar.gz size: 363923 bytes\n"
     ]
    },
    {
     "name": "stderr",
     "output_type": "stream",
     "text": [
      " 76%|███████▌  | 757/1000 [39:09<18:11,  4.49s/it]"
     ]
    },
    {
     "name": "stdout",
     "output_type": "stream",
     "text": [
      "File: PMC59892.tar.gz size: 2897200 bytes\n"
     ]
    },
    {
     "name": "stderr",
     "output_type": "stream",
     "text": [
      " 76%|███████▌  | 758/1000 [39:14<18:09,  4.50s/it]"
     ]
    },
    {
     "name": "stdout",
     "output_type": "stream",
     "text": [
      "File: PMC59893.tar.gz size: 291752 bytes\n"
     ]
    },
    {
     "name": "stderr",
     "output_type": "stream",
     "text": [
      " 76%|███████▌  | 759/1000 [39:17<16:20,  4.07s/it]"
     ]
    },
    {
     "name": "stdout",
     "output_type": "stream",
     "text": [
      "File: PMC59894.tar.gz size: 2079612 bytes\n"
     ]
    },
    {
     "name": "stderr",
     "output_type": "stream",
     "text": [
      " 76%|███████▌  | 760/1000 [39:21<15:55,  3.98s/it]"
     ]
    },
    {
     "name": "stdout",
     "output_type": "stream",
     "text": [
      "File: PMC59895.tar.gz size: 189180 bytes\n"
     ]
    },
    {
     "name": "stderr",
     "output_type": "stream",
     "text": [
      " 76%|███████▌  | 761/1000 [39:24<14:25,  3.62s/it]"
     ]
    },
    {
     "name": "stdout",
     "output_type": "stream",
     "text": [
      "File: PMC59896.tar.gz size: 345707 bytes\n"
     ]
    },
    {
     "name": "stderr",
     "output_type": "stream",
     "text": [
      " 76%|███████▌  | 762/1000 [39:27<13:55,  3.51s/it]"
     ]
    },
    {
     "name": "stdout",
     "output_type": "stream",
     "text": [
      "File: PMC59897.tar.gz size: 180770 bytes\n"
     ]
    },
    {
     "name": "stderr",
     "output_type": "stream",
     "text": [
      " 76%|███████▋  | 763/1000 [39:30<13:02,  3.30s/it]"
     ]
    },
    {
     "name": "stdout",
     "output_type": "stream",
     "text": [
      "File: PMC59898.tar.gz size: 210628 bytes\n"
     ]
    },
    {
     "name": "stderr",
     "output_type": "stream",
     "text": [
      " 76%|███████▋  | 764/1000 [39:32<12:23,  3.15s/it]"
     ]
    },
    {
     "name": "stdout",
     "output_type": "stream",
     "text": [
      "File: PMC59899.tar.gz size: 179325 bytes\n"
     ]
    },
    {
     "name": "stderr",
     "output_type": "stream",
     "text": [
      " 76%|███████▋  | 765/1000 [39:36<12:13,  3.12s/it]"
     ]
    },
    {
     "name": "stdout",
     "output_type": "stream",
     "text": [
      "File: PMC59900.tar.gz size: 268163 bytes\n"
     ]
    },
    {
     "name": "stderr",
     "output_type": "stream",
     "text": [
      " 77%|███████▋  | 766/1000 [39:39<12:11,  3.13s/it]"
     ]
    },
    {
     "name": "stdout",
     "output_type": "stream",
     "text": [
      "File: PMC59901.tar.gz size: 373793 bytes\n"
     ]
    },
    {
     "name": "stderr",
     "output_type": "stream",
     "text": [
      " 77%|███████▋  | 767/1000 [39:42<12:36,  3.25s/it]"
     ]
    },
    {
     "name": "stdout",
     "output_type": "stream",
     "text": [
      "File: PMC59902.tar.gz size: 271203 bytes\n"
     ]
    },
    {
     "name": "stderr",
     "output_type": "stream",
     "text": [
      " 77%|███████▋  | 768/1000 [39:45<12:16,  3.18s/it]"
     ]
    },
    {
     "name": "stdout",
     "output_type": "stream",
     "text": [
      "File: PMC59991.tar.gz size: 9357841 bytes\n"
     ]
    },
    {
     "name": "stderr",
     "output_type": "stream",
     "text": [
      " 77%|███████▋  | 769/1000 [39:54<19:10,  4.98s/it]"
     ]
    },
    {
     "name": "stdout",
     "output_type": "stream",
     "text": [
      "File: PMC59997.tar.gz size: 168108 bytes\n"
     ]
    },
    {
     "name": "stderr",
     "output_type": "stream",
     "text": [
      " 77%|███████▋  | 770/1000 [39:57<16:55,  4.41s/it]"
     ]
    },
    {
     "name": "stdout",
     "output_type": "stream",
     "text": [
      "File: PMC59998.tar.gz size: 264782 bytes\n"
     ]
    },
    {
     "name": "stderr",
     "output_type": "stream",
     "text": [
      " 77%|███████▋  | 771/1000 [40:01<15:16,  4.00s/it]"
     ]
    },
    {
     "name": "stdout",
     "output_type": "stream",
     "text": [
      "File: PMC59999.tar.gz size: 2393984 bytes\n"
     ]
    },
    {
     "name": "stderr",
     "output_type": "stream",
     "text": [
      " 77%|███████▋  | 772/1000 [40:05<15:32,  4.09s/it]"
     ]
    },
    {
     "name": "stdout",
     "output_type": "stream",
     "text": [
      "File: PMC60000.tar.gz size: 823173 bytes\n"
     ]
    },
    {
     "name": "stderr",
     "output_type": "stream",
     "text": [
      " 77%|███████▋  | 773/1000 [40:09<15:04,  3.98s/it]"
     ]
    },
    {
     "name": "stdout",
     "output_type": "stream",
     "text": [
      "File: PMC60001.tar.gz size: 308700 bytes\n"
     ]
    },
    {
     "name": "stderr",
     "output_type": "stream",
     "text": [
      " 77%|███████▋  | 774/1000 [40:12<14:02,  3.73s/it]"
     ]
    },
    {
     "name": "stdout",
     "output_type": "stream",
     "text": [
      "File: PMC60002.tar.gz size: 1020571 bytes\n"
     ]
    },
    {
     "name": "stderr",
     "output_type": "stream",
     "text": [
      " 78%|███████▊  | 775/1000 [40:15<13:49,  3.69s/it]"
     ]
    },
    {
     "name": "stdout",
     "output_type": "stream",
     "text": [
      "File: PMC60003.tar.gz size: 442921 bytes\n"
     ]
    },
    {
     "name": "stderr",
     "output_type": "stream",
     "text": [
      " 78%|███████▊  | 776/1000 [40:19<13:18,  3.57s/it]"
     ]
    },
    {
     "name": "stdout",
     "output_type": "stream",
     "text": [
      "File: PMC60004.tar.gz size: 1539808 bytes\n"
     ]
    },
    {
     "name": "stderr",
     "output_type": "stream",
     "text": [
      " 78%|███████▊  | 777/1000 [40:23<14:03,  3.78s/it]"
     ]
    },
    {
     "name": "stdout",
     "output_type": "stream",
     "text": [
      "File: PMC60005.tar.gz size: 1214940 bytes\n"
     ]
    },
    {
     "name": "stderr",
     "output_type": "stream",
     "text": [
      " 78%|███████▊  | 778/1000 [40:27<14:03,  3.80s/it]"
     ]
    },
    {
     "name": "stdout",
     "output_type": "stream",
     "text": [
      "File: PMC60006.tar.gz size: 192161 bytes\n"
     ]
    },
    {
     "name": "stderr",
     "output_type": "stream",
     "text": [
      " 78%|███████▊  | 779/1000 [40:30<12:59,  3.53s/it]"
     ]
    },
    {
     "name": "stdout",
     "output_type": "stream",
     "text": [
      "File: PMC60007.tar.gz size: 542537 bytes\n"
     ]
    },
    {
     "name": "stderr",
     "output_type": "stream",
     "text": [
      " 78%|███████▊  | 780/1000 [40:33<12:36,  3.44s/it]"
     ]
    },
    {
     "name": "stdout",
     "output_type": "stream",
     "text": [
      "File: PMC60307.tar.gz size: 1852213 bytes\n"
     ]
    },
    {
     "name": "stderr",
     "output_type": "stream",
     "text": [
      " 78%|███████▊  | 781/1000 [40:37<13:09,  3.60s/it]"
     ]
    },
    {
     "name": "stdout",
     "output_type": "stream",
     "text": [
      "File: PMC60308.tar.gz size: 3218065 bytes\n"
     ]
    },
    {
     "name": "stderr",
     "output_type": "stream",
     "text": [
      " 78%|███████▊  | 782/1000 [40:41<13:53,  3.82s/it]"
     ]
    },
    {
     "name": "stdout",
     "output_type": "stream",
     "text": [
      "File: PMC60310.tar.gz size: 244532 bytes\n"
     ]
    },
    {
     "name": "stderr",
     "output_type": "stream",
     "text": [
      " 78%|███████▊  | 783/1000 [40:44<13:04,  3.62s/it]"
     ]
    },
    {
     "name": "stdout",
     "output_type": "stream",
     "text": [
      "File: PMC60312.tar.gz size: 283046 bytes\n"
     ]
    },
    {
     "name": "stderr",
     "output_type": "stream",
     "text": [
      " 78%|███████▊  | 784/1000 [40:48<12:45,  3.55s/it]"
     ]
    },
    {
     "name": "stdout",
     "output_type": "stream",
     "text": [
      "File: PMC60490.tar.gz size: 1548846 bytes\n"
     ]
    },
    {
     "name": "stderr",
     "output_type": "stream",
     "text": [
      " 78%|███████▊  | 785/1000 [40:51<12:54,  3.60s/it]"
     ]
    },
    {
     "name": "stdout",
     "output_type": "stream",
     "text": [
      "File: PMC60491.tar.gz size: 375617 bytes\n"
     ]
    },
    {
     "name": "stderr",
     "output_type": "stream",
     "text": [
      " 79%|███████▊  | 786/1000 [40:55<12:51,  3.61s/it]"
     ]
    },
    {
     "name": "stdout",
     "output_type": "stream",
     "text": [
      "File: PMC60492.tar.gz size: 460396 bytes\n"
     ]
    },
    {
     "name": "stderr",
     "output_type": "stream",
     "text": [
      " 79%|███████▊  | 787/1000 [40:58<12:31,  3.53s/it]"
     ]
    },
    {
     "name": "stdout",
     "output_type": "stream",
     "text": [
      "File: PMC60523.tar.gz size: 332084 bytes\n"
     ]
    },
    {
     "name": "stderr",
     "output_type": "stream",
     "text": [
      " 79%|███████▉  | 788/1000 [41:01<12:03,  3.41s/it]"
     ]
    },
    {
     "name": "stdout",
     "output_type": "stream",
     "text": [
      "File: PMC60524.tar.gz size: 310281 bytes\n"
     ]
    },
    {
     "name": "stderr",
     "output_type": "stream",
     "text": [
      " 79%|███████▉  | 789/1000 [41:05<11:40,  3.32s/it]"
     ]
    },
    {
     "name": "stdout",
     "output_type": "stream",
     "text": [
      "File: PMC60534.tar.gz size: 751338 bytes\n"
     ]
    },
    {
     "name": "stderr",
     "output_type": "stream",
     "text": [
      " 79%|███████▉  | 790/1000 [41:08<11:54,  3.40s/it]"
     ]
    },
    {
     "name": "stdout",
     "output_type": "stream",
     "text": [
      "File: PMC60646.tar.gz size: 212761 bytes\n"
     ]
    },
    {
     "name": "stderr",
     "output_type": "stream",
     "text": [
      " 79%|███████▉  | 791/1000 [41:11<11:35,  3.33s/it]"
     ]
    },
    {
     "name": "stdout",
     "output_type": "stream",
     "text": [
      "File: PMC60647.tar.gz size: 1255797 bytes\n"
     ]
    },
    {
     "name": "stderr",
     "output_type": "stream",
     "text": [
      " 79%|███████▉  | 792/1000 [41:15<11:41,  3.37s/it]"
     ]
    },
    {
     "name": "stdout",
     "output_type": "stream",
     "text": [
      "File: PMC60648.tar.gz size: 513274 bytes\n"
     ]
    },
    {
     "name": "stderr",
     "output_type": "stream",
     "text": [
      " 79%|███████▉  | 793/1000 [41:18<11:38,  3.37s/it]"
     ]
    },
    {
     "name": "stdout",
     "output_type": "stream",
     "text": [
      "File: PMC60649.tar.gz size: 541120 bytes\n"
     ]
    },
    {
     "name": "stderr",
     "output_type": "stream",
     "text": [
      " 79%|███████▉  | 794/1000 [41:21<11:29,  3.35s/it]"
     ]
    },
    {
     "name": "stdout",
     "output_type": "stream",
     "text": [
      "File: PMC60650.tar.gz size: 630524 bytes\n"
     ]
    },
    {
     "name": "stderr",
     "output_type": "stream",
     "text": [
      " 80%|███████▉  | 795/1000 [41:25<11:31,  3.37s/it]"
     ]
    },
    {
     "name": "stdout",
     "output_type": "stream",
     "text": [
      "File: PMC60651.tar.gz size: 383378 bytes\n"
     ]
    },
    {
     "name": "stderr",
     "output_type": "stream",
     "text": [
      " 80%|███████▉  | 796/1000 [41:28<11:23,  3.35s/it]"
     ]
    },
    {
     "name": "stdout",
     "output_type": "stream",
     "text": [
      "File: PMC60652.tar.gz size: 545717 bytes\n"
     ]
    },
    {
     "name": "stderr",
     "output_type": "stream",
     "text": [
      " 80%|███████▉  | 797/1000 [41:32<11:48,  3.49s/it]"
     ]
    },
    {
     "name": "stdout",
     "output_type": "stream",
     "text": [
      "File: PMC60653.tar.gz size: 313942 bytes\n"
     ]
    },
    {
     "name": "stderr",
     "output_type": "stream",
     "text": [
      " 80%|███████▉  | 798/1000 [41:35<11:19,  3.36s/it]"
     ]
    },
    {
     "name": "stdout",
     "output_type": "stream",
     "text": [
      "File: PMC60654.tar.gz size: 1272493 bytes\n"
     ]
    },
    {
     "name": "stderr",
     "output_type": "stream",
     "text": [
      " 80%|███████▉  | 799/1000 [41:40<12:21,  3.69s/it]"
     ]
    },
    {
     "name": "stdout",
     "output_type": "stream",
     "text": [
      "File: PMC60655.tar.gz size: 451427 bytes\n"
     ]
    },
    {
     "name": "stderr",
     "output_type": "stream",
     "text": [
      " 80%|████████  | 800/1000 [41:43<11:56,  3.58s/it]"
     ]
    },
    {
     "name": "stdout",
     "output_type": "stream",
     "text": [
      "File: PMC60656.tar.gz size: 376685 bytes\n"
     ]
    },
    {
     "name": "stderr",
     "output_type": "stream",
     "text": [
      " 80%|████████  | 801/1000 [41:46<11:34,  3.49s/it]"
     ]
    },
    {
     "name": "stdout",
     "output_type": "stream",
     "text": [
      "File: PMC60657.tar.gz size: 561293 bytes\n"
     ]
    },
    {
     "name": "stderr",
     "output_type": "stream",
     "text": [
      " 80%|████████  | 802/1000 [41:49<11:23,  3.45s/it]"
     ]
    },
    {
     "name": "stdout",
     "output_type": "stream",
     "text": [
      "File: PMC60658.tar.gz size: 242579 bytes\n"
     ]
    },
    {
     "name": "stderr",
     "output_type": "stream",
     "text": [
      " 80%|████████  | 803/1000 [41:53<10:55,  3.33s/it]"
     ]
    },
    {
     "name": "stdout",
     "output_type": "stream",
     "text": [
      "File: PMC60659.tar.gz size: 217587 bytes\n"
     ]
    },
    {
     "name": "stderr",
     "output_type": "stream",
     "text": [
      " 80%|████████  | 804/1000 [41:56<10:37,  3.25s/it]"
     ]
    },
    {
     "name": "stdout",
     "output_type": "stream",
     "text": [
      "File: PMC60660.tar.gz size: 305485 bytes\n"
     ]
    },
    {
     "name": "stderr",
     "output_type": "stream",
     "text": [
      " 80%|████████  | 805/1000 [41:59<10:31,  3.24s/it]"
     ]
    },
    {
     "name": "stdout",
     "output_type": "stream",
     "text": [
      "File: PMC60661.tar.gz size: 205932 bytes\n"
     ]
    },
    {
     "name": "stderr",
     "output_type": "stream",
     "text": [
      " 81%|████████  | 806/1000 [42:02<09:59,  3.09s/it]"
     ]
    },
    {
     "name": "stdout",
     "output_type": "stream",
     "text": [
      "File: PMC60662.tar.gz size: 1245556 bytes\n"
     ]
    },
    {
     "name": "stderr",
     "output_type": "stream",
     "text": [
      " 81%|████████  | 807/1000 [42:05<10:22,  3.23s/it]"
     ]
    },
    {
     "name": "stdout",
     "output_type": "stream",
     "text": [
      "File: PMC60663.tar.gz size: 1257031 bytes\n"
     ]
    },
    {
     "name": "stderr",
     "output_type": "stream",
     "text": [
      " 81%|████████  | 808/1000 [42:09<10:35,  3.31s/it]"
     ]
    },
    {
     "name": "stdout",
     "output_type": "stream",
     "text": [
      "File: PMC60664.tar.gz size: 323170 bytes\n"
     ]
    },
    {
     "name": "stderr",
     "output_type": "stream",
     "text": [
      " 81%|████████  | 809/1000 [42:12<10:23,  3.26s/it]"
     ]
    },
    {
     "name": "stdout",
     "output_type": "stream",
     "text": [
      "File: PMC60676.tar.gz size: 342818 bytes\n"
     ]
    },
    {
     "name": "stderr",
     "output_type": "stream",
     "text": [
      " 81%|████████  | 810/1000 [42:15<10:21,  3.27s/it]"
     ]
    },
    {
     "name": "stdout",
     "output_type": "stream",
     "text": [
      "File: PMC60677.tar.gz size: 381263 bytes\n"
     ]
    },
    {
     "name": "stderr",
     "output_type": "stream",
     "text": [
      " 81%|████████  | 811/1000 [42:18<10:19,  3.28s/it]"
     ]
    },
    {
     "name": "stdout",
     "output_type": "stream",
     "text": [
      "File: PMC60969.tar.gz size: 256610 bytes\n"
     ]
    },
    {
     "name": "stderr",
     "output_type": "stream",
     "text": [
      " 81%|████████  | 812/1000 [42:22<10:12,  3.26s/it]"
     ]
    },
    {
     "name": "stdout",
     "output_type": "stream",
     "text": [
      "File: PMC60970.tar.gz size: 236437 bytes\n"
     ]
    },
    {
     "name": "stderr",
     "output_type": "stream",
     "text": [
      " 81%|████████▏ | 813/1000 [42:25<10:07,  3.25s/it]"
     ]
    },
    {
     "name": "stdout",
     "output_type": "stream",
     "text": [
      "File: PMC60988.tar.gz size: 1054492 bytes\n"
     ]
    },
    {
     "name": "stderr",
     "output_type": "stream",
     "text": [
      " 81%|████████▏ | 814/1000 [42:28<10:18,  3.33s/it]"
     ]
    },
    {
     "name": "stdout",
     "output_type": "stream",
     "text": [
      "File: PMC60989.tar.gz size: 601830 bytes\n"
     ]
    },
    {
     "name": "stderr",
     "output_type": "stream",
     "text": [
      " 82%|████████▏ | 815/1000 [42:32<10:18,  3.34s/it]"
     ]
    },
    {
     "name": "stdout",
     "output_type": "stream",
     "text": [
      "File: PMC60990.tar.gz size: 674421 bytes\n"
     ]
    },
    {
     "name": "stderr",
     "output_type": "stream",
     "text": [
      " 82%|████████▏ | 816/1000 [42:35<10:40,  3.48s/it]"
     ]
    },
    {
     "name": "stdout",
     "output_type": "stream",
     "text": [
      "File: PMC60991.tar.gz size: 305019 bytes\n"
     ]
    },
    {
     "name": "stderr",
     "output_type": "stream",
     "text": [
      " 82%|████████▏ | 817/1000 [42:39<10:23,  3.41s/it]"
     ]
    },
    {
     "name": "stdout",
     "output_type": "stream",
     "text": [
      "File: PMC60992.tar.gz size: 297577 bytes\n"
     ]
    },
    {
     "name": "stderr",
     "output_type": "stream",
     "text": [
      " 82%|████████▏ | 818/1000 [42:42<10:14,  3.38s/it]"
     ]
    },
    {
     "name": "stdout",
     "output_type": "stream",
     "text": [
      "File: PMC60993.tar.gz size: 243131 bytes\n"
     ]
    },
    {
     "name": "stderr",
     "output_type": "stream",
     "text": [
      " 82%|████████▏ | 819/1000 [42:45<09:57,  3.30s/it]"
     ]
    },
    {
     "name": "stdout",
     "output_type": "stream",
     "text": [
      "File: PMC60994.tar.gz size: 282817 bytes\n"
     ]
    },
    {
     "name": "stderr",
     "output_type": "stream",
     "text": [
      " 82%|████████▏ | 820/1000 [42:48<09:44,  3.25s/it]"
     ]
    },
    {
     "name": "stdout",
     "output_type": "stream",
     "text": [
      "File: PMC60995.tar.gz size: 214306 bytes\n"
     ]
    },
    {
     "name": "stderr",
     "output_type": "stream",
     "text": [
      " 82%|████████▏ | 821/1000 [42:51<09:39,  3.24s/it]"
     ]
    },
    {
     "name": "stdout",
     "output_type": "stream",
     "text": [
      "File: PMC60996.tar.gz size: 1086578 bytes\n"
     ]
    },
    {
     "name": "stderr",
     "output_type": "stream",
     "text": [
      " 82%|████████▏ | 822/1000 [42:55<10:16,  3.47s/it]"
     ]
    },
    {
     "name": "stdout",
     "output_type": "stream",
     "text": [
      "File: PMC60997.tar.gz size: 426013 bytes\n"
     ]
    },
    {
     "name": "stderr",
     "output_type": "stream",
     "text": [
      " 82%|████████▏ | 823/1000 [42:59<10:14,  3.47s/it]"
     ]
    },
    {
     "name": "stdout",
     "output_type": "stream",
     "text": [
      "File: PMC60998.tar.gz size: 188127 bytes\n"
     ]
    },
    {
     "name": "stderr",
     "output_type": "stream",
     "text": [
      " 82%|████████▏ | 824/1000 [43:02<09:40,  3.30s/it]"
     ]
    },
    {
     "name": "stdout",
     "output_type": "stream",
     "text": [
      "File: PMC60999.tar.gz size: 357846 bytes\n"
     ]
    },
    {
     "name": "stderr",
     "output_type": "stream",
     "text": [
      " 82%|████████▎ | 825/1000 [43:05<09:41,  3.32s/it]"
     ]
    },
    {
     "name": "stdout",
     "output_type": "stream",
     "text": [
      "File: PMC61000.tar.gz size: 390906 bytes\n"
     ]
    },
    {
     "name": "stderr",
     "output_type": "stream",
     "text": [
      " 83%|████████▎ | 826/1000 [43:09<09:42,  3.35s/it]"
     ]
    },
    {
     "name": "stdout",
     "output_type": "stream",
     "text": [
      "File: PMC61030.tar.gz size: 243709 bytes\n"
     ]
    },
    {
     "name": "stderr",
     "output_type": "stream",
     "text": [
      " 83%|████████▎ | 827/1000 [43:12<09:21,  3.25s/it]"
     ]
    },
    {
     "name": "stdout",
     "output_type": "stream",
     "text": [
      "File: PMC61031.tar.gz size: 853647 bytes\n"
     ]
    },
    {
     "name": "stderr",
     "output_type": "stream",
     "text": [
      " 83%|████████▎ | 828/1000 [43:15<09:37,  3.36s/it]"
     ]
    },
    {
     "name": "stdout",
     "output_type": "stream",
     "text": [
      "File: PMC61032.tar.gz size: 3377262 bytes\n"
     ]
    },
    {
     "name": "stderr",
     "output_type": "stream",
     "text": [
      " 83%|████████▎ | 829/1000 [43:19<10:03,  3.53s/it]"
     ]
    },
    {
     "name": "stdout",
     "output_type": "stream",
     "text": [
      "File: PMC61033.tar.gz size: 1547642 bytes\n"
     ]
    },
    {
     "name": "stderr",
     "output_type": "stream",
     "text": [
      " 83%|████████▎ | 830/1000 [43:23<10:14,  3.62s/it]"
     ]
    },
    {
     "name": "stdout",
     "output_type": "stream",
     "text": [
      "File: PMC61034.tar.gz size: 804070 bytes\n"
     ]
    },
    {
     "name": "stderr",
     "output_type": "stream",
     "text": [
      " 83%|████████▎ | 831/1000 [43:27<10:14,  3.63s/it]"
     ]
    },
    {
     "name": "stdout",
     "output_type": "stream",
     "text": [
      "File: PMC61035.tar.gz size: 168597 bytes\n"
     ]
    },
    {
     "name": "stderr",
     "output_type": "stream",
     "text": [
      " 83%|████████▎ | 832/1000 [43:30<09:27,  3.38s/it]"
     ]
    },
    {
     "name": "stdout",
     "output_type": "stream",
     "text": [
      "File: PMC61036.tar.gz size: 257993 bytes\n"
     ]
    },
    {
     "name": "stderr",
     "output_type": "stream",
     "text": [
      " 83%|████████▎ | 833/1000 [43:33<09:26,  3.39s/it]"
     ]
    },
    {
     "name": "stdout",
     "output_type": "stream",
     "text": [
      "File: PMC61037.tar.gz size: 235460 bytes\n"
     ]
    },
    {
     "name": "stderr",
     "output_type": "stream",
     "text": [
      " 83%|████████▎ | 834/1000 [43:36<09:06,  3.29s/it]"
     ]
    },
    {
     "name": "stdout",
     "output_type": "stream",
     "text": [
      "File: PMC61038.tar.gz size: 548686 bytes\n"
     ]
    },
    {
     "name": "stderr",
     "output_type": "stream",
     "text": [
      " 84%|████████▎ | 835/1000 [43:39<09:10,  3.34s/it]"
     ]
    },
    {
     "name": "stdout",
     "output_type": "stream",
     "text": [
      "File: PMC61039.tar.gz size: 263555 bytes\n"
     ]
    },
    {
     "name": "stderr",
     "output_type": "stream",
     "text": [
      " 84%|████████▎ | 836/1000 [43:43<09:07,  3.34s/it]"
     ]
    },
    {
     "name": "stdout",
     "output_type": "stream",
     "text": [
      "File: PMC61040.tar.gz size: 682074 bytes\n"
     ]
    },
    {
     "name": "stderr",
     "output_type": "stream",
     "text": [
      " 84%|████████▎ | 837/1000 [43:46<09:15,  3.40s/it]"
     ]
    },
    {
     "name": "stdout",
     "output_type": "stream",
     "text": [
      "File: PMC61041.tar.gz size: 2146406 bytes\n"
     ]
    },
    {
     "name": "stderr",
     "output_type": "stream",
     "text": [
      " 84%|████████▍ | 838/1000 [43:51<10:23,  3.85s/it]"
     ]
    },
    {
     "name": "stdout",
     "output_type": "stream",
     "text": [
      "File: PMC61042.tar.gz size: 1118321 bytes\n"
     ]
    },
    {
     "name": "stderr",
     "output_type": "stream",
     "text": [
      " 84%|████████▍ | 839/1000 [43:55<10:08,  3.78s/it]"
     ]
    },
    {
     "name": "stdout",
     "output_type": "stream",
     "text": [
      "File: PMC61043.tar.gz size: 242971 bytes\n"
     ]
    },
    {
     "name": "stderr",
     "output_type": "stream",
     "text": [
      " 84%|████████▍ | 840/1000 [43:58<09:29,  3.56s/it]"
     ]
    },
    {
     "name": "stdout",
     "output_type": "stream",
     "text": [
      "File: PMC61044.tar.gz size: 831207 bytes\n"
     ]
    },
    {
     "name": "stderr",
     "output_type": "stream",
     "text": [
      " 84%|████████▍ | 841/1000 [44:02<09:30,  3.59s/it]"
     ]
    },
    {
     "name": "stdout",
     "output_type": "stream",
     "text": [
      "File: PMC61448.tar.gz size: 2591637 bytes\n"
     ]
    },
    {
     "name": "stderr",
     "output_type": "stream",
     "text": [
      " 84%|████████▍ | 842/1000 [44:05<09:46,  3.71s/it]"
     ]
    },
    {
     "name": "stdout",
     "output_type": "stream",
     "text": [
      "File: PMC61449.tar.gz size: 381324 bytes\n"
     ]
    },
    {
     "name": "stderr",
     "output_type": "stream",
     "text": [
      " 84%|████████▍ | 843/1000 [44:09<09:25,  3.60s/it]"
     ]
    },
    {
     "name": "stdout",
     "output_type": "stream",
     "text": [
      "File: PMC61450.tar.gz size: 1138238 bytes\n"
     ]
    },
    {
     "name": "stderr",
     "output_type": "stream",
     "text": [
      " 84%|████████▍ | 844/1000 [44:12<09:17,  3.58s/it]"
     ]
    },
    {
     "name": "stdout",
     "output_type": "stream",
     "text": [
      "File: PMC64492.tar.gz size: 609070 bytes\n"
     ]
    },
    {
     "name": "stderr",
     "output_type": "stream",
     "text": [
      " 84%|████████▍ | 845/1000 [44:16<09:20,  3.62s/it]"
     ]
    },
    {
     "name": "stdout",
     "output_type": "stream",
     "text": [
      "File: PMC64493.tar.gz size: 847834 bytes\n"
     ]
    },
    {
     "name": "stderr",
     "output_type": "stream",
     "text": [
      " 85%|████████▍ | 846/1000 [44:20<09:17,  3.62s/it]"
     ]
    },
    {
     "name": "stdout",
     "output_type": "stream",
     "text": [
      "File: PMC64494.tar.gz size: 2028297 bytes\n"
     ]
    },
    {
     "name": "stderr",
     "output_type": "stream",
     "text": [
      " 85%|████████▍ | 847/1000 [44:24<09:31,  3.73s/it]"
     ]
    },
    {
     "name": "stdout",
     "output_type": "stream",
     "text": [
      "File: PMC64495.tar.gz size: 386172 bytes\n"
     ]
    },
    {
     "name": "stderr",
     "output_type": "stream",
     "text": [
      " 85%|████████▍ | 848/1000 [44:27<09:07,  3.60s/it]"
     ]
    },
    {
     "name": "stdout",
     "output_type": "stream",
     "text": [
      "File: PMC64496.tar.gz size: 698457 bytes\n"
     ]
    },
    {
     "name": "stderr",
     "output_type": "stream",
     "text": [
      " 85%|████████▍ | 849/1000 [44:31<09:04,  3.61s/it]"
     ]
    },
    {
     "name": "stdout",
     "output_type": "stream",
     "text": [
      "File: PMC64497.tar.gz size: 1007539 bytes\n"
     ]
    },
    {
     "name": "stderr",
     "output_type": "stream",
     "text": [
      " 85%|████████▌ | 850/1000 [44:34<09:06,  3.64s/it]"
     ]
    },
    {
     "name": "stdout",
     "output_type": "stream",
     "text": [
      "File: PMC64498.tar.gz size: 1496976 bytes\n"
     ]
    },
    {
     "name": "stderr",
     "output_type": "stream",
     "text": [
      " 85%|████████▌ | 851/1000 [44:39<09:29,  3.82s/it]"
     ]
    },
    {
     "name": "stdout",
     "output_type": "stream",
     "text": [
      "File: PMC64499.tar.gz size: 567315 bytes\n"
     ]
    },
    {
     "name": "stderr",
     "output_type": "stream",
     "text": [
      " 85%|████████▌ | 852/1000 [44:42<09:23,  3.81s/it]"
     ]
    },
    {
     "name": "stdout",
     "output_type": "stream",
     "text": [
      "File: PMC64500.tar.gz size: 1012716 bytes\n"
     ]
    },
    {
     "name": "stderr",
     "output_type": "stream",
     "text": [
      " 85%|████████▌ | 853/1000 [44:46<09:20,  3.81s/it]"
     ]
    },
    {
     "name": "stdout",
     "output_type": "stream",
     "text": [
      "File: PMC64501.tar.gz size: 248016 bytes\n"
     ]
    },
    {
     "name": "stderr",
     "output_type": "stream",
     "text": [
      " 85%|████████▌ | 854/1000 [44:49<08:43,  3.59s/it]"
     ]
    },
    {
     "name": "stdout",
     "output_type": "stream",
     "text": [
      "File: PMC64502.tar.gz size: 239852 bytes\n"
     ]
    },
    {
     "name": "stderr",
     "output_type": "stream",
     "text": [
      " 86%|████████▌ | 855/1000 [44:52<08:18,  3.44s/it]"
     ]
    },
    {
     "name": "stdout",
     "output_type": "stream",
     "text": [
      "File: PMC64540.tar.gz size: 235392 bytes\n"
     ]
    },
    {
     "name": "stderr",
     "output_type": "stream",
     "text": [
      " 86%|████████▌ | 856/1000 [44:55<08:00,  3.33s/it]"
     ]
    },
    {
     "name": "stdout",
     "output_type": "stream",
     "text": [
      "File: PMC64544.tar.gz size: 636414 bytes\n"
     ]
    },
    {
     "name": "stderr",
     "output_type": "stream",
     "text": [
      " 86%|████████▌ | 857/1000 [44:59<08:14,  3.46s/it]"
     ]
    },
    {
     "name": "stdout",
     "output_type": "stream",
     "text": [
      "File: PMC64545.tar.gz size: 271225 bytes\n"
     ]
    },
    {
     "name": "stderr",
     "output_type": "stream",
     "text": [
      " 86%|████████▌ | 858/1000 [45:03<08:05,  3.42s/it]"
     ]
    },
    {
     "name": "stdout",
     "output_type": "stream",
     "text": [
      "File: PMC64552.tar.gz size: 879977 bytes\n"
     ]
    },
    {
     "name": "stderr",
     "output_type": "stream",
     "text": [
      " 86%|████████▌ | 859/1000 [45:06<08:18,  3.53s/it]"
     ]
    },
    {
     "name": "stdout",
     "output_type": "stream",
     "text": [
      "File: PMC64558.tar.gz size: 490445 bytes\n"
     ]
    },
    {
     "name": "stderr",
     "output_type": "stream",
     "text": [
      " 86%|████████▌ | 860/1000 [45:10<08:27,  3.63s/it]"
     ]
    },
    {
     "name": "stdout",
     "output_type": "stream",
     "text": [
      "File: PMC64559.tar.gz size: 558271 bytes\n"
     ]
    },
    {
     "name": "stderr",
     "output_type": "stream",
     "text": [
      " 86%|████████▌ | 861/1000 [45:13<08:11,  3.54s/it]"
     ]
    },
    {
     "name": "stdout",
     "output_type": "stream",
     "text": [
      "File: PMC64563.tar.gz size: 506548 bytes\n"
     ]
    },
    {
     "name": "stderr",
     "output_type": "stream",
     "text": [
      " 86%|████████▌ | 862/1000 [45:19<09:14,  4.02s/it]"
     ]
    },
    {
     "name": "stdout",
     "output_type": "stream",
     "text": [
      "File: PMC64569.tar.gz size: 847375 bytes\n"
     ]
    },
    {
     "name": "stderr",
     "output_type": "stream",
     "text": [
      " 86%|████████▋ | 863/1000 [45:22<08:48,  3.86s/it]"
     ]
    },
    {
     "name": "stdout",
     "output_type": "stream",
     "text": [
      "File: PMC64570.tar.gz size: 572783 bytes\n"
     ]
    },
    {
     "name": "stderr",
     "output_type": "stream",
     "text": [
      " 86%|████████▋ | 864/1000 [45:26<08:46,  3.87s/it]"
     ]
    },
    {
     "name": "stdout",
     "output_type": "stream",
     "text": [
      "File: PMC64578.tar.gz size: 1481335 bytes\n"
     ]
    },
    {
     "name": "stderr",
     "output_type": "stream",
     "text": [
      " 86%|████████▋ | 865/1000 [45:30<08:44,  3.88s/it]"
     ]
    },
    {
     "name": "stdout",
     "output_type": "stream",
     "text": [
      "File: PMC64605.tar.gz size: 1493966 bytes\n"
     ]
    },
    {
     "name": "stderr",
     "output_type": "stream",
     "text": [
      " 87%|████████▋ | 866/1000 [45:34<08:42,  3.90s/it]"
     ]
    },
    {
     "name": "stdout",
     "output_type": "stream",
     "text": [
      "File: PMC64612.tar.gz size: 451753 bytes\n"
     ]
    },
    {
     "name": "stderr",
     "output_type": "stream",
     "text": [
      " 87%|████████▋ | 867/1000 [45:37<08:16,  3.73s/it]"
     ]
    },
    {
     "name": "stdout",
     "output_type": "stream",
     "text": [
      "File: PMC64621.tar.gz size: 136088 bytes\n"
     ]
    },
    {
     "name": "stderr",
     "output_type": "stream",
     "text": [
      " 87%|████████▋ | 868/1000 [45:40<07:39,  3.48s/it]"
     ]
    },
    {
     "name": "stdout",
     "output_type": "stream",
     "text": [
      "File: PMC64635.tar.gz size: 293299 bytes\n"
     ]
    },
    {
     "name": "stderr",
     "output_type": "stream",
     "text": [
      " 87%|████████▋ | 869/1000 [45:43<07:21,  3.37s/it]"
     ]
    },
    {
     "name": "stdout",
     "output_type": "stream",
     "text": [
      "File: PMC64636.tar.gz size: 375180 bytes\n"
     ]
    },
    {
     "name": "stderr",
     "output_type": "stream",
     "text": [
      " 87%|████████▋ | 870/1000 [45:47<07:28,  3.45s/it]"
     ]
    },
    {
     "name": "stdout",
     "output_type": "stream",
     "text": [
      "File: PMC64637.tar.gz size: 2056169 bytes\n"
     ]
    },
    {
     "name": "stderr",
     "output_type": "stream",
     "text": [
      " 87%|████████▋ | 871/1000 [45:51<07:45,  3.61s/it]"
     ]
    },
    {
     "name": "stdout",
     "output_type": "stream",
     "text": [
      "File: PMC64638.tar.gz size: 252712 bytes\n"
     ]
    },
    {
     "name": "stderr",
     "output_type": "stream",
     "text": [
      " 87%|████████▋ | 872/1000 [45:54<07:22,  3.46s/it]"
     ]
    },
    {
     "name": "stdout",
     "output_type": "stream",
     "text": [
      "File: PMC64639.tar.gz size: 940144 bytes\n"
     ]
    },
    {
     "name": "stderr",
     "output_type": "stream",
     "text": [
      " 87%|████████▋ | 873/1000 [45:58<07:27,  3.53s/it]"
     ]
    },
    {
     "name": "stdout",
     "output_type": "stream",
     "text": [
      "File: PMC64640.tar.gz size: 360895 bytes\n"
     ]
    },
    {
     "name": "stderr",
     "output_type": "stream",
     "text": [
      " 87%|████████▋ | 874/1000 [46:01<07:13,  3.44s/it]"
     ]
    },
    {
     "name": "stdout",
     "output_type": "stream",
     "text": [
      "File: PMC64641.tar.gz size: 224461 bytes\n"
     ]
    },
    {
     "name": "stderr",
     "output_type": "stream",
     "text": [
      " 88%|████████▊ | 875/1000 [46:04<06:54,  3.31s/it]"
     ]
    },
    {
     "name": "stdout",
     "output_type": "stream",
     "text": [
      "File: PMC64642.tar.gz size: 1120284 bytes\n"
     ]
    },
    {
     "name": "stderr",
     "output_type": "stream",
     "text": [
      " 88%|████████▊ | 876/1000 [46:07<06:58,  3.38s/it]"
     ]
    },
    {
     "name": "stdout",
     "output_type": "stream",
     "text": [
      "File: PMC64643.tar.gz size: 723778 bytes\n"
     ]
    },
    {
     "name": "stderr",
     "output_type": "stream",
     "text": [
      " 88%|████████▊ | 877/1000 [46:11<07:11,  3.51s/it]"
     ]
    },
    {
     "name": "stdout",
     "output_type": "stream",
     "text": [
      "File: PMC64644.tar.gz size: 253683 bytes\n"
     ]
    },
    {
     "name": "stderr",
     "output_type": "stream",
     "text": [
      " 88%|████████▊ | 878/1000 [46:14<06:54,  3.40s/it]"
     ]
    },
    {
     "name": "stdout",
     "output_type": "stream",
     "text": [
      "File: PMC64645.tar.gz size: 302355 bytes\n"
     ]
    },
    {
     "name": "stderr",
     "output_type": "stream",
     "text": [
      " 88%|████████▊ | 879/1000 [46:18<06:49,  3.39s/it]"
     ]
    },
    {
     "name": "stdout",
     "output_type": "stream",
     "text": [
      "File: PMC64646.tar.gz size: 540576 bytes\n"
     ]
    },
    {
     "name": "stderr",
     "output_type": "stream",
     "text": [
      " 88%|████████▊ | 880/1000 [46:21<06:58,  3.49s/it]"
     ]
    },
    {
     "name": "stdout",
     "output_type": "stream",
     "text": [
      "File: PMC64647.tar.gz size: 949461 bytes\n"
     ]
    },
    {
     "name": "stderr",
     "output_type": "stream",
     "text": [
      " 88%|████████▊ | 881/1000 [46:27<08:26,  4.25s/it]"
     ]
    },
    {
     "name": "stdout",
     "output_type": "stream",
     "text": [
      "File: PMC64648.tar.gz size: 402787 bytes\n"
     ]
    },
    {
     "name": "stderr",
     "output_type": "stream",
     "text": [
      " 88%|████████▊ | 882/1000 [46:31<07:49,  3.98s/it]"
     ]
    },
    {
     "name": "stdout",
     "output_type": "stream",
     "text": [
      "File: PMC64649.tar.gz size: 456118 bytes\n"
     ]
    },
    {
     "name": "stderr",
     "output_type": "stream",
     "text": [
      " 88%|████████▊ | 883/1000 [46:34<07:20,  3.76s/it]"
     ]
    },
    {
     "name": "stdout",
     "output_type": "stream",
     "text": [
      "File: PMC64650.tar.gz size: 892411 bytes\n"
     ]
    },
    {
     "name": "stderr",
     "output_type": "stream",
     "text": [
      " 88%|████████▊ | 884/1000 [46:38<07:21,  3.80s/it]"
     ]
    },
    {
     "name": "stdout",
     "output_type": "stream",
     "text": [
      "File: PMC64779.tar.gz size: 2072721 bytes\n"
     ]
    },
    {
     "name": "stderr",
     "output_type": "stream",
     "text": [
      " 88%|████████▊ | 885/1000 [46:42<07:24,  3.86s/it]"
     ]
    },
    {
     "name": "stdout",
     "output_type": "stream",
     "text": [
      "File: PMC64780.tar.gz size: 172104 bytes\n"
     ]
    },
    {
     "name": "stderr",
     "output_type": "stream",
     "text": [
      " 89%|████████▊ | 886/1000 [46:45<06:46,  3.56s/it]"
     ]
    },
    {
     "name": "stdout",
     "output_type": "stream",
     "text": [
      "File: PMC64781.tar.gz size: 1013446 bytes\n"
     ]
    },
    {
     "name": "stderr",
     "output_type": "stream",
     "text": [
      " 89%|████████▊ | 887/1000 [46:48<06:46,  3.59s/it]"
     ]
    },
    {
     "name": "stdout",
     "output_type": "stream",
     "text": [
      "File: PMC64782.tar.gz size: 178811 bytes\n"
     ]
    },
    {
     "name": "stderr",
     "output_type": "stream",
     "text": [
      " 89%|████████▉ | 888/1000 [46:51<06:22,  3.41s/it]"
     ]
    },
    {
     "name": "stdout",
     "output_type": "stream",
     "text": [
      "File: PMC64783.tar.gz size: 436956 bytes\n"
     ]
    },
    {
     "name": "stderr",
     "output_type": "stream",
     "text": [
      " 89%|████████▉ | 889/1000 [46:55<06:16,  3.39s/it]"
     ]
    },
    {
     "name": "stdout",
     "output_type": "stream",
     "text": [
      "File: PMC64784.tar.gz size: 1832275 bytes\n"
     ]
    },
    {
     "name": "stderr",
     "output_type": "stream",
     "text": [
      " 89%|████████▉ | 890/1000 [46:59<06:25,  3.51s/it]"
     ]
    },
    {
     "name": "stdout",
     "output_type": "stream",
     "text": [
      "File: PMC64785.tar.gz size: 674714 bytes\n"
     ]
    },
    {
     "name": "stderr",
     "output_type": "stream",
     "text": [
      " 89%|████████▉ | 891/1000 [47:02<06:21,  3.50s/it]"
     ]
    },
    {
     "name": "stdout",
     "output_type": "stream",
     "text": [
      "File: PMC64786.tar.gz size: 427752 bytes\n"
     ]
    },
    {
     "name": "stderr",
     "output_type": "stream",
     "text": [
      " 89%|████████▉ | 892/1000 [47:05<06:11,  3.44s/it]"
     ]
    },
    {
     "name": "stdout",
     "output_type": "stream",
     "text": [
      "File: PMC64787.tar.gz size: 230101 bytes\n"
     ]
    },
    {
     "name": "stderr",
     "output_type": "stream",
     "text": [
      " 89%|████████▉ | 893/1000 [47:09<06:04,  3.41s/it]"
     ]
    },
    {
     "name": "stdout",
     "output_type": "stream",
     "text": [
      "File: PMC64798.tar.gz size: 773568 bytes\n"
     ]
    },
    {
     "name": "stderr",
     "output_type": "stream",
     "text": [
      " 89%|████████▉ | 894/1000 [47:12<06:07,  3.46s/it]"
     ]
    },
    {
     "name": "stdout",
     "output_type": "stream",
     "text": [
      "File: PMC64799.tar.gz size: 1227310 bytes\n"
     ]
    },
    {
     "name": "stderr",
     "output_type": "stream",
     "text": [
      " 90%|████████▉ | 895/1000 [47:17<06:28,  3.70s/it]"
     ]
    },
    {
     "name": "stdout",
     "output_type": "stream",
     "text": [
      "File: PMC64800.tar.gz size: 90661 bytes\n"
     ]
    },
    {
     "name": "stderr",
     "output_type": "stream",
     "text": [
      " 90%|████████▉ | 896/1000 [47:19<05:46,  3.33s/it]"
     ]
    },
    {
     "name": "stdout",
     "output_type": "stream",
     "text": [
      "File: PMC64801.tar.gz size: 145668 bytes\n"
     ]
    },
    {
     "name": "stderr",
     "output_type": "stream",
     "text": [
      " 90%|████████▉ | 897/1000 [47:22<05:31,  3.21s/it]"
     ]
    },
    {
     "name": "stdout",
     "output_type": "stream",
     "text": [
      "File: PMC64802.tar.gz size: 583842 bytes\n"
     ]
    },
    {
     "name": "stderr",
     "output_type": "stream",
     "text": [
      " 90%|████████▉ | 898/1000 [47:25<05:29,  3.23s/it]"
     ]
    },
    {
     "name": "stdout",
     "output_type": "stream",
     "text": [
      "File: PMC64803.tar.gz size: 992304 bytes\n"
     ]
    },
    {
     "name": "stderr",
     "output_type": "stream",
     "text": [
      " 90%|████████▉ | 899/1000 [47:29<05:52,  3.49s/it]"
     ]
    },
    {
     "name": "stdout",
     "output_type": "stream",
     "text": [
      "File: PMC64804.tar.gz size: 372671 bytes\n"
     ]
    },
    {
     "name": "stderr",
     "output_type": "stream",
     "text": [
      " 90%|█████████ | 900/1000 [47:33<05:40,  3.41s/it]"
     ]
    },
    {
     "name": "stdout",
     "output_type": "stream",
     "text": [
      "File: PMC64805.tar.gz size: 59992 bytes\n"
     ]
    },
    {
     "name": "stderr",
     "output_type": "stream",
     "text": [
      " 90%|█████████ | 901/1000 [47:35<05:11,  3.15s/it]"
     ]
    },
    {
     "name": "stdout",
     "output_type": "stream",
     "text": [
      "File: PMC64806.tar.gz size: 1499855 bytes\n"
     ]
    },
    {
     "name": "stderr",
     "output_type": "stream",
     "text": [
      " 90%|█████████ | 902/1000 [47:39<05:32,  3.40s/it]"
     ]
    },
    {
     "name": "stdout",
     "output_type": "stream",
     "text": [
      "File: PMC64807.tar.gz size: 47768 bytes\n"
     ]
    },
    {
     "name": "stderr",
     "output_type": "stream",
     "text": [
      " 90%|█████████ | 903/1000 [47:42<05:05,  3.15s/it]"
     ]
    },
    {
     "name": "stdout",
     "output_type": "stream",
     "text": [
      "File: PMC64808.tar.gz size: 76700 bytes\n"
     ]
    },
    {
     "name": "stderr",
     "output_type": "stream",
     "text": [
      " 90%|█████████ | 904/1000 [47:44<04:52,  3.04s/it]"
     ]
    },
    {
     "name": "stdout",
     "output_type": "stream",
     "text": [
      "File: PMC64809.tar.gz size: 764445 bytes\n"
     ]
    },
    {
     "name": "stderr",
     "output_type": "stream",
     "text": [
      " 90%|█████████ | 905/1000 [47:48<05:04,  3.20s/it]"
     ]
    },
    {
     "name": "stdout",
     "output_type": "stream",
     "text": [
      "File: PMC64810.tar.gz size: 39317 bytes\n"
     ]
    },
    {
     "name": "stderr",
     "output_type": "stream",
     "text": [
      " 91%|█████████ | 906/1000 [47:50<04:37,  2.95s/it]"
     ]
    },
    {
     "name": "stdout",
     "output_type": "stream",
     "text": [
      "File: PMC64811.tar.gz size: 1552899 bytes\n"
     ]
    },
    {
     "name": "stderr",
     "output_type": "stream",
     "text": [
      " 91%|█████████ | 907/1000 [47:54<04:56,  3.19s/it]"
     ]
    },
    {
     "name": "stdout",
     "output_type": "stream",
     "text": [
      "File: PMC64812.tar.gz size: 160623 bytes\n"
     ]
    },
    {
     "name": "stderr",
     "output_type": "stream",
     "text": [
      " 91%|█████████ | 908/1000 [47:57<04:42,  3.07s/it]"
     ]
    },
    {
     "name": "stdout",
     "output_type": "stream",
     "text": [
      "File: PMC64813.tar.gz size: 265534 bytes\n"
     ]
    },
    {
     "name": "stderr",
     "output_type": "stream",
     "text": [
      " 91%|█████████ | 909/1000 [48:00<04:40,  3.08s/it]"
     ]
    },
    {
     "name": "stdout",
     "output_type": "stream",
     "text": [
      "File: PMC64814.tar.gz size: 1040654 bytes\n"
     ]
    },
    {
     "name": "stderr",
     "output_type": "stream",
     "text": [
      " 91%|█████████ | 910/1000 [48:04<04:50,  3.23s/it]"
     ]
    },
    {
     "name": "stdout",
     "output_type": "stream",
     "text": [
      "File: PMC64815.tar.gz size: 361828 bytes\n"
     ]
    },
    {
     "name": "stderr",
     "output_type": "stream",
     "text": [
      " 91%|█████████ | 911/1000 [48:08<05:24,  3.65s/it]"
     ]
    },
    {
     "name": "stdout",
     "output_type": "stream",
     "text": [
      "File: PMC64816.tar.gz size: 88046 bytes\n"
     ]
    },
    {
     "name": "stderr",
     "output_type": "stream",
     "text": [
      " 91%|█████████ | 912/1000 [48:11<04:52,  3.32s/it]"
     ]
    },
    {
     "name": "stdout",
     "output_type": "stream",
     "text": [
      "File: PMC64817.tar.gz size: 78178 bytes\n"
     ]
    },
    {
     "name": "stderr",
     "output_type": "stream",
     "text": [
      " 91%|█████████▏| 913/1000 [48:13<04:29,  3.10s/it]"
     ]
    },
    {
     "name": "stdout",
     "output_type": "stream",
     "text": [
      "File: PMC64818.tar.gz size: 504369 bytes\n"
     ]
    },
    {
     "name": "stderr",
     "output_type": "stream",
     "text": [
      " 91%|█████████▏| 914/1000 [48:17<04:31,  3.16s/it]"
     ]
    },
    {
     "name": "stdout",
     "output_type": "stream",
     "text": [
      "File: PMC64819.tar.gz size: 47511 bytes\n"
     ]
    },
    {
     "name": "stderr",
     "output_type": "stream",
     "text": [
      " 92%|█████████▏| 915/1000 [48:19<04:13,  2.98s/it]"
     ]
    },
    {
     "name": "stdout",
     "output_type": "stream",
     "text": [
      "File: PMC64820.tar.gz size: 56052 bytes\n"
     ]
    },
    {
     "name": "stderr",
     "output_type": "stream",
     "text": [
      " 92%|█████████▏| 916/1000 [48:22<03:57,  2.83s/it]"
     ]
    },
    {
     "name": "stdout",
     "output_type": "stream",
     "text": [
      "File: PMC64821.tar.gz size: 41315 bytes\n"
     ]
    },
    {
     "name": "stderr",
     "output_type": "stream",
     "text": [
      " 92%|█████████▏| 917/1000 [48:24<03:41,  2.67s/it]"
     ]
    },
    {
     "name": "stdout",
     "output_type": "stream",
     "text": [
      "File: PMC64822.tar.gz size: 33553 bytes\n"
     ]
    },
    {
     "name": "stderr",
     "output_type": "stream",
     "text": [
      " 92%|█████████▏| 918/1000 [48:26<03:30,  2.57s/it]"
     ]
    },
    {
     "name": "stdout",
     "output_type": "stream",
     "text": [
      "File: PMC64823.tar.gz size: 40923 bytes\n"
     ]
    },
    {
     "name": "stderr",
     "output_type": "stream",
     "text": [
      " 92%|█████████▏| 919/1000 [48:29<03:25,  2.54s/it]"
     ]
    },
    {
     "name": "stdout",
     "output_type": "stream",
     "text": [
      "File: PMC64824.tar.gz size: 36900 bytes\n"
     ]
    },
    {
     "name": "stderr",
     "output_type": "stream",
     "text": [
      " 92%|█████████▏| 920/1000 [48:34<04:24,  3.31s/it]"
     ]
    },
    {
     "name": "stdout",
     "output_type": "stream",
     "text": [
      "File: PMC64825.tar.gz size: 40021 bytes\n"
     ]
    },
    {
     "name": "stderr",
     "output_type": "stream",
     "text": [
      " 92%|█████████▏| 921/1000 [48:36<03:58,  3.02s/it]"
     ]
    },
    {
     "name": "stdout",
     "output_type": "stream",
     "text": [
      "File: PMC64826.tar.gz size: 39386 bytes\n"
     ]
    },
    {
     "name": "stderr",
     "output_type": "stream",
     "text": [
      " 92%|█████████▏| 922/1000 [48:39<03:39,  2.81s/it]"
     ]
    },
    {
     "name": "stdout",
     "output_type": "stream",
     "text": [
      "File: PMC64827.tar.gz size: 34037 bytes\n"
     ]
    },
    {
     "name": "stderr",
     "output_type": "stream",
     "text": [
      " 92%|█████████▏| 923/1000 [48:41<03:25,  2.67s/it]"
     ]
    },
    {
     "name": "stdout",
     "output_type": "stream",
     "text": [
      "File: PMC64828.tar.gz size: 39948 bytes\n"
     ]
    },
    {
     "name": "stderr",
     "output_type": "stream",
     "text": [
      " 92%|█████████▏| 924/1000 [48:43<03:16,  2.58s/it]"
     ]
    },
    {
     "name": "stdout",
     "output_type": "stream",
     "text": [
      "File: PMC64829.tar.gz size: 674697 bytes\n"
     ]
    },
    {
     "name": "stderr",
     "output_type": "stream",
     "text": [
      " 92%|█████████▎| 925/1000 [48:47<03:40,  2.94s/it]"
     ]
    },
    {
     "name": "stdout",
     "output_type": "stream",
     "text": [
      "File: PMC64830.tar.gz size: 1611870 bytes\n"
     ]
    },
    {
     "name": "stderr",
     "output_type": "stream",
     "text": [
      " 93%|█████████▎| 926/1000 [48:51<03:59,  3.24s/it]"
     ]
    },
    {
     "name": "stdout",
     "output_type": "stream",
     "text": [
      "File: PMC64831.tar.gz size: 545671 bytes\n"
     ]
    },
    {
     "name": "stderr",
     "output_type": "stream",
     "text": [
      " 93%|█████████▎| 927/1000 [48:54<04:00,  3.30s/it]"
     ]
    },
    {
     "name": "stdout",
     "output_type": "stream",
     "text": [
      "File: PMC64832.tar.gz size: 223513 bytes\n"
     ]
    },
    {
     "name": "stderr",
     "output_type": "stream",
     "text": [
      " 93%|█████████▎| 928/1000 [48:58<03:52,  3.23s/it]"
     ]
    },
    {
     "name": "stdout",
     "output_type": "stream",
     "text": [
      "File: PMC64833.tar.gz size: 708187 bytes\n"
     ]
    },
    {
     "name": "stderr",
     "output_type": "stream",
     "text": [
      " 93%|█████████▎| 929/1000 [49:01<03:58,  3.36s/it]"
     ]
    },
    {
     "name": "stdout",
     "output_type": "stream",
     "text": [
      "File: PMC64834.tar.gz size: 44992 bytes\n"
     ]
    },
    {
     "name": "stderr",
     "output_type": "stream",
     "text": [
      " 93%|█████████▎| 930/1000 [49:04<03:42,  3.18s/it]"
     ]
    },
    {
     "name": "stdout",
     "output_type": "stream",
     "text": [
      "File: PMC64835.tar.gz size: 2401852 bytes\n"
     ]
    },
    {
     "name": "stderr",
     "output_type": "stream",
     "text": [
      " 93%|█████████▎| 931/1000 [49:08<03:51,  3.35s/it]"
     ]
    },
    {
     "name": "stdout",
     "output_type": "stream",
     "text": [
      "File: PMC64836.tar.gz size: 2353665 bytes\n"
     ]
    },
    {
     "name": "stderr",
     "output_type": "stream",
     "text": [
      " 93%|█████████▎| 932/1000 [49:12<03:56,  3.48s/it]"
     ]
    },
    {
     "name": "stdout",
     "output_type": "stream",
     "text": [
      "File: PMC64837.tar.gz size: 342984 bytes\n"
     ]
    },
    {
     "name": "stderr",
     "output_type": "stream",
     "text": [
      " 93%|█████████▎| 933/1000 [49:15<03:51,  3.46s/it]"
     ]
    },
    {
     "name": "stdout",
     "output_type": "stream",
     "text": [
      "File: PMC64838.tar.gz size: 737816 bytes\n"
     ]
    },
    {
     "name": "stderr",
     "output_type": "stream",
     "text": [
      " 93%|█████████▎| 934/1000 [49:19<03:55,  3.57s/it]"
     ]
    },
    {
     "name": "stdout",
     "output_type": "stream",
     "text": [
      "File: PMC64839.tar.gz size: 635863 bytes\n"
     ]
    },
    {
     "name": "stderr",
     "output_type": "stream",
     "text": [
      " 94%|█████████▎| 935/1000 [49:22<03:51,  3.56s/it]"
     ]
    },
    {
     "name": "stdout",
     "output_type": "stream",
     "text": [
      "File: PMC64840.tar.gz size: 6287976 bytes\n"
     ]
    },
    {
     "name": "stderr",
     "output_type": "stream",
     "text": [
      " 94%|█████████▎| 936/1000 [49:28<04:20,  4.08s/it]"
     ]
    },
    {
     "name": "stdout",
     "output_type": "stream",
     "text": [
      "File: PMC64841.tar.gz size: 3288648 bytes\n"
     ]
    },
    {
     "name": "stderr",
     "output_type": "stream",
     "text": [
      " 94%|█████████▎| 937/1000 [49:32<04:18,  4.10s/it]"
     ]
    },
    {
     "name": "stdout",
     "output_type": "stream",
     "text": [
      "File: PMC64842.tar.gz size: 871809 bytes\n"
     ]
    },
    {
     "name": "stderr",
     "output_type": "stream",
     "text": [
      " 94%|█████████▍| 938/1000 [49:35<04:03,  3.92s/it]"
     ]
    },
    {
     "name": "stdout",
     "output_type": "stream",
     "text": [
      "File: PMC64843.tar.gz size: 4466025 bytes\n"
     ]
    },
    {
     "name": "stderr",
     "output_type": "stream",
     "text": [
      " 94%|█████████▍| 939/1000 [49:40<04:14,  4.16s/it]"
     ]
    },
    {
     "name": "stdout",
     "output_type": "stream",
     "text": [
      "File: PMC64844.tar.gz size: 1053210 bytes\n"
     ]
    },
    {
     "name": "stderr",
     "output_type": "stream",
     "text": [
      " 94%|█████████▍| 940/1000 [49:44<03:59,  3.99s/it]"
     ]
    },
    {
     "name": "stdout",
     "output_type": "stream",
     "text": [
      "File: PMC64845.tar.gz size: 1583926 bytes\n"
     ]
    },
    {
     "name": "stderr",
     "output_type": "stream",
     "text": [
      " 94%|█████████▍| 941/1000 [49:48<03:56,  4.01s/it]"
     ]
    },
    {
     "name": "stdout",
     "output_type": "stream",
     "text": [
      "File: PMC64846.tar.gz size: 905072 bytes\n"
     ]
    },
    {
     "name": "stderr",
     "output_type": "stream",
     "text": [
      " 94%|█████████▍| 942/1000 [49:51<03:44,  3.88s/it]"
     ]
    },
    {
     "name": "stdout",
     "output_type": "stream",
     "text": [
      "File: PMC64847.tar.gz size: 67059 bytes\n"
     ]
    },
    {
     "name": "stderr",
     "output_type": "stream",
     "text": [
      " 94%|█████████▍| 943/1000 [49:54<03:17,  3.47s/it]"
     ]
    },
    {
     "name": "stdout",
     "output_type": "stream",
     "text": [
      "File: PMC64848.tar.gz size: 388176 bytes\n"
     ]
    },
    {
     "name": "stderr",
     "output_type": "stream",
     "text": [
      " 94%|█████████▍| 944/1000 [49:57<03:12,  3.43s/it]"
     ]
    },
    {
     "name": "stdout",
     "output_type": "stream",
     "text": [
      "File: PMC64849.tar.gz size: 1622772 bytes\n"
     ]
    },
    {
     "name": "stderr",
     "output_type": "stream",
     "text": [
      " 94%|█████████▍| 945/1000 [50:01<03:17,  3.59s/it]"
     ]
    },
    {
     "name": "stdout",
     "output_type": "stream",
     "text": [
      "File: PMC64850.tar.gz size: 240016 bytes\n"
     ]
    },
    {
     "name": "stderr",
     "output_type": "stream",
     "text": [
      " 95%|█████████▍| 946/1000 [50:04<03:05,  3.43s/it]"
     ]
    },
    {
     "name": "stdout",
     "output_type": "stream",
     "text": [
      "File: PMC64851.tar.gz size: 170848 bytes\n"
     ]
    },
    {
     "name": "stderr",
     "output_type": "stream",
     "text": [
      " 95%|█████████▍| 947/1000 [50:07<02:50,  3.23s/it]"
     ]
    },
    {
     "name": "stdout",
     "output_type": "stream",
     "text": [
      "File: PMC64852.tar.gz size: 438826 bytes\n"
     ]
    },
    {
     "name": "stderr",
     "output_type": "stream",
     "text": [
      " 95%|█████████▍| 948/1000 [50:10<02:49,  3.26s/it]"
     ]
    },
    {
     "name": "stdout",
     "output_type": "stream",
     "text": [
      "File: PMC64853.tar.gz size: 2914325 bytes\n"
     ]
    },
    {
     "name": "stderr",
     "output_type": "stream",
     "text": [
      " 95%|█████████▍| 949/1000 [50:14<02:58,  3.50s/it]"
     ]
    },
    {
     "name": "stdout",
     "output_type": "stream",
     "text": [
      "File: PMC64854.tar.gz size: 1183811 bytes\n"
     ]
    },
    {
     "name": "stderr",
     "output_type": "stream",
     "text": [
      " 95%|█████████▌| 950/1000 [50:18<03:06,  3.74s/it]"
     ]
    },
    {
     "name": "stdout",
     "output_type": "stream",
     "text": [
      "File: PMC64855.tar.gz size: 310198 bytes\n"
     ]
    },
    {
     "name": "stderr",
     "output_type": "stream",
     "text": [
      " 95%|█████████▌| 951/1000 [50:22<02:53,  3.53s/it]"
     ]
    },
    {
     "name": "stdout",
     "output_type": "stream",
     "text": [
      "File: PMC65040.tar.gz size: 678739 bytes\n"
     ]
    },
    {
     "name": "stderr",
     "output_type": "stream",
     "text": [
      " 95%|█████████▌| 952/1000 [50:25<02:48,  3.51s/it]"
     ]
    },
    {
     "name": "stdout",
     "output_type": "stream",
     "text": [
      "File: PMC65041.tar.gz size: 244517 bytes\n"
     ]
    },
    {
     "name": "stderr",
     "output_type": "stream",
     "text": [
      " 95%|█████████▌| 953/1000 [50:28<02:41,  3.44s/it]"
     ]
    },
    {
     "name": "stdout",
     "output_type": "stream",
     "text": [
      "File: PMC65042.tar.gz size: 429439 bytes\n"
     ]
    },
    {
     "name": "stderr",
     "output_type": "stream",
     "text": [
      " 95%|█████████▌| 954/1000 [50:32<02:40,  3.49s/it]"
     ]
    },
    {
     "name": "stdout",
     "output_type": "stream",
     "text": [
      "File: PMC65043.tar.gz size: 145693 bytes\n"
     ]
    },
    {
     "name": "stderr",
     "output_type": "stream",
     "text": [
      " 96%|█████████▌| 955/1000 [50:35<02:27,  3.29s/it]"
     ]
    },
    {
     "name": "stdout",
     "output_type": "stream",
     "text": [
      "File: PMC65044.tar.gz size: 457568 bytes\n"
     ]
    },
    {
     "name": "stderr",
     "output_type": "stream",
     "text": [
      " 96%|█████████▌| 956/1000 [50:38<02:26,  3.33s/it]"
     ]
    },
    {
     "name": "stdout",
     "output_type": "stream",
     "text": [
      "File: PMC65045.tar.gz size: 226720 bytes\n"
     ]
    },
    {
     "name": "stderr",
     "output_type": "stream",
     "text": [
      " 96%|█████████▌| 957/1000 [50:41<02:19,  3.25s/it]"
     ]
    },
    {
     "name": "stdout",
     "output_type": "stream",
     "text": [
      "File: PMC65046.tar.gz size: 948376 bytes\n"
     ]
    },
    {
     "name": "stderr",
     "output_type": "stream",
     "text": [
      " 96%|█████████▌| 958/1000 [50:45<02:21,  3.36s/it]"
     ]
    },
    {
     "name": "stdout",
     "output_type": "stream",
     "text": [
      "File: PMC65047.tar.gz size: 138722 bytes\n"
     ]
    },
    {
     "name": "stderr",
     "output_type": "stream",
     "text": [
      " 96%|█████████▌| 959/1000 [50:48<02:20,  3.42s/it]"
     ]
    },
    {
     "name": "stdout",
     "output_type": "stream",
     "text": [
      "File: PMC65048.tar.gz size: 1145313 bytes\n"
     ]
    },
    {
     "name": "stderr",
     "output_type": "stream",
     "text": [
      " 96%|█████████▌| 960/1000 [50:52<02:20,  3.51s/it]"
     ]
    },
    {
     "name": "stdout",
     "output_type": "stream",
     "text": [
      "File: PMC65049.tar.gz size: 807860 bytes\n"
     ]
    },
    {
     "name": "stderr",
     "output_type": "stream",
     "text": [
      " 96%|█████████▌| 961/1000 [50:55<02:16,  3.49s/it]"
     ]
    },
    {
     "name": "stdout",
     "output_type": "stream",
     "text": [
      "File: PMC65051.tar.gz size: 780474 bytes\n"
     ]
    },
    {
     "name": "stderr",
     "output_type": "stream",
     "text": [
      " 96%|█████████▌| 962/1000 [50:59<02:13,  3.52s/it]"
     ]
    },
    {
     "name": "stdout",
     "output_type": "stream",
     "text": [
      "File: PMC65052.tar.gz size: 186131 bytes\n"
     ]
    },
    {
     "name": "stderr",
     "output_type": "stream",
     "text": [
      " 96%|█████████▋| 963/1000 [51:02<02:03,  3.33s/it]"
     ]
    },
    {
     "name": "stdout",
     "output_type": "stream",
     "text": [
      "File: PMC65053.tar.gz size: 20335427 bytes\n"
     ]
    },
    {
     "name": "stderr",
     "output_type": "stream",
     "text": [
      " 96%|█████████▋| 964/1000 [51:11<03:02,  5.07s/it]"
     ]
    },
    {
     "name": "stdout",
     "output_type": "stream",
     "text": [
      "File: PMC65099.tar.gz size: 456132 bytes\n"
     ]
    },
    {
     "name": "stderr",
     "output_type": "stream",
     "text": [
      " 96%|█████████▋| 965/1000 [51:14<02:38,  4.54s/it]"
     ]
    },
    {
     "name": "stdout",
     "output_type": "stream",
     "text": [
      "File: PMC65507.tar.gz size: 193791 bytes\n"
     ]
    },
    {
     "name": "stderr",
     "output_type": "stream",
     "text": [
      " 97%|█████████▋| 966/1000 [51:17<02:16,  4.02s/it]"
     ]
    },
    {
     "name": "stdout",
     "output_type": "stream",
     "text": [
      "File: PMC65508.tar.gz size: 2677732 bytes\n"
     ]
    },
    {
     "name": "stderr",
     "output_type": "stream",
     "text": [
      " 97%|█████████▋| 967/1000 [51:22<02:17,  4.16s/it]"
     ]
    },
    {
     "name": "stdout",
     "output_type": "stream",
     "text": [
      "File: PMC65509.tar.gz size: 523690 bytes\n"
     ]
    },
    {
     "name": "stderr",
     "output_type": "stream",
     "text": [
      " 97%|█████████▋| 968/1000 [51:25<02:05,  3.93s/it]"
     ]
    },
    {
     "name": "stdout",
     "output_type": "stream",
     "text": [
      "File: PMC65510.tar.gz size: 407512 bytes\n"
     ]
    },
    {
     "name": "stderr",
     "output_type": "stream",
     "text": [
      " 97%|█████████▋| 969/1000 [51:28<01:56,  3.74s/it]"
     ]
    },
    {
     "name": "stdout",
     "output_type": "stream",
     "text": [
      "File: PMC65511.tar.gz size: 840420 bytes\n"
     ]
    },
    {
     "name": "stderr",
     "output_type": "stream",
     "text": [
      " 97%|█████████▋| 970/1000 [51:32<01:55,  3.84s/it]"
     ]
    },
    {
     "name": "stdout",
     "output_type": "stream",
     "text": [
      "File: PMC65512.tar.gz size: 4923181 bytes\n"
     ]
    },
    {
     "name": "stderr",
     "output_type": "stream",
     "text": [
      " 97%|█████████▋| 971/1000 [51:37<01:57,  4.07s/it]"
     ]
    },
    {
     "name": "stdout",
     "output_type": "stream",
     "text": [
      "File: PMC65513.tar.gz size: 239216 bytes\n"
     ]
    },
    {
     "name": "stderr",
     "output_type": "stream",
     "text": [
      " 97%|█████████▋| 972/1000 [51:40<01:46,  3.81s/it]"
     ]
    },
    {
     "name": "stdout",
     "output_type": "stream",
     "text": [
      "File: PMC65514.tar.gz size: 180489 bytes\n"
     ]
    },
    {
     "name": "stderr",
     "output_type": "stream",
     "text": [
      " 97%|█████████▋| 973/1000 [51:43<01:36,  3.58s/it]"
     ]
    },
    {
     "name": "stdout",
     "output_type": "stream",
     "text": [
      "File: PMC65515.tar.gz size: 255418 bytes\n"
     ]
    },
    {
     "name": "stderr",
     "output_type": "stream",
     "text": [
      " 97%|█████████▋| 974/1000 [51:46<01:29,  3.43s/it]"
     ]
    },
    {
     "name": "stdout",
     "output_type": "stream",
     "text": [
      "File: PMC65516.tar.gz size: 248577 bytes\n"
     ]
    },
    {
     "name": "stderr",
     "output_type": "stream",
     "text": [
      " 98%|█████████▊| 975/1000 [51:50<01:25,  3.43s/it]"
     ]
    },
    {
     "name": "stdout",
     "output_type": "stream",
     "text": [
      "File: PMC65517.tar.gz size: 478431 bytes\n"
     ]
    },
    {
     "name": "stderr",
     "output_type": "stream",
     "text": [
      " 98%|█████████▊| 976/1000 [51:53<01:23,  3.47s/it]"
     ]
    },
    {
     "name": "stdout",
     "output_type": "stream",
     "text": [
      "File: PMC65518.tar.gz size: 194926 bytes\n"
     ]
    },
    {
     "name": "stderr",
     "output_type": "stream",
     "text": [
      " 98%|█████████▊| 977/1000 [51:56<01:16,  3.31s/it]"
     ]
    },
    {
     "name": "stdout",
     "output_type": "stream",
     "text": [
      "File: PMC65519.tar.gz size: 383169 bytes\n"
     ]
    },
    {
     "name": "stderr",
     "output_type": "stream",
     "text": [
      " 98%|█████████▊| 978/1000 [52:00<01:12,  3.29s/it]"
     ]
    },
    {
     "name": "stdout",
     "output_type": "stream",
     "text": [
      "File: PMC65520.tar.gz size: 257629 bytes\n"
     ]
    },
    {
     "name": "stderr",
     "output_type": "stream",
     "text": [
      " 98%|█████████▊| 979/1000 [52:03<01:07,  3.22s/it]"
     ]
    },
    {
     "name": "stdout",
     "output_type": "stream",
     "text": [
      "File: PMC65521.tar.gz size: 2633767 bytes\n"
     ]
    },
    {
     "name": "stderr",
     "output_type": "stream",
     "text": [
      " 98%|█████████▊| 980/1000 [52:07<01:09,  3.46s/it]"
     ]
    },
    {
     "name": "stdout",
     "output_type": "stream",
     "text": [
      "File: PMC65522.tar.gz size: 283199 bytes\n"
     ]
    },
    {
     "name": "stderr",
     "output_type": "stream",
     "text": [
      " 98%|█████████▊| 981/1000 [52:10<01:04,  3.37s/it]"
     ]
    },
    {
     "name": "stdout",
     "output_type": "stream",
     "text": [
      "File: PMC65523.tar.gz size: 315482 bytes\n"
     ]
    },
    {
     "name": "stderr",
     "output_type": "stream",
     "text": [
      " 98%|█████████▊| 982/1000 [52:13<00:59,  3.30s/it]"
     ]
    },
    {
     "name": "stdout",
     "output_type": "stream",
     "text": [
      "File: PMC65524.tar.gz size: 292897 bytes\n"
     ]
    },
    {
     "name": "stderr",
     "output_type": "stream",
     "text": [
      " 98%|█████████▊| 983/1000 [52:16<00:55,  3.25s/it]"
     ]
    },
    {
     "name": "stdout",
     "output_type": "stream",
     "text": [
      "File: PMC65525.tar.gz size: 266571 bytes\n"
     ]
    },
    {
     "name": "stderr",
     "output_type": "stream",
     "text": [
      " 98%|█████████▊| 984/1000 [52:19<00:51,  3.22s/it]"
     ]
    },
    {
     "name": "stdout",
     "output_type": "stream",
     "text": [
      "File: PMC65526.tar.gz size: 208162 bytes\n"
     ]
    },
    {
     "name": "stderr",
     "output_type": "stream",
     "text": [
      " 98%|█████████▊| 985/1000 [52:22<00:46,  3.08s/it]"
     ]
    },
    {
     "name": "stdout",
     "output_type": "stream",
     "text": [
      "File: PMC65527.tar.gz size: 240890 bytes\n"
     ]
    },
    {
     "name": "stderr",
     "output_type": "stream",
     "text": [
      " 99%|█████████▊| 986/1000 [52:25<00:43,  3.09s/it]"
     ]
    },
    {
     "name": "stdout",
     "output_type": "stream",
     "text": [
      "File: PMC65528.tar.gz size: 305657 bytes\n"
     ]
    },
    {
     "name": "stderr",
     "output_type": "stream",
     "text": [
      " 99%|█████████▊| 987/1000 [52:28<00:39,  3.07s/it]"
     ]
    },
    {
     "name": "stdout",
     "output_type": "stream",
     "text": [
      "File: PMC65529.tar.gz size: 282121 bytes\n"
     ]
    },
    {
     "name": "stderr",
     "output_type": "stream",
     "text": [
      " 99%|█████████▉| 988/1000 [52:31<00:36,  3.04s/it]"
     ]
    },
    {
     "name": "stdout",
     "output_type": "stream",
     "text": [
      "File: PMC65540.tar.gz size: 171518 bytes\n"
     ]
    },
    {
     "name": "stderr",
     "output_type": "stream",
     "text": [
      " 99%|█████████▉| 989/1000 [52:34<00:32,  2.98s/it]"
     ]
    },
    {
     "name": "stdout",
     "output_type": "stream",
     "text": [
      "File: PMC65541.tar.gz size: 1223229 bytes\n"
     ]
    },
    {
     "name": "stderr",
     "output_type": "stream",
     "text": [
      " 99%|█████████▉| 990/1000 [52:37<00:31,  3.17s/it]"
     ]
    },
    {
     "name": "stdout",
     "output_type": "stream",
     "text": [
      "File: PMC65542.tar.gz size: 166479 bytes\n"
     ]
    },
    {
     "name": "stderr",
     "output_type": "stream",
     "text": [
      " 99%|█████████▉| 991/1000 [52:41<00:28,  3.15s/it]"
     ]
    },
    {
     "name": "stdout",
     "output_type": "stream",
     "text": [
      "File: PMC65543.tar.gz size: 255404 bytes\n"
     ]
    },
    {
     "name": "stderr",
     "output_type": "stream",
     "text": [
      " 99%|█████████▉| 992/1000 [52:44<00:26,  3.31s/it]"
     ]
    },
    {
     "name": "stdout",
     "output_type": "stream",
     "text": [
      "File: PMC65544.tar.gz size: 1227163 bytes\n"
     ]
    },
    {
     "name": "stderr",
     "output_type": "stream",
     "text": [
      " 99%|█████████▉| 993/1000 [52:51<00:29,  4.25s/it]"
     ]
    },
    {
     "name": "stdout",
     "output_type": "stream",
     "text": [
      "File: PMC65545.tar.gz size: 661412 bytes\n"
     ]
    },
    {
     "name": "stderr",
     "output_type": "stream",
     "text": [
      " 99%|█████████▉| 994/1000 [52:54<00:23,  3.97s/it]"
     ]
    },
    {
     "name": "stdout",
     "output_type": "stream",
     "text": [
      "File: PMC65546.tar.gz size: 474076 bytes\n"
     ]
    },
    {
     "name": "stderr",
     "output_type": "stream",
     "text": [
      "100%|█████████▉| 995/1000 [52:57<00:18,  3.78s/it]"
     ]
    },
    {
     "name": "stdout",
     "output_type": "stream",
     "text": [
      "File: PMC65547.tar.gz size: 335505 bytes\n"
     ]
    },
    {
     "name": "stderr",
     "output_type": "stream",
     "text": [
      "100%|█████████▉| 996/1000 [53:00<00:14,  3.58s/it]"
     ]
    },
    {
     "name": "stdout",
     "output_type": "stream",
     "text": [
      "File: PMC65548.tar.gz size: 485818 bytes\n"
     ]
    },
    {
     "name": "stderr",
     "output_type": "stream",
     "text": [
      "100%|█████████▉| 997/1000 [53:04<00:10,  3.49s/it]"
     ]
    },
    {
     "name": "stdout",
     "output_type": "stream",
     "text": [
      "File: PMC65549.tar.gz size: 582019 bytes\n"
     ]
    },
    {
     "name": "stderr",
     "output_type": "stream",
     "text": [
      "100%|█████████▉| 998/1000 [53:07<00:06,  3.45s/it]"
     ]
    },
    {
     "name": "stdout",
     "output_type": "stream",
     "text": [
      "File: PMC65550.tar.gz size: 258814 bytes\n"
     ]
    },
    {
     "name": "stderr",
     "output_type": "stream",
     "text": [
      "100%|█████████▉| 999/1000 [53:10<00:03,  3.33s/it]"
     ]
    },
    {
     "name": "stdout",
     "output_type": "stream",
     "text": [
      "File: PMC65598.tar.gz size: 244152 bytes\n"
     ]
    },
    {
     "name": "stderr",
     "output_type": "stream",
     "text": [
      "100%|██████████| 1000/1000 [53:13<00:00,  3.19s/it]\n"
     ]
    },
    {
     "name": "stdout",
     "output_type": "stream",
     "text": [
      "Skipped 0 files.\n"
     ]
    }
   ],
   "source": [
    "# remove the subset_size argument to download all files\n",
    "downloaded_articles_output_path = repo_root / \"_results\" / \"data\" / \"pubmed_open_access_files_compressed\"\n",
    "\n",
    "data.download_pubmed_files_from_list(\n",
    "    file_list_path=list_output_path,\n",
    "    output_folder_path=downloaded_articles_output_path,\n",
    "    subset_size=MAX_ITEMS_TO_PROCESS,\n",
    ")"
   ]
  },
  {
   "cell_type": "code",
   "execution_count": 7,
   "metadata": {},
   "outputs": [
    {
     "name": "stdout",
     "output_type": "stream",
     "text": [
      "Found 1000 files that match *.tar.gz in a:\\Vishal\\BiomedCLIP_data_pipeline\\_results\\data\\pubmed_open_access_files_compressed\n"
     ]
    },
    {
     "name": "stderr",
     "output_type": "stream",
     "text": [
      "100%|██████████| 1000/1000 [00:25<00:00, 39.01it/s]"
     ]
    },
    {
     "name": "stdout",
     "output_type": "stream",
     "text": [
      "Finished extracting 1000 files\n"
     ]
    },
    {
     "name": "stderr",
     "output_type": "stream",
     "text": [
      "\n"
     ]
    }
   ],
   "source": [
    "decompressed_folder_path = repo_root / \"_results\" / \"data\" / \"pubmed_open_access_files\"\n",
    "\n",
    "data.decompress_pubmed_files(\n",
    "    input_folder_path=downloaded_articles_output_path,\n",
    "    output_folder_path=decompressed_folder_path,\n",
    ")"
   ]
  },
  {
   "cell_type": "code",
   "execution_count": 8,
   "metadata": {},
   "outputs": [
    {
     "name": "stdout",
     "output_type": "stream",
     "text": [
      "a:\\Vishal\\BiomedCLIP_data_pipeline\\_results\\data\\pubmed_open_access_files\\PMC13900\\BCR-3-1-055.nxml\n",
      "starting...\n",
      "parsed a:\\Vishal\\BiomedCLIP_data_pipeline\\_results\\data\\pubmed_open_access_files\\PMC13900\\BCR-3-1-055.nxml\n",
      "no output\n",
      "a:\\Vishal\\BiomedCLIP_data_pipeline\\_results\\data\\pubmed_open_access_files\\PMC13901\\BCR-3-1-061.nxml\n",
      "starting...\n",
      "parsed a:\\Vishal\\BiomedCLIP_data_pipeline\\_results\\data\\pubmed_open_access_files\\PMC13901\\BCR-3-1-061.nxml\n",
      "a:\\Vishal\\BiomedCLIP_data_pipeline\\_results\\data\\pubmed_open_access_files\\PMC13902\\BCR-3-1-066.nxml\n",
      "starting...\n",
      "parsed a:\\Vishal\\BiomedCLIP_data_pipeline\\_results\\data\\pubmed_open_access_files\\PMC13902\\BCR-3-1-066.nxml\n",
      "a:\\Vishal\\BiomedCLIP_data_pipeline\\_results\\data\\pubmed_open_access_files\\PMC13911\\bcr-2-1-059.nxml\n",
      "starting...\n",
      "parsed a:\\Vishal\\BiomedCLIP_data_pipeline\\_results\\data\\pubmed_open_access_files\\PMC13911\\bcr-2-1-059.nxml\n",
      "no output\n",
      "a:\\Vishal\\BiomedCLIP_data_pipeline\\_results\\data\\pubmed_open_access_files\\PMC13912\\bcr-2-1-064.nxml\n",
      "starting...\n",
      "parsed a:\\Vishal\\BiomedCLIP_data_pipeline\\_results\\data\\pubmed_open_access_files\\PMC13912\\bcr-2-1-064.nxml\n",
      "a:\\Vishal\\BiomedCLIP_data_pipeline\\_results\\data\\pubmed_open_access_files\\PMC13913\\bcr-1-1-073.nxml\n",
      "starting...\n",
      "parsed a:\\Vishal\\BiomedCLIP_data_pipeline\\_results\\data\\pubmed_open_access_files\\PMC13913\\bcr-1-1-073.nxml\n",
      "a:\\Vishal\\BiomedCLIP_data_pipeline\\_results\\data\\pubmed_open_access_files\\PMC13914\\bcr-1-1-081.nxml\n",
      "starting...\n",
      "parsed a:\\Vishal\\BiomedCLIP_data_pipeline\\_results\\data\\pubmed_open_access_files\\PMC13914\\bcr-1-1-081.nxml\n",
      "a:\\Vishal\\BiomedCLIP_data_pipeline\\_results\\data\\pubmed_open_access_files\\PMC13915\\bcr-1-1-088.nxml\n",
      "starting...\n",
      "parsed a:\\Vishal\\BiomedCLIP_data_pipeline\\_results\\data\\pubmed_open_access_files\\PMC13915\\bcr-1-1-088.nxml\n",
      "a:\\Vishal\\BiomedCLIP_data_pipeline\\_results\\data\\pubmed_open_access_files\\PMC13916\\bcr-2-2-139.nxml\n",
      "starting...\n",
      "parsed a:\\Vishal\\BiomedCLIP_data_pipeline\\_results\\data\\pubmed_open_access_files\\PMC13916\\bcr-2-2-139.nxml\n",
      "a:\\Vishal\\BiomedCLIP_data_pipeline\\_results\\data\\pubmed_open_access_files\\PMC13917\\bcr-2-3-222.nxml\n",
      "starting...\n",
      "parsed a:\\Vishal\\BiomedCLIP_data_pipeline\\_results\\data\\pubmed_open_access_files\\PMC13917\\bcr-2-3-222.nxml\n",
      "a:\\Vishal\\BiomedCLIP_data_pipeline\\_results\\data\\pubmed_open_access_files\\PMC13918\\bcr-2-4-307.nxml\n",
      "starting...\n",
      "parsed a:\\Vishal\\BiomedCLIP_data_pipeline\\_results\\data\\pubmed_open_access_files\\PMC13918\\bcr-2-4-307.nxml\n",
      "no output\n",
      "a:\\Vishal\\BiomedCLIP_data_pipeline\\_results\\data\\pubmed_open_access_files\\PMC13919\\bcr-2-4-311.nxml\n",
      "starting...\n",
      "parsed a:\\Vishal\\BiomedCLIP_data_pipeline\\_results\\data\\pubmed_open_access_files\\PMC13919\\bcr-2-4-311.nxml\n",
      "a:\\Vishal\\BiomedCLIP_data_pipeline\\_results\\data\\pubmed_open_access_files\\PMC13920\\bcr-2-5-378.nxml\n",
      "starting...\n",
      "parsed a:\\Vishal\\BiomedCLIP_data_pipeline\\_results\\data\\pubmed_open_access_files\\PMC13920\\bcr-2-5-378.nxml\n",
      "no output\n",
      "a:\\Vishal\\BiomedCLIP_data_pipeline\\_results\\data\\pubmed_open_access_files\\PMC13921\\bcr-2-6-438.nxml\n",
      "starting...\n",
      "parsed a:\\Vishal\\BiomedCLIP_data_pipeline\\_results\\data\\pubmed_open_access_files\\PMC13921\\bcr-2-6-438.nxml\n",
      "no output\n",
      "a:\\Vishal\\BiomedCLIP_data_pipeline\\_results\\data\\pubmed_open_access_files\\PMC13922\\bcr-2-6-444.nxml\n",
      "starting...\n",
      "parsed a:\\Vishal\\BiomedCLIP_data_pipeline\\_results\\data\\pubmed_open_access_files\\PMC13922\\bcr-2-6-444.nxml\n",
      "a:\\Vishal\\BiomedCLIP_data_pipeline\\_results\\data\\pubmed_open_access_files\\PMC13923\\BCR-3-2-122.nxml\n",
      "starting...\n",
      "parsed a:\\Vishal\\BiomedCLIP_data_pipeline\\_results\\data\\pubmed_open_access_files\\PMC13923\\BCR-3-2-122.nxml\n",
      "a:\\Vishal\\BiomedCLIP_data_pipeline\\_results\\data\\pubmed_open_access_files\\PMC13924\\BCR-3-2-134.nxml\n",
      "starting...\n",
      "parsed a:\\Vishal\\BiomedCLIP_data_pipeline\\_results\\data\\pubmed_open_access_files\\PMC13924\\BCR-3-2-134.nxml\n",
      "no output\n",
      "a:\\Vishal\\BiomedCLIP_data_pipeline\\_results\\data\\pubmed_open_access_files\\PMC14752\\mk000001.nxml\n",
      "starting...\n",
      "parsed a:\\Vishal\\BiomedCLIP_data_pipeline\\_results\\data\\pubmed_open_access_files\\PMC14752\\mk000001.nxml\n",
      "a:\\Vishal\\BiomedCLIP_data_pipeline\\_results\\data\\pubmed_open_access_files\\PMC15015\\gb-2000-1-2-research0003.nxml\n",
      "starting...\n",
      "parsed a:\\Vishal\\BiomedCLIP_data_pipeline\\_results\\data\\pubmed_open_access_files\\PMC15015\\gb-2000-1-2-research0003.nxml\n",
      "a:\\Vishal\\BiomedCLIP_data_pipeline\\_results\\data\\pubmed_open_access_files\\PMC15016\\gb-2000-1-2-research0004.nxml\n",
      "starting...\n",
      "parsed a:\\Vishal\\BiomedCLIP_data_pipeline\\_results\\data\\pubmed_open_access_files\\PMC15016\\gb-2000-1-2-research0004.nxml\n",
      "a:\\Vishal\\BiomedCLIP_data_pipeline\\_results\\data\\pubmed_open_access_files\\PMC15023\\gb-2000-1-3-research0005.nxml\n",
      "starting...\n",
      "parsed a:\\Vishal\\BiomedCLIP_data_pipeline\\_results\\data\\pubmed_open_access_files\\PMC15023\\gb-2000-1-3-research0005.nxml\n",
      "a:\\Vishal\\BiomedCLIP_data_pipeline\\_results\\data\\pubmed_open_access_files\\PMC15024\\gb-2000-1-3-research0006.nxml\n",
      "starting...\n",
      "parsed a:\\Vishal\\BiomedCLIP_data_pipeline\\_results\\data\\pubmed_open_access_files\\PMC15024\\gb-2000-1-3-research0006.nxml\n",
      "a:\\Vishal\\BiomedCLIP_data_pipeline\\_results\\data\\pubmed_open_access_files\\PMC15025\\gb-2000-1-4-research0007.nxml\n",
      "starting...\n",
      "parsed a:\\Vishal\\BiomedCLIP_data_pipeline\\_results\\data\\pubmed_open_access_files\\PMC15025\\gb-2000-1-4-research0007.nxml\n",
      "a:\\Vishal\\BiomedCLIP_data_pipeline\\_results\\data\\pubmed_open_access_files\\PMC15026\\gb-2000-1-4-research0008.nxml\n",
      "starting...\n",
      "parsed a:\\Vishal\\BiomedCLIP_data_pipeline\\_results\\data\\pubmed_open_access_files\\PMC15026\\gb-2000-1-4-research0008.nxml\n",
      "a:\\Vishal\\BiomedCLIP_data_pipeline\\_results\\data\\pubmed_open_access_files\\PMC15027\\gb-2000-1-5-research0009.nxml\n",
      "starting...\n",
      "parsed a:\\Vishal\\BiomedCLIP_data_pipeline\\_results\\data\\pubmed_open_access_files\\PMC15027\\gb-2000-1-5-research0009.nxml\n",
      "a:\\Vishal\\BiomedCLIP_data_pipeline\\_results\\data\\pubmed_open_access_files\\PMC15028\\gb-2000-1-5-research0010.nxml\n",
      "starting...\n",
      "parsed a:\\Vishal\\BiomedCLIP_data_pipeline\\_results\\data\\pubmed_open_access_files\\PMC15028\\gb-2000-1-5-research0010.nxml\n",
      "a:\\Vishal\\BiomedCLIP_data_pipeline\\_results\\data\\pubmed_open_access_files\\PMC16139\\gb-2000-1-6-research0011.nxml\n",
      "starting...\n",
      "parsed a:\\Vishal\\BiomedCLIP_data_pipeline\\_results\\data\\pubmed_open_access_files\\PMC16139\\gb-2000-1-6-research0011.nxml\n",
      "a:\\Vishal\\BiomedCLIP_data_pipeline\\_results\\data\\pubmed_open_access_files\\PMC16141\\gb-2000-1-6-research0012.nxml\n",
      "starting...\n",
      "parsed a:\\Vishal\\BiomedCLIP_data_pipeline\\_results\\data\\pubmed_open_access_files\\PMC16141\\gb-2000-1-6-research0012.nxml\n",
      "a:\\Vishal\\BiomedCLIP_data_pipeline\\_results\\data\\pubmed_open_access_files\\PMC16144\\gb-2000-1-6-research0013.nxml\n",
      "starting...\n",
      "parsed a:\\Vishal\\BiomedCLIP_data_pipeline\\_results\\data\\pubmed_open_access_files\\PMC16144\\gb-2000-1-6-research0013.nxml\n",
      "a:\\Vishal\\BiomedCLIP_data_pipeline\\_results\\data\\pubmed_open_access_files\\PMC16145\\gb-2000-1-6-research0014.nxml\n",
      "starting...\n",
      "parsed a:\\Vishal\\BiomedCLIP_data_pipeline\\_results\\data\\pubmed_open_access_files\\PMC16145\\gb-2000-1-6-research0014.nxml\n",
      "a:\\Vishal\\BiomedCLIP_data_pipeline\\_results\\data\\pubmed_open_access_files\\PMC17597\\gb-2000-2-1-research0001.nxml\n",
      "starting...\n",
      "parsed a:\\Vishal\\BiomedCLIP_data_pipeline\\_results\\data\\pubmed_open_access_files\\PMC17597\\gb-2000-2-1-research0001.nxml\n",
      "a:\\Vishal\\BiomedCLIP_data_pipeline\\_results\\data\\pubmed_open_access_files\\PMC17598\\gb-2000-2-1-research0002.nxml\n",
      "starting...\n",
      "parsed a:\\Vishal\\BiomedCLIP_data_pipeline\\_results\\data\\pubmed_open_access_files\\PMC17598\\gb-2000-2-1-research0002.nxml\n",
      "a:\\Vishal\\BiomedCLIP_data_pipeline\\_results\\data\\pubmed_open_access_files\\PMC17599\\gb-2001-2-1-research0003.nxml\n",
      "starting...\n",
      "parsed a:\\Vishal\\BiomedCLIP_data_pipeline\\_results\\data\\pubmed_open_access_files\\PMC17599\\gb-2001-2-1-research0003.nxml\n",
      "a:\\Vishal\\BiomedCLIP_data_pipeline\\_results\\data\\pubmed_open_access_files\\PMC17774\\ar-1-1-063.nxml\n",
      "starting...\n",
      "parsed a:\\Vishal\\BiomedCLIP_data_pipeline\\_results\\data\\pubmed_open_access_files\\PMC17774\\ar-1-1-063.nxml\n",
      "a:\\Vishal\\BiomedCLIP_data_pipeline\\_results\\data\\pubmed_open_access_files\\PMC17776\\ar-1-1-071.nxml\n",
      "starting...\n",
      "parsed a:\\Vishal\\BiomedCLIP_data_pipeline\\_results\\data\\pubmed_open_access_files\\PMC17776\\ar-1-1-071.nxml\n",
      "a:\\Vishal\\BiomedCLIP_data_pipeline\\_results\\data\\pubmed_open_access_files\\PMC17779\\ar-1-1-081.nxml\n",
      "starting...\n",
      "parsed a:\\Vishal\\BiomedCLIP_data_pipeline\\_results\\data\\pubmed_open_access_files\\PMC17779\\ar-1-1-081.nxml\n",
      "a:\\Vishal\\BiomedCLIP_data_pipeline\\_results\\data\\pubmed_open_access_files\\PMC17803\\ar-2-1-050.nxml\n",
      "starting...\n",
      "parsed a:\\Vishal\\BiomedCLIP_data_pipeline\\_results\\data\\pubmed_open_access_files\\PMC17803\\ar-2-1-050.nxml\n",
      "a:\\Vishal\\BiomedCLIP_data_pipeline\\_results\\data\\pubmed_open_access_files\\PMC17804\\ar-2-1-059.nxml\n",
      "starting...\n",
      "parsed a:\\Vishal\\BiomedCLIP_data_pipeline\\_results\\data\\pubmed_open_access_files\\PMC17804\\ar-2-1-059.nxml\n",
      "a:\\Vishal\\BiomedCLIP_data_pipeline\\_results\\data\\pubmed_open_access_files\\PMC17805\\ar-2-1-065.nxml\n",
      "starting...\n",
      "parsed a:\\Vishal\\BiomedCLIP_data_pipeline\\_results\\data\\pubmed_open_access_files\\PMC17805\\ar-2-1-065.nxml\n",
      "a:\\Vishal\\BiomedCLIP_data_pipeline\\_results\\data\\pubmed_open_access_files\\PMC17806\\ar-2-1-075.nxml\n",
      "starting...\n",
      "parsed a:\\Vishal\\BiomedCLIP_data_pipeline\\_results\\data\\pubmed_open_access_files\\PMC17806\\ar-2-1-075.nxml\n",
      "a:\\Vishal\\BiomedCLIP_data_pipeline\\_results\\data\\pubmed_open_access_files\\PMC17807\\ar-2-2-142.nxml\n",
      "starting...\n",
      "parsed a:\\Vishal\\BiomedCLIP_data_pipeline\\_results\\data\\pubmed_open_access_files\\PMC17807\\ar-2-2-142.nxml\n",
      "a:\\Vishal\\BiomedCLIP_data_pipeline\\_results\\data\\pubmed_open_access_files\\PMC17808\\ar-2-2-145.nxml\n",
      "starting...\n",
      "parsed a:\\Vishal\\BiomedCLIP_data_pipeline\\_results\\data\\pubmed_open_access_files\\PMC17808\\ar-2-2-145.nxml\n",
      "a:\\Vishal\\BiomedCLIP_data_pipeline\\_results\\data\\pubmed_open_access_files\\PMC17809\\ar-2-2-154.nxml\n",
      "starting...\n",
      "parsed a:\\Vishal\\BiomedCLIP_data_pipeline\\_results\\data\\pubmed_open_access_files\\PMC17809\\ar-2-2-154.nxml\n",
      "a:\\Vishal\\BiomedCLIP_data_pipeline\\_results\\data\\pubmed_open_access_files\\PMC17810\\ar-2-3-229.nxml\n",
      "starting...\n",
      "parsed a:\\Vishal\\BiomedCLIP_data_pipeline\\_results\\data\\pubmed_open_access_files\\PMC17810\\ar-2-3-229.nxml\n",
      "a:\\Vishal\\BiomedCLIP_data_pipeline\\_results\\data\\pubmed_open_access_files\\PMC17811\\ar-2-3-236.nxml\n",
      "starting...\n",
      "parsed a:\\Vishal\\BiomedCLIP_data_pipeline\\_results\\data\\pubmed_open_access_files\\PMC17811\\ar-2-3-236.nxml\n",
      "no output\n",
      "a:\\Vishal\\BiomedCLIP_data_pipeline\\_results\\data\\pubmed_open_access_files\\PMC17812\\ar-2-4-293.nxml\n",
      "starting...\n",
      "parsed a:\\Vishal\\BiomedCLIP_data_pipeline\\_results\\data\\pubmed_open_access_files\\PMC17812\\ar-2-4-293.nxml\n",
      "a:\\Vishal\\BiomedCLIP_data_pipeline\\_results\\data\\pubmed_open_access_files\\PMC17813\\ar-2-4-303.nxml\n",
      "starting...\n",
      "parsed a:\\Vishal\\BiomedCLIP_data_pipeline\\_results\\data\\pubmed_open_access_files\\PMC17813\\ar-2-4-303.nxml\n",
      "a:\\Vishal\\BiomedCLIP_data_pipeline\\_results\\data\\pubmed_open_access_files\\PMC17814\\ar-2-4-315.nxml\n",
      "starting...\n",
      "parsed a:\\Vishal\\BiomedCLIP_data_pipeline\\_results\\data\\pubmed_open_access_files\\PMC17814\\ar-2-4-315.nxml\n",
      "a:\\Vishal\\BiomedCLIP_data_pipeline\\_results\\data\\pubmed_open_access_files\\PMC17815\\ar-2-4-327.nxml\n",
      "starting...\n",
      "parsed a:\\Vishal\\BiomedCLIP_data_pipeline\\_results\\data\\pubmed_open_access_files\\PMC17815\\ar-2-4-327.nxml\n",
      "no output\n",
      "a:\\Vishal\\BiomedCLIP_data_pipeline\\_results\\data\\pubmed_open_access_files\\PMC17816\\ar-2-5-399.nxml\n",
      "starting...\n",
      "parsed a:\\Vishal\\BiomedCLIP_data_pipeline\\_results\\data\\pubmed_open_access_files\\PMC17816\\ar-2-5-399.nxml\n",
      "a:\\Vishal\\BiomedCLIP_data_pipeline\\_results\\data\\pubmed_open_access_files\\PMC17817\\ar-2-5-407.nxml\n",
      "starting...\n",
      "parsed a:\\Vishal\\BiomedCLIP_data_pipeline\\_results\\data\\pubmed_open_access_files\\PMC17817\\ar-2-5-407.nxml\n",
      "a:\\Vishal\\BiomedCLIP_data_pipeline\\_results\\data\\pubmed_open_access_files\\PMC17818\\ar-2-5-415.nxml\n",
      "starting...\n",
      "parsed a:\\Vishal\\BiomedCLIP_data_pipeline\\_results\\data\\pubmed_open_access_files\\PMC17818\\ar-2-5-415.nxml\n",
      "a:\\Vishal\\BiomedCLIP_data_pipeline\\_results\\data\\pubmed_open_access_files\\PMC17819\\ar-2-5-424.nxml\n",
      "starting...\n",
      "parsed a:\\Vishal\\BiomedCLIP_data_pipeline\\_results\\data\\pubmed_open_access_files\\PMC17819\\ar-2-5-424.nxml\n",
      "a:\\Vishal\\BiomedCLIP_data_pipeline\\_results\\data\\pubmed_open_access_files\\PMC17820\\ar-2-6-477.nxml\n",
      "starting...\n",
      "parsed a:\\Vishal\\BiomedCLIP_data_pipeline\\_results\\data\\pubmed_open_access_files\\PMC17820\\ar-2-6-477.nxml\n",
      "a:\\Vishal\\BiomedCLIP_data_pipeline\\_results\\data\\pubmed_open_access_files\\PMC17821\\ar-2-6-489.nxml\n",
      "starting...\n",
      "parsed a:\\Vishal\\BiomedCLIP_data_pipeline\\_results\\data\\pubmed_open_access_files\\PMC17821\\ar-2-6-489.nxml\n",
      "a:\\Vishal\\BiomedCLIP_data_pipeline\\_results\\data\\pubmed_open_access_files\\PMC17822\\ar-2-6-504.nxml\n",
      "starting...\n",
      "parsed a:\\Vishal\\BiomedCLIP_data_pipeline\\_results\\data\\pubmed_open_access_files\\PMC17822\\ar-2-6-504.nxml\n",
      "a:\\Vishal\\BiomedCLIP_data_pipeline\\_results\\data\\pubmed_open_access_files\\PMC17823\\AR-3-1-041.nxml\n",
      "starting...\n",
      "parsed a:\\Vishal\\BiomedCLIP_data_pipeline\\_results\\data\\pubmed_open_access_files\\PMC17823\\AR-3-1-041.nxml\n",
      "a:\\Vishal\\BiomedCLIP_data_pipeline\\_results\\data\\pubmed_open_access_files\\PMC17824\\AR-3-1-048.nxml\n",
      "starting...\n",
      "parsed a:\\Vishal\\BiomedCLIP_data_pipeline\\_results\\data\\pubmed_open_access_files\\PMC17824\\AR-3-1-048.nxml\n",
      "a:\\Vishal\\BiomedCLIP_data_pipeline\\_results\\data\\pubmed_open_access_files\\PMC17825\\AR-3-1-054.nxml\n",
      "starting...\n",
      "parsed a:\\Vishal\\BiomedCLIP_data_pipeline\\_results\\data\\pubmed_open_access_files\\PMC17825\\AR-3-1-054.nxml\n",
      "a:\\Vishal\\BiomedCLIP_data_pipeline\\_results\\data\\pubmed_open_access_files\\PMC17826\\AR-3-1-065.nxml\n",
      "starting...\n",
      "parsed a:\\Vishal\\BiomedCLIP_data_pipeline\\_results\\data\\pubmed_open_access_files\\PMC17826\\AR-3-1-065.nxml\n",
      "a:\\Vishal\\BiomedCLIP_data_pipeline\\_results\\data\\pubmed_open_access_files\\PMC17827\\AR-3-1-072.nxml\n",
      "starting...\n",
      "parsed a:\\Vishal\\BiomedCLIP_data_pipeline\\_results\\data\\pubmed_open_access_files\\PMC17827\\AR-3-1-072.nxml\n",
      "a:\\Vishal\\BiomedCLIP_data_pipeline\\_results\\data\\pubmed_open_access_files\\PMC17828\\ar-3-2-118.nxml\n",
      "starting...\n",
      "parsed a:\\Vishal\\BiomedCLIP_data_pipeline\\_results\\data\\pubmed_open_access_files\\PMC17828\\ar-3-2-118.nxml\n",
      "a:\\Vishal\\BiomedCLIP_data_pipeline\\_results\\data\\pubmed_open_access_files\\PMC17829\\ar-3-2-127.nxml\n",
      "starting...\n",
      "parsed a:\\Vishal\\BiomedCLIP_data_pipeline\\_results\\data\\pubmed_open_access_files\\PMC17829\\ar-3-2-127.nxml\n",
      "a:\\Vishal\\BiomedCLIP_data_pipeline\\_results\\data\\pubmed_open_access_files\\PMC25774\\gb-2001-2-2-research0004.nxml\n",
      "starting...\n",
      "parsed a:\\Vishal\\BiomedCLIP_data_pipeline\\_results\\data\\pubmed_open_access_files\\PMC25774\\gb-2001-2-2-research0004.nxml\n",
      "a:\\Vishal\\BiomedCLIP_data_pipeline\\_results\\data\\pubmed_open_access_files\\PMC25775\\gb-2001-2-2-research0005.nxml\n",
      "starting...\n",
      "parsed a:\\Vishal\\BiomedCLIP_data_pipeline\\_results\\data\\pubmed_open_access_files\\PMC25775\\gb-2001-2-2-research0005.nxml\n",
      "a:\\Vishal\\BiomedCLIP_data_pipeline\\_results\\data\\pubmed_open_access_files\\PMC25776\\gb-2001-2-2-research0006.nxml\n",
      "starting...\n",
      "parsed a:\\Vishal\\BiomedCLIP_data_pipeline\\_results\\data\\pubmed_open_access_files\\PMC25776\\gb-2001-2-2-research0006.nxml\n",
      "a:\\Vishal\\BiomedCLIP_data_pipeline\\_results\\data\\pubmed_open_access_files\\PMC28985\\cc-1-1-015.nxml\n",
      "starting...\n",
      "parsed a:\\Vishal\\BiomedCLIP_data_pipeline\\_results\\data\\pubmed_open_access_files\\PMC28985\\cc-1-1-015.nxml\n",
      "a:\\Vishal\\BiomedCLIP_data_pipeline\\_results\\data\\pubmed_open_access_files\\PMC28986\\cc-1-1-025.nxml\n",
      "starting...\n",
      "parsed a:\\Vishal\\BiomedCLIP_data_pipeline\\_results\\data\\pubmed_open_access_files\\PMC28986\\cc-1-1-025.nxml\n",
      "a:\\Vishal\\BiomedCLIP_data_pipeline\\_results\\data\\pubmed_open_access_files\\PMC28987\\cc-1-1-041.nxml\n",
      "starting...\n",
      "parsed a:\\Vishal\\BiomedCLIP_data_pipeline\\_results\\data\\pubmed_open_access_files\\PMC28987\\cc-1-1-041.nxml\n",
      "a:\\Vishal\\BiomedCLIP_data_pipeline\\_results\\data\\pubmed_open_access_files\\PMC28988\\cc-1-1-045.nxml\n",
      "starting...\n",
      "parsed a:\\Vishal\\BiomedCLIP_data_pipeline\\_results\\data\\pubmed_open_access_files\\PMC28988\\cc-1-1-045.nxml\n",
      "a:\\Vishal\\BiomedCLIP_data_pipeline\\_results\\data\\pubmed_open_access_files\\PMC28989\\cc-1-2-065.nxml\n",
      "starting...\n",
      "parsed a:\\Vishal\\BiomedCLIP_data_pipeline\\_results\\data\\pubmed_open_access_files\\PMC28989\\cc-1-2-065.nxml\n",
      "a:\\Vishal\\BiomedCLIP_data_pipeline\\_results\\data\\pubmed_open_access_files\\PMC28990\\cc-1-2-071.nxml\n",
      "starting...\n",
      "parsed a:\\Vishal\\BiomedCLIP_data_pipeline\\_results\\data\\pubmed_open_access_files\\PMC28990\\cc-1-2-071.nxml\n",
      "a:\\Vishal\\BiomedCLIP_data_pipeline\\_results\\data\\pubmed_open_access_files\\PMC28991\\cc-1-2-075.nxml\n",
      "starting...\n",
      "parsed a:\\Vishal\\BiomedCLIP_data_pipeline\\_results\\data\\pubmed_open_access_files\\PMC28991\\cc-1-2-075.nxml\n",
      "no output\n",
      "a:\\Vishal\\BiomedCLIP_data_pipeline\\_results\\data\\pubmed_open_access_files\\PMC28992\\cc-1-2-079.nxml\n",
      "starting...\n",
      "parsed a:\\Vishal\\BiomedCLIP_data_pipeline\\_results\\data\\pubmed_open_access_files\\PMC28992\\cc-1-2-079.nxml\n",
      "no output\n",
      "a:\\Vishal\\BiomedCLIP_data_pipeline\\_results\\data\\pubmed_open_access_files\\PMC28993\\cc-1-3-095.nxml\n",
      "starting...\n",
      "parsed a:\\Vishal\\BiomedCLIP_data_pipeline\\_results\\data\\pubmed_open_access_files\\PMC28993\\cc-1-3-095.nxml\n",
      "no output\n",
      "a:\\Vishal\\BiomedCLIP_data_pipeline\\_results\\data\\pubmed_open_access_files\\PMC28994\\cc-1-3-101.nxml\n",
      "starting...\n",
      "parsed a:\\Vishal\\BiomedCLIP_data_pipeline\\_results\\data\\pubmed_open_access_files\\PMC28994\\cc-1-3-101.nxml\n",
      "no output\n",
      "a:\\Vishal\\BiomedCLIP_data_pipeline\\_results\\data\\pubmed_open_access_files\\PMC28995\\cc-1-3-105.nxml\n",
      "starting...\n",
      "parsed a:\\Vishal\\BiomedCLIP_data_pipeline\\_results\\data\\pubmed_open_access_files\\PMC28995\\cc-1-3-105.nxml\n",
      "a:\\Vishal\\BiomedCLIP_data_pipeline\\_results\\data\\pubmed_open_access_files\\PMC28996\\cc-1-3-111.nxml\n",
      "starting...\n",
      "parsed a:\\Vishal\\BiomedCLIP_data_pipeline\\_results\\data\\pubmed_open_access_files\\PMC28996\\cc-1-3-111.nxml\n",
      "a:\\Vishal\\BiomedCLIP_data_pipeline\\_results\\data\\pubmed_open_access_files\\PMC28997\\cc-2-1-019.nxml\n",
      "starting...\n",
      "parsed a:\\Vishal\\BiomedCLIP_data_pipeline\\_results\\data\\pubmed_open_access_files\\PMC28997\\cc-2-1-019.nxml\n",
      "no output\n",
      "a:\\Vishal\\BiomedCLIP_data_pipeline\\_results\\data\\pubmed_open_access_files\\PMC28998\\cc-2-1-025.nxml\n",
      "starting...\n",
      "parsed a:\\Vishal\\BiomedCLIP_data_pipeline\\_results\\data\\pubmed_open_access_files\\PMC28998\\cc-2-1-025.nxml\n",
      "no output\n",
      "a:\\Vishal\\BiomedCLIP_data_pipeline\\_results\\data\\pubmed_open_access_files\\PMC28999\\cc-2-1-029.nxml\n",
      "starting...\n",
      "parsed a:\\Vishal\\BiomedCLIP_data_pipeline\\_results\\data\\pubmed_open_access_files\\PMC28999\\cc-2-1-029.nxml\n",
      "no output\n",
      "a:\\Vishal\\BiomedCLIP_data_pipeline\\_results\\data\\pubmed_open_access_files\\PMC29000\\cc-2-1-035.nxml\n",
      "starting...\n",
      "parsed a:\\Vishal\\BiomedCLIP_data_pipeline\\_results\\data\\pubmed_open_access_files\\PMC29000\\cc-2-1-035.nxml\n",
      "a:\\Vishal\\BiomedCLIP_data_pipeline\\_results\\data\\pubmed_open_access_files\\PMC29001\\cc-2-2-049.nxml\n",
      "starting...\n",
      "parsed a:\\Vishal\\BiomedCLIP_data_pipeline\\_results\\data\\pubmed_open_access_files\\PMC29001\\cc-2-2-049.nxml\n",
      "no output\n",
      "a:\\Vishal\\BiomedCLIP_data_pipeline\\_results\\data\\pubmed_open_access_files\\PMC29002\\cc-2-2-057.nxml\n",
      "starting...\n",
      "parsed a:\\Vishal\\BiomedCLIP_data_pipeline\\_results\\data\\pubmed_open_access_files\\PMC29002\\cc-2-2-057.nxml\n",
      "a:\\Vishal\\BiomedCLIP_data_pipeline\\_results\\data\\pubmed_open_access_files\\PMC29003\\cc-2-2-061.nxml\n",
      "starting...\n",
      "parsed a:\\Vishal\\BiomedCLIP_data_pipeline\\_results\\data\\pubmed_open_access_files\\PMC29003\\cc-2-2-061.nxml\n",
      "no output\n",
      "a:\\Vishal\\BiomedCLIP_data_pipeline\\_results\\data\\pubmed_open_access_files\\PMC29004\\cc-2-2-067.nxml\n",
      "starting...\n",
      "parsed a:\\Vishal\\BiomedCLIP_data_pipeline\\_results\\data\\pubmed_open_access_files\\PMC29004\\cc-2-2-067.nxml\n",
      "a:\\Vishal\\BiomedCLIP_data_pipeline\\_results\\data\\pubmed_open_access_files\\PMC29005\\cc-3-1-001.nxml\n",
      "starting...\n",
      "parsed a:\\Vishal\\BiomedCLIP_data_pipeline\\_results\\data\\pubmed_open_access_files\\PMC29005\\cc-3-1-001.nxml\n",
      "a:\\Vishal\\BiomedCLIP_data_pipeline\\_results\\data\\pubmed_open_access_files\\PMC29006\\cc-3-1-007.nxml\n",
      "starting...\n",
      "parsed a:\\Vishal\\BiomedCLIP_data_pipeline\\_results\\data\\pubmed_open_access_files\\PMC29006\\cc-3-1-007.nxml\n",
      "no output\n",
      "a:\\Vishal\\BiomedCLIP_data_pipeline\\_results\\data\\pubmed_open_access_files\\PMC29007\\cc-3-1-011.nxml\n",
      "starting...\n",
      "parsed a:\\Vishal\\BiomedCLIP_data_pipeline\\_results\\data\\pubmed_open_access_files\\PMC29007\\cc-3-1-011.nxml\n",
      "a:\\Vishal\\BiomedCLIP_data_pipeline\\_results\\data\\pubmed_open_access_files\\PMC29008\\cc-3-1-017.nxml\n",
      "starting...\n",
      "parsed a:\\Vishal\\BiomedCLIP_data_pipeline\\_results\\data\\pubmed_open_access_files\\PMC29008\\cc-3-1-017.nxml\n",
      "no output\n",
      "a:\\Vishal\\BiomedCLIP_data_pipeline\\_results\\data\\pubmed_open_access_files\\PMC29009\\cc-3-1-019.nxml\n",
      "starting...\n",
      "parsed a:\\Vishal\\BiomedCLIP_data_pipeline\\_results\\data\\pubmed_open_access_files\\PMC29009\\cc-3-1-019.nxml\n",
      "a:\\Vishal\\BiomedCLIP_data_pipeline\\_results\\data\\pubmed_open_access_files\\PMC29010\\cc-3-1-023.nxml\n",
      "starting...\n",
      "parsed a:\\Vishal\\BiomedCLIP_data_pipeline\\_results\\data\\pubmed_open_access_files\\PMC29010\\cc-3-1-023.nxml\n",
      "no output\n",
      "a:\\Vishal\\BiomedCLIP_data_pipeline\\_results\\data\\pubmed_open_access_files\\PMC29011\\cc-3-1-033.nxml\n",
      "starting...\n",
      "parsed a:\\Vishal\\BiomedCLIP_data_pipeline\\_results\\data\\pubmed_open_access_files\\PMC29011\\cc-3-1-033.nxml\n",
      "a:\\Vishal\\BiomedCLIP_data_pipeline\\_results\\data\\pubmed_open_access_files\\PMC29012\\cc-3-1-039.nxml\n",
      "starting...\n",
      "parsed a:\\Vishal\\BiomedCLIP_data_pipeline\\_results\\data\\pubmed_open_access_files\\PMC29012\\cc-3-1-039.nxml\n",
      "a:\\Vishal\\BiomedCLIP_data_pipeline\\_results\\data\\pubmed_open_access_files\\PMC29013\\cc-3-1-045.nxml\n",
      "starting...\n",
      "parsed a:\\Vishal\\BiomedCLIP_data_pipeline\\_results\\data\\pubmed_open_access_files\\PMC29013\\cc-3-1-045.nxml\n",
      "a:\\Vishal\\BiomedCLIP_data_pipeline\\_results\\data\\pubmed_open_access_files\\PMC29014\\cc-3-1-051.nxml\n",
      "starting...\n",
      "parsed a:\\Vishal\\BiomedCLIP_data_pipeline\\_results\\data\\pubmed_open_access_files\\PMC29014\\cc-3-1-051.nxml\n",
      "a:\\Vishal\\BiomedCLIP_data_pipeline\\_results\\data\\pubmed_open_access_files\\PMC29015\\cc-3-2-057.nxml\n",
      "starting...\n",
      "parsed a:\\Vishal\\BiomedCLIP_data_pipeline\\_results\\data\\pubmed_open_access_files\\PMC29015\\cc-3-2-057.nxml\n",
      "a:\\Vishal\\BiomedCLIP_data_pipeline\\_results\\data\\pubmed_open_access_files\\PMC29016\\cc-3-2-065.nxml\n",
      "starting...\n",
      "parsed a:\\Vishal\\BiomedCLIP_data_pipeline\\_results\\data\\pubmed_open_access_files\\PMC29016\\cc-3-2-065.nxml\n",
      "a:\\Vishal\\BiomedCLIP_data_pipeline\\_results\\data\\pubmed_open_access_files\\PMC29017\\cc-3-3-071.nxml\n",
      "starting...\n",
      "parsed a:\\Vishal\\BiomedCLIP_data_pipeline\\_results\\data\\pubmed_open_access_files\\PMC29017\\cc-3-3-071.nxml\n",
      "no output\n",
      "a:\\Vishal\\BiomedCLIP_data_pipeline\\_results\\data\\pubmed_open_access_files\\PMC29018\\cc-3-3-079.nxml\n",
      "starting...\n",
      "parsed a:\\Vishal\\BiomedCLIP_data_pipeline\\_results\\data\\pubmed_open_access_files\\PMC29018\\cc-3-3-079.nxml\n",
      "no output\n",
      "a:\\Vishal\\BiomedCLIP_data_pipeline\\_results\\data\\pubmed_open_access_files\\PMC29019\\cc-3-3-085.nxml\n",
      "starting...\n",
      "parsed a:\\Vishal\\BiomedCLIP_data_pipeline\\_results\\data\\pubmed_open_access_files\\PMC29019\\cc-3-3-085.nxml\n",
      "no output\n",
      "a:\\Vishal\\BiomedCLIP_data_pipeline\\_results\\data\\pubmed_open_access_files\\PMC29020\\cc-3-4-091.nxml\n",
      "starting...\n",
      "parsed a:\\Vishal\\BiomedCLIP_data_pipeline\\_results\\data\\pubmed_open_access_files\\PMC29020\\cc-3-4-091.nxml\n",
      "a:\\Vishal\\BiomedCLIP_data_pipeline\\_results\\data\\pubmed_open_access_files\\PMC29021\\cc-3-4-095.nxml\n",
      "starting...\n",
      "parsed a:\\Vishal\\BiomedCLIP_data_pipeline\\_results\\data\\pubmed_open_access_files\\PMC29021\\cc-3-4-095.nxml\n",
      "a:\\Vishal\\BiomedCLIP_data_pipeline\\_results\\data\\pubmed_open_access_files\\PMC29022\\cc-3-4-101.nxml\n",
      "starting...\n",
      "parsed a:\\Vishal\\BiomedCLIP_data_pipeline\\_results\\data\\pubmed_open_access_files\\PMC29022\\cc-3-4-101.nxml\n",
      "a:\\Vishal\\BiomedCLIP_data_pipeline\\_results\\data\\pubmed_open_access_files\\PMC29023\\cc-3-4-111.nxml\n",
      "starting...\n",
      "parsed a:\\Vishal\\BiomedCLIP_data_pipeline\\_results\\data\\pubmed_open_access_files\\PMC29023\\cc-3-4-111.nxml\n",
      "a:\\Vishal\\BiomedCLIP_data_pipeline\\_results\\data\\pubmed_open_access_files\\PMC29024\\cc-3-4-117.nxml\n",
      "starting...\n",
      "parsed a:\\Vishal\\BiomedCLIP_data_pipeline\\_results\\data\\pubmed_open_access_files\\PMC29024\\cc-3-4-117.nxml\n",
      "a:\\Vishal\\BiomedCLIP_data_pipeline\\_results\\data\\pubmed_open_access_files\\PMC29025\\cc-3-5-123.nxml\n",
      "starting...\n",
      "parsed a:\\Vishal\\BiomedCLIP_data_pipeline\\_results\\data\\pubmed_open_access_files\\PMC29025\\cc-3-5-123.nxml\n",
      "a:\\Vishal\\BiomedCLIP_data_pipeline\\_results\\data\\pubmed_open_access_files\\PMC29026\\cc-3-5-127.nxml\n",
      "starting...\n",
      "parsed a:\\Vishal\\BiomedCLIP_data_pipeline\\_results\\data\\pubmed_open_access_files\\PMC29026\\cc-3-5-127.nxml\n",
      "a:\\Vishal\\BiomedCLIP_data_pipeline\\_results\\data\\pubmed_open_access_files\\PMC29027\\cc-3-5-131.nxml\n",
      "starting...\n",
      "parsed a:\\Vishal\\BiomedCLIP_data_pipeline\\_results\\data\\pubmed_open_access_files\\PMC29027\\cc-3-5-131.nxml\n",
      "a:\\Vishal\\BiomedCLIP_data_pipeline\\_results\\data\\pubmed_open_access_files\\PMC29028\\cc-3-6-135.nxml\n",
      "starting...\n",
      "parsed a:\\Vishal\\BiomedCLIP_data_pipeline\\_results\\data\\pubmed_open_access_files\\PMC29028\\cc-3-6-135.nxml\n",
      "a:\\Vishal\\BiomedCLIP_data_pipeline\\_results\\data\\pubmed_open_access_files\\PMC29029\\cc-3-6-139.nxml\n",
      "starting...\n",
      "parsed a:\\Vishal\\BiomedCLIP_data_pipeline\\_results\\data\\pubmed_open_access_files\\PMC29029\\cc-3-6-139.nxml\n",
      "no output\n",
      "a:\\Vishal\\BiomedCLIP_data_pipeline\\_results\\data\\pubmed_open_access_files\\PMC29030\\cc-3-6-145.nxml\n",
      "starting...\n",
      "parsed a:\\Vishal\\BiomedCLIP_data_pipeline\\_results\\data\\pubmed_open_access_files\\PMC29030\\cc-3-6-145.nxml\n",
      "no output\n",
      "a:\\Vishal\\BiomedCLIP_data_pipeline\\_results\\data\\pubmed_open_access_files\\PMC29031\\cc-3-6-151.nxml\n",
      "starting...\n",
      "parsed a:\\Vishal\\BiomedCLIP_data_pipeline\\_results\\data\\pubmed_open_access_files\\PMC29031\\cc-3-6-151.nxml\n",
      "no output\n",
      "a:\\Vishal\\BiomedCLIP_data_pipeline\\_results\\data\\pubmed_open_access_files\\PMC29032\\cc-3-6-159.nxml\n",
      "starting...\n",
      "parsed a:\\Vishal\\BiomedCLIP_data_pipeline\\_results\\data\\pubmed_open_access_files\\PMC29032\\cc-3-6-159.nxml\n",
      "a:\\Vishal\\BiomedCLIP_data_pipeline\\_results\\data\\pubmed_open_access_files\\PMC29033\\cc-3-6-167.nxml\n",
      "starting...\n",
      "parsed a:\\Vishal\\BiomedCLIP_data_pipeline\\_results\\data\\pubmed_open_access_files\\PMC29033\\cc-3-6-167.nxml\n",
      "no output\n",
      "a:\\Vishal\\BiomedCLIP_data_pipeline\\_results\\data\\pubmed_open_access_files\\PMC29034\\cc-4-1-040.nxml\n",
      "starting...\n",
      "parsed a:\\Vishal\\BiomedCLIP_data_pipeline\\_results\\data\\pubmed_open_access_files\\PMC29034\\cc-4-1-040.nxml\n",
      "a:\\Vishal\\BiomedCLIP_data_pipeline\\_results\\data\\pubmed_open_access_files\\PMC29035\\cc-4-1-045.nxml\n",
      "starting...\n",
      "parsed a:\\Vishal\\BiomedCLIP_data_pipeline\\_results\\data\\pubmed_open_access_files\\PMC29035\\cc-4-1-045.nxml\n",
      "a:\\Vishal\\BiomedCLIP_data_pipeline\\_results\\data\\pubmed_open_access_files\\PMC29036\\cc-4-1-050.nxml\n",
      "starting...\n",
      "parsed a:\\Vishal\\BiomedCLIP_data_pipeline\\_results\\data\\pubmed_open_access_files\\PMC29036\\cc-4-1-050.nxml\n",
      "no output\n",
      "a:\\Vishal\\BiomedCLIP_data_pipeline\\_results\\data\\pubmed_open_access_files\\PMC29037\\cc-4-1-054.nxml\n",
      "starting...\n",
      "parsed a:\\Vishal\\BiomedCLIP_data_pipeline\\_results\\data\\pubmed_open_access_files\\PMC29037\\cc-4-1-054.nxml\n",
      "a:\\Vishal\\BiomedCLIP_data_pipeline\\_results\\data\\pubmed_open_access_files\\PMC29038\\cc-4-2-114.nxml\n",
      "starting...\n",
      "parsed a:\\Vishal\\BiomedCLIP_data_pipeline\\_results\\data\\pubmed_open_access_files\\PMC29038\\cc-4-2-114.nxml\n",
      "a:\\Vishal\\BiomedCLIP_data_pipeline\\_results\\data\\pubmed_open_access_files\\PMC29039\\cc-4-2-120.nxml\n",
      "starting...\n",
      "parsed a:\\Vishal\\BiomedCLIP_data_pipeline\\_results\\data\\pubmed_open_access_files\\PMC29039\\cc-4-2-120.nxml\n",
      "a:\\Vishal\\BiomedCLIP_data_pipeline\\_results\\data\\pubmed_open_access_files\\PMC29040\\cc-4-2-124.nxml\n",
      "starting...\n",
      "parsed a:\\Vishal\\BiomedCLIP_data_pipeline\\_results\\data\\pubmed_open_access_files\\PMC29040\\cc-4-2-124.nxml\n",
      "no output\n",
      "a:\\Vishal\\BiomedCLIP_data_pipeline\\_results\\data\\pubmed_open_access_files\\PMC29041\\cc-4-3-180.nxml\n",
      "starting...\n",
      "parsed a:\\Vishal\\BiomedCLIP_data_pipeline\\_results\\data\\pubmed_open_access_files\\PMC29041\\cc-4-3-180.nxml\n",
      "a:\\Vishal\\BiomedCLIP_data_pipeline\\_results\\data\\pubmed_open_access_files\\PMC29042\\cc-4-3-188.nxml\n",
      "starting...\n",
      "parsed a:\\Vishal\\BiomedCLIP_data_pipeline\\_results\\data\\pubmed_open_access_files\\PMC29042\\cc-4-3-188.nxml\n",
      "no output\n",
      "a:\\Vishal\\BiomedCLIP_data_pipeline\\_results\\data\\pubmed_open_access_files\\PMC29043\\cc-4-3-193.nxml\n",
      "starting...\n",
      "parsed a:\\Vishal\\BiomedCLIP_data_pipeline\\_results\\data\\pubmed_open_access_files\\PMC29043\\cc-4-3-193.nxml\n",
      "a:\\Vishal\\BiomedCLIP_data_pipeline\\_results\\data\\pubmed_open_access_files\\PMC29044\\cc-4-4-245.nxml\n",
      "starting...\n",
      "parsed a:\\Vishal\\BiomedCLIP_data_pipeline\\_results\\data\\pubmed_open_access_files\\PMC29044\\cc-4-4-245.nxml\n",
      "a:\\Vishal\\BiomedCLIP_data_pipeline\\_results\\data\\pubmed_open_access_files\\PMC29045\\cc-4-4-249.nxml\n",
      "starting...\n",
      "parsed a:\\Vishal\\BiomedCLIP_data_pipeline\\_results\\data\\pubmed_open_access_files\\PMC29045\\cc-4-4-249.nxml\n",
      "a:\\Vishal\\BiomedCLIP_data_pipeline\\_results\\data\\pubmed_open_access_files\\PMC29046\\cc-4-4-255.nxml\n",
      "starting...\n",
      "parsed a:\\Vishal\\BiomedCLIP_data_pipeline\\_results\\data\\pubmed_open_access_files\\PMC29046\\cc-4-4-255.nxml\n",
      "a:\\Vishal\\BiomedCLIP_data_pipeline\\_results\\data\\pubmed_open_access_files\\PMC29047\\cc-4-5-302.nxml\n",
      "starting...\n",
      "parsed a:\\Vishal\\BiomedCLIP_data_pipeline\\_results\\data\\pubmed_open_access_files\\PMC29047\\cc-4-5-302.nxml\n",
      "a:\\Vishal\\BiomedCLIP_data_pipeline\\_results\\data\\pubmed_open_access_files\\PMC29048\\cc-4-5-309.nxml\n",
      "starting...\n",
      "parsed a:\\Vishal\\BiomedCLIP_data_pipeline\\_results\\data\\pubmed_open_access_files\\PMC29048\\cc-4-5-309.nxml\n",
      "no output\n",
      "a:\\Vishal\\BiomedCLIP_data_pipeline\\_results\\data\\pubmed_open_access_files\\PMC29049\\cc-4-5-314.nxml\n",
      "starting...\n",
      "parsed a:\\Vishal\\BiomedCLIP_data_pipeline\\_results\\data\\pubmed_open_access_files\\PMC29049\\cc-4-5-314.nxml\n",
      "a:\\Vishal\\BiomedCLIP_data_pipeline\\_results\\data\\pubmed_open_access_files\\PMC29050\\cc-4-5-319.nxml\n",
      "starting...\n",
      "parsed a:\\Vishal\\BiomedCLIP_data_pipeline\\_results\\data\\pubmed_open_access_files\\PMC29050\\cc-4-5-319.nxml\n",
      "no output\n",
      "a:\\Vishal\\BiomedCLIP_data_pipeline\\_results\\data\\pubmed_open_access_files\\PMC29051\\cc-4-6-369.nxml\n",
      "starting...\n",
      "parsed a:\\Vishal\\BiomedCLIP_data_pipeline\\_results\\data\\pubmed_open_access_files\\PMC29051\\cc-4-6-369.nxml\n",
      "a:\\Vishal\\BiomedCLIP_data_pipeline\\_results\\data\\pubmed_open_access_files\\PMC29052\\CC-5-1-019.nxml\n",
      "starting...\n",
      "parsed a:\\Vishal\\BiomedCLIP_data_pipeline\\_results\\data\\pubmed_open_access_files\\PMC29052\\CC-5-1-019.nxml\n",
      "a:\\Vishal\\BiomedCLIP_data_pipeline\\_results\\data\\pubmed_open_access_files\\PMC29053\\CC-5-1-024.nxml\n",
      "starting...\n",
      "parsed a:\\Vishal\\BiomedCLIP_data_pipeline\\_results\\data\\pubmed_open_access_files\\PMC29053\\CC-5-1-024.nxml\n",
      "a:\\Vishal\\BiomedCLIP_data_pipeline\\_results\\data\\pubmed_open_access_files\\PMC29054\\CC-5-1-031.nxml\n",
      "starting...\n",
      "parsed a:\\Vishal\\BiomedCLIP_data_pipeline\\_results\\data\\pubmed_open_access_files\\PMC29054\\CC-5-1-031.nxml\n",
      "a:\\Vishal\\BiomedCLIP_data_pipeline\\_results\\data\\pubmed_open_access_files\\PMC29055\\CC-5-1-037.nxml\n",
      "starting...\n",
      "parsed a:\\Vishal\\BiomedCLIP_data_pipeline\\_results\\data\\pubmed_open_access_files\\PMC29055\\CC-5-1-037.nxml\n",
      "no output\n",
      "a:\\Vishal\\BiomedCLIP_data_pipeline\\_results\\data\\pubmed_open_access_files\\PMC29056\\CC-5-1-041.nxml\n",
      "starting...\n",
      "parsed a:\\Vishal\\BiomedCLIP_data_pipeline\\_results\\data\\pubmed_open_access_files\\PMC29056\\CC-5-1-041.nxml\n",
      "a:\\Vishal\\BiomedCLIP_data_pipeline\\_results\\data\\pubmed_open_access_files\\PMC29057\\1471-2091-1-1.nxml\n",
      "starting...\n",
      "parsed a:\\Vishal\\BiomedCLIP_data_pipeline\\_results\\data\\pubmed_open_access_files\\PMC29057\\1471-2091-1-1.nxml\n",
      "a:\\Vishal\\BiomedCLIP_data_pipeline\\_results\\data\\pubmed_open_access_files\\PMC29058\\1471-2091-1-2.nxml\n",
      "starting...\n",
      "parsed a:\\Vishal\\BiomedCLIP_data_pipeline\\_results\\data\\pubmed_open_access_files\\PMC29058\\1471-2091-1-2.nxml\n",
      "a:\\Vishal\\BiomedCLIP_data_pipeline\\_results\\data\\pubmed_open_access_files\\PMC29059\\1471-2091-1-3.nxml\n",
      "starting...\n",
      "parsed a:\\Vishal\\BiomedCLIP_data_pipeline\\_results\\data\\pubmed_open_access_files\\PMC29059\\1471-2091-1-3.nxml\n",
      "a:\\Vishal\\BiomedCLIP_data_pipeline\\_results\\data\\pubmed_open_access_files\\PMC29061\\1471-2105-1-1.nxml\n",
      "starting...\n",
      "parsed a:\\Vishal\\BiomedCLIP_data_pipeline\\_results\\data\\pubmed_open_access_files\\PMC29061\\1471-2105-1-1.nxml\n",
      "a:\\Vishal\\BiomedCLIP_data_pipeline\\_results\\data\\pubmed_open_access_files\\PMC29062\\1471-2121-1-1.nxml\n",
      "starting...\n",
      "parsed a:\\Vishal\\BiomedCLIP_data_pipeline\\_results\\data\\pubmed_open_access_files\\PMC29062\\1471-2121-1-1.nxml\n",
      "a:\\Vishal\\BiomedCLIP_data_pipeline\\_results\\data\\pubmed_open_access_files\\PMC29063\\1471-2121-1-2.nxml\n",
      "starting...\n",
      "parsed a:\\Vishal\\BiomedCLIP_data_pipeline\\_results\\data\\pubmed_open_access_files\\PMC29063\\1471-2121-1-2.nxml\n",
      "a:\\Vishal\\BiomedCLIP_data_pipeline\\_results\\data\\pubmed_open_access_files\\PMC29064\\1471-2121-1-3.nxml\n",
      "starting...\n",
      "parsed a:\\Vishal\\BiomedCLIP_data_pipeline\\_results\\data\\pubmed_open_access_files\\PMC29064\\1471-2121-1-3.nxml\n",
      "a:\\Vishal\\BiomedCLIP_data_pipeline\\_results\\data\\pubmed_open_access_files\\PMC29065\\1471-2121-1-4.nxml\n",
      "starting...\n",
      "parsed a:\\Vishal\\BiomedCLIP_data_pipeline\\_results\\data\\pubmed_open_access_files\\PMC29065\\1471-2121-1-4.nxml\n",
      "a:\\Vishal\\BiomedCLIP_data_pipeline\\_results\\data\\pubmed_open_access_files\\PMC29066\\1471-2121-2-1.nxml\n",
      "starting...\n",
      "parsed a:\\Vishal\\BiomedCLIP_data_pipeline\\_results\\data\\pubmed_open_access_files\\PMC29066\\1471-2121-2-1.nxml\n",
      "a:\\Vishal\\BiomedCLIP_data_pipeline\\_results\\data\\pubmed_open_access_files\\PMC29067\\1471-2121-2-2.nxml\n",
      "starting...\n",
      "parsed a:\\Vishal\\BiomedCLIP_data_pipeline\\_results\\data\\pubmed_open_access_files\\PMC29067\\1471-2121-2-2.nxml\n",
      "a:\\Vishal\\BiomedCLIP_data_pipeline\\_results\\data\\pubmed_open_access_files\\PMC29068\\1471-2121-2-3.nxml\n",
      "starting...\n",
      "parsed a:\\Vishal\\BiomedCLIP_data_pipeline\\_results\\data\\pubmed_open_access_files\\PMC29068\\1471-2121-2-3.nxml\n",
      "a:\\Vishal\\BiomedCLIP_data_pipeline\\_results\\data\\pubmed_open_access_files\\PMC29069\\1471-2121-2-4.nxml\n",
      "starting...\n",
      "parsed a:\\Vishal\\BiomedCLIP_data_pipeline\\_results\\data\\pubmed_open_access_files\\PMC29069\\1471-2121-2-4.nxml\n",
      "a:\\Vishal\\BiomedCLIP_data_pipeline\\_results\\data\\pubmed_open_access_files\\PMC29073\\1471-2148-1-1.nxml\n",
      "starting...\n",
      "parsed a:\\Vishal\\BiomedCLIP_data_pipeline\\_results\\data\\pubmed_open_access_files\\PMC29073\\1471-2148-1-1.nxml\n",
      "a:\\Vishal\\BiomedCLIP_data_pipeline\\_results\\data\\pubmed_open_access_files\\PMC29074\\1471-2296-1-1.nxml\n",
      "starting...\n",
      "parsed a:\\Vishal\\BiomedCLIP_data_pipeline\\_results\\data\\pubmed_open_access_files\\PMC29074\\1471-2296-1-1.nxml\n",
      "a:\\Vishal\\BiomedCLIP_data_pipeline\\_results\\data\\pubmed_open_access_files\\PMC29075\\1471-2296-1-2.nxml\n",
      "starting...\n",
      "parsed a:\\Vishal\\BiomedCLIP_data_pipeline\\_results\\data\\pubmed_open_access_files\\PMC29075\\1471-2296-1-2.nxml\n",
      "a:\\Vishal\\BiomedCLIP_data_pipeline\\_results\\data\\pubmed_open_access_files\\PMC29076\\1471-230X-1-1.nxml\n",
      "starting...\n",
      "parsed a:\\Vishal\\BiomedCLIP_data_pipeline\\_results\\data\\pubmed_open_access_files\\PMC29076\\1471-230X-1-1.nxml\n",
      "a:\\Vishal\\BiomedCLIP_data_pipeline\\_results\\data\\pubmed_open_access_files\\PMC29077\\1471-2156-1-1.nxml\n",
      "starting...\n",
      "parsed a:\\Vishal\\BiomedCLIP_data_pipeline\\_results\\data\\pubmed_open_access_files\\PMC29077\\1471-2156-1-1.nxml\n",
      "a:\\Vishal\\BiomedCLIP_data_pipeline\\_results\\data\\pubmed_open_access_files\\PMC29078\\1471-2156-1-2.nxml\n",
      "starting...\n",
      "parsed a:\\Vishal\\BiomedCLIP_data_pipeline\\_results\\data\\pubmed_open_access_files\\PMC29078\\1471-2156-1-2.nxml\n",
      "a:\\Vishal\\BiomedCLIP_data_pipeline\\_results\\data\\pubmed_open_access_files\\PMC29079\\1471-2156-1-3.nxml\n",
      "starting...\n",
      "parsed a:\\Vishal\\BiomedCLIP_data_pipeline\\_results\\data\\pubmed_open_access_files\\PMC29079\\1471-2156-1-3.nxml\n",
      "a:\\Vishal\\BiomedCLIP_data_pipeline\\_results\\data\\pubmed_open_access_files\\PMC29080\\1471-2156-1-4.nxml\n",
      "starting...\n",
      "parsed a:\\Vishal\\BiomedCLIP_data_pipeline\\_results\\data\\pubmed_open_access_files\\PMC29080\\1471-2156-1-4.nxml\n",
      "a:\\Vishal\\BiomedCLIP_data_pipeline\\_results\\data\\pubmed_open_access_files\\PMC29081\\1471-2156-2-1.nxml\n",
      "starting...\n",
      "parsed a:\\Vishal\\BiomedCLIP_data_pipeline\\_results\\data\\pubmed_open_access_files\\PMC29081\\1471-2156-2-1.nxml\n",
      "a:\\Vishal\\BiomedCLIP_data_pipeline\\_results\\data\\pubmed_open_access_files\\PMC29082\\1471-2156-2-2.nxml\n",
      "starting...\n",
      "parsed a:\\Vishal\\BiomedCLIP_data_pipeline\\_results\\data\\pubmed_open_access_files\\PMC29082\\1471-2156-2-2.nxml\n",
      "a:\\Vishal\\BiomedCLIP_data_pipeline\\_results\\data\\pubmed_open_access_files\\PMC29083\\1471-2156-2-3.nxml\n",
      "starting...\n",
      "parsed a:\\Vishal\\BiomedCLIP_data_pipeline\\_results\\data\\pubmed_open_access_files\\PMC29083\\1471-2156-2-3.nxml\n",
      "a:\\Vishal\\BiomedCLIP_data_pipeline\\_results\\data\\pubmed_open_access_files\\PMC29084\\1471-2156-2-4.nxml\n",
      "starting...\n",
      "parsed a:\\Vishal\\BiomedCLIP_data_pipeline\\_results\\data\\pubmed_open_access_files\\PMC29084\\1471-2156-2-4.nxml\n",
      "a:\\Vishal\\BiomedCLIP_data_pipeline\\_results\\data\\pubmed_open_access_files\\PMC29085\\1471-2164-1-1.nxml\n",
      "starting...\n",
      "parsed a:\\Vishal\\BiomedCLIP_data_pipeline\\_results\\data\\pubmed_open_access_files\\PMC29085\\1471-2164-1-1.nxml\n",
      "a:\\Vishal\\BiomedCLIP_data_pipeline\\_results\\data\\pubmed_open_access_files\\PMC29086\\1471-2164-1-2.nxml\n",
      "starting...\n",
      "parsed a:\\Vishal\\BiomedCLIP_data_pipeline\\_results\\data\\pubmed_open_access_files\\PMC29086\\1471-2164-1-2.nxml\n",
      "a:\\Vishal\\BiomedCLIP_data_pipeline\\_results\\data\\pubmed_open_access_files\\PMC29087\\1471-2334-1-1.nxml\n",
      "starting...\n",
      "parsed a:\\Vishal\\BiomedCLIP_data_pipeline\\_results\\data\\pubmed_open_access_files\\PMC29087\\1471-2334-1-1.nxml\n",
      "a:\\Vishal\\BiomedCLIP_data_pipeline\\_results\\data\\pubmed_open_access_files\\PMC29088\\1471-2199-1-1.nxml\n",
      "starting...\n",
      "parsed a:\\Vishal\\BiomedCLIP_data_pipeline\\_results\\data\\pubmed_open_access_files\\PMC29088\\1471-2199-1-1.nxml\n",
      "a:\\Vishal\\BiomedCLIP_data_pipeline\\_results\\data\\pubmed_open_access_files\\PMC29089\\1471-2199-1-2.nxml\n",
      "starting...\n",
      "parsed a:\\Vishal\\BiomedCLIP_data_pipeline\\_results\\data\\pubmed_open_access_files\\PMC29089\\1471-2199-1-2.nxml\n",
      "a:\\Vishal\\BiomedCLIP_data_pipeline\\_results\\data\\pubmed_open_access_files\\PMC29090\\1471-2199-2-1.nxml\n",
      "starting...\n",
      "parsed a:\\Vishal\\BiomedCLIP_data_pipeline\\_results\\data\\pubmed_open_access_files\\PMC29090\\1471-2199-2-1.nxml\n",
      "a:\\Vishal\\BiomedCLIP_data_pipeline\\_results\\data\\pubmed_open_access_files\\PMC29091\\1471-2199-2-2.nxml\n",
      "starting...\n",
      "parsed a:\\Vishal\\BiomedCLIP_data_pipeline\\_results\\data\\pubmed_open_access_files\\PMC29091\\1471-2199-2-2.nxml\n",
      "a:\\Vishal\\BiomedCLIP_data_pipeline\\_results\\data\\pubmed_open_access_files\\PMC29092\\1471-2199-2-3.nxml\n",
      "starting...\n",
      "parsed a:\\Vishal\\BiomedCLIP_data_pipeline\\_results\\data\\pubmed_open_access_files\\PMC29092\\1471-2199-2-3.nxml\n",
      "a:\\Vishal\\BiomedCLIP_data_pipeline\\_results\\data\\pubmed_open_access_files\\PMC29093\\1471-2350-1-1.nxml\n",
      "starting...\n",
      "parsed a:\\Vishal\\BiomedCLIP_data_pipeline\\_results\\data\\pubmed_open_access_files\\PMC29093\\1471-2350-1-1.nxml\n",
      "no output\n",
      "a:\\Vishal\\BiomedCLIP_data_pipeline\\_results\\data\\pubmed_open_access_files\\PMC29094\\1471-2350-2-1.nxml\n",
      "starting...\n",
      "parsed a:\\Vishal\\BiomedCLIP_data_pipeline\\_results\\data\\pubmed_open_access_files\\PMC29094\\1471-2350-2-1.nxml\n",
      "no output\n",
      "a:\\Vishal\\BiomedCLIP_data_pipeline\\_results\\data\\pubmed_open_access_files\\PMC29095\\1471-2350-2-2.nxml\n",
      "starting...\n",
      "parsed a:\\Vishal\\BiomedCLIP_data_pipeline\\_results\\data\\pubmed_open_access_files\\PMC29095\\1471-2350-2-2.nxml\n",
      "a:\\Vishal\\BiomedCLIP_data_pipeline\\_results\\data\\pubmed_open_access_files\\PMC29096\\1471-2350-2-3.nxml\n",
      "starting...\n",
      "parsed a:\\Vishal\\BiomedCLIP_data_pipeline\\_results\\data\\pubmed_open_access_files\\PMC29096\\1471-2350-2-3.nxml\n",
      "a:\\Vishal\\BiomedCLIP_data_pipeline\\_results\\data\\pubmed_open_access_files\\PMC29097\\1471-2180-1-1.nxml\n",
      "starting...\n",
      "parsed a:\\Vishal\\BiomedCLIP_data_pipeline\\_results\\data\\pubmed_open_access_files\\PMC29097\\1471-2180-1-1.nxml\n",
      "a:\\Vishal\\BiomedCLIP_data_pipeline\\_results\\data\\pubmed_open_access_files\\PMC29098\\1471-2369-1-1.nxml\n",
      "starting...\n",
      "parsed a:\\Vishal\\BiomedCLIP_data_pipeline\\_results\\data\\pubmed_open_access_files\\PMC29098\\1471-2369-1-1.nxml\n",
      "a:\\Vishal\\BiomedCLIP_data_pipeline\\_results\\data\\pubmed_open_access_files\\PMC29099\\1471-2377-1-1.nxml\n",
      "starting...\n",
      "parsed a:\\Vishal\\BiomedCLIP_data_pipeline\\_results\\data\\pubmed_open_access_files\\PMC29099\\1471-2377-1-1.nxml\n",
      "a:\\Vishal\\BiomedCLIP_data_pipeline\\_results\\data\\pubmed_open_access_files\\PMC29100\\1471-2202-1-1.nxml\n",
      "starting...\n",
      "parsed a:\\Vishal\\BiomedCLIP_data_pipeline\\_results\\data\\pubmed_open_access_files\\PMC29100\\1471-2202-1-1.nxml\n",
      "a:\\Vishal\\BiomedCLIP_data_pipeline\\_results\\data\\pubmed_open_access_files\\PMC29101\\1471-2202-2-1.nxml\n",
      "starting...\n",
      "parsed a:\\Vishal\\BiomedCLIP_data_pipeline\\_results\\data\\pubmed_open_access_files\\PMC29101\\1471-2202-2-1.nxml\n",
      "a:\\Vishal\\BiomedCLIP_data_pipeline\\_results\\data\\pubmed_open_access_files\\PMC29102\\1471-2202-2-2.nxml\n",
      "starting...\n",
      "parsed a:\\Vishal\\BiomedCLIP_data_pipeline\\_results\\data\\pubmed_open_access_files\\PMC29102\\1471-2202-2-2.nxml\n",
      "a:\\Vishal\\BiomedCLIP_data_pipeline\\_results\\data\\pubmed_open_access_files\\PMC29103\\1471-2202-2-3.nxml\n",
      "starting...\n",
      "parsed a:\\Vishal\\BiomedCLIP_data_pipeline\\_results\\data\\pubmed_open_access_files\\PMC29103\\1471-2202-2-3.nxml\n",
      "a:\\Vishal\\BiomedCLIP_data_pipeline\\_results\\data\\pubmed_open_access_files\\PMC29104\\1471-2431-1-1.nxml\n",
      "starting...\n",
      "parsed a:\\Vishal\\BiomedCLIP_data_pipeline\\_results\\data\\pubmed_open_access_files\\PMC29104\\1471-2431-1-1.nxml\n",
      "a:\\Vishal\\BiomedCLIP_data_pipeline\\_results\\data\\pubmed_open_access_files\\PMC29105\\1471-2458-1-1.nxml\n",
      "starting...\n",
      "parsed a:\\Vishal\\BiomedCLIP_data_pipeline\\_results\\data\\pubmed_open_access_files\\PMC29105\\1471-2458-1-1.nxml\n",
      "no output\n",
      "a:\\Vishal\\BiomedCLIP_data_pipeline\\_results\\data\\pubmed_open_access_files\\PMC29106\\1471-2458-1-2.nxml\n",
      "starting...\n",
      "parsed a:\\Vishal\\BiomedCLIP_data_pipeline\\_results\\data\\pubmed_open_access_files\\PMC29106\\1471-2458-1-2.nxml\n",
      "no output\n",
      "a:\\Vishal\\BiomedCLIP_data_pipeline\\_results\\data\\pubmed_open_access_files\\PMC29715\\gke204.nxml\n",
      "starting...\n",
      "parsed a:\\Vishal\\BiomedCLIP_data_pipeline\\_results\\data\\pubmed_open_access_files\\PMC29715\\gke204.nxml\n",
      "a:\\Vishal\\BiomedCLIP_data_pipeline\\_results\\data\\pubmed_open_access_files\\PMC29831\\GKE068.nxml\n",
      "starting...\n",
      "parsed a:\\Vishal\\BiomedCLIP_data_pipeline\\_results\\data\\pubmed_open_access_files\\PMC29831\\GKE068.nxml\n",
      "a:\\Vishal\\BiomedCLIP_data_pipeline\\_results\\data\\pubmed_open_access_files\\PMC30703\\BCR-3-3-192.nxml\n",
      "starting...\n",
      "parsed a:\\Vishal\\BiomedCLIP_data_pipeline\\_results\\data\\pubmed_open_access_files\\PMC30703\\BCR-3-3-192.nxml\n",
      "a:\\Vishal\\BiomedCLIP_data_pipeline\\_results\\data\\pubmed_open_access_files\\PMC30704\\BCR-3-3-199.nxml\n",
      "starting...\n",
      "parsed a:\\Vishal\\BiomedCLIP_data_pipeline\\_results\\data\\pubmed_open_access_files\\PMC30704\\BCR-3-3-199.nxml\n",
      "a:\\Vishal\\BiomedCLIP_data_pipeline\\_results\\data\\pubmed_open_access_files\\PMC30705\\bcr-3-3-183.nxml\n",
      "starting...\n",
      "parsed a:\\Vishal\\BiomedCLIP_data_pipeline\\_results\\data\\pubmed_open_access_files\\PMC30705\\bcr-3-3-183.nxml\n",
      "a:\\Vishal\\BiomedCLIP_data_pipeline\\_results\\data\\pubmed_open_access_files\\PMC30706\\gb-2001-2-3-research0007.nxml\n",
      "starting...\n",
      "parsed a:\\Vishal\\BiomedCLIP_data_pipeline\\_results\\data\\pubmed_open_access_files\\PMC30706\\gb-2001-2-3-research0007.nxml\n",
      "a:\\Vishal\\BiomedCLIP_data_pipeline\\_results\\data\\pubmed_open_access_files\\PMC30707\\gb-2001-2-3-research0008.nxml\n",
      "starting...\n",
      "parsed a:\\Vishal\\BiomedCLIP_data_pipeline\\_results\\data\\pubmed_open_access_files\\PMC30707\\gb-2001-2-3-research0008.nxml\n",
      "a:\\Vishal\\BiomedCLIP_data_pipeline\\_results\\data\\pubmed_open_access_files\\PMC30708\\gb-2001-2-3-research0009.nxml\n",
      "starting...\n",
      "parsed a:\\Vishal\\BiomedCLIP_data_pipeline\\_results\\data\\pubmed_open_access_files\\PMC30708\\gb-2001-2-3-research0009.nxml\n",
      "a:\\Vishal\\BiomedCLIP_data_pipeline\\_results\\data\\pubmed_open_access_files\\PMC30709\\AR-3-3-168.nxml\n",
      "starting...\n",
      "parsed a:\\Vishal\\BiomedCLIP_data_pipeline\\_results\\data\\pubmed_open_access_files\\PMC30709\\AR-3-3-168.nxml\n",
      "a:\\Vishal\\BiomedCLIP_data_pipeline\\_results\\data\\pubmed_open_access_files\\PMC30710\\AR-3-3-178.nxml\n",
      "starting...\n",
      "parsed a:\\Vishal\\BiomedCLIP_data_pipeline\\_results\\data\\pubmed_open_access_files\\PMC30710\\AR-3-3-178.nxml\n",
      "a:\\Vishal\\BiomedCLIP_data_pipeline\\_results\\data\\pubmed_open_access_files\\PMC30711\\AR-3-3-183.nxml\n",
      "starting...\n",
      "parsed a:\\Vishal\\BiomedCLIP_data_pipeline\\_results\\data\\pubmed_open_access_files\\PMC30711\\AR-3-3-183.nxml\n",
      "a:\\Vishal\\BiomedCLIP_data_pipeline\\_results\\data\\pubmed_open_access_files\\PMC30712\\AR-3-3-189.nxml\n",
      "starting...\n",
      "parsed a:\\Vishal\\BiomedCLIP_data_pipeline\\_results\\data\\pubmed_open_access_files\\PMC30712\\AR-3-3-189.nxml\n",
      "a:\\Vishal\\BiomedCLIP_data_pipeline\\_results\\data\\pubmed_open_access_files\\PMC30713\\CC-5-2-081.nxml\n",
      "starting...\n",
      "parsed a:\\Vishal\\BiomedCLIP_data_pipeline\\_results\\data\\pubmed_open_access_files\\PMC30713\\CC-5-2-081.nxml\n",
      "a:\\Vishal\\BiomedCLIP_data_pipeline\\_results\\data\\pubmed_open_access_files\\PMC30714\\CC-5-2-088.nxml\n",
      "starting...\n",
      "parsed a:\\Vishal\\BiomedCLIP_data_pipeline\\_results\\data\\pubmed_open_access_files\\PMC30714\\CC-5-2-088.nxml\n",
      "a:\\Vishal\\BiomedCLIP_data_pipeline\\_results\\data\\pubmed_open_access_files\\PMC30715\\CC-5-2-100.nxml\n",
      "starting...\n",
      "parsed a:\\Vishal\\BiomedCLIP_data_pipeline\\_results\\data\\pubmed_open_access_files\\PMC30715\\CC-5-2-100.nxml\n",
      "a:\\Vishal\\BiomedCLIP_data_pipeline\\_results\\data\\pubmed_open_access_files\\PMC30938\\1471-230X-1-2.nxml\n",
      "starting...\n",
      "parsed a:\\Vishal\\BiomedCLIP_data_pipeline\\_results\\data\\pubmed_open_access_files\\PMC30938\\1471-230X-1-2.nxml\n",
      "no output\n",
      "a:\\Vishal\\BiomedCLIP_data_pipeline\\_results\\data\\pubmed_open_access_files\\PMC30939\\1471-2210-1-1.nxml\n",
      "starting...\n",
      "parsed a:\\Vishal\\BiomedCLIP_data_pipeline\\_results\\data\\pubmed_open_access_files\\PMC30939\\1471-2210-1-1.nxml\n",
      "a:\\Vishal\\BiomedCLIP_data_pipeline\\_results\\data\\pubmed_open_access_files\\PMC31329\\1471-2091-2-1.nxml\n",
      "starting...\n",
      "parsed a:\\Vishal\\BiomedCLIP_data_pipeline\\_results\\data\\pubmed_open_access_files\\PMC31329\\1471-2091-2-1.nxml\n",
      "a:\\Vishal\\BiomedCLIP_data_pipeline\\_results\\data\\pubmed_open_access_files\\PMC31330\\1471-2091-2-2.nxml\n",
      "starting...\n",
      "parsed a:\\Vishal\\BiomedCLIP_data_pipeline\\_results\\data\\pubmed_open_access_files\\PMC31330\\1471-2091-2-2.nxml\n",
      "a:\\Vishal\\BiomedCLIP_data_pipeline\\_results\\data\\pubmed_open_access_files\\PMC31331\\1471-2091-2-3.nxml\n",
      "starting...\n",
      "parsed a:\\Vishal\\BiomedCLIP_data_pipeline\\_results\\data\\pubmed_open_access_files\\PMC31331\\1471-2091-2-3.nxml\n",
      "a:\\Vishal\\BiomedCLIP_data_pipeline\\_results\\data\\pubmed_open_access_files\\PMC31332\\1471-2091-2-4.nxml\n",
      "starting...\n",
      "parsed a:\\Vishal\\BiomedCLIP_data_pipeline\\_results\\data\\pubmed_open_access_files\\PMC31332\\1471-2091-2-4.nxml\n",
      "a:\\Vishal\\BiomedCLIP_data_pipeline\\_results\\data\\pubmed_open_access_files\\PMC31333\\1471-2105-2-1.nxml\n",
      "starting...\n",
      "parsed a:\\Vishal\\BiomedCLIP_data_pipeline\\_results\\data\\pubmed_open_access_files\\PMC31333\\1471-2105-2-1.nxml\n",
      "a:\\Vishal\\BiomedCLIP_data_pipeline\\_results\\data\\pubmed_open_access_files\\PMC31334\\1471-2121-2-5.nxml\n",
      "starting...\n",
      "parsed a:\\Vishal\\BiomedCLIP_data_pipeline\\_results\\data\\pubmed_open_access_files\\PMC31334\\1471-2121-2-5.nxml\n",
      "a:\\Vishal\\BiomedCLIP_data_pipeline\\_results\\data\\pubmed_open_access_files\\PMC31335\\1471-213X-1-1.nxml\n",
      "starting...\n",
      "parsed a:\\Vishal\\BiomedCLIP_data_pipeline\\_results\\data\\pubmed_open_access_files\\PMC31335\\1471-213X-1-1.nxml\n",
      "a:\\Vishal\\BiomedCLIP_data_pipeline\\_results\\data\\pubmed_open_access_files\\PMC31336\\1471-213X-1-2.nxml\n",
      "starting...\n",
      "parsed a:\\Vishal\\BiomedCLIP_data_pipeline\\_results\\data\\pubmed_open_access_files\\PMC31336\\1471-213X-1-2.nxml\n",
      "a:\\Vishal\\BiomedCLIP_data_pipeline\\_results\\data\\pubmed_open_access_files\\PMC31337\\1471-213X-1-3.nxml\n",
      "starting...\n",
      "parsed a:\\Vishal\\BiomedCLIP_data_pipeline\\_results\\data\\pubmed_open_access_files\\PMC31337\\1471-213X-1-3.nxml\n",
      "a:\\Vishal\\BiomedCLIP_data_pipeline\\_results\\data\\pubmed_open_access_files\\PMC31338\\1471-213X-1-4.nxml\n",
      "starting...\n",
      "parsed a:\\Vishal\\BiomedCLIP_data_pipeline\\_results\\data\\pubmed_open_access_files\\PMC31338\\1471-213X-1-4.nxml\n",
      "a:\\Vishal\\BiomedCLIP_data_pipeline\\_results\\data\\pubmed_open_access_files\\PMC31339\\1471-213X-1-5.nxml\n",
      "starting...\n",
      "parsed a:\\Vishal\\BiomedCLIP_data_pipeline\\_results\\data\\pubmed_open_access_files\\PMC31339\\1471-213X-1-5.nxml\n",
      "a:\\Vishal\\BiomedCLIP_data_pipeline\\_results\\data\\pubmed_open_access_files\\PMC31340\\1471-213X-1-6.nxml\n",
      "starting...\n",
      "parsed a:\\Vishal\\BiomedCLIP_data_pipeline\\_results\\data\\pubmed_open_access_files\\PMC31340\\1471-213X-1-6.nxml\n",
      "a:\\Vishal\\BiomedCLIP_data_pipeline\\_results\\data\\pubmed_open_access_files\\PMC31341\\1471-213X-1-7.nxml\n",
      "starting...\n",
      "parsed a:\\Vishal\\BiomedCLIP_data_pipeline\\_results\\data\\pubmed_open_access_files\\PMC31341\\1471-213X-1-7.nxml\n",
      "a:\\Vishal\\BiomedCLIP_data_pipeline\\_results\\data\\pubmed_open_access_files\\PMC31342\\1471-213X-1-8.nxml\n",
      "starting...\n",
      "parsed a:\\Vishal\\BiomedCLIP_data_pipeline\\_results\\data\\pubmed_open_access_files\\PMC31342\\1471-213X-1-8.nxml\n",
      "a:\\Vishal\\BiomedCLIP_data_pipeline\\_results\\data\\pubmed_open_access_files\\PMC31343\\1471-2296-2-1.nxml\n",
      "starting...\n",
      "parsed a:\\Vishal\\BiomedCLIP_data_pipeline\\_results\\data\\pubmed_open_access_files\\PMC31343\\1471-2296-2-1.nxml\n",
      "a:\\Vishal\\BiomedCLIP_data_pipeline\\_results\\data\\pubmed_open_access_files\\PMC31344\\1471-2156-2-5.nxml\n",
      "starting...\n",
      "parsed a:\\Vishal\\BiomedCLIP_data_pipeline\\_results\\data\\pubmed_open_access_files\\PMC31344\\1471-2156-2-5.nxml\n",
      "a:\\Vishal\\BiomedCLIP_data_pipeline\\_results\\data\\pubmed_open_access_files\\PMC31345\\1471-2156-2-6.nxml\n",
      "starting...\n",
      "parsed a:\\Vishal\\BiomedCLIP_data_pipeline\\_results\\data\\pubmed_open_access_files\\PMC31345\\1471-2156-2-6.nxml\n",
      "no output\n",
      "a:\\Vishal\\BiomedCLIP_data_pipeline\\_results\\data\\pubmed_open_access_files\\PMC31346\\1471-2156-2-7.nxml\n",
      "starting...\n",
      "parsed a:\\Vishal\\BiomedCLIP_data_pipeline\\_results\\data\\pubmed_open_access_files\\PMC31346\\1471-2156-2-7.nxml\n",
      "no output\n",
      "a:\\Vishal\\BiomedCLIP_data_pipeline\\_results\\data\\pubmed_open_access_files\\PMC31347\\1471-2172-1-1.nxml\n",
      "starting...\n",
      "parsed a:\\Vishal\\BiomedCLIP_data_pipeline\\_results\\data\\pubmed_open_access_files\\PMC31347\\1471-2172-1-1.nxml\n",
      "a:\\Vishal\\BiomedCLIP_data_pipeline\\_results\\data\\pubmed_open_access_files\\PMC31348\\1471-2172-2-1.nxml\n",
      "starting...\n",
      "parsed a:\\Vishal\\BiomedCLIP_data_pipeline\\_results\\data\\pubmed_open_access_files\\PMC31348\\1471-2172-2-1.nxml\n",
      "a:\\Vishal\\BiomedCLIP_data_pipeline\\_results\\data\\pubmed_open_access_files\\PMC31349\\1471-2172-2-2.nxml\n",
      "starting...\n",
      "parsed a:\\Vishal\\BiomedCLIP_data_pipeline\\_results\\data\\pubmed_open_access_files\\PMC31349\\1471-2172-2-2.nxml\n",
      "a:\\Vishal\\BiomedCLIP_data_pipeline\\_results\\data\\pubmed_open_access_files\\PMC31370\\1471-2199-2-4.nxml\n",
      "starting...\n",
      "parsed a:\\Vishal\\BiomedCLIP_data_pipeline\\_results\\data\\pubmed_open_access_files\\PMC31370\\1471-2199-2-4.nxml\n",
      "a:\\Vishal\\BiomedCLIP_data_pipeline\\_results\\data\\pubmed_open_access_files\\PMC31388\\1471-2350-2-4.nxml\n",
      "starting...\n",
      "parsed a:\\Vishal\\BiomedCLIP_data_pipeline\\_results\\data\\pubmed_open_access_files\\PMC31388\\1471-2350-2-4.nxml\n",
      "a:\\Vishal\\BiomedCLIP_data_pipeline\\_results\\data\\pubmed_open_access_files\\PMC31389\\1471-2350-2-5.nxml\n",
      "starting...\n",
      "parsed a:\\Vishal\\BiomedCLIP_data_pipeline\\_results\\data\\pubmed_open_access_files\\PMC31389\\1471-2350-2-5.nxml\n",
      "a:\\Vishal\\BiomedCLIP_data_pipeline\\_results\\data\\pubmed_open_access_files\\PMC31411\\1471-2180-1-2.nxml\n",
      "starting...\n",
      "parsed a:\\Vishal\\BiomedCLIP_data_pipeline\\_results\\data\\pubmed_open_access_files\\PMC31411\\1471-2180-1-2.nxml\n",
      "a:\\Vishal\\BiomedCLIP_data_pipeline\\_results\\data\\pubmed_open_access_files\\PMC31412\\1471-2180-1-3.nxml\n",
      "starting...\n",
      "parsed a:\\Vishal\\BiomedCLIP_data_pipeline\\_results\\data\\pubmed_open_access_files\\PMC31412\\1471-2180-1-3.nxml\n",
      "a:\\Vishal\\BiomedCLIP_data_pipeline\\_results\\data\\pubmed_open_access_files\\PMC31413\\1471-2180-1-4.nxml\n",
      "starting...\n",
      "parsed a:\\Vishal\\BiomedCLIP_data_pipeline\\_results\\data\\pubmed_open_access_files\\PMC31413\\1471-2180-1-4.nxml\n",
      "a:\\Vishal\\BiomedCLIP_data_pipeline\\_results\\data\\pubmed_open_access_files\\PMC31431\\1471-2202-2-4.nxml\n",
      "starting...\n",
      "parsed a:\\Vishal\\BiomedCLIP_data_pipeline\\_results\\data\\pubmed_open_access_files\\PMC31431\\1471-2202-2-4.nxml\n",
      "a:\\Vishal\\BiomedCLIP_data_pipeline\\_results\\data\\pubmed_open_access_files\\PMC31432\\1471-2202-2-5.nxml\n",
      "starting...\n",
      "parsed a:\\Vishal\\BiomedCLIP_data_pipeline\\_results\\data\\pubmed_open_access_files\\PMC31432\\1471-2202-2-5.nxml\n",
      "a:\\Vishal\\BiomedCLIP_data_pipeline\\_results\\data\\pubmed_open_access_files\\PMC31433\\1471-2202-2-6.nxml\n",
      "starting...\n",
      "parsed a:\\Vishal\\BiomedCLIP_data_pipeline\\_results\\data\\pubmed_open_access_files\\PMC31433\\1471-2202-2-6.nxml\n",
      "a:\\Vishal\\BiomedCLIP_data_pipeline\\_results\\data\\pubmed_open_access_files\\PMC31434\\1471-2415-1-1.nxml\n",
      "starting...\n",
      "parsed a:\\Vishal\\BiomedCLIP_data_pipeline\\_results\\data\\pubmed_open_access_files\\PMC31434\\1471-2415-1-1.nxml\n",
      "a:\\Vishal\\BiomedCLIP_data_pipeline\\_results\\data\\pubmed_open_access_files\\PMC31435\\1471-2458-1-3.nxml\n",
      "starting...\n",
      "parsed a:\\Vishal\\BiomedCLIP_data_pipeline\\_results\\data\\pubmed_open_access_files\\PMC31435\\1471-2458-1-3.nxml\n",
      "a:\\Vishal\\BiomedCLIP_data_pipeline\\_results\\data\\pubmed_open_access_files\\PMC31479\\gb-2001-2-4-research0010.nxml\n",
      "starting...\n",
      "parsed a:\\Vishal\\BiomedCLIP_data_pipeline\\_results\\data\\pubmed_open_access_files\\PMC31479\\gb-2001-2-4-research0010.nxml\n",
      "a:\\Vishal\\BiomedCLIP_data_pipeline\\_results\\data\\pubmed_open_access_files\\PMC31480\\gb-2001-2-4-research0011.nxml\n",
      "starting...\n",
      "parsed a:\\Vishal\\BiomedCLIP_data_pipeline\\_results\\data\\pubmed_open_access_files\\PMC31480\\gb-2001-2-4-research0011.nxml\n",
      "a:\\Vishal\\BiomedCLIP_data_pipeline\\_results\\data\\pubmed_open_access_files\\PMC31481\\gb-2001-2-4-research0012.nxml\n",
      "starting...\n",
      "parsed a:\\Vishal\\BiomedCLIP_data_pipeline\\_results\\data\\pubmed_open_access_files\\PMC31481\\gb-2001-2-4-research0012.nxml\n",
      "a:\\Vishal\\BiomedCLIP_data_pipeline\\_results\\data\\pubmed_open_access_files\\PMC31482\\gb-2001-2-4-research0013.nxml\n",
      "starting...\n",
      "parsed a:\\Vishal\\BiomedCLIP_data_pipeline\\_results\\data\\pubmed_open_access_files\\PMC31482\\gb-2001-2-4-research0013.nxml\n",
      "a:\\Vishal\\BiomedCLIP_data_pipeline\\_results\\data\\pubmed_open_access_files\\PMC31483\\gb-2001-2-4-research0014.nxml\n",
      "starting...\n",
      "parsed a:\\Vishal\\BiomedCLIP_data_pipeline\\_results\\data\\pubmed_open_access_files\\PMC31483\\gb-2001-2-4-research0014.nxml\n",
      "a:\\Vishal\\BiomedCLIP_data_pipeline\\_results\\data\\pubmed_open_access_files\\PMC31577\\1471-2172-2-3.nxml\n",
      "starting...\n",
      "parsed a:\\Vishal\\BiomedCLIP_data_pipeline\\_results\\data\\pubmed_open_access_files\\PMC31577\\1471-2172-2-3.nxml\n",
      "a:\\Vishal\\BiomedCLIP_data_pipeline\\_results\\data\\pubmed_open_access_files\\PMC31578\\CC-5-3-145.nxml\n",
      "starting...\n",
      "parsed a:\\Vishal\\BiomedCLIP_data_pipeline\\_results\\data\\pubmed_open_access_files\\PMC31578\\CC-5-3-145.nxml\n",
      "a:\\Vishal\\BiomedCLIP_data_pipeline\\_results\\data\\pubmed_open_access_files\\PMC31579\\CC-5-3-151.nxml\n",
      "starting...\n",
      "parsed a:\\Vishal\\BiomedCLIP_data_pipeline\\_results\\data\\pubmed_open_access_files\\PMC31579\\CC-5-3-151.nxml\n",
      "no output\n",
      "a:\\Vishal\\BiomedCLIP_data_pipeline\\_results\\data\\pubmed_open_access_files\\PMC31580\\CC-5-3-158.nxml\n",
      "starting...\n",
      "parsed a:\\Vishal\\BiomedCLIP_data_pipeline\\_results\\data\\pubmed_open_access_files\\PMC31580\\CC-5-3-158.nxml\n",
      "a:\\Vishal\\BiomedCLIP_data_pipeline\\_results\\data\\pubmed_open_access_files\\PMC31581\\CC-5-3-167.nxml\n",
      "starting...\n",
      "parsed a:\\Vishal\\BiomedCLIP_data_pipeline\\_results\\data\\pubmed_open_access_files\\PMC31581\\CC-5-3-167.nxml\n",
      "a:\\Vishal\\BiomedCLIP_data_pipeline\\_results\\data\\pubmed_open_access_files\\PMC31582\\CC-5-3-174.nxml\n",
      "starting...\n",
      "parsed a:\\Vishal\\BiomedCLIP_data_pipeline\\_results\\data\\pubmed_open_access_files\\PMC31582\\CC-5-3-174.nxml\n",
      "no output\n",
      "a:\\Vishal\\BiomedCLIP_data_pipeline\\_results\\data\\pubmed_open_access_files\\PMC31918\\gb-2000-1-1-research001.nxml\n",
      "starting...\n",
      "parsed a:\\Vishal\\BiomedCLIP_data_pipeline\\_results\\data\\pubmed_open_access_files\\PMC31918\\gb-2000-1-1-research001.nxml\n",
      "a:\\Vishal\\BiomedCLIP_data_pipeline\\_results\\data\\pubmed_open_access_files\\PMC31919\\gb-2000-1-1-research002.nxml\n",
      "starting...\n",
      "parsed a:\\Vishal\\BiomedCLIP_data_pipeline\\_results\\data\\pubmed_open_access_files\\PMC31919\\gb-2000-1-1-research002.nxml\n",
      "a:\\Vishal\\BiomedCLIP_data_pipeline\\_results\\data\\pubmed_open_access_files\\PMC31925\\1471-2091-2-5.nxml\n",
      "starting...\n",
      "parsed a:\\Vishal\\BiomedCLIP_data_pipeline\\_results\\data\\pubmed_open_access_files\\PMC31925\\1471-2091-2-5.nxml\n",
      "a:\\Vishal\\BiomedCLIP_data_pipeline\\_results\\data\\pubmed_open_access_files\\PMC32158\\1471-2180-1-5.nxml\n",
      "starting...\n",
      "parsed a:\\Vishal\\BiomedCLIP_data_pipeline\\_results\\data\\pubmed_open_access_files\\PMC32158\\1471-2180-1-5.nxml\n",
      "a:\\Vishal\\BiomedCLIP_data_pipeline\\_results\\data\\pubmed_open_access_files\\PMC32159\\1472-6882-1-1.nxml\n",
      "starting...\n",
      "parsed a:\\Vishal\\BiomedCLIP_data_pipeline\\_results\\data\\pubmed_open_access_files\\PMC32159\\1472-6882-1-1.nxml\n",
      "no output\n",
      "a:\\Vishal\\BiomedCLIP_data_pipeline\\_results\\data\\pubmed_open_access_files\\PMC32160\\1472-6750-1-1.nxml\n",
      "starting...\n",
      "parsed a:\\Vishal\\BiomedCLIP_data_pipeline\\_results\\data\\pubmed_open_access_files\\PMC32160\\1472-6750-1-1.nxml\n",
      "no output\n",
      "a:\\Vishal\\BiomedCLIP_data_pipeline\\_results\\data\\pubmed_open_access_files\\PMC32162\\1471-2326-1-1.nxml\n",
      "starting...\n",
      "parsed a:\\Vishal\\BiomedCLIP_data_pipeline\\_results\\data\\pubmed_open_access_files\\PMC32162\\1471-2326-1-1.nxml\n",
      "a:\\Vishal\\BiomedCLIP_data_pipeline\\_results\\data\\pubmed_open_access_files\\PMC32163\\1471-2326-1-2.nxml\n",
      "starting...\n",
      "parsed a:\\Vishal\\BiomedCLIP_data_pipeline\\_results\\data\\pubmed_open_access_files\\PMC32163\\1471-2326-1-2.nxml\n",
      "no output\n",
      "a:\\Vishal\\BiomedCLIP_data_pipeline\\_results\\data\\pubmed_open_access_files\\PMC32169\\1471-2407-1-1.nxml\n",
      "starting...\n",
      "parsed a:\\Vishal\\BiomedCLIP_data_pipeline\\_results\\data\\pubmed_open_access_files\\PMC32169\\1471-2407-1-1.nxml\n",
      "a:\\Vishal\\BiomedCLIP_data_pipeline\\_results\\data\\pubmed_open_access_files\\PMC32170\\1471-2407-1-2.nxml\n",
      "starting...\n",
      "parsed a:\\Vishal\\BiomedCLIP_data_pipeline\\_results\\data\\pubmed_open_access_files\\PMC32170\\1471-2407-1-2.nxml\n",
      "a:\\Vishal\\BiomedCLIP_data_pipeline\\_results\\data\\pubmed_open_access_files\\PMC32171\\1471-2407-1-3.nxml\n",
      "starting...\n",
      "parsed a:\\Vishal\\BiomedCLIP_data_pipeline\\_results\\data\\pubmed_open_access_files\\PMC32171\\1471-2407-1-3.nxml\n",
      "a:\\Vishal\\BiomedCLIP_data_pipeline\\_results\\data\\pubmed_open_access_files\\PMC32172\\1472-6904-1-1.nxml\n",
      "starting...\n",
      "parsed a:\\Vishal\\BiomedCLIP_data_pipeline\\_results\\data\\pubmed_open_access_files\\PMC32172\\1472-6904-1-1.nxml\n",
      "no output\n",
      "a:\\Vishal\\BiomedCLIP_data_pipeline\\_results\\data\\pubmed_open_access_files\\PMC32173\\1472-6904-1-2.nxml\n",
      "starting...\n",
      "parsed a:\\Vishal\\BiomedCLIP_data_pipeline\\_results\\data\\pubmed_open_access_files\\PMC32173\\1472-6904-1-2.nxml\n",
      "no output\n",
      "a:\\Vishal\\BiomedCLIP_data_pipeline\\_results\\data\\pubmed_open_access_files\\PMC32174\\1472-6963-1-1.nxml\n",
      "starting...\n",
      "parsed a:\\Vishal\\BiomedCLIP_data_pipeline\\_results\\data\\pubmed_open_access_files\\PMC32174\\1472-6963-1-1.nxml\n",
      "no output\n",
      "a:\\Vishal\\BiomedCLIP_data_pipeline\\_results\\data\\pubmed_open_access_files\\PMC32176\\1472-6963-1-3.nxml\n",
      "starting...\n",
      "parsed a:\\Vishal\\BiomedCLIP_data_pipeline\\_results\\data\\pubmed_open_access_files\\PMC32176\\1472-6963-1-3.nxml\n",
      "no output\n",
      "a:\\Vishal\\BiomedCLIP_data_pipeline\\_results\\data\\pubmed_open_access_files\\PMC32177\\1472-6920-1-1.nxml\n",
      "starting...\n",
      "parsed a:\\Vishal\\BiomedCLIP_data_pipeline\\_results\\data\\pubmed_open_access_files\\PMC32177\\1472-6920-1-1.nxml\n",
      "no output\n",
      "a:\\Vishal\\BiomedCLIP_data_pipeline\\_results\\data\\pubmed_open_access_files\\PMC32178\\1472-6947-1-1.nxml\n",
      "starting...\n",
      "parsed a:\\Vishal\\BiomedCLIP_data_pipeline\\_results\\data\\pubmed_open_access_files\\PMC32178\\1472-6947-1-1.nxml\n",
      "no output\n",
      "a:\\Vishal\\BiomedCLIP_data_pipeline\\_results\\data\\pubmed_open_access_files\\PMC32179\\1471-2482-1-1.nxml\n",
      "starting...\n",
      "parsed a:\\Vishal\\BiomedCLIP_data_pipeline\\_results\\data\\pubmed_open_access_files\\PMC32179\\1471-2482-1-1.nxml\n",
      "a:\\Vishal\\BiomedCLIP_data_pipeline\\_results\\data\\pubmed_open_access_files\\PMC32180\\1472-6793-1-1.nxml\n",
      "starting...\n",
      "parsed a:\\Vishal\\BiomedCLIP_data_pipeline\\_results\\data\\pubmed_open_access_files\\PMC32180\\1472-6793-1-1.nxml\n",
      "a:\\Vishal\\BiomedCLIP_data_pipeline\\_results\\data\\pubmed_open_access_files\\PMC32181\\1472-6793-1-2.nxml\n",
      "starting...\n",
      "parsed a:\\Vishal\\BiomedCLIP_data_pipeline\\_results\\data\\pubmed_open_access_files\\PMC32181\\1472-6793-1-2.nxml\n",
      "a:\\Vishal\\BiomedCLIP_data_pipeline\\_results\\data\\pubmed_open_access_files\\PMC32182\\1472-6793-1-3.nxml\n",
      "starting...\n",
      "parsed a:\\Vishal\\BiomedCLIP_data_pipeline\\_results\\data\\pubmed_open_access_files\\PMC32182\\1472-6793-1-3.nxml\n",
      "a:\\Vishal\\BiomedCLIP_data_pipeline\\_results\\data\\pubmed_open_access_files\\PMC32183\\1472-6793-1-4.nxml\n",
      "starting...\n",
      "parsed a:\\Vishal\\BiomedCLIP_data_pipeline\\_results\\data\\pubmed_open_access_files\\PMC32183\\1472-6793-1-4.nxml\n",
      "a:\\Vishal\\BiomedCLIP_data_pipeline\\_results\\data\\pubmed_open_access_files\\PMC32187\\gb-2001-2-5-research0015.nxml\n",
      "starting...\n",
      "parsed a:\\Vishal\\BiomedCLIP_data_pipeline\\_results\\data\\pubmed_open_access_files\\PMC32187\\gb-2001-2-5-research0015.nxml\n",
      "a:\\Vishal\\BiomedCLIP_data_pipeline\\_results\\data\\pubmed_open_access_files\\PMC32188\\gb-2001-2-5-research0016.nxml\n",
      "starting...\n",
      "parsed a:\\Vishal\\BiomedCLIP_data_pipeline\\_results\\data\\pubmed_open_access_files\\PMC32188\\gb-2001-2-5-research0016.nxml\n",
      "a:\\Vishal\\BiomedCLIP_data_pipeline\\_results\\data\\pubmed_open_access_files\\PMC32189\\gb-2001-2-5-research0017.nxml\n",
      "starting...\n",
      "parsed a:\\Vishal\\BiomedCLIP_data_pipeline\\_results\\data\\pubmed_open_access_files\\PMC32189\\gb-2001-2-5-research0017.nxml\n",
      "a:\\Vishal\\BiomedCLIP_data_pipeline\\_results\\data\\pubmed_open_access_files\\PMC32190\\1471-2369-2-1.nxml\n",
      "starting...\n",
      "parsed a:\\Vishal\\BiomedCLIP_data_pipeline\\_results\\data\\pubmed_open_access_files\\PMC32190\\1471-2369-2-1.nxml\n",
      "a:\\Vishal\\BiomedCLIP_data_pipeline\\_results\\data\\pubmed_open_access_files\\PMC32191\\1471-2458-1-4.nxml\n",
      "starting...\n",
      "parsed a:\\Vishal\\BiomedCLIP_data_pipeline\\_results\\data\\pubmed_open_access_files\\PMC32191\\1471-2458-1-4.nxml\n",
      "no output\n",
      "a:\\Vishal\\BiomedCLIP_data_pipeline\\_results\\data\\pubmed_open_access_files\\PMC32192\\1472-6939-1-1.nxml\n",
      "starting...\n",
      "parsed a:\\Vishal\\BiomedCLIP_data_pipeline\\_results\\data\\pubmed_open_access_files\\PMC32192\\1472-6939-1-1.nxml\n",
      "no output\n",
      "a:\\Vishal\\BiomedCLIP_data_pipeline\\_results\\data\\pubmed_open_access_files\\PMC32193\\1472-6939-2-1.nxml\n",
      "starting...\n",
      "parsed a:\\Vishal\\BiomedCLIP_data_pipeline\\_results\\data\\pubmed_open_access_files\\PMC32193\\1472-6939-2-1.nxml\n",
      "no output\n",
      "a:\\Vishal\\BiomedCLIP_data_pipeline\\_results\\data\\pubmed_open_access_files\\PMC32194\\1472-6939-2-2.nxml\n",
      "starting...\n",
      "parsed a:\\Vishal\\BiomedCLIP_data_pipeline\\_results\\data\\pubmed_open_access_files\\PMC32194\\1472-6939-2-2.nxml\n",
      "no output\n",
      "a:\\Vishal\\BiomedCLIP_data_pipeline\\_results\\data\\pubmed_open_access_files\\PMC32195\\1472-6939-2-3.nxml\n",
      "starting...\n",
      "parsed a:\\Vishal\\BiomedCLIP_data_pipeline\\_results\\data\\pubmed_open_access_files\\PMC32195\\1472-6939-2-3.nxml\n",
      "no output\n",
      "a:\\Vishal\\BiomedCLIP_data_pipeline\\_results\\data\\pubmed_open_access_files\\PMC32196\\1471-2407-1-4.nxml\n",
      "starting...\n",
      "parsed a:\\Vishal\\BiomedCLIP_data_pipeline\\_results\\data\\pubmed_open_access_files\\PMC32196\\1471-2407-1-4.nxml\n",
      "a:\\Vishal\\BiomedCLIP_data_pipeline\\_results\\data\\pubmed_open_access_files\\PMC32197\\1471-2121-2-6.nxml\n",
      "starting...\n",
      "parsed a:\\Vishal\\BiomedCLIP_data_pipeline\\_results\\data\\pubmed_open_access_files\\PMC32197\\1471-2121-2-6.nxml\n",
      "a:\\Vishal\\BiomedCLIP_data_pipeline\\_results\\data\\pubmed_open_access_files\\PMC32198\\1471-2202-2-7.nxml\n",
      "starting...\n",
      "parsed a:\\Vishal\\BiomedCLIP_data_pipeline\\_results\\data\\pubmed_open_access_files\\PMC32198\\1471-2202-2-7.nxml\n",
      "a:\\Vishal\\BiomedCLIP_data_pipeline\\_results\\data\\pubmed_open_access_files\\PMC32199\\1471-2180-1-6.nxml\n",
      "starting...\n",
      "parsed a:\\Vishal\\BiomedCLIP_data_pipeline\\_results\\data\\pubmed_open_access_files\\PMC32199\\1471-2180-1-6.nxml\n",
      "a:\\Vishal\\BiomedCLIP_data_pipeline\\_results\\data\\pubmed_open_access_files\\PMC32200\\1471-2288-1-1.nxml\n",
      "starting...\n",
      "parsed a:\\Vishal\\BiomedCLIP_data_pipeline\\_results\\data\\pubmed_open_access_files\\PMC32200\\1471-2288-1-1.nxml\n",
      "a:\\Vishal\\BiomedCLIP_data_pipeline\\_results\\data\\pubmed_open_access_files\\PMC32201\\1471-2288-1-2.nxml\n",
      "starting...\n",
      "parsed a:\\Vishal\\BiomedCLIP_data_pipeline\\_results\\data\\pubmed_open_access_files\\PMC32201\\1471-2288-1-2.nxml\n",
      "a:\\Vishal\\BiomedCLIP_data_pipeline\\_results\\data\\pubmed_open_access_files\\PMC32203\\1471-2474-1-1.nxml\n",
      "starting...\n",
      "parsed a:\\Vishal\\BiomedCLIP_data_pipeline\\_results\\data\\pubmed_open_access_files\\PMC32203\\1471-2474-1-1.nxml\n",
      "a:\\Vishal\\BiomedCLIP_data_pipeline\\_results\\data\\pubmed_open_access_files\\PMC32204\\1471-2474-2-1.nxml\n",
      "starting...\n",
      "parsed a:\\Vishal\\BiomedCLIP_data_pipeline\\_results\\data\\pubmed_open_access_files\\PMC32204\\1471-2474-2-1.nxml\n",
      "no output\n",
      "a:\\Vishal\\BiomedCLIP_data_pipeline\\_results\\data\\pubmed_open_access_files\\PMC32205\\1471-2393-1-1.nxml\n",
      "starting...\n",
      "parsed a:\\Vishal\\BiomedCLIP_data_pipeline\\_results\\data\\pubmed_open_access_files\\PMC32205\\1471-2393-1-1.nxml\n",
      "no output\n",
      "a:\\Vishal\\BiomedCLIP_data_pipeline\\_results\\data\\pubmed_open_access_files\\PMC32206\\1472-6785-1-1.nxml\n",
      "starting...\n",
      "parsed a:\\Vishal\\BiomedCLIP_data_pipeline\\_results\\data\\pubmed_open_access_files\\PMC32206\\1472-6785-1-1.nxml\n",
      "a:\\Vishal\\BiomedCLIP_data_pipeline\\_results\\data\\pubmed_open_access_files\\PMC32207\\1471-2199-2-5.nxml\n",
      "starting...\n",
      "parsed a:\\Vishal\\BiomedCLIP_data_pipeline\\_results\\data\\pubmed_open_access_files\\PMC32207\\1471-2199-2-5.nxml\n",
      "a:\\Vishal\\BiomedCLIP_data_pipeline\\_results\\data\\pubmed_open_access_files\\PMC32208\\1471-2334-1-2.nxml\n",
      "starting...\n",
      "parsed a:\\Vishal\\BiomedCLIP_data_pipeline\\_results\\data\\pubmed_open_access_files\\PMC32208\\1471-2334-1-2.nxml\n",
      "a:\\Vishal\\BiomedCLIP_data_pipeline\\_results\\data\\pubmed_open_access_files\\PMC32247\\1471-230X-1-3.nxml\n",
      "starting...\n",
      "parsed a:\\Vishal\\BiomedCLIP_data_pipeline\\_results\\data\\pubmed_open_access_files\\PMC32247\\1471-230X-1-3.nxml\n",
      "no output\n",
      "a:\\Vishal\\BiomedCLIP_data_pipeline\\_results\\data\\pubmed_open_access_files\\PMC32248\\1471-2180-1-7.nxml\n",
      "starting...\n",
      "parsed a:\\Vishal\\BiomedCLIP_data_pipeline\\_results\\data\\pubmed_open_access_files\\PMC32248\\1471-2180-1-7.nxml\n",
      "a:\\Vishal\\BiomedCLIP_data_pipeline\\_results\\data\\pubmed_open_access_files\\PMC32249\\1471-213X-1-9.nxml\n",
      "starting...\n",
      "parsed a:\\Vishal\\BiomedCLIP_data_pipeline\\_results\\data\\pubmed_open_access_files\\PMC32249\\1471-213X-1-9.nxml\n",
      "a:\\Vishal\\BiomedCLIP_data_pipeline\\_results\\data\\pubmed_open_access_files\\PMC32250\\1471-2350-2-6.nxml\n",
      "starting...\n",
      "parsed a:\\Vishal\\BiomedCLIP_data_pipeline\\_results\\data\\pubmed_open_access_files\\PMC32250\\1471-2350-2-6.nxml\n",
      "a:\\Vishal\\BiomedCLIP_data_pipeline\\_results\\data\\pubmed_open_access_files\\PMC32296\\1471-2202-2-8.nxml\n",
      "starting...\n",
      "parsed a:\\Vishal\\BiomedCLIP_data_pipeline\\_results\\data\\pubmed_open_access_files\\PMC32296\\1471-2202-2-8.nxml\n",
      "a:\\Vishal\\BiomedCLIP_data_pipeline\\_results\\data\\pubmed_open_access_files\\PMC32297\\1471-2202-2-9.nxml\n",
      "starting...\n",
      "parsed a:\\Vishal\\BiomedCLIP_data_pipeline\\_results\\data\\pubmed_open_access_files\\PMC32297\\1471-2202-2-9.nxml\n",
      "a:\\Vishal\\BiomedCLIP_data_pipeline\\_results\\data\\pubmed_open_access_files\\PMC32298\\1472-6750-1-2.nxml\n",
      "starting...\n",
      "parsed a:\\Vishal\\BiomedCLIP_data_pipeline\\_results\\data\\pubmed_open_access_files\\PMC32298\\1472-6750-1-2.nxml\n",
      "no output\n",
      "a:\\Vishal\\BiomedCLIP_data_pipeline\\_results\\data\\pubmed_open_access_files\\PMC32299\\1471-2121-2-7.nxml\n",
      "starting...\n",
      "parsed a:\\Vishal\\BiomedCLIP_data_pipeline\\_results\\data\\pubmed_open_access_files\\PMC32299\\1471-2121-2-7.nxml\n",
      "a:\\Vishal\\BiomedCLIP_data_pipeline\\_results\\data\\pubmed_open_access_files\\PMC32300\\1471-2121-2-8.nxml\n",
      "starting...\n",
      "parsed a:\\Vishal\\BiomedCLIP_data_pipeline\\_results\\data\\pubmed_open_access_files\\PMC32300\\1471-2121-2-8.nxml\n",
      "a:\\Vishal\\BiomedCLIP_data_pipeline\\_results\\data\\pubmed_open_access_files\\PMC32301\\1471-2334-1-3.nxml\n",
      "starting...\n",
      "parsed a:\\Vishal\\BiomedCLIP_data_pipeline\\_results\\data\\pubmed_open_access_files\\PMC32301\\1471-2334-1-3.nxml\n",
      "a:\\Vishal\\BiomedCLIP_data_pipeline\\_results\\data\\pubmed_open_access_files\\PMC32302\\1472-6963-1-4.nxml\n",
      "starting...\n",
      "parsed a:\\Vishal\\BiomedCLIP_data_pipeline\\_results\\data\\pubmed_open_access_files\\PMC32302\\1472-6963-1-4.nxml\n",
      "a:\\Vishal\\BiomedCLIP_data_pipeline\\_results\\data\\pubmed_open_access_files\\PMC32303\\1471-2288-1-3.nxml\n",
      "starting...\n",
      "parsed a:\\Vishal\\BiomedCLIP_data_pipeline\\_results\\data\\pubmed_open_access_files\\PMC32303\\1471-2288-1-3.nxml\n",
      "no output\n",
      "a:\\Vishal\\BiomedCLIP_data_pipeline\\_results\\data\\pubmed_open_access_files\\PMC32304\\1472-6807-1-1.nxml\n",
      "starting...\n",
      "parsed a:\\Vishal\\BiomedCLIP_data_pipeline\\_results\\data\\pubmed_open_access_files\\PMC32304\\1472-6807-1-1.nxml\n",
      "a:\\Vishal\\BiomedCLIP_data_pipeline\\_results\\data\\pubmed_open_access_files\\PMC32305\\1472-6882-1-2.nxml\n",
      "starting...\n",
      "parsed a:\\Vishal\\BiomedCLIP_data_pipeline\\_results\\data\\pubmed_open_access_files\\PMC32305\\1472-6882-1-2.nxml\n",
      "a:\\Vishal\\BiomedCLIP_data_pipeline\\_results\\data\\pubmed_open_access_files\\PMC32311\\1471-244X-1-1.nxml\n",
      "starting...\n",
      "parsed a:\\Vishal\\BiomedCLIP_data_pipeline\\_results\\data\\pubmed_open_access_files\\PMC32311\\1471-244X-1-1.nxml\n",
      "no output\n",
      "a:\\Vishal\\BiomedCLIP_data_pipeline\\_results\\data\\pubmed_open_access_files\\PMC32312\\1471-244X-1-2.nxml\n",
      "starting...\n",
      "parsed a:\\Vishal\\BiomedCLIP_data_pipeline\\_results\\data\\pubmed_open_access_files\\PMC32312\\1471-244X-1-2.nxml\n",
      "a:\\Vishal\\BiomedCLIP_data_pipeline\\_results\\data\\pubmed_open_access_files\\PMC32313\\1471-2172-2-4.nxml\n",
      "starting...\n",
      "parsed a:\\Vishal\\BiomedCLIP_data_pipeline\\_results\\data\\pubmed_open_access_files\\PMC32313\\1471-2172-2-4.nxml\n",
      "a:\\Vishal\\BiomedCLIP_data_pipeline\\_results\\data\\pubmed_open_access_files\\PMC32314\\1471-2377-1-2.nxml\n",
      "starting...\n",
      "parsed a:\\Vishal\\BiomedCLIP_data_pipeline\\_results\\data\\pubmed_open_access_files\\PMC32314\\1471-2377-1-2.nxml\n",
      "a:\\Vishal\\BiomedCLIP_data_pipeline\\_results\\data\\pubmed_open_access_files\\PMC33341\\1471-2121-2-9.nxml\n",
      "starting...\n",
      "parsed a:\\Vishal\\BiomedCLIP_data_pipeline\\_results\\data\\pubmed_open_access_files\\PMC33341\\1471-2121-2-9.nxml\n",
      "a:\\Vishal\\BiomedCLIP_data_pipeline\\_results\\data\\pubmed_open_access_files\\PMC33342\\1472-6874-1-1.nxml\n",
      "starting...\n",
      "parsed a:\\Vishal\\BiomedCLIP_data_pipeline\\_results\\data\\pubmed_open_access_files\\PMC33342\\1472-6874-1-1.nxml\n",
      "no output\n",
      "a:\\Vishal\\BiomedCLIP_data_pipeline\\_results\\data\\pubmed_open_access_files\\PMC33343\\1471-230X-1-4.nxml\n",
      "starting...\n",
      "parsed a:\\Vishal\\BiomedCLIP_data_pipeline\\_results\\data\\pubmed_open_access_files\\PMC33343\\1471-230X-1-4.nxml\n",
      "no output\n",
      "a:\\Vishal\\BiomedCLIP_data_pipeline\\_results\\data\\pubmed_open_access_files\\PMC33344\\1472-6769-1-1.nxml\n",
      "starting...\n",
      "parsed a:\\Vishal\\BiomedCLIP_data_pipeline\\_results\\data\\pubmed_open_access_files\\PMC33344\\1472-6769-1-1.nxml\n",
      "a:\\Vishal\\BiomedCLIP_data_pipeline\\_results\\data\\pubmed_open_access_files\\PMC33392\\1471-2164-2-1.nxml\n",
      "starting...\n",
      "parsed a:\\Vishal\\BiomedCLIP_data_pipeline\\_results\\data\\pubmed_open_access_files\\PMC33392\\1471-2164-2-1.nxml\n",
      "a:\\Vishal\\BiomedCLIP_data_pipeline\\_results\\data\\pubmed_open_access_files\\PMC33393\\1471-2288-1-4.nxml\n",
      "starting...\n",
      "parsed a:\\Vishal\\BiomedCLIP_data_pipeline\\_results\\data\\pubmed_open_access_files\\PMC33393\\1471-2288-1-4.nxml\n",
      "a:\\Vishal\\BiomedCLIP_data_pipeline\\_results\\data\\pubmed_open_access_files\\PMC33394\\gb-2001-2-6-research0018.nxml\n",
      "starting...\n",
      "parsed a:\\Vishal\\BiomedCLIP_data_pipeline\\_results\\data\\pubmed_open_access_files\\PMC33394\\gb-2001-2-6-research0018.nxml\n",
      "a:\\Vishal\\BiomedCLIP_data_pipeline\\_results\\data\\pubmed_open_access_files\\PMC33395\\gb-2001-2-6-research0019.nxml\n",
      "starting...\n",
      "parsed a:\\Vishal\\BiomedCLIP_data_pipeline\\_results\\data\\pubmed_open_access_files\\PMC33395\\gb-2001-2-6-research0019.nxml\n",
      "a:\\Vishal\\BiomedCLIP_data_pipeline\\_results\\data\\pubmed_open_access_files\\PMC33396\\gb-2001-2-6-research0020.nxml\n",
      "starting...\n",
      "parsed a:\\Vishal\\BiomedCLIP_data_pipeline\\_results\\data\\pubmed_open_access_files\\PMC33396\\gb-2001-2-6-research0020.nxml\n",
      "a:\\Vishal\\BiomedCLIP_data_pipeline\\_results\\data\\pubmed_open_access_files\\PMC33397\\gb-2001-2-6-research0021.nxml\n",
      "starting...\n",
      "parsed a:\\Vishal\\BiomedCLIP_data_pipeline\\_results\\data\\pubmed_open_access_files\\PMC33397\\gb-2001-2-6-research0021.nxml\n",
      "a:\\Vishal\\BiomedCLIP_data_pipeline\\_results\\data\\pubmed_open_access_files\\PMC33398\\1471-2121-2-10.nxml\n",
      "starting...\n",
      "parsed a:\\Vishal\\BiomedCLIP_data_pipeline\\_results\\data\\pubmed_open_access_files\\PMC33398\\1471-2121-2-10.nxml\n",
      "a:\\Vishal\\BiomedCLIP_data_pipeline\\_results\\data\\pubmed_open_access_files\\PMC33506\\1471-227X-1-1.nxml\n",
      "starting...\n",
      "Exception: local variable 'caption' referenced before assignment path: a:\\Vishal\\BiomedCLIP_data_pipeline\\_results\\data\\pubmed_open_access_files\\PMC33506\\1471-227X-1-1.nxml\n",
      "a:\\Vishal\\BiomedCLIP_data_pipeline\\_results\\data\\pubmed_open_access_files\\PMC33507\\1471-2334-1-4.nxml\n",
      "starting...\n",
      "parsed a:\\Vishal\\BiomedCLIP_data_pipeline\\_results\\data\\pubmed_open_access_files\\PMC33507\\1471-2334-1-4.nxml\n",
      "a:\\Vishal\\BiomedCLIP_data_pipeline\\_results\\data\\pubmed_open_access_files\\PMC33517\\1471-213X-1-10.nxml\n",
      "starting...\n",
      "parsed a:\\Vishal\\BiomedCLIP_data_pipeline\\_results\\data\\pubmed_open_access_files\\PMC33517\\1471-213X-1-10.nxml\n",
      "a:\\Vishal\\BiomedCLIP_data_pipeline\\_results\\data\\pubmed_open_access_files\\PMC33518\\1472-6963-1-2.nxml\n",
      "starting...\n",
      "parsed a:\\Vishal\\BiomedCLIP_data_pipeline\\_results\\data\\pubmed_open_access_files\\PMC33518\\1472-6963-1-2.nxml\n",
      "a:\\Vishal\\BiomedCLIP_data_pipeline\\_results\\data\\pubmed_open_access_files\\PMC33820\\1471-2172-2-5.nxml\n",
      "starting...\n",
      "parsed a:\\Vishal\\BiomedCLIP_data_pipeline\\_results\\data\\pubmed_open_access_files\\PMC33820\\1471-2172-2-5.nxml\n",
      "a:\\Vishal\\BiomedCLIP_data_pipeline\\_results\\data\\pubmed_open_access_files\\PMC34096\\1471-2407-1-5.nxml\n",
      "starting...\n",
      "parsed a:\\Vishal\\BiomedCLIP_data_pipeline\\_results\\data\\pubmed_open_access_files\\PMC34096\\1471-2407-1-5.nxml\n",
      "a:\\Vishal\\BiomedCLIP_data_pipeline\\_results\\data\\pubmed_open_access_files\\PMC34102\\1472-6890-1-1.nxml\n",
      "starting...\n",
      "parsed a:\\Vishal\\BiomedCLIP_data_pipeline\\_results\\data\\pubmed_open_access_files\\PMC34102\\1472-6890-1-1.nxml\n",
      "a:\\Vishal\\BiomedCLIP_data_pipeline\\_results\\data\\pubmed_open_access_files\\PMC34107\\1471-2288-1-5.nxml\n",
      "starting...\n",
      "parsed a:\\Vishal\\BiomedCLIP_data_pipeline\\_results\\data\\pubmed_open_access_files\\PMC34107\\1471-2288-1-5.nxml\n",
      "a:\\Vishal\\BiomedCLIP_data_pipeline\\_results\\data\\pubmed_open_access_files\\PMC34108\\1472-6793-1-5.nxml\n",
      "starting...\n",
      "parsed a:\\Vishal\\BiomedCLIP_data_pipeline\\_results\\data\\pubmed_open_access_files\\PMC34108\\1472-6793-1-5.nxml\n",
      "a:\\Vishal\\BiomedCLIP_data_pipeline\\_results\\data\\pubmed_open_access_files\\PMC34109\\BCR-3-4-253.nxml\n",
      "starting...\n",
      "parsed a:\\Vishal\\BiomedCLIP_data_pipeline\\_results\\data\\pubmed_open_access_files\\PMC34109\\BCR-3-4-253.nxml\n",
      "a:\\Vishal\\BiomedCLIP_data_pipeline\\_results\\data\\pubmed_open_access_files\\PMC34110\\BCR-3-4-264.nxml\n",
      "starting...\n",
      "parsed a:\\Vishal\\BiomedCLIP_data_pipeline\\_results\\data\\pubmed_open_access_files\\PMC34110\\BCR-3-4-264.nxml\n",
      "no output\n",
      "a:\\Vishal\\BiomedCLIP_data_pipeline\\_results\\data\\pubmed_open_access_files\\PMC34111\\BCR-3-4-270.nxml\n",
      "starting...\n",
      "parsed a:\\Vishal\\BiomedCLIP_data_pipeline\\_results\\data\\pubmed_open_access_files\\PMC34111\\BCR-3-4-270.nxml\n",
      "no output\n",
      "a:\\Vishal\\BiomedCLIP_data_pipeline\\_results\\data\\pubmed_open_access_files\\PMC34112\\BCR-3-4-276.nxml\n",
      "starting...\n",
      "parsed a:\\Vishal\\BiomedCLIP_data_pipeline\\_results\\data\\pubmed_open_access_files\\PMC34112\\BCR-3-4-276.nxml\n",
      "a:\\Vishal\\BiomedCLIP_data_pipeline\\_results\\data\\pubmed_open_access_files\\PMC34113\\AR-3-4-242.nxml\n",
      "starting...\n",
      "parsed a:\\Vishal\\BiomedCLIP_data_pipeline\\_results\\data\\pubmed_open_access_files\\PMC34113\\AR-3-4-242.nxml\n",
      "a:\\Vishal\\BiomedCLIP_data_pipeline\\_results\\data\\pubmed_open_access_files\\PMC34114\\AR-3-4-247.nxml\n",
      "starting...\n",
      "parsed a:\\Vishal\\BiomedCLIP_data_pipeline\\_results\\data\\pubmed_open_access_files\\PMC34114\\AR-3-4-247.nxml\n",
      "a:\\Vishal\\BiomedCLIP_data_pipeline\\_results\\data\\pubmed_open_access_files\\PMC34115\\AR-3-4-253.nxml\n",
      "starting...\n",
      "parsed a:\\Vishal\\BiomedCLIP_data_pipeline\\_results\\data\\pubmed_open_access_files\\PMC34115\\AR-3-4-253.nxml\n",
      "a:\\Vishal\\BiomedCLIP_data_pipeline\\_results\\data\\pubmed_open_access_files\\PMC34116\\AR-3-4-259.nxml\n",
      "starting...\n",
      "parsed a:\\Vishal\\BiomedCLIP_data_pipeline\\_results\\data\\pubmed_open_access_files\\PMC34116\\AR-3-4-259.nxml\n",
      "a:\\Vishal\\BiomedCLIP_data_pipeline\\_results\\data\\pubmed_open_access_files\\PMC34117\\1471-213X-1-11.nxml\n",
      "starting...\n",
      "parsed a:\\Vishal\\BiomedCLIP_data_pipeline\\_results\\data\\pubmed_open_access_files\\PMC34117\\1471-213X-1-11.nxml\n",
      "a:\\Vishal\\BiomedCLIP_data_pipeline\\_results\\data\\pubmed_open_access_files\\PMC34514\\1471-2350-2-7.nxml\n",
      "starting...\n",
      "parsed a:\\Vishal\\BiomedCLIP_data_pipeline\\_results\\data\\pubmed_open_access_files\\PMC34514\\1471-2350-2-7.nxml\n",
      "no output\n",
      "a:\\Vishal\\BiomedCLIP_data_pipeline\\_results\\data\\pubmed_open_access_files\\PMC34515\\1471-5945-1-1.nxml\n",
      "starting...\n",
      "parsed a:\\Vishal\\BiomedCLIP_data_pipeline\\_results\\data\\pubmed_open_access_files\\PMC34515\\1471-5945-1-1.nxml\n",
      "a:\\Vishal\\BiomedCLIP_data_pipeline\\_results\\data\\pubmed_open_access_files\\PMC34516\\1471-2261-1-1.nxml\n",
      "starting...\n",
      "parsed a:\\Vishal\\BiomedCLIP_data_pipeline\\_results\\data\\pubmed_open_access_files\\PMC34516\\1471-2261-1-1.nxml\n",
      "a:\\Vishal\\BiomedCLIP_data_pipeline\\_results\\data\\pubmed_open_access_files\\PMC34519\\1471-2458-1-5.nxml\n",
      "starting...\n",
      "parsed a:\\Vishal\\BiomedCLIP_data_pipeline\\_results\\data\\pubmed_open_access_files\\PMC34519\\1471-2458-1-5.nxml\n",
      "no output\n",
      "a:\\Vishal\\BiomedCLIP_data_pipeline\\_results\\data\\pubmed_open_access_files\\PMC34520\\1471-2180-1-8.nxml\n",
      "starting...\n",
      "parsed a:\\Vishal\\BiomedCLIP_data_pipeline\\_results\\data\\pubmed_open_access_files\\PMC34520\\1471-2180-1-8.nxml\n",
      "a:\\Vishal\\BiomedCLIP_data_pipeline\\_results\\data\\pubmed_open_access_files\\PMC34549\\1471-2156-2-8.nxml\n",
      "starting...\n",
      "parsed a:\\Vishal\\BiomedCLIP_data_pipeline\\_results\\data\\pubmed_open_access_files\\PMC34549\\1471-2156-2-8.nxml\n",
      "a:\\Vishal\\BiomedCLIP_data_pipeline\\_results\\data\\pubmed_open_access_files\\PMC34550\\1471-2180-1-9.nxml\n",
      "starting...\n",
      "parsed a:\\Vishal\\BiomedCLIP_data_pipeline\\_results\\data\\pubmed_open_access_files\\PMC34550\\1471-2180-1-9.nxml\n",
      "a:\\Vishal\\BiomedCLIP_data_pipeline\\_results\\data\\pubmed_open_access_files\\PMC34551\\1471-244X-1-3.nxml\n",
      "starting...\n",
      "Exception: local variable 'caption' referenced before assignment path: a:\\Vishal\\BiomedCLIP_data_pipeline\\_results\\data\\pubmed_open_access_files\\PMC34551\\1471-244X-1-3.nxml\n",
      "a:\\Vishal\\BiomedCLIP_data_pipeline\\_results\\data\\pubmed_open_access_files\\PMC34552\\1471-2474-2-2.nxml\n",
      "starting...\n",
      "parsed a:\\Vishal\\BiomedCLIP_data_pipeline\\_results\\data\\pubmed_open_access_files\\PMC34552\\1471-2474-2-2.nxml\n",
      "a:\\Vishal\\BiomedCLIP_data_pipeline\\_results\\data\\pubmed_open_access_files\\PMC34604\\1471-2091-2-6.nxml\n",
      "starting...\n",
      "parsed a:\\Vishal\\BiomedCLIP_data_pipeline\\_results\\data\\pubmed_open_access_files\\PMC34604\\1471-2091-2-6.nxml\n",
      "a:\\Vishal\\BiomedCLIP_data_pipeline\\_results\\data\\pubmed_open_access_files\\PMC34605\\1471-2288-1-6.nxml\n",
      "starting...\n",
      "parsed a:\\Vishal\\BiomedCLIP_data_pipeline\\_results\\data\\pubmed_open_access_files\\PMC34605\\1471-2288-1-6.nxml\n",
      "a:\\Vishal\\BiomedCLIP_data_pipeline\\_results\\data\\pubmed_open_access_files\\PMC34606\\1472-6793-1-7.nxml\n",
      "starting...\n",
      "parsed a:\\Vishal\\BiomedCLIP_data_pipeline\\_results\\data\\pubmed_open_access_files\\PMC34606\\1472-6793-1-7.nxml\n",
      "a:\\Vishal\\BiomedCLIP_data_pipeline\\_results\\data\\pubmed_open_access_files\\PMC34772\\1472-6890-1-2.nxml\n",
      "starting...\n",
      "parsed a:\\Vishal\\BiomedCLIP_data_pipeline\\_results\\data\\pubmed_open_access_files\\PMC34772\\1472-6890-1-2.nxml\n",
      "a:\\Vishal\\BiomedCLIP_data_pipeline\\_results\\data\\pubmed_open_access_files\\PMC35267\\1471-2105-2-2.nxml\n",
      "starting...\n",
      "parsed a:\\Vishal\\BiomedCLIP_data_pipeline\\_results\\data\\pubmed_open_access_files\\PMC35267\\1471-2105-2-2.nxml\n",
      "a:\\Vishal\\BiomedCLIP_data_pipeline\\_results\\data\\pubmed_open_access_files\\PMC35277\\1471-2121-2-11.nxml\n",
      "starting...\n",
      "parsed a:\\Vishal\\BiomedCLIP_data_pipeline\\_results\\data\\pubmed_open_access_files\\PMC35277\\1471-2121-2-11.nxml\n",
      "a:\\Vishal\\BiomedCLIP_data_pipeline\\_results\\data\\pubmed_open_access_files\\PMC35278\\1471-2164-2-2.nxml\n",
      "starting...\n",
      "parsed a:\\Vishal\\BiomedCLIP_data_pipeline\\_results\\data\\pubmed_open_access_files\\PMC35278\\1471-2164-2-2.nxml\n",
      "a:\\Vishal\\BiomedCLIP_data_pipeline\\_results\\data\\pubmed_open_access_files\\PMC35279\\1471-2164-2-3.nxml\n",
      "starting...\n",
      "parsed a:\\Vishal\\BiomedCLIP_data_pipeline\\_results\\data\\pubmed_open_access_files\\PMC35279\\1471-2164-2-3.nxml\n",
      "a:\\Vishal\\BiomedCLIP_data_pipeline\\_results\\data\\pubmed_open_access_files\\PMC35280\\1471-2180-1-10.nxml\n",
      "starting...\n",
      "parsed a:\\Vishal\\BiomedCLIP_data_pipeline\\_results\\data\\pubmed_open_access_files\\PMC35280\\1471-2180-1-10.nxml\n",
      "a:\\Vishal\\BiomedCLIP_data_pipeline\\_results\\data\\pubmed_open_access_files\\PMC35281\\1471-2334-1-5.nxml\n",
      "starting...\n",
      "parsed a:\\Vishal\\BiomedCLIP_data_pipeline\\_results\\data\\pubmed_open_access_files\\PMC35281\\1471-2334-1-5.nxml\n",
      "no output\n",
      "a:\\Vishal\\BiomedCLIP_data_pipeline\\_results\\data\\pubmed_open_access_files\\PMC35282\\1471-2334-1-6.nxml\n",
      "starting...\n",
      "parsed a:\\Vishal\\BiomedCLIP_data_pipeline\\_results\\data\\pubmed_open_access_files\\PMC35282\\1471-2334-1-6.nxml\n",
      "no output\n",
      "a:\\Vishal\\BiomedCLIP_data_pipeline\\_results\\data\\pubmed_open_access_files\\PMC35283\\1471-2407-1-6.nxml\n",
      "starting...\n",
      "parsed a:\\Vishal\\BiomedCLIP_data_pipeline\\_results\\data\\pubmed_open_access_files\\PMC35283\\1471-2407-1-6.nxml\n",
      "a:\\Vishal\\BiomedCLIP_data_pipeline\\_results\\data\\pubmed_open_access_files\\PMC35284\\1471-2415-1-2.nxml\n",
      "starting...\n",
      "parsed a:\\Vishal\\BiomedCLIP_data_pipeline\\_results\\data\\pubmed_open_access_files\\PMC35284\\1471-2415-1-2.nxml\n",
      "a:\\Vishal\\BiomedCLIP_data_pipeline\\_results\\data\\pubmed_open_access_files\\PMC35285\\1472-6807-1-2.nxml\n",
      "starting...\n",
      "parsed a:\\Vishal\\BiomedCLIP_data_pipeline\\_results\\data\\pubmed_open_access_files\\PMC35285\\1472-6807-1-2.nxml\n",
      "a:\\Vishal\\BiomedCLIP_data_pipeline\\_results\\data\\pubmed_open_access_files\\PMC35286\\1472-6963-1-5.nxml\n",
      "starting...\n",
      "parsed a:\\Vishal\\BiomedCLIP_data_pipeline\\_results\\data\\pubmed_open_access_files\\PMC35286\\1472-6963-1-5.nxml\n",
      "no output\n",
      "a:\\Vishal\\BiomedCLIP_data_pipeline\\_results\\data\\pubmed_open_access_files\\PMC35287\\1472-6963-1-6.nxml\n",
      "starting...\n",
      "parsed a:\\Vishal\\BiomedCLIP_data_pipeline\\_results\\data\\pubmed_open_access_files\\PMC35287\\1472-6963-1-6.nxml\n",
      "a:\\Vishal\\BiomedCLIP_data_pipeline\\_results\\data\\pubmed_open_access_files\\PMC35352\\1471-213X-1-12.nxml\n",
      "starting...\n",
      "parsed a:\\Vishal\\BiomedCLIP_data_pipeline\\_results\\data\\pubmed_open_access_files\\PMC35352\\1471-213X-1-12.nxml\n",
      "a:\\Vishal\\BiomedCLIP_data_pipeline\\_results\\data\\pubmed_open_access_files\\PMC35353\\1471-2156-2-9.nxml\n",
      "starting...\n",
      "parsed a:\\Vishal\\BiomedCLIP_data_pipeline\\_results\\data\\pubmed_open_access_files\\PMC35353\\1471-2156-2-9.nxml\n",
      "a:\\Vishal\\BiomedCLIP_data_pipeline\\_results\\data\\pubmed_open_access_files\\PMC35354\\1472-6793-1-6.nxml\n",
      "starting...\n",
      "parsed a:\\Vishal\\BiomedCLIP_data_pipeline\\_results\\data\\pubmed_open_access_files\\PMC35354\\1472-6793-1-6.nxml\n",
      "a:\\Vishal\\BiomedCLIP_data_pipeline\\_results\\data\\pubmed_open_access_files\\PMC35355\\1471-230X-1-5.nxml\n",
      "starting...\n",
      "parsed a:\\Vishal\\BiomedCLIP_data_pipeline\\_results\\data\\pubmed_open_access_files\\PMC35355\\1471-230X-1-5.nxml\n",
      "a:\\Vishal\\BiomedCLIP_data_pipeline\\_results\\data\\pubmed_open_access_files\\PMC35356\\1471-2407-1-7.nxml\n",
      "starting...\n",
      "parsed a:\\Vishal\\BiomedCLIP_data_pipeline\\_results\\data\\pubmed_open_access_files\\PMC35356\\1471-2407-1-7.nxml\n",
      "a:\\Vishal\\BiomedCLIP_data_pipeline\\_results\\data\\pubmed_open_access_files\\PMC35360\\1471-2105-2-3.nxml\n",
      "starting...\n",
      "parsed a:\\Vishal\\BiomedCLIP_data_pipeline\\_results\\data\\pubmed_open_access_files\\PMC35360\\1471-2105-2-3.nxml\n",
      "no output\n",
      "a:\\Vishal\\BiomedCLIP_data_pipeline\\_results\\data\\pubmed_open_access_files\\PMC35361\\1471-2121-2-12.nxml\n",
      "starting...\n",
      "parsed a:\\Vishal\\BiomedCLIP_data_pipeline\\_results\\data\\pubmed_open_access_files\\PMC35361\\1471-2121-2-12.nxml\n",
      "a:\\Vishal\\BiomedCLIP_data_pipeline\\_results\\data\\pubmed_open_access_files\\PMC35392\\1471-2180-1-11.nxml\n",
      "starting...\n",
      "parsed a:\\Vishal\\BiomedCLIP_data_pipeline\\_results\\data\\pubmed_open_access_files\\PMC35392\\1471-2180-1-11.nxml\n",
      "a:\\Vishal\\BiomedCLIP_data_pipeline\\_results\\data\\pubmed_open_access_files\\PMC37241\\1472-6882-1-6.nxml\n",
      "starting...\n",
      "parsed a:\\Vishal\\BiomedCLIP_data_pipeline\\_results\\data\\pubmed_open_access_files\\PMC37241\\1472-6882-1-6.nxml\n",
      "a:\\Vishal\\BiomedCLIP_data_pipeline\\_results\\data\\pubmed_open_access_files\\PMC37242\\1471-2121-2-13.nxml\n",
      "starting...\n",
      "parsed a:\\Vishal\\BiomedCLIP_data_pipeline\\_results\\data\\pubmed_open_access_files\\PMC37242\\1471-2121-2-13.nxml\n",
      "a:\\Vishal\\BiomedCLIP_data_pipeline\\_results\\data\\pubmed_open_access_files\\PMC37243\\1471-213X-1-13.nxml\n",
      "starting...\n",
      "parsed a:\\Vishal\\BiomedCLIP_data_pipeline\\_results\\data\\pubmed_open_access_files\\PMC37243\\1471-213X-1-13.nxml\n",
      "a:\\Vishal\\BiomedCLIP_data_pipeline\\_results\\data\\pubmed_open_access_files\\PMC37267\\1471-2156-2-10.nxml\n",
      "starting...\n",
      "parsed a:\\Vishal\\BiomedCLIP_data_pipeline\\_results\\data\\pubmed_open_access_files\\PMC37267\\1471-2156-2-10.nxml\n",
      "a:\\Vishal\\BiomedCLIP_data_pipeline\\_results\\data\\pubmed_open_access_files\\PMC37310\\1471-2350-2-8.nxml\n",
      "starting...\n",
      "parsed a:\\Vishal\\BiomedCLIP_data_pipeline\\_results\\data\\pubmed_open_access_files\\PMC37310\\1471-2350-2-8.nxml\n",
      "no output\n",
      "a:\\Vishal\\BiomedCLIP_data_pipeline\\_results\\data\\pubmed_open_access_files\\PMC37311\\1471-2334-1-7.nxml\n",
      "starting...\n",
      "parsed a:\\Vishal\\BiomedCLIP_data_pipeline\\_results\\data\\pubmed_open_access_files\\PMC37311\\1471-2334-1-7.nxml\n",
      "no output\n",
      "a:\\Vishal\\BiomedCLIP_data_pipeline\\_results\\data\\pubmed_open_access_files\\PMC37312\\1471-2393-1-2.nxml\n",
      "starting...\n",
      "parsed a:\\Vishal\\BiomedCLIP_data_pipeline\\_results\\data\\pubmed_open_access_files\\PMC37312\\1471-2393-1-2.nxml\n",
      "a:\\Vishal\\BiomedCLIP_data_pipeline\\_results\\data\\pubmed_open_access_files\\PMC37313\\1471-2458-1-6.nxml\n",
      "starting...\n",
      "parsed a:\\Vishal\\BiomedCLIP_data_pipeline\\_results\\data\\pubmed_open_access_files\\PMC37313\\1471-2458-1-6.nxml\n",
      "no output\n",
      "a:\\Vishal\\BiomedCLIP_data_pipeline\\_results\\data\\pubmed_open_access_files\\PMC37314\\1472-6793-1-8.nxml\n",
      "starting...\n",
      "parsed a:\\Vishal\\BiomedCLIP_data_pipeline\\_results\\data\\pubmed_open_access_files\\PMC37314\\1472-6793-1-8.nxml\n",
      "a:\\Vishal\\BiomedCLIP_data_pipeline\\_results\\data\\pubmed_open_access_files\\PMC37351\\1471-2105-2-4.nxml\n",
      "starting...\n",
      "parsed a:\\Vishal\\BiomedCLIP_data_pipeline\\_results\\data\\pubmed_open_access_files\\PMC37351\\1471-2105-2-4.nxml\n",
      "a:\\Vishal\\BiomedCLIP_data_pipeline\\_results\\data\\pubmed_open_access_files\\PMC37352\\1471-2121-2-14.nxml\n",
      "starting...\n",
      "parsed a:\\Vishal\\BiomedCLIP_data_pipeline\\_results\\data\\pubmed_open_access_files\\PMC37352\\1471-2121-2-14.nxml\n",
      "a:\\Vishal\\BiomedCLIP_data_pipeline\\_results\\data\\pubmed_open_access_files\\PMC37353\\1471-2172-2-6.nxml\n",
      "starting...\n",
      "parsed a:\\Vishal\\BiomedCLIP_data_pipeline\\_results\\data\\pubmed_open_access_files\\PMC37353\\1471-2172-2-6.nxml\n",
      "a:\\Vishal\\BiomedCLIP_data_pipeline\\_results\\data\\pubmed_open_access_files\\PMC37354\\1471-2180-1-12.nxml\n",
      "starting...\n",
      "parsed a:\\Vishal\\BiomedCLIP_data_pipeline\\_results\\data\\pubmed_open_access_files\\PMC37354\\1471-2180-1-12.nxml\n",
      "a:\\Vishal\\BiomedCLIP_data_pipeline\\_results\\data\\pubmed_open_access_files\\PMC37355\\1471-2199-2-6.nxml\n",
      "starting...\n",
      "parsed a:\\Vishal\\BiomedCLIP_data_pipeline\\_results\\data\\pubmed_open_access_files\\PMC37355\\1471-2199-2-6.nxml\n",
      "a:\\Vishal\\BiomedCLIP_data_pipeline\\_results\\data\\pubmed_open_access_files\\PMC37356\\1471-2334-1-9.nxml\n",
      "starting...\n",
      "parsed a:\\Vishal\\BiomedCLIP_data_pipeline\\_results\\data\\pubmed_open_access_files\\PMC37356\\1471-2334-1-9.nxml\n",
      "a:\\Vishal\\BiomedCLIP_data_pipeline\\_results\\data\\pubmed_open_access_files\\PMC37390\\1471-2377-1-3.nxml\n",
      "starting...\n",
      "parsed a:\\Vishal\\BiomedCLIP_data_pipeline\\_results\\data\\pubmed_open_access_files\\PMC37390\\1471-2377-1-3.nxml\n",
      "no output\n",
      "a:\\Vishal\\BiomedCLIP_data_pipeline\\_results\\data\\pubmed_open_access_files\\PMC37391\\1471-2091-2-7.nxml\n",
      "starting...\n",
      "parsed a:\\Vishal\\BiomedCLIP_data_pipeline\\_results\\data\\pubmed_open_access_files\\PMC37391\\1471-2091-2-7.nxml\n",
      "a:\\Vishal\\BiomedCLIP_data_pipeline\\_results\\data\\pubmed_open_access_files\\PMC37392\\1472-698X-1-1.nxml\n",
      "starting...\n",
      "parsed a:\\Vishal\\BiomedCLIP_data_pipeline\\_results\\data\\pubmed_open_access_files\\PMC37392\\1472-698X-1-1.nxml\n",
      "a:\\Vishal\\BiomedCLIP_data_pipeline\\_results\\data\\pubmed_open_access_files\\PMC37402\\1471-2164-2-4.nxml\n",
      "starting...\n",
      "parsed a:\\Vishal\\BiomedCLIP_data_pipeline\\_results\\data\\pubmed_open_access_files\\PMC37402\\1471-2164-2-4.nxml\n",
      "a:\\Vishal\\BiomedCLIP_data_pipeline\\_results\\data\\pubmed_open_access_files\\PMC37403\\1471-2180-1-14.nxml\n",
      "starting...\n",
      "parsed a:\\Vishal\\BiomedCLIP_data_pipeline\\_results\\data\\pubmed_open_access_files\\PMC37403\\1471-2180-1-14.nxml\n",
      "no output\n",
      "a:\\Vishal\\BiomedCLIP_data_pipeline\\_results\\data\\pubmed_open_access_files\\PMC37404\\1472-6785-1-2.nxml\n",
      "starting...\n",
      "parsed a:\\Vishal\\BiomedCLIP_data_pipeline\\_results\\data\\pubmed_open_access_files\\PMC37404\\1472-6785-1-2.nxml\n",
      "a:\\Vishal\\BiomedCLIP_data_pipeline\\_results\\data\\pubmed_open_access_files\\PMC37405\\1472-6920-1-2.nxml\n",
      "starting...\n",
      "parsed a:\\Vishal\\BiomedCLIP_data_pipeline\\_results\\data\\pubmed_open_access_files\\PMC37405\\1472-6920-1-2.nxml\n",
      "no output\n",
      "a:\\Vishal\\BiomedCLIP_data_pipeline\\_results\\data\\pubmed_open_access_files\\PMC37406\\CC-5-4-211.nxml\n",
      "starting...\n",
      "parsed a:\\Vishal\\BiomedCLIP_data_pipeline\\_results\\data\\pubmed_open_access_files\\PMC37406\\CC-5-4-211.nxml\n",
      "no output\n",
      "a:\\Vishal\\BiomedCLIP_data_pipeline\\_results\\data\\pubmed_open_access_files\\PMC37407\\CC-5-4-216.nxml\n",
      "starting...\n",
      "parsed a:\\Vishal\\BiomedCLIP_data_pipeline\\_results\\data\\pubmed_open_access_files\\PMC37407\\CC-5-4-216.nxml\n",
      "a:\\Vishal\\BiomedCLIP_data_pipeline\\_results\\data\\pubmed_open_access_files\\PMC37408\\CC-5-4-221.nxml\n",
      "starting...\n",
      "parsed a:\\Vishal\\BiomedCLIP_data_pipeline\\_results\\data\\pubmed_open_access_files\\PMC37408\\CC-5-4-221.nxml\n",
      "a:\\Vishal\\BiomedCLIP_data_pipeline\\_results\\data\\pubmed_open_access_files\\PMC37409\\CC-5-4-227.nxml\n",
      "starting...\n",
      "parsed a:\\Vishal\\BiomedCLIP_data_pipeline\\_results\\data\\pubmed_open_access_files\\PMC37409\\CC-5-4-227.nxml\n",
      "a:\\Vishal\\BiomedCLIP_data_pipeline\\_results\\data\\pubmed_open_access_files\\PMC37410\\CC-5-4-232.nxml\n",
      "starting...\n",
      "parsed a:\\Vishal\\BiomedCLIP_data_pipeline\\_results\\data\\pubmed_open_access_files\\PMC37410\\CC-5-4-232.nxml\n",
      "a:\\Vishal\\BiomedCLIP_data_pipeline\\_results\\data\\pubmed_open_access_files\\PMC37536\\1471-2156-2-11.nxml\n",
      "starting...\n",
      "parsed a:\\Vishal\\BiomedCLIP_data_pipeline\\_results\\data\\pubmed_open_access_files\\PMC37536\\1471-2156-2-11.nxml\n",
      "a:\\Vishal\\BiomedCLIP_data_pipeline\\_results\\data\\pubmed_open_access_files\\PMC37537\\1471-230X-1-6.nxml\n",
      "starting...\n",
      "parsed a:\\Vishal\\BiomedCLIP_data_pipeline\\_results\\data\\pubmed_open_access_files\\PMC37537\\1471-230X-1-6.nxml\n",
      "a:\\Vishal\\BiomedCLIP_data_pipeline\\_results\\data\\pubmed_open_access_files\\PMC37538\\1472-6793-1-9.nxml\n",
      "starting...\n",
      "parsed a:\\Vishal\\BiomedCLIP_data_pipeline\\_results\\data\\pubmed_open_access_files\\PMC37538\\1472-6793-1-9.nxml\n",
      "a:\\Vishal\\BiomedCLIP_data_pipeline\\_results\\data\\pubmed_open_access_files\\PMC37539\\1472-6882-1-3.nxml\n",
      "starting...\n",
      "parsed a:\\Vishal\\BiomedCLIP_data_pipeline\\_results\\data\\pubmed_open_access_files\\PMC37539\\1472-6882-1-3.nxml\n",
      "no output\n",
      "a:\\Vishal\\BiomedCLIP_data_pipeline\\_results\\data\\pubmed_open_access_files\\PMC37540\\1472-6882-1-5.nxml\n",
      "starting...\n",
      "parsed a:\\Vishal\\BiomedCLIP_data_pipeline\\_results\\data\\pubmed_open_access_files\\PMC37540\\1472-6882-1-5.nxml\n",
      "no output\n",
      "a:\\Vishal\\BiomedCLIP_data_pipeline\\_results\\data\\pubmed_open_access_files\\PMC37541\\1471-5945-1-2.nxml\n",
      "starting...\n",
      "parsed a:\\Vishal\\BiomedCLIP_data_pipeline\\_results\\data\\pubmed_open_access_files\\PMC37541\\1471-5945-1-2.nxml\n",
      "a:\\Vishal\\BiomedCLIP_data_pipeline\\_results\\data\\pubmed_open_access_files\\PMC37542\\1471-2474-2-3.nxml\n",
      "starting...\n",
      "parsed a:\\Vishal\\BiomedCLIP_data_pipeline\\_results\\data\\pubmed_open_access_files\\PMC37542\\1471-2474-2-3.nxml\n",
      "a:\\Vishal\\BiomedCLIP_data_pipeline\\_results\\data\\pubmed_open_access_files\\PMC37543\\1471-2407-1-8.nxml\n",
      "starting...\n",
      "parsed a:\\Vishal\\BiomedCLIP_data_pipeline\\_results\\data\\pubmed_open_access_files\\PMC37543\\1471-2407-1-8.nxml\n",
      "no output\n",
      "a:\\Vishal\\BiomedCLIP_data_pipeline\\_results\\data\\pubmed_open_access_files\\PMC37544\\1471-2407-1-9.nxml\n",
      "starting...\n",
      "parsed a:\\Vishal\\BiomedCLIP_data_pipeline\\_results\\data\\pubmed_open_access_files\\PMC37544\\1471-2407-1-9.nxml\n",
      "no output\n",
      "a:\\Vishal\\BiomedCLIP_data_pipeline\\_results\\data\\pubmed_open_access_files\\PMC37545\\1471-2407-1-10.nxml\n",
      "starting...\n",
      "parsed a:\\Vishal\\BiomedCLIP_data_pipeline\\_results\\data\\pubmed_open_access_files\\PMC37545\\1471-2407-1-10.nxml\n",
      "a:\\Vishal\\BiomedCLIP_data_pipeline\\_results\\data\\pubmed_open_access_files\\PMC37546\\1471-2334-1-8.nxml\n",
      "starting...\n",
      "parsed a:\\Vishal\\BiomedCLIP_data_pipeline\\_results\\data\\pubmed_open_access_files\\PMC37546\\1471-2334-1-8.nxml\n",
      "no output\n",
      "a:\\Vishal\\BiomedCLIP_data_pipeline\\_results\\data\\pubmed_open_access_files\\PMC37547\\1471-2172-2-7.nxml\n",
      "starting...\n",
      "parsed a:\\Vishal\\BiomedCLIP_data_pipeline\\_results\\data\\pubmed_open_access_files\\PMC37547\\1471-2172-2-7.nxml\n",
      "a:\\Vishal\\BiomedCLIP_data_pipeline\\_results\\data\\pubmed_open_access_files\\PMC37548\\1471-2121-2-16.nxml\n",
      "starting...\n",
      "parsed a:\\Vishal\\BiomedCLIP_data_pipeline\\_results\\data\\pubmed_open_access_files\\PMC37548\\1471-2121-2-16.nxml\n",
      "a:\\Vishal\\BiomedCLIP_data_pipeline\\_results\\data\\pubmed_open_access_files\\PMC45583\\1471-2180-1-13.nxml\n",
      "starting...\n",
      "parsed a:\\Vishal\\BiomedCLIP_data_pipeline\\_results\\data\\pubmed_open_access_files\\PMC45583\\1471-2180-1-13.nxml\n",
      "a:\\Vishal\\BiomedCLIP_data_pipeline\\_results\\data\\pubmed_open_access_files\\PMC45584\\1471-5945-1-3.nxml\n",
      "starting...\n",
      "parsed a:\\Vishal\\BiomedCLIP_data_pipeline\\_results\\data\\pubmed_open_access_files\\PMC45584\\1471-5945-1-3.nxml\n",
      "no output\n",
      "a:\\Vishal\\BiomedCLIP_data_pipeline\\_results\\data\\pubmed_open_access_files\\PMC45585\\1472-6785-1-3.nxml\n",
      "starting...\n",
      "parsed a:\\Vishal\\BiomedCLIP_data_pipeline\\_results\\data\\pubmed_open_access_files\\PMC45585\\1472-6785-1-3.nxml\n",
      "a:\\Vishal\\BiomedCLIP_data_pipeline\\_results\\data\\pubmed_open_access_files\\PMC45586\\1472-6882-1-4.nxml\n",
      "starting...\n",
      "parsed a:\\Vishal\\BiomedCLIP_data_pipeline\\_results\\data\\pubmed_open_access_files\\PMC45586\\1472-6882-1-4.nxml\n",
      "no output\n",
      "a:\\Vishal\\BiomedCLIP_data_pipeline\\_results\\data\\pubmed_open_access_files\\PMC48139\\1471-2121-2-15.nxml\n",
      "starting...\n",
      "parsed a:\\Vishal\\BiomedCLIP_data_pipeline\\_results\\data\\pubmed_open_access_files\\PMC48139\\1471-2121-2-15.nxml\n",
      "a:\\Vishal\\BiomedCLIP_data_pipeline\\_results\\data\\pubmed_open_access_files\\PMC48140\\1471-2121-2-17.nxml\n",
      "starting...\n",
      "parsed a:\\Vishal\\BiomedCLIP_data_pipeline\\_results\\data\\pubmed_open_access_files\\PMC48140\\1471-2121-2-17.nxml\n",
      "a:\\Vishal\\BiomedCLIP_data_pipeline\\_results\\data\\pubmed_open_access_files\\PMC48141\\1471-2156-2-12.nxml\n",
      "starting...\n",
      "parsed a:\\Vishal\\BiomedCLIP_data_pipeline\\_results\\data\\pubmed_open_access_files\\PMC48141\\1471-2156-2-12.nxml\n",
      "a:\\Vishal\\BiomedCLIP_data_pipeline\\_results\\data\\pubmed_open_access_files\\PMC48142\\1471-2156-2-14.nxml\n",
      "starting...\n",
      "parsed a:\\Vishal\\BiomedCLIP_data_pipeline\\_results\\data\\pubmed_open_access_files\\PMC48142\\1471-2156-2-14.nxml\n",
      "a:\\Vishal\\BiomedCLIP_data_pipeline\\_results\\data\\pubmed_open_access_files\\PMC48143\\1471-2172-2-8.nxml\n",
      "starting...\n",
      "parsed a:\\Vishal\\BiomedCLIP_data_pipeline\\_results\\data\\pubmed_open_access_files\\PMC48143\\1471-2172-2-8.nxml\n",
      "a:\\Vishal\\BiomedCLIP_data_pipeline\\_results\\data\\pubmed_open_access_files\\PMC48144\\1471-2180-1-16.nxml\n",
      "starting...\n",
      "parsed a:\\Vishal\\BiomedCLIP_data_pipeline\\_results\\data\\pubmed_open_access_files\\PMC48144\\1471-2180-1-16.nxml\n",
      "a:\\Vishal\\BiomedCLIP_data_pipeline\\_results\\data\\pubmed_open_access_files\\PMC48145\\1471-2199-2-7.nxml\n",
      "starting...\n",
      "parsed a:\\Vishal\\BiomedCLIP_data_pipeline\\_results\\data\\pubmed_open_access_files\\PMC48145\\1471-2199-2-7.nxml\n",
      "a:\\Vishal\\BiomedCLIP_data_pipeline\\_results\\data\\pubmed_open_access_files\\PMC48146\\1471-2199-2-8.nxml\n",
      "starting...\n",
      "parsed a:\\Vishal\\BiomedCLIP_data_pipeline\\_results\\data\\pubmed_open_access_files\\PMC48146\\1471-2199-2-8.nxml\n",
      "a:\\Vishal\\BiomedCLIP_data_pipeline\\_results\\data\\pubmed_open_access_files\\PMC48147\\1471-2210-1-2.nxml\n",
      "starting...\n",
      "parsed a:\\Vishal\\BiomedCLIP_data_pipeline\\_results\\data\\pubmed_open_access_files\\PMC48147\\1471-2210-1-2.nxml\n",
      "a:\\Vishal\\BiomedCLIP_data_pipeline\\_results\\data\\pubmed_open_access_files\\PMC48148\\1471-2318-1-1.nxml\n",
      "starting...\n",
      "parsed a:\\Vishal\\BiomedCLIP_data_pipeline\\_results\\data\\pubmed_open_access_files\\PMC48148\\1471-2318-1-1.nxml\n",
      "no output\n",
      "a:\\Vishal\\BiomedCLIP_data_pipeline\\_results\\data\\pubmed_open_access_files\\PMC48149\\1471-2334-1-10.nxml\n",
      "starting...\n",
      "parsed a:\\Vishal\\BiomedCLIP_data_pipeline\\_results\\data\\pubmed_open_access_files\\PMC48149\\1471-2334-1-10.nxml\n",
      "no output\n",
      "a:\\Vishal\\BiomedCLIP_data_pipeline\\_results\\data\\pubmed_open_access_files\\PMC48150\\1471-2407-1-11.nxml\n",
      "starting...\n",
      "parsed a:\\Vishal\\BiomedCLIP_data_pipeline\\_results\\data\\pubmed_open_access_files\\PMC48150\\1471-2407-1-11.nxml\n",
      "no output\n",
      "a:\\Vishal\\BiomedCLIP_data_pipeline\\_results\\data\\pubmed_open_access_files\\PMC48151\\1472-6793-1-10.nxml\n",
      "starting...\n",
      "parsed a:\\Vishal\\BiomedCLIP_data_pipeline\\_results\\data\\pubmed_open_access_files\\PMC48151\\1472-6793-1-10.nxml\n",
      "a:\\Vishal\\BiomedCLIP_data_pipeline\\_results\\data\\pubmed_open_access_files\\PMC48152\\1472-6874-1-2.nxml\n",
      "starting...\n",
      "parsed a:\\Vishal\\BiomedCLIP_data_pipeline\\_results\\data\\pubmed_open_access_files\\PMC48152\\1472-6874-1-2.nxml\n",
      "no output\n",
      "a:\\Vishal\\BiomedCLIP_data_pipeline\\_results\\data\\pubmed_open_access_files\\PMC48153\\1472-6920-1-3.nxml\n",
      "starting...\n",
      "parsed a:\\Vishal\\BiomedCLIP_data_pipeline\\_results\\data\\pubmed_open_access_files\\PMC48153\\1472-6920-1-3.nxml\n",
      "a:\\Vishal\\BiomedCLIP_data_pipeline\\_results\\data\\pubmed_open_access_files\\PMC48154\\1472-6750-1-3.nxml\n",
      "starting...\n",
      "parsed a:\\Vishal\\BiomedCLIP_data_pipeline\\_results\\data\\pubmed_open_access_files\\PMC48154\\1472-6750-1-3.nxml\n",
      "no output\n",
      "a:\\Vishal\\BiomedCLIP_data_pipeline\\_results\\data\\pubmed_open_access_files\\PMC48155\\1471-2164-2-5.nxml\n",
      "starting...\n",
      "parsed a:\\Vishal\\BiomedCLIP_data_pipeline\\_results\\data\\pubmed_open_access_files\\PMC48155\\1471-2164-2-5.nxml\n",
      "no output\n",
      "a:\\Vishal\\BiomedCLIP_data_pipeline\\_results\\data\\pubmed_open_access_files\\PMC55319\\gb-2001-2-7-research0022.nxml\n",
      "starting...\n",
      "parsed a:\\Vishal\\BiomedCLIP_data_pipeline\\_results\\data\\pubmed_open_access_files\\PMC55319\\gb-2001-2-7-research0022.nxml\n",
      "a:\\Vishal\\BiomedCLIP_data_pipeline\\_results\\data\\pubmed_open_access_files\\PMC55320\\gb-2001-2-7-research0023.nxml\n",
      "starting...\n",
      "parsed a:\\Vishal\\BiomedCLIP_data_pipeline\\_results\\data\\pubmed_open_access_files\\PMC55320\\gb-2001-2-7-research0023.nxml\n",
      "a:\\Vishal\\BiomedCLIP_data_pipeline\\_results\\data\\pubmed_open_access_files\\PMC55321\\gb-2001-2-7-research0024.nxml\n",
      "starting...\n",
      "parsed a:\\Vishal\\BiomedCLIP_data_pipeline\\_results\\data\\pubmed_open_access_files\\PMC55321\\gb-2001-2-7-research0024.nxml\n",
      "a:\\Vishal\\BiomedCLIP_data_pipeline\\_results\\data\\pubmed_open_access_files\\PMC55322\\gb-2001-2-7-research0025.nxml\n",
      "starting...\n",
      "parsed a:\\Vishal\\BiomedCLIP_data_pipeline\\_results\\data\\pubmed_open_access_files\\PMC55322\\gb-2001-2-7-research0025.nxml\n",
      "a:\\Vishal\\BiomedCLIP_data_pipeline\\_results\\data\\pubmed_open_access_files\\PMC55323\\gb-2001-2-7-research0026.nxml\n",
      "starting...\n",
      "parsed a:\\Vishal\\BiomedCLIP_data_pipeline\\_results\\data\\pubmed_open_access_files\\PMC55323\\gb-2001-2-7-research0026.nxml\n",
      "no output\n",
      "a:\\Vishal\\BiomedCLIP_data_pipeline\\_results\\data\\pubmed_open_access_files\\PMC55324\\gb-2001-2-8-research0027.nxml\n",
      "starting...\n",
      "parsed a:\\Vishal\\BiomedCLIP_data_pipeline\\_results\\data\\pubmed_open_access_files\\PMC55324\\gb-2001-2-8-research0027.nxml\n",
      "a:\\Vishal\\BiomedCLIP_data_pipeline\\_results\\data\\pubmed_open_access_files\\PMC55325\\gb-2001-2-8-research0028.nxml\n",
      "starting...\n",
      "parsed a:\\Vishal\\BiomedCLIP_data_pipeline\\_results\\data\\pubmed_open_access_files\\PMC55325\\gb-2001-2-8-research0028.nxml\n",
      "no output\n",
      "a:\\Vishal\\BiomedCLIP_data_pipeline\\_results\\data\\pubmed_open_access_files\\PMC55326\\gb-2001-2-8-research0029.nxml\n",
      "starting...\n",
      "parsed a:\\Vishal\\BiomedCLIP_data_pipeline\\_results\\data\\pubmed_open_access_files\\PMC55326\\gb-2001-2-8-research0029.nxml\n",
      "a:\\Vishal\\BiomedCLIP_data_pipeline\\_results\\data\\pubmed_open_access_files\\PMC55327\\gb-2001-2-8-research0030.nxml\n",
      "starting...\n",
      "parsed a:\\Vishal\\BiomedCLIP_data_pipeline\\_results\\data\\pubmed_open_access_files\\PMC55327\\gb-2001-2-8-research0030.nxml\n",
      "a:\\Vishal\\BiomedCLIP_data_pipeline\\_results\\data\\pubmed_open_access_files\\PMC55328\\gb-2001-2-8-research0031.nxml\n",
      "starting...\n",
      "parsed a:\\Vishal\\BiomedCLIP_data_pipeline\\_results\\data\\pubmed_open_access_files\\PMC55328\\gb-2001-2-8-research0031.nxml\n",
      "a:\\Vishal\\BiomedCLIP_data_pipeline\\_results\\data\\pubmed_open_access_files\\PMC55329\\gb-2001-2-8-research0032.nxml\n",
      "starting...\n",
      "parsed a:\\Vishal\\BiomedCLIP_data_pipeline\\_results\\data\\pubmed_open_access_files\\PMC55329\\gb-2001-2-8-research0032.nxml\n",
      "a:\\Vishal\\BiomedCLIP_data_pipeline\\_results\\data\\pubmed_open_access_files\\PMC55330\\1471-2105-2-5.nxml\n",
      "starting...\n",
      "parsed a:\\Vishal\\BiomedCLIP_data_pipeline\\_results\\data\\pubmed_open_access_files\\PMC55330\\1471-2105-2-5.nxml\n",
      "a:\\Vishal\\BiomedCLIP_data_pipeline\\_results\\data\\pubmed_open_access_files\\PMC55331\\1471-2180-1-15.nxml\n",
      "starting...\n",
      "parsed a:\\Vishal\\BiomedCLIP_data_pipeline\\_results\\data\\pubmed_open_access_files\\PMC55331\\1471-2180-1-15.nxml\n",
      "a:\\Vishal\\BiomedCLIP_data_pipeline\\_results\\data\\pubmed_open_access_files\\PMC55332\\1471-2202-2-10.nxml\n",
      "starting...\n",
      "parsed a:\\Vishal\\BiomedCLIP_data_pipeline\\_results\\data\\pubmed_open_access_files\\PMC55332\\1471-2202-2-10.nxml\n",
      "a:\\Vishal\\BiomedCLIP_data_pipeline\\_results\\data\\pubmed_open_access_files\\PMC55333\\1471-2296-2-2.nxml\n",
      "starting...\n",
      "parsed a:\\Vishal\\BiomedCLIP_data_pipeline\\_results\\data\\pubmed_open_access_files\\PMC55333\\1471-2296-2-2.nxml\n",
      "no output\n",
      "a:\\Vishal\\BiomedCLIP_data_pipeline\\_results\\data\\pubmed_open_access_files\\PMC55334\\1471-230X-1-7.nxml\n",
      "starting...\n",
      "parsed a:\\Vishal\\BiomedCLIP_data_pipeline\\_results\\data\\pubmed_open_access_files\\PMC55334\\1471-230X-1-7.nxml\n",
      "a:\\Vishal\\BiomedCLIP_data_pipeline\\_results\\data\\pubmed_open_access_files\\PMC55335\\1471-2490-1-1.nxml\n",
      "starting...\n",
      "parsed a:\\Vishal\\BiomedCLIP_data_pipeline\\_results\\data\\pubmed_open_access_files\\PMC55335\\1471-2490-1-1.nxml\n",
      "a:\\Vishal\\BiomedCLIP_data_pipeline\\_results\\data\\pubmed_open_access_files\\PMC55336\\1471-5945-1-5.nxml\n",
      "starting...\n",
      "parsed a:\\Vishal\\BiomedCLIP_data_pipeline\\_results\\data\\pubmed_open_access_files\\PMC55336\\1471-5945-1-5.nxml\n",
      "a:\\Vishal\\BiomedCLIP_data_pipeline\\_results\\data\\pubmed_open_access_files\\PMC55337\\1472-6750-1-4.nxml\n",
      "starting...\n",
      "parsed a:\\Vishal\\BiomedCLIP_data_pipeline\\_results\\data\\pubmed_open_access_files\\PMC55337\\1472-6750-1-4.nxml\n",
      "a:\\Vishal\\BiomedCLIP_data_pipeline\\_results\\data\\pubmed_open_access_files\\PMC55338\\1472-6793-1-11.nxml\n",
      "starting...\n",
      "parsed a:\\Vishal\\BiomedCLIP_data_pipeline\\_results\\data\\pubmed_open_access_files\\PMC55338\\1472-6793-1-11.nxml\n",
      "a:\\Vishal\\BiomedCLIP_data_pipeline\\_results\\data\\pubmed_open_access_files\\PMC55339\\1472-6793-1-12.nxml\n",
      "starting...\n",
      "parsed a:\\Vishal\\BiomedCLIP_data_pipeline\\_results\\data\\pubmed_open_access_files\\PMC55339\\1472-6793-1-12.nxml\n",
      "a:\\Vishal\\BiomedCLIP_data_pipeline\\_results\\data\\pubmed_open_access_files\\PMC55340\\1472-6807-1-3.nxml\n",
      "starting...\n",
      "parsed a:\\Vishal\\BiomedCLIP_data_pipeline\\_results\\data\\pubmed_open_access_files\\PMC55340\\1472-6807-1-3.nxml\n",
      "a:\\Vishal\\BiomedCLIP_data_pipeline\\_results\\data\\pubmed_open_access_files\\PMC55341\\1472-6874-1-3.nxml\n",
      "starting...\n",
      "parsed a:\\Vishal\\BiomedCLIP_data_pipeline\\_results\\data\\pubmed_open_access_files\\PMC55341\\1472-6874-1-3.nxml\n",
      "a:\\Vishal\\BiomedCLIP_data_pipeline\\_results\\data\\pubmed_open_access_files\\PMC55342\\1472-6947-1-2.nxml\n",
      "starting...\n",
      "parsed a:\\Vishal\\BiomedCLIP_data_pipeline\\_results\\data\\pubmed_open_access_files\\PMC55342\\1472-6947-1-2.nxml\n",
      "a:\\Vishal\\BiomedCLIP_data_pipeline\\_results\\data\\pubmed_open_access_files\\PMC55343\\1471-2156-2-13.nxml\n",
      "starting...\n",
      "parsed a:\\Vishal\\BiomedCLIP_data_pipeline\\_results\\data\\pubmed_open_access_files\\PMC55343\\1471-2156-2-13.nxml\n",
      "a:\\Vishal\\BiomedCLIP_data_pipeline\\_results\\data\\pubmed_open_access_files\\PMC55344\\1471-2334-1-12.nxml\n",
      "starting...\n",
      "parsed a:\\Vishal\\BiomedCLIP_data_pipeline\\_results\\data\\pubmed_open_access_files\\PMC55344\\1471-2334-1-12.nxml\n",
      "no output\n",
      "a:\\Vishal\\BiomedCLIP_data_pipeline\\_results\\data\\pubmed_open_access_files\\PMC55345\\1471-2458-1-7.nxml\n",
      "starting...\n",
      "parsed a:\\Vishal\\BiomedCLIP_data_pipeline\\_results\\data\\pubmed_open_access_files\\PMC55345\\1471-2458-1-7.nxml\n",
      "no output\n",
      "a:\\Vishal\\BiomedCLIP_data_pipeline\\_results\\data\\pubmed_open_access_files\\PMC55692\\1471-2180-1-20.nxml\n",
      "starting...\n",
      "parsed a:\\Vishal\\BiomedCLIP_data_pipeline\\_results\\data\\pubmed_open_access_files\\PMC55692\\1471-2180-1-20.nxml\n",
      "a:\\Vishal\\BiomedCLIP_data_pipeline\\_results\\data\\pubmed_open_access_files\\PMC55693\\1471-2210-1-3.nxml\n",
      "starting...\n",
      "parsed a:\\Vishal\\BiomedCLIP_data_pipeline\\_results\\data\\pubmed_open_access_files\\PMC55693\\1471-2210-1-3.nxml\n",
      "a:\\Vishal\\BiomedCLIP_data_pipeline\\_results\\data\\pubmed_open_access_files\\PMC55694\\1471-2350-2-9.nxml\n",
      "starting...\n",
      "parsed a:\\Vishal\\BiomedCLIP_data_pipeline\\_results\\data\\pubmed_open_access_files\\PMC55694\\1471-2350-2-9.nxml\n",
      "no output\n",
      "a:\\Vishal\\BiomedCLIP_data_pipeline\\_results\\data\\pubmed_open_access_files\\PMC56202\\cvm-2-3-141.nxml\n",
      "starting...\n",
      "parsed a:\\Vishal\\BiomedCLIP_data_pipeline\\_results\\data\\pubmed_open_access_files\\PMC56202\\cvm-2-3-141.nxml\n",
      "no output\n",
      "a:\\Vishal\\BiomedCLIP_data_pipeline\\_results\\data\\pubmed_open_access_files\\PMC56203\\cvm-2-1-059.nxml\n",
      "starting...\n",
      "parsed a:\\Vishal\\BiomedCLIP_data_pipeline\\_results\\data\\pubmed_open_access_files\\PMC56203\\cvm-2-1-059.nxml\n",
      "no output\n",
      "a:\\Vishal\\BiomedCLIP_data_pipeline\\_results\\data\\pubmed_open_access_files\\PMC56204\\cvm-2-2-099.nxml\n",
      "starting...\n",
      "parsed a:\\Vishal\\BiomedCLIP_data_pipeline\\_results\\data\\pubmed_open_access_files\\PMC56204\\cvm-2-2-099.nxml\n",
      "no output\n",
      "a:\\Vishal\\BiomedCLIP_data_pipeline\\_results\\data\\pubmed_open_access_files\\PMC56205\\cvm-1-3-177.nxml\n",
      "starting...\n",
      "parsed a:\\Vishal\\BiomedCLIP_data_pipeline\\_results\\data\\pubmed_open_access_files\\PMC56205\\cvm-1-3-177.nxml\n",
      "a:\\Vishal\\BiomedCLIP_data_pipeline\\_results\\data\\pubmed_open_access_files\\PMC56206\\cvm-1-3-184.nxml\n",
      "starting...\n",
      "parsed a:\\Vishal\\BiomedCLIP_data_pipeline\\_results\\data\\pubmed_open_access_files\\PMC56206\\cvm-1-3-184.nxml\n",
      "a:\\Vishal\\BiomedCLIP_data_pipeline\\_results\\data\\pubmed_open_access_files\\PMC56207\\cvm-1-1-059.nxml\n",
      "starting...\n",
      "parsed a:\\Vishal\\BiomedCLIP_data_pipeline\\_results\\data\\pubmed_open_access_files\\PMC56207\\cvm-1-1-059.nxml\n",
      "a:\\Vishal\\BiomedCLIP_data_pipeline\\_results\\data\\pubmed_open_access_files\\PMC56208\\RR-2-4-255.nxml\n",
      "starting...\n",
      "parsed a:\\Vishal\\BiomedCLIP_data_pipeline\\_results\\data\\pubmed_open_access_files\\PMC56208\\RR-2-4-255.nxml\n",
      "a:\\Vishal\\BiomedCLIP_data_pipeline\\_results\\data\\pubmed_open_access_files\\PMC56210\\RR-2-2-119.nxml\n",
      "starting...\n",
      "parsed a:\\Vishal\\BiomedCLIP_data_pipeline\\_results\\data\\pubmed_open_access_files\\PMC56210\\RR-2-2-119.nxml\n",
      "a:\\Vishal\\BiomedCLIP_data_pipeline\\_results\\data\\pubmed_open_access_files\\PMC56211\\RR-2-1-053.nxml\n",
      "starting...\n",
      "parsed a:\\Vishal\\BiomedCLIP_data_pipeline\\_results\\data\\pubmed_open_access_files\\PMC56211\\RR-2-1-053.nxml\n",
      "no output\n",
      "a:\\Vishal\\BiomedCLIP_data_pipeline\\_results\\data\\pubmed_open_access_files\\PMC56221\\mk001a.nxml\n",
      "starting...\n",
      "parsed a:\\Vishal\\BiomedCLIP_data_pipeline\\_results\\data\\pubmed_open_access_files\\PMC56221\\mk001a.nxml\n",
      "no output\n",
      "a:\\Vishal\\BiomedCLIP_data_pipeline\\_results\\data\\pubmed_open_access_files\\PMC56589\\1471-2180-1-19.nxml\n",
      "starting...\n",
      "parsed a:\\Vishal\\BiomedCLIP_data_pipeline\\_results\\data\\pubmed_open_access_files\\PMC56589\\1471-2180-1-19.nxml\n",
      "a:\\Vishal\\BiomedCLIP_data_pipeline\\_results\\data\\pubmed_open_access_files\\PMC56590\\1471-2199-2-9.nxml\n",
      "starting...\n",
      "parsed a:\\Vishal\\BiomedCLIP_data_pipeline\\_results\\data\\pubmed_open_access_files\\PMC56590\\1471-2199-2-9.nxml\n",
      "a:\\Vishal\\BiomedCLIP_data_pipeline\\_results\\data\\pubmed_open_access_files\\PMC56591\\1471-230X-1-8.nxml\n",
      "starting...\n",
      "parsed a:\\Vishal\\BiomedCLIP_data_pipeline\\_results\\data\\pubmed_open_access_files\\PMC56591\\1471-230X-1-8.nxml\n",
      "a:\\Vishal\\BiomedCLIP_data_pipeline\\_results\\data\\pubmed_open_access_files\\PMC56592\\1471-230X-1-9.nxml\n",
      "starting...\n",
      "parsed a:\\Vishal\\BiomedCLIP_data_pipeline\\_results\\data\\pubmed_open_access_files\\PMC56592\\1471-230X-1-9.nxml\n",
      "a:\\Vishal\\BiomedCLIP_data_pipeline\\_results\\data\\pubmed_open_access_files\\PMC56593\\1471-2350-2-10.nxml\n",
      "starting...\n",
      "parsed a:\\Vishal\\BiomedCLIP_data_pipeline\\_results\\data\\pubmed_open_access_files\\PMC56593\\1471-2350-2-10.nxml\n",
      "no output\n",
      "a:\\Vishal\\BiomedCLIP_data_pipeline\\_results\\data\\pubmed_open_access_files\\PMC56594\\1471-2377-1-4.nxml\n",
      "starting...\n",
      "parsed a:\\Vishal\\BiomedCLIP_data_pipeline\\_results\\data\\pubmed_open_access_files\\PMC56594\\1471-2377-1-4.nxml\n",
      "no output\n",
      "a:\\Vishal\\BiomedCLIP_data_pipeline\\_results\\data\\pubmed_open_access_files\\PMC56607\\1471-2385-1-1.nxml\n",
      "starting...\n",
      "parsed a:\\Vishal\\BiomedCLIP_data_pipeline\\_results\\data\\pubmed_open_access_files\\PMC56607\\1471-2385-1-1.nxml\n",
      "a:\\Vishal\\BiomedCLIP_data_pipeline\\_results\\data\\pubmed_open_access_files\\PMC56633\\1471-2407-1-12.nxml\n",
      "starting...\n",
      "parsed a:\\Vishal\\BiomedCLIP_data_pipeline\\_results\\data\\pubmed_open_access_files\\PMC56633\\1471-2407-1-12.nxml\n",
      "a:\\Vishal\\BiomedCLIP_data_pipeline\\_results\\data\\pubmed_open_access_files\\PMC56634\\1471-2091-2-8.nxml\n",
      "starting...\n",
      "parsed a:\\Vishal\\BiomedCLIP_data_pipeline\\_results\\data\\pubmed_open_access_files\\PMC56634\\1471-2091-2-8.nxml\n",
      "a:\\Vishal\\BiomedCLIP_data_pipeline\\_results\\data\\pubmed_open_access_files\\PMC56895\\gb-2001-2-9-research0033.nxml\n",
      "starting...\n",
      "parsed a:\\Vishal\\BiomedCLIP_data_pipeline\\_results\\data\\pubmed_open_access_files\\PMC56895\\gb-2001-2-9-research0033.nxml\n",
      "a:\\Vishal\\BiomedCLIP_data_pipeline\\_results\\data\\pubmed_open_access_files\\PMC56896\\gb-2001-2-9-research0035.nxml\n",
      "starting...\n",
      "parsed a:\\Vishal\\BiomedCLIP_data_pipeline\\_results\\data\\pubmed_open_access_files\\PMC56896\\gb-2001-2-9-research0035.nxml\n",
      "no output\n",
      "a:\\Vishal\\BiomedCLIP_data_pipeline\\_results\\data\\pubmed_open_access_files\\PMC56897\\gb-2001-2-9-research0036.nxml\n",
      "starting...\n",
      "parsed a:\\Vishal\\BiomedCLIP_data_pipeline\\_results\\data\\pubmed_open_access_files\\PMC56897\\gb-2001-2-9-research0036.nxml\n",
      "a:\\Vishal\\BiomedCLIP_data_pipeline\\_results\\data\\pubmed_open_access_files\\PMC56898\\gb-2001-2-9-research0037.nxml\n",
      "starting...\n",
      "parsed a:\\Vishal\\BiomedCLIP_data_pipeline\\_results\\data\\pubmed_open_access_files\\PMC56898\\gb-2001-2-9-research0037.nxml\n",
      "a:\\Vishal\\BiomedCLIP_data_pipeline\\_results\\data\\pubmed_open_access_files\\PMC56899\\gb-2001-2-9-research0038.nxml\n",
      "starting...\n",
      "parsed a:\\Vishal\\BiomedCLIP_data_pipeline\\_results\\data\\pubmed_open_access_files\\PMC56899\\gb-2001-2-9-research0038.nxml\n",
      "a:\\Vishal\\BiomedCLIP_data_pipeline\\_results\\data\\pubmed_open_access_files\\PMC56900\\gb-2001-2-9-research0039.nxml\n",
      "starting...\n",
      "parsed a:\\Vishal\\BiomedCLIP_data_pipeline\\_results\\data\\pubmed_open_access_files\\PMC56900\\gb-2001-2-9-research0039.nxml\n",
      "a:\\Vishal\\BiomedCLIP_data_pipeline\\_results\\data\\pubmed_open_access_files\\PMC56901\\gb-2001-2-9-research0040.nxml\n",
      "starting...\n",
      "parsed a:\\Vishal\\BiomedCLIP_data_pipeline\\_results\\data\\pubmed_open_access_files\\PMC56901\\gb-2001-2-9-research0040.nxml\n",
      "a:\\Vishal\\BiomedCLIP_data_pipeline\\_results\\data\\pubmed_open_access_files\\PMC56902\\1471-2210-1-6.nxml\n",
      "starting...\n",
      "parsed a:\\Vishal\\BiomedCLIP_data_pipeline\\_results\\data\\pubmed_open_access_files\\PMC56902\\1471-2210-1-6.nxml\n",
      "no output\n",
      "a:\\Vishal\\BiomedCLIP_data_pipeline\\_results\\data\\pubmed_open_access_files\\PMC56903\\1472-6963-1-9.nxml\n",
      "starting...\n",
      "parsed a:\\Vishal\\BiomedCLIP_data_pipeline\\_results\\data\\pubmed_open_access_files\\PMC56903\\1472-6963-1-9.nxml\n",
      "a:\\Vishal\\BiomedCLIP_data_pipeline\\_results\\data\\pubmed_open_access_files\\PMC56995\\1471-2148-1-4.nxml\n",
      "starting...\n",
      "parsed a:\\Vishal\\BiomedCLIP_data_pipeline\\_results\\data\\pubmed_open_access_files\\PMC56995\\1471-2148-1-4.nxml\n",
      "a:\\Vishal\\BiomedCLIP_data_pipeline\\_results\\data\\pubmed_open_access_files\\PMC56996\\1471-2172-2-9.nxml\n",
      "starting...\n",
      "parsed a:\\Vishal\\BiomedCLIP_data_pipeline\\_results\\data\\pubmed_open_access_files\\PMC56996\\1471-2172-2-9.nxml\n",
      "a:\\Vishal\\BiomedCLIP_data_pipeline\\_results\\data\\pubmed_open_access_files\\PMC56997\\1471-2180-1-18.nxml\n",
      "starting...\n",
      "parsed a:\\Vishal\\BiomedCLIP_data_pipeline\\_results\\data\\pubmed_open_access_files\\PMC56997\\1471-2180-1-18.nxml\n",
      "a:\\Vishal\\BiomedCLIP_data_pipeline\\_results\\data\\pubmed_open_access_files\\PMC56998\\1471-2199-2-10.nxml\n",
      "starting...\n",
      "parsed a:\\Vishal\\BiomedCLIP_data_pipeline\\_results\\data\\pubmed_open_access_files\\PMC56998\\1471-2199-2-10.nxml\n",
      "a:\\Vishal\\BiomedCLIP_data_pipeline\\_results\\data\\pubmed_open_access_files\\PMC56999\\1471-2202-2-12.nxml\n",
      "starting...\n",
      "parsed a:\\Vishal\\BiomedCLIP_data_pipeline\\_results\\data\\pubmed_open_access_files\\PMC56999\\1471-2202-2-12.nxml\n",
      "a:\\Vishal\\BiomedCLIP_data_pipeline\\_results\\data\\pubmed_open_access_files\\PMC57000\\1471-2202-2-14.nxml\n",
      "starting...\n",
      "parsed a:\\Vishal\\BiomedCLIP_data_pipeline\\_results\\data\\pubmed_open_access_files\\PMC57000\\1471-2202-2-14.nxml\n",
      "no output\n",
      "a:\\Vishal\\BiomedCLIP_data_pipeline\\_results\\data\\pubmed_open_access_files\\PMC57001\\1471-2210-1-4.nxml\n",
      "starting...\n",
      "parsed a:\\Vishal\\BiomedCLIP_data_pipeline\\_results\\data\\pubmed_open_access_files\\PMC57001\\1471-2210-1-4.nxml\n",
      "a:\\Vishal\\BiomedCLIP_data_pipeline\\_results\\data\\pubmed_open_access_files\\PMC57002\\1471-2296-2-3.nxml\n",
      "starting...\n",
      "parsed a:\\Vishal\\BiomedCLIP_data_pipeline\\_results\\data\\pubmed_open_access_files\\PMC57002\\1471-2296-2-3.nxml\n",
      "a:\\Vishal\\BiomedCLIP_data_pipeline\\_results\\data\\pubmed_open_access_files\\PMC57003\\1471-2431-1-2.nxml\n",
      "starting...\n",
      "parsed a:\\Vishal\\BiomedCLIP_data_pipeline\\_results\\data\\pubmed_open_access_files\\PMC57003\\1471-2431-1-2.nxml\n",
      "a:\\Vishal\\BiomedCLIP_data_pipeline\\_results\\data\\pubmed_open_access_files\\PMC57004\\1471-2458-1-8.nxml\n",
      "starting...\n",
      "parsed a:\\Vishal\\BiomedCLIP_data_pipeline\\_results\\data\\pubmed_open_access_files\\PMC57004\\1471-2458-1-8.nxml\n",
      "no output\n",
      "a:\\Vishal\\BiomedCLIP_data_pipeline\\_results\\data\\pubmed_open_access_files\\PMC57005\\1471-2482-1-2.nxml\n",
      "starting...\n",
      "parsed a:\\Vishal\\BiomedCLIP_data_pipeline\\_results\\data\\pubmed_open_access_files\\PMC57005\\1471-2482-1-2.nxml\n",
      "no output\n",
      "a:\\Vishal\\BiomedCLIP_data_pipeline\\_results\\data\\pubmed_open_access_files\\PMC57006\\1471-5945-1-4.nxml\n",
      "starting...\n",
      "parsed a:\\Vishal\\BiomedCLIP_data_pipeline\\_results\\data\\pubmed_open_access_files\\PMC57006\\1471-5945-1-4.nxml\n",
      "a:\\Vishal\\BiomedCLIP_data_pipeline\\_results\\data\\pubmed_open_access_files\\PMC57007\\1472-6890-1-3.nxml\n",
      "starting...\n",
      "parsed a:\\Vishal\\BiomedCLIP_data_pipeline\\_results\\data\\pubmed_open_access_files\\PMC57007\\1472-6890-1-3.nxml\n",
      "a:\\Vishal\\BiomedCLIP_data_pipeline\\_results\\data\\pubmed_open_access_files\\PMC57008\\1472-6963-1-7.nxml\n",
      "starting...\n",
      "parsed a:\\Vishal\\BiomedCLIP_data_pipeline\\_results\\data\\pubmed_open_access_files\\PMC57008\\1472-6963-1-7.nxml\n",
      "a:\\Vishal\\BiomedCLIP_data_pipeline\\_results\\data\\pubmed_open_access_files\\PMC57009\\1472-6963-1-8.nxml\n",
      "starting...\n",
      "parsed a:\\Vishal\\BiomedCLIP_data_pipeline\\_results\\data\\pubmed_open_access_files\\PMC57009\\1472-6963-1-8.nxml\n",
      "no output\n",
      "a:\\Vishal\\BiomedCLIP_data_pipeline\\_results\\data\\pubmed_open_access_files\\PMC57735\\1471-2105-2-6.nxml\n",
      "starting...\n",
      "parsed a:\\Vishal\\BiomedCLIP_data_pipeline\\_results\\data\\pubmed_open_access_files\\PMC57735\\1471-2105-2-6.nxml\n",
      "a:\\Vishal\\BiomedCLIP_data_pipeline\\_results\\data\\pubmed_open_access_files\\PMC57736\\1471-2121-2-18.nxml\n",
      "starting...\n",
      "parsed a:\\Vishal\\BiomedCLIP_data_pipeline\\_results\\data\\pubmed_open_access_files\\PMC57736\\1471-2121-2-18.nxml\n",
      "a:\\Vishal\\BiomedCLIP_data_pipeline\\_results\\data\\pubmed_open_access_files\\PMC57737\\1471-2148-1-3.nxml\n",
      "starting...\n",
      "parsed a:\\Vishal\\BiomedCLIP_data_pipeline\\_results\\data\\pubmed_open_access_files\\PMC57737\\1471-2148-1-3.nxml\n",
      "a:\\Vishal\\BiomedCLIP_data_pipeline\\_results\\data\\pubmed_open_access_files\\PMC57738\\1471-2156-2-16.nxml\n",
      "starting...\n",
      "parsed a:\\Vishal\\BiomedCLIP_data_pipeline\\_results\\data\\pubmed_open_access_files\\PMC57738\\1471-2156-2-16.nxml\n",
      "no output\n",
      "a:\\Vishal\\BiomedCLIP_data_pipeline\\_results\\data\\pubmed_open_access_files\\PMC57739\\1471-2180-1-17.nxml\n",
      "starting...\n",
      "parsed a:\\Vishal\\BiomedCLIP_data_pipeline\\_results\\data\\pubmed_open_access_files\\PMC57739\\1471-2180-1-17.nxml\n",
      "a:\\Vishal\\BiomedCLIP_data_pipeline\\_results\\data\\pubmed_open_access_files\\PMC57740\\1471-2202-2-11.nxml\n",
      "starting...\n",
      "parsed a:\\Vishal\\BiomedCLIP_data_pipeline\\_results\\data\\pubmed_open_access_files\\PMC57740\\1471-2202-2-11.nxml\n",
      "a:\\Vishal\\BiomedCLIP_data_pipeline\\_results\\data\\pubmed_open_access_files\\PMC57741\\1471-2288-1-7.nxml\n",
      "starting...\n",
      "parsed a:\\Vishal\\BiomedCLIP_data_pipeline\\_results\\data\\pubmed_open_access_files\\PMC57741\\1471-2288-1-7.nxml\n",
      "a:\\Vishal\\BiomedCLIP_data_pipeline\\_results\\data\\pubmed_open_access_files\\PMC57742\\1471-2334-1-11.nxml\n",
      "starting...\n",
      "parsed a:\\Vishal\\BiomedCLIP_data_pipeline\\_results\\data\\pubmed_open_access_files\\PMC57742\\1471-2334-1-11.nxml\n",
      "no output\n",
      "a:\\Vishal\\BiomedCLIP_data_pipeline\\_results\\data\\pubmed_open_access_files\\PMC57743\\1471-2334-1-14.nxml\n",
      "starting...\n",
      "parsed a:\\Vishal\\BiomedCLIP_data_pipeline\\_results\\data\\pubmed_open_access_files\\PMC57743\\1471-2334-1-14.nxml\n",
      "a:\\Vishal\\BiomedCLIP_data_pipeline\\_results\\data\\pubmed_open_access_files\\PMC57744\\1471-2334-1-16.nxml\n",
      "starting...\n",
      "parsed a:\\Vishal\\BiomedCLIP_data_pipeline\\_results\\data\\pubmed_open_access_files\\PMC57744\\1471-2334-1-16.nxml\n",
      "no output\n",
      "a:\\Vishal\\BiomedCLIP_data_pipeline\\_results\\data\\pubmed_open_access_files\\PMC57745\\1471-2377-1-5.nxml\n",
      "starting...\n",
      "parsed a:\\Vishal\\BiomedCLIP_data_pipeline\\_results\\data\\pubmed_open_access_files\\PMC57745\\1471-2377-1-5.nxml\n",
      "no output\n",
      "a:\\Vishal\\BiomedCLIP_data_pipeline\\_results\\data\\pubmed_open_access_files\\PMC57746\\1471-2091-2-9.nxml\n",
      "starting...\n",
      "parsed a:\\Vishal\\BiomedCLIP_data_pipeline\\_results\\data\\pubmed_open_access_files\\PMC57746\\1471-2091-2-9.nxml\n",
      "a:\\Vishal\\BiomedCLIP_data_pipeline\\_results\\data\\pubmed_open_access_files\\PMC57747\\1472-6750-1-7.nxml\n",
      "starting...\n",
      "parsed a:\\Vishal\\BiomedCLIP_data_pipeline\\_results\\data\\pubmed_open_access_files\\PMC57747\\1472-6750-1-7.nxml\n",
      "a:\\Vishal\\BiomedCLIP_data_pipeline\\_results\\data\\pubmed_open_access_files\\PMC57748\\1472-6904-1-3.nxml\n",
      "starting...\n",
      "parsed a:\\Vishal\\BiomedCLIP_data_pipeline\\_results\\data\\pubmed_open_access_files\\PMC57748\\1472-6904-1-3.nxml\n",
      "a:\\Vishal\\BiomedCLIP_data_pipeline\\_results\\data\\pubmed_open_access_files\\PMC57749\\cvm-2-4-180.nxml\n",
      "starting...\n",
      "parsed a:\\Vishal\\BiomedCLIP_data_pipeline\\_results\\data\\pubmed_open_access_files\\PMC57749\\cvm-2-4-180.nxml\n",
      "a:\\Vishal\\BiomedCLIP_data_pipeline\\_results\\data\\pubmed_open_access_files\\PMC57750\\cvm-2-4-187.nxml\n",
      "starting...\n",
      "parsed a:\\Vishal\\BiomedCLIP_data_pipeline\\_results\\data\\pubmed_open_access_files\\PMC57750\\cvm-2-4-187.nxml\n",
      "no output\n",
      "a:\\Vishal\\BiomedCLIP_data_pipeline\\_results\\data\\pubmed_open_access_files\\PMC57751\\cvm-2-4-195.nxml\n",
      "starting...\n",
      "parsed a:\\Vishal\\BiomedCLIP_data_pipeline\\_results\\data\\pubmed_open_access_files\\PMC57751\\cvm-2-4-195.nxml\n",
      "a:\\Vishal\\BiomedCLIP_data_pipeline\\_results\\data\\pubmed_open_access_files\\PMC57752\\1471-2210-1-5.nxml\n",
      "starting...\n",
      "parsed a:\\Vishal\\BiomedCLIP_data_pipeline\\_results\\data\\pubmed_open_access_files\\PMC57752\\1471-2210-1-5.nxml\n",
      "a:\\Vishal\\BiomedCLIP_data_pipeline\\_results\\data\\pubmed_open_access_files\\PMC57753\\1471-2415-1-3.nxml\n",
      "starting...\n",
      "parsed a:\\Vishal\\BiomedCLIP_data_pipeline\\_results\\data\\pubmed_open_access_files\\PMC57753\\1471-2415-1-3.nxml\n",
      "a:\\Vishal\\BiomedCLIP_data_pipeline\\_results\\data\\pubmed_open_access_files\\PMC57796\\gb-2001-2-10-research0041.nxml\n",
      "starting...\n",
      "parsed a:\\Vishal\\BiomedCLIP_data_pipeline\\_results\\data\\pubmed_open_access_files\\PMC57796\\gb-2001-2-10-research0041.nxml\n",
      "a:\\Vishal\\BiomedCLIP_data_pipeline\\_results\\data\\pubmed_open_access_files\\PMC57797\\gb-2001-2-10-research0042.nxml\n",
      "starting...\n",
      "parsed a:\\Vishal\\BiomedCLIP_data_pipeline\\_results\\data\\pubmed_open_access_files\\PMC57797\\gb-2001-2-10-research0042.nxml\n",
      "a:\\Vishal\\BiomedCLIP_data_pipeline\\_results\\data\\pubmed_open_access_files\\PMC57798\\gb-2001-2-10-research0043.nxml\n",
      "starting...\n",
      "parsed a:\\Vishal\\BiomedCLIP_data_pipeline\\_results\\data\\pubmed_open_access_files\\PMC57798\\gb-2001-2-10-research0043.nxml\n",
      "a:\\Vishal\\BiomedCLIP_data_pipeline\\_results\\data\\pubmed_open_access_files\\PMC57799\\gb-2001-2-10-research0044.nxml\n",
      "starting...\n",
      "parsed a:\\Vishal\\BiomedCLIP_data_pipeline\\_results\\data\\pubmed_open_access_files\\PMC57799\\gb-2001-2-10-research0044.nxml\n",
      "a:\\Vishal\\BiomedCLIP_data_pipeline\\_results\\data\\pubmed_open_access_files\\PMC57803\\BCR-3-5-336.nxml\n",
      "starting...\n",
      "parsed a:\\Vishal\\BiomedCLIP_data_pipeline\\_results\\data\\pubmed_open_access_files\\PMC57803\\BCR-3-5-336.nxml\n",
      "a:\\Vishal\\BiomedCLIP_data_pipeline\\_results\\data\\pubmed_open_access_files\\PMC57804\\BCR-3-5-342.nxml\n",
      "starting...\n",
      "parsed a:\\Vishal\\BiomedCLIP_data_pipeline\\_results\\data\\pubmed_open_access_files\\PMC57804\\BCR-3-5-342.nxml\n",
      "a:\\Vishal\\BiomedCLIP_data_pipeline\\_results\\data\\pubmed_open_access_files\\PMC57805\\BCR-3-5-346.nxml\n",
      "starting...\n",
      "parsed a:\\Vishal\\BiomedCLIP_data_pipeline\\_results\\data\\pubmed_open_access_files\\PMC57805\\BCR-3-5-346.nxml\n",
      "a:\\Vishal\\BiomedCLIP_data_pipeline\\_results\\data\\pubmed_open_access_files\\PMC57806\\1471-2180-1-21.nxml\n",
      "starting...\n",
      "parsed a:\\Vishal\\BiomedCLIP_data_pipeline\\_results\\data\\pubmed_open_access_files\\PMC57806\\1471-2180-1-21.nxml\n",
      "a:\\Vishal\\BiomedCLIP_data_pipeline\\_results\\data\\pubmed_open_access_files\\PMC57807\\1471-2180-1-23.nxml\n",
      "starting...\n",
      "parsed a:\\Vishal\\BiomedCLIP_data_pipeline\\_results\\data\\pubmed_open_access_files\\PMC57807\\1471-2180-1-23.nxml\n",
      "a:\\Vishal\\BiomedCLIP_data_pipeline\\_results\\data\\pubmed_open_access_files\\PMC57808\\1471-2288-1-9.nxml\n",
      "starting...\n",
      "parsed a:\\Vishal\\BiomedCLIP_data_pipeline\\_results\\data\\pubmed_open_access_files\\PMC57808\\1471-2288-1-9.nxml\n",
      "no output\n",
      "a:\\Vishal\\BiomedCLIP_data_pipeline\\_results\\data\\pubmed_open_access_files\\PMC57809\\1471-2334-1-13.nxml\n",
      "starting...\n",
      "parsed a:\\Vishal\\BiomedCLIP_data_pipeline\\_results\\data\\pubmed_open_access_files\\PMC57809\\1471-2334-1-13.nxml\n",
      "no output\n",
      "a:\\Vishal\\BiomedCLIP_data_pipeline\\_results\\data\\pubmed_open_access_files\\PMC57810\\1471-2334-1-15.nxml\n",
      "starting...\n",
      "parsed a:\\Vishal\\BiomedCLIP_data_pipeline\\_results\\data\\pubmed_open_access_files\\PMC57810\\1471-2334-1-15.nxml\n",
      "no output\n",
      "a:\\Vishal\\BiomedCLIP_data_pipeline\\_results\\data\\pubmed_open_access_files\\PMC57811\\1471-2334-1-17.nxml\n",
      "starting...\n",
      "parsed a:\\Vishal\\BiomedCLIP_data_pipeline\\_results\\data\\pubmed_open_access_files\\PMC57811\\1471-2334-1-17.nxml\n",
      "a:\\Vishal\\BiomedCLIP_data_pipeline\\_results\\data\\pubmed_open_access_files\\PMC57812\\1471-244X-1-4.nxml\n",
      "starting...\n",
      "parsed a:\\Vishal\\BiomedCLIP_data_pipeline\\_results\\data\\pubmed_open_access_files\\PMC57812\\1471-244X-1-4.nxml\n",
      "no output\n",
      "a:\\Vishal\\BiomedCLIP_data_pipeline\\_results\\data\\pubmed_open_access_files\\PMC57813\\1471-2466-1-1.nxml\n",
      "starting...\n",
      "parsed a:\\Vishal\\BiomedCLIP_data_pipeline\\_results\\data\\pubmed_open_access_files\\PMC57813\\1471-2466-1-1.nxml\n",
      "no output\n",
      "a:\\Vishal\\BiomedCLIP_data_pipeline\\_results\\data\\pubmed_open_access_files\\PMC57814\\1472-6750-1-6.nxml\n",
      "starting...\n",
      "parsed a:\\Vishal\\BiomedCLIP_data_pipeline\\_results\\data\\pubmed_open_access_files\\PMC57814\\1472-6750-1-6.nxml\n",
      "a:\\Vishal\\BiomedCLIP_data_pipeline\\_results\\data\\pubmed_open_access_files\\PMC57815\\1472-6807-1-4.nxml\n",
      "starting...\n",
      "parsed a:\\Vishal\\BiomedCLIP_data_pipeline\\_results\\data\\pubmed_open_access_files\\PMC57815\\1472-6807-1-4.nxml\n",
      "a:\\Vishal\\BiomedCLIP_data_pipeline\\_results\\data\\pubmed_open_access_files\\PMC57816\\1472-6882-1-7.nxml\n",
      "starting...\n",
      "parsed a:\\Vishal\\BiomedCLIP_data_pipeline\\_results\\data\\pubmed_open_access_files\\PMC57816\\1472-6882-1-7.nxml\n",
      "a:\\Vishal\\BiomedCLIP_data_pipeline\\_results\\data\\pubmed_open_access_files\\PMC57979\\1471-2318-1-2.nxml\n",
      "starting...\n",
      "parsed a:\\Vishal\\BiomedCLIP_data_pipeline\\_results\\data\\pubmed_open_access_files\\PMC57979\\1471-2318-1-2.nxml\n",
      "a:\\Vishal\\BiomedCLIP_data_pipeline\\_results\\data\\pubmed_open_access_files\\PMC57980\\1471-2164-2-6.nxml\n",
      "starting...\n",
      "parsed a:\\Vishal\\BiomedCLIP_data_pipeline\\_results\\data\\pubmed_open_access_files\\PMC57980\\1471-2164-2-6.nxml\n",
      "a:\\Vishal\\BiomedCLIP_data_pipeline\\_results\\data\\pubmed_open_access_files\\PMC57981\\1472-6750-1-5.nxml\n",
      "starting...\n",
      "parsed a:\\Vishal\\BiomedCLIP_data_pipeline\\_results\\data\\pubmed_open_access_files\\PMC57981\\1472-6750-1-5.nxml\n",
      "a:\\Vishal\\BiomedCLIP_data_pipeline\\_results\\data\\pubmed_open_access_files\\PMC57982\\1472-6947-1-3.nxml\n",
      "starting...\n",
      "parsed a:\\Vishal\\BiomedCLIP_data_pipeline\\_results\\data\\pubmed_open_access_files\\PMC57982\\1472-6947-1-3.nxml\n",
      "a:\\Vishal\\BiomedCLIP_data_pipeline\\_results\\data\\pubmed_open_access_files\\PMC58584\\1471-2105-2-7.nxml\n",
      "starting...\n",
      "parsed a:\\Vishal\\BiomedCLIP_data_pipeline\\_results\\data\\pubmed_open_access_files\\PMC58584\\1471-2105-2-7.nxml\n",
      "a:\\Vishal\\BiomedCLIP_data_pipeline\\_results\\data\\pubmed_open_access_files\\PMC58585\\1471-2148-1-2.nxml\n",
      "starting...\n",
      "parsed a:\\Vishal\\BiomedCLIP_data_pipeline\\_results\\data\\pubmed_open_access_files\\PMC58585\\1471-2148-1-2.nxml\n",
      "a:\\Vishal\\BiomedCLIP_data_pipeline\\_results\\data\\pubmed_open_access_files\\PMC58586\\1471-2210-1-8.nxml\n",
      "starting...\n",
      "parsed a:\\Vishal\\BiomedCLIP_data_pipeline\\_results\\data\\pubmed_open_access_files\\PMC58586\\1471-2210-1-8.nxml\n",
      "a:\\Vishal\\BiomedCLIP_data_pipeline\\_results\\data\\pubmed_open_access_files\\PMC58587\\1471-2229-1-1.nxml\n",
      "starting...\n",
      "parsed a:\\Vishal\\BiomedCLIP_data_pipeline\\_results\\data\\pubmed_open_access_files\\PMC58587\\1471-2229-1-1.nxml\n",
      "a:\\Vishal\\BiomedCLIP_data_pipeline\\_results\\data\\pubmed_open_access_files\\PMC58588\\1471-2296-2-4.nxml\n",
      "starting...\n",
      "parsed a:\\Vishal\\BiomedCLIP_data_pipeline\\_results\\data\\pubmed_open_access_files\\PMC58588\\1471-2296-2-4.nxml\n",
      "no output\n",
      "a:\\Vishal\\BiomedCLIP_data_pipeline\\_results\\data\\pubmed_open_access_files\\PMC58589\\1471-2334-1-18.nxml\n",
      "starting...\n",
      "parsed a:\\Vishal\\BiomedCLIP_data_pipeline\\_results\\data\\pubmed_open_access_files\\PMC58589\\1471-2334-1-18.nxml\n",
      "a:\\Vishal\\BiomedCLIP_data_pipeline\\_results\\data\\pubmed_open_access_files\\PMC58590\\1471-2393-1-3.nxml\n",
      "starting...\n",
      "parsed a:\\Vishal\\BiomedCLIP_data_pipeline\\_results\\data\\pubmed_open_access_files\\PMC58590\\1471-2393-1-3.nxml\n",
      "a:\\Vishal\\BiomedCLIP_data_pipeline\\_results\\data\\pubmed_open_access_files\\PMC58833\\1472-6920-1-5.nxml\n",
      "starting...\n",
      "parsed a:\\Vishal\\BiomedCLIP_data_pipeline\\_results\\data\\pubmed_open_access_files\\PMC58833\\1472-6920-1-5.nxml\n",
      "a:\\Vishal\\BiomedCLIP_data_pipeline\\_results\\data\\pubmed_open_access_files\\PMC58835\\1471-2407-1-13.nxml\n",
      "starting...\n",
      "parsed a:\\Vishal\\BiomedCLIP_data_pipeline\\_results\\data\\pubmed_open_access_files\\PMC58835\\1471-2407-1-13.nxml\n",
      "a:\\Vishal\\BiomedCLIP_data_pipeline\\_results\\data\\pubmed_open_access_files\\PMC58836\\1472-6963-1-10.nxml\n",
      "starting...\n",
      "parsed a:\\Vishal\\BiomedCLIP_data_pipeline\\_results\\data\\pubmed_open_access_files\\PMC58836\\1472-6963-1-10.nxml\n",
      "a:\\Vishal\\BiomedCLIP_data_pipeline\\_results\\data\\pubmed_open_access_files\\PMC58837\\1471-2288-1-8.nxml\n",
      "starting...\n",
      "parsed a:\\Vishal\\BiomedCLIP_data_pipeline\\_results\\data\\pubmed_open_access_files\\PMC58837\\1471-2288-1-8.nxml\n",
      "a:\\Vishal\\BiomedCLIP_data_pipeline\\_results\\data\\pubmed_open_access_files\\PMC58838\\1471-2202-2-15.nxml\n",
      "starting...\n",
      "parsed a:\\Vishal\\BiomedCLIP_data_pipeline\\_results\\data\\pubmed_open_access_files\\PMC58838\\1471-2202-2-15.nxml\n",
      "a:\\Vishal\\BiomedCLIP_data_pipeline\\_results\\data\\pubmed_open_access_files\\PMC58839\\1471-2172-2-11.nxml\n",
      "starting...\n",
      "parsed a:\\Vishal\\BiomedCLIP_data_pipeline\\_results\\data\\pubmed_open_access_files\\PMC58839\\1471-2172-2-11.nxml\n",
      "a:\\Vishal\\BiomedCLIP_data_pipeline\\_results\\data\\pubmed_open_access_files\\PMC59472\\1472-6750-1-8.nxml\n",
      "starting...\n",
      "parsed a:\\Vishal\\BiomedCLIP_data_pipeline\\_results\\data\\pubmed_open_access_files\\PMC59472\\1472-6750-1-8.nxml\n",
      "a:\\Vishal\\BiomedCLIP_data_pipeline\\_results\\data\\pubmed_open_access_files\\PMC59506\\1471-2180-1-25.nxml\n",
      "starting...\n",
      "parsed a:\\Vishal\\BiomedCLIP_data_pipeline\\_results\\data\\pubmed_open_access_files\\PMC59506\\1471-2180-1-25.nxml\n",
      "a:\\Vishal\\BiomedCLIP_data_pipeline\\_results\\data\\pubmed_open_access_files\\PMC59507\\1471-2210-1-7.nxml\n",
      "starting...\n",
      "parsed a:\\Vishal\\BiomedCLIP_data_pipeline\\_results\\data\\pubmed_open_access_files\\PMC59507\\1471-2210-1-7.nxml\n",
      "a:\\Vishal\\BiomedCLIP_data_pipeline\\_results\\data\\pubmed_open_access_files\\PMC59508\\RR-2-5-261.nxml\n",
      "starting...\n",
      "parsed a:\\Vishal\\BiomedCLIP_data_pipeline\\_results\\data\\pubmed_open_access_files\\PMC59508\\RR-2-5-261.nxml\n",
      "no output\n",
      "a:\\Vishal\\BiomedCLIP_data_pipeline\\_results\\data\\pubmed_open_access_files\\PMC59509\\RR-2-5-E001.nxml\n",
      "starting...\n",
      "parsed a:\\Vishal\\BiomedCLIP_data_pipeline\\_results\\data\\pubmed_open_access_files\\PMC59509\\RR-2-5-E001.nxml\n",
      "no output\n",
      "a:\\Vishal\\BiomedCLIP_data_pipeline\\_results\\data\\pubmed_open_access_files\\PMC59510\\RR-2-5-E002.nxml\n",
      "starting...\n",
      "parsed a:\\Vishal\\BiomedCLIP_data_pipeline\\_results\\data\\pubmed_open_access_files\\PMC59510\\RR-2-5-E002.nxml\n",
      "no output\n",
      "a:\\Vishal\\BiomedCLIP_data_pipeline\\_results\\data\\pubmed_open_access_files\\PMC59511\\RR-2-5-E003.nxml\n",
      "starting...\n",
      "parsed a:\\Vishal\\BiomedCLIP_data_pipeline\\_results\\data\\pubmed_open_access_files\\PMC59511\\RR-2-5-E003.nxml\n",
      "no output\n",
      "a:\\Vishal\\BiomedCLIP_data_pipeline\\_results\\data\\pubmed_open_access_files\\PMC59512\\RR-2-5-E004.nxml\n",
      "starting...\n",
      "parsed a:\\Vishal\\BiomedCLIP_data_pipeline\\_results\\data\\pubmed_open_access_files\\PMC59512\\RR-2-5-E004.nxml\n",
      "no output\n",
      "a:\\Vishal\\BiomedCLIP_data_pipeline\\_results\\data\\pubmed_open_access_files\\PMC59513\\rr-2-5-265.nxml\n",
      "starting...\n",
      "parsed a:\\Vishal\\BiomedCLIP_data_pipeline\\_results\\data\\pubmed_open_access_files\\PMC59513\\rr-2-5-265.nxml\n",
      "a:\\Vishal\\BiomedCLIP_data_pipeline\\_results\\data\\pubmed_open_access_files\\PMC59514\\rr-2-5-269.nxml\n",
      "starting...\n",
      "parsed a:\\Vishal\\BiomedCLIP_data_pipeline\\_results\\data\\pubmed_open_access_files\\PMC59514\\rr-2-5-269.nxml\n",
      "a:\\Vishal\\BiomedCLIP_data_pipeline\\_results\\data\\pubmed_open_access_files\\PMC59515\\rr-2-5-273.nxml\n",
      "starting...\n",
      "parsed a:\\Vishal\\BiomedCLIP_data_pipeline\\_results\\data\\pubmed_open_access_files\\PMC59515\\rr-2-5-273.nxml\n",
      "no output\n",
      "a:\\Vishal\\BiomedCLIP_data_pipeline\\_results\\data\\pubmed_open_access_files\\PMC59516\\rr-2-5-276.nxml\n",
      "starting...\n",
      "parsed a:\\Vishal\\BiomedCLIP_data_pipeline\\_results\\data\\pubmed_open_access_files\\PMC59516\\rr-2-5-276.nxml\n",
      "no output\n",
      "a:\\Vishal\\BiomedCLIP_data_pipeline\\_results\\data\\pubmed_open_access_files\\PMC59517\\rr-2-5-280.nxml\n",
      "starting...\n",
      "parsed a:\\Vishal\\BiomedCLIP_data_pipeline\\_results\\data\\pubmed_open_access_files\\PMC59517\\rr-2-5-280.nxml\n",
      "a:\\Vishal\\BiomedCLIP_data_pipeline\\_results\\data\\pubmed_open_access_files\\PMC59518\\rr-2-5-286.nxml\n",
      "starting...\n",
      "parsed a:\\Vishal\\BiomedCLIP_data_pipeline\\_results\\data\\pubmed_open_access_files\\PMC59518\\rr-2-5-286.nxml\n",
      "a:\\Vishal\\BiomedCLIP_data_pipeline\\_results\\data\\pubmed_open_access_files\\PMC59519\\rr-2-5-295.nxml\n",
      "starting...\n",
      "parsed a:\\Vishal\\BiomedCLIP_data_pipeline\\_results\\data\\pubmed_open_access_files\\PMC59519\\rr-2-5-295.nxml\n",
      "a:\\Vishal\\BiomedCLIP_data_pipeline\\_results\\data\\pubmed_open_access_files\\PMC59520\\rr-2-5-300.nxml\n",
      "starting...\n",
      "parsed a:\\Vishal\\BiomedCLIP_data_pipeline\\_results\\data\\pubmed_open_access_files\\PMC59520\\rr-2-5-300.nxml\n",
      "a:\\Vishal\\BiomedCLIP_data_pipeline\\_results\\data\\pubmed_open_access_files\\PMC59521\\rr-2-5-306.nxml\n",
      "starting...\n",
      "parsed a:\\Vishal\\BiomedCLIP_data_pipeline\\_results\\data\\pubmed_open_access_files\\PMC59521\\rr-2-5-306.nxml\n",
      "a:\\Vishal\\BiomedCLIP_data_pipeline\\_results\\data\\pubmed_open_access_files\\PMC59522\\CVM-2-5-215.nxml\n",
      "starting...\n",
      "parsed a:\\Vishal\\BiomedCLIP_data_pipeline\\_results\\data\\pubmed_open_access_files\\PMC59522\\CVM-2-5-215.nxml\n",
      "no output\n",
      "a:\\Vishal\\BiomedCLIP_data_pipeline\\_results\\data\\pubmed_open_access_files\\PMC59523\\CVM-2-5-240.nxml\n",
      "starting...\n",
      "parsed a:\\Vishal\\BiomedCLIP_data_pipeline\\_results\\data\\pubmed_open_access_files\\PMC59523\\CVM-2-5-240.nxml\n",
      "no output\n",
      "a:\\Vishal\\BiomedCLIP_data_pipeline\\_results\\data\\pubmed_open_access_files\\PMC59524\\Cvm-2-5-205.nxml\n",
      "starting...\n",
      "parsed a:\\Vishal\\BiomedCLIP_data_pipeline\\_results\\data\\pubmed_open_access_files\\PMC59524\\Cvm-2-5-205.nxml\n",
      "no output\n",
      "a:\\Vishal\\BiomedCLIP_data_pipeline\\_results\\data\\pubmed_open_access_files\\PMC59525\\Cvm-2-5-218.nxml\n",
      "starting...\n",
      "parsed a:\\Vishal\\BiomedCLIP_data_pipeline\\_results\\data\\pubmed_open_access_files\\PMC59525\\Cvm-2-5-218.nxml\n",
      "no output\n",
      "a:\\Vishal\\BiomedCLIP_data_pipeline\\_results\\data\\pubmed_open_access_files\\PMC59526\\Cvm-2-5-233.nxml\n",
      "starting...\n",
      "parsed a:\\Vishal\\BiomedCLIP_data_pipeline\\_results\\data\\pubmed_open_access_files\\PMC59526\\Cvm-2-5-233.nxml\n",
      "no output\n",
      "a:\\Vishal\\BiomedCLIP_data_pipeline\\_results\\data\\pubmed_open_access_files\\PMC59527\\Cvm-2-5-244.nxml\n",
      "starting...\n",
      "parsed a:\\Vishal\\BiomedCLIP_data_pipeline\\_results\\data\\pubmed_open_access_files\\PMC59527\\Cvm-2-5-244.nxml\n",
      "no output\n",
      "a:\\Vishal\\BiomedCLIP_data_pipeline\\_results\\data\\pubmed_open_access_files\\PMC59528\\cvm-2-5-208.nxml\n",
      "starting...\n",
      "parsed a:\\Vishal\\BiomedCLIP_data_pipeline\\_results\\data\\pubmed_open_access_files\\PMC59528\\cvm-2-5-208.nxml\n",
      "no output\n",
      "a:\\Vishal\\BiomedCLIP_data_pipeline\\_results\\data\\pubmed_open_access_files\\PMC59529\\cvm-2-5-211.nxml\n",
      "starting...\n",
      "parsed a:\\Vishal\\BiomedCLIP_data_pipeline\\_results\\data\\pubmed_open_access_files\\PMC59529\\cvm-2-5-211.nxml\n",
      "no output\n",
      "a:\\Vishal\\BiomedCLIP_data_pipeline\\_results\\data\\pubmed_open_access_files\\PMC59530\\cvm-2-5-221.nxml\n",
      "starting...\n",
      "parsed a:\\Vishal\\BiomedCLIP_data_pipeline\\_results\\data\\pubmed_open_access_files\\PMC59530\\cvm-2-5-221.nxml\n",
      "a:\\Vishal\\BiomedCLIP_data_pipeline\\_results\\data\\pubmed_open_access_files\\PMC59531\\rr-1-1-001.nxml\n",
      "starting...\n",
      "parsed a:\\Vishal\\BiomedCLIP_data_pipeline\\_results\\data\\pubmed_open_access_files\\PMC59531\\rr-1-1-001.nxml\n",
      "no output\n",
      "a:\\Vishal\\BiomedCLIP_data_pipeline\\_results\\data\\pubmed_open_access_files\\PMC59532\\rr-1-1-003.nxml\n",
      "starting...\n",
      "parsed a:\\Vishal\\BiomedCLIP_data_pipeline\\_results\\data\\pubmed_open_access_files\\PMC59532\\rr-1-1-003.nxml\n",
      "no output\n",
      "a:\\Vishal\\BiomedCLIP_data_pipeline\\_results\\data\\pubmed_open_access_files\\PMC59533\\rr-1-1-006.nxml\n",
      "starting...\n",
      "parsed a:\\Vishal\\BiomedCLIP_data_pipeline\\_results\\data\\pubmed_open_access_files\\PMC59533\\rr-1-1-006.nxml\n",
      "no output\n",
      "a:\\Vishal\\BiomedCLIP_data_pipeline\\_results\\data\\pubmed_open_access_files\\PMC59534\\rr-1-1-009.nxml\n",
      "starting...\n",
      "parsed a:\\Vishal\\BiomedCLIP_data_pipeline\\_results\\data\\pubmed_open_access_files\\PMC59534\\rr-1-1-009.nxml\n",
      "no output\n",
      "a:\\Vishal\\BiomedCLIP_data_pipeline\\_results\\data\\pubmed_open_access_files\\PMC59535\\rr-1-1-012.nxml\n",
      "starting...\n",
      "parsed a:\\Vishal\\BiomedCLIP_data_pipeline\\_results\\data\\pubmed_open_access_files\\PMC59535\\rr-1-1-012.nxml\n",
      "no output\n",
      "a:\\Vishal\\BiomedCLIP_data_pipeline\\_results\\data\\pubmed_open_access_files\\PMC59536\\rr-1-1-016.nxml\n",
      "starting...\n",
      "parsed a:\\Vishal\\BiomedCLIP_data_pipeline\\_results\\data\\pubmed_open_access_files\\PMC59536\\rr-1-1-016.nxml\n",
      "a:\\Vishal\\BiomedCLIP_data_pipeline\\_results\\data\\pubmed_open_access_files\\PMC59537\\rr-1-1-019.nxml\n",
      "starting...\n",
      "parsed a:\\Vishal\\BiomedCLIP_data_pipeline\\_results\\data\\pubmed_open_access_files\\PMC59537\\rr-1-1-019.nxml\n",
      "no output\n",
      "a:\\Vishal\\BiomedCLIP_data_pipeline\\_results\\data\\pubmed_open_access_files\\PMC59538\\rr-1-1-024.nxml\n",
      "starting...\n",
      "parsed a:\\Vishal\\BiomedCLIP_data_pipeline\\_results\\data\\pubmed_open_access_files\\PMC59538\\rr-1-1-024.nxml\n",
      "a:\\Vishal\\BiomedCLIP_data_pipeline\\_results\\data\\pubmed_open_access_files\\PMC59539\\rr-1-1-030.nxml\n",
      "starting...\n",
      "parsed a:\\Vishal\\BiomedCLIP_data_pipeline\\_results\\data\\pubmed_open_access_files\\PMC59539\\rr-1-1-030.nxml\n",
      "a:\\Vishal\\BiomedCLIP_data_pipeline\\_results\\data\\pubmed_open_access_files\\PMC59540\\rr-1-1-036.nxml\n",
      "starting...\n",
      "parsed a:\\Vishal\\BiomedCLIP_data_pipeline\\_results\\data\\pubmed_open_access_files\\PMC59540\\rr-1-1-036.nxml\n",
      "no output\n",
      "a:\\Vishal\\BiomedCLIP_data_pipeline\\_results\\data\\pubmed_open_access_files\\PMC59541\\rr-1-1-040.nxml\n",
      "starting...\n",
      "parsed a:\\Vishal\\BiomedCLIP_data_pipeline\\_results\\data\\pubmed_open_access_files\\PMC59541\\rr-1-1-040.nxml\n",
      "a:\\Vishal\\BiomedCLIP_data_pipeline\\_results\\data\\pubmed_open_access_files\\PMC59542\\rr-1-1-049.nxml\n",
      "starting...\n",
      "parsed a:\\Vishal\\BiomedCLIP_data_pipeline\\_results\\data\\pubmed_open_access_files\\PMC59542\\rr-1-1-049.nxml\n",
      "a:\\Vishal\\BiomedCLIP_data_pipeline\\_results\\data\\pubmed_open_access_files\\PMC59543\\rr-1-2-067.nxml\n",
      "starting...\n",
      "parsed a:\\Vishal\\BiomedCLIP_data_pipeline\\_results\\data\\pubmed_open_access_files\\PMC59543\\rr-1-2-067.nxml\n",
      "no output\n",
      "a:\\Vishal\\BiomedCLIP_data_pipeline\\_results\\data\\pubmed_open_access_files\\PMC59544\\rr-1-1-054.nxml\n",
      "starting...\n",
      "parsed a:\\Vishal\\BiomedCLIP_data_pipeline\\_results\\data\\pubmed_open_access_files\\PMC59544\\rr-1-1-054.nxml\n",
      "no output\n",
      "a:\\Vishal\\BiomedCLIP_data_pipeline\\_results\\data\\pubmed_open_access_files\\PMC59545\\rr-1-2-073.nxml\n",
      "starting...\n",
      "parsed a:\\Vishal\\BiomedCLIP_data_pipeline\\_results\\data\\pubmed_open_access_files\\PMC59545\\rr-1-2-073.nxml\n",
      "no output\n",
      "a:\\Vishal\\BiomedCLIP_data_pipeline\\_results\\data\\pubmed_open_access_files\\PMC59546\\rr-1-2-078.nxml\n",
      "starting...\n",
      "parsed a:\\Vishal\\BiomedCLIP_data_pipeline\\_results\\data\\pubmed_open_access_files\\PMC59546\\rr-1-2-078.nxml\n",
      "no output\n",
      "a:\\Vishal\\BiomedCLIP_data_pipeline\\_results\\data\\pubmed_open_access_files\\PMC59547\\rr-1-2-082.nxml\n",
      "starting...\n",
      "parsed a:\\Vishal\\BiomedCLIP_data_pipeline\\_results\\data\\pubmed_open_access_files\\PMC59547\\rr-1-2-082.nxml\n",
      "no output\n",
      "a:\\Vishal\\BiomedCLIP_data_pipeline\\_results\\data\\pubmed_open_access_files\\PMC59548\\rr-1-2-087.nxml\n",
      "starting...\n",
      "parsed a:\\Vishal\\BiomedCLIP_data_pipeline\\_results\\data\\pubmed_open_access_files\\PMC59548\\rr-1-2-087.nxml\n",
      "a:\\Vishal\\BiomedCLIP_data_pipeline\\_results\\data\\pubmed_open_access_files\\PMC59549\\rr-1-2-093.nxml\n",
      "starting...\n",
      "parsed a:\\Vishal\\BiomedCLIP_data_pipeline\\_results\\data\\pubmed_open_access_files\\PMC59549\\rr-1-2-093.nxml\n",
      "a:\\Vishal\\BiomedCLIP_data_pipeline\\_results\\data\\pubmed_open_access_files\\PMC59550\\rr-1-2-109.nxml\n",
      "starting...\n",
      "parsed a:\\Vishal\\BiomedCLIP_data_pipeline\\_results\\data\\pubmed_open_access_files\\PMC59550\\rr-1-2-109.nxml\n",
      "a:\\Vishal\\BiomedCLIP_data_pipeline\\_results\\data\\pubmed_open_access_files\\PMC59551\\RR-1-3-129.nxml\n",
      "starting...\n",
      "parsed a:\\Vishal\\BiomedCLIP_data_pipeline\\_results\\data\\pubmed_open_access_files\\PMC59551\\RR-1-3-129.nxml\n",
      "no output\n",
      "a:\\Vishal\\BiomedCLIP_data_pipeline\\_results\\data\\pubmed_open_access_files\\PMC59552\\RR-1-3-133.nxml\n",
      "starting...\n",
      "parsed a:\\Vishal\\BiomedCLIP_data_pipeline\\_results\\data\\pubmed_open_access_files\\PMC59552\\RR-1-3-133.nxml\n",
      "no output\n",
      "a:\\Vishal\\BiomedCLIP_data_pipeline\\_results\\data\\pubmed_open_access_files\\PMC59553\\RR-1-3-151.nxml\n",
      "starting...\n",
      "parsed a:\\Vishal\\BiomedCLIP_data_pipeline\\_results\\data\\pubmed_open_access_files\\PMC59553\\RR-1-3-151.nxml\n",
      "no output\n",
      "a:\\Vishal\\BiomedCLIP_data_pipeline\\_results\\data\\pubmed_open_access_files\\PMC59554\\RR-1-3-159.nxml\n",
      "starting...\n",
      "parsed a:\\Vishal\\BiomedCLIP_data_pipeline\\_results\\data\\pubmed_open_access_files\\PMC59554\\RR-1-3-159.nxml\n",
      "a:\\Vishal\\BiomedCLIP_data_pipeline\\_results\\data\\pubmed_open_access_files\\PMC59555\\RR-1-3-163.nxml\n",
      "starting...\n",
      "parsed a:\\Vishal\\BiomedCLIP_data_pipeline\\_results\\data\\pubmed_open_access_files\\PMC59555\\RR-1-3-163.nxml\n",
      "a:\\Vishal\\BiomedCLIP_data_pipeline\\_results\\data\\pubmed_open_access_files\\PMC59556\\RR-1-3-170.nxml\n",
      "starting...\n",
      "parsed a:\\Vishal\\BiomedCLIP_data_pipeline\\_results\\data\\pubmed_open_access_files\\PMC59556\\RR-1-3-170.nxml\n",
      "a:\\Vishal\\BiomedCLIP_data_pipeline\\_results\\data\\pubmed_open_access_files\\PMC59557\\RR-1-3-178.nxml\n",
      "starting...\n",
      "parsed a:\\Vishal\\BiomedCLIP_data_pipeline\\_results\\data\\pubmed_open_access_files\\PMC59557\\RR-1-3-178.nxml\n",
      "no output\n",
      "a:\\Vishal\\BiomedCLIP_data_pipeline\\_results\\data\\pubmed_open_access_files\\PMC59558\\rr-1-3-125.nxml\n",
      "starting...\n",
      "parsed a:\\Vishal\\BiomedCLIP_data_pipeline\\_results\\data\\pubmed_open_access_files\\PMC59558\\rr-1-3-125.nxml\n",
      "no output\n",
      "a:\\Vishal\\BiomedCLIP_data_pipeline\\_results\\data\\pubmed_open_access_files\\PMC59559\\rr-1-3-136.nxml\n",
      "starting...\n",
      "parsed a:\\Vishal\\BiomedCLIP_data_pipeline\\_results\\data\\pubmed_open_access_files\\PMC59559\\rr-1-3-136.nxml\n",
      "no output\n",
      "a:\\Vishal\\BiomedCLIP_data_pipeline\\_results\\data\\pubmed_open_access_files\\PMC59560\\rr-1-3-141.nxml\n",
      "starting...\n",
      "parsed a:\\Vishal\\BiomedCLIP_data_pipeline\\_results\\data\\pubmed_open_access_files\\PMC59560\\rr-1-3-141.nxml\n",
      "a:\\Vishal\\BiomedCLIP_data_pipeline\\_results\\data\\pubmed_open_access_files\\PMC59562\\RR-2-1-001.nxml\n",
      "starting...\n",
      "parsed a:\\Vishal\\BiomedCLIP_data_pipeline\\_results\\data\\pubmed_open_access_files\\PMC59562\\RR-2-1-001.nxml\n",
      "no output\n",
      "a:\\Vishal\\BiomedCLIP_data_pipeline\\_results\\data\\pubmed_open_access_files\\PMC59563\\RR-2-1-005.nxml\n",
      "starting...\n",
      "parsed a:\\Vishal\\BiomedCLIP_data_pipeline\\_results\\data\\pubmed_open_access_files\\PMC59563\\RR-2-1-005.nxml\n",
      "no output\n",
      "a:\\Vishal\\BiomedCLIP_data_pipeline\\_results\\data\\pubmed_open_access_files\\PMC59564\\RR-2-1-010.nxml\n",
      "starting...\n",
      "parsed a:\\Vishal\\BiomedCLIP_data_pipeline\\_results\\data\\pubmed_open_access_files\\PMC59564\\RR-2-1-010.nxml\n",
      "a:\\Vishal\\BiomedCLIP_data_pipeline\\_results\\data\\pubmed_open_access_files\\PMC59565\\RR-2-1-020.nxml\n",
      "starting...\n",
      "parsed a:\\Vishal\\BiomedCLIP_data_pipeline\\_results\\data\\pubmed_open_access_files\\PMC59565\\RR-2-1-020.nxml\n",
      "no output\n",
      "a:\\Vishal\\BiomedCLIP_data_pipeline\\_results\\data\\pubmed_open_access_files\\PMC59566\\RR-2-1-027.nxml\n",
      "starting...\n",
      "parsed a:\\Vishal\\BiomedCLIP_data_pipeline\\_results\\data\\pubmed_open_access_files\\PMC59566\\RR-2-1-027.nxml\n",
      "a:\\Vishal\\BiomedCLIP_data_pipeline\\_results\\data\\pubmed_open_access_files\\PMC59567\\RR-2-1-033.nxml\n",
      "starting...\n",
      "parsed a:\\Vishal\\BiomedCLIP_data_pipeline\\_results\\data\\pubmed_open_access_files\\PMC59567\\RR-2-1-033.nxml\n",
      "a:\\Vishal\\BiomedCLIP_data_pipeline\\_results\\data\\pubmed_open_access_files\\PMC59568\\RR-2-2-061.nxml\n",
      "starting...\n",
      "parsed a:\\Vishal\\BiomedCLIP_data_pipeline\\_results\\data\\pubmed_open_access_files\\PMC59568\\RR-2-2-061.nxml\n",
      "no output\n",
      "a:\\Vishal\\BiomedCLIP_data_pipeline\\_results\\data\\pubmed_open_access_files\\PMC59569\\RR-2-2-064.nxml\n",
      "starting...\n",
      "parsed a:\\Vishal\\BiomedCLIP_data_pipeline\\_results\\data\\pubmed_open_access_files\\PMC59569\\RR-2-2-064.nxml\n",
      "no output\n",
      "a:\\Vishal\\BiomedCLIP_data_pipeline\\_results\\data\\pubmed_open_access_files\\PMC59570\\RR-2-2-066.nxml\n",
      "starting...\n",
      "parsed a:\\Vishal\\BiomedCLIP_data_pipeline\\_results\\data\\pubmed_open_access_files\\PMC59570\\RR-2-2-066.nxml\n",
      "a:\\Vishal\\BiomedCLIP_data_pipeline\\_results\\data\\pubmed_open_access_files\\PMC59571\\RR-2-2-071.nxml\n",
      "starting...\n",
      "parsed a:\\Vishal\\BiomedCLIP_data_pipeline\\_results\\data\\pubmed_open_access_files\\PMC59571\\RR-2-2-071.nxml\n",
      "no output\n",
      "a:\\Vishal\\BiomedCLIP_data_pipeline\\_results\\data\\pubmed_open_access_files\\PMC59572\\RR-2-2-080.nxml\n",
      "starting...\n",
      "parsed a:\\Vishal\\BiomedCLIP_data_pipeline\\_results\\data\\pubmed_open_access_files\\PMC59572\\RR-2-2-080.nxml\n",
      "no output\n",
      "a:\\Vishal\\BiomedCLIP_data_pipeline\\_results\\data\\pubmed_open_access_files\\PMC59573\\RR-2-2-085.nxml\n",
      "starting...\n",
      "parsed a:\\Vishal\\BiomedCLIP_data_pipeline\\_results\\data\\pubmed_open_access_files\\PMC59573\\RR-2-2-085.nxml\n",
      "a:\\Vishal\\BiomedCLIP_data_pipeline\\_results\\data\\pubmed_open_access_files\\PMC59574\\RR-2-2-090.nxml\n",
      "starting...\n",
      "parsed a:\\Vishal\\BiomedCLIP_data_pipeline\\_results\\data\\pubmed_open_access_files\\PMC59574\\RR-2-2-090.nxml\n",
      "a:\\Vishal\\BiomedCLIP_data_pipeline\\_results\\data\\pubmed_open_access_files\\PMC59575\\RR-2-2-102.nxml\n",
      "starting...\n",
      "parsed a:\\Vishal\\BiomedCLIP_data_pipeline\\_results\\data\\pubmed_open_access_files\\PMC59575\\RR-2-2-102.nxml\n",
      "no output\n",
      "a:\\Vishal\\BiomedCLIP_data_pipeline\\_results\\data\\pubmed_open_access_files\\PMC59576\\RR-2-4-193.nxml\n",
      "starting...\n",
      "parsed a:\\Vishal\\BiomedCLIP_data_pipeline\\_results\\data\\pubmed_open_access_files\\PMC59576\\RR-2-4-193.nxml\n",
      "a:\\Vishal\\BiomedCLIP_data_pipeline\\_results\\data\\pubmed_open_access_files\\PMC59577\\RR-2-4-198.nxml\n",
      "starting...\n",
      "parsed a:\\Vishal\\BiomedCLIP_data_pipeline\\_results\\data\\pubmed_open_access_files\\PMC59577\\RR-2-4-198.nxml\n",
      "a:\\Vishal\\BiomedCLIP_data_pipeline\\_results\\data\\pubmed_open_access_files\\PMC59578\\RR-2-4-210.nxml\n",
      "starting...\n",
      "parsed a:\\Vishal\\BiomedCLIP_data_pipeline\\_results\\data\\pubmed_open_access_files\\PMC59578\\RR-2-4-210.nxml\n",
      "a:\\Vishal\\BiomedCLIP_data_pipeline\\_results\\data\\pubmed_open_access_files\\PMC59579\\RR-2-4-216.nxml\n",
      "starting...\n",
      "parsed a:\\Vishal\\BiomedCLIP_data_pipeline\\_results\\data\\pubmed_open_access_files\\PMC59579\\RR-2-4-216.nxml\n",
      "no output\n",
      "a:\\Vishal\\BiomedCLIP_data_pipeline\\_results\\data\\pubmed_open_access_files\\PMC59580\\RR-2-4-225.nxml\n",
      "starting...\n",
      "parsed a:\\Vishal\\BiomedCLIP_data_pipeline\\_results\\data\\pubmed_open_access_files\\PMC59580\\RR-2-4-225.nxml\n",
      "a:\\Vishal\\BiomedCLIP_data_pipeline\\_results\\data\\pubmed_open_access_files\\PMC59581\\RR-2-4-234.nxml\n",
      "starting...\n",
      "parsed a:\\Vishal\\BiomedCLIP_data_pipeline\\_results\\data\\pubmed_open_access_files\\PMC59581\\RR-2-4-234.nxml\n",
      "no output\n",
      "a:\\Vishal\\BiomedCLIP_data_pipeline\\_results\\data\\pubmed_open_access_files\\PMC59582\\RR-2-4-245.nxml\n",
      "starting...\n",
      "parsed a:\\Vishal\\BiomedCLIP_data_pipeline\\_results\\data\\pubmed_open_access_files\\PMC59582\\RR-2-4-245.nxml\n",
      "no output\n",
      "a:\\Vishal\\BiomedCLIP_data_pipeline\\_results\\data\\pubmed_open_access_files\\PMC59583\\1471-2172-2-10.nxml\n",
      "starting...\n",
      "parsed a:\\Vishal\\BiomedCLIP_data_pipeline\\_results\\data\\pubmed_open_access_files\\PMC59583\\1471-2172-2-10.nxml\n",
      "a:\\Vishal\\BiomedCLIP_data_pipeline\\_results\\data\\pubmed_open_access_files\\PMC59584\\1471-2148-1-6.nxml\n",
      "starting...\n",
      "parsed a:\\Vishal\\BiomedCLIP_data_pipeline\\_results\\data\\pubmed_open_access_files\\PMC59584\\1471-2148-1-6.nxml\n",
      "a:\\Vishal\\BiomedCLIP_data_pipeline\\_results\\data\\pubmed_open_access_files\\PMC59585\\1471-2180-1-22.nxml\n",
      "starting...\n",
      "parsed a:\\Vishal\\BiomedCLIP_data_pipeline\\_results\\data\\pubmed_open_access_files\\PMC59585\\1471-2180-1-22.nxml\n",
      "a:\\Vishal\\BiomedCLIP_data_pipeline\\_results\\data\\pubmed_open_access_files\\PMC59586\\cvm-1-1-001.nxml\n",
      "starting...\n",
      "parsed a:\\Vishal\\BiomedCLIP_data_pipeline\\_results\\data\\pubmed_open_access_files\\PMC59586\\cvm-1-1-001.nxml\n",
      "no output\n",
      "a:\\Vishal\\BiomedCLIP_data_pipeline\\_results\\data\\pubmed_open_access_files\\PMC59587\\cvm-1-1-003.nxml\n",
      "starting...\n",
      "parsed a:\\Vishal\\BiomedCLIP_data_pipeline\\_results\\data\\pubmed_open_access_files\\PMC59587\\cvm-1-1-003.nxml\n",
      "no output\n",
      "a:\\Vishal\\BiomedCLIP_data_pipeline\\_results\\data\\pubmed_open_access_files\\PMC59588\\cvm-1-1-009.nxml\n",
      "starting...\n",
      "parsed a:\\Vishal\\BiomedCLIP_data_pipeline\\_results\\data\\pubmed_open_access_files\\PMC59588\\cvm-1-1-009.nxml\n",
      "a:\\Vishal\\BiomedCLIP_data_pipeline\\_results\\data\\pubmed_open_access_files\\PMC59589\\cvm-1-1-015.nxml\n",
      "starting...\n",
      "parsed a:\\Vishal\\BiomedCLIP_data_pipeline\\_results\\data\\pubmed_open_access_files\\PMC59589\\cvm-1-1-015.nxml\n",
      "a:\\Vishal\\BiomedCLIP_data_pipeline\\_results\\data\\pubmed_open_access_files\\PMC59590\\cvm-1-1-019.nxml\n",
      "starting...\n",
      "parsed a:\\Vishal\\BiomedCLIP_data_pipeline\\_results\\data\\pubmed_open_access_files\\PMC59590\\cvm-1-1-019.nxml\n",
      "no output\n",
      "a:\\Vishal\\BiomedCLIP_data_pipeline\\_results\\data\\pubmed_open_access_files\\PMC59591\\cvm-1-1-022.nxml\n",
      "starting...\n",
      "parsed a:\\Vishal\\BiomedCLIP_data_pipeline\\_results\\data\\pubmed_open_access_files\\PMC59591\\cvm-1-1-022.nxml\n",
      "no output\n",
      "a:\\Vishal\\BiomedCLIP_data_pipeline\\_results\\data\\pubmed_open_access_files\\PMC59592\\cvm-1-1-025.nxml\n",
      "starting...\n",
      "parsed a:\\Vishal\\BiomedCLIP_data_pipeline\\_results\\data\\pubmed_open_access_files\\PMC59592\\cvm-1-1-025.nxml\n",
      "no output\n",
      "a:\\Vishal\\BiomedCLIP_data_pipeline\\_results\\data\\pubmed_open_access_files\\PMC59593\\cvm-1-1-028.nxml\n",
      "starting...\n",
      "parsed a:\\Vishal\\BiomedCLIP_data_pipeline\\_results\\data\\pubmed_open_access_files\\PMC59593\\cvm-1-1-028.nxml\n",
      "no output\n",
      "a:\\Vishal\\BiomedCLIP_data_pipeline\\_results\\data\\pubmed_open_access_files\\PMC59594\\cvm-1-1-031.nxml\n",
      "starting...\n",
      "parsed a:\\Vishal\\BiomedCLIP_data_pipeline\\_results\\data\\pubmed_open_access_files\\PMC59594\\cvm-1-1-031.nxml\n",
      "no output\n",
      "a:\\Vishal\\BiomedCLIP_data_pipeline\\_results\\data\\pubmed_open_access_files\\PMC59595\\cvm-1-1-035.nxml\n",
      "starting...\n",
      "parsed a:\\Vishal\\BiomedCLIP_data_pipeline\\_results\\data\\pubmed_open_access_files\\PMC59595\\cvm-1-1-035.nxml\n",
      "no output\n",
      "a:\\Vishal\\BiomedCLIP_data_pipeline\\_results\\data\\pubmed_open_access_files\\PMC59596\\cvm-1-1-038.nxml\n",
      "starting...\n",
      "parsed a:\\Vishal\\BiomedCLIP_data_pipeline\\_results\\data\\pubmed_open_access_files\\PMC59596\\cvm-1-1-038.nxml\n",
      "no output\n",
      "a:\\Vishal\\BiomedCLIP_data_pipeline\\_results\\data\\pubmed_open_access_files\\PMC59597\\cvm-1-1-041.nxml\n",
      "starting...\n",
      "parsed a:\\Vishal\\BiomedCLIP_data_pipeline\\_results\\data\\pubmed_open_access_files\\PMC59597\\cvm-1-1-041.nxml\n",
      "a:\\Vishal\\BiomedCLIP_data_pipeline\\_results\\data\\pubmed_open_access_files\\PMC59598\\cvm-1-1-045.nxml\n",
      "starting...\n",
      "parsed a:\\Vishal\\BiomedCLIP_data_pipeline\\_results\\data\\pubmed_open_access_files\\PMC59598\\cvm-1-1-045.nxml\n",
      "no output\n",
      "a:\\Vishal\\BiomedCLIP_data_pipeline\\_results\\data\\pubmed_open_access_files\\PMC59599\\cvm-1-1-048.nxml\n",
      "starting...\n",
      "parsed a:\\Vishal\\BiomedCLIP_data_pipeline\\_results\\data\\pubmed_open_access_files\\PMC59599\\cvm-1-1-048.nxml\n",
      "no output\n",
      "a:\\Vishal\\BiomedCLIP_data_pipeline\\_results\\data\\pubmed_open_access_files\\PMC59600\\cvm-1-1-055.nxml\n",
      "starting...\n",
      "parsed a:\\Vishal\\BiomedCLIP_data_pipeline\\_results\\data\\pubmed_open_access_files\\PMC59600\\cvm-1-1-055.nxml\n",
      "no output\n",
      "a:\\Vishal\\BiomedCLIP_data_pipeline\\_results\\data\\pubmed_open_access_files\\PMC59601\\cvm-1-2-069.nxml\n",
      "starting...\n",
      "parsed a:\\Vishal\\BiomedCLIP_data_pipeline\\_results\\data\\pubmed_open_access_files\\PMC59601\\cvm-1-2-069.nxml\n",
      "no output\n",
      "a:\\Vishal\\BiomedCLIP_data_pipeline\\_results\\data\\pubmed_open_access_files\\PMC59602\\cvm-1-2-072.nxml\n",
      "starting...\n",
      "parsed a:\\Vishal\\BiomedCLIP_data_pipeline\\_results\\data\\pubmed_open_access_files\\PMC59602\\cvm-1-2-072.nxml\n",
      "no output\n",
      "a:\\Vishal\\BiomedCLIP_data_pipeline\\_results\\data\\pubmed_open_access_files\\PMC59603\\cvm-1-2-076.nxml\n",
      "starting...\n",
      "parsed a:\\Vishal\\BiomedCLIP_data_pipeline\\_results\\data\\pubmed_open_access_files\\PMC59603\\cvm-1-2-076.nxml\n",
      "no output\n",
      "a:\\Vishal\\BiomedCLIP_data_pipeline\\_results\\data\\pubmed_open_access_files\\PMC59604\\cvm-1-2-079.nxml\n",
      "starting...\n",
      "parsed a:\\Vishal\\BiomedCLIP_data_pipeline\\_results\\data\\pubmed_open_access_files\\PMC59604\\cvm-1-2-079.nxml\n",
      "no output\n",
      "a:\\Vishal\\BiomedCLIP_data_pipeline\\_results\\data\\pubmed_open_access_files\\PMC59605\\cvm-1-2-083.nxml\n",
      "starting...\n",
      "parsed a:\\Vishal\\BiomedCLIP_data_pipeline\\_results\\data\\pubmed_open_access_files\\PMC59605\\cvm-1-2-083.nxml\n",
      "a:\\Vishal\\BiomedCLIP_data_pipeline\\_results\\data\\pubmed_open_access_files\\PMC59606\\cvm-1-2-088.nxml\n",
      "starting...\n",
      "parsed a:\\Vishal\\BiomedCLIP_data_pipeline\\_results\\data\\pubmed_open_access_files\\PMC59606\\cvm-1-2-088.nxml\n",
      "no output\n",
      "a:\\Vishal\\BiomedCLIP_data_pipeline\\_results\\data\\pubmed_open_access_files\\PMC59607\\cvm-1-2-092.nxml\n",
      "starting...\n",
      "parsed a:\\Vishal\\BiomedCLIP_data_pipeline\\_results\\data\\pubmed_open_access_files\\PMC59607\\cvm-1-2-092.nxml\n",
      "no output\n",
      "a:\\Vishal\\BiomedCLIP_data_pipeline\\_results\\data\\pubmed_open_access_files\\PMC59608\\cvm-1-2-095.nxml\n",
      "starting...\n",
      "parsed a:\\Vishal\\BiomedCLIP_data_pipeline\\_results\\data\\pubmed_open_access_files\\PMC59608\\cvm-1-2-095.nxml\n",
      "no output\n",
      "a:\\Vishal\\BiomedCLIP_data_pipeline\\_results\\data\\pubmed_open_access_files\\PMC59609\\cvm-1-2-098.nxml\n",
      "starting...\n",
      "parsed a:\\Vishal\\BiomedCLIP_data_pipeline\\_results\\data\\pubmed_open_access_files\\PMC59609\\cvm-1-2-098.nxml\n",
      "a:\\Vishal\\BiomedCLIP_data_pipeline\\_results\\data\\pubmed_open_access_files\\PMC59610\\cvm-1-2-102.nxml\n",
      "starting...\n",
      "parsed a:\\Vishal\\BiomedCLIP_data_pipeline\\_results\\data\\pubmed_open_access_files\\PMC59610\\cvm-1-2-102.nxml\n",
      "no output\n",
      "a:\\Vishal\\BiomedCLIP_data_pipeline\\_results\\data\\pubmed_open_access_files\\PMC59611\\cvm-1-2-107.nxml\n",
      "starting...\n",
      "parsed a:\\Vishal\\BiomedCLIP_data_pipeline\\_results\\data\\pubmed_open_access_files\\PMC59611\\cvm-1-2-107.nxml\n",
      "no output\n",
      "a:\\Vishal\\BiomedCLIP_data_pipeline\\_results\\data\\pubmed_open_access_files\\PMC59612\\cvm-1-2-115.nxml\n",
      "starting...\n",
      "parsed a:\\Vishal\\BiomedCLIP_data_pipeline\\_results\\data\\pubmed_open_access_files\\PMC59612\\cvm-1-2-115.nxml\n",
      "a:\\Vishal\\BiomedCLIP_data_pipeline\\_results\\data\\pubmed_open_access_files\\PMC59613\\cvm-1-2-120.nxml\n",
      "starting...\n",
      "parsed a:\\Vishal\\BiomedCLIP_data_pipeline\\_results\\data\\pubmed_open_access_files\\PMC59613\\cvm-1-2-120.nxml\n",
      "no output\n",
      "a:\\Vishal\\BiomedCLIP_data_pipeline\\_results\\data\\pubmed_open_access_files\\PMC59614\\cvm-1-2-128.nxml\n",
      "starting...\n",
      "parsed a:\\Vishal\\BiomedCLIP_data_pipeline\\_results\\data\\pubmed_open_access_files\\PMC59614\\cvm-1-2-128.nxml\n",
      "no output\n",
      "a:\\Vishal\\BiomedCLIP_data_pipeline\\_results\\data\\pubmed_open_access_files\\PMC59615\\CVM-1-3-143.nxml\n",
      "starting...\n",
      "parsed a:\\Vishal\\BiomedCLIP_data_pipeline\\_results\\data\\pubmed_open_access_files\\PMC59615\\CVM-1-3-143.nxml\n",
      "no output\n",
      "a:\\Vishal\\BiomedCLIP_data_pipeline\\_results\\data\\pubmed_open_access_files\\PMC59616\\CVM-1-3-150.nxml\n",
      "starting...\n",
      "parsed a:\\Vishal\\BiomedCLIP_data_pipeline\\_results\\data\\pubmed_open_access_files\\PMC59616\\CVM-1-3-150.nxml\n",
      "no output\n",
      "a:\\Vishal\\BiomedCLIP_data_pipeline\\_results\\data\\pubmed_open_access_files\\PMC59617\\CVM-1-3-155.nxml\n",
      "starting...\n",
      "parsed a:\\Vishal\\BiomedCLIP_data_pipeline\\_results\\data\\pubmed_open_access_files\\PMC59617\\CVM-1-3-155.nxml\n",
      "no output\n",
      "a:\\Vishal\\BiomedCLIP_data_pipeline\\_results\\data\\pubmed_open_access_files\\PMC59618\\cvm-1-3-131.nxml\n",
      "starting...\n",
      "parsed a:\\Vishal\\BiomedCLIP_data_pipeline\\_results\\data\\pubmed_open_access_files\\PMC59618\\cvm-1-3-131.nxml\n",
      "no output\n",
      "a:\\Vishal\\BiomedCLIP_data_pipeline\\_results\\data\\pubmed_open_access_files\\PMC59619\\cvm-1-3-135.nxml\n",
      "starting...\n",
      "parsed a:\\Vishal\\BiomedCLIP_data_pipeline\\_results\\data\\pubmed_open_access_files\\PMC59619\\cvm-1-3-135.nxml\n",
      "no output\n",
      "a:\\Vishal\\BiomedCLIP_data_pipeline\\_results\\data\\pubmed_open_access_files\\PMC59620\\cvm-1-3-139.nxml\n",
      "starting...\n",
      "parsed a:\\Vishal\\BiomedCLIP_data_pipeline\\_results\\data\\pubmed_open_access_files\\PMC59620\\cvm-1-3-139.nxml\n",
      "no output\n",
      "a:\\Vishal\\BiomedCLIP_data_pipeline\\_results\\data\\pubmed_open_access_files\\PMC59621\\cvm-1-3-146.nxml\n",
      "starting...\n",
      "parsed a:\\Vishal\\BiomedCLIP_data_pipeline\\_results\\data\\pubmed_open_access_files\\PMC59621\\cvm-1-3-146.nxml\n",
      "a:\\Vishal\\BiomedCLIP_data_pipeline\\_results\\data\\pubmed_open_access_files\\PMC59622\\cvm-1-3-161.nxml\n",
      "starting...\n",
      "parsed a:\\Vishal\\BiomedCLIP_data_pipeline\\_results\\data\\pubmed_open_access_files\\PMC59622\\cvm-1-3-161.nxml\n",
      "a:\\Vishal\\BiomedCLIP_data_pipeline\\_results\\data\\pubmed_open_access_files\\PMC59623\\cvm-1-3-166.nxml\n",
      "starting...\n",
      "parsed a:\\Vishal\\BiomedCLIP_data_pipeline\\_results\\data\\pubmed_open_access_files\\PMC59623\\cvm-1-3-166.nxml\n",
      "a:\\Vishal\\BiomedCLIP_data_pipeline\\_results\\data\\pubmed_open_access_files\\PMC59624\\1471-2199-2-11.nxml\n",
      "starting...\n",
      "parsed a:\\Vishal\\BiomedCLIP_data_pipeline\\_results\\data\\pubmed_open_access_files\\PMC59624\\1471-2199-2-11.nxml\n",
      "a:\\Vishal\\BiomedCLIP_data_pipeline\\_results\\data\\pubmed_open_access_files\\PMC59625\\1471-2199-2-12.nxml\n",
      "starting...\n",
      "parsed a:\\Vishal\\BiomedCLIP_data_pipeline\\_results\\data\\pubmed_open_access_files\\PMC59625\\1471-2199-2-12.nxml\n",
      "a:\\Vishal\\BiomedCLIP_data_pipeline\\_results\\data\\pubmed_open_access_files\\PMC59626\\cvm-2-2-063.nxml\n",
      "starting...\n",
      "parsed a:\\Vishal\\BiomedCLIP_data_pipeline\\_results\\data\\pubmed_open_access_files\\PMC59626\\cvm-2-2-063.nxml\n",
      "no output\n",
      "a:\\Vishal\\BiomedCLIP_data_pipeline\\_results\\data\\pubmed_open_access_files\\PMC59627\\cvm-2-2-067.nxml\n",
      "starting...\n",
      "parsed a:\\Vishal\\BiomedCLIP_data_pipeline\\_results\\data\\pubmed_open_access_files\\PMC59627\\cvm-2-2-067.nxml\n",
      "no output\n",
      "a:\\Vishal\\BiomedCLIP_data_pipeline\\_results\\data\\pubmed_open_access_files\\PMC59628\\cvm-2-2-071.nxml\n",
      "starting...\n",
      "parsed a:\\Vishal\\BiomedCLIP_data_pipeline\\_results\\data\\pubmed_open_access_files\\PMC59628\\cvm-2-2-071.nxml\n",
      "no output\n",
      "a:\\Vishal\\BiomedCLIP_data_pipeline\\_results\\data\\pubmed_open_access_files\\PMC59629\\cvm-2-2-075.nxml\n",
      "starting...\n",
      "parsed a:\\Vishal\\BiomedCLIP_data_pipeline\\_results\\data\\pubmed_open_access_files\\PMC59629\\cvm-2-2-075.nxml\n",
      "a:\\Vishal\\BiomedCLIP_data_pipeline\\_results\\data\\pubmed_open_access_files\\PMC59630\\cvm-2-2-085.nxml\n",
      "starting...\n",
      "parsed a:\\Vishal\\BiomedCLIP_data_pipeline\\_results\\data\\pubmed_open_access_files\\PMC59630\\cvm-2-2-085.nxml\n",
      "no output\n",
      "a:\\Vishal\\BiomedCLIP_data_pipeline\\_results\\data\\pubmed_open_access_files\\PMC59631\\CVM-2-3-118.nxml\n",
      "starting...\n",
      "parsed a:\\Vishal\\BiomedCLIP_data_pipeline\\_results\\data\\pubmed_open_access_files\\PMC59631\\CVM-2-3-118.nxml\n",
      "no output\n",
      "a:\\Vishal\\BiomedCLIP_data_pipeline\\_results\\data\\pubmed_open_access_files\\PMC59632\\Cvm-2-3-115.nxml\n",
      "starting...\n",
      "parsed a:\\Vishal\\BiomedCLIP_data_pipeline\\_results\\data\\pubmed_open_access_files\\PMC59632\\Cvm-2-3-115.nxml\n",
      "no output\n",
      "a:\\Vishal\\BiomedCLIP_data_pipeline\\_results\\data\\pubmed_open_access_files\\PMC59634\\cvm-2-3-109.nxml\n",
      "starting...\n",
      "parsed a:\\Vishal\\BiomedCLIP_data_pipeline\\_results\\data\\pubmed_open_access_files\\PMC59634\\cvm-2-3-109.nxml\n",
      "no output\n",
      "a:\\Vishal\\BiomedCLIP_data_pipeline\\_results\\data\\pubmed_open_access_files\\PMC59635\\cvm-2-3-111.nxml\n",
      "starting...\n",
      "parsed a:\\Vishal\\BiomedCLIP_data_pipeline\\_results\\data\\pubmed_open_access_files\\PMC59635\\cvm-2-3-111.nxml\n",
      "no output\n",
      "a:\\Vishal\\BiomedCLIP_data_pipeline\\_results\\data\\pubmed_open_access_files\\PMC59636\\cvm-2-3-123.nxml\n",
      "starting...\n",
      "parsed a:\\Vishal\\BiomedCLIP_data_pipeline\\_results\\data\\pubmed_open_access_files\\PMC59636\\cvm-2-3-123.nxml\n",
      "no output\n",
      "a:\\Vishal\\BiomedCLIP_data_pipeline\\_results\\data\\pubmed_open_access_files\\PMC59637\\cvm-2-3-129.nxml\n",
      "starting...\n",
      "parsed a:\\Vishal\\BiomedCLIP_data_pipeline\\_results\\data\\pubmed_open_access_files\\PMC59637\\cvm-2-3-129.nxml\n",
      "no output\n",
      "a:\\Vishal\\BiomedCLIP_data_pipeline\\_results\\data\\pubmed_open_access_files\\PMC59638\\1471-2202-2-13.nxml\n",
      "starting...\n",
      "parsed a:\\Vishal\\BiomedCLIP_data_pipeline\\_results\\data\\pubmed_open_access_files\\PMC59638\\1471-2202-2-13.nxml\n",
      "a:\\Vishal\\BiomedCLIP_data_pipeline\\_results\\data\\pubmed_open_access_files\\PMC59639\\CVM-2-4-155.nxml\n",
      "starting...\n",
      "parsed a:\\Vishal\\BiomedCLIP_data_pipeline\\_results\\data\\pubmed_open_access_files\\PMC59639\\CVM-2-4-155.nxml\n",
      "a:\\Vishal\\BiomedCLIP_data_pipeline\\_results\\data\\pubmed_open_access_files\\PMC59640\\CVM-2-4-160.nxml\n",
      "starting...\n",
      "parsed a:\\Vishal\\BiomedCLIP_data_pipeline\\_results\\data\\pubmed_open_access_files\\PMC59640\\CVM-2-4-160.nxml\n",
      "a:\\Vishal\\BiomedCLIP_data_pipeline\\_results\\data\\pubmed_open_access_files\\PMC59641\\CVM-2-4-171.nxml\n",
      "starting...\n",
      "parsed a:\\Vishal\\BiomedCLIP_data_pipeline\\_results\\data\\pubmed_open_access_files\\PMC59641\\CVM-2-4-171.nxml\n",
      "no output\n",
      "a:\\Vishal\\BiomedCLIP_data_pipeline\\_results\\data\\pubmed_open_access_files\\PMC59642\\cvm-2-4-151.nxml\n",
      "starting...\n",
      "parsed a:\\Vishal\\BiomedCLIP_data_pipeline\\_results\\data\\pubmed_open_access_files\\PMC59642\\cvm-2-4-151.nxml\n",
      "no output\n",
      "a:\\Vishal\\BiomedCLIP_data_pipeline\\_results\\data\\pubmed_open_access_files\\PMC59643\\cvm-2-4-165.nxml\n",
      "starting...\n",
      "parsed a:\\Vishal\\BiomedCLIP_data_pipeline\\_results\\data\\pubmed_open_access_files\\PMC59643\\cvm-2-4-165.nxml\n",
      "no output\n",
      "a:\\Vishal\\BiomedCLIP_data_pipeline\\_results\\data\\pubmed_open_access_files\\PMC59644\\1471-230X-1-10.nxml\n",
      "starting...\n",
      "parsed a:\\Vishal\\BiomedCLIP_data_pipeline\\_results\\data\\pubmed_open_access_files\\PMC59644\\1471-230X-1-10.nxml\n",
      "a:\\Vishal\\BiomedCLIP_data_pipeline\\_results\\data\\pubmed_open_access_files\\PMC59645\\CVM-2-1-002.nxml\n",
      "starting...\n",
      "parsed a:\\Vishal\\BiomedCLIP_data_pipeline\\_results\\data\\pubmed_open_access_files\\PMC59645\\CVM-2-1-002.nxml\n",
      "no output\n",
      "a:\\Vishal\\BiomedCLIP_data_pipeline\\_results\\data\\pubmed_open_access_files\\PMC59646\\CVM-2-1-008.nxml\n",
      "starting...\n",
      "parsed a:\\Vishal\\BiomedCLIP_data_pipeline\\_results\\data\\pubmed_open_access_files\\PMC59646\\CVM-2-1-008.nxml\n",
      "no output\n",
      "a:\\Vishal\\BiomedCLIP_data_pipeline\\_results\\data\\pubmed_open_access_files\\PMC59647\\CVM-2-1-016.nxml\n",
      "starting...\n",
      "parsed a:\\Vishal\\BiomedCLIP_data_pipeline\\_results\\data\\pubmed_open_access_files\\PMC59647\\CVM-2-1-016.nxml\n",
      "no output\n",
      "a:\\Vishal\\BiomedCLIP_data_pipeline\\_results\\data\\pubmed_open_access_files\\PMC59648\\CVM-2-1-020.nxml\n",
      "starting...\n",
      "parsed a:\\Vishal\\BiomedCLIP_data_pipeline\\_results\\data\\pubmed_open_access_files\\PMC59648\\CVM-2-1-020.nxml\n",
      "a:\\Vishal\\BiomedCLIP_data_pipeline\\_results\\data\\pubmed_open_access_files\\PMC59649\\CVM-2-1-038.nxml\n",
      "starting...\n",
      "parsed a:\\Vishal\\BiomedCLIP_data_pipeline\\_results\\data\\pubmed_open_access_files\\PMC59649\\CVM-2-1-038.nxml\n",
      "a:\\Vishal\\BiomedCLIP_data_pipeline\\_results\\data\\pubmed_open_access_files\\PMC59650\\cvm-2-1-001.nxml\n",
      "starting...\n",
      "parsed a:\\Vishal\\BiomedCLIP_data_pipeline\\_results\\data\\pubmed_open_access_files\\PMC59650\\cvm-2-1-001.nxml\n",
      "no output\n",
      "a:\\Vishal\\BiomedCLIP_data_pipeline\\_results\\data\\pubmed_open_access_files\\PMC59651\\cvm-2-1-012.nxml\n",
      "starting...\n",
      "parsed a:\\Vishal\\BiomedCLIP_data_pipeline\\_results\\data\\pubmed_open_access_files\\PMC59651\\cvm-2-1-012.nxml\n",
      "no output\n",
      "a:\\Vishal\\BiomedCLIP_data_pipeline\\_results\\data\\pubmed_open_access_files\\PMC59652\\cvm-2-1-024.nxml\n",
      "starting...\n",
      "parsed a:\\Vishal\\BiomedCLIP_data_pipeline\\_results\\data\\pubmed_open_access_files\\PMC59652\\cvm-2-1-024.nxml\n",
      "a:\\Vishal\\BiomedCLIP_data_pipeline\\_results\\data\\pubmed_open_access_files\\PMC59653\\cvm-2-1-045.nxml\n",
      "starting...\n",
      "parsed a:\\Vishal\\BiomedCLIP_data_pipeline\\_results\\data\\pubmed_open_access_files\\PMC59653\\cvm-2-1-045.nxml\n",
      "a:\\Vishal\\BiomedCLIP_data_pipeline\\_results\\data\\pubmed_open_access_files\\PMC59654\\1471-2318-1-3.nxml\n",
      "starting...\n",
      "parsed a:\\Vishal\\BiomedCLIP_data_pipeline\\_results\\data\\pubmed_open_access_files\\PMC59654\\1471-2318-1-3.nxml\n",
      "no output\n",
      "a:\\Vishal\\BiomedCLIP_data_pipeline\\_results\\data\\pubmed_open_access_files\\PMC59655\\1471-2334-1-19.nxml\n",
      "starting...\n",
      "parsed a:\\Vishal\\BiomedCLIP_data_pipeline\\_results\\data\\pubmed_open_access_files\\PMC59655\\1471-2334-1-19.nxml\n",
      "no output\n",
      "a:\\Vishal\\BiomedCLIP_data_pipeline\\_results\\data\\pubmed_open_access_files\\PMC59656\\1471-244X-1-5.nxml\n",
      "starting...\n",
      "parsed a:\\Vishal\\BiomedCLIP_data_pipeline\\_results\\data\\pubmed_open_access_files\\PMC59656\\1471-244X-1-5.nxml\n",
      "no output\n",
      "a:\\Vishal\\BiomedCLIP_data_pipeline\\_results\\data\\pubmed_open_access_files\\PMC59657\\1471-2482-1-3.nxml\n",
      "starting...\n",
      "parsed a:\\Vishal\\BiomedCLIP_data_pipeline\\_results\\data\\pubmed_open_access_files\\PMC59657\\1471-2482-1-3.nxml\n",
      "no output\n",
      "a:\\Vishal\\BiomedCLIP_data_pipeline\\_results\\data\\pubmed_open_access_files\\PMC59658\\1471-2091-2-10.nxml\n",
      "starting...\n",
      "parsed a:\\Vishal\\BiomedCLIP_data_pipeline\\_results\\data\\pubmed_open_access_files\\PMC59658\\1471-2091-2-10.nxml\n",
      "a:\\Vishal\\BiomedCLIP_data_pipeline\\_results\\data\\pubmed_open_access_files\\PMC59659\\1472-6750-1-9.nxml\n",
      "starting...\n",
      "parsed a:\\Vishal\\BiomedCLIP_data_pipeline\\_results\\data\\pubmed_open_access_files\\PMC59659\\1472-6750-1-9.nxml\n",
      "a:\\Vishal\\BiomedCLIP_data_pipeline\\_results\\data\\pubmed_open_access_files\\PMC59660\\1472-6793-1-13.nxml\n",
      "starting...\n",
      "parsed a:\\Vishal\\BiomedCLIP_data_pipeline\\_results\\data\\pubmed_open_access_files\\PMC59660\\1472-6793-1-13.nxml\n",
      "a:\\Vishal\\BiomedCLIP_data_pipeline\\_results\\data\\pubmed_open_access_files\\PMC59661\\1472-6882-1-8.nxml\n",
      "starting...\n",
      "parsed a:\\Vishal\\BiomedCLIP_data_pipeline\\_results\\data\\pubmed_open_access_files\\PMC59661\\1472-6882-1-8.nxml\n",
      "a:\\Vishal\\BiomedCLIP_data_pipeline\\_results\\data\\pubmed_open_access_files\\PMC59662\\1472-6890-1-4.nxml\n",
      "starting...\n",
      "parsed a:\\Vishal\\BiomedCLIP_data_pipeline\\_results\\data\\pubmed_open_access_files\\PMC59662\\1472-6890-1-4.nxml\n",
      "a:\\Vishal\\BiomedCLIP_data_pipeline\\_results\\data\\pubmed_open_access_files\\PMC59663\\1472-6890-1-5.nxml\n",
      "starting...\n",
      "parsed a:\\Vishal\\BiomedCLIP_data_pipeline\\_results\\data\\pubmed_open_access_files\\PMC59663\\1472-6890-1-5.nxml\n",
      "no output\n",
      "a:\\Vishal\\BiomedCLIP_data_pipeline\\_results\\data\\pubmed_open_access_files\\PMC59664\\1472-6890-1-6.nxml\n",
      "starting...\n",
      "parsed a:\\Vishal\\BiomedCLIP_data_pipeline\\_results\\data\\pubmed_open_access_files\\PMC59664\\1472-6890-1-6.nxml\n",
      "no output\n",
      "a:\\Vishal\\BiomedCLIP_data_pipeline\\_results\\data\\pubmed_open_access_files\\PMC59665\\1472-6920-1-4.nxml\n",
      "starting...\n",
      "parsed a:\\Vishal\\BiomedCLIP_data_pipeline\\_results\\data\\pubmed_open_access_files\\PMC59665\\1472-6920-1-4.nxml\n",
      "a:\\Vishal\\BiomedCLIP_data_pipeline\\_results\\data\\pubmed_open_access_files\\PMC59666\\1471-2156-2-15.nxml\n",
      "starting...\n",
      "parsed a:\\Vishal\\BiomedCLIP_data_pipeline\\_results\\data\\pubmed_open_access_files\\PMC59666\\1471-2156-2-15.nxml\n",
      "a:\\Vishal\\BiomedCLIP_data_pipeline\\_results\\data\\pubmed_open_access_files\\PMC59667\\cvm-2-3-107.nxml\n",
      "starting...\n",
      "parsed a:\\Vishal\\BiomedCLIP_data_pipeline\\_results\\data\\pubmed_open_access_files\\PMC59667\\cvm-2-3-107.nxml\n",
      "no output\n",
      "a:\\Vishal\\BiomedCLIP_data_pipeline\\_results\\data\\pubmed_open_access_files\\PMC59668\\1472-6823-1-1.nxml\n",
      "starting...\n",
      "parsed a:\\Vishal\\BiomedCLIP_data_pipeline\\_results\\data\\pubmed_open_access_files\\PMC59668\\1472-6823-1-1.nxml\n",
      "a:\\Vishal\\BiomedCLIP_data_pipeline\\_results\\data\\pubmed_open_access_files\\PMC59671\\1471-2474-2-5.nxml\n",
      "starting...\n",
      "parsed a:\\Vishal\\BiomedCLIP_data_pipeline\\_results\\data\\pubmed_open_access_files\\PMC59671\\1471-2474-2-5.nxml\n",
      "a:\\Vishal\\BiomedCLIP_data_pipeline\\_results\\data\\pubmed_open_access_files\\PMC59672\\1471-2474-2-6.nxml\n",
      "starting...\n",
      "parsed a:\\Vishal\\BiomedCLIP_data_pipeline\\_results\\data\\pubmed_open_access_files\\PMC59672\\1471-2474-2-6.nxml\n",
      "a:\\Vishal\\BiomedCLIP_data_pipeline\\_results\\data\\pubmed_open_access_files\\PMC59673\\1471-2407-1-14.nxml\n",
      "starting...\n",
      "parsed a:\\Vishal\\BiomedCLIP_data_pipeline\\_results\\data\\pubmed_open_access_files\\PMC59673\\1471-2407-1-14.nxml\n",
      "a:\\Vishal\\BiomedCLIP_data_pipeline\\_results\\data\\pubmed_open_access_files\\PMC59674\\1471-230X-1-11.nxml\n",
      "starting...\n",
      "parsed a:\\Vishal\\BiomedCLIP_data_pipeline\\_results\\data\\pubmed_open_access_files\\PMC59674\\1471-230X-1-11.nxml\n",
      "no output\n",
      "a:\\Vishal\\BiomedCLIP_data_pipeline\\_results\\data\\pubmed_open_access_files\\PMC59675\\1471-2296-2-6.nxml\n",
      "starting...\n",
      "parsed a:\\Vishal\\BiomedCLIP_data_pipeline\\_results\\data\\pubmed_open_access_files\\PMC59675\\1471-2296-2-6.nxml\n",
      "no output\n",
      "a:\\Vishal\\BiomedCLIP_data_pipeline\\_results\\data\\pubmed_open_access_files\\PMC59676\\1471-2261-1-2.nxml\n",
      "starting...\n",
      "parsed a:\\Vishal\\BiomedCLIP_data_pipeline\\_results\\data\\pubmed_open_access_files\\PMC59676\\1471-2261-1-2.nxml\n",
      "no output\n",
      "a:\\Vishal\\BiomedCLIP_data_pipeline\\_results\\data\\pubmed_open_access_files\\PMC59677\\1471-2148-1-5.nxml\n",
      "starting...\n",
      "parsed a:\\Vishal\\BiomedCLIP_data_pipeline\\_results\\data\\pubmed_open_access_files\\PMC59677\\1471-2148-1-5.nxml\n",
      "a:\\Vishal\\BiomedCLIP_data_pipeline\\_results\\data\\pubmed_open_access_files\\PMC59678\\1471-213X-1-14.nxml\n",
      "starting...\n",
      "parsed a:\\Vishal\\BiomedCLIP_data_pipeline\\_results\\data\\pubmed_open_access_files\\PMC59678\\1471-213X-1-14.nxml\n",
      "a:\\Vishal\\BiomedCLIP_data_pipeline\\_results\\data\\pubmed_open_access_files\\PMC59679\\1471-2121-2-20.nxml\n",
      "starting...\n",
      "parsed a:\\Vishal\\BiomedCLIP_data_pipeline\\_results\\data\\pubmed_open_access_files\\PMC59679\\1471-2121-2-20.nxml\n",
      "a:\\Vishal\\BiomedCLIP_data_pipeline\\_results\\data\\pubmed_open_access_files\\PMC59680\\1472-6769-1-3.nxml\n",
      "starting...\n",
      "parsed a:\\Vishal\\BiomedCLIP_data_pipeline\\_results\\data\\pubmed_open_access_files\\PMC59680\\1472-6769-1-3.nxml\n",
      "a:\\Vishal\\BiomedCLIP_data_pipeline\\_results\\data\\pubmed_open_access_files\\PMC59691\\1471-2296-2-5.nxml\n",
      "starting...\n",
      "parsed a:\\Vishal\\BiomedCLIP_data_pipeline\\_results\\data\\pubmed_open_access_files\\PMC59691\\1471-2296-2-5.nxml\n",
      "no output\n",
      "a:\\Vishal\\BiomedCLIP_data_pipeline\\_results\\data\\pubmed_open_access_files\\PMC59692\\1471-230X-1-12.nxml\n",
      "starting...\n",
      "parsed a:\\Vishal\\BiomedCLIP_data_pipeline\\_results\\data\\pubmed_open_access_files\\PMC59692\\1471-230X-1-12.nxml\n",
      "a:\\Vishal\\BiomedCLIP_data_pipeline\\_results\\data\\pubmed_open_access_files\\PMC59693\\1471-2407-1-17.nxml\n",
      "starting...\n",
      "parsed a:\\Vishal\\BiomedCLIP_data_pipeline\\_results\\data\\pubmed_open_access_files\\PMC59693\\1471-2407-1-17.nxml\n",
      "a:\\Vishal\\BiomedCLIP_data_pipeline\\_results\\data\\pubmed_open_access_files\\PMC59694\\1471-2091-2-11.nxml\n",
      "starting...\n",
      "parsed a:\\Vishal\\BiomedCLIP_data_pipeline\\_results\\data\\pubmed_open_access_files\\PMC59694\\1471-2091-2-11.nxml\n",
      "a:\\Vishal\\BiomedCLIP_data_pipeline\\_results\\data\\pubmed_open_access_files\\PMC59723\\1471-2105-2-9.nxml\n",
      "starting...\n",
      "parsed a:\\Vishal\\BiomedCLIP_data_pipeline\\_results\\data\\pubmed_open_access_files\\PMC59723\\1471-2105-2-9.nxml\n",
      "a:\\Vishal\\BiomedCLIP_data_pipeline\\_results\\data\\pubmed_open_access_files\\PMC59831\\1471-2148-1-7.nxml\n",
      "starting...\n",
      "parsed a:\\Vishal\\BiomedCLIP_data_pipeline\\_results\\data\\pubmed_open_access_files\\PMC59831\\1471-2148-1-7.nxml\n",
      "a:\\Vishal\\BiomedCLIP_data_pipeline\\_results\\data\\pubmed_open_access_files\\PMC59832\\1471-2156-2-17.nxml\n",
      "starting...\n",
      "parsed a:\\Vishal\\BiomedCLIP_data_pipeline\\_results\\data\\pubmed_open_access_files\\PMC59832\\1471-2156-2-17.nxml\n",
      "a:\\Vishal\\BiomedCLIP_data_pipeline\\_results\\data\\pubmed_open_access_files\\PMC59833\\1471-2180-1-24.nxml\n",
      "starting...\n",
      "parsed a:\\Vishal\\BiomedCLIP_data_pipeline\\_results\\data\\pubmed_open_access_files\\PMC59833\\1471-2180-1-24.nxml\n",
      "a:\\Vishal\\BiomedCLIP_data_pipeline\\_results\\data\\pubmed_open_access_files\\PMC59834\\1471-2229-1-2.nxml\n",
      "starting...\n",
      "parsed a:\\Vishal\\BiomedCLIP_data_pipeline\\_results\\data\\pubmed_open_access_files\\PMC59834\\1471-2229-1-2.nxml\n",
      "a:\\Vishal\\BiomedCLIP_data_pipeline\\_results\\data\\pubmed_open_access_files\\PMC59835\\1471-2350-2-11.nxml\n",
      "starting...\n",
      "parsed a:\\Vishal\\BiomedCLIP_data_pipeline\\_results\\data\\pubmed_open_access_files\\PMC59835\\1471-2350-2-11.nxml\n",
      "a:\\Vishal\\BiomedCLIP_data_pipeline\\_results\\data\\pubmed_open_access_files\\PMC59836\\1471-2377-1-6.nxml\n",
      "starting...\n",
      "parsed a:\\Vishal\\BiomedCLIP_data_pipeline\\_results\\data\\pubmed_open_access_files\\PMC59836\\1471-2377-1-6.nxml\n",
      "a:\\Vishal\\BiomedCLIP_data_pipeline\\_results\\data\\pubmed_open_access_files\\PMC59837\\1471-2393-1-4.nxml\n",
      "starting...\n",
      "parsed a:\\Vishal\\BiomedCLIP_data_pipeline\\_results\\data\\pubmed_open_access_files\\PMC59837\\1471-2393-1-4.nxml\n",
      "no output\n",
      "a:\\Vishal\\BiomedCLIP_data_pipeline\\_results\\data\\pubmed_open_access_files\\PMC59838\\1471-2407-1-15.nxml\n",
      "starting...\n",
      "parsed a:\\Vishal\\BiomedCLIP_data_pipeline\\_results\\data\\pubmed_open_access_files\\PMC59838\\1471-2407-1-15.nxml\n",
      "a:\\Vishal\\BiomedCLIP_data_pipeline\\_results\\data\\pubmed_open_access_files\\PMC59839\\1471-2407-1-18.nxml\n",
      "starting...\n",
      "parsed a:\\Vishal\\BiomedCLIP_data_pipeline\\_results\\data\\pubmed_open_access_files\\PMC59839\\1471-2407-1-18.nxml\n",
      "a:\\Vishal\\BiomedCLIP_data_pipeline\\_results\\data\\pubmed_open_access_files\\PMC59840\\1471-2407-1-19.nxml\n",
      "starting...\n",
      "parsed a:\\Vishal\\BiomedCLIP_data_pipeline\\_results\\data\\pubmed_open_access_files\\PMC59840\\1471-2407-1-19.nxml\n",
      "a:\\Vishal\\BiomedCLIP_data_pipeline\\_results\\data\\pubmed_open_access_files\\PMC59841\\1471-2458-1-10.nxml\n",
      "starting...\n",
      "parsed a:\\Vishal\\BiomedCLIP_data_pipeline\\_results\\data\\pubmed_open_access_files\\PMC59841\\1471-2458-1-10.nxml\n",
      "no output\n",
      "a:\\Vishal\\BiomedCLIP_data_pipeline\\_results\\data\\pubmed_open_access_files\\PMC59842\\1471-5945-1-6.nxml\n",
      "starting...\n",
      "parsed a:\\Vishal\\BiomedCLIP_data_pipeline\\_results\\data\\pubmed_open_access_files\\PMC59842\\1471-5945-1-6.nxml\n",
      "a:\\Vishal\\BiomedCLIP_data_pipeline\\_results\\data\\pubmed_open_access_files\\PMC59843\\1471-5945-1-7.nxml\n",
      "starting...\n",
      "parsed a:\\Vishal\\BiomedCLIP_data_pipeline\\_results\\data\\pubmed_open_access_files\\PMC59843\\1471-5945-1-7.nxml\n",
      "a:\\Vishal\\BiomedCLIP_data_pipeline\\_results\\data\\pubmed_open_access_files\\PMC59844\\1472-6769-1-2.nxml\n",
      "starting...\n",
      "parsed a:\\Vishal\\BiomedCLIP_data_pipeline\\_results\\data\\pubmed_open_access_files\\PMC59844\\1472-6769-1-2.nxml\n",
      "a:\\Vishal\\BiomedCLIP_data_pipeline\\_results\\data\\pubmed_open_access_files\\PMC59845\\1472-6769-1-4.nxml\n",
      "starting...\n",
      "parsed a:\\Vishal\\BiomedCLIP_data_pipeline\\_results\\data\\pubmed_open_access_files\\PMC59845\\1472-6769-1-4.nxml\n",
      "a:\\Vishal\\BiomedCLIP_data_pipeline\\_results\\data\\pubmed_open_access_files\\PMC59846\\1472-6920-1-6.nxml\n",
      "starting...\n",
      "parsed a:\\Vishal\\BiomedCLIP_data_pipeline\\_results\\data\\pubmed_open_access_files\\PMC59846\\1472-6920-1-6.nxml\n",
      "a:\\Vishal\\BiomedCLIP_data_pipeline\\_results\\data\\pubmed_open_access_files\\PMC59881\\1472-6904-1-4.nxml\n",
      "starting...\n",
      "parsed a:\\Vishal\\BiomedCLIP_data_pipeline\\_results\\data\\pubmed_open_access_files\\PMC59881\\1472-6904-1-4.nxml\n",
      "no output\n",
      "a:\\Vishal\\BiomedCLIP_data_pipeline\\_results\\data\\pubmed_open_access_files\\PMC59882\\1471-2121-2-19.nxml\n",
      "starting...\n",
      "parsed a:\\Vishal\\BiomedCLIP_data_pipeline\\_results\\data\\pubmed_open_access_files\\PMC59882\\1471-2121-2-19.nxml\n",
      "a:\\Vishal\\BiomedCLIP_data_pipeline\\_results\\data\\pubmed_open_access_files\\PMC59885\\1471-2121-2-21.nxml\n",
      "starting...\n",
      "parsed a:\\Vishal\\BiomedCLIP_data_pipeline\\_results\\data\\pubmed_open_access_files\\PMC59885\\1471-2121-2-21.nxml\n",
      "a:\\Vishal\\BiomedCLIP_data_pipeline\\_results\\data\\pubmed_open_access_files\\PMC59886\\1471-2121-2-22.nxml\n",
      "starting...\n",
      "parsed a:\\Vishal\\BiomedCLIP_data_pipeline\\_results\\data\\pubmed_open_access_files\\PMC59886\\1471-2121-2-22.nxml\n",
      "a:\\Vishal\\BiomedCLIP_data_pipeline\\_results\\data\\pubmed_open_access_files\\PMC59887\\1471-2121-2-23.nxml\n",
      "starting...\n",
      "parsed a:\\Vishal\\BiomedCLIP_data_pipeline\\_results\\data\\pubmed_open_access_files\\PMC59887\\1471-2121-2-23.nxml\n",
      "a:\\Vishal\\BiomedCLIP_data_pipeline\\_results\\data\\pubmed_open_access_files\\PMC59888\\1471-2164-2-7.nxml\n",
      "starting...\n",
      "parsed a:\\Vishal\\BiomedCLIP_data_pipeline\\_results\\data\\pubmed_open_access_files\\PMC59888\\1471-2164-2-7.nxml\n",
      "a:\\Vishal\\BiomedCLIP_data_pipeline\\_results\\data\\pubmed_open_access_files\\PMC59889\\1471-213X-1-15.nxml\n",
      "starting...\n",
      "parsed a:\\Vishal\\BiomedCLIP_data_pipeline\\_results\\data\\pubmed_open_access_files\\PMC59889\\1471-213X-1-15.nxml\n",
      "a:\\Vishal\\BiomedCLIP_data_pipeline\\_results\\data\\pubmed_open_access_files\\PMC59890\\1471-2180-1-26.nxml\n",
      "starting...\n",
      "parsed a:\\Vishal\\BiomedCLIP_data_pipeline\\_results\\data\\pubmed_open_access_files\\PMC59890\\1471-2180-1-26.nxml\n",
      "a:\\Vishal\\BiomedCLIP_data_pipeline\\_results\\data\\pubmed_open_access_files\\PMC59891\\1471-2180-1-27.nxml\n",
      "starting...\n",
      "parsed a:\\Vishal\\BiomedCLIP_data_pipeline\\_results\\data\\pubmed_open_access_files\\PMC59891\\1471-2180-1-27.nxml\n",
      "a:\\Vishal\\BiomedCLIP_data_pipeline\\_results\\data\\pubmed_open_access_files\\PMC59892\\1471-2202-2-17.nxml\n",
      "starting...\n",
      "parsed a:\\Vishal\\BiomedCLIP_data_pipeline\\_results\\data\\pubmed_open_access_files\\PMC59892\\1471-2202-2-17.nxml\n",
      "a:\\Vishal\\BiomedCLIP_data_pipeline\\_results\\data\\pubmed_open_access_files\\PMC59893\\1471-227X-1-2.nxml\n",
      "starting...\n",
      "parsed a:\\Vishal\\BiomedCLIP_data_pipeline\\_results\\data\\pubmed_open_access_files\\PMC59893\\1471-227X-1-2.nxml\n",
      "a:\\Vishal\\BiomedCLIP_data_pipeline\\_results\\data\\pubmed_open_access_files\\PMC59894\\1471-2334-1-20.nxml\n",
      "starting...\n",
      "parsed a:\\Vishal\\BiomedCLIP_data_pipeline\\_results\\data\\pubmed_open_access_files\\PMC59894\\1471-2334-1-20.nxml\n",
      "a:\\Vishal\\BiomedCLIP_data_pipeline\\_results\\data\\pubmed_open_access_files\\PMC59895\\1471-2393-1-5.nxml\n",
      "starting...\n",
      "parsed a:\\Vishal\\BiomedCLIP_data_pipeline\\_results\\data\\pubmed_open_access_files\\PMC59895\\1471-2393-1-5.nxml\n",
      "no output\n",
      "a:\\Vishal\\BiomedCLIP_data_pipeline\\_results\\data\\pubmed_open_access_files\\PMC59896\\1471-2458-1-11.nxml\n",
      "starting...\n",
      "parsed a:\\Vishal\\BiomedCLIP_data_pipeline\\_results\\data\\pubmed_open_access_files\\PMC59896\\1471-2458-1-11.nxml\n",
      "a:\\Vishal\\BiomedCLIP_data_pipeline\\_results\\data\\pubmed_open_access_files\\PMC59897\\1471-2458-1-13.nxml\n",
      "starting...\n",
      "parsed a:\\Vishal\\BiomedCLIP_data_pipeline\\_results\\data\\pubmed_open_access_files\\PMC59897\\1471-2458-1-13.nxml\n",
      "no output\n",
      "a:\\Vishal\\BiomedCLIP_data_pipeline\\_results\\data\\pubmed_open_access_files\\PMC59898\\1471-2474-2-7.nxml\n",
      "starting...\n",
      "parsed a:\\Vishal\\BiomedCLIP_data_pipeline\\_results\\data\\pubmed_open_access_files\\PMC59898\\1471-2474-2-7.nxml\n",
      "a:\\Vishal\\BiomedCLIP_data_pipeline\\_results\\data\\pubmed_open_access_files\\PMC59899\\1471-2482-1-4.nxml\n",
      "starting...\n",
      "parsed a:\\Vishal\\BiomedCLIP_data_pipeline\\_results\\data\\pubmed_open_access_files\\PMC59899\\1471-2482-1-4.nxml\n",
      "no output\n",
      "a:\\Vishal\\BiomedCLIP_data_pipeline\\_results\\data\\pubmed_open_access_files\\PMC59900\\1472-6939-2-4.nxml\n",
      "starting...\n",
      "parsed a:\\Vishal\\BiomedCLIP_data_pipeline\\_results\\data\\pubmed_open_access_files\\PMC59900\\1472-6939-2-4.nxml\n",
      "no output\n",
      "a:\\Vishal\\BiomedCLIP_data_pipeline\\_results\\data\\pubmed_open_access_files\\PMC59901\\1472-6947-1-4.nxml\n",
      "starting...\n",
      "parsed a:\\Vishal\\BiomedCLIP_data_pipeline\\_results\\data\\pubmed_open_access_files\\PMC59901\\1472-6947-1-4.nxml\n",
      "a:\\Vishal\\BiomedCLIP_data_pipeline\\_results\\data\\pubmed_open_access_files\\PMC59902\\1472-6963-1-11.nxml\n",
      "starting...\n",
      "parsed a:\\Vishal\\BiomedCLIP_data_pipeline\\_results\\data\\pubmed_open_access_files\\PMC59902\\1472-6963-1-11.nxml\n",
      "no output\n",
      "a:\\Vishal\\BiomedCLIP_data_pipeline\\_results\\data\\pubmed_open_access_files\\PMC59991\\gb-2001-2-11-research0046.nxml\n",
      "starting...\n",
      "parsed a:\\Vishal\\BiomedCLIP_data_pipeline\\_results\\data\\pubmed_open_access_files\\PMC59991\\gb-2001-2-11-research0046.nxml\n",
      "a:\\Vishal\\BiomedCLIP_data_pipeline\\_results\\data\\pubmed_open_access_files\\PMC59997\\1471-2121-2-24.nxml\n",
      "starting...\n",
      "parsed a:\\Vishal\\BiomedCLIP_data_pipeline\\_results\\data\\pubmed_open_access_files\\PMC59997\\1471-2121-2-24.nxml\n",
      "no output\n",
      "a:\\Vishal\\BiomedCLIP_data_pipeline\\_results\\data\\pubmed_open_access_files\\PMC59998\\1471-2148-1-9.nxml\n",
      "starting...\n",
      "parsed a:\\Vishal\\BiomedCLIP_data_pipeline\\_results\\data\\pubmed_open_access_files\\PMC59998\\1471-2148-1-9.nxml\n",
      "a:\\Vishal\\BiomedCLIP_data_pipeline\\_results\\data\\pubmed_open_access_files\\PMC59999\\1471-2156-2-18.nxml\n",
      "starting...\n",
      "parsed a:\\Vishal\\BiomedCLIP_data_pipeline\\_results\\data\\pubmed_open_access_files\\PMC59999\\1471-2156-2-18.nxml\n",
      "a:\\Vishal\\BiomedCLIP_data_pipeline\\_results\\data\\pubmed_open_access_files\\PMC60000\\1471-2164-2-8.nxml\n",
      "starting...\n",
      "parsed a:\\Vishal\\BiomedCLIP_data_pipeline\\_results\\data\\pubmed_open_access_files\\PMC60000\\1471-2164-2-8.nxml\n",
      "a:\\Vishal\\BiomedCLIP_data_pipeline\\_results\\data\\pubmed_open_access_files\\PMC60001\\1471-2334-1-21.nxml\n",
      "starting...\n",
      "parsed a:\\Vishal\\BiomedCLIP_data_pipeline\\_results\\data\\pubmed_open_access_files\\PMC60001\\1471-2334-1-21.nxml\n",
      "a:\\Vishal\\BiomedCLIP_data_pipeline\\_results\\data\\pubmed_open_access_files\\PMC60002\\1471-2458-1-9.nxml\n",
      "starting...\n",
      "parsed a:\\Vishal\\BiomedCLIP_data_pipeline\\_results\\data\\pubmed_open_access_files\\PMC60002\\1471-2458-1-9.nxml\n",
      "a:\\Vishal\\BiomedCLIP_data_pipeline\\_results\\data\\pubmed_open_access_files\\PMC60003\\1471-2474-2-4.nxml\n",
      "starting...\n",
      "parsed a:\\Vishal\\BiomedCLIP_data_pipeline\\_results\\data\\pubmed_open_access_files\\PMC60003\\1471-2474-2-4.nxml\n",
      "a:\\Vishal\\BiomedCLIP_data_pipeline\\_results\\data\\pubmed_open_access_files\\PMC60004\\1471-2091-2-12.nxml\n",
      "starting...\n",
      "parsed a:\\Vishal\\BiomedCLIP_data_pipeline\\_results\\data\\pubmed_open_access_files\\PMC60004\\1471-2091-2-12.nxml\n",
      "a:\\Vishal\\BiomedCLIP_data_pipeline\\_results\\data\\pubmed_open_access_files\\PMC60005\\1471-2091-2-13.nxml\n",
      "starting...\n",
      "parsed a:\\Vishal\\BiomedCLIP_data_pipeline\\_results\\data\\pubmed_open_access_files\\PMC60005\\1471-2091-2-13.nxml\n",
      "a:\\Vishal\\BiomedCLIP_data_pipeline\\_results\\data\\pubmed_open_access_files\\PMC60006\\1472-6815-1-1.nxml\n",
      "starting...\n",
      "parsed a:\\Vishal\\BiomedCLIP_data_pipeline\\_results\\data\\pubmed_open_access_files\\PMC60006\\1472-6815-1-1.nxml\n",
      "no output\n",
      "a:\\Vishal\\BiomedCLIP_data_pipeline\\_results\\data\\pubmed_open_access_files\\PMC60007\\1471-2253-1-1.nxml\n",
      "starting...\n",
      "parsed a:\\Vishal\\BiomedCLIP_data_pipeline\\_results\\data\\pubmed_open_access_files\\PMC60007\\1471-2253-1-1.nxml\n",
      "a:\\Vishal\\BiomedCLIP_data_pipeline\\_results\\data\\pubmed_open_access_files\\PMC60307\\gb-2001-2-11-research0045.nxml\n",
      "starting...\n",
      "parsed a:\\Vishal\\BiomedCLIP_data_pipeline\\_results\\data\\pubmed_open_access_files\\PMC60307\\gb-2001-2-11-research0045.nxml\n",
      "a:\\Vishal\\BiomedCLIP_data_pipeline\\_results\\data\\pubmed_open_access_files\\PMC60308\\gb-2001-2-11-research0047.nxml\n",
      "starting...\n",
      "parsed a:\\Vishal\\BiomedCLIP_data_pipeline\\_results\\data\\pubmed_open_access_files\\PMC60308\\gb-2001-2-11-research0047.nxml\n",
      "a:\\Vishal\\BiomedCLIP_data_pipeline\\_results\\data\\pubmed_open_access_files\\PMC60310\\gb-2001-2-11-research0049.nxml\n",
      "starting...\n",
      "parsed a:\\Vishal\\BiomedCLIP_data_pipeline\\_results\\data\\pubmed_open_access_files\\PMC60310\\gb-2001-2-11-research0049.nxml\n",
      "a:\\Vishal\\BiomedCLIP_data_pipeline\\_results\\data\\pubmed_open_access_files\\PMC60312\\gb-2001-2-11-research0048.nxml\n",
      "starting...\n",
      "parsed a:\\Vishal\\BiomedCLIP_data_pipeline\\_results\\data\\pubmed_open_access_files\\PMC60312\\gb-2001-2-11-research0048.nxml\n",
      "a:\\Vishal\\BiomedCLIP_data_pipeline\\_results\\data\\pubmed_open_access_files\\PMC60490\\1471-2148-1-8.nxml\n",
      "starting...\n",
      "parsed a:\\Vishal\\BiomedCLIP_data_pipeline\\_results\\data\\pubmed_open_access_files\\PMC60490\\1471-2148-1-8.nxml\n",
      "a:\\Vishal\\BiomedCLIP_data_pipeline\\_results\\data\\pubmed_open_access_files\\PMC60491\\1471-2148-1-10.nxml\n",
      "starting...\n",
      "parsed a:\\Vishal\\BiomedCLIP_data_pipeline\\_results\\data\\pubmed_open_access_files\\PMC60491\\1471-2148-1-10.nxml\n",
      "a:\\Vishal\\BiomedCLIP_data_pipeline\\_results\\data\\pubmed_open_access_files\\PMC60492\\1471-2148-1-11.nxml\n",
      "starting...\n",
      "parsed a:\\Vishal\\BiomedCLIP_data_pipeline\\_results\\data\\pubmed_open_access_files\\PMC60492\\1471-2148-1-11.nxml\n",
      "a:\\Vishal\\BiomedCLIP_data_pipeline\\_results\\data\\pubmed_open_access_files\\PMC60523\\1471-2156-2-19.nxml\n",
      "starting...\n",
      "parsed a:\\Vishal\\BiomedCLIP_data_pipeline\\_results\\data\\pubmed_open_access_files\\PMC60523\\1471-2156-2-19.nxml\n",
      "a:\\Vishal\\BiomedCLIP_data_pipeline\\_results\\data\\pubmed_open_access_files\\PMC60524\\1471-2156-2-20.nxml\n",
      "starting...\n",
      "parsed a:\\Vishal\\BiomedCLIP_data_pipeline\\_results\\data\\pubmed_open_access_files\\PMC60524\\1471-2156-2-20.nxml\n",
      "a:\\Vishal\\BiomedCLIP_data_pipeline\\_results\\data\\pubmed_open_access_files\\PMC60534\\1471-2164-2-10.nxml\n",
      "starting...\n",
      "parsed a:\\Vishal\\BiomedCLIP_data_pipeline\\_results\\data\\pubmed_open_access_files\\PMC60534\\1471-2164-2-10.nxml\n",
      "a:\\Vishal\\BiomedCLIP_data_pipeline\\_results\\data\\pubmed_open_access_files\\PMC60646\\1471-2180-1-30.nxml\n",
      "starting...\n",
      "parsed a:\\Vishal\\BiomedCLIP_data_pipeline\\_results\\data\\pubmed_open_access_files\\PMC60646\\1471-2180-1-30.nxml\n",
      "no output\n",
      "a:\\Vishal\\BiomedCLIP_data_pipeline\\_results\\data\\pubmed_open_access_files\\PMC60647\\1471-2199-2-13.nxml\n",
      "starting...\n",
      "parsed a:\\Vishal\\BiomedCLIP_data_pipeline\\_results\\data\\pubmed_open_access_files\\PMC60647\\1471-2199-2-13.nxml\n",
      "a:\\Vishal\\BiomedCLIP_data_pipeline\\_results\\data\\pubmed_open_access_files\\PMC60648\\1471-2202-2-16.nxml\n",
      "starting...\n",
      "parsed a:\\Vishal\\BiomedCLIP_data_pipeline\\_results\\data\\pubmed_open_access_files\\PMC60648\\1471-2202-2-16.nxml\n",
      "a:\\Vishal\\BiomedCLIP_data_pipeline\\_results\\data\\pubmed_open_access_files\\PMC60649\\1471-2210-1-9.nxml\n",
      "starting...\n",
      "parsed a:\\Vishal\\BiomedCLIP_data_pipeline\\_results\\data\\pubmed_open_access_files\\PMC60649\\1471-2210-1-9.nxml\n",
      "a:\\Vishal\\BiomedCLIP_data_pipeline\\_results\\data\\pubmed_open_access_files\\PMC60650\\1471-2210-1-10.nxml\n",
      "starting...\n",
      "parsed a:\\Vishal\\BiomedCLIP_data_pipeline\\_results\\data\\pubmed_open_access_files\\PMC60650\\1471-2210-1-10.nxml\n",
      "a:\\Vishal\\BiomedCLIP_data_pipeline\\_results\\data\\pubmed_open_access_files\\PMC60651\\1471-2253-1-2.nxml\n",
      "starting...\n",
      "parsed a:\\Vishal\\BiomedCLIP_data_pipeline\\_results\\data\\pubmed_open_access_files\\PMC60651\\1471-2253-1-2.nxml\n",
      "a:\\Vishal\\BiomedCLIP_data_pipeline\\_results\\data\\pubmed_open_access_files\\PMC60652\\1471-2261-1-3.nxml\n",
      "starting...\n",
      "parsed a:\\Vishal\\BiomedCLIP_data_pipeline\\_results\\data\\pubmed_open_access_files\\PMC60652\\1471-2261-1-3.nxml\n",
      "a:\\Vishal\\BiomedCLIP_data_pipeline\\_results\\data\\pubmed_open_access_files\\PMC60653\\1471-2288-1-10.nxml\n",
      "starting...\n",
      "parsed a:\\Vishal\\BiomedCLIP_data_pipeline\\_results\\data\\pubmed_open_access_files\\PMC60653\\1471-2288-1-10.nxml\n",
      "a:\\Vishal\\BiomedCLIP_data_pipeline\\_results\\data\\pubmed_open_access_files\\PMC60654\\1471-230X-1-13.nxml\n",
      "starting...\n",
      "parsed a:\\Vishal\\BiomedCLIP_data_pipeline\\_results\\data\\pubmed_open_access_files\\PMC60654\\1471-230X-1-13.nxml\n",
      "a:\\Vishal\\BiomedCLIP_data_pipeline\\_results\\data\\pubmed_open_access_files\\PMC60655\\1471-2334-1-22.nxml\n",
      "starting...\n",
      "parsed a:\\Vishal\\BiomedCLIP_data_pipeline\\_results\\data\\pubmed_open_access_files\\PMC60655\\1471-2334-1-22.nxml\n",
      "a:\\Vishal\\BiomedCLIP_data_pipeline\\_results\\data\\pubmed_open_access_files\\PMC60656\\1471-2342-1-1.nxml\n",
      "starting...\n",
      "parsed a:\\Vishal\\BiomedCLIP_data_pipeline\\_results\\data\\pubmed_open_access_files\\PMC60656\\1471-2342-1-1.nxml\n",
      "a:\\Vishal\\BiomedCLIP_data_pipeline\\_results\\data\\pubmed_open_access_files\\PMC60657\\1471-2385-1-2.nxml\n",
      "starting...\n",
      "parsed a:\\Vishal\\BiomedCLIP_data_pipeline\\_results\\data\\pubmed_open_access_files\\PMC60657\\1471-2385-1-2.nxml\n",
      "a:\\Vishal\\BiomedCLIP_data_pipeline\\_results\\data\\pubmed_open_access_files\\PMC60658\\1471-2393-1-6.nxml\n",
      "starting...\n",
      "parsed a:\\Vishal\\BiomedCLIP_data_pipeline\\_results\\data\\pubmed_open_access_files\\PMC60658\\1471-2393-1-6.nxml\n",
      "no output\n",
      "a:\\Vishal\\BiomedCLIP_data_pipeline\\_results\\data\\pubmed_open_access_files\\PMC60659\\1471-2458-1-14.nxml\n",
      "starting...\n",
      "parsed a:\\Vishal\\BiomedCLIP_data_pipeline\\_results\\data\\pubmed_open_access_files\\PMC60659\\1471-2458-1-14.nxml\n",
      "no output\n",
      "a:\\Vishal\\BiomedCLIP_data_pipeline\\_results\\data\\pubmed_open_access_files\\PMC60660\\1471-5945-1-8.nxml\n",
      "starting...\n",
      "parsed a:\\Vishal\\BiomedCLIP_data_pipeline\\_results\\data\\pubmed_open_access_files\\PMC60660\\1471-5945-1-8.nxml\n",
      "a:\\Vishal\\BiomedCLIP_data_pipeline\\_results\\data\\pubmed_open_access_files\\PMC60661\\1471-2091-2-14.nxml\n",
      "starting...\n",
      "parsed a:\\Vishal\\BiomedCLIP_data_pipeline\\_results\\data\\pubmed_open_access_files\\PMC60661\\1471-2091-2-14.nxml\n",
      "no output\n",
      "a:\\Vishal\\BiomedCLIP_data_pipeline\\_results\\data\\pubmed_open_access_files\\PMC60662\\1472-6882-1-9.nxml\n",
      "starting...\n",
      "parsed a:\\Vishal\\BiomedCLIP_data_pipeline\\_results\\data\\pubmed_open_access_files\\PMC60662\\1472-6882-1-9.nxml\n",
      "a:\\Vishal\\BiomedCLIP_data_pipeline\\_results\\data\\pubmed_open_access_files\\PMC60663\\1472-6785-1-4.nxml\n",
      "starting...\n",
      "parsed a:\\Vishal\\BiomedCLIP_data_pipeline\\_results\\data\\pubmed_open_access_files\\PMC60663\\1472-6785-1-4.nxml\n",
      "a:\\Vishal\\BiomedCLIP_data_pipeline\\_results\\data\\pubmed_open_access_files\\PMC60664\\1472-6947-1-5.nxml\n",
      "starting...\n",
      "parsed a:\\Vishal\\BiomedCLIP_data_pipeline\\_results\\data\\pubmed_open_access_files\\PMC60664\\1472-6947-1-5.nxml\n",
      "a:\\Vishal\\BiomedCLIP_data_pipeline\\_results\\data\\pubmed_open_access_files\\PMC60676\\1472-6750-1-10.nxml\n",
      "starting...\n",
      "parsed a:\\Vishal\\BiomedCLIP_data_pipeline\\_results\\data\\pubmed_open_access_files\\PMC60676\\1472-6750-1-10.nxml\n",
      "a:\\Vishal\\BiomedCLIP_data_pipeline\\_results\\data\\pubmed_open_access_files\\PMC60677\\1471-2466-1-2.nxml\n",
      "starting...\n",
      "parsed a:\\Vishal\\BiomedCLIP_data_pipeline\\_results\\data\\pubmed_open_access_files\\PMC60677\\1471-2466-1-2.nxml\n",
      "a:\\Vishal\\BiomedCLIP_data_pipeline\\_results\\data\\pubmed_open_access_files\\PMC60969\\1471-2407-1-16.nxml\n",
      "starting...\n",
      "parsed a:\\Vishal\\BiomedCLIP_data_pipeline\\_results\\data\\pubmed_open_access_files\\PMC60969\\1471-2407-1-16.nxml\n",
      "no output\n",
      "a:\\Vishal\\BiomedCLIP_data_pipeline\\_results\\data\\pubmed_open_access_files\\PMC60970\\1471-2490-1-2.nxml\n",
      "starting...\n",
      "parsed a:\\Vishal\\BiomedCLIP_data_pipeline\\_results\\data\\pubmed_open_access_files\\PMC60970\\1471-2490-1-2.nxml\n",
      "no output\n",
      "a:\\Vishal\\BiomedCLIP_data_pipeline\\_results\\data\\pubmed_open_access_files\\PMC60988\\1471-2121-2-25.nxml\n",
      "starting...\n",
      "parsed a:\\Vishal\\BiomedCLIP_data_pipeline\\_results\\data\\pubmed_open_access_files\\PMC60988\\1471-2121-2-25.nxml\n",
      "a:\\Vishal\\BiomedCLIP_data_pipeline\\_results\\data\\pubmed_open_access_files\\PMC60989\\1471-2180-1-29.nxml\n",
      "starting...\n",
      "parsed a:\\Vishal\\BiomedCLIP_data_pipeline\\_results\\data\\pubmed_open_access_files\\PMC60989\\1471-2180-1-29.nxml\n",
      "a:\\Vishal\\BiomedCLIP_data_pipeline\\_results\\data\\pubmed_open_access_files\\PMC60990\\1471-2180-1-31.nxml\n",
      "starting...\n",
      "parsed a:\\Vishal\\BiomedCLIP_data_pipeline\\_results\\data\\pubmed_open_access_files\\PMC60990\\1471-2180-1-31.nxml\n",
      "a:\\Vishal\\BiomedCLIP_data_pipeline\\_results\\data\\pubmed_open_access_files\\PMC60991\\1471-2210-1-11.nxml\n",
      "starting...\n",
      "parsed a:\\Vishal\\BiomedCLIP_data_pipeline\\_results\\data\\pubmed_open_access_files\\PMC60991\\1471-2210-1-11.nxml\n",
      "a:\\Vishal\\BiomedCLIP_data_pipeline\\_results\\data\\pubmed_open_access_files\\PMC60992\\1471-2334-1-23.nxml\n",
      "starting...\n",
      "parsed a:\\Vishal\\BiomedCLIP_data_pipeline\\_results\\data\\pubmed_open_access_files\\PMC60992\\1471-2334-1-23.nxml\n",
      "a:\\Vishal\\BiomedCLIP_data_pipeline\\_results\\data\\pubmed_open_access_files\\PMC60993\\1471-2350-2-12.nxml\n",
      "starting...\n",
      "parsed a:\\Vishal\\BiomedCLIP_data_pipeline\\_results\\data\\pubmed_open_access_files\\PMC60993\\1471-2350-2-12.nxml\n",
      "no output\n",
      "a:\\Vishal\\BiomedCLIP_data_pipeline\\_results\\data\\pubmed_open_access_files\\PMC60994\\1471-2369-2-2.nxml\n",
      "starting...\n",
      "parsed a:\\Vishal\\BiomedCLIP_data_pipeline\\_results\\data\\pubmed_open_access_files\\PMC60994\\1471-2369-2-2.nxml\n",
      "a:\\Vishal\\BiomedCLIP_data_pipeline\\_results\\data\\pubmed_open_access_files\\PMC60995\\1471-2458-1-12.nxml\n",
      "starting...\n",
      "parsed a:\\Vishal\\BiomedCLIP_data_pipeline\\_results\\data\\pubmed_open_access_files\\PMC60995\\1471-2458-1-12.nxml\n",
      "no output\n",
      "a:\\Vishal\\BiomedCLIP_data_pipeline\\_results\\data\\pubmed_open_access_files\\PMC60996\\1471-2091-2-15.nxml\n",
      "starting...\n",
      "parsed a:\\Vishal\\BiomedCLIP_data_pipeline\\_results\\data\\pubmed_open_access_files\\PMC60996\\1471-2091-2-15.nxml\n",
      "a:\\Vishal\\BiomedCLIP_data_pipeline\\_results\\data\\pubmed_open_access_files\\PMC60997\\1472-6882-1-10.nxml\n",
      "starting...\n",
      "parsed a:\\Vishal\\BiomedCLIP_data_pipeline\\_results\\data\\pubmed_open_access_files\\PMC60997\\1472-6882-1-10.nxml\n",
      "no output\n",
      "a:\\Vishal\\BiomedCLIP_data_pipeline\\_results\\data\\pubmed_open_access_files\\PMC60998\\1472-6963-1-12.nxml\n",
      "starting...\n",
      "parsed a:\\Vishal\\BiomedCLIP_data_pipeline\\_results\\data\\pubmed_open_access_files\\PMC60998\\1472-6963-1-12.nxml\n",
      "no output\n",
      "a:\\Vishal\\BiomedCLIP_data_pipeline\\_results\\data\\pubmed_open_access_files\\PMC60999\\1471-2377-1-7.nxml\n",
      "starting...\n",
      "parsed a:\\Vishal\\BiomedCLIP_data_pipeline\\_results\\data\\pubmed_open_access_files\\PMC60999\\1471-2377-1-7.nxml\n",
      "a:\\Vishal\\BiomedCLIP_data_pipeline\\_results\\data\\pubmed_open_access_files\\PMC61000\\1471-2407-1-20.nxml\n",
      "starting...\n",
      "parsed a:\\Vishal\\BiomedCLIP_data_pipeline\\_results\\data\\pubmed_open_access_files\\PMC61000\\1471-2407-1-20.nxml\n",
      "a:\\Vishal\\BiomedCLIP_data_pipeline\\_results\\data\\pubmed_open_access_files\\PMC61030\\1472-6920-1-7.nxml\n",
      "starting...\n",
      "parsed a:\\Vishal\\BiomedCLIP_data_pipeline\\_results\\data\\pubmed_open_access_files\\PMC61030\\1472-6920-1-7.nxml\n",
      "no output\n",
      "a:\\Vishal\\BiomedCLIP_data_pipeline\\_results\\data\\pubmed_open_access_files\\PMC61031\\1472-6793-1-14.nxml\n",
      "starting...\n",
      "parsed a:\\Vishal\\BiomedCLIP_data_pipeline\\_results\\data\\pubmed_open_access_files\\PMC61031\\1472-6793-1-14.nxml\n",
      "a:\\Vishal\\BiomedCLIP_data_pipeline\\_results\\data\\pubmed_open_access_files\\PMC61032\\1471-5945-1-9.nxml\n",
      "starting...\n",
      "parsed a:\\Vishal\\BiomedCLIP_data_pipeline\\_results\\data\\pubmed_open_access_files\\PMC61032\\1471-5945-1-9.nxml\n",
      "a:\\Vishal\\BiomedCLIP_data_pipeline\\_results\\data\\pubmed_open_access_files\\PMC61033\\1471-2474-2-9.nxml\n",
      "starting...\n",
      "parsed a:\\Vishal\\BiomedCLIP_data_pipeline\\_results\\data\\pubmed_open_access_files\\PMC61033\\1471-2474-2-9.nxml\n",
      "a:\\Vishal\\BiomedCLIP_data_pipeline\\_results\\data\\pubmed_open_access_files\\PMC61034\\1471-2474-2-10.nxml\n",
      "starting...\n",
      "parsed a:\\Vishal\\BiomedCLIP_data_pipeline\\_results\\data\\pubmed_open_access_files\\PMC61034\\1471-2474-2-10.nxml\n",
      "a:\\Vishal\\BiomedCLIP_data_pipeline\\_results\\data\\pubmed_open_access_files\\PMC61035\\1471-2393-1-7.nxml\n",
      "starting...\n",
      "parsed a:\\Vishal\\BiomedCLIP_data_pipeline\\_results\\data\\pubmed_open_access_files\\PMC61035\\1471-2393-1-7.nxml\n",
      "no output\n",
      "a:\\Vishal\\BiomedCLIP_data_pipeline\\_results\\data\\pubmed_open_access_files\\PMC61036\\1471-2318-1-4.nxml\n",
      "starting...\n",
      "parsed a:\\Vishal\\BiomedCLIP_data_pipeline\\_results\\data\\pubmed_open_access_files\\PMC61036\\1471-2318-1-4.nxml\n",
      "a:\\Vishal\\BiomedCLIP_data_pipeline\\_results\\data\\pubmed_open_access_files\\PMC61037\\1471-2288-1-11.nxml\n",
      "starting...\n",
      "parsed a:\\Vishal\\BiomedCLIP_data_pipeline\\_results\\data\\pubmed_open_access_files\\PMC61037\\1471-2288-1-11.nxml\n",
      "no output\n",
      "a:\\Vishal\\BiomedCLIP_data_pipeline\\_results\\data\\pubmed_open_access_files\\PMC61038\\1471-2261-1-4.nxml\n",
      "starting...\n",
      "parsed a:\\Vishal\\BiomedCLIP_data_pipeline\\_results\\data\\pubmed_open_access_files\\PMC61038\\1471-2261-1-4.nxml\n",
      "a:\\Vishal\\BiomedCLIP_data_pipeline\\_results\\data\\pubmed_open_access_files\\PMC61039\\1471-2261-1-5.nxml\n",
      "starting...\n",
      "parsed a:\\Vishal\\BiomedCLIP_data_pipeline\\_results\\data\\pubmed_open_access_files\\PMC61039\\1471-2261-1-5.nxml\n",
      "a:\\Vishal\\BiomedCLIP_data_pipeline\\_results\\data\\pubmed_open_access_files\\PMC61040\\1471-2202-2-18.nxml\n",
      "starting...\n",
      "parsed a:\\Vishal\\BiomedCLIP_data_pipeline\\_results\\data\\pubmed_open_access_files\\PMC61040\\1471-2202-2-18.nxml\n",
      "a:\\Vishal\\BiomedCLIP_data_pipeline\\_results\\data\\pubmed_open_access_files\\PMC61041\\1471-2199-2-14.nxml\n",
      "starting...\n",
      "parsed a:\\Vishal\\BiomedCLIP_data_pipeline\\_results\\data\\pubmed_open_access_files\\PMC61041\\1471-2199-2-14.nxml\n",
      "a:\\Vishal\\BiomedCLIP_data_pipeline\\_results\\data\\pubmed_open_access_files\\PMC61042\\1471-2180-1-28.nxml\n",
      "starting...\n",
      "parsed a:\\Vishal\\BiomedCLIP_data_pipeline\\_results\\data\\pubmed_open_access_files\\PMC61042\\1471-2180-1-28.nxml\n",
      "a:\\Vishal\\BiomedCLIP_data_pipeline\\_results\\data\\pubmed_open_access_files\\PMC61043\\1471-2180-1-32.nxml\n",
      "starting...\n",
      "parsed a:\\Vishal\\BiomedCLIP_data_pipeline\\_results\\data\\pubmed_open_access_files\\PMC61043\\1471-2180-1-32.nxml\n",
      "a:\\Vishal\\BiomedCLIP_data_pipeline\\_results\\data\\pubmed_open_access_files\\PMC61044\\1471-2164-2-9.nxml\n",
      "starting...\n",
      "parsed a:\\Vishal\\BiomedCLIP_data_pipeline\\_results\\data\\pubmed_open_access_files\\PMC61044\\1471-2164-2-9.nxml\n",
      "a:\\Vishal\\BiomedCLIP_data_pipeline\\_results\\data\\pubmed_open_access_files\\PMC61448\\1471-2202-2-19.nxml\n",
      "starting...\n",
      "parsed a:\\Vishal\\BiomedCLIP_data_pipeline\\_results\\data\\pubmed_open_access_files\\PMC61448\\1471-2202-2-19.nxml\n",
      "a:\\Vishal\\BiomedCLIP_data_pipeline\\_results\\data\\pubmed_open_access_files\\PMC61449\\1471-2334-1-24.nxml\n",
      "starting...\n",
      "parsed a:\\Vishal\\BiomedCLIP_data_pipeline\\_results\\data\\pubmed_open_access_files\\PMC61449\\1471-2334-1-24.nxml\n",
      "a:\\Vishal\\BiomedCLIP_data_pipeline\\_results\\data\\pubmed_open_access_files\\PMC61450\\1472-6882-1-11.nxml\n",
      "starting...\n",
      "parsed a:\\Vishal\\BiomedCLIP_data_pipeline\\_results\\data\\pubmed_open_access_files\\PMC61450\\1472-6882-1-11.nxml\n",
      "a:\\Vishal\\BiomedCLIP_data_pipeline\\_results\\data\\pubmed_open_access_files\\PMC64492\\1471-2148-1-12.nxml\n",
      "starting...\n",
      "parsed a:\\Vishal\\BiomedCLIP_data_pipeline\\_results\\data\\pubmed_open_access_files\\PMC64492\\1471-2148-1-12.nxml\n",
      "a:\\Vishal\\BiomedCLIP_data_pipeline\\_results\\data\\pubmed_open_access_files\\PMC64493\\1471-2156-2-22.nxml\n",
      "starting...\n",
      "parsed a:\\Vishal\\BiomedCLIP_data_pipeline\\_results\\data\\pubmed_open_access_files\\PMC64493\\1471-2156-2-22.nxml\n",
      "a:\\Vishal\\BiomedCLIP_data_pipeline\\_results\\data\\pubmed_open_access_files\\PMC64494\\1471-2393-1-8.nxml\n",
      "starting...\n",
      "parsed a:\\Vishal\\BiomedCLIP_data_pipeline\\_results\\data\\pubmed_open_access_files\\PMC64494\\1471-2393-1-8.nxml\n",
      "a:\\Vishal\\BiomedCLIP_data_pipeline\\_results\\data\\pubmed_open_access_files\\PMC64495\\1471-2458-1-15.nxml\n",
      "starting...\n",
      "parsed a:\\Vishal\\BiomedCLIP_data_pipeline\\_results\\data\\pubmed_open_access_files\\PMC64495\\1471-2458-1-15.nxml\n",
      "a:\\Vishal\\BiomedCLIP_data_pipeline\\_results\\data\\pubmed_open_access_files\\PMC64496\\1471-2091-2-16.nxml\n",
      "starting...\n",
      "parsed a:\\Vishal\\BiomedCLIP_data_pipeline\\_results\\data\\pubmed_open_access_files\\PMC64496\\1471-2091-2-16.nxml\n",
      "a:\\Vishal\\BiomedCLIP_data_pipeline\\_results\\data\\pubmed_open_access_files\\PMC64497\\1472-6750-1-11.nxml\n",
      "starting...\n",
      "parsed a:\\Vishal\\BiomedCLIP_data_pipeline\\_results\\data\\pubmed_open_access_files\\PMC64497\\1472-6750-1-11.nxml\n",
      "a:\\Vishal\\BiomedCLIP_data_pipeline\\_results\\data\\pubmed_open_access_files\\PMC64498\\1472-6750-1-12.nxml\n",
      "starting...\n",
      "parsed a:\\Vishal\\BiomedCLIP_data_pipeline\\_results\\data\\pubmed_open_access_files\\PMC64498\\1472-6750-1-12.nxml\n",
      "a:\\Vishal\\BiomedCLIP_data_pipeline\\_results\\data\\pubmed_open_access_files\\PMC64499\\1472-6785-1-5.nxml\n",
      "starting...\n",
      "parsed a:\\Vishal\\BiomedCLIP_data_pipeline\\_results\\data\\pubmed_open_access_files\\PMC64499\\1472-6785-1-5.nxml\n",
      "a:\\Vishal\\BiomedCLIP_data_pipeline\\_results\\data\\pubmed_open_access_files\\PMC64500\\1472-6807-1-5.nxml\n",
      "starting...\n",
      "parsed a:\\Vishal\\BiomedCLIP_data_pipeline\\_results\\data\\pubmed_open_access_files\\PMC64500\\1472-6807-1-5.nxml\n",
      "a:\\Vishal\\BiomedCLIP_data_pipeline\\_results\\data\\pubmed_open_access_files\\PMC64501\\1472-6831-1-2.nxml\n",
      "starting...\n",
      "parsed a:\\Vishal\\BiomedCLIP_data_pipeline\\_results\\data\\pubmed_open_access_files\\PMC64501\\1472-6831-1-2.nxml\n",
      "no output\n",
      "a:\\Vishal\\BiomedCLIP_data_pipeline\\_results\\data\\pubmed_open_access_files\\PMC64502\\1471-2288-1-12.nxml\n",
      "starting...\n",
      "parsed a:\\Vishal\\BiomedCLIP_data_pipeline\\_results\\data\\pubmed_open_access_files\\PMC64502\\1471-2288-1-12.nxml\n",
      "a:\\Vishal\\BiomedCLIP_data_pipeline\\_results\\data\\pubmed_open_access_files\\PMC64540\\1471-2377-1-8.nxml\n",
      "starting...\n",
      "parsed a:\\Vishal\\BiomedCLIP_data_pipeline\\_results\\data\\pubmed_open_access_files\\PMC64540\\1471-2377-1-8.nxml\n",
      "no output\n",
      "a:\\Vishal\\BiomedCLIP_data_pipeline\\_results\\data\\pubmed_open_access_files\\PMC64544\\1471-2466-1-3.nxml\n",
      "starting...\n",
      "parsed a:\\Vishal\\BiomedCLIP_data_pipeline\\_results\\data\\pubmed_open_access_files\\PMC64544\\1471-2466-1-3.nxml\n",
      "a:\\Vishal\\BiomedCLIP_data_pipeline\\_results\\data\\pubmed_open_access_files\\PMC64545\\1471-2466-1-4.nxml\n",
      "starting...\n",
      "parsed a:\\Vishal\\BiomedCLIP_data_pipeline\\_results\\data\\pubmed_open_access_files\\PMC64545\\1471-2466-1-4.nxml\n",
      "a:\\Vishal\\BiomedCLIP_data_pipeline\\_results\\data\\pubmed_open_access_files\\PMC64552\\1471-2164-2-11.nxml\n",
      "starting...\n",
      "parsed a:\\Vishal\\BiomedCLIP_data_pipeline\\_results\\data\\pubmed_open_access_files\\PMC64552\\1471-2164-2-11.nxml\n",
      "a:\\Vishal\\BiomedCLIP_data_pipeline\\_results\\data\\pubmed_open_access_files\\PMC64558\\1471-2202-2-20.nxml\n",
      "starting...\n",
      "parsed a:\\Vishal\\BiomedCLIP_data_pipeline\\_results\\data\\pubmed_open_access_files\\PMC64558\\1471-2202-2-20.nxml\n",
      "a:\\Vishal\\BiomedCLIP_data_pipeline\\_results\\data\\pubmed_open_access_files\\PMC64559\\1471-2202-2-21.nxml\n",
      "starting...\n",
      "parsed a:\\Vishal\\BiomedCLIP_data_pipeline\\_results\\data\\pubmed_open_access_files\\PMC64559\\1471-2202-2-21.nxml\n",
      "a:\\Vishal\\BiomedCLIP_data_pipeline\\_results\\data\\pubmed_open_access_files\\PMC64563\\1471-2091-2-17.nxml\n",
      "starting...\n",
      "parsed a:\\Vishal\\BiomedCLIP_data_pipeline\\_results\\data\\pubmed_open_access_files\\PMC64563\\1471-2091-2-17.nxml\n",
      "a:\\Vishal\\BiomedCLIP_data_pipeline\\_results\\data\\pubmed_open_access_files\\PMC64569\\1471-2180-1-33.nxml\n",
      "starting...\n",
      "parsed a:\\Vishal\\BiomedCLIP_data_pipeline\\_results\\data\\pubmed_open_access_files\\PMC64569\\1471-2180-1-33.nxml\n",
      "a:\\Vishal\\BiomedCLIP_data_pipeline\\_results\\data\\pubmed_open_access_files\\PMC64570\\1471-2180-1-34.nxml\n",
      "starting...\n",
      "parsed a:\\Vishal\\BiomedCLIP_data_pipeline\\_results\\data\\pubmed_open_access_files\\PMC64570\\1471-2180-1-34.nxml\n",
      "a:\\Vishal\\BiomedCLIP_data_pipeline\\_results\\data\\pubmed_open_access_files\\PMC64578\\1471-2490-1-3.nxml\n",
      "starting...\n",
      "parsed a:\\Vishal\\BiomedCLIP_data_pipeline\\_results\\data\\pubmed_open_access_files\\PMC64578\\1471-2490-1-3.nxml\n",
      "a:\\Vishal\\BiomedCLIP_data_pipeline\\_results\\data\\pubmed_open_access_files\\PMC64605\\1471-2105-2-8.nxml\n",
      "starting...\n",
      "parsed a:\\Vishal\\BiomedCLIP_data_pipeline\\_results\\data\\pubmed_open_access_files\\PMC64605\\1471-2105-2-8.nxml\n",
      "a:\\Vishal\\BiomedCLIP_data_pipeline\\_results\\data\\pubmed_open_access_files\\PMC64612\\1471-2229-1-3.nxml\n",
      "starting...\n",
      "parsed a:\\Vishal\\BiomedCLIP_data_pipeline\\_results\\data\\pubmed_open_access_files\\PMC64612\\1471-2229-1-3.nxml\n",
      "a:\\Vishal\\BiomedCLIP_data_pipeline\\_results\\data\\pubmed_open_access_files\\PMC64621\\1471-2326-2-1.nxml\n",
      "starting...\n",
      "parsed a:\\Vishal\\BiomedCLIP_data_pipeline\\_results\\data\\pubmed_open_access_files\\PMC64621\\1471-2326-2-1.nxml\n",
      "no output\n",
      "a:\\Vishal\\BiomedCLIP_data_pipeline\\_results\\data\\pubmed_open_access_files\\PMC64635\\1471-244X-1-6.nxml\n",
      "starting...\n",
      "parsed a:\\Vishal\\BiomedCLIP_data_pipeline\\_results\\data\\pubmed_open_access_files\\PMC64635\\1471-244X-1-6.nxml\n",
      "a:\\Vishal\\BiomedCLIP_data_pipeline\\_results\\data\\pubmed_open_access_files\\PMC64636\\1471-230X-1-14.nxml\n",
      "starting...\n",
      "parsed a:\\Vishal\\BiomedCLIP_data_pipeline\\_results\\data\\pubmed_open_access_files\\PMC64636\\1471-230X-1-14.nxml\n",
      "a:\\Vishal\\BiomedCLIP_data_pipeline\\_results\\data\\pubmed_open_access_files\\PMC64637\\1471-2210-1-13.nxml\n",
      "starting...\n",
      "parsed a:\\Vishal\\BiomedCLIP_data_pipeline\\_results\\data\\pubmed_open_access_files\\PMC64637\\1471-2210-1-13.nxml\n",
      "a:\\Vishal\\BiomedCLIP_data_pipeline\\_results\\data\\pubmed_open_access_files\\PMC64638\\1472-6882-1-12.nxml\n",
      "starting...\n",
      "parsed a:\\Vishal\\BiomedCLIP_data_pipeline\\_results\\data\\pubmed_open_access_files\\PMC64638\\1472-6882-1-12.nxml\n",
      "a:\\Vishal\\BiomedCLIP_data_pipeline\\_results\\data\\pubmed_open_access_files\\PMC64639\\1471-2148-1-14.nxml\n",
      "starting...\n",
      "parsed a:\\Vishal\\BiomedCLIP_data_pipeline\\_results\\data\\pubmed_open_access_files\\PMC64639\\1471-2148-1-14.nxml\n",
      "a:\\Vishal\\BiomedCLIP_data_pipeline\\_results\\data\\pubmed_open_access_files\\PMC64640\\1471-2148-2-1.nxml\n",
      "starting...\n",
      "parsed a:\\Vishal\\BiomedCLIP_data_pipeline\\_results\\data\\pubmed_open_access_files\\PMC64640\\1471-2148-2-1.nxml\n",
      "a:\\Vishal\\BiomedCLIP_data_pipeline\\_results\\data\\pubmed_open_access_files\\PMC64641\\1471-2261-1-6.nxml\n",
      "starting...\n",
      "parsed a:\\Vishal\\BiomedCLIP_data_pipeline\\_results\\data\\pubmed_open_access_files\\PMC64641\\1471-2261-1-6.nxml\n",
      "no output\n",
      "a:\\Vishal\\BiomedCLIP_data_pipeline\\_results\\data\\pubmed_open_access_files\\PMC64642\\1471-2199-2-15.nxml\n",
      "starting...\n",
      "parsed a:\\Vishal\\BiomedCLIP_data_pipeline\\_results\\data\\pubmed_open_access_files\\PMC64642\\1471-2199-2-15.nxml\n",
      "a:\\Vishal\\BiomedCLIP_data_pipeline\\_results\\data\\pubmed_open_access_files\\PMC64643\\1471-2156-2-21.nxml\n",
      "starting...\n",
      "parsed a:\\Vishal\\BiomedCLIP_data_pipeline\\_results\\data\\pubmed_open_access_files\\PMC64643\\1471-2156-2-21.nxml\n",
      "a:\\Vishal\\BiomedCLIP_data_pipeline\\_results\\data\\pubmed_open_access_files\\PMC64644\\1471-2288-1-13.nxml\n",
      "starting...\n",
      "parsed a:\\Vishal\\BiomedCLIP_data_pipeline\\_results\\data\\pubmed_open_access_files\\PMC64644\\1471-2288-1-13.nxml\n",
      "no output\n",
      "a:\\Vishal\\BiomedCLIP_data_pipeline\\_results\\data\\pubmed_open_access_files\\PMC64645\\1471-2458-1-17.nxml\n",
      "starting...\n",
      "parsed a:\\Vishal\\BiomedCLIP_data_pipeline\\_results\\data\\pubmed_open_access_files\\PMC64645\\1471-2458-1-17.nxml\n",
      "a:\\Vishal\\BiomedCLIP_data_pipeline\\_results\\data\\pubmed_open_access_files\\PMC64646\\1471-2474-3-1.nxml\n",
      "starting...\n",
      "parsed a:\\Vishal\\BiomedCLIP_data_pipeline\\_results\\data\\pubmed_open_access_files\\PMC64646\\1471-2474-3-1.nxml\n",
      "a:\\Vishal\\BiomedCLIP_data_pipeline\\_results\\data\\pubmed_open_access_files\\PMC64647\\1472-6793-1-15.nxml\n",
      "starting...\n",
      "parsed a:\\Vishal\\BiomedCLIP_data_pipeline\\_results\\data\\pubmed_open_access_files\\PMC64647\\1472-6793-1-15.nxml\n",
      "a:\\Vishal\\BiomedCLIP_data_pipeline\\_results\\data\\pubmed_open_access_files\\PMC64648\\1472-6750-1-13.nxml\n",
      "starting...\n",
      "parsed a:\\Vishal\\BiomedCLIP_data_pipeline\\_results\\data\\pubmed_open_access_files\\PMC64648\\1472-6750-1-13.nxml\n",
      "a:\\Vishal\\BiomedCLIP_data_pipeline\\_results\\data\\pubmed_open_access_files\\PMC64649\\1471-2148-1-13.nxml\n",
      "starting...\n",
      "parsed a:\\Vishal\\BiomedCLIP_data_pipeline\\_results\\data\\pubmed_open_access_files\\PMC64649\\1471-2148-1-13.nxml\n",
      "a:\\Vishal\\BiomedCLIP_data_pipeline\\_results\\data\\pubmed_open_access_files\\PMC64650\\1472-6785-1-6.nxml\n",
      "starting...\n",
      "parsed a:\\Vishal\\BiomedCLIP_data_pipeline\\_results\\data\\pubmed_open_access_files\\PMC64650\\1472-6785-1-6.nxml\n",
      "a:\\Vishal\\BiomedCLIP_data_pipeline\\_results\\data\\pubmed_open_access_files\\PMC64779\\1471-2121-3-1.nxml\n",
      "starting...\n",
      "parsed a:\\Vishal\\BiomedCLIP_data_pipeline\\_results\\data\\pubmed_open_access_files\\PMC64779\\1471-2121-3-1.nxml\n",
      "a:\\Vishal\\BiomedCLIP_data_pipeline\\_results\\data\\pubmed_open_access_files\\PMC64780\\1471-2156-3-1.nxml\n",
      "starting...\n",
      "parsed a:\\Vishal\\BiomedCLIP_data_pipeline\\_results\\data\\pubmed_open_access_files\\PMC64780\\1471-2156-3-1.nxml\n",
      "a:\\Vishal\\BiomedCLIP_data_pipeline\\_results\\data\\pubmed_open_access_files\\PMC64781\\1471-2164-3-1.nxml\n",
      "starting...\n",
      "parsed a:\\Vishal\\BiomedCLIP_data_pipeline\\_results\\data\\pubmed_open_access_files\\PMC64781\\1471-2164-3-1.nxml\n",
      "a:\\Vishal\\BiomedCLIP_data_pipeline\\_results\\data\\pubmed_open_access_files\\PMC64782\\1471-2318-1-5.nxml\n",
      "starting...\n",
      "parsed a:\\Vishal\\BiomedCLIP_data_pipeline\\_results\\data\\pubmed_open_access_files\\PMC64782\\1471-2318-1-5.nxml\n",
      "no output\n",
      "a:\\Vishal\\BiomedCLIP_data_pipeline\\_results\\data\\pubmed_open_access_files\\PMC64783\\1472-6947-1-6.nxml\n",
      "starting...\n",
      "parsed a:\\Vishal\\BiomedCLIP_data_pipeline\\_results\\data\\pubmed_open_access_files\\PMC64783\\1472-6947-1-6.nxml\n",
      "a:\\Vishal\\BiomedCLIP_data_pipeline\\_results\\data\\pubmed_open_access_files\\PMC64784\\1471-2369-3-1.nxml\n",
      "starting...\n",
      "parsed a:\\Vishal\\BiomedCLIP_data_pipeline\\_results\\data\\pubmed_open_access_files\\PMC64784\\1471-2369-3-1.nxml\n",
      "a:\\Vishal\\BiomedCLIP_data_pipeline\\_results\\data\\pubmed_open_access_files\\PMC64785\\1472-6831-1-1.nxml\n",
      "starting...\n",
      "parsed a:\\Vishal\\BiomedCLIP_data_pipeline\\_results\\data\\pubmed_open_access_files\\PMC64785\\1472-6831-1-1.nxml\n",
      "a:\\Vishal\\BiomedCLIP_data_pipeline\\_results\\data\\pubmed_open_access_files\\PMC64786\\1471-2210-2-1.nxml\n",
      "starting...\n",
      "parsed a:\\Vishal\\BiomedCLIP_data_pipeline\\_results\\data\\pubmed_open_access_files\\PMC64786\\1471-2210-2-1.nxml\n",
      "a:\\Vishal\\BiomedCLIP_data_pipeline\\_results\\data\\pubmed_open_access_files\\PMC64787\\1471-2458-1-16.nxml\n",
      "starting...\n",
      "parsed a:\\Vishal\\BiomedCLIP_data_pipeline\\_results\\data\\pubmed_open_access_files\\PMC64787\\1471-2458-1-16.nxml\n",
      "a:\\Vishal\\BiomedCLIP_data_pipeline\\_results\\data\\pubmed_open_access_files\\PMC64798\\RR-2-6-315.nxml\n",
      "starting...\n",
      "parsed a:\\Vishal\\BiomedCLIP_data_pipeline\\_results\\data\\pubmed_open_access_files\\PMC64798\\RR-2-6-315.nxml\n",
      "a:\\Vishal\\BiomedCLIP_data_pipeline\\_results\\data\\pubmed_open_access_files\\PMC64799\\RR-2-6-320.nxml\n",
      "starting...\n",
      "parsed a:\\Vishal\\BiomedCLIP_data_pipeline\\_results\\data\\pubmed_open_access_files\\PMC64799\\RR-2-6-320.nxml\n",
      "a:\\Vishal\\BiomedCLIP_data_pipeline\\_results\\data\\pubmed_open_access_files\\PMC64800\\RR-2-6-324.nxml\n",
      "starting...\n",
      "parsed a:\\Vishal\\BiomedCLIP_data_pipeline\\_results\\data\\pubmed_open_access_files\\PMC64800\\RR-2-6-324.nxml\n",
      "a:\\Vishal\\BiomedCLIP_data_pipeline\\_results\\data\\pubmed_open_access_files\\PMC64801\\RR-2-6-340.nxml\n",
      "starting...\n",
      "parsed a:\\Vishal\\BiomedCLIP_data_pipeline\\_results\\data\\pubmed_open_access_files\\PMC64801\\RR-2-6-340.nxml\n",
      "a:\\Vishal\\BiomedCLIP_data_pipeline\\_results\\data\\pubmed_open_access_files\\PMC64802\\RR-2-6-348.nxml\n",
      "starting...\n",
      "parsed a:\\Vishal\\BiomedCLIP_data_pipeline\\_results\\data\\pubmed_open_access_files\\PMC64802\\RR-2-6-348.nxml\n",
      "a:\\Vishal\\BiomedCLIP_data_pipeline\\_results\\data\\pubmed_open_access_files\\PMC64803\\RR-2-6-353.nxml\n",
      "starting...\n",
      "parsed a:\\Vishal\\BiomedCLIP_data_pipeline\\_results\\data\\pubmed_open_access_files\\PMC64803\\RR-2-6-353.nxml\n",
      "a:\\Vishal\\BiomedCLIP_data_pipeline\\_results\\data\\pubmed_open_access_files\\PMC64804\\RR-2-6-365.nxml\n",
      "starting...\n",
      "parsed a:\\Vishal\\BiomedCLIP_data_pipeline\\_results\\data\\pubmed_open_access_files\\PMC64804\\RR-2-6-365.nxml\n",
      "a:\\Vishal\\BiomedCLIP_data_pipeline\\_results\\data\\pubmed_open_access_files\\PMC64805\\rr-2-6-328.nxml\n",
      "starting...\n",
      "parsed a:\\Vishal\\BiomedCLIP_data_pipeline\\_results\\data\\pubmed_open_access_files\\PMC64805\\rr-2-6-328.nxml\n",
      "no output\n",
      "a:\\Vishal\\BiomedCLIP_data_pipeline\\_results\\data\\pubmed_open_access_files\\PMC64806\\rr-2-6-333.nxml\n",
      "starting...\n",
      "parsed a:\\Vishal\\BiomedCLIP_data_pipeline\\_results\\data\\pubmed_open_access_files\\PMC64806\\rr-2-6-333.nxml\n",
      "a:\\Vishal\\BiomedCLIP_data_pipeline\\_results\\data\\pubmed_open_access_files\\PMC64807\\RR-3-1-1.nxml\n",
      "starting...\n",
      "parsed a:\\Vishal\\BiomedCLIP_data_pipeline\\_results\\data\\pubmed_open_access_files\\PMC64807\\RR-3-1-1.nxml\n",
      "no output\n",
      "a:\\Vishal\\BiomedCLIP_data_pipeline\\_results\\data\\pubmed_open_access_files\\PMC64808\\RR-3-1-10.nxml\n",
      "starting...\n",
      "parsed a:\\Vishal\\BiomedCLIP_data_pipeline\\_results\\data\\pubmed_open_access_files\\PMC64808\\RR-3-1-10.nxml\n",
      "no output\n",
      "a:\\Vishal\\BiomedCLIP_data_pipeline\\_results\\data\\pubmed_open_access_files\\PMC64809\\RR-3-1-11.nxml\n",
      "starting...\n",
      "parsed a:\\Vishal\\BiomedCLIP_data_pipeline\\_results\\data\\pubmed_open_access_files\\PMC64809\\RR-3-1-11.nxml\n",
      "a:\\Vishal\\BiomedCLIP_data_pipeline\\_results\\data\\pubmed_open_access_files\\PMC64810\\RR-3-1-12.nxml\n",
      "starting...\n",
      "parsed a:\\Vishal\\BiomedCLIP_data_pipeline\\_results\\data\\pubmed_open_access_files\\PMC64810\\RR-3-1-12.nxml\n",
      "no output\n",
      "a:\\Vishal\\BiomedCLIP_data_pipeline\\_results\\data\\pubmed_open_access_files\\PMC64811\\RR-3-1-13.nxml\n",
      "starting...\n",
      "parsed a:\\Vishal\\BiomedCLIP_data_pipeline\\_results\\data\\pubmed_open_access_files\\PMC64811\\RR-3-1-13.nxml\n",
      "a:\\Vishal\\BiomedCLIP_data_pipeline\\_results\\data\\pubmed_open_access_files\\PMC64812\\RR-3-1-14.nxml\n",
      "starting...\n",
      "parsed a:\\Vishal\\BiomedCLIP_data_pipeline\\_results\\data\\pubmed_open_access_files\\PMC64812\\RR-3-1-14.nxml\n",
      "a:\\Vishal\\BiomedCLIP_data_pipeline\\_results\\data\\pubmed_open_access_files\\PMC64813\\RR-3-1-2.nxml\n",
      "starting...\n",
      "parsed a:\\Vishal\\BiomedCLIP_data_pipeline\\_results\\data\\pubmed_open_access_files\\PMC64813\\RR-3-1-2.nxml\n",
      "a:\\Vishal\\BiomedCLIP_data_pipeline\\_results\\data\\pubmed_open_access_files\\PMC64814\\RR-3-1-3.nxml\n",
      "starting...\n",
      "parsed a:\\Vishal\\BiomedCLIP_data_pipeline\\_results\\data\\pubmed_open_access_files\\PMC64814\\RR-3-1-3.nxml\n",
      "a:\\Vishal\\BiomedCLIP_data_pipeline\\_results\\data\\pubmed_open_access_files\\PMC64815\\RR-3-1-4.nxml\n",
      "starting...\n",
      "parsed a:\\Vishal\\BiomedCLIP_data_pipeline\\_results\\data\\pubmed_open_access_files\\PMC64815\\RR-3-1-4.nxml\n",
      "a:\\Vishal\\BiomedCLIP_data_pipeline\\_results\\data\\pubmed_open_access_files\\PMC64816\\RR-3-1-5.nxml\n",
      "starting...\n",
      "parsed a:\\Vishal\\BiomedCLIP_data_pipeline\\_results\\data\\pubmed_open_access_files\\PMC64816\\RR-3-1-5.nxml\n",
      "no output\n",
      "a:\\Vishal\\BiomedCLIP_data_pipeline\\_results\\data\\pubmed_open_access_files\\PMC64817\\RR-3-1-6.nxml\n",
      "starting...\n",
      "parsed a:\\Vishal\\BiomedCLIP_data_pipeline\\_results\\data\\pubmed_open_access_files\\PMC64817\\RR-3-1-6.nxml\n",
      "no output\n",
      "a:\\Vishal\\BiomedCLIP_data_pipeline\\_results\\data\\pubmed_open_access_files\\PMC64818\\RR-3-1-7.nxml\n",
      "starting...\n",
      "parsed a:\\Vishal\\BiomedCLIP_data_pipeline\\_results\\data\\pubmed_open_access_files\\PMC64818\\RR-3-1-7.nxml\n",
      "a:\\Vishal\\BiomedCLIP_data_pipeline\\_results\\data\\pubmed_open_access_files\\PMC64819\\RR-3-1-8.nxml\n",
      "starting...\n",
      "parsed a:\\Vishal\\BiomedCLIP_data_pipeline\\_results\\data\\pubmed_open_access_files\\PMC64819\\RR-3-1-8.nxml\n",
      "no output\n",
      "a:\\Vishal\\BiomedCLIP_data_pipeline\\_results\\data\\pubmed_open_access_files\\PMC64820\\RR-3-1-9.nxml\n",
      "starting...\n",
      "parsed a:\\Vishal\\BiomedCLIP_data_pipeline\\_results\\data\\pubmed_open_access_files\\PMC64820\\RR-3-1-9.nxml\n",
      "no output\n",
      "a:\\Vishal\\BiomedCLIP_data_pipeline\\_results\\data\\pubmed_open_access_files\\PMC64821\\CVM-2-6-260.nxml\n",
      "starting...\n",
      "parsed a:\\Vishal\\BiomedCLIP_data_pipeline\\_results\\data\\pubmed_open_access_files\\PMC64821\\CVM-2-6-260.nxml\n",
      "no output\n",
      "a:\\Vishal\\BiomedCLIP_data_pipeline\\_results\\data\\pubmed_open_access_files\\PMC64822\\Cvm-2-6-249.nxml\n",
      "starting...\n",
      "parsed a:\\Vishal\\BiomedCLIP_data_pipeline\\_results\\data\\pubmed_open_access_files\\PMC64822\\Cvm-2-6-249.nxml\n",
      "no output\n",
      "a:\\Vishal\\BiomedCLIP_data_pipeline\\_results\\data\\pubmed_open_access_files\\PMC64823\\Cvm-2-6-251.nxml\n",
      "starting...\n",
      "parsed a:\\Vishal\\BiomedCLIP_data_pipeline\\_results\\data\\pubmed_open_access_files\\PMC64823\\Cvm-2-6-251.nxml\n",
      "no output\n",
      "a:\\Vishal\\BiomedCLIP_data_pipeline\\_results\\data\\pubmed_open_access_files\\PMC64824\\Cvm-2-6-254.nxml\n",
      "starting...\n",
      "parsed a:\\Vishal\\BiomedCLIP_data_pipeline\\_results\\data\\pubmed_open_access_files\\PMC64824\\Cvm-2-6-254.nxml\n",
      "no output\n",
      "a:\\Vishal\\BiomedCLIP_data_pipeline\\_results\\data\\pubmed_open_access_files\\PMC64825\\Cvm-2-6-257.nxml\n",
      "starting...\n",
      "parsed a:\\Vishal\\BiomedCLIP_data_pipeline\\_results\\data\\pubmed_open_access_files\\PMC64825\\Cvm-2-6-257.nxml\n",
      "no output\n",
      "a:\\Vishal\\BiomedCLIP_data_pipeline\\_results\\data\\pubmed_open_access_files\\PMC64826\\Cvm-2-6-263.nxml\n",
      "starting...\n",
      "parsed a:\\Vishal\\BiomedCLIP_data_pipeline\\_results\\data\\pubmed_open_access_files\\PMC64826\\Cvm-2-6-263.nxml\n",
      "no output\n",
      "a:\\Vishal\\BiomedCLIP_data_pipeline\\_results\\data\\pubmed_open_access_files\\PMC64827\\Cvm-2-6-266.nxml\n",
      "starting...\n",
      "parsed a:\\Vishal\\BiomedCLIP_data_pipeline\\_results\\data\\pubmed_open_access_files\\PMC64827\\Cvm-2-6-266.nxml\n",
      "no output\n",
      "a:\\Vishal\\BiomedCLIP_data_pipeline\\_results\\data\\pubmed_open_access_files\\PMC64828\\Cvm-2-6-268.nxml\n",
      "starting...\n",
      "parsed a:\\Vishal\\BiomedCLIP_data_pipeline\\_results\\data\\pubmed_open_access_files\\PMC64828\\Cvm-2-6-268.nxml\n",
      "no output\n",
      "a:\\Vishal\\BiomedCLIP_data_pipeline\\_results\\data\\pubmed_open_access_files\\PMC64829\\Cvm-2-6-278.nxml\n",
      "starting...\n",
      "parsed a:\\Vishal\\BiomedCLIP_data_pipeline\\_results\\data\\pubmed_open_access_files\\PMC64829\\Cvm-2-6-278.nxml\n",
      "a:\\Vishal\\BiomedCLIP_data_pipeline\\_results\\data\\pubmed_open_access_files\\PMC64830\\Cvm-2-6-286.nxml\n",
      "starting...\n",
      "parsed a:\\Vishal\\BiomedCLIP_data_pipeline\\_results\\data\\pubmed_open_access_files\\PMC64830\\Cvm-2-6-286.nxml\n",
      "a:\\Vishal\\BiomedCLIP_data_pipeline\\_results\\data\\pubmed_open_access_files\\PMC64831\\Cvm-2-6-292.nxml\n",
      "starting...\n",
      "parsed a:\\Vishal\\BiomedCLIP_data_pipeline\\_results\\data\\pubmed_open_access_files\\PMC64831\\Cvm-2-6-292.nxml\n",
      "a:\\Vishal\\BiomedCLIP_data_pipeline\\_results\\data\\pubmed_open_access_files\\PMC64832\\cvm-2-6-271.nxml\n",
      "starting...\n",
      "parsed a:\\Vishal\\BiomedCLIP_data_pipeline\\_results\\data\\pubmed_open_access_files\\PMC64832\\cvm-2-6-271.nxml\n",
      "a:\\Vishal\\BiomedCLIP_data_pipeline\\_results\\data\\pubmed_open_access_files\\PMC64833\\cvm-2-6-298.nxml\n",
      "starting...\n",
      "parsed a:\\Vishal\\BiomedCLIP_data_pipeline\\_results\\data\\pubmed_open_access_files\\PMC64833\\cvm-2-6-298.nxml\n",
      "a:\\Vishal\\BiomedCLIP_data_pipeline\\_results\\data\\pubmed_open_access_files\\PMC64834\\BCR-3-6-409.nxml\n",
      "starting...\n",
      "parsed a:\\Vishal\\BiomedCLIP_data_pipeline\\_results\\data\\pubmed_open_access_files\\PMC64834\\BCR-3-6-409.nxml\n",
      "no output\n",
      "a:\\Vishal\\BiomedCLIP_data_pipeline\\_results\\data\\pubmed_open_access_files\\PMC64835\\gb-2001-2-12-research0050.nxml\n",
      "starting...\n",
      "parsed a:\\Vishal\\BiomedCLIP_data_pipeline\\_results\\data\\pubmed_open_access_files\\PMC64835\\gb-2001-2-12-research0050.nxml\n",
      "a:\\Vishal\\BiomedCLIP_data_pipeline\\_results\\data\\pubmed_open_access_files\\PMC64836\\gb-2001-2-12-research0051.nxml\n",
      "starting...\n",
      "parsed a:\\Vishal\\BiomedCLIP_data_pipeline\\_results\\data\\pubmed_open_access_files\\PMC64836\\gb-2001-2-12-research0051.nxml\n",
      "a:\\Vishal\\BiomedCLIP_data_pipeline\\_results\\data\\pubmed_open_access_files\\PMC64837\\gb-2001-2-12-research0052.nxml\n",
      "starting...\n",
      "parsed a:\\Vishal\\BiomedCLIP_data_pipeline\\_results\\data\\pubmed_open_access_files\\PMC64837\\gb-2001-2-12-research0052.nxml\n",
      "a:\\Vishal\\BiomedCLIP_data_pipeline\\_results\\data\\pubmed_open_access_files\\PMC64838\\gb-2001-2-12-research0053.nxml\n",
      "starting...\n",
      "parsed a:\\Vishal\\BiomedCLIP_data_pipeline\\_results\\data\\pubmed_open_access_files\\PMC64838\\gb-2001-2-12-research0053.nxml\n",
      "a:\\Vishal\\BiomedCLIP_data_pipeline\\_results\\data\\pubmed_open_access_files\\PMC64839\\gb-2001-2-12-research0054.nxml\n",
      "starting...\n",
      "parsed a:\\Vishal\\BiomedCLIP_data_pipeline\\_results\\data\\pubmed_open_access_files\\PMC64839\\gb-2001-2-12-research0054.nxml\n",
      "a:\\Vishal\\BiomedCLIP_data_pipeline\\_results\\data\\pubmed_open_access_files\\PMC64840\\gb-2001-2-12-research0055.nxml\n",
      "starting...\n",
      "parsed a:\\Vishal\\BiomedCLIP_data_pipeline\\_results\\data\\pubmed_open_access_files\\PMC64840\\gb-2001-2-12-research0055.nxml\n",
      "a:\\Vishal\\BiomedCLIP_data_pipeline\\_results\\data\\pubmed_open_access_files\\PMC64841\\AR-3-5-293.nxml\n",
      "starting...\n",
      "parsed a:\\Vishal\\BiomedCLIP_data_pipeline\\_results\\data\\pubmed_open_access_files\\PMC64841\\AR-3-5-293.nxml\n",
      "a:\\Vishal\\BiomedCLIP_data_pipeline\\_results\\data\\pubmed_open_access_files\\PMC64842\\AR-3-5-299.nxml\n",
      "starting...\n",
      "parsed a:\\Vishal\\BiomedCLIP_data_pipeline\\_results\\data\\pubmed_open_access_files\\PMC64842\\AR-3-5-299.nxml\n",
      "a:\\Vishal\\BiomedCLIP_data_pipeline\\_results\\data\\pubmed_open_access_files\\PMC64843\\AR-3-5-306.nxml\n",
      "starting...\n",
      "parsed a:\\Vishal\\BiomedCLIP_data_pipeline\\_results\\data\\pubmed_open_access_files\\PMC64843\\AR-3-5-306.nxml\n",
      "a:\\Vishal\\BiomedCLIP_data_pipeline\\_results\\data\\pubmed_open_access_files\\PMC64844\\AR-3-5-311.nxml\n",
      "starting...\n",
      "parsed a:\\Vishal\\BiomedCLIP_data_pipeline\\_results\\data\\pubmed_open_access_files\\PMC64844\\AR-3-5-311.nxml\n",
      "a:\\Vishal\\BiomedCLIP_data_pipeline\\_results\\data\\pubmed_open_access_files\\PMC64845\\AR-3-5-319.nxml\n",
      "starting...\n",
      "parsed a:\\Vishal\\BiomedCLIP_data_pipeline\\_results\\data\\pubmed_open_access_files\\PMC64845\\AR-3-5-319.nxml\n",
      "a:\\Vishal\\BiomedCLIP_data_pipeline\\_results\\data\\pubmed_open_access_files\\PMC64846\\AR-3-6-357.nxml\n",
      "starting...\n",
      "parsed a:\\Vishal\\BiomedCLIP_data_pipeline\\_results\\data\\pubmed_open_access_files\\PMC64846\\AR-3-6-357.nxml\n",
      "a:\\Vishal\\BiomedCLIP_data_pipeline\\_results\\data\\pubmed_open_access_files\\PMC64847\\AR-3-6-362.nxml\n",
      "starting...\n",
      "parsed a:\\Vishal\\BiomedCLIP_data_pipeline\\_results\\data\\pubmed_open_access_files\\PMC64847\\AR-3-6-362.nxml\n",
      "no output\n",
      "a:\\Vishal\\BiomedCLIP_data_pipeline\\_results\\data\\pubmed_open_access_files\\PMC64848\\AR-3-6-368.nxml\n",
      "starting...\n",
      "parsed a:\\Vishal\\BiomedCLIP_data_pipeline\\_results\\data\\pubmed_open_access_files\\PMC64848\\AR-3-6-368.nxml\n",
      "a:\\Vishal\\BiomedCLIP_data_pipeline\\_results\\data\\pubmed_open_access_files\\PMC64849\\AR-3-6-375.nxml\n",
      "starting...\n",
      "parsed a:\\Vishal\\BiomedCLIP_data_pipeline\\_results\\data\\pubmed_open_access_files\\PMC64849\\AR-3-6-375.nxml\n",
      "a:\\Vishal\\BiomedCLIP_data_pipeline\\_results\\data\\pubmed_open_access_files\\PMC64850\\AR-3-6-381.nxml\n",
      "starting...\n",
      "parsed a:\\Vishal\\BiomedCLIP_data_pipeline\\_results\\data\\pubmed_open_access_files\\PMC64850\\AR-3-6-381.nxml\n",
      "a:\\Vishal\\BiomedCLIP_data_pipeline\\_results\\data\\pubmed_open_access_files\\PMC64851\\AR-3-6-389.nxml\n",
      "starting...\n",
      "parsed a:\\Vishal\\BiomedCLIP_data_pipeline\\_results\\data\\pubmed_open_access_files\\PMC64851\\AR-3-6-389.nxml\n",
      "a:\\Vishal\\BiomedCLIP_data_pipeline\\_results\\data\\pubmed_open_access_files\\PMC64852\\AR-4-1-54.nxml\n",
      "starting...\n",
      "parsed a:\\Vishal\\BiomedCLIP_data_pipeline\\_results\\data\\pubmed_open_access_files\\PMC64852\\AR-4-1-54.nxml\n",
      "a:\\Vishal\\BiomedCLIP_data_pipeline\\_results\\data\\pubmed_open_access_files\\PMC64853\\AR-4-1-59.nxml\n",
      "starting...\n",
      "parsed a:\\Vishal\\BiomedCLIP_data_pipeline\\_results\\data\\pubmed_open_access_files\\PMC64853\\AR-4-1-59.nxml\n",
      "a:\\Vishal\\BiomedCLIP_data_pipeline\\_results\\data\\pubmed_open_access_files\\PMC64854\\AR-4-1-64.nxml\n",
      "starting...\n",
      "parsed a:\\Vishal\\BiomedCLIP_data_pipeline\\_results\\data\\pubmed_open_access_files\\PMC64854\\AR-4-1-64.nxml\n",
      "a:\\Vishal\\BiomedCLIP_data_pipeline\\_results\\data\\pubmed_open_access_files\\PMC64855\\AR-4-1-71.nxml\n",
      "starting...\n",
      "parsed a:\\Vishal\\BiomedCLIP_data_pipeline\\_results\\data\\pubmed_open_access_files\\PMC64855\\AR-4-1-71.nxml\n",
      "a:\\Vishal\\BiomedCLIP_data_pipeline\\_results\\data\\pubmed_open_access_files\\PMC65040\\1471-2431-2-1.nxml\n",
      "starting...\n",
      "parsed a:\\Vishal\\BiomedCLIP_data_pipeline\\_results\\data\\pubmed_open_access_files\\PMC65040\\1471-2431-2-1.nxml\n",
      "a:\\Vishal\\BiomedCLIP_data_pipeline\\_results\\data\\pubmed_open_access_files\\PMC65041\\1471-2407-2-1.nxml\n",
      "starting...\n",
      "parsed a:\\Vishal\\BiomedCLIP_data_pipeline\\_results\\data\\pubmed_open_access_files\\PMC65041\\1471-2407-2-1.nxml\n",
      "a:\\Vishal\\BiomedCLIP_data_pipeline\\_results\\data\\pubmed_open_access_files\\PMC65042\\1471-2490-2-1.nxml\n",
      "starting...\n",
      "parsed a:\\Vishal\\BiomedCLIP_data_pipeline\\_results\\data\\pubmed_open_access_files\\PMC65042\\1471-2490-2-1.nxml\n",
      "a:\\Vishal\\BiomedCLIP_data_pipeline\\_results\\data\\pubmed_open_access_files\\PMC65043\\1471-2490-2-2.nxml\n",
      "starting...\n",
      "parsed a:\\Vishal\\BiomedCLIP_data_pipeline\\_results\\data\\pubmed_open_access_files\\PMC65043\\1471-2490-2-2.nxml\n",
      "no output\n",
      "a:\\Vishal\\BiomedCLIP_data_pipeline\\_results\\data\\pubmed_open_access_files\\PMC65044\\1471-2091-3-2.nxml\n",
      "starting...\n",
      "parsed a:\\Vishal\\BiomedCLIP_data_pipeline\\_results\\data\\pubmed_open_access_files\\PMC65044\\1471-2091-3-2.nxml\n",
      "a:\\Vishal\\BiomedCLIP_data_pipeline\\_results\\data\\pubmed_open_access_files\\PMC65045\\1472-6920-2-2.nxml\n",
      "starting...\n",
      "Exception: local variable 'caption' referenced before assignment path: a:\\Vishal\\BiomedCLIP_data_pipeline\\_results\\data\\pubmed_open_access_files\\PMC65045\\1472-6920-2-2.nxml\n",
      "a:\\Vishal\\BiomedCLIP_data_pipeline\\_results\\data\\pubmed_open_access_files\\PMC65046\\1472-6750-2-1.nxml\n",
      "starting...\n",
      "parsed a:\\Vishal\\BiomedCLIP_data_pipeline\\_results\\data\\pubmed_open_access_files\\PMC65046\\1472-6750-2-1.nxml\n",
      "a:\\Vishal\\BiomedCLIP_data_pipeline\\_results\\data\\pubmed_open_access_files\\PMC65047\\1472-6874-2-2.nxml\n",
      "starting...\n",
      "parsed a:\\Vishal\\BiomedCLIP_data_pipeline\\_results\\data\\pubmed_open_access_files\\PMC65047\\1472-6874-2-2.nxml\n",
      "no output\n",
      "a:\\Vishal\\BiomedCLIP_data_pipeline\\_results\\data\\pubmed_open_access_files\\PMC65048\\1471-2105-3-1.nxml\n",
      "starting...\n",
      "parsed a:\\Vishal\\BiomedCLIP_data_pipeline\\_results\\data\\pubmed_open_access_files\\PMC65048\\1471-2105-3-1.nxml\n",
      "a:\\Vishal\\BiomedCLIP_data_pipeline\\_results\\data\\pubmed_open_access_files\\PMC65049\\1472-6793-2-1.nxml\n",
      "starting...\n",
      "parsed a:\\Vishal\\BiomedCLIP_data_pipeline\\_results\\data\\pubmed_open_access_files\\PMC65049\\1472-6793-2-1.nxml\n",
      "a:\\Vishal\\BiomedCLIP_data_pipeline\\_results\\data\\pubmed_open_access_files\\PMC65051\\1471-2229-2-1.nxml\n",
      "starting...\n",
      "parsed a:\\Vishal\\BiomedCLIP_data_pipeline\\_results\\data\\pubmed_open_access_files\\PMC65051\\1471-2229-2-1.nxml\n",
      "a:\\Vishal\\BiomedCLIP_data_pipeline\\_results\\data\\pubmed_open_access_files\\PMC65052\\1471-2474-2-8.nxml\n",
      "starting...\n",
      "parsed a:\\Vishal\\BiomedCLIP_data_pipeline\\_results\\data\\pubmed_open_access_files\\PMC65052\\1471-2474-2-8.nxml\n",
      "no output\n",
      "a:\\Vishal\\BiomedCLIP_data_pipeline\\_results\\data\\pubmed_open_access_files\\PMC65053\\1472-6793-2-2.nxml\n",
      "starting...\n",
      "parsed a:\\Vishal\\BiomedCLIP_data_pipeline\\_results\\data\\pubmed_open_access_files\\PMC65053\\1472-6793-2-2.nxml\n",
      "a:\\Vishal\\BiomedCLIP_data_pipeline\\_results\\data\\pubmed_open_access_files\\PMC65099\\gb-2001-2-9-research0034.nxml\n",
      "starting...\n",
      "parsed a:\\Vishal\\BiomedCLIP_data_pipeline\\_results\\data\\pubmed_open_access_files\\PMC65099\\gb-2001-2-9-research0034.nxml\n",
      "a:\\Vishal\\BiomedCLIP_data_pipeline\\_results\\data\\pubmed_open_access_files\\PMC65507\\1471-2458-2-1.nxml\n",
      "starting...\n",
      "parsed a:\\Vishal\\BiomedCLIP_data_pipeline\\_results\\data\\pubmed_open_access_files\\PMC65507\\1471-2458-2-1.nxml\n",
      "no output\n",
      "a:\\Vishal\\BiomedCLIP_data_pipeline\\_results\\data\\pubmed_open_access_files\\PMC65508\\1471-2202-3-1.nxml\n",
      "starting...\n",
      "parsed a:\\Vishal\\BiomedCLIP_data_pipeline\\_results\\data\\pubmed_open_access_files\\PMC65508\\1471-2202-3-1.nxml\n",
      "a:\\Vishal\\BiomedCLIP_data_pipeline\\_results\\data\\pubmed_open_access_files\\PMC65509\\1471-2105-3-3.nxml\n",
      "starting...\n",
      "parsed a:\\Vishal\\BiomedCLIP_data_pipeline\\_results\\data\\pubmed_open_access_files\\PMC65509\\1471-2105-3-3.nxml\n",
      "a:\\Vishal\\BiomedCLIP_data_pipeline\\_results\\data\\pubmed_open_access_files\\PMC65510\\1471-2091-3-1.nxml\n",
      "starting...\n",
      "parsed a:\\Vishal\\BiomedCLIP_data_pipeline\\_results\\data\\pubmed_open_access_files\\PMC65510\\1471-2091-3-1.nxml\n",
      "a:\\Vishal\\BiomedCLIP_data_pipeline\\_results\\data\\pubmed_open_access_files\\PMC65511\\1471-2261-2-2.nxml\n",
      "starting...\n",
      "parsed a:\\Vishal\\BiomedCLIP_data_pipeline\\_results\\data\\pubmed_open_access_files\\PMC65511\\1471-2261-2-2.nxml\n",
      "a:\\Vishal\\BiomedCLIP_data_pipeline\\_results\\data\\pubmed_open_access_files\\PMC65512\\1471-2261-2-3.nxml\n",
      "starting...\n",
      "parsed a:\\Vishal\\BiomedCLIP_data_pipeline\\_results\\data\\pubmed_open_access_files\\PMC65512\\1471-2261-2-3.nxml\n",
      "a:\\Vishal\\BiomedCLIP_data_pipeline\\_results\\data\\pubmed_open_access_files\\PMC65513\\1472-6769-2-1.nxml\n",
      "starting...\n",
      "parsed a:\\Vishal\\BiomedCLIP_data_pipeline\\_results\\data\\pubmed_open_access_files\\PMC65513\\1472-6769-2-1.nxml\n",
      "a:\\Vishal\\BiomedCLIP_data_pipeline\\_results\\data\\pubmed_open_access_files\\PMC65514\\1472-6904-2-1.nxml\n",
      "starting...\n",
      "parsed a:\\Vishal\\BiomedCLIP_data_pipeline\\_results\\data\\pubmed_open_access_files\\PMC65514\\1472-6904-2-1.nxml\n",
      "no output\n",
      "a:\\Vishal\\BiomedCLIP_data_pipeline\\_results\\data\\pubmed_open_access_files\\PMC65515\\1471-2296-3-1.nxml\n",
      "starting...\n",
      "parsed a:\\Vishal\\BiomedCLIP_data_pipeline\\_results\\data\\pubmed_open_access_files\\PMC65515\\1471-2296-3-1.nxml\n",
      "no output\n",
      "a:\\Vishal\\BiomedCLIP_data_pipeline\\_results\\data\\pubmed_open_access_files\\PMC65516\\1471-230X-2-2.nxml\n",
      "starting...\n",
      "parsed a:\\Vishal\\BiomedCLIP_data_pipeline\\_results\\data\\pubmed_open_access_files\\PMC65516\\1471-230X-2-2.nxml\n",
      "a:\\Vishal\\BiomedCLIP_data_pipeline\\_results\\data\\pubmed_open_access_files\\PMC65517\\1472-6963-2-1.nxml\n",
      "starting...\n",
      "parsed a:\\Vishal\\BiomedCLIP_data_pipeline\\_results\\data\\pubmed_open_access_files\\PMC65517\\1472-6963-2-1.nxml\n",
      "a:\\Vishal\\BiomedCLIP_data_pipeline\\_results\\data\\pubmed_open_access_files\\PMC65518\\1471-2334-2-1.nxml\n",
      "starting...\n",
      "parsed a:\\Vishal\\BiomedCLIP_data_pipeline\\_results\\data\\pubmed_open_access_files\\PMC65518\\1471-2334-2-1.nxml\n",
      "no output\n",
      "a:\\Vishal\\BiomedCLIP_data_pipeline\\_results\\data\\pubmed_open_access_files\\PMC65519\\1471-2172-3-1.nxml\n",
      "starting...\n",
      "parsed a:\\Vishal\\BiomedCLIP_data_pipeline\\_results\\data\\pubmed_open_access_files\\PMC65519\\1471-2172-3-1.nxml\n",
      "a:\\Vishal\\BiomedCLIP_data_pipeline\\_results\\data\\pubmed_open_access_files\\PMC65520\\1472-6939-3-1.nxml\n",
      "starting...\n",
      "parsed a:\\Vishal\\BiomedCLIP_data_pipeline\\_results\\data\\pubmed_open_access_files\\PMC65520\\1472-6939-3-1.nxml\n",
      "no output\n",
      "a:\\Vishal\\BiomedCLIP_data_pipeline\\_results\\data\\pubmed_open_access_files\\PMC65521\\1471-2180-2-1.nxml\n",
      "starting...\n",
      "parsed a:\\Vishal\\BiomedCLIP_data_pipeline\\_results\\data\\pubmed_open_access_files\\PMC65521\\1471-2180-2-1.nxml\n",
      "a:\\Vishal\\BiomedCLIP_data_pipeline\\_results\\data\\pubmed_open_access_files\\PMC65522\\1472-6947-2-1.nxml\n",
      "starting...\n",
      "parsed a:\\Vishal\\BiomedCLIP_data_pipeline\\_results\\data\\pubmed_open_access_files\\PMC65522\\1472-6947-2-1.nxml\n",
      "a:\\Vishal\\BiomedCLIP_data_pipeline\\_results\\data\\pubmed_open_access_files\\PMC65523\\1472-6947-2-2.nxml\n",
      "starting...\n",
      "parsed a:\\Vishal\\BiomedCLIP_data_pipeline\\_results\\data\\pubmed_open_access_files\\PMC65523\\1472-6947-2-2.nxml\n",
      "a:\\Vishal\\BiomedCLIP_data_pipeline\\_results\\data\\pubmed_open_access_files\\PMC65524\\1471-2474-3-2.nxml\n",
      "starting...\n",
      "parsed a:\\Vishal\\BiomedCLIP_data_pipeline\\_results\\data\\pubmed_open_access_files\\PMC65524\\1471-2474-3-2.nxml\n",
      "a:\\Vishal\\BiomedCLIP_data_pipeline\\_results\\data\\pubmed_open_access_files\\PMC65525\\1471-2210-1-12.nxml\n",
      "starting...\n",
      "parsed a:\\Vishal\\BiomedCLIP_data_pipeline\\_results\\data\\pubmed_open_access_files\\PMC65525\\1471-2210-1-12.nxml\n",
      "a:\\Vishal\\BiomedCLIP_data_pipeline\\_results\\data\\pubmed_open_access_files\\PMC65526\\1471-244X-2-1.nxml\n",
      "starting...\n",
      "parsed a:\\Vishal\\BiomedCLIP_data_pipeline\\_results\\data\\pubmed_open_access_files\\PMC65526\\1471-244X-2-1.nxml\n",
      "no output\n",
      "a:\\Vishal\\BiomedCLIP_data_pipeline\\_results\\data\\pubmed_open_access_files\\PMC65527\\1471-244X-2-2.nxml\n",
      "starting...\n",
      "parsed a:\\Vishal\\BiomedCLIP_data_pipeline\\_results\\data\\pubmed_open_access_files\\PMC65527\\1471-244X-2-2.nxml\n",
      "no output\n",
      "a:\\Vishal\\BiomedCLIP_data_pipeline\\_results\\data\\pubmed_open_access_files\\PMC65528\\1472-6874-2-1.nxml\n",
      "starting...\n",
      "Exception: local variable 'caption' referenced before assignment path: a:\\Vishal\\BiomedCLIP_data_pipeline\\_results\\data\\pubmed_open_access_files\\PMC65528\\1472-6874-2-1.nxml\n",
      "a:\\Vishal\\BiomedCLIP_data_pipeline\\_results\\data\\pubmed_open_access_files\\PMC65529\\1471-2148-2-2.nxml\n",
      "starting...\n",
      "parsed a:\\Vishal\\BiomedCLIP_data_pipeline\\_results\\data\\pubmed_open_access_files\\PMC65529\\1471-2148-2-2.nxml\n",
      "a:\\Vishal\\BiomedCLIP_data_pipeline\\_results\\data\\pubmed_open_access_files\\PMC65540\\1471-5945-2-2.nxml\n",
      "starting...\n",
      "parsed a:\\Vishal\\BiomedCLIP_data_pipeline\\_results\\data\\pubmed_open_access_files\\PMC65540\\1471-5945-2-2.nxml\n",
      "no output\n",
      "a:\\Vishal\\BiomedCLIP_data_pipeline\\_results\\data\\pubmed_open_access_files\\PMC65541\\1471-2164-3-5.nxml\n",
      "starting...\n",
      "parsed a:\\Vishal\\BiomedCLIP_data_pipeline\\_results\\data\\pubmed_open_access_files\\PMC65541\\1471-2164-3-5.nxml\n",
      "a:\\Vishal\\BiomedCLIP_data_pipeline\\_results\\data\\pubmed_open_access_files\\PMC65542\\1471-2407-2-2.nxml\n",
      "starting...\n",
      "parsed a:\\Vishal\\BiomedCLIP_data_pipeline\\_results\\data\\pubmed_open_access_files\\PMC65542\\1471-2407-2-2.nxml\n",
      "no output\n",
      "a:\\Vishal\\BiomedCLIP_data_pipeline\\_results\\data\\pubmed_open_access_files\\PMC65543\\1472-6785-2-1.nxml\n",
      "starting...\n",
      "parsed a:\\Vishal\\BiomedCLIP_data_pipeline\\_results\\data\\pubmed_open_access_files\\PMC65543\\1472-6785-2-1.nxml\n",
      "a:\\Vishal\\BiomedCLIP_data_pipeline\\_results\\data\\pubmed_open_access_files\\PMC65544\\1471-2180-2-2.nxml\n",
      "starting...\n",
      "parsed a:\\Vishal\\BiomedCLIP_data_pipeline\\_results\\data\\pubmed_open_access_files\\PMC65544\\1471-2180-2-2.nxml\n",
      "a:\\Vishal\\BiomedCLIP_data_pipeline\\_results\\data\\pubmed_open_access_files\\PMC65545\\1471-2121-3-3.nxml\n",
      "starting...\n",
      "parsed a:\\Vishal\\BiomedCLIP_data_pipeline\\_results\\data\\pubmed_open_access_files\\PMC65545\\1471-2121-3-3.nxml\n",
      "a:\\Vishal\\BiomedCLIP_data_pipeline\\_results\\data\\pubmed_open_access_files\\PMC65546\\1471-2474-3-4.nxml\n",
      "starting...\n",
      "parsed a:\\Vishal\\BiomedCLIP_data_pipeline\\_results\\data\\pubmed_open_access_files\\PMC65546\\1471-2474-3-4.nxml\n",
      "a:\\Vishal\\BiomedCLIP_data_pipeline\\_results\\data\\pubmed_open_access_files\\PMC65547\\1471-2121-3-2.nxml\n",
      "starting...\n",
      "parsed a:\\Vishal\\BiomedCLIP_data_pipeline\\_results\\data\\pubmed_open_access_files\\PMC65547\\1471-2121-3-2.nxml\n",
      "a:\\Vishal\\BiomedCLIP_data_pipeline\\_results\\data\\pubmed_open_access_files\\PMC65548\\1471-2288-1-14.nxml\n",
      "starting...\n",
      "parsed a:\\Vishal\\BiomedCLIP_data_pipeline\\_results\\data\\pubmed_open_access_files\\PMC65548\\1471-2288-1-14.nxml\n",
      "a:\\Vishal\\BiomedCLIP_data_pipeline\\_results\\data\\pubmed_open_access_files\\PMC65549\\1471-244X-2-3.nxml\n",
      "starting...\n",
      "parsed a:\\Vishal\\BiomedCLIP_data_pipeline\\_results\\data\\pubmed_open_access_files\\PMC65549\\1471-244X-2-3.nxml\n",
      "a:\\Vishal\\BiomedCLIP_data_pipeline\\_results\\data\\pubmed_open_access_files\\PMC65550\\1471-244X-1-7.nxml\n",
      "starting...\n",
      "parsed a:\\Vishal\\BiomedCLIP_data_pipeline\\_results\\data\\pubmed_open_access_files\\PMC65550\\1471-244X-1-7.nxml\n",
      "no output\n",
      "a:\\Vishal\\BiomedCLIP_data_pipeline\\_results\\data\\pubmed_open_access_files\\PMC65598\\1471-2458-2-2.nxml\n",
      "starting...\n",
      "parsed a:\\Vishal\\BiomedCLIP_data_pipeline\\_results\\data\\pubmed_open_access_files\\PMC65598\\1471-2458-2-2.nxml\n",
      "Processed 1000 files\n"
     ]
    }
   ],
   "source": [
    "pipeline_input_file_path = repo_root / \"_results\" / \"data\" / \"pubmed_parsed_data.jsonl\"\n",
    "\n",
    "data.generate_pmc15_pipeline_outputs(\n",
    "    decompressed_folder=decompressed_folder_path,\n",
    "    output_file_path=pipeline_input_file_path,\n",
    ")"
   ]
  },
  {
   "cell_type": "code",
   "execution_count": 9,
   "metadata": {},
   "outputs": [
    {
     "name": "stdout",
     "output_type": "stream",
     "text": [
      "Number of lines in pipeline output file: 712\n"
     ]
    }
   ],
   "source": [
    "num_lines = fs_utils.get_line_count(pipeline_input_file_path)\n",
    "print(f\"Number of lines in pipeline output file: {num_lines}\")"
   ]
  },
  {
   "cell_type": "code",
   "execution_count": 13,
   "metadata": {},
   "outputs": [
    {
     "name": "stdout",
     "output_type": "stream",
     "text": [
      "[\n",
      "    {\n",
      "        \"fig_caption\": \"Immunohistochemical localization of BRCA1 and BRCA2 with formalin-fixed and paraffin sections in an ovotestis. (a) Hematoxylin eosin saffron (HES) histology of the ovotestis demonstrating testicular tissue with seminiferous cords (triangle), adjacent to ovarian tissue with primordial follicles (arrow) (\\u00d7 200). For BRCA1 protein: (b) K-18 antibodies showed cytoplasmic staining of oocytes (arrowhead) surrounded by follicule primordial and cytoplasmic staining of male germ cells (arrow) in seminiferous cords identified by the presence of Sertoli cells inside (\\u00d7 220); (c) 8F7 antibodies showed predominantly nuclear stainings of Sertoli cells (asterisk) and of oocytes (arrowhead), and cytoplasmic staining was also exhibited in the oocytes (\\u00d7 450); (d) 17F8 antibodies showed exclusive nuclear staining of Sertoli cells (arrow) (\\u00d7 470); (e) 17F8 antibodies showed cytoplasmic staining of oocytes (arrow) (\\u00d7 315); (f) 66046N antibodies showed cytoplasmic staining of oocytes (arrowhead) (\\u00d7 540); and (g) 66036N antibodies showed cytoplasmic staining of male and female germ cells, and slight nuclear staining in Sertoli cells in the tube (asterisk) (\\u00d7 385). For BRCA2 protein: (h) 66066E antibodies showed cytoplasmic staining of Sertoli cells (arrowhead) and oocytes (asterisk) (\\u00d7 545); and (i) 3E6 antibodies showed low cytoplasmic staining of Sertoli cells (asterisk) and female germ cells (arrowhead) (\\u00d7 660).\",\n",
      "        \"fig_id\": \"F1\",\n",
      "        \"fig_label\": \"Figure 1\",\n",
      "        \"graphic_ref\": \"a:\\\\Vishal\\\\BiomedCLIP_data_pipeline\\\\_results\\\\data\\\\pubmed_open_access_files\\\\PMC13901\\\\BCR-3-1-061-1.jpg\",\n",
      "        \"pair_id\": \"11250747_F1\"\n",
      "    }\n",
      "]\n",
      "[\n",
      "    {\n",
      "        \"fig_caption\": \"Effect of chemopreventive agents on mammary tumor formation in the NMU rat model of mammary tumorigenesis. Rats were administered NMU at 8 weeks of age (time t = 0), and were randomized into six groups which were given the following chemopreventive agents continuously in their diet, starting 1 week after initiation: no additions (unfilled circle), 4-HPR (filled circle), 9cRA (unfilled square), tamoxifen (filled square), 4-HPR + tamoxifen (unfilled triangle), or 9cRA + tamoxifen (filled triangle). Rats were weighed and palpated for tumors each week. (a) Percentage of rats with palpable tumors. (b) Mean number of tumors per rat. (c) Mean weight of rat. The open arrow indicates the start of the chemopreventive intervention.\",\n",
      "        \"fig_id\": \"F1\",\n",
      "        \"fig_label\": \"Figure 1\",\n",
      "        \"graphic_ref\": \"a:\\\\Vishal\\\\BiomedCLIP_data_pipeline\\\\_results\\\\data\\\\pubmed_open_access_files\\\\PMC13902\\\\BCR-3-1-066-1.jpg\",\n",
      "        \"pair_id\": \"11250748_F1\"\n",
      "    },\n",
      "    {\n",
      "        \"fig_caption\": \"Immunohistochemical analysis of TGF-\\u03b2 expression in the rat mammary gland. The first thoracic (number 2) mammary gland was harvested from 15-week-old rats that had been treated with NMU at age 8 weeks. Sections were immunostained (see Materials and method), with the following antisera: (a) anti-TGF-\\u03b21-LC (stains predominantly intracellular TGF-\\u03b21); (b) anti-TGF-\\u03b21-CC (stains extracellular TGF-\\u03b21); (c) anti-TGF-\\u03b22; (d) anti-TGF-\\u03b23; (e) anti-LTBP; and (f) normal rabbit immunoglobulin. The brown stain indicates a positive immunoperoxidase reaction. Images were shot at 630\\u00d7 original magnification.\",\n",
      "        \"fig_id\": \"F2\",\n",
      "        \"fig_label\": \"Figure 2\",\n",
      "        \"graphic_ref\": \"a:\\\\Vishal\\\\BiomedCLIP_data_pipeline\\\\_results\\\\data\\\\pubmed_open_access_files\\\\PMC13902\\\\BCR-3-1-066-2.jpg\",\n",
      "        \"pair_id\": \"11250748_F2\"\n",
      "    },\n",
      "    {\n",
      "        \"fig_caption\": \"Lack of effect of chemopreventive agents on expression of TGF-\\u03b2s in the NMU-initiated rat mammary gland. Immunohistochemical staining intensity for TGF-\\u03b2s and LTBP was determined after 6 weeks of treatment with the following chemopreventive agents: None (C); 4-HPR (H); 9cRA (R); tamoxifen (T); 4-HPR + tamoxifen (T/H); 9cRA + tamoxifen (T/R). Staining intensity was determined independently for the ductal epithelial cells and the periductal stroma (see Materials and method). Staining intensity ranged from 0 to 4 (max). Results are given as the mean \\u00b1 SD for five or six rats/group. TGF-\\u03b21-LC is an antibody that predominantly recognizes intracellular TGF-\\u03b21, whereas TGF-\\u03b21-CC recognizes extracellular TGF-\\u03b21.\",\n",
      "        \"fig_id\": \"F3\",\n",
      "        \"fig_label\": \"Figure 3\",\n",
      "        \"graphic_ref\": \"a:\\\\Vishal\\\\BiomedCLIP_data_pipeline\\\\_results\\\\data\\\\pubmed_open_access_files\\\\PMC13902\\\\BCR-3-1-066-3.jpg\",\n",
      "        \"pair_id\": \"11250748_F3\"\n",
      "    },\n",
      "    {\n",
      "        \"fig_caption\": \"Treatment with tamoxifen affects the histology of the rat mammary gland. Representative hematoxylin and eosin stained sections of the first thoracic gland of 15-week-old rats that had undergone the following treatments: (a, b) No treatment; moderate numbers of mammary gland lobules are present containing primary, secondary and tertiary ductules, as well as developing alveoli. (c, d) Initiation with NMU at 8 weeks of age; no significant histologic differences are noted in mammary gland development from that in untreated control animals. (e, f) Initiation with NMU at 8 weeks, followed by treatment with tamoxifen from 9 to 15 weeks of age; scant numbers of atrophic primary and secondary mammary gland ductules are noted, with no alveolar bud development evident. (a, c, e) Shot at 100\\u00d7; and (b, d, f) shot at 400\\u00d7 original magnification.\",\n",
      "        \"fig_id\": \"F4\",\n",
      "        \"fig_label\": \"Figure 4\",\n",
      "        \"graphic_ref\": \"a:\\\\Vishal\\\\BiomedCLIP_data_pipeline\\\\_results\\\\data\\\\pubmed_open_access_files\\\\PMC13902\\\\BCR-3-1-066-4.jpg\",\n",
      "        \"pair_id\": \"11250748_F4\"\n",
      "    }\n",
      "]\n",
      "[\n",
      "    {\n",
      "        \"fig_caption\": \"Comparison of the relative expression of estrogen receptor (ER)\\n\\t\\t\\t\\tvariant truncated after sequences encoding exon 2 of the wild-type (WT)\\n\\t\\t\\t\\tER-\\u03b1 (ERC4) messenger RNAs between breast tumor and adjacent matched\\n\\t\\t\\t\\tnormal breast samples. (A) Total RNA extracted from frozen tissue\\n\\t\\t\\t\\tsections from tumor (T) and adjacent normal (N) breast tissue samples was\\n\\t\\t\\t\\treverse transcribed and polymerase chain reaction (PCR) was amplified using\\n\\t\\t\\t\\tERU, ERL and C4L primers (see text). Radioactive PCR products were separated on\\n\\t\\t\\t\\ta 6% acrylamide gel and visualized by autoradiography. Bands migrating at 149\\n\\t\\t\\t\\tand 536 base pairs were identified as corresponding to WT-ER and ERC4 variant\\n\\t\\t\\t\\tmessenger RNA, respectively. C, negative control (no complementary DNA added\\n\\t\\t\\t\\tduring the PCR reaction). (B) For each case, signals corresponding to\\n\\t\\t\\t\\tERC4 variant messenger RNA were quantified (see text) and expressed in\\n\\t\\t\\t\\tarbitrary units for tumor (black column) and normal (white column) components.\\n\\t\\t\\t\\tFor each sample, the mean and the standard deviation of at least three\\n\\t\\t\\t\\tdifferent PCR assays are indicated. Cases are sorted by ER status (black bottom\\n\\t\\t\\t\\tlane) and progesterone receptor (PR) status (gray bottom lane). The\\n\\t\\t\\t\\tsignificance of the differences between tumor and normal matched components\\n\\t\\t\\t\\twithin each subgroup, as tested using the Wilcoxon matched-pair test, is\\n\\t\\t\\t\\tindicated where P <0.05. M, molecular weight marker (fx174 Haelll\\n\\t\\t\\t\\tdigest, Gibco BRL, Grand Island, New York, NY).\",\n",
      "        \"fig_id\": \"F1\",\n",
      "        \"fig_label\": \"Figure 1\",\n",
      "        \"graphic_ref\": \"a:\\\\Vishal\\\\BiomedCLIP_data_pipeline\\\\_results\\\\data\\\\pubmed_open_access_files\\\\PMC13912\\\\bcr-2-1-064-1.jpg\",\n",
      "        \"pair_id\": \"11400682_F1\"\n",
      "    },\n",
      "    {\n",
      "        \"fig_caption\": \"Comparison of the relative expression of exon 3 deleted estrogen\\n\\t\\t\\t\\treceptor (ER) variant (ERD3) messenger RNA between breast tumor and adjacent\\n\\t\\t\\t\\tmatched normal breast samples. (A) Total RNA extracted from frozen\\n\\t\\t\\t\\ttissue sections from tumor (T) and adjacent normal (N) breast tissue samples\\n\\t\\t\\t\\twas reverse transcribed and polymerase chain reaction (PCR) was amplified using\\n\\t\\t\\t\\tD3U and D3L primers. Radioactive PCR products were separated on a 6% acrylamide\\n\\t\\t\\t\\tgel and visualized by autoradiography. Bands migrating at 354 and 237 base\\n\\t\\t\\t\\tpairs were identified as corresponding to wild-type (WT)-ER and ERD3 variant\\n\\t\\t\\t\\tmessenger RNA, respectively. C, negative control (no complementary DNA added\\n\\t\\t\\t\\tduring the PCR reaction). (B) For each case, signals corresponding to\\n\\t\\t\\t\\tERD3 variant messenger RNA were quantified and expressed in arbitrary units for\\n\\t\\t\\t\\ttumor (black column) and normal (white column) components. For each sample, the\\n\\t\\t\\t\\tmean and the standard deviation of at least three different polymerase chain\\n\\t\\t\\t\\treaction (PCR) assays are indicated. Cases are sorted by ER status (black\\n\\t\\t\\t\\tbottom lane) and progesterone receptor (PR) status (gray bottom lane). Samples\\n\\t\\t\\t\\tthat failed to have three measurable signals in the four experiments performed\\n\\t\\t\\t\\tin both normal and neoplastic components were not included in the statistical\\n\\t\\t\\t\\tanalysis. The significance of the differences between tumor and normal matched\\n\\t\\t\\t\\tcomponents within each subgroup, as tested using the Wilcoxon matched-pair\\n\\t\\t\\t\\ttest, is indicated where P <0.05. M, molecular weight marker.\",\n",
      "        \"fig_id\": \"F2\",\n",
      "        \"fig_label\": \"Figure 2\",\n",
      "        \"graphic_ref\": \"a:\\\\Vishal\\\\BiomedCLIP_data_pipeline\\\\_results\\\\data\\\\pubmed_open_access_files\\\\PMC13912\\\\bcr-2-1-064-2.jpg\",\n",
      "        \"pair_id\": \"11400682_F2\"\n",
      "    },\n",
      "    {\n",
      "        \"fig_caption\": \"Comparison of the relative expression of exon 3 deleted estrogen\\n\\t\\t\\t\\treceptor (ER) variant (ERD3) messenger RNA between breast tumor and adjacent\\n\\t\\t\\t\\tmatched normal breast samples. (A) Total RNA extracted from frozen\\n\\t\\t\\t\\ttissue sections from tumor (T) and adjacent normal (N) breast tissue samples\\n\\t\\t\\t\\twas reverse transcribed and polymerase chain reaction (PCR) amplified using D5U\\n\\t\\t\\t\\tand D5L primers. Radioactive PCR products were separated on a 6% acrylamide gel\\n\\t\\t\\t\\tand visualized by autoradiography. Bands that migrated at 483 and 344 base\\n\\t\\t\\t\\tpairs were identified as corresponding to wild-type (WT)-ER and exon 5 deleted\\n\\t\\t\\t\\tER variant (ERD5) messenger RNA, respectively. C, negative control (no\\n\\t\\t\\t\\tcomplementary DNA added during the PCR reaction). (B) For each case,\\n\\t\\t\\t\\tsignals corresponding to ERD5 variant messenger RNA were quantified and\\n\\t\\t\\t\\texpressed in arbitrary units for tumor (black column) and normal (white column)\\n\\t\\t\\t\\tcomponents. For each sample, the mean and the standard deviation of at least\\n\\t\\t\\t\\tthree different PCR assays are indicated. Cases are sorted by ER status (black\\n\\t\\t\\t\\tbottom lane) and progesterone receptor (PR) status (gray bottom lane). Samples\\n\\t\\t\\t\\tthat failed to have three measurable signals in the four experiments performed\\n\\t\\t\\t\\tin both normal and neoplastic components were not included in the statistical\\n\\t\\t\\t\\tanalysis. The significance of the differences between tumor and normal matched\\n\\t\\t\\t\\tcomponents within each subgroup, as tested using the Wilcoxon matched-pair\\n\\t\\t\\t\\ttest, is indicated where P <0.05. m, molecular weight marker.\",\n",
      "        \"fig_id\": \"F3\",\n",
      "        \"fig_label\": \"Figure 3\",\n",
      "        \"graphic_ref\": \"a:\\\\Vishal\\\\BiomedCLIP_data_pipeline\\\\_results\\\\data\\\\pubmed_open_access_files\\\\PMC13912\\\\bcr-2-1-064-3.jpg\",\n",
      "        \"pair_id\": \"11400682_F3\"\n",
      "    }\n",
      "]\n",
      "[\n",
      "    {\n",
      "        \"fig_caption\": \"Location of UK National Health Service Breast Screening Centres that began recruitment into the Million Women Study before December 1998.\",\n",
      "        \"fig_id\": \"F1\",\n",
      "        \"fig_label\": \"Figure 1\",\n",
      "        \"graphic_ref\": \"a:\\\\Vishal\\\\BiomedCLIP_data_pipeline\\\\_results\\\\data\\\\pubmed_open_access_files\\\\PMC13913\\\\bcr-1-1-073-1.jpg\",\n",
      "        \"pair_id\": \"11056681_F1\"\n",
      "    },\n",
      "    {\n",
      "        \"fig_caption\": \"Accrual of women into the Million Women Study, up to June 1999.\",\n",
      "        \"fig_id\": \"F2\",\n",
      "        \"fig_label\": \"Figure 2\",\n",
      "        \"graphic_ref\": \"a:\\\\Vishal\\\\BiomedCLIP_data_pipeline\\\\_results\\\\data\\\\pubmed_open_access_files\\\\PMC13913\\\\bcr-1-1-073-2.jpg\",\n",
      "        \"pair_id\": \"11056681_F2\"\n",
      "    }\n",
      "]\n",
      "[\n",
      "    {\n",
      "        \"fig_caption\": \"Polymerase chain reaction product of paired lymphocyte (L) and tumour (T) DNA from coamplification of glutathione S-transferase (GST)M1 (271 base pair) and interferon-\\u03b2 (170 base pair) genes. Lane 1 shows a homozygously present GSTM1 allele. Lane 2 shows a homozygously null-GSTM1 allele. M1 is \\u03a6X174-HaeIII digested DNA marker. M2 is \\u03a6X174-HinfI digested DNA marker.\",\n",
      "        \"fig_id\": \"F1\",\n",
      "        \"fig_label\": \"Figure 1\",\n",
      "        \"graphic_ref\": \"a:\\\\Vishal\\\\BiomedCLIP_data_pipeline\\\\_results\\\\data\\\\pubmed_open_access_files\\\\PMC13914\\\\bcr-1-1-081-1.jpg\",\n",
      "        \"pair_id\": \"11056682_F1\"\n",
      "    }\n",
      "]\n",
      "[\n",
      "    {\n",
      "        \"fig_caption\": \"Number of preneoplastic lesions in the mammary glands of treated\\n\\t\\t\\t\\tCopenhagen (Cop) and Wistar-Furth (WF) rats at 20, 30, and 37 days after\\n\\t\\t\\t\\tN-methyl-N-nitrosourea treatment. *P <\\n\\t\\t\\t\\t0.05, versus Wistar-Furth rats.\",\n",
      "        \"fig_id\": \"F1\",\n",
      "        \"fig_label\": \"Figure 1\",\n",
      "        \"graphic_ref\": \"a:\\\\Vishal\\\\BiomedCLIP_data_pipeline\\\\_results\\\\data\\\\pubmed_open_access_files\\\\PMC13915\\\\bcr-1-1-088-1.jpg\",\n",
      "        \"pair_id\": \"11056683_F1\"\n",
      "    },\n",
      "    {\n",
      "        \"fig_caption\": \"Examples of mammary whole-mounts from (a) a Wistar-Furth\\n\\t\\t\\t\\trat and (b) a Copenhagen rat, both 37 days after\\n\\t\\t\\t\\tN-methyl-N-nitrosourea treatment. Note the striking\\n\\t\\t\\t\\tdifferences between the glands, with multiple preneoplastic lesions present in\\n\\t\\t\\t\\tthe Wistar-Furth gland but only one putative lesion present in the Copenhagen\\n\\t\\t\\t\\tgland, as indicated by the arrows. Bar = 1 mm.\",\n",
      "        \"fig_id\": \"F2\",\n",
      "        \"fig_label\": \"Figure 2\",\n",
      "        \"graphic_ref\": \"a:\\\\Vishal\\\\BiomedCLIP_data_pipeline\\\\_results\\\\data\\\\pubmed_open_access_files\\\\PMC13915\\\\bcr-1-1-088-2.jpg\",\n",
      "        \"pair_id\": \"11056683_F2\"\n",
      "    },\n",
      "    {\n",
      "        \"fig_caption\": \"Immunohistochemical staining for (a-c) cyclin\\n\\t\\t\\t\\tD1, (d-f) p16(g-I) bromodeoxyuridine.\\n\\t\\t\\t\\tPositive staining cells appear brown, counter-stained negative cells appear\\n\\t\\t\\t\\tpurple. (a), (d), and (g) are serial sections of an intraductal proliferation\\n\\t\\t\\t\\t(IDP) from a Copenhagen rat; (b), (e), and (h) are serial sections of a large\\n\\t\\t\\t\\tIDP from a Wistar-Furth rat; and (c), (f), and (I) are serial sections of a\\n\\t\\t\\t\\ttumor from a Wistar-Furth rat. Note the overexpression of cyclin D1\\n\\t\\t\\t\\tin Wistar-Furth lesions (b and c) but not in the Copenhagen IDP (a). All\\n\\t\\t\\t\\tlesions are from mammary glands of rats 37 days after MNU treatment. (a-f)\\n\\t\\t\\t\\t1000\\u00d7 magnification and (g-I) 400\\u00d7 magnification.\",\n",
      "        \"fig_id\": \"F3\",\n",
      "        \"fig_label\": \"Figure 3\",\n",
      "        \"graphic_ref\": \"a:\\\\Vishal\\\\BiomedCLIP_data_pipeline\\\\_results\\\\data\\\\pubmed_open_access_files\\\\PMC13915\\\\bcr-1-1-088-3.jpg\",\n",
      "        \"pair_id\": \"11056683_F3\"\n",
      "    },\n",
      "    {\n",
      "        \"fig_caption\": \"Bromodeoxyuridine (BrdU) labeling indices in Copenhagen (Cop) and\\n\\t\\t\\t\\tWistar-Furth (WF) rats at 20, 30, and 37 days after MNU treatment.\",\n",
      "        \"fig_id\": \"F4\",\n",
      "        \"fig_label\": \"Figure 4\",\n",
      "        \"graphic_ref\": \"a:\\\\Vishal\\\\BiomedCLIP_data_pipeline\\\\_results\\\\data\\\\pubmed_open_access_files\\\\PMC13915\\\\bcr-1-1-088-4.jpg\",\n",
      "        \"pair_id\": \"11056683_F4\"\n",
      "    },\n",
      "    {\n",
      "        \"fig_caption\": \"Apoptotic indices in Copenhagen (Cop) and Wistar-Furth (WF)\\n\\t\\t\\t\\tlesions at 20, 30, and 37 days after MNU.\",\n",
      "        \"fig_id\": \"F5\",\n",
      "        \"fig_label\": \"Figure 5\",\n",
      "        \"graphic_ref\": \"a:\\\\Vishal\\\\BiomedCLIP_data_pipeline\\\\_results\\\\data\\\\pubmed_open_access_files\\\\PMC13915\\\\bcr-1-1-088-5.jpg\",\n",
      "        \"pair_id\": \"11056683_F5\"\n",
      "    }\n",
      "]\n",
      "[\n",
      "    {\n",
      "        \"fig_caption\": \"Expression of BRCA1 is reduced in BG-1 cells following infection with antisense BRCA1. (A) Ribonuclease protection analysis of BRCA1 mRNA. Lanes 1 and 2 show undigested probe for BRCA1 and loading control, cyclophilin. Lanes 3 and 4 are pooled BG-1 neo-infected control cells grown minus [Dulbecco's modified eagle medium (DMEM)] and plus (E2) 10-8 mol/l estrogen 24 h. Lanes 5 and 6 are pooled BG-1 BRCA1 antisense-infected cells minus and plus 10-8 mol/l estrogen, respectively, for 24 h. The observed doublet is the result of incomplete digestion. (B) Western blot analysis of individual control (NEO) and BRCA1 antisense (AS) clones. MDAMB468 is a BRCA1-positive breast cancer cell line.\\n        \",\n",
      "        \"fig_id\": \"F1\",\n",
      "        \"fig_label\": \"Figure 1\\n        \",\n",
      "        \"graphic_ref\": \"a:\\\\Vishal\\\\BiomedCLIP_data_pipeline\\\\_results\\\\data\\\\pubmed_open_access_files\\\\PMC13916\\\\bcr-2-2-139-1.jpg\",\n",
      "        \"pair_id\": \"11056686_F1\"\n",
      "    },\n",
      "    {\n",
      "        \"fig_caption\": \"The effect of estrogen deprivation and estrogen treatment on the growth of BRCA1 antisense and control cells. (A) The mean cell number of BRCA1 pooled population antisense infected cells (filled circle) and vector-only infected cells (white circle) deprived of estrogen for up to 20 days after plating 2.5\\u00d7106 cells per 100-mm dish. Cells received a pretreatment of 5 days of estrogen deprivation before plating. (B) The percentage decrease or fold increase of BG-1 antisense (AS) or NEO clones and parental cells plated at 106 cells per 60-mm dish after deprivation of estrogen (solid bars) or treatment with 10-8 mol/l estrogen (spotted bars) for 8 days. Percentage decrease or fold increase was calculated on the basis of the change in cell number between days 5 and 8 after treatment or nontreatment with 10-8 mol/l estrogen. Cells were pretreated with 5 days of estrogen deprivation before plating.\\n        \",\n",
      "        \"fig_id\": \"F2\",\n",
      "        \"fig_label\": \"Figure 2\\n        \",\n",
      "        \"graphic_ref\": \"a:\\\\Vishal\\\\BiomedCLIP_data_pipeline\\\\_results\\\\data\\\\pubmed_open_access_files\\\\PMC13916\\\\bcr-2-2-139-2.jpg\",\n",
      "        \"pair_id\": \"11056686_F2\"\n",
      "    },\n",
      "    {\n",
      "        \"fig_caption\": \"The growth curve of BG-1 populations infected with BRCA1 antisense treated with estrogen (10-8 mol/l; grey circle) or without estrogen (white circle); and the growth curve of BG-1 pooled population infected with pLXSN control vector treated with estrogen (black square) or without estrogen (white square) over a 6-day period. Cells were deprived of estrogen for 5 days before plating 2.5\\u00d7106 cells per 100-mm dish and treatment with estrogen. The results shown indicate the mean cell number of three pooled populations after replating.\\n        \",\n",
      "        \"fig_id\": \"F3\",\n",
      "        \"fig_label\": \"Figure 3\\n        \",\n",
      "        \"graphic_ref\": \"a:\\\\Vishal\\\\BiomedCLIP_data_pipeline\\\\_results\\\\data\\\\pubmed_open_access_files\\\\PMC13916\\\\bcr-2-2-139-3.jpg\",\n",
      "        \"pair_id\": \"11056686_F3\"\n",
      "    },\n",
      "    {\n",
      "        \"fig_caption\": \"Estrogen dependent BG-1 cells infected with BRCA1 antisense continue to proliferate in the absence of estrogen. (A) BG-1 NEO control subclone on day 14 of estrogen deprivation. (B) BG-1 NEO at day 9 of 10-8 mol/l estrogen treatment. (C) BG-1 BRCA1 antisense AS-4 subclone on day 14 of estrogen deprivation. (D) BG-1 BRCA1 antisense infected cells at day 9 of 10-8 mol/l estrogen treatment.\\n        \",\n",
      "        \"fig_id\": \"F4\",\n",
      "        \"fig_label\": \"Figure 4\\n        \",\n",
      "        \"graphic_ref\": \"a:\\\\Vishal\\\\BiomedCLIP_data_pipeline\\\\_results\\\\data\\\\pubmed_open_access_files\\\\PMC13916\\\\bcr-2-2-139-4.jpg\",\n",
      "        \"pair_id\": \"11056686_F4\"\n",
      "    },\n",
      "    {\n",
      "        \"fig_caption\": \"The effect of reduced BRCA1 protein in BG-1 cells on incidence and size of tumor formation in ovariectomized nude mice. (A) BG-1 BRCA1 antisense clone AS-4 (solid bars) and control clone NEO (gray bars) injected at 105 cells per site in matrigel in the presence of an 0.18mg estrogen implanted pellet. (B) BG-1 BRCA1 antisense clone AS-4 (solid bars) and control clone NEO (gray bars) injected at 105 cells per site in matrigel without supplemental estrogen. The upper panels indicate the percentage of injected sites that had tumor development. The lower panels provide the average tumor size in millimeters (length \\u00d7 width) for each clone on indicated days.\\n        \",\n",
      "        \"fig_id\": \"F5\",\n",
      "        \"fig_label\": \"Figure 5\\n        \",\n",
      "        \"graphic_ref\": \"a:\\\\Vishal\\\\BiomedCLIP_data_pipeline\\\\_results\\\\data\\\\pubmed_open_access_files\\\\PMC13916\\\\bcr-2-2-139-5.jpg\",\n",
      "        \"pair_id\": \"11056686_F5\"\n",
      "    }\n",
      "]\n",
      "[\n",
      "    {\n",
      "        \"fig_caption\": \"BLG-tsA58 transgenic mice. (a) Scheme of vector construct; 4.2 kb of the ovine BLG promoter including the noncoding exon 1 was fused to the 'enhancerless' SV40 T-Ag temperature sensitive mutant tsA58. The restriction sites shown are Sall (S), BamHI (B), Stul (St), and Ndel (N). The EcoRV and Bgll sites were destroyed during the construction of this vector. (b) The transgene copy number in the five surviving transgenic lines was estimated by Southern blotting. Digested genomic liver DNA (10 \\u03bcg) from three sisters in each of the lines was analyzed with sheep genomic liver DNA used as a single copy control. The blot was hybridized with probe 1, and stripped and rehybridized with a WAP probe as a loading control.\",\n",
      "        \"fig_id\": \"F1\",\n",
      "        \"fig_label\": \"Figure 1\",\n",
      "        \"graphic_ref\": \"a:\\\\Vishal\\\\BiomedCLIP_data_pipeline\\\\_results\\\\data\\\\pubmed_open_access_files\\\\PMC13917\\\\bcr-2-3-222-1.jpg\",\n",
      "        \"pair_id\": \"11056687_F1\"\n",
      "    },\n",
      "    {\n",
      "        \"fig_caption\": \"Expression of T-Ag in the mammary glands of transgenic mice harbouring one to two copies (line SV40-2) or about 10 copies (line SV40-13) of the BLG-tsA58 transgene. (a) Protein extracts (20 \\u03bcg) were prepared from day 11 lactation mammary tissue from three age-matched sisters from each line and a nontransgenic control mouse. The extracts were separated by sodium dodecyl sulphate-polyacrylamide gel electrophoresis, electroblotted onto nitrocellulose and probed with an anti-T-Ag antibody, DP-02. The nonspecific band is also seen in the control sample. (b) Morphological comparison of haematoxylin and eosin stained sections of virgin and 11-day lactation mammary glands from transgenic line SV40-2 (top) and a nontransgenic control (bottom). Histologically, the transgenic glands were indistinguishable from control glands. Scale bar 100 \\u03bcm.\",\n",
      "        \"fig_id\": \"F2\",\n",
      "        \"fig_label\": \"Figure 2\",\n",
      "        \"graphic_ref\": \"a:\\\\Vishal\\\\BiomedCLIP_data_pipeline\\\\_results\\\\data\\\\pubmed_open_access_files\\\\PMC13917\\\\bcr-2-3-222-2.jpg\",\n",
      "        \"pair_id\": \"11056687_F2\"\n",
      "    },\n",
      "    {\n",
      "        \"fig_caption\": \"Derivation of primary cultures from mammary outgrowths. (a) Explants isolated from pregnant mammary tissue from transgenic line SV40-2 developed outgrowths after 2 weeks in culture at 37\\u00b0C on type 1 collagen. The typical cobblestone morphology that is characteristic of epithelial cells was observed in these outgrowths by phase contrast microscopy. (b) After 14 days in culture the explants were removed and the primary cultures maintained for a further 7-14 days. Dome structures formed during this time period. Scale bar 250 \\u03bcm.\",\n",
      "        \"fig_id\": \"F3\",\n",
      "        \"fig_label\": \"Figure 3\",\n",
      "        \"graphic_ref\": \"a:\\\\Vishal\\\\BiomedCLIP_data_pipeline\\\\_results\\\\data\\\\pubmed_open_access_files\\\\PMC13917\\\\bcr-2-3-222-3.jpg\",\n",
      "        \"pair_id\": \"11056687_F3\"\n",
      "    },\n",
      "    {\n",
      "        \"fig_caption\": \"Effects of growth temperature on morphology and anchorage independent growth of KIM-2. (a) Cells isolated and grown at 37\\u00b0C showing the typical cuboidal epithelial morphology. (b) Cells isolated and grown at 33\\u00b0C have a spindle-like mesenchymal morphology. Scale bar for (a) and (b) 50 \\u03bcm. (c) Cells, isolated and grown at 37\\u00b0C, seeded in soft agar and cultured for 12 days. Cells do not form colonies. (d) Cells, isolated and grown at 33\\u00b0C, seeded in soft agar and cultured for 12 days at 37\\u00b0C showing the formation of colonies. Scale bar for (c) and (d) 10 \\u03bcm.\",\n",
      "        \"fig_id\": \"F4\",\n",
      "        \"fig_label\": \"Figure 4\",\n",
      "        \"graphic_ref\": \"a:\\\\Vishal\\\\BiomedCLIP_data_pipeline\\\\_results\\\\data\\\\pubmed_open_access_files\\\\PMC13917\\\\bcr-2-3-222-4.jpg\",\n",
      "        \"pair_id\": \"11056687_F4\"\n",
      "    },\n",
      "    {\n",
      "        \"fig_caption\": \"Immunocytochemical analysis of KIM-2 cells cultures at 37\\u00b0C. (a) Phase contrast. (b) The same field showing nuclear staining with a T-Ag-specific antibody (Pab 419). (c) Staining with a vimentin monoclonal antibody (Vim-13.2) was detected in some fields. (d) Strong positive staining with a keratin 18-specific monoclonal antibody (LE61), a luminal epithelial marker. Scale bar for (a)-(d) 50 \\u03bcm. (e) Staining with a smooth muscle actin monoclonal antibody, a myoepithelial marker. (f) Positive staining with a keratin 14-specific antibody (LL002). The epitope recognized by this antibody is often deregulated in culture. Scale bar for (e) and (f) 25 \\u03bcm.\",\n",
      "        \"fig_id\": \"F5\",\n",
      "        \"fig_label\": \"Figure 5\",\n",
      "        \"graphic_ref\": \"a:\\\\Vishal\\\\BiomedCLIP_data_pipeline\\\\_results\\\\data\\\\pubmed_open_access_files\\\\PMC13917\\\\bcr-2-3-222-5.jpg\",\n",
      "        \"pair_id\": \"11056687_F5\"\n",
      "    },\n",
      "    {\n",
      "        \"fig_caption\": \"Deposition of laminin by KIM-2 cells. A confluent monolayer of undifferentiated KIM-2 cells was stained with an antibody to laminin and detected by FITC-conjugated secondary antibody. Control slides with secondary antibody alone were completely blank. Scale bar 25 \\u03bcm.\",\n",
      "        \"fig_id\": \"F6\",\n",
      "        \"fig_label\": \"Figure 6\",\n",
      "        \"graphic_ref\": \"a:\\\\Vishal\\\\BiomedCLIP_data_pipeline\\\\_results\\\\data\\\\pubmed_open_access_files\\\\PMC13917\\\\bcr-2-3-222-6.jpg\",\n",
      "        \"pair_id\": \"11056687_F6\"\n",
      "    },\n",
      "    {\n",
      "        \"fig_caption\": \"Analysis of junction formation and differentiation of KIM-2 cells. (a) Phase contrast. (b) Detection of E-cadherin on surface of confluent monolayer of cells. Scale bar for (a) and (b) 50 \\u03bcm. (c) Phase contrast of differentiated cells and (d) detection of myoepithelial cell on surface of dome with an antibody to smooth muscle \\u03b1-actin. Scale bar for (c) and (d) 50 \\u03bcm. (e) Phase contrast of dome and (f) detection of tight junctions with antibody to zonula occluden-1. Scale bar for (e) and (f) 25 \\u03bcm.\",\n",
      "        \"fig_id\": \"F7\",\n",
      "        \"fig_label\": \"Figure 7\",\n",
      "        \"graphic_ref\": \"a:\\\\Vishal\\\\BiomedCLIP_data_pipeline\\\\_results\\\\data\\\\pubmed_open_access_files\\\\PMC13917\\\\bcr-2-3-222-7.jpg\",\n",
      "        \"pair_id\": \"11056687_F7\"\n",
      "    },\n",
      "    {\n",
      "        \"fig_caption\": \"Electron microscopy of differentiated KIM-2 cells. (a) Microvilli (arrowed) on the apical surface of cells and showing the interdigitated cytoplasm at the boundary between two cells. Scale bar 2 \\u03bcm. (b) Higher magnification showing the presence of desmosomes (arrowed). Scale bar 0.5 \\u03bcm.\",\n",
      "        \"fig_id\": \"F8\",\n",
      "        \"fig_label\": \"Figure 8\",\n",
      "        \"graphic_ref\": \"a:\\\\Vishal\\\\BiomedCLIP_data_pipeline\\\\_results\\\\data\\\\pubmed_open_access_files\\\\PMC13917\\\\bcr-2-3-222-8.jpg\",\n",
      "        \"pair_id\": \"11056687_F8\"\n",
      "    },\n",
      "    {\n",
      "        \"fig_caption\": \"Analysis of the differentiation capacity of KIM-2 and HC11 cells in response to lactogenic hormones on tissue culture plastic. (a) Endogenous \\u03b2-casein expression was analyzed in KIM-2 and HC11 cells by western blot. Total cell lysates (20 \\u03bcg) were prepared from KIM-2 cells or HC11 cells grown to confluence and induced with the lactogenic hormone cocktail of insulin, prolactin and dexamethasone for 4 days at 37\\u00b0C. Uninduced cells were grown to confluence in growth medium. A defatted mouse milk sample was used as a positive control for the murine \\u03b2-casein polyclonal antibody (diluted 1:10 000). Intracellular \\u03b2-casein appeared to be a doublet at approximately 29 kDa in extracts from both cell lines, whereas a 32kDa secreted \\u03b2-casein was detected in defatted milk. This size discrepancy can be accounted for by differences in phosphorylation states between intracellular and secreted forms of the protein. (b) WAP and \\u03b2-casein expression were analyzed in KIM-2 cells by northern blot. Total RNA (20 \\u03bcg) was prepared from KIM-2 cells grown to confluence at 37\\u00b0C and harvested or induced with lactogenic hormones for the time period indicated. WAP mRNA was detected after 8 days exposure to lactogenic hormones. Figures are representative of three separate experiments, although induction of WAP expression was variable and occurred between 4 and 8 days after hormone treatment in different experiments.\",\n",
      "        \"fig_id\": \"F9\",\n",
      "        \"fig_label\": \"Figure 9\",\n",
      "        \"graphic_ref\": \"a:\\\\Vishal\\\\BiomedCLIP_data_pipeline\\\\_results\\\\data\\\\pubmed_open_access_files\\\\PMC13917\\\\bcr-2-3-222-9.jpg\",\n",
      "        \"pair_id\": \"11056687_F9\"\n",
      "    },\n",
      "    {\n",
      "        \"fig_caption\": \"Analysis of STAT5 activation by electrophoretic mobility shift assay in KIM-2 cells stimulated with prolactin. Nuclear extracts were prepared from confluent KIM-2 cultures stimulated with prolactin, in the absence of EGF, for the time periods indicated. The track labelled Mamm is an extract from a day 2 lactation mouse mammary gland. Uninduced control cells were maintained in growth medium. Extracts (4 \\u03bcg protein) were incubated with a radioactively labelled DNA probe containing the highest affinity ovine BLG STAT5 binding site [34] and complexes resolved on a nondenaturing 6% acrylamide gel. A representative of more than three experiments is shown.\",\n",
      "        \"fig_id\": \"F10\",\n",
      "        \"fig_label\": \"Figure 10\",\n",
      "        \"graphic_ref\": \"a:\\\\Vishal\\\\BiomedCLIP_data_pipeline\\\\_results\\\\data\\\\pubmed_open_access_files\\\\PMC13917\\\\bcr-2-3-222-10.jpg\",\n",
      "        \"pair_id\": \"11056687_F10\"\n",
      "    },\n",
      "    {\n",
      "        \"fig_caption\": \"Induction of apoptosis in KIM-2 cells. KIM-2 cells were cultured in reduced serum and the absence of additional growth factors for 24 h, inducing apoptosis in approximately 40% of the cells. (a) Control and (b) dying KIM-2 cells were stained with acridine orange and visualized by fluorescence microscopy. Examples of cells exhibiting classical apoptotic morphology are indicated by the letter 'A'.\",\n",
      "        \"fig_id\": \"F11\",\n",
      "        \"fig_label\": \"Figure 11\",\n",
      "        \"graphic_ref\": \"a:\\\\Vishal\\\\BiomedCLIP_data_pipeline\\\\_results\\\\data\\\\pubmed_open_access_files\\\\PMC13917\\\\bcr-2-3-222-11.jpg\",\n",
      "        \"pair_id\": \"11056687_F11\"\n",
      "    },\n",
      "    {\n",
      "        \"fig_caption\": \"Analysis of apoptosis by flow cytometry. (a) Cells were induced to undergo apoptosis by culturing in reduced serum (3%) and the absence of additional growth factors for 24 h. (b) Cells that had been cultured in differentiation medium (DM) for 12 days were induced to undergo apoptosis by removal of prolactin, insulin and dexamethasone (AM) for 17 h. Control and dying cells were stained with annexin V and propidium iodide (PI) and analyzed by flow cytometry. PI enters only cells with damaged membranes (late apoptosis or necrosis). Four populations of cells were identified: live (no stain), apoptotic (annexin V only), late apoptotic/necrotic (annexin V +PI) and necrotic (PI) only. The percentage of cells in each population is shown as the mean of three experiments with the standard error of the mean.\",\n",
      "        \"fig_id\": \"F12\",\n",
      "        \"fig_label\": \"Figure 12\",\n",
      "        \"graphic_ref\": \"a:\\\\Vishal\\\\BiomedCLIP_data_pipeline\\\\_results\\\\data\\\\pubmed_open_access_files\\\\PMC13917\\\\bcr-2-3-222-12.jpg\",\n",
      "        \"pair_id\": \"11056687_F12\"\n",
      "    }\n",
      "]\n",
      "[\n",
      "    {\n",
      "        \"fig_caption\": \"Amplification of FGFR1 and FGFR2 in SUM-52PE cells. (a) Genomic\\n\\t\\t\\t\\tDNA from four breast cancer cells lines (SKBR3, SUM-52PE, SUM-44PE, and T47D)\\n\\t\\t\\t\\twere compared by Southern blot for FGFR1 expression. (b) Genomic DNA from three\\n\\t\\t\\t\\tbreast cancer cell lines (SKBR3, SUM-52PE, and SUM-44PE) were compared by\\n\\t\\t\\t\\tSouthern blot for FGFR2 expression.\",\n",
      "        \"fig_id\": \"F1\",\n",
      "        \"fig_label\": \"Figure 1\",\n",
      "        \"graphic_ref\": \"a:\\\\Vishal\\\\BiomedCLIP_data_pipeline\\\\_results\\\\data\\\\pubmed_open_access_files\\\\PMC13919\\\\bcr-2-4-311-1.jpg\",\n",
      "        \"pair_id\": \"11056689_F1\"\n",
      "    },\n",
      "    {\n",
      "        \"fig_caption\": \"Analysis of FGFR2 expression in HBC and HME cells. (a) A Northern\\n\\t\\t\\t\\tblot probed with full-length FGFR2 is shown. A glyceraldehyde 3'\\n\\t\\t\\t\\t-phosphate dehydrogenase (GAPDH) probe was used to normalize RNA levels. Cell\\n\\t\\t\\t\\tlines shown are as follows: normal HME cell line (MCF-10A, lane 1) and HBC cell\\n\\t\\t\\t\\tlines (lanes 2-5). Size of visualized bands are marked according to kilobase.\\n\\t\\t\\t\\t(b) Whole-cell lysates were immunoblotted with an anti-FGFR2 antibody in the\\n\\t\\t\\t\\tabsence (left panel) or presence (right panel) of a competitive peptide. Breast\\n\\t\\t\\t\\tcancer cell lines are in lanes 2 and 3, and a normal HME sample (MCF-10A) is in\\n\\t\\t\\t\\tlane 1. All cell lines expressed two 'common' FGFR2 variants (of 95\\n\\t\\t\\t\\tand 135 kDa), whereas SUM-52PE expressed at least three 'unique'\\n\\t\\t\\t\\tvariants (of 46-53, 85, and 109kDa), as determined by comparison with\\n\\t\\t\\t\\tnonspecific bands (NS; right panel).\",\n",
      "        \"fig_id\": \"F2\",\n",
      "        \"fig_label\": \"Figure 2\",\n",
      "        \"graphic_ref\": \"a:\\\\Vishal\\\\BiomedCLIP_data_pipeline\\\\_results\\\\data\\\\pubmed_open_access_files\\\\PMC13919\\\\bcr-2-4-311-2.jpg\",\n",
      "        \"pair_id\": \"11056689_F2\"\n",
      "    },\n",
      "    {\n",
      "        \"fig_caption\": \"Preliminary characterization of FGFR2 expression in SUM-52PE\\n\\t\\t\\t\\tcells. (a) Exon III-specific primers were used in RT-PCR of SUM-52PE RNA.\\n\\t\\t\\t\\tRT-PCR product was then digested with Ava I or Hinc II at 37\\u00b0C overnight\\n\\t\\t\\t\\tand then resolved on a 3% NuSieve gel. Exon IIIb contains one unique Ava I\\n\\t\\t\\t\\tsite, whereas exon IIIc contains two Hinc II sites, and therefore the\\n\\t\\t\\t\\tproportion of Ava I digest fragments to Hinc II digest fragments determines the\\n\\t\\t\\t\\tproportion of IIIb to IIIc variants present. The presence of 269 and 188 bp\\n\\t\\t\\t\\tfragments generated by Ava I digestion (lane 2) and lack of Hinc II digested\\n\\t\\t\\t\\tproducts (lane 3) confirms the exclusive presence of exon IIIb in FGFR2\\n\\t\\t\\t\\tvariants in the SUM-52PE cell line. (b) SUM-52PE mRNA was reverse transcribed\\n\\t\\t\\t\\tusing an oligo dT primer, and then amplified using a 5' -FGFR2-specific\\n\\t\\t\\t\\tprimer and a 3' -specific primer for C1/C2 or C3. Equimolar amounts of\\n\\t\\t\\t\\tprimer were used in the PCR reaction, and then 2 or 5 \\u03bc l of PCR product\\n\\t\\t\\t\\twere compared on a 0.8% agarose gel. Lane 1, 2 \\u03bc l C1/C2 product; lane 2,5\\n\\t\\t\\t\\t\\u03bc l C1/C2 product; lane 3, 2  \\u03bc l C3 product; lane 4, 5 \\u03bc l C3\\n\\t\\t\\t\\tproduct.\",\n",
      "        \"fig_id\": \"F3\",\n",
      "        \"fig_label\": \"Figure 3\",\n",
      "        \"graphic_ref\": \"a:\\\\Vishal\\\\BiomedCLIP_data_pipeline\\\\_results\\\\data\\\\pubmed_open_access_files\\\\PMC13919\\\\bcr-2-4-311-3.jpg\",\n",
      "        \"pair_id\": \"11056689_F3\"\n",
      "    },\n",
      "    {\n",
      "        \"fig_caption\": \"Isolated and sequenced FGFR2 isoforms from SUM-52PE. Isolated\\n\\t\\t\\t\\tFGFR2 variants had variable expression of two to three Ig-like domains, as well\\n\\t\\t\\t\\tas the characteristic acid box in the extracellular portion of the molecule.\\n\\t\\t\\t\\tVariability between isolated clones also existed in the intracellular portion\\n\\t\\t\\t\\tof the molecule, where alternative splicing of exons C1/C2 or C3 created either\\n\\t\\t\\t\\ta full-length carboxyl termini (C1), or truncated versions (C2 or C3).\",\n",
      "        \"fig_id\": \"F4\",\n",
      "        \"fig_label\": \"Figure 4\",\n",
      "        \"graphic_ref\": \"a:\\\\Vishal\\\\BiomedCLIP_data_pipeline\\\\_results\\\\data\\\\pubmed_open_access_files\\\\PMC13919\\\\bcr-2-4-311-4.jpg\",\n",
      "        \"pair_id\": \"11056689_F4\"\n",
      "    },\n",
      "    {\n",
      "        \"fig_caption\": \"Transient expression of FGFR2 clones isolated from SUM-52PE. (a)\\n\\t\\t\\t\\tWhole-cell lysates from 293 cells that had been transiently transfected with\\n\\t\\t\\t\\tindividual FGFR2 clones were immunoblotted with an anti-FGFR2 antibody (lanes\\n\\t\\t\\t\\t2-5). Whole-cell lysate from the SUM-52PE breast cancer cell line was loaded in\\n\\t\\t\\t\\tlane 1 as a positive control, whereas whole-cell lysates from a mock\\n\\t\\t\\t\\ttransfection of 293 cells was loaded in lane six as a negative control. (b)\\n\\t\\t\\t\\tWhole-cell lysates from 293 cells that were transiently transfected with\\n\\t\\t\\t\\tindividual FGFR2-C3 clones containing a Flag sequence were immunoblotted with\\n\\t\\t\\t\\tan anti-Flag antibody (lanes 1, 2, and 4). Whole-cell lysates from a mock\\n\\t\\t\\t\\ttransfection of 293 cells were loaded in lane 3 as a negative control.\",\n",
      "        \"fig_id\": \"F5\",\n",
      "        \"fig_label\": \"Figure 5\",\n",
      "        \"graphic_ref\": \"a:\\\\Vishal\\\\BiomedCLIP_data_pipeline\\\\_results\\\\data\\\\pubmed_open_access_files\\\\PMC13919\\\\bcr-2-4-311-5.jpg\",\n",
      "        \"pair_id\": \"11056689_F5\"\n",
      "    }\n",
      "]\n",
      "[\n",
      "    {\n",
      "        \"fig_caption\": \"Comparison of [3H]oestradiol (E2)-binding capacities of a series of human breast cancer cytosols simultaneously measured by DCC and hydroxylapatite (HAP) assays (ethanolic extraction). The ordinate corresponds to values established by DCC, and the abscissa to those by hydroxylapatite (data established by Scatchard plot analysis). A significant correlation was obtained between the two assays in 97 out of 102 (95%) samples; five outlayers are represented by closed symbols in the insert.\",\n",
      "        \"fig_id\": \"F1\",\n",
      "        \"fig_label\": \"Figure 1\",\n",
      "        \"graphic_ref\": \"a:\\\\Vishal\\\\BiomedCLIP_data_pipeline\\\\_results\\\\data\\\\pubmed_open_access_files\\\\PMC13922\\\\bcr-2-6-444-1.jpg\",\n",
      "        \"pair_id\": \"11056692_F1\"\n",
      "    },\n",
      "    {\n",
      "        \"fig_caption\": \"Comparison of [125I]TAZ-binding capacities (5 nmol/l) of a series of human breast cancer cytosols simultaneously measured by DCC and hydroxylapatite (HAP) assays (phosphate extraction).\",\n",
      "        \"fig_id\": \"F2\",\n",
      "        \"fig_label\": \"Figure 2\",\n",
      "        \"graphic_ref\": \"a:\\\\Vishal\\\\BiomedCLIP_data_pipeline\\\\_results\\\\data\\\\pubmed_open_access_files\\\\PMC13922\\\\bcr-2-6-444-2.jpg\",\n",
      "        \"pair_id\": \"11056692_F2\"\n",
      "    },\n",
      "    {\n",
      "        \"fig_caption\": \"(A) Molecular weight and monoclonals anti-ER recognition of [125I]TAZ-labelled ER isoforms extracted from hydroxylapatite (HAP) with KCl. (left) Part of human breast cancer cytosol pool, after labelling with 1 nmol/l [125I]TAZ for 1 h at 0\\u00b0C in the presence or absence of a 200-fold excess of radioinert oestradiol, was immunoprecipitated with H222, H226 or ER1D5 anti-ER monoclonal antibodies, and then analyzed by SDS-PAGE and autoradiography. (right) Another part of this cytosol pool was adsorbed onto HAP, labelled with 1 nmol/l [125I]TAZ, extracted with 0.5 mol/l KCl, and immunoprecipitated before being subjected to electrophoresis. (B) Presumed structure of ER isoforms extracted from HAP with KCl. Potential sites of covalent attachment of TAZ [40,41] are indicated by open circles; antigenic sites for anti-ER monoclonal antibodies are shown above ER structure. The predicted ER isoforms extracted from HAP as well as their sizes determined by SDS-PAGE are shown below.\",\n",
      "        \"fig_id\": \"F3\",\n",
      "        \"fig_label\": \"Figure 3\",\n",
      "        \"graphic_ref\": \"a:\\\\Vishal\\\\BiomedCLIP_data_pipeline\\\\_results\\\\data\\\\pubmed_open_access_files\\\\PMC13922\\\\bcr-2-6-444-3.jpg\",\n",
      "        \"pair_id\": \"11056692_F3\"\n",
      "    },\n",
      "    {\n",
      "        \"fig_caption\": \"Correlation between ER mRNA and ER (by DCC assay). Breast tumours mRNA abundance (intensity of the 6.6-kb band) was expressed relatively to mRNA levels in MCF-7 cells (MCF-7 = 1).\",\n",
      "        \"fig_id\": \"F4\",\n",
      "        \"fig_label\": \"Figure 4\",\n",
      "        \"graphic_ref\": \"a:\\\\Vishal\\\\BiomedCLIP_data_pipeline\\\\_results\\\\data\\\\pubmed_open_access_files\\\\PMC13922\\\\bcr-2-6-444-4.jpg\",\n",
      "        \"pair_id\": \"11056692_F4\"\n",
      "    },\n",
      "    {\n",
      "        \"fig_caption\": \"Effect of heat treatment on the relative expression of ER isoforms. Human breast cancer cytosols were heated at 37\\u00b0C for 2 min in the presence or absence of protease inhibitors. They were then labelled with [125I]TAZ in the presence or absence of a 200-fold excess of radioinert oestradiol, immunoprecipitated with H-222 anti-ER monoclonal antibodies, and then subjected to SDS-PAGE. Lane 1, unheated control; lane 2, plus an excess of oestradiol; lane 3, 2 min heating in the absence of protease inhibitors; lane 4, 2 min heating in the presence of protease inhibitors.\",\n",
      "        \"fig_id\": \"F5\",\n",
      "        \"fig_label\": \"Figure 5\",\n",
      "        \"graphic_ref\": \"a:\\\\Vishal\\\\BiomedCLIP_data_pipeline\\\\_results\\\\data\\\\pubmed_open_access_files\\\\PMC13922\\\\bcr-2-6-444-5.jpg\",\n",
      "        \"pair_id\": \"11056692_F5\"\n",
      "    },\n",
      "    {\n",
      "        \"fig_caption\": \"In situ labelling of ER with [125I]TAZ. Breast tissues slices (samples 1-4, ER positive; sample 5, ER-negative) were incubated with 1 nmol/l [125I]TAZ for 1 h at 0\\u00b0C and the unbound ligand was removed. Then, all tissues were mixed with Krebs-Ringer phosphate buffer containing 1% SDS, 1.6 mmol/l EDTA and 2% \\u03b2-mercaptoethanol, and briefly homogenized. After lysis at 100\\u00b0C, proteins were extracted with phenol, precipitated by acetone and were finally analyzed by SDS-PAGE. The figure shows the electrophoretic patterns of these tissue ERs.\",\n",
      "        \"fig_id\": \"F6\",\n",
      "        \"fig_label\": \"Figure 6\",\n",
      "        \"graphic_ref\": \"a:\\\\Vishal\\\\BiomedCLIP_data_pipeline\\\\_results\\\\data\\\\pubmed_open_access_files\\\\PMC13922\\\\bcr-2-6-444-6.jpg\",\n",
      "        \"pair_id\": \"11056692_F6\"\n",
      "    }\n",
      "]\n",
      "[\n",
      "    {\n",
      "        \"fig_caption\": \"Doseeffect of SAHA on growth rate in TM10 and TM2H cell lines. (A), (C) Growth curves for TM10 and TM2H cell lines in the absence and presence of 0, 0.1, 2.5, 5.0, and 10 \\u03bcM SAHA. (B), (D) Growth curves in the absence and presence of the same SAHA concentrations as (A) and (C) for 2 days, and then SAHA was removed from the media for the four following days. Each point is the average of four readings.\",\n",
      "        \"fig_id\": \"F1\",\n",
      "        \"fig_label\": \"Figure 1\",\n",
      "        \"graphic_ref\": \"a:\\\\Vishal\\\\BiomedCLIP_data_pipeline\\\\_results\\\\data\\\\pubmed_open_access_files\\\\PMC13923\\\\BCR-3-2-122-1.jpg\",\n",
      "        \"pair_id\": \"11250759_F1\"\n",
      "    },\n",
      "    {\n",
      "        \"fig_caption\": \"Effect of SAHA on cell growth properties of TM10 and TM2H preneoplastic mammary cells. (A) BrdU immunostaining of TM10 and TM2H cells at control or treated with 2.5 \\u03bcM SAHA for 24 h. (B) Flow cytometric analysis of TM10 and TM2H cell lines at the same conditions as (A) were analyzed for BrdU fluorescence and DNA content. Histograms of cell cycle distribution were calculated from a sample of 5000 events.\",\n",
      "        \"fig_id\": \"F2\",\n",
      "        \"fig_label\": \"Figure 2\",\n",
      "        \"graphic_ref\": \"a:\\\\Vishal\\\\BiomedCLIP_data_pipeline\\\\_results\\\\data\\\\pubmed_open_access_files\\\\PMC13923\\\\BCR-3-2-122-2.jpg\",\n",
      "        \"pair_id\": \"11250759_F2\"\n",
      "    },\n",
      "    {\n",
      "        \"fig_caption\": \"Effect of SAHA on TM10 and TM2H morphology. Bright field pictures for living TM10 and TM2H cells at control and in SAHA treated conditions for 24 h taken at 40 \\u00d7 magnification.\",\n",
      "        \"fig_id\": \"F3\",\n",
      "        \"fig_label\": \"Figure 3\",\n",
      "        \"graphic_ref\": \"a:\\\\Vishal\\\\BiomedCLIP_data_pipeline\\\\_results\\\\data\\\\pubmed_open_access_files\\\\PMC13923\\\\BCR-3-2-122-3.jpg\",\n",
      "        \"pair_id\": \"11250759_F3\"\n",
      "    },\n",
      "    {\n",
      "        \"fig_caption\": \"Effect of SAHA on histone protein and acetylation levels. (A) Equal amounts of isolated and purified histone samples from TM10 and TM2H nuclei at control (C) and treated with 2.5 \\u03bcM SAHA for 24 h (T) were resolved on 15% acid-urea gel and stained with Coomassie Blue. (B) Western blot analyses of the same samples in (A) were analyzed, using 15% acid-urea gel, equilibrated to be transferred on nitrocellulose membrane, probed first with anti-H3 polyclonal antibody, striped and re-probed with anti-H4 polyclonal antibodies. Acetylated histone H4 of multiple bands (arrows) was revealed as slow migrating bands in treated versus control samples after Coomassie blue staining, while H3 showed smear of the bands attributed to an increase in both acetylation and protein synthesis. The increase in histones H3 and H4 protein and acetylation levels showed intense smeared bands after alkaline phosphatase colorimetric reaction.\",\n",
      "        \"fig_id\": \"F4\",\n",
      "        \"fig_label\": \"Figure 4\",\n",
      "        \"graphic_ref\": \"a:\\\\Vishal\\\\BiomedCLIP_data_pipeline\\\\_results\\\\data\\\\pubmed_open_access_files\\\\PMC13923\\\\BCR-3-2-122-4.jpg\",\n",
      "        \"pair_id\": \"11250759_F4\"\n",
      "    },\n",
      "    {\n",
      "        \"fig_caption\": \"Effect of SAHA on phosphorylation levels of the pRb pocket proteins. Western blot analysis of 100 \\u03bcg nuclear protein extracts of TM10 and TM2H cell lines in control (C) or treated with 2.5 \\u03bcM SAHA for 24 h (T). Protein samples were resolved by 10% SDS-PAGE, transferred onto nitrocellulose membrane, blocked and probed with antibodies against pRb, p107 and Rb2/p130 as described in Materials and methods. Note the fast migrating and more intense Rb, p107 and Rb2/p130 'hypophosphorylated forms' in SAHA treated (T) versus control (C) cell lines.\",\n",
      "        \"fig_id\": \"F5\",\n",
      "        \"fig_label\": \"Figure 5\",\n",
      "        \"graphic_ref\": \"a:\\\\Vishal\\\\BiomedCLIP_data_pipeline\\\\_results\\\\data\\\\pubmed_open_access_files\\\\PMC13923\\\\BCR-3-2-122-5.jpg\",\n",
      "        \"pair_id\": \"11250759_F5\"\n",
      "    },\n",
      "    {\n",
      "        \"fig_caption\": \"Effect of SAHA on cyclin-associated kinase activities in TM10 and TM2H cells. Equal amounts of nuclear protein extracts (250 \\u03bcg) from TM10 and TM2H cells at control (C) and treated with 2.5 \\u03bcM SAHA for 24 h (T) were immunoprecipitated with antibodies against anti-cyclin D1 (A), anti-cyclin E (B) and anti-cyclin A (C) or with rabbit preimmune serum, followed by kinase activity assay, as described in Materials and methods. The negative control in each panel was 250 \\u03bcg protein extract from TM2H cells at control condition immunoprecipitated with rabbit preimmune serum. The phosphorylated substrates, pRb and histone (H1), were scanned and quantitated densitometricaly using a phosphoimager analyzer. Histograms represent arbitrary units of the phosphorylated substrates after subtracting the background and the negative control.\",\n",
      "        \"fig_id\": \"F6\",\n",
      "        \"fig_label\": \"Figure 6\",\n",
      "        \"graphic_ref\": \"a:\\\\Vishal\\\\BiomedCLIP_data_pipeline\\\\_results\\\\data\\\\pubmed_open_access_files\\\\PMC13923\\\\BCR-3-2-122-6.jpg\",\n",
      "        \"pair_id\": \"11250759_F6\"\n",
      "    },\n",
      "    {\n",
      "        \"fig_caption\": \"Effect of SAHA on the subcellular distribution of p21/Cip, PCNA, E2F-1 and E2F-4 in TM10 and TM2H cell lines. Equal amounts of nuclear (nuc.) and cytoplasmic (cyt.) protein extracts (100 \\u03bcg) from TM10 and TM2H cells at control (C) and treated with 2.5 \\u03bcM SAHA for 24 h (T) were analyzed by western blot (W.B.) using anti-mouse p21 antibody (A), mouse anti-PCNA antibody (B), rabbit anti-E2F-1 antibody (C) and anti-E2F-4 antibody (D). Protein bands were scanned and quantitated densitometricaly using a phosphoimager analyzer. Histograms represent arbitrary units for each protein.\",\n",
      "        \"fig_id\": \"F7\",\n",
      "        \"fig_label\": \"Figure 7\",\n",
      "        \"graphic_ref\": \"a:\\\\Vishal\\\\BiomedCLIP_data_pipeline\\\\_results\\\\data\\\\pubmed_open_access_files\\\\PMC13923\\\\BCR-3-2-122-7.jpg\",\n",
      "        \"pair_id\": \"11250759_F7\"\n",
      "    },\n",
      "    {\n",
      "        \"fig_caption\": \"Analysis of Rb2/p130 subcellular localization and interaction with E2F-4 in control and SAHA treated TM10 and TM2H cell lines. (A) Immunofluorescent staining of Rb2/p130 in TM10 and TM2H cell lines at control (C) and treated with 2.5 \\u03bcM SAHA for 24 h (T). (B) Nuclear protein extracts (200 \\u03bcg) of both cell lines and at the same conditions as (A) were immunoprecipitated with anti-E2F-4 polyclonal antibody followed by immunoblotting with mouse anti-Rb2/p130 monoclonal antibody. I.P., immunoprecipitation; W.B., western blot.\",\n",
      "        \"fig_id\": \"F8\",\n",
      "        \"fig_label\": \"Figure 8\",\n",
      "        \"graphic_ref\": \"a:\\\\Vishal\\\\BiomedCLIP_data_pipeline\\\\_results\\\\data\\\\pubmed_open_access_files\\\\PMC13923\\\\BCR-3-2-122-8.jpg\",\n",
      "        \"pair_id\": \"11250759_F8\"\n",
      "    }\n",
      "]\n",
      "[\n",
      "    {\n",
      "        \"fig_caption\": \"Chk1-dependent mitotic delay caused by ionizing irradiation in cdc2-3w \\u0394cdc25 cells. Synchronous populations of cdc2-3w \\u0394cdc25 (GL192) or cdc2-3w \\u0394cdc25 \\u0394chk1 (NR1976) cells were obtained by centrifugal elutriation. Cultures were exposed to 200 Gy of ionizing radiation (+IR) or mock treated (\\u2212IR). Progression through mitosis was determined by microscopic observation.\",\n",
      "        \"fig_id\": \"F1\",\n",
      "        \"fig_label\": \"Figure 1\",\n",
      "        \"graphic_ref\": \"a:\\\\Vishal\\\\BiomedCLIP_data_pipeline\\\\_results\\\\data\\\\pubmed_open_access_files\\\\PMC14752\\\\mk0101080001.jpg\",\n",
      "        \"pair_id\": \"10637286_F1\"\n",
      "    },\n",
      "    {\n",
      "        \"fig_caption\": \"GST\\u2013Chk1 overproduction arrests division in the absence of Wee1 and Cdc25. A wee1-50 \\u0394cdc25 nmt1:GST-chk1+ (BF2404) strain was incubated on medium that repressed (off) or induced (on) GST\\u2013Chk1 production. Cells were photographed after 48 h at 35\\u00b0C.\",\n",
      "        \"fig_id\": \"F2\",\n",
      "        \"fig_label\": \"Figure 2\",\n",
      "        \"graphic_ref\": \"a:\\\\Vishal\\\\BiomedCLIP_data_pipeline\\\\_results\\\\data\\\\pubmed_open_access_files\\\\PMC14752\\\\mk0101080002.jpg\",\n",
      "        \"pair_id\": \"10637286_F2\"\n",
      "    },\n",
      "    {\n",
      "        \"fig_caption\": \"Deletion of mik1+ impairs the DNA damage checkpoint. (A) Synchronous cultures of early G2 wild-type (PR109) or \\u0394mik1 (PR712) cells were produced by centrifugal elutriation and exposed to the radiomimetic drug bleomycin (BL) at a concentration of 2.5 mU/ml or mock treated. (B) Synchronous cultures of early G2 cdc2-3w \\u0394cdc25 \\u0394mik1 (NR1977) cells were exposed to 200 Gy of ionizing irradiation (+IR) or mock treated (\\u2212IR). Note that NR1977 grows slowly relative to cdc2-3w \\u0394cdc25 (GL192) shown in Figure 1A; thus, these experiments cannot be compared directly.\",\n",
      "        \"fig_id\": \"F3\",\n",
      "        \"fig_label\": \"Figure 3\",\n",
      "        \"graphic_ref\": \"a:\\\\Vishal\\\\BiomedCLIP_data_pipeline\\\\_results\\\\data\\\\pubmed_open_access_files\\\\PMC14752\\\\mk0101080003.jpg\",\n",
      "        \"pair_id\": \"10637286_F3\"\n",
      "    },\n",
      "    {\n",
      "        \"fig_caption\": \"Nuclear staining of Mik1 during S phase and early G2 corresponds to increased Mik1 mRNA and protein. (A) A synchronous population of mik1+:13Myc (AL2405) cells in early G2 phase was produced by centrifugal elutriation and processed to detect Mik1:13Myc or nuclei with the DNA stain DAPI. The approximate phase of the cell cycle is indicated. Nuclear Mik1 was detected during S phase and early G2. Cytoplasmic staining was not significantly different from that of the untagged wild-type (WT) strain. (B) Synchronous cdc25-22 mik1+:13Myc (BF2409) cells in late G2 were obtained by incubation at restrictive temperature (36\\u00b0C) for 4 h. Division arrest was relieved by decreasing the temperature to 25\\u00b0C. Northern blot analysis revealed that mik1 mRNA peaked shortly after the division release (40 min), whereas immunoblot studies showed that Mik1 protein abundance peaked soon thereafter (60 min). These time points correspond approximately to S or early G2 phase. Loading controls were total RNA for the Northern blot and Cdc2 protein for the immunoblot.\",\n",
      "        \"fig_id\": \"F4\",\n",
      "        \"fig_label\": \"Figure 4\",\n",
      "        \"graphic_ref\": \"a:\\\\Vishal\\\\BiomedCLIP_data_pipeline\\\\_results\\\\data\\\\pubmed_open_access_files\\\\PMC14752\\\\mk010108004a.jpg\",\n",
      "        \"pair_id\": \"10637286_F4\"\n",
      "    },\n",
      "    {\n",
      "        \"fig_caption\": \"DNA replication and damage checkpoints stimulate nuclear accumulation of Mik1. Asynchronous populations of strains that contained the mik1+:13Myc allele were incubated in 10 mM hydroxyurea (+HU) or 2.5 mU/ml bleomycin (+BL) for 4 h. Cells were processed to reveal Mik1:13Myc or DNA (DAPI). (A) Wild type (AL2405); (B) \\u0394rad3 (BF2406); (C) \\u0394cds1 (BF2408); (D) \\u0394chk1 (BF2407). (E) Immunoblot analysis of wild-type (AL2405) cells exposed to HU or BL as described above.\",\n",
      "        \"fig_id\": \"F5\",\n",
      "        \"fig_label\": \"Figure 5\",\n",
      "        \"graphic_ref\": \"a:\\\\Vishal\\\\BiomedCLIP_data_pipeline\\\\_results\\\\data\\\\pubmed_open_access_files\\\\PMC14752\\\\mk0101080005.jpg\",\n",
      "        \"pair_id\": \"10637286_F5\"\n",
      "    },\n",
      "    {\n",
      "        \"fig_caption\": \"Chk1-dependent nuclear accumulation of Mik1 is not a consequence of the G2 arrest. Cultures of cdc25-22 mik1+:13Myc (BF2409), cdc25-22 rad3::ura4+ mik1:13Myc (BF2442), or cdc25-22 mik1+:13Myc \\u0394chk1 (BF2410) cells were shifted to restrictive temperature (36\\u00b0C). Thirty minutes later, cells were treated with 2.5 mU/ml bleomycin (+BL) or mock treated (\\u2212BL). After another 3.5-h incubation at 36\\u00b0C, cells were processed to detect Mik1:13Myc or DNA (DAPI).\",\n",
      "        \"fig_id\": \"F6\",\n",
      "        \"fig_label\": \"Figure 6\",\n",
      "        \"graphic_ref\": \"a:\\\\Vishal\\\\BiomedCLIP_data_pipeline\\\\_results\\\\data\\\\pubmed_open_access_files\\\\PMC14752\\\\mk0101080006.jpg\",\n",
      "        \"pair_id\": \"10637286_F6\"\n",
      "    },\n",
      "    {\n",
      "        \"fig_caption\": \"Regulation of mik1 mRNA in checkpoint-arrested cells. Wild-type (AL2405) or \\u0394rad3 (BF2406) cells were incubated in 10 mM hydroxyurea (+HU) or 2.5 mU/ml bleomycin (+BL) for 4 h. RNA was harvested and probed in a Northern blot with mik1 or leu1 probes. PhosphorImager analysis indicated that mik1 mRNA increased \\u223c3.5-fold in the HU-treated wild-type cells relative to all the other samples.\",\n",
      "        \"fig_id\": \"F7\",\n",
      "        \"fig_label\": \"Figure 7\",\n",
      "        \"graphic_ref\": \"a:\\\\Vishal\\\\BiomedCLIP_data_pipeline\\\\_results\\\\data\\\\pubmed_open_access_files\\\\PMC14752\\\\mk0101080007.jpg\",\n",
      "        \"pair_id\": \"10637286_F7\"\n",
      "    },\n",
      "    {\n",
      "        \"fig_caption\": \"Accumulation of ubiquitinated Mik1 in proteasome mutant. (A) Wild-type (AL2405) or mts3-1 (NB2411) cells that expressed Mik1:13Myc from the mik1+ locus were incubated for 4 h at 35.5\\u00b0C. Anti-myc immunoblot analysis was performed with cell extracts. (B) The same strains were transformed with pREP1-His6-ubiquitin and induced to express His6-ubiquitin before incubation at 4 h at 35.5\\u00b0C. Samples were processed to purify proteins that were covalently linked to His6-ubiquitin followed by immunoblot analysis with anti-Myc antibody.\",\n",
      "        \"fig_id\": \"F8\",\n",
      "        \"fig_label\": \"Figure 8\",\n",
      "        \"graphic_ref\": \"a:\\\\Vishal\\\\BiomedCLIP_data_pipeline\\\\_results\\\\data\\\\pubmed_open_access_files\\\\PMC14752\\\\mk0101080008.jpg\",\n",
      "        \"pair_id\": \"10637286_F8\"\n",
      "    },\n",
      "    {\n",
      "        \"fig_caption\": \"Model of the DNA damage checkpoint in fission yeast.\",\n",
      "        \"fig_id\": \"F9\",\n",
      "        \"fig_label\": \"Figure 9\",\n",
      "        \"graphic_ref\": \"a:\\\\Vishal\\\\BiomedCLIP_data_pipeline\\\\_results\\\\data\\\\pubmed_open_access_files\\\\PMC14752\\\\mk0101080009.jpg\",\n",
      "        \"pair_id\": \"10637286_F9\"\n",
      "    }\n",
      "]\n",
      "[\n",
      "    {\n",
      "        \"fig_caption\": \"The DLCL expression matrix, in no particular row or column order. The display is a heat map, ranging from bright green (negative, underexpressed) to bright red (positive, overexpressed). The gray cells indicate missing measurements.\",\n",
      "        \"fig_id\": \"F1\",\n",
      "        \"fig_label\": \"Figure 1\",\n",
      "        \"graphic_ref\": \"a:\\\\Vishal\\\\BiomedCLIP_data_pipeline\\\\_results\\\\data\\\\pubmed_open_access_files\\\\PMC15015\\\\gb-2000-1-2-research0003-1.jpg\",\n",
      "        \"pair_id\": \"11178228_F1\"\n",
      "    },\n",
      "    {\n",
      "        \"fig_caption\": \"The DLCL expression matrix with rows and columns ordered according to a hierarchical clustering applied separately to the rows and columns.\",\n",
      "        \"fig_id\": \"F2\",\n",
      "        \"fig_label\": \"Figure 2\",\n",
      "        \"graphic_ref\": \"a:\\\\Vishal\\\\BiomedCLIP_data_pipeline\\\\_results\\\\data\\\\pubmed_open_access_files\\\\PMC15015\\\\gb-2000-1-2-research0003-2.jpg\",\n",
      "        \"pair_id\": \"11178228_F2\"\n",
      "    },\n",
      "    {\n",
      "        \"fig_caption\": \"The first three gene clusters found for the DLCL data. Each is a collection of genes showing similar and strong (high variance) expression behavior.\",\n",
      "        \"fig_id\": \"F3\",\n",
      "        \"fig_label\": \"Figure 3\",\n",
      "        \"graphic_ref\": \"a:\\\\Vishal\\\\BiomedCLIP_data_pipeline\\\\_results\\\\data\\\\pubmed_open_access_files\\\\PMC15015\\\\gb-2000-1-2-research0003-3.jpg\",\n",
      "        \"pair_id\": \"11178228_F3\"\n",
      "    },\n",
      "    {\n",
      "        \"fig_caption\": \"The top panel shows the three signed-mean genes together, and ordered by a hierarchical clustering in this three-dimensional space. The lower panel is similar, except here we show all the genes in each cluster, 33 in all.\",\n",
      "        \"fig_id\": \"F4\",\n",
      "        \"fig_label\": \"Figure 4\",\n",
      "        \"graphic_ref\": \"a:\\\\Vishal\\\\BiomedCLIP_data_pipeline\\\\_results\\\\data\\\\pubmed_open_access_files\\\\PMC15015\\\\gb-2000-1-2-research0003-4.jpg\",\n",
      "        \"pair_id\": \"11178228_F4\"\n",
      "    },\n",
      "    {\n",
      "        \"fig_caption\": \"Schematic of the gene shaving process.\",\n",
      "        \"fig_id\": \"F5\",\n",
      "        \"fig_label\": \"Figure 5\",\n",
      "        \"graphic_ref\": \"a:\\\\Vishal\\\\BiomedCLIP_data_pipeline\\\\_results\\\\data\\\\pubmed_open_access_files\\\\PMC15015\\\\gb-2000-1-2-research0003-5.jpg\",\n",
      "        \"pair_id\": \"11178228_F5\"\n",
      "    },\n",
      "    {\n",
      "        \"fig_caption\": \"Scatterplot matrix of the three column averages, or `super genes', from each cluster.\",\n",
      "        \"fig_id\": \"F6\",\n",
      "        \"fig_label\": \"Figure 6\",\n",
      "        \"graphic_ref\": \"a:\\\\Vishal\\\\BiomedCLIP_data_pipeline\\\\_results\\\\data\\\\pubmed_open_access_files\\\\PMC15015\\\\gb-2000-1-2-research0003-6.jpg\",\n",
      "        \"pair_id\": \"11178228_F6\"\n",
      "    },\n",
      "    {\n",
      "        \"fig_caption\": \"Percent of gene variance explained by first j gene shaving column averages (j = 1,2,... 0) (solid curve), and by first j principal components (broken curve). For the shaving results, the total number of genes in the first j clusters is also indicated.\",\n",
      "        \"fig_id\": \"F7\",\n",
      "        \"fig_label\": \"Figure 7\",\n",
      "        \"graphic_ref\": \"a:\\\\Vishal\\\\BiomedCLIP_data_pipeline\\\\_results\\\\data\\\\pubmed_open_access_files\\\\PMC15015\\\\gb-2000-1-2-research0003-7.jpg\",\n",
      "        \"pair_id\": \"11178228_F7\"\n",
      "    },\n",
      "    {\n",
      "        \"fig_caption\": \"(a) Variance plots for real and randomized data. The percent variance explained by each cluster, both for the original data, and for an average over three randomized versions. (b) Gap estimates of cluster size. The gap curve, which highlights the difference between the pair of curves, is shown.\",\n",
      "        \"fig_id\": \"F8\",\n",
      "        \"fig_label\": \"Figure 8\",\n",
      "        \"graphic_ref\": \"a:\\\\Vishal\\\\BiomedCLIP_data_pipeline\\\\_results\\\\data\\\\pubmed_open_access_files\\\\PMC15015\\\\gb-2000-1-2-research0003-8.jpg\",\n",
      "        \"pair_id\": \"11178228_F8\"\n",
      "    },\n",
      "    {\n",
      "        \"fig_caption\": \"Average (absolute) gene correlation and Cox model p value, for clusters of size 200 from supervised shaving and for different values of \\u03b1. The value of Qa = 0.1 seems best, and is used in the gene shaving procedure.\",\n",
      "        \"fig_id\": \"F9\",\n",
      "        \"fig_label\": \"Figure 9\",\n",
      "        \"graphic_ref\": \"a:\\\\Vishal\\\\BiomedCLIP_data_pipeline\\\\_results\\\\data\\\\pubmed_open_access_files\\\\PMC15015\\\\gb-2000-1-2-research0003-9.jpg\",\n",
      "        \"pair_id\": \"11178228_F9\"\n",
      "    },\n",
      "    {\n",
      "        \"fig_caption\": \"Cluster of 234 genes from supervised shaving.\",\n",
      "        \"fig_id\": \"F10\",\n",
      "        \"fig_label\": \"Figure 10\",\n",
      "        \"graphic_ref\": \"a:\\\\Vishal\\\\BiomedCLIP_data_pipeline\\\\_results\\\\data\\\\pubmed_open_access_files\\\\PMC15015\\\\gb-2000-1-2-research0003-10.jpg\",\n",
      "        \"pair_id\": \"11178228_F10\"\n",
      "    },\n",
      "    {\n",
      "        \"fig_caption\": \"(a) Gap curve for supervised shaving. (b) Survival curves in the two groups defined by the low or high expression of the 234 genes. Group I has high expression of positive genes, and low expression of negative genes; group 2 has low expression of positive genes, and high expression of negative genes. Negative genes are those preceded by a minus sign in Table 2.\",\n",
      "        \"fig_id\": \"F11\",\n",
      "        \"fig_label\": \"Figure 11\",\n",
      "        \"graphic_ref\": \"a:\\\\Vishal\\\\BiomedCLIP_data_pipeline\\\\_results\\\\data\\\\pubmed_open_access_files\\\\PMC15015\\\\gb-2000-1-2-research0003-11.jpg\",\n",
      "        \"pair_id\": \"11178228_F11\"\n",
      "    },\n",
      "    {\n",
      "        \"fig_caption\": \"The two groups of samples that showed highest and lowest expression of the gene cluster associated with survival.\",\n",
      "        \"fig_id\": \"F12\",\n",
      "        \"fig_label\": \"Figure 12\",\n",
      "        \"graphic_ref\": \"a:\\\\Vishal\\\\BiomedCLIP_data_pipeline\\\\_results\\\\data\\\\pubmed_open_access_files\\\\PMC15015\\\\gb-2000-1-2-research0003-12.jpg\",\n",
      "        \"pair_id\": \"11178228_F12\"\n",
      "    },\n",
      "    {\n",
      "        \"fig_caption\": \"Supervised gene shaving from full gene set. (a,c) Partially supervised with \\u03b1 = 0.10; (b,d) fully supervised (\\u03b1 = 1). (a,b) Training set p values; (c,d) permutation p values for the cluster average as a function of cluster size. The chosen cluster size of 234 is indicated.\",\n",
      "        \"fig_id\": \"F13\",\n",
      "        \"fig_label\": \"Figure 13\",\n",
      "        \"graphic_ref\": \"a:\\\\Vishal\\\\BiomedCLIP_data_pipeline\\\\_results\\\\data\\\\pubmed_open_access_files\\\\PMC15015\\\\gb-2000-1-2-research0003-13.jpg\",\n",
      "        \"pair_id\": \"11178228_F13\"\n",
      "    },\n",
      "    {\n",
      "        \"fig_caption\": \"Kaplan-Meier survival curves in the two groups defined by the cluster of 234 genes shown in Figure 10, stratified by IPI. Group I has high expression of positive genes and low expression of negative genes in Figure 9, and vice-versa for Group 2.\",\n",
      "        \"fig_id\": \"F14\",\n",
      "        \"fig_label\": \"Figure 14\",\n",
      "        \"graphic_ref\": \"a:\\\\Vishal\\\\BiomedCLIP_data_pipeline\\\\_results\\\\data\\\\pubmed_open_access_files\\\\PMC15015\\\\gb-2000-1-2-research0003-14.jpg\",\n",
      "        \"pair_id\": \"11178228_F14\"\n",
      "    },\n",
      "    {\n",
      "        \"fig_caption\": \"The Shaving algorithm.\",\n",
      "        \"fig_id\": \"F15\",\n",
      "        \"fig_label\": \"Box 1\",\n",
      "        \"graphic_ref\": \"a:\\\\Vishal\\\\BiomedCLIP_data_pipeline\\\\_results\\\\data\\\\pubmed_open_access_files\\\\PMC15015\\\\gb-2000-1-2-research0003-15.jpg\",\n",
      "        \"pair_id\": \"11178228_F15\"\n",
      "    }\n",
      "]\n",
      "[\n",
      "    {\n",
      "        \"fig_caption\": \"A Newfoundland female (a) was bred to a Border Collie male (b) to produce animals for the intercross.\",\n",
      "        \"fig_id\": \"F1\",\n",
      "        \"fig_label\": \"Figure 1\",\n",
      "        \"graphic_ref\": \"a:\\\\Vishal\\\\BiomedCLIP_data_pipeline\\\\_results\\\\data\\\\pubmed_open_access_files\\\\PMC15016\\\\gb-2000-1-2-research0004-1.jpg\",\n",
      "        \"pair_id\": \"11178229_F1\"\n",
      "    },\n",
      "    {\n",
      "        \"fig_caption\": \"Amino-acid sequence alignment of mammalian endothelin B receptors using the 'pretty' function from the GCG Wisconsin package. Accession numbers for sequences used for comparison: bovine EDNRB, S63513; human EDNRB, JQ1042; rat EDNRB, I57950; canine EDNRB, AF276427.\",\n",
      "        \"fig_id\": \"F2\",\n",
      "        \"fig_label\": \"Figure 2\",\n",
      "        \"graphic_ref\": \"a:\\\\Vishal\\\\BiomedCLIP_data_pipeline\\\\_results\\\\data\\\\pubmed_open_access_files\\\\PMC15016\\\\gb-2000-1-2-research0004-2.jpg\",\n",
      "        \"pair_id\": \"11178229_F2\"\n",
      "    },\n",
      "    {\n",
      "        \"fig_caption\": \"Segregation of EDNRB compared with the segregation of the white spotting phenotype. Genomic DNA digested with PvuII was probed with a radioactively labeled fragment of EDNRB DNA which detected a PvuII restriction fragment length polymorphism (RFLP) between the Border Collie and Newfoundland grandparents. BC, DNA from the Border Collie grandparent; N, DNA from the Newfoundland grandparent. F1, DNA from the first generation hybrids of the Newfoundland \\u00d7 Border Collie cross; F2, DNA from the progeny of intercrosses between the F1 hybrids; s, white spotted; ns, not white spotted. The presumed genotypes for the EDNRB locus are shown below the lanes.\",\n",
      "        \"fig_id\": \"F3\",\n",
      "        \"fig_label\": \"Figure 3\",\n",
      "        \"graphic_ref\": \"a:\\\\Vishal\\\\BiomedCLIP_data_pipeline\\\\_results\\\\data\\\\pubmed_open_access_files\\\\PMC15016\\\\gb-2000-1-2-research0004-3.jpg\",\n",
      "        \"pair_id\": \"11178229_F3\"\n",
      "    },\n",
      "    {\n",
      "        \"fig_caption\": \"Segregation of KIT compared with segregation of the white spotting phenotype. Segregation of KIT was followed by detection of a simple-sequence repeat polymorphic difference between the Newfoundland and Border Collie grandparents. BC, DNA from the Border Collie grandparent; N, DNA from the Newfoundland grandparent; F1, DNA from the first generation hybrids; F2, DNA from the second generation intercrosses. s, white spotted; ns, not white spotted. The presumed genotypes for the KIT locus are shown below the lanes.\",\n",
      "        \"fig_id\": \"F4\",\n",
      "        \"fig_label\": \"Figure 4\",\n",
      "        \"graphic_ref\": \"a:\\\\Vishal\\\\BiomedCLIP_data_pipeline\\\\_results\\\\data\\\\pubmed_open_access_files\\\\PMC15016\\\\gb-2000-1-2-research0004-4.jpg\",\n",
      "        \"pair_id\": \"11178229_F4\"\n",
      "    }\n",
      "]\n",
      "[\n",
      "    {\n",
      "        \"fig_caption\": \"Differential display procedures; mSSCP: modified single-stranded conformational polymorphism [4].\",\n",
      "        \"fig_id\": \"F1\",\n",
      "        \"fig_label\": \"Figure 1\",\n",
      "        \"graphic_ref\": \"a:\\\\Vishal\\\\BiomedCLIP_data_pipeline\\\\_results\\\\data\\\\pubmed_open_access_files\\\\PMC15023\\\\gb-2000-1-3-research0005-1.jpg\",\n",
      "        \"pair_id\": \"11178238_F1\"\n",
      "    },\n",
      "    {\n",
      "        \"fig_caption\": \"Gene expression profiles in the postnatal developing mouse brain. RNA fingerprints produced by specific DDRT-PCR primer combinations at four stages of brain development run in parallel. Anchored primer/arbitrary primer combinations are shown at the top for each group of RNA fingerprints and stages of development are indicated in days (1, 10, 20 and 42). Gel positions of developmentally regulated transcripts in expression category A (+), expression category B (-) and expression category C (^) are highlighted.\",\n",
      "        \"fig_id\": \"F2\",\n",
      "        \"fig_label\": \"Figure 2\",\n",
      "        \"graphic_ref\": \"a:\\\\Vishal\\\\BiomedCLIP_data_pipeline\\\\_results\\\\data\\\\pubmed_open_access_files\\\\PMC15023\\\\gb-2000-1-3-research0005-2.jpg\",\n",
      "        \"pair_id\": \"11178238_F2\"\n",
      "    },\n",
      "    {\n",
      "        \"fig_caption\": \"Verification of expression profiles. Downstream analysis of two developmentally regulated transcripts - (a) and (b) are the two transcripts. Candidate cDNAs were selected on the basis of the original DDRT-PCR profile (I), purified from co-migrating sequences by mSSCP (II) and used as probes in northern analysis (III). To correct for variation in RNA loading, northern blot membranes were re-probed for expression of the mouse beta actin gene (IV).\",\n",
      "        \"fig_id\": \"F3\",\n",
      "        \"fig_label\": \"Figure 3\",\n",
      "        \"graphic_ref\": \"a:\\\\Vishal\\\\BiomedCLIP_data_pipeline\\\\_results\\\\data\\\\pubmed_open_access_files\\\\PMC15023\\\\gb-2000-1-3-research0005-3.jpg\",\n",
      "        \"pair_id\": \"11178238_F3\"\n",
      "    },\n",
      "    {\n",
      "        \"fig_caption\": \"Origin of DDRT-PCR fragments. Schematic illustrating the position of DDRT-PCR cDNA fragments in relation to full-length transcripts of (a) PrP and (b) Thy-1.2. Black boxes represent transcripts, with open reading frames in white. Areas of transcripts amplified by DDRT-PCR are shown as gray boxes. Sequences of regions matching arbitrary and anchored primers are detailed with mismatched pairs in bold.\",\n",
      "        \"fig_id\": \"F4\",\n",
      "        \"fig_label\": \"Figure 4\",\n",
      "        \"graphic_ref\": \"a:\\\\Vishal\\\\BiomedCLIP_data_pipeline\\\\_results\\\\data\\\\pubmed_open_access_files\\\\PMC15023\\\\gb-2000-1-3-research0005-4.jpg\",\n",
      "        \"pair_id\": \"11178238_F4\"\n",
      "    }\n",
      "]\n",
      "[\n",
      "    {\n",
      "        \"fig_caption\": \"The location of the different exons in the GCNF amino-acid sequence. The core DNA-binding domain is underlined.\",\n",
      "        \"fig_id\": \"F1\",\n",
      "        \"fig_label\": \"Figure 1\",\n",
      "        \"graphic_ref\": \"a:\\\\Vishal\\\\BiomedCLIP_data_pipeline\\\\_results\\\\data\\\\pubmed_open_access_files\\\\PMC15024\\\\gb-2000-1-3-research0006-1.jpg\",\n",
      "        \"pair_id\": \"11178239_F1\"\n",
      "    },\n",
      "    {\n",
      "        \"fig_caption\": \"Sequence of exon 1 of Gcnf. The location of the EcoRI site (GAATTC) marking the 5'-end of the Gcnf cDNA (GenBank entry MMU09563) and the putative translational start codon (ATG) are underlined.\",\n",
      "        \"fig_id\": \"F2\",\n",
      "        \"fig_label\": \"Figure 2\",\n",
      "        \"graphic_ref\": \"a:\\\\Vishal\\\\BiomedCLIP_data_pipeline\\\\_results\\\\data\\\\pubmed_open_access_files\\\\PMC15024\\\\gb-2000-1-3-research0006-2.jpg\",\n",
      "        \"pair_id\": \"11178239_F2\"\n",
      "    }\n",
      "]\n",
      "[\n",
      "    {\n",
      "        \"fig_caption\": \"Multiple alignment of the UDG superfamily. The secondary-structure elements of the core UDG fold are shown in color above the multiple alignment. Some nonconserved elements in the MUG structure from E. coli are indicated in gray. The coloring of the alignment positions is according to the 85% consensus that includes the following categories of amino acid residues: h, hydrophobic, l, aliphatic, a, aromatic, shaded yellow (YFWLIVMA); s, small, individual letters colored green (SAGTVPNHD); p, polar, colored purple (STQNEDRKH); u, tiny, shaded green (GAS); and b, big, shaded gray (KREQWFYLMI). Af, Archaeoglobus fulgidus; Bb, Borrelia burgdorferi; Bs, Bacillus subtilis; Cj, Campylobacter jejuni; Ct, Chlamydia trachomatis; Dm, Drosophila melanogaster; Dr, Deinococcus radiodurans; Ec, Escherichia coli; Hi, Haemophilus influenzae; Hp, Helicobacter pylori; Hs, Homo sapiens; Mtu, Mycobacterium tuberculosis; Ph, Pyrococcus horikoshii; Rp, Rickettsia prowazekii; Sc, Saccharomyces cerevisiae; Scoel, Streptomyces coelicolor; Sp, Schizosaccharomyces pombe; Ssp, Synechocystis sp.; Tp, Treponema pallidum; Uu, Ureaplasma urealyticum; Yp, Yersinia pestis. The numbers at each end of each sequence are amino-acid positions and indicate the extent of the domain in each protein. The numbers within the alignment indicate inserts that have not been shown. The conserved motifs discussed in the text are designated I, II and III; the conserved aromatic (aliphatic) residue involved in the stacking interaction with uracil is indicated by an asterisk.\",\n",
      "        \"fig_id\": \"F1\",\n",
      "        \"fig_label\": \"Figure 1\",\n",
      "        \"graphic_ref\": \"a:\\\\Vishal\\\\BiomedCLIP_data_pipeline\\\\_results\\\\data\\\\pubmed_open_access_files\\\\PMC15025\\\\gb-2000-1-4-research0007-1.jpg\",\n",
      "        \"pair_id\": \"11178247_F1\"\n",
      "    },\n",
      "    {\n",
      "        \"fig_caption\": \"The topology of the UDG superfamily core fold, with the conserved and unique features of different families. The core secondary-structure elements of the UDG fold are colored as in Figure 1 and numbered according to their order in the sequence. The elements observed only in the MUGs are shown in gray. The conserved motif I occurs after strand 1 and motif II occurs after strand 4 and forms the active-site pocket in the three-dimensional structure.\",\n",
      "        \"fig_id\": \"F2\",\n",
      "        \"fig_label\": \"Figure 2\",\n",
      "        \"graphic_ref\": \"a:\\\\Vishal\\\\BiomedCLIP_data_pipeline\\\\_results\\\\data\\\\pubmed_open_access_files\\\\PMC15025\\\\gb-2000-1-4-research0007-2.jpg\",\n",
      "        \"pair_id\": \"11178247_F2\"\n",
      "    },\n",
      "    {\n",
      "        \"fig_caption\": \"A hypothetical evolutionary scenario for the UDG superfamily. The different families are shown in different colors and potential order and lineage of derivation is indicated on the standard phylogenetic model for the three domains of life. The representation of the active-site pocket residues typical of that set is shown next to each class at the point of derivation. The first position is the general base represented by an aspartate in the UNGs, the second position is the uracil/cytosine discrimination site occurring after the core strand 2, and the third position is typically represented by a histidine that acts as an electrophile. The X at a given position denotes lack of conservation. In some of the AUDGs and the DRUDGs, a glutamate could function as alternative general base.\",\n",
      "        \"fig_id\": \"F3\",\n",
      "        \"fig_label\": \"Figure 3\",\n",
      "        \"graphic_ref\": \"a:\\\\Vishal\\\\BiomedCLIP_data_pipeline\\\\_results\\\\data\\\\pubmed_open_access_files\\\\PMC15025\\\\gb-2000-1-4-research0007-3.jpg\",\n",
      "        \"pair_id\": \"11178247_F3\"\n",
      "    }\n",
      "]\n",
      "[\n",
      "    {\n",
      "        \"fig_caption\": \"Cell-cycle analysis of synchronized Nb2 cells stimulated by prolactin. Nb2 cells were serum deprived for 24 hours, then incubated with no PRL or PRL at 20 ng/ml before cells were collected for analysis. DNA content (FL2-A) versus cell number is presented in each panel. (a) Profiles obtained with control cells; (b) profiles obtained with cells incubated with PRL. From left to right, profiles correspond to cells in apoptosis (Apo, area below 400 on the x axis), in G0/G1 (peak centered on 400 on the x axis), or in S/M phase (area above 400 on the x axis).\",\n",
      "        \"fig_id\": \"F1\",\n",
      "        \"fig_label\": \"Figure 1\",\n",
      "        \"graphic_ref\": \"a:\\\\Vishal\\\\BiomedCLIP_data_pipeline\\\\_results\\\\data\\\\pubmed_open_access_files\\\\PMC15026\\\\gb-2000-1-4-research0008-1.jpg\",\n",
      "        \"pair_id\": \"11178248_F1\"\n",
      "    },\n",
      "    {\n",
      "        \"fig_caption\": \"Expression profiles of various known and unknown transcripts during Nb2 cell cycle progression. Samples of total RNA (10 \\u03bcg) were loaded per lane and blots were hybridized with the indicated cDNA probes. Ethidium bromide staining (EtBr) of the gels is shown as a control (18S and 28S rRNA). (a) Cdc21 homolog; (b) Ant-2; (c) CRM-1; (d) CD45; (e) unknown DD3; (f) unknown 4-16; (g) unknown 4-15; (h) unknown 6-4.\",\n",
      "        \"fig_id\": \"F2\",\n",
      "        \"fig_label\": \"Figure 2\",\n",
      "        \"graphic_ref\": \"a:\\\\Vishal\\\\BiomedCLIP_data_pipeline\\\\_results\\\\data\\\\pubmed_open_access_files\\\\PMC15026\\\\gb-2000-1-4-research0008-2.jpg\",\n",
      "        \"pair_id\": \"11178248_F2\"\n",
      "    },\n",
      "    {\n",
      "        \"fig_caption\": \"Analysis of candidate gene expression. (a) General principles. Messenger RNAs from the different cell populations (cells A and B) are reverse transcribed. Multiplex PCR is then performed using specific primer pairs to amplify the cDNAs of interest. The resulting mixture of PCR products is radiolabeled and these complex probes are used to hybridize identical membranes spotted with the candidate gene cDNA targets. After autoradiography, the intensities of the hybridization signals are compared and quantified. Arrows indicate the positions of differentially expressed genes. The absence of hybridization (open circles) indicates that the candidate gene is not expressed. (b) Efficiency of the technique and examples of differentially expressed genes. The expression of different candidate genes was compared in either unsynchronized (UN), growth-arrested (GA), G1 phase (G1), G1/S transition (G1/S) or G2 phase (G2) cultures of Nb2 cells. The efficiency of the technique was controlled using equivalent amounts of rabbit \\u03b1 and \\u03b2 globin cDNAs, which were included on the nylon membranes along with the candidate gene targets. The two globin cDNAs were added in different amounts (50 or 150 ng) to each cDNA population before co-amplification. For each population tested, filters were hybridized with both globin probes, but only representative hybridization signals are shown, for either \\u03b1 (Panel A) or \\u03b2 (Panel B) globin. Numbers 1 and 3 represent the relative amount of the control rabbit globin cDNAs added, and are reflected in the differences in the intensity of the hybridization signals. Thus, a threefold difference in the quantity of a particular transcript in the initial population generates a clear difference in the intensity of the corresponding hybridization signals. Rows C, D, E and F are examples of the results obtained with ganglioside synthase GD3, EGR-1, FAK p125 and Stat3, respectively. Except for Stat3, which is not differentially expressed in probes UN, GA, G1, G1/S and G2, the three other genes showed a clear differential expression. (c) Northern blot analysis showing the constitutive expression of EGR-1 during Nb2 cell-cycle progression. Growth-arrested Nb2 cells were stimulated with ovine prolactin and collected after various periods of stimulation corresponding to different stages of the cell cycle (G1, G1/S and G2). The expression of EGR-1 was evaluated by northern blot using 10 \\u03bcg of total RNA from the various times following prolactin stimulation. Ethidium bromide (EtBr) staining of the gel is shown as a control (18S and 28S rRNA).\",\n",
      "        \"fig_id\": \"F3\",\n",
      "        \"fig_label\": \"Figure 3\",\n",
      "        \"graphic_ref\": \"a:\\\\Vishal\\\\BiomedCLIP_data_pipeline\\\\_results\\\\data\\\\pubmed_open_access_files\\\\PMC15026\\\\gb-2000-1-4-research0008-3.jpg\",\n",
      "        \"pair_id\": \"11178248_F3\"\n",
      "    },\n",
      "    {\n",
      "        \"fig_caption\": \"Schematic representation of rat candidate genes on a nylon filter. Squares with names and accession numbers represent the places where the cDNAs were spotted. The solid gray boxes correspond to the controls (rabbit \\u03b1 and \\u03b2 globin). The boxes enclosed in a thick black square represent differentially expressed genes in Nb2 cells; the boxes enclosed in a thin black square represent genes that are repressed, but not differentially in Nb2 cells; and those enclosed in an oval correspond to expression abnormalities in Nb2 cells.\",\n",
      "        \"fig_id\": \"F4\",\n",
      "        \"fig_label\": \"Figure 4\",\n",
      "        \"graphic_ref\": \"a:\\\\Vishal\\\\BiomedCLIP_data_pipeline\\\\_results\\\\data\\\\pubmed_open_access_files\\\\PMC15026\\\\gb-2000-1-4-research0008-4.jpg\",\n",
      "        \"pair_id\": \"11178248_F4\"\n",
      "    }\n",
      "]\n",
      "[\n",
      "    {\n",
      "        \"fig_caption\": \"A flow chart of the genome annotation process using COGs. NR is the Non-Redundant sequence database at the National Center for Biotechnology Information.\",\n",
      "        \"fig_id\": \"F1\",\n",
      "        \"fig_label\": \"Figure 1\",\n",
      "        \"graphic_ref\": \"a:\\\\Vishal\\\\BiomedCLIP_data_pipeline\\\\_results\\\\data\\\\pubmed_open_access_files\\\\PMC15027\\\\gb-2000-1-5-research0009-1.jpg\",\n",
      "        \"pair_id\": \"11178258_F1\"\n",
      "    },\n",
      "    {\n",
      "        \"fig_caption\": \"The main phylogenetic patterns for the predicted proteins encoded in six archaeal genomes. Af, Archaeoglobus fulgidus; Mt, Methanobacterium thermoautotrophicum, Pa, Pyrococcus abyssi; Mj, Methanococcus jannaschii; Ph, Pyrococcus horikoshii; Ap, Aeropyrum pernix. 1, members of COGs including all archaeal species; 2, members of COGs including a subset of archaeal species; 3, members of COGs that include no archaeal species other then the analyzed one; 4, not in COGs. The percentage of proteins in each category is indicated.\",\n",
      "        \"fig_id\": \"F2\",\n",
      "        \"fig_label\": \"Figure 2\",\n",
      "        \"graphic_ref\": \"a:\\\\Vishal\\\\BiomedCLIP_data_pipeline\\\\_results\\\\data\\\\pubmed_open_access_files\\\\PMC15027\\\\gb-2000-1-5-research0009-2.jpg\",\n",
      "        \"pair_id\": \"11178258_F2\"\n",
      "    },\n",
      "    {\n",
      "        \"fig_caption\": \"Classification of genomes by co-occurrence in the COGs. (a) A cluster dendrogram. (b) A neighbor-joining unrooted tree. For abbreviations, see the Materials and methods section.\",\n",
      "        \"fig_id\": \"F3\",\n",
      "        \"fig_label\": \"Figure 3\",\n",
      "        \"graphic_ref\": \"a:\\\\Vishal\\\\BiomedCLIP_data_pipeline\\\\_results\\\\data\\\\pubmed_open_access_files\\\\PMC15027\\\\gb-2000-1-5-research0009-3.jpg\",\n",
      "        \"pair_id\": \"11178258_F3\"\n",
      "    },\n",
      "    {\n",
      "        \"fig_caption\": \"COGs not represented in each of the archaeal species while including members of the remaining five species. For P. horikoshii and P. abyssi, the absence of the respective second pyrococcal species was allowed. For abbreviations, see the Materials and methods section.\",\n",
      "        \"fig_id\": \"F4\",\n",
      "        \"fig_label\": \"Figure 4\",\n",
      "        \"graphic_ref\": \"a:\\\\Vishal\\\\BiomedCLIP_data_pipeline\\\\_results\\\\data\\\\pubmed_open_access_files\\\\PMC15027\\\\gb-2000-1-5-research0009-4.jpg\",\n",
      "        \"pair_id\": \"11178258_F4\"\n",
      "    }\n",
      "]\n",
      "[\n",
      "    {\n",
      "        \"fig_caption\": \"The database partitioning. The database is divided into five main packages: Sequence Info, all general information about sequences; Feature Info, detailed sequence annotation; Reference Info, bibliographic references; Taxonomy Info, the taxonomy of the organisms from which the sequences were obtained; Location Info, representing locations on sequences.\",\n",
      "        \"fig_id\": \"F1\",\n",
      "        \"fig_label\": \"Figure 1\",\n",
      "        \"graphic_ref\": \"a:\\\\Vishal\\\\BiomedCLIP_data_pipeline\\\\_results\\\\data\\\\pubmed_open_access_files\\\\PMC15028\\\\gb-2000-1-5-research0010-1.jpg\",\n",
      "        \"pair_id\": \"11178259_F1\"\n",
      "    },\n",
      "    {\n",
      "        \"fig_caption\": \"Sequence Info. This package defines class BioSeq, which represents biological sequences, and class SeqInfo, which describes general information about these sequences. The administrative data associated with database entries are defined in EntryInfo. The biological classes of sequence NSDBSeq, which is for nucleotide sequences, and PIDSeq, which is for protein sequences, are subclasses of BioSeq. VirtualSeq and PhysicalSeq are storage classes of sequence, that is, virtual or literal.\",\n",
      "        \"fig_id\": \"F2\",\n",
      "        \"fig_label\": \"Figure 2\",\n",
      "        \"graphic_ref\": \"a:\\\\Vishal\\\\BiomedCLIP_data_pipeline\\\\_results\\\\data\\\\pubmed_open_access_files\\\\PMC15028\\\\gb-2000-1-5-research0010-2.jpg\",\n",
      "        \"pair_id\": \"11178259_F2\"\n",
      "    },\n",
      "    {\n",
      "        \"fig_caption\": \"System architecture. On the server side, CORBA implementation objects access and query the relational database via PersistenceTM, which is a middleware between our CORBA implementation and the Oracle database. To allow invoking operations on the objects, the server provides its clients interfaces in OMG IDL, which is independent of the server implementation. An object's interface is composed of the operations and types of data that can be passed to and from those operations. Clients access the CORBA objects via operation calls through an Object Request Broker (ORB) where the distribution details are handled by the ORB.\",\n",
      "        \"fig_id\": \"F3\",\n",
      "        \"fig_label\": \"Figure 3\",\n",
      "        \"graphic_ref\": \"a:\\\\Vishal\\\\BiomedCLIP_data_pipeline\\\\_results\\\\data\\\\pubmed_open_access_files\\\\PMC15028\\\\gb-2000-1-5-research0010-3.jpg\",\n",
      "        \"pair_id\": \"11178259_F3\"\n",
      "    },\n",
      "    {\n",
      "        \"fig_caption\": \"CORBA development overview. CORBA object interfaces together with their operations and type of data are defined in IDL. For the ORB, we have chosen IONA Inc's C++ ORB, OrbixTM. Its IDL compiler generates skeleton code and stub code in C++. We provide the server object implementation code and the Persistence application code. These codes are subsequently compiled and linked together to become executable. Clients can be written in any language for which an ORB and IDL compiler are available, including Ada, C, C++, COBOL, CommonLisp, Eiffel, Java, Python, Perl, SmallTalk, Tcl, and so on.\",\n",
      "        \"fig_id\": \"F4\",\n",
      "        \"fig_label\": \"Figure 4\",\n",
      "        \"graphic_ref\": \"a:\\\\Vishal\\\\BiomedCLIP_data_pipeline\\\\_results\\\\data\\\\pubmed_open_access_files\\\\PMC15028\\\\gb-2000-1-5-research0010-4.jpg\",\n",
      "        \"pair_id\": \"11178259_F4\"\n",
      "    },\n",
      "    {\n",
      "        \"fig_caption\": \"Part of module seqdb and nsdb, extracted from the EMBL IDL specification. The interfaces BioSeq and SeqInfo are defined in module seqdb; The interfaces EntryInfo, NucSeq and EmblSeq are defined in module nsdb. NucSeq inherits from seqdb::BioSeq and EmblSeq inherits from NucSeq, seqdb::SeqInfo, and EntryInfo.\",\n",
      "        \"fig_id\": \"F5\",\n",
      "        \"fig_label\": \"Figure 5\",\n",
      "        \"graphic_ref\": \"a:\\\\Vishal\\\\BiomedCLIP_data_pipeline\\\\_results\\\\data\\\\pubmed_open_access_files\\\\PMC15028\\\\gb-2000-1-5-research0010-5.jpg\",\n",
      "        \"pair_id\": \"11178259_F5\"\n",
      "    },\n",
      "    {\n",
      "        \"fig_caption\": \"Classes of BioSeq and SeqInfo. The class BioSeq has four methods: getBioSeqId, getLength, getAnySeq and getBioSeqVersion. The returned values of methods represent attributes of class BioSeq defined in the object model, providing information on biological sequences. The class SeqInfo has methods: getDescription, getKeywords, getComments, getDbXrefs and getReferences, representing general information on the sequences.\",\n",
      "        \"fig_id\": \"F6\",\n",
      "        \"fig_label\": \"Figure 6\",\n",
      "        \"graphic_ref\": \"a:\\\\Vishal\\\\BiomedCLIP_data_pipeline\\\\_results\\\\data\\\\pubmed_open_access_files\\\\PMC15028\\\\gb-2000-1-5-research0010-6.jpg\",\n",
      "        \"pair_id\": \"11178259_F6\"\n",
      "    },\n",
      "    {\n",
      "        \"fig_caption\": \"Class relationship in UML notation. The class seqdb consists of 3 classes: SeqInfo, BioSeq, and Feature. The class nsdb comprises 4 classes: EmblSeq, NucFeature, FeatureLocation and Embl. EmblSeq inherits from the classes of EntryInfo, SeqInfo and NucSeq that in turn inherits from BioSeq. FeatureLocation inherits from Location, and NucFeature inherits from Feature.\",\n",
      "        \"fig_id\": \"F7\",\n",
      "        \"fig_label\": \"Figure 7\",\n",
      "        \"graphic_ref\": \"a:\\\\Vishal\\\\BiomedCLIP_data_pipeline\\\\_results\\\\data\\\\pubmed_open_access_files\\\\PMC15028\\\\gb-2000-1-5-research0010-7.jpg\",\n",
      "        \"pair_id\": \"11178259_F7\"\n",
      "    },\n",
      "    {\n",
      "        \"fig_caption\": \"The NsdbSeq view in Persistence. As the class NsdnSeq inherits from the class BioSeq, the view of NsdbSeq in Persistence therefore has attributes defined in both NsdbSeq and BioSeq, representing information on nucleotide sequences.\",\n",
      "        \"fig_id\": \"F8\",\n",
      "        \"fig_label\": \"Figure 8\",\n",
      "        \"graphic_ref\": \"a:\\\\Vishal\\\\BiomedCLIP_data_pipeline\\\\_results\\\\data\\\\pubmed_open_access_files\\\\PMC15028\\\\gb-2000-1-5-research0010-8.jpg\",\n",
      "        \"pair_id\": \"11178259_F8\"\n",
      "    },\n",
      "    {\n",
      "        \"fig_caption\": \"Tables for the NsdbSeq view in the actual database. The view is built from a number of tables (or views) of the database.\",\n",
      "        \"fig_id\": \"F9\",\n",
      "        \"fig_label\": \"Figure 9\",\n",
      "        \"graphic_ref\": \"a:\\\\Vishal\\\\BiomedCLIP_data_pipeline\\\\_results\\\\data\\\\pubmed_open_access_files\\\\PMC15028\\\\gb-2000-1-5-research0010-9.jpg\",\n",
      "        \"pair_id\": \"11178259_F9\"\n",
      "    },\n",
      "    {\n",
      "        \"fig_caption\": \"Access to the EMBL database via the CORBA server. The client submits its query with bio-seq-id to the Embl object, which is a factory object representing the whole database. It invokes the operation findMe provided by EmblSeq object, which in turn invokes the loader object. The EmblSeq reference is returned to the client. Once the client has the EmblSeq object reference, it can then invoke the methods provided by EmblSeq to get the sequence information defined in SeqInfo. The object attributes are obtained through invoking the methods. Further queries can be made through the invocation to other methods.\",\n",
      "        \"fig_id\": \"F10\",\n",
      "        \"fig_label\": \"Figure 10\",\n",
      "        \"graphic_ref\": \"a:\\\\Vishal\\\\BiomedCLIP_data_pipeline\\\\_results\\\\data\\\\pubmed_open_access_files\\\\PMC15028\\\\gb-2000-1-5-research0010-10.jpg\",\n",
      "        \"pair_id\": \"11178259_F10\"\n",
      "    }\n",
      "]\n",
      "[\n",
      "    {\n",
      "        \"fig_caption\": \"Between-species whole-genome DNA alignments. Plots of maximally unique matching subsequences (MUMs) between genomes as identified by the MUMmer program. (a)V. cholerae chrI forward strand versus E. coli forward strand. (b)E. coli forward versus V. cholerae chrI reverse. (c)V. cholerae chrI versus E. coli, forward and reverse overlaid. (d)S. pneumoniae forward versus S. pyogenes forward and reverse overlaid. (e)M. tuberculosis forward versus M. leprae forward and reverse overlaid. A point (x, y) indicates a DNA sequence that occurs once within each genome, at location x in one genome and at location y in the other genome. The matching sequences may occur on either the forward or the reverse strand; in either case, the locations indicate the 5' end of the sequences. The point (0,0) corresponds to the origin of replication for each genome.\",\n",
      "        \"fig_id\": \"F1\",\n",
      "        \"fig_label\": \"Figure 1\",\n",
      "        \"graphic_ref\": \"a:\\\\Vishal\\\\BiomedCLIP_data_pipeline\\\\_results\\\\data\\\\pubmed_open_access_files\\\\PMC16139\\\\gb-2000-1-6-research0011-1.jpg\",\n",
      "        \"pair_id\": \"11178265_F1\"\n",
      "    },\n",
      "    {\n",
      "        \"fig_caption\": \"Whole-genome proteome alignments. Plots show the chromosome locations of pairs of predicted proteins that have significant similarity (on the basis of fasta3 comparisons). (a)V. cholerae chrI versus E. coli. All significant matches for each V. cholerae ORF are shown. (b)V. cholerae chrI versus E. coli, top matches. Only the best match for each V. cholerae ORF is shown. The filtering for top matches for each ORF removes noise due to the presence of many large multigene families. This X-alignment is highly statistically significant (Table 2). (c)Chlamydia trachomatis versus C. pneumoniae, top matches. Only the best match for each C. trachomatis ORF is shown. The position of the origins (R) and termini (T) of replication are slightly shifted to see the inversions better. This pattern is consistent with the occurrence a small number of inversions around the origin and terminus in the two lineages since their divergence from a common ancestor (see Figure 4). (d)V. cholerae chrI versus V. cholerae chrI, self-alignment. Only recently duplicated pairs of genes are shown. Recent duplications were operationally defined as those genes that were more similar to another gene in V. cholerae than to any gene in any other complete genome sequence. The faint X-alignment is statistically significant (Table 2). No significant X-alignment was detected when all pairs of paralogs were included.\",\n",
      "        \"fig_id\": \"F2\",\n",
      "        \"fig_label\": \"Figure 2\",\n",
      "        \"graphic_ref\": \"a:\\\\Vishal\\\\BiomedCLIP_data_pipeline\\\\_results\\\\data\\\\pubmed_open_access_files\\\\PMC16139\\\\gb-2000-1-6-research0011-2.jpg\",\n",
      "        \"pair_id\": \"11178265_F2\"\n",
      "    },\n",
      "    {\n",
      "        \"fig_caption\": \"Within-genome DNA alignments. Plots of exactly matching sequences within four genomes as identified by the MUMmer program: (a)V. cholerae; (b)E. coli; (c)S. pyogenes; (d)S. pneumoniae. A point (x,y) indicates a DNA sequence that is repeated within the genome, occurring once at location x and again at location y. Points near the diagonal (y = x) correspond to tandem repeats. Points near the anti-diagonal (y = L - x, where L is genome length) correspond to repeats that occur at symmetric locations about the origin of location. The point (0,0) corresponds to the origin of replication in each plot. Statistically significant X-alignments occur in all four species (Table 1).\",\n",
      "        \"fig_id\": \"F3\",\n",
      "        \"fig_label\": \"Figure 3\",\n",
      "        \"graphic_ref\": \"a:\\\\Vishal\\\\BiomedCLIP_data_pipeline\\\\_results\\\\data\\\\pubmed_open_access_files\\\\PMC16139\\\\gb-2000-1-6-research0011-3.jpg\",\n",
      "        \"pair_id\": \"11178265_F3\"\n",
      "    },\n",
      "    {\n",
      "        \"fig_caption\": \"Schematic model of genome inversions. The model shows an initial speciation event, followed by a series of inversions in the different lineages (A and B). Inversions occur between the asterisks (*). Numbers on the chromosome refer to hypothetical genes 1-32. At time point 1, the genomes of the two species are still co-linear (as indicated in the scatterplot of A1 versus B1). Between time point 1 and time point 2, each species (A and B) undergoes a large inversion about the terminus (as indicated in the scatterplots of A1 versus A2 and B1 versus B2). This results in the between-species scatterplot looking as if there have been two nested inversions (A2 versus B2), similar to that seen for C. trachomatis versus C. pneumoniae (see Figure 2). Between time point 2 and time point 3 each species undergoes an additional inversion (as indicated in the scatterplots of B2 versus B3 and A2 versus A3). This results in the between-species scatterplots beginning to resemble an X-alignment, similar to that seen in M. tuberculosis versus M. leprae (see Figure 2).\",\n",
      "        \"fig_id\": \"F4\",\n",
      "        \"fig_label\": \"Figure 4\",\n",
      "        \"graphic_ref\": \"a:\\\\Vishal\\\\BiomedCLIP_data_pipeline\\\\_results\\\\data\\\\pubmed_open_access_files\\\\PMC16139\\\\gb-2000-1-6-research0011-4.jpg\",\n",
      "        \"pair_id\": \"11178265_F4\"\n",
      "    }\n",
      "]\n",
      "[\n",
      "    {\n",
      "        \"fig_caption\": \"Reverse transcriptase sequences found in the genome of Drosophila melanogaster. Phylogenetic trees of sequences matching the full-length hidden Markov model of reverse transcriptase as defined by HMMER 2.1.1 that were identified in the analysis of (a) Release 1 and (b) BDGP/EDGP sequences. Names on branches represent GenBank accession numbers followed by coordinates in the respective sequence, which confine the HMM match (start coordinate greater than end means reverse complement of a sequence). Distinct families are separated by clades according to [2]. The tree was constructed by the neighbor-joining method as implemented in CLUSTAL W software. Numbers at the nodes represent bootstrap values as percentages out of 500 replicates and are shown only for values greater than 50%. Because of redundancy present in the BDGP/EDGP data set, absolutely identical sequences were substituted by one representative each in building the tree in (b).\",\n",
      "        \"fig_id\": \"F1\",\n",
      "        \"fig_label\": \"Figure 1\",\n",
      "        \"graphic_ref\": \"a:\\\\Vishal\\\\BiomedCLIP_data_pipeline\\\\_results\\\\data\\\\pubmed_open_access_files\\\\PMC16141\\\\gb-2000-1-6-research0012-1.jpg\",\n",
      "        \"pair_id\": \"11178266_F1\"\n",
      "    },\n",
      "    {\n",
      "        \"fig_caption\": \"Phylogeny of non-LTR elements based on their reverse transcriptase domain. Drosophila melanogaster non-LTR retrotransposons are shown in bold on the phylogenetic tree based on reverse transcriptase sequences [2]. Sequence alignment was produced by CLUSTAL W software by adding Waldo, JuanDm and You sequences to the alignment DS36752 [2]. Numbers at the nodes represent bootstrap values as percentages out of 500 replicates. The unrooted neighbor-joining tree and bootstrap analysis were inferred as implemented in the MEGA package [57].\",\n",
      "        \"fig_id\": \"F2\",\n",
      "        \"fig_label\": \"Figure 2\",\n",
      "        \"graphic_ref\": \"a:\\\\Vishal\\\\BiomedCLIP_data_pipeline\\\\_results\\\\data\\\\pubmed_open_access_files\\\\PMC16141\\\\gb-2000-1-6-research0012-2.jpg\",\n",
      "        \"pair_id\": \"11178266_F2\"\n",
      "    },\n",
      "    {\n",
      "        \"fig_caption\": \"Structure of JuanDm elements in strain y; cn bw sp. (a) The full-size JuanDm element is represented as a white box, with two overlapping ORFs indicated as arrows. Positions of SpeI and ClaI restriction sites are shown and the black box above the element indicates the PCR fragment used as a probe in Figure 5a. Thick lines below represent the seven completely sequenced JuanDm elements found in Release 1. The internal deletion in element 5 is indicated as a gray region. (b) Sequences of integration sites of JuanDm elements shown in (a). Target site duplications are shown in bold and underlined. The 5'-most and 3'-most nucleotides of each element are shown in italics and separated by dots. For full-length elements, alignments in 5' region have been made to show variation in the 5' junction. The sequences of elements correspond to the following coordinates in release 1: 1, 13235891-13240123 in AE002787; 2, reverse complement of 7828981-7833212 in AE002566; 3, 4591855 4596087 in AE002593; 4, 268307-272538 in AE002629; 5, reverse complement of 7363833-7366823 in AE002708; 6, 874492-877244 in AE002638; 7, 2582603-2583169 in AE002602.\",\n",
      "        \"fig_id\": \"F3\",\n",
      "        \"fig_label\": \"Figure 3\",\n",
      "        \"graphic_ref\": \"a:\\\\Vishal\\\\BiomedCLIP_data_pipeline\\\\_results\\\\data\\\\pubmed_open_access_files\\\\PMC16141\\\\gb-2000-1-6-research0012-3.jpg\",\n",
      "        \"pair_id\": \"11178266_F3\"\n",
      "    },\n",
      "    {\n",
      "        \"fig_caption\": \"Alignments of complete amino acid sequences of Juan ORF1 and ORF2. (a) ORF1; (b) ORF2. Identical residues are in highlighted in black, conserved residues are shaded in dark gray, and similar residues are shaded in light gray. Alignments and shadings were performed with VectorNTI software. The sequence of Juan-A in Aedes aegypti is from accession number M95171, the sequence of Juan-C in Culex pipiens is from M91082, the sequence of JuanDm in D. melanogaster is from AC005452 (coordinates 3425-7660).\",\n",
      "        \"fig_id\": \"F4\",\n",
      "        \"fig_label\": \"Figure 4\",\n",
      "        \"graphic_ref\": \"a:\\\\Vishal\\\\BiomedCLIP_data_pipeline\\\\_results\\\\data\\\\pubmed_open_access_files\\\\PMC16141\\\\gb-2000-1-6-research0012-4.jpg\",\n",
      "        \"pair_id\": \"11178266_F4\"\n",
      "    },\n",
      "    {\n",
      "        \"fig_caption\": \"Southern blot analyses of JuanDm and You in various Drosophila species. Each lane contains 3 \\u03bcg genomic DNA of the Drosophila melanogaster Cha strain (mel), D. simulans (sim), D. mauritiana (mau), D. teissieri (tei), D. yakuba (yak) and D. virilis (vir). (a) The genomic DNA was digested with SpeI and ClaI and hybridized with a JuanDm-specific probe (see Figure 3). (b) The genomic DNA was digested with SmaI and SacI and hybridized with a You-specific probe (see Figure 6).\",\n",
      "        \"fig_id\": \"F5\",\n",
      "        \"fig_label\": \"Figure 5\",\n",
      "        \"graphic_ref\": \"a:\\\\Vishal\\\\BiomedCLIP_data_pipeline\\\\_results\\\\data\\\\pubmed_open_access_files\\\\PMC16141\\\\gb-2000-1-6-research0012-5.jpg\",\n",
      "        \"pair_id\": \"11178266_F5\"\n",
      "    },\n",
      "    {\n",
      "        \"fig_caption\": \"Structure of You elements in strain y; cn bw sp. (a) The full-size You element is represented as a white box, with the two ORFs indicated as arrows. Positions of SmaI and SacI restriction sites are shown and the black box above the element indicates the PCR fragment used as a probe in Figure 5b. Thick lines below represent full-size (1-3) and 5' truncated (4) You elements found in Release 1. The internal deletion in element 3 is indicated as a gray region. (b) Sequences of integration sites of You elements shown in (a). Target site duplications are shown in bold and underlined. The most 5' and 3' nucleotides of each element are shown in italics and separated by dots. For full-length elements, alignments in 5' region have been made to show variation in the 5' junction. The sequences of elements corespond to following coordinates in release 1: 1, 56440-61816 in AE002620; 2, 2419411-2424785 in AE002647; 3, reverse complement of 1119136-1124111 in AE002566; 4, reverse complement of 5105-6524 in AE002601.\",\n",
      "        \"fig_id\": \"F6\",\n",
      "        \"fig_label\": \"Figure 6\",\n",
      "        \"graphic_ref\": \"a:\\\\Vishal\\\\BiomedCLIP_data_pipeline\\\\_results\\\\data\\\\pubmed_open_access_files\\\\PMC16141\\\\gb-2000-1-6-research0012-6.jpg\",\n",
      "        \"pair_id\": \"11178266_F6\"\n",
      "    },\n",
      "    {\n",
      "        \"fig_caption\": \"Alignments of complete amino acid sequences from You and I elements ORF1 and ORF2. (a) ORF1; (b) ORF2. Identical residues are highlighted in black, similar residues are in light gray. Alignment and shading was performed with VectorNTI software. The sequence of I is from accession number M14954 corrected according to [42], the sequence of You is from AL03893 (coordinates 1-5255) and AL022018 (coordinates 38180-38397) assembled manually.\",\n",
      "        \"fig_id\": \"F7\",\n",
      "        \"fig_label\": \"Figure 7\",\n",
      "        \"graphic_ref\": \"a:\\\\Vishal\\\\BiomedCLIP_data_pipeline\\\\_results\\\\data\\\\pubmed_open_access_files\\\\PMC16141\\\\gb-2000-1-6-research0012-7.jpg\",\n",
      "        \"pair_id\": \"11178266_F7\"\n",
      "    }\n",
      "]\n",
      "[\n",
      "    {\n",
      "        \"fig_caption\": \"Multiple alignments of two domains comprising an interkingdom domian fusion. Alignments of (a) the PHP-hydrolase domain [4] and (b) the pyruvate formate lyase activating enzyme domain of the IKF protein aq_2060 from A. aeolicus. The sequences of the aq_2060 domains are placed with the most similar sequences of the corresponding stand-alone enzymes, bacterial ones in the case of PHP-hydrolase and archaeal ones in the case of the pyruvate formate lyase activating enzyme. The phylogenetic trees produced form these alignments are shown in Figure 2c. The numbers in parentheses show the lengths of regions between the aligned blocks that are not shown. The consensus includes amino acid residues and residue classes that are conserved in 75% of the aligned sequences; the residue classes are as follows: h, hydrophobic; l, aliphatic; a, aromatic; s, small; u, tiny; p, polar; b, big; t, residues with high turn-forming propensity. Asterisks show the predicted active site residues; note the replacements in some of the sequences that are predicted to be inactivated versions of the respective enzymes (see text). The alignments were colored using the BOXSHADE program [30]; individual residues conserved in at least 50% of the aligned sequences are in red; residues similar to the conserved ones and groups of conserved similar residues are in blue.\",\n",
      "        \"fig_id\": \"F1\",\n",
      "        \"fig_label\": \"Figure 1\",\n",
      "        \"graphic_ref\": \"a:\\\\Vishal\\\\BiomedCLIP_data_pipeline\\\\_results\\\\data\\\\pubmed_open_access_files\\\\PMC16144\\\\gb-2000-1-6-research0013-1.jpg\",\n",
      "        \"pair_id\": \"11178267_F1\"\n",
      "    },\n",
      "    {\n",
      "        \"fig_caption\": \"Examples of phylogenetic trees supporting the contribution of interkingdom horizontal gene transfer to the emergence of interkingdom domain fusions. The names of proteins from different primary kingdoms are color-coded: black, bacterial; pink, archaeal; green, eukaryotic; the domains involved in the apparent IKF are shown in red. Red circles show nodes with bootstrap support >70%, and yellow circles show nodes with 50-70% support. The bar unit corresponds to 0.1 substitutions per site (10 PAM). (a) IKF: Rv1683 (gi| 7476858) from M. tuberculosis. Fusion of a bacterial poly(3-hydroxy-butyrate) (PHB) synthase and eukaryotic very long chain acyl-CoA synthetase. Note the absence of eukaryotic homologs in the PHB synthase tree and of bacterial homologs other than the two from M. leprae in the acyl-CoA synthetase tree. (b) IKF: yeast YOL066c (gi|6324506). Fusion of a eukaryotic pesudouridylate synthetase with a bacterial pyrimidine deaminase. Note the absence of eukaryotic homologs, other than that from S. pombe, in the pyrimidine deaminase tree. (c) IKF: aq_2060 (gi|2984285) from Aquifex aeolicus. This protein is a fusion of a PHP superfamily hydrolase of apparent bacterial origin and a pyruvate formate-lyase activating enzyme of archaeal origin. (d) IKF: yeast YOL055c (gi|1419865), YPL258c (gi|2132251) and YPR121w (gi|2132289) from S. cerevisiae. Fusion of a eukaryotic phosphomethylpyrimidine kinase and a bacterial transcriptional activator. Species abbreviations: Bac.meg., Bacillus megaterium; Chr.vin., Chromatium vinosum; Thi.vi., Thiocystis violacea; Am.med., Amycolatopsis mediterranei; Coch.het., Cochliobolus heterostrophus; Dme, Drosophila melanogaster; Cel, Caenorhabditis elegans; Mus, Mus musculus; Spo, Schizosaccharomyces pombe; Ath, Arabidopsis thaliana; Strep.co., Streptomyces coelicolor; The.nea., Thermotoga neapolitana; Bac. am, Bacillus amyloliquefaciens; Shi.fl., Shigella flexneri; Hsa, Homo sapiens.\",\n",
      "        \"fig_id\": \"F2\",\n",
      "        \"fig_label\": \"Figure 2\",\n",
      "        \"graphic_ref\": \"a:\\\\Vishal\\\\BiomedCLIP_data_pipeline\\\\_results\\\\data\\\\pubmed_open_access_files\\\\PMC16144\\\\gb-2000-1-6-research0013-2.jpg\",\n",
      "        \"pair_id\": \"11178267_F2\"\n",
      "    },\n",
      "    {\n",
      "        \"fig_caption\": \"Overall numbers of domain fusions estimated using the COGs and interkingdom domain fusions encoded in completely sequenced genomes. The data for estimating the overall number of domain fusions were from the current COG release [6], which does not include several bacterial and archaeal species (for example, Aeropyrum pernix and Deinococcus radiodurans) that have been analyzed in the present work (Table 1). Accordingly, the data for these genomes are not shown in the figure. Species name abbreviations: Af, Archaeoglobus fulgidus; Mj, Methanococcus jannaschii; Mth, Methanobacterium thermoautotrophicum; Ph, Pyrococcus horikoshii; Sc, Saccharomyces cerevisiae; Aa, Aquifex aeolicus; Tm, Thermotoga maritima; Ssp, Synechocystis sp.; Ec, Escherichia coli; Bs, Bacillus subtilis; Mtu, Mycobacterium tuberculosis; Hi, Haemophilus influenzae; Hp, Helicobacter pylori; Mg; Mycoplasma genitalium; Mp, Mycoplasma pneumoniae; Bb, Borrelia burgdorferi; Tp, Treponema pallidum; Ct, Chlamydia trachomatis; Cp, Chlamydophila pneumoniae; Rp, Rickettsia prowazekii.\",\n",
      "        \"fig_id\": \"F3\",\n",
      "        \"fig_label\": \"Figure 3\",\n",
      "        \"graphic_ref\": \"a:\\\\Vishal\\\\BiomedCLIP_data_pipeline\\\\_results\\\\data\\\\pubmed_open_access_files\\\\PMC16144\\\\gb-2000-1-6-research0013-3.jpg\",\n",
      "        \"pair_id\": \"11178267_F3\"\n",
      "    },\n",
      "    {\n",
      "        \"fig_caption\": \"Multidomain architectures of interkingdom fusion proteins and their homologs (examples). (a) The three-domain uridine kinase; (b) the sialic acid synthase homologous domain fused to hydroxymethylpyrimidine phosphate kinase. Domain name abbreviations: TTRS, threonyl-tRNA synthetase; UDK, uridine kinase; TGS and H3H, amino-terminal domains of TTRS; HMP-PK, hydroxymethylpyrimidine phosphate kinase; SISH, sialic acid synthase homologous domain; HTH, helix-turn-helix DNA-binding domain. Different shades represent distinct sequence families of each domain. Species name abbreviations: Tp, Treponema pallidum; Tm, Thermotoga maritima; Mth, Methanobacterium thermoautotrophicum; Mj, Methanococcus jannaschii; Ap, Aeropyrum pernix; Ph, Pyrococcus horikoshii; Pa, Pyrococcus abyssii.\",\n",
      "        \"fig_id\": \"F4\",\n",
      "        \"fig_label\": \"Figure 4\",\n",
      "        \"graphic_ref\": \"a:\\\\Vishal\\\\BiomedCLIP_data_pipeline\\\\_results\\\\data\\\\pubmed_open_access_files\\\\PMC16144\\\\gb-2000-1-6-research0013-4.jpg\",\n",
      "        \"pair_id\": \"11178267_F4\"\n",
      "    }\n",
      "]\n",
      "[\n",
      "    {\n",
      "        \"fig_caption\": \"ANU265 clones that carry RIME1 repeats. ANU265 clones are numbered in bold in the first column and the RIME1 repeat consensus sequence is shown in bold on top row of the alignment. Positions in the ANU265 sequences of the initial and final bases in each alignment are given in the 5' and 3' columns, respectively. Partial alignments represent RIME repeats covering either the end (filled diamonds) or the beginning (filled triangle) of the established sequence. The two palindromic structures of RIME1 are shaded in gray. Internal inverted repeats are shown in matching colors. Gaps (marked with red hyphens) and single-nucleotide deletions (inverted red triangles) were introduced for optimal alignment. Base mismatches are colored in red. Arrows mark clones that encode putative proteins. N, any base; Y indicates C or T, R indicates A or G.\",\n",
      "        \"fig_id\": \"F1\",\n",
      "        \"fig_label\": \"Figure 1\",\n",
      "        \"graphic_ref\": \"a:\\\\Vishal\\\\BiomedCLIP_data_pipeline\\\\_results\\\\data\\\\pubmed_open_access_files\\\\PMC16145\\\\gb-2000-1-6-research0014-1.jpg\",\n",
      "        \"pair_id\": \"11178268_F1\"\n",
      "    }\n",
      "]\n",
      "[\n",
      "    {\n",
      "        \"fig_caption\": \"Cluster analyses showing expression patterns by gene and larval group. Pink, young bipotential larvae; green, worker-destined larvae; blue, queen-destined larvae. Green cells represent relatively low levels of expression, dark gray cells represent moderate expression levels, and red cells represent higher expression. Bars to the left of the array reflect boundaries of genes with relatively high expression in queens (blue), workers and young larvae (pink and green) and workers alone (green).\",\n",
      "        \"fig_id\": \"F1\",\n",
      "        \"fig_label\": \"Figure 1\",\n",
      "        \"graphic_ref\": \"a:\\\\Vishal\\\\BiomedCLIP_data_pipeline\\\\_results\\\\data\\\\pubmed_open_access_files\\\\PMC17597\\\\gb-2000-2-1-research0001-1.jpg\",\n",
      "        \"pair_id\": \"11178278_F1\"\n",
      "    },\n",
      "    {\n",
      "        \"fig_caption\": \"Proportional expression levels of specific genes. (a) Genes with high expression in young larvae (Y). (b) Genes with high expression in worker larvae (W). (c) Genes with high expression in queen larvae (Q). Normalized expression levels are shown, with standard error bars. FABP is a fatty-acid-binding protein and 52A9 is an oxidoreductase.\",\n",
      "        \"fig_id\": \"F2\",\n",
      "        \"fig_label\": \"Figure 2\",\n",
      "        \"graphic_ref\": \"a:\\\\Vishal\\\\BiomedCLIP_data_pipeline\\\\_results\\\\data\\\\pubmed_open_access_files\\\\PMC17597\\\\gb-2000-2-1-research0001-2.jpg\",\n",
      "        \"pair_id\": \"11178278_F2\"\n",
      "    }\n",
      "]\n",
      "[\n",
      "    {\n",
      "        \"fig_caption\": \"L4440 double-T7 vector inside HT115 RNase-deficient E. coli. A fragment from the gene of interest is amplified by PCR and cloned into the L4440 double-T7 vector, which has two T7 promoters in inverted orientation flanking the multiple cloning site [4]. Cloned plasmids are transformed into HT115(DE3), an RNase III-deficient E. coli strain with IPTG-inducible expression of T7 polymerase (L. Timmons and A. Fire, personal communication).\",\n",
      "        \"fig_id\": \"F1\",\n",
      "        \"fig_label\": \"Figure 1\",\n",
      "        \"graphic_ref\": \"a:\\\\Vishal\\\\BiomedCLIP_data_pipeline\\\\_results\\\\data\\\\pubmed_open_access_files\\\\PMC17598\\\\gb-2000-2-1-research0002-1.jpg\",\n",
      "        \"pair_id\": \"11178279_F1\"\n",
      "    },\n",
      "    {\n",
      "        \"fig_caption\": \"Tissue susceptibility to RNAi by feeding. Worms with a transgenic GFP reporter gene expressed in all somatic tissues (egl-27::gfp) were fed (a) non-dsRNA expressing bacteria or (b-e) bacteria expressing gfp dsRNA for (b) 24 h, (c) 48 h, (d) 72 h, or (e) 96 h. After being fed for 24 h, GFP expression was markedly reduced (b) compared to similarly treated unfed worms (a). (c) Of worms fed for 48 h, none had any visible non-neural GFP expression, and 20/22 (91%) had reduced levels of neural GFP. (d) After 72 h, 93% had no non-neural somatic GFP expression (the remaining 7% had very weak expression), and 28/30 (93%) had reduced neural GFP. (e) Finally, after being fed for 96 h, no worms had any non-neural GFP expression, and 26/27 (96%) also had reduced levels of neural GFP compared with similarly treated unfed worms. The head of each worm (from the nose to the posterior pharynx), which contains the majority of the neurons in the animal, is indicated with a bracket.\",\n",
      "        \"fig_id\": \"F2\",\n",
      "        \"fig_label\": \"Figure 2\",\n",
      "        \"graphic_ref\": \"a:\\\\Vishal\\\\BiomedCLIP_data_pipeline\\\\_results\\\\data\\\\pubmed_open_access_files\\\\PMC17598\\\\gb-2000-2-1-research0002-2.jpg\",\n",
      "        \"pair_id\": \"11178279_F2\"\n",
      "    },\n",
      "    {\n",
      "        \"fig_caption\": \"Embryonic phenotypes from RNAi by feeding versus injection. (a) Wild-type N2 embryos divide with the AB (anterior cell) spindle oriented along the dorso-ventral axis and the P1 (posterior cell) spindle along the AP axis to create a four-cell embryo (d). In wild-type embryos, AB is larger and divides slightly before P1. For par-2, RNAi by both (b) feeding and (c) injection results in embryos in which AB and P1 are of equal size and divide synchronously, with both spindles oriented along the dorso-ventral axis. Embryos in (a-c) are undergoing the second mitotic divisions. For bir-1, RNAi by both (e) feeding and (f) injection results in embryos that do not complete cytokinesis and thus form a single multinucleate cell. Embryos in (d-f) have undergone two rounds of mitosis. Anterior is to the left in all panels.\",\n",
      "        \"fig_id\": \"F3\",\n",
      "        \"fig_label\": \"Figure 3\",\n",
      "        \"graphic_ref\": \"a:\\\\Vishal\\\\BiomedCLIP_data_pipeline\\\\_results\\\\data\\\\pubmed_open_access_files\\\\PMC17598\\\\gb-2000-2-1-research0002-3.jpg\",\n",
      "        \"pair_id\": \"11178279_F3\"\n",
      "    },\n",
      "    {\n",
      "        \"fig_caption\": \"Large-scale comparison of RNAi by feeding versus injection. The first 1,200 predicted genes from chromosome I were screened by feeding [21]. Those genes with a phenotype were subjected to RNAi by injection, and results obtained by the two methods were compared according to phenotypic class - embryonic lethal (Emb), sterile (Ste), or post-embryonic (PostEmb; see the Materials and methods section for scoring criteria). Data shown compare results from three worms subjected to RNAi by feeding or injection.\",\n",
      "        \"fig_id\": \"F4\",\n",
      "        \"fig_label\": \"Figure 4\",\n",
      "        \"graphic_ref\": \"a:\\\\Vishal\\\\BiomedCLIP_data_pipeline\\\\_results\\\\data\\\\pubmed_open_access_files\\\\PMC17598\\\\gb-2000-2-1-research0002-4.jpg\",\n",
      "        \"pair_id\": \"11178279_F4\"\n",
      "    }\n",
      "]\n",
      "[\n",
      "    {\n",
      "        \"fig_caption\": \"Algorithm 1: Tree harvesting.\",\n",
      "        \"fig_id\": \"F0\",\n",
      "        \"fig_label\": \"Box 1\",\n",
      "        \"graphic_ref\": \"a:\\\\Vishal\\\\BiomedCLIP_data_pipeline\\\\_results\\\\data\\\\pubmed_open_access_files\\\\PMC17599\\\\gb-2001-2-1-research0003-0.jpg\",\n",
      "        \"pair_id\": \"11178280_F0\"\n",
      "    },\n",
      "    {\n",
      "        \"fig_caption\": \"The DLCL expression matrix, with rows and columns ordered according to a hierarchical clustering applied separately to the rows and columns.\",\n",
      "        \"fig_id\": \"F1\",\n",
      "        \"fig_label\": \"Figure 1\",\n",
      "        \"graphic_ref\": \"a:\\\\Vishal\\\\BiomedCLIP_data_pipeline\\\\_results\\\\data\\\\pubmed_open_access_files\\\\PMC17599\\\\gb-2001-2-1-research0003-1.jpg\",\n",
      "        \"pair_id\": \"11178280_F1\"\n",
      "    },\n",
      "    {\n",
      "        \"fig_caption\": \"Scores for each cluster, from the first stage of the harvest procedure. The green horizontal line is drawn at (1 - \\u03b1) times the maximum score, with \\u03b1 = 0.1. The largest cluster having a score above this line is chosen, indicated by the blue plotting symbol.\",\n",
      "        \"fig_id\": \"F2\",\n",
      "        \"fig_label\": \"Figure 2\",\n",
      "        \"graphic_ref\": \"a:\\\\Vishal\\\\BiomedCLIP_data_pipeline\\\\_results\\\\data\\\\pubmed_open_access_files\\\\PMC17599\\\\gb-2001-2-1-research0003-2.jpg\",\n",
      "        \"pair_id\": \"11178280_F2\"\n",
      "    },\n",
      "    {\n",
      "        \"fig_caption\": \"Lymphoma data. Clusters from tree harvest procedure, with columns in (expected) survival time order.\",\n",
      "        \"fig_id\": \"F3\",\n",
      "        \"fig_label\": \"Figure 3\",\n",
      "        \"graphic_ref\": \"a:\\\\Vishal\\\\BiomedCLIP_data_pipeline\\\\_results\\\\data\\\\pubmed_open_access_files\\\\PMC17599\\\\gb-2001-2-1-research0003-3.jpg\",\n",
      "        \"pair_id\": \"11178280_F3\"\n",
      "    },\n",
      "    {\n",
      "        \"fig_caption\": \"Lymphoma data. Training error curve (upper curve) and cross-validation error curve (lower curve with error bars).\",\n",
      "        \"fig_id\": \"F4\",\n",
      "        \"fig_label\": \"Figure 4\",\n",
      "        \"graphic_ref\": \"a:\\\\Vishal\\\\BiomedCLIP_data_pipeline\\\\_results\\\\data\\\\pubmed_open_access_files\\\\PMC17599\\\\gb-2001-2-1-research0003-4.jpg\",\n",
      "        \"pair_id\": \"11178280_F4\"\n",
      "    },\n",
      "    {\n",
      "        \"fig_caption\": \"Survival curves of the two groups defined by the low or high expression of genes in the first cluster from tree harvesting. Group 1 has low gene expression, and group 2 has high gene expression. The survival in the groups is significantly different (p = 2.4 \\u00d7 10-5).\",\n",
      "        \"fig_id\": \"F5\",\n",
      "        \"fig_label\": \"Figure 5\",\n",
      "        \"graphic_ref\": \"a:\\\\Vishal\\\\BiomedCLIP_data_pipeline\\\\_results\\\\data\\\\pubmed_open_access_files\\\\PMC17599\\\\gb-2001-2-1-research0003-5.jpg\",\n",
      "        \"pair_id\": \"11178280_F5\"\n",
      "    },\n",
      "    {\n",
      "        \"fig_caption\": \"The seven clusters found by tree harvesting for predicting the tumor classes. They are ordered from top to bottom in terms of stepwise entry into the model. The vertical boundaries separate cancer classes.\",\n",
      "        \"fig_id\": \"F6\",\n",
      "        \"fig_label\": \"Figure 6\",\n",
      "        \"graphic_ref\": \"a:\\\\Vishal\\\\BiomedCLIP_data_pipeline\\\\_results\\\\data\\\\pubmed_open_access_files\\\\PMC17599\\\\gb-2001-2-1-research0003-6.jpg\",\n",
      "        \"pair_id\": \"11178280_F6\"\n",
      "    },\n",
      "    {\n",
      "        \"fig_caption\": \"Model deviance for the tumor data. The lower curve is on the training data, and reaches 0 after seven terms (a saturated fit). The 0th term is the constant fit. The upper curve is based on ten-fold cross-validation, where care was taken to balance the class distribution in each fold.\",\n",
      "        \"fig_id\": \"F7\",\n",
      "        \"fig_label\": \"Figure 7\",\n",
      "        \"graphic_ref\": \"a:\\\\Vishal\\\\BiomedCLIP_data_pipeline\\\\_results\\\\data\\\\pubmed_open_access_files\\\\PMC17599\\\\gb-2001-2-1-research0003-7.jpg\",\n",
      "        \"pair_id\": \"11178280_F7\"\n",
      "    },\n",
      "    {\n",
      "        \"fig_caption\": \"Plot of average expression for each of the first two clusters, with samples identified by cancer class. Some clear separation is apparent.\",\n",
      "        \"fig_id\": \"F8\",\n",
      "        \"fig_label\": \"Figure 8\",\n",
      "        \"graphic_ref\": \"a:\\\\Vishal\\\\BiomedCLIP_data_pipeline\\\\_results\\\\data\\\\pubmed_open_access_files\\\\PMC17599\\\\gb-2001-2-1-research0003-8.jpg\",\n",
      "        \"pair_id\": \"11178280_F8\"\n",
      "    },\n",
      "    {\n",
      "        \"fig_caption\": \"Lymphoma data: clusters from tree harvest nonlinear model, with columns in (expected) survival time order.\",\n",
      "        \"fig_id\": \"F9\",\n",
      "        \"fig_label\": \"Figure 9\",\n",
      "        \"graphic_ref\": \"a:\\\\Vishal\\\\BiomedCLIP_data_pipeline\\\\_results\\\\data\\\\pubmed_open_access_files\\\\PMC17599\\\\gb-2001-2-1-research0003-9.jpg\",\n",
      "        \"pair_id\": \"11178280_F9\"\n",
      "    }\n",
      "]\n",
      "[\n",
      "    {\n",
      "        \"fig_caption\": \"Immunolocalization of the vitamin D receptor (VDR) in rheumatoid tissues. (a) Immunolocalization of VDR in rheumatoid synovium. Note positive red immunostaining of fibroblastic cells. (Counterstain Harris's haematoxylin; bar = 25 \\u03bcm.) (b) Demonstration of VDR in cartilage from a rheumatoid joint. Note both positive and negative chondrocytes. (Counterstain Harris's haematoxylin; bar = 20 \\u03bcm.) (c) VDR immunolocalization at the cartilage-pannus junction; cells within both pannus tissue and cartilage can be seen to be expressing the receptor. (Counterstain toluidine blue; bar = 25 \\u03bcm.)\",\n",
      "        \"fig_id\": \"F1\",\n",
      "        \"fig_label\": \"Figure 1\",\n",
      "        \"graphic_ref\": \"a:\\\\Vishal\\\\BiomedCLIP_data_pipeline\\\\_results\\\\data\\\\pubmed_open_access_files\\\\PMC17774\\\\ar-1-1-063-1.jpg\",\n",
      "        \"pair_id\": \"11056661_F1\"\n",
      "    },\n",
      "    {\n",
      "        \"fig_caption\": \"The effects of 1\\u03b1,25-hydroxyvitamin D3 (1,25) on matrix metalloproteinase (MMP)-1, MMP-3 and MMP-9 production by rheumatoid synovial fibroblasts (RSFs) after 48 h incubation. (a) MMP-1 production by RSFs (n = 3) showing normalized values for control; + 1,25 (10-8 mol/l); + interleukin (IL)-1\\u03b2 (0.05 ng/ml); and + IL-1\\u03b2 and 1,25 (0.05 ng/ml and 10-8 mol/l, respectively). Before normalization, control values for MMP-1 were in the range 50\\u2013200 ng/ml culture medium/106 cells per 48 h. (b) MMP-3 production by RSF (n = 3) showing normalized values for control; + 1,25; + IL-1\\u03b2; and + IL-1\\u03b2 and 1,25. Before normalization, control values for MMP-3 were in the range 10\\u201340 ng/ml culture medium/106 cells per 48 h. (c) MMP-9 production by RSFs (n = 3) showing normalized values for control; + 1,25; + IL-1\\u03b2; and +IL-1\\u03b2 and 1,25. Before normalization, control values for MMP-9 were in the range 10-50 ng/ml culture medium/106 cells per 48 h. Values are shown as means \\u00b1 SEM.\",\n",
      "        \"fig_id\": \"F2\",\n",
      "        \"fig_label\": \"Figure 2\",\n",
      "        \"graphic_ref\": \"a:\\\\Vishal\\\\BiomedCLIP_data_pipeline\\\\_results\\\\data\\\\pubmed_open_access_files\\\\PMC17774\\\\ar-1-1-063-2.jpg\",\n",
      "        \"pair_id\": \"11056661_F2\"\n",
      "    },\n",
      "    {\n",
      "        \"fig_caption\": \"The effects of 1\\u03b1,25-hydroxyvitamin D3 (1,25) on matrix metalloproteinase (MMP)-1 and MMP-3 production by human articular chondrocytes (HACs) after 48 h incubation. (a) MMP-1 production by HAC (n = 3) showing normalized data for control; + 1,25 (10-8 mol/l); + interleukin (IL)-1\\u03b2 (0.05 ng/ml); and + IL-1\\u03b2 and 1,25 (0.05 ng/ml and 10-8 mol/l, respectively). Before normalization, control values for MMP-1 were in the range 50\\u2013150 ng/ml culture medium/106 cells per 48 h. (b) MMP-3 production by HAC (n = 3) showing normalized data for control; +1,25; + IL-1\\u03b2; and + IL-1\\u03b2 and 1,25. Before normalization, control values for MMP-3 were in the range 10\\u201340 ng/ml culture medium/106 cells per 48 h. Values are shown as means \\u00b1 SEM.\",\n",
      "        \"fig_id\": \"F3\",\n",
      "        \"fig_label\": \"Figure 3\",\n",
      "        \"graphic_ref\": \"a:\\\\Vishal\\\\BiomedCLIP_data_pipeline\\\\_results\\\\data\\\\pubmed_open_access_files\\\\PMC17774\\\\ar-1-1-063-3.jpg\",\n",
      "        \"pair_id\": \"11056661_F3\"\n",
      "    },\n",
      "    {\n",
      "        \"fig_caption\": \"The effects of 1\\u03b1,25-hydroxyvitamin D3 (1,25) on prostaglandin E2 (PGE2) production by rheumatoid synovial fibroblasts (RSFs) and human articular chondrocytes (HACs) after 48 h incubation. (a)PGE2production by RSFs (n = 3) showing normalized data for control; + 1,25 (10-8 mol/l); + interleukin (IL)-1\\u03b2 (0.05 ng/ml); and + IL-1\\u03b2 and 1,25 (0.05 ng/ml and 10-8 mol/l, respectively). Before normalization, control values for PGE2 production by RSFs were in the range 500\\u20132000 pg/ml culture medium/106 cells per 48 h. (b) PGE2 production by HACs (n = 3) showing normalized data for control; + 1,25; + IL-1\\u03b2; and + IL-1\\u03b2 and 1,25. Before normalization control values for PGE2 production by HAC were in the range 100\\u2013300 pg/ml culture medium/106 cells per 48 h. (c) Normalized data for PGE2production by IL-1\\u03b2-stimulated RSFs after preincubation with 1\\u03b1,25(OH)2D3, as follows: A, control; B, +IL-1\\u03b2; C, 1,25 + IL-1\\u03b2; D, 1 h preincubation with 1,25, then + IL-1\\u03b2 and 1,25; E, 16 h preincubation with 1,25, then IL-1\\u03b2 + 1,25; F, 16 h preincubation with 1,25, then IL-1\\u03b2 alone. Values are shown as means \\u00b1 SEM.\",\n",
      "        \"fig_id\": \"F4\",\n",
      "        \"fig_label\": \"Figure 4\",\n",
      "        \"graphic_ref\": \"a:\\\\Vishal\\\\BiomedCLIP_data_pipeline\\\\_results\\\\data\\\\pubmed_open_access_files\\\\PMC17774\\\\ar-1-1-063-4.jpg\",\n",
      "        \"pair_id\": \"11056661_F4\"\n",
      "    }\n",
      "]\n",
      "[\n",
      "    {\n",
      "        \"fig_caption\": \"Original fingerprint [RNA arbitrarily primed (RAP)-polymerase chain reaction (PCR)] of RNA of synovial fibroblasts derived from 10 different patients with rheumatoid arthritis and six patients with osteoarthritis. Each RAP-PCR was performed in triplicate using three different RNA concentrations. Left two lanes: DNA marker. Triplicate lanes 1\\u201310 show the RAP-PCR of the synovial fibroblasts of the 10 rheumatoid arthritis patients, and lanes 11\\u201316 show the RAP-PCR of those of the osteoarthritis patients. The arrow indicates the differentially displayed gene fragment seen in the rheumatoid arthritis patients (434 base pairs), which was used for subsequent analysis.\",\n",
      "        \"fig_id\": \"F1\",\n",
      "        \"fig_label\": \"Figure 1\",\n",
      "        \"graphic_ref\": \"a:\\\\Vishal\\\\BiomedCLIP_data_pipeline\\\\_results\\\\data\\\\pubmed_open_access_files\\\\PMC17776\\\\ar-1-1-071-1.jpg\",\n",
      "        \"pair_id\": \"11056662_F1\"\n",
      "    },\n",
      "    {\n",
      "        \"fig_caption\": \"Quantitative reverse transcription polymerase chain reaction of the CENP-E gene segment followed by phosphor imaging densitometry evaluation. The polymerase chain reaction MIMIC\\u00ae technique was used. (a) Significant upregulation in CENP-E in eight out of 12 rheumatoid arthritis synovial fibroblast cultures (white bars) as compared with all osteoarthritis fibroblast cultures (dotted bar; total n = 4); whereas four rheumatoid arthritis fibroblast populations did not show an upregulation in CENP-E upregulation (black bars). Values are shown as phosphor imager arbitrary units (PAU, mean \\u00b1 standard error of the mean). Each MIMIC\\u00ae was performed in quadruplicate. P < 0.05 was considered statistically significant. (b) Significant upregulation in six additional rheumatoid arthritis synovial fibroblast cultures (white bars) as compared with psoriatic arthritis fibroblasts (generous gift from E M\\u00e4rker-Herrmann, University of Mainz, Germany). Ratio of intensities are shown (when compared to standard 18S RNA).\",\n",
      "        \"fig_id\": \"F2\",\n",
      "        \"fig_label\": \"Figure 2\",\n",
      "        \"graphic_ref\": \"a:\\\\Vishal\\\\BiomedCLIP_data_pipeline\\\\_results\\\\data\\\\pubmed_open_access_files\\\\PMC17776\\\\ar-1-1-071-2.jpg\",\n",
      "        \"pair_id\": \"11056662_F2\"\n",
      "    },\n",
      "    {\n",
      "        \"fig_caption\": \"Immunocytochemistry of cultured rheumatoid arthritis fibroblasts using monoclonal antibodies against human CENP-E protein [10,11]. Note the strong expression of CENP-E protein rheumatoid fibroblasts (a) in comparison with the absence of CENP-E protein in osteoarthritis fibroblasts (b). (c) The positive control was performed with antifibroblast antibodies. Immunogold-silver staining, original magnifications  \\u00d7 800 (a, b) and  \\u00d7 1000 (c).\",\n",
      "        \"fig_id\": \"F3\",\n",
      "        \"fig_label\": \"Figure 3\",\n",
      "        \"graphic_ref\": \"a:\\\\Vishal\\\\BiomedCLIP_data_pipeline\\\\_results\\\\data\\\\pubmed_open_access_files\\\\PMC17776\\\\ar-1-1-071-3.jpg\",\n",
      "        \"pair_id\": \"11056662_F3\"\n",
      "    },\n",
      "    {\n",
      "        \"fig_caption\": \"Demonstration of CENP-E messenger RNA and protein in rheumatoid synovium by in situ hybridization and immunohistochemistry. (a, b) A digoxigenin-labelled RNA probe transcribed from the amplified RNA arbitrarily primed-PCR gene product is used on rheumatoid arthritis snap-frozen sections. Double-labelling for CENP-E messenger RNA (black staining), and alkaline phosphatase antialkaline phosphatase counterstaining using anti-fibroblast antibodies (red staining) shows CENP-E expression in numerous fibroblasts througout the synovium (a, arrows). (b) The intensive CENP-E messenger RNA expression in two synovial fibroblasts. (c) Shows numerous fibroblasts expressing CENP-E protein [black staining (arrows), counterstaining with fast red]. Original magnifications  \\u00d7 300 (a, c) and  \\u00d7 600 (b).\",\n",
      "        \"fig_id\": \"F4\",\n",
      "        \"fig_label\": \"Figure 4\",\n",
      "        \"graphic_ref\": \"a:\\\\Vishal\\\\BiomedCLIP_data_pipeline\\\\_results\\\\data\\\\pubmed_open_access_files\\\\PMC17776\\\\ar-1-1-071-4.jpg\",\n",
      "        \"pair_id\": \"11056662_F4\"\n",
      "    },\n",
      "    {\n",
      "        \"fig_caption\": \"CENP-E regulation. The figure shows CENP-E messenger RNA in CENP-E high (right lanes 3/4, 7/8, 11/12 and 15/16) and CENP-E low (left lanes 1/2, 5/6, 9/10 and 13/14) expressing rheumatoid arthritis synovial fibroblast populations after different prednisolone exposure (lanes 1\\u20138) and serum starvation (lanes 9\\u201312). As compared with unstimulated fibroblasts (lanes 13\\u201316) no significant alteration in CENP-E messenger RNA expression, either in CENP-E high- or in CENP-E low-expressing fibroblast populations, can be observed after prednisolone exposure. Serum starvation was also not able to suppress CENP-E messenger RNA completely (lanes 9\\u201312).\",\n",
      "        \"fig_id\": \"F5\",\n",
      "        \"fig_label\": \"Figure 5\",\n",
      "        \"graphic_ref\": \"a:\\\\Vishal\\\\BiomedCLIP_data_pipeline\\\\_results\\\\data\\\\pubmed_open_access_files\\\\PMC17776\\\\ar-1-1-071-5.jpg\",\n",
      "        \"pair_id\": \"11056662_F5\"\n",
      "    }\n",
      "]\n",
      "[\n",
      "    {\n",
      "        \"fig_caption\": \"Effects in mice of treatment with interleukin-4 or control on\\n\\t\\t\\t\\tdisease activity, cartilage damage and bone destruction. Mice were treated\\n\\t\\t\\t\\tintraperitoneally for 7 days with either vehicle (control) or 1 \\u03bcg/day\\n\\t\\t\\t\\tinterleukin-4 (IL-4). CIA, collagen-induced arthritis. *P\\n\\t\\t\\t\\t<  0.05, versus control, by Mann-Whitney U test.\",\n",
      "        \"fig_id\": \"F1\",\n",
      "        \"fig_label\": \"Figure 1\",\n",
      "        \"graphic_ref\": \"a:\\\\Vishal\\\\BiomedCLIP_data_pipeline\\\\_results\\\\data\\\\pubmed_open_access_files\\\\PMC17779\\\\ar-1-1-081-1.jpg\",\n",
      "        \"pair_id\": \"11056663_F1\"\n",
      "    },\n",
      "    {\n",
      "        \"fig_caption\": \"Dose dependent suppression of disease activity of collagen-induced\\n\\t\\t\\t\\tarthritis (CIA) by interleukin (IL)-4 and the combination of IL-4/prednisolone\\n\\t\\t\\t\\t(Pred). Mice with established CIA were divided into separate groups of at least\\n\\t\\t\\t\\t10 mice. Groups were treated intraperitoneally twice a day with vehicle, IL-4,\\n\\t\\t\\t\\tprednisolone, or combined IL-4/prednisolone for 8 consecutive days. The data\\n\\t\\t\\t\\trepresent the mean arthritis score, expressed as percentage of initial value at\\n\\t\\t\\t\\tday 28. Experiments were repeated once with approximately the same outcome.\\n\\t\\t\\t\\t*P < 0.05, versus vehicle, by Mann-Whitney U test.\",\n",
      "        \"fig_id\": \"F2\",\n",
      "        \"fig_label\": \"Figure 2\",\n",
      "        \"graphic_ref\": \"a:\\\\Vishal\\\\BiomedCLIP_data_pipeline\\\\_results\\\\data\\\\pubmed_open_access_files\\\\PMC17779\\\\ar-1-1-081-2.jpg\",\n",
      "        \"pair_id\": \"11056663_F2\"\n",
      "    },\n",
      "    {\n",
      "        \"fig_caption\": \"Dose-dependent arrest of disease activity by treatment with\\n\\t\\t\\t\\tinterleukin (IL)-4 and IL-4/prednisolone (Pred). The enhanced disease activity\\n\\t\\t\\t\\tbetween days 28 and 35 of each individual mouse is expressed as change in\\n\\t\\t\\t\\t(\\u0394) disease activity. For treatment protocol, see Fig. 2. P < 0.05, versus vehicle, by Mann-Whitney U\\n\\t\\t\\t\\ttest.\",\n",
      "        \"fig_id\": \"F3\",\n",
      "        \"fig_label\": \"Figure 3\",\n",
      "        \"graphic_ref\": \"a:\\\\Vishal\\\\BiomedCLIP_data_pipeline\\\\_results\\\\data\\\\pubmed_open_access_files\\\\PMC17779\\\\ar-1-1-081-3.jpg\",\n",
      "        \"pair_id\": \"11056663_F3\"\n",
      "    },\n",
      "    {\n",
      "        \"fig_caption\": \"Interleukin (IL)-4 treatment reduced cartilage destruction,\\n\\t\\t\\t\\twhereas IL-4/prednisolone treatment additionally decreased cell influx.\\n\\t\\t\\t\\t(a) Knee joint from vehicle-treated mouse. Severe cartilage destruction\\n\\t\\t\\t\\tcan be seen. Empty lacunae reflects chondrocyte death as marker of cartilage\\n\\t\\t\\t\\tdestruction, indicated by arrows. (b) Knee joint of a mouse treated with\\n\\t\\t\\t\\tIL-4 1  \\u03bcg/kg/day for eight consecutive days. Note the reduced cartilage\\n\\t\\t\\t\\tdestruction and chondrocyte death. (c) Knee joint of vehicle-treated\\n\\t\\t\\t\\tanimal. Note the severe cell influx in synovial tissues and joint cavity.\\n\\t\\t\\t\\t(d) Knee joint of a mouse treated with IL-4/prednisolone (1  \\u03bcg per\\n\\t\\t\\t\\tday/0.05 mg per kg). Note the marked reduction of cell influx. All specimens\\n\\t\\t\\t\\twere sampled at day 35. P, patella; F, femur; JS, joint space; C, cartilage; S,\\n\\t\\t\\t\\tsynovium. Haematoxylin and eosin staining was used. Original magnifications:\\n\\t\\t\\t\\t\\u00d7 200 (a, b) and \\u00d7 100 (c, d).\",\n",
      "        \"fig_id\": \"F4\",\n",
      "        \"fig_label\": \"Figure 4\",\n",
      "        \"graphic_ref\": \"a:\\\\Vishal\\\\BiomedCLIP_data_pipeline\\\\_results\\\\data\\\\pubmed_open_access_files\\\\PMC17779\\\\ar-1-1-081-4.jpg\",\n",
      "        \"pair_id\": \"11056663_F4\"\n",
      "    },\n",
      "    {\n",
      "        \"fig_caption\": \"Effect of IL-4 or IL-4/prednisolone treatment on matrix\\n\\t\\t\\t\\tproteoglycan loss. (a) Knee joint of a control na\\u00efve mouse. The\\n\\t\\t\\t\\tfully stained cartilage layers indicate no loss of proteoglycans. (b)\\n\\t\\t\\t\\tKnee joint of an arthritic mouse treated with vehicle. Note the severe joint\\n\\t\\t\\t\\tinflammation and complete loss of safranin O staining of the cartilage layers\\n\\t\\t\\t\\t(indicated by arrows). (c) Mouse treated with IL-4 (1 \\u03bcg/day).\\n\\t\\t\\t\\tLoss of matrix proteoglycan can still be seen. (d) Knee joint of a mouse\\n\\t\\t\\t\\ttreated with IL-4/prednisolone (1  \\u03bcg per day/0.05 mg per kg). Marked\\n\\t\\t\\t\\treduction in matrix proteoglycan depletion after combined treatment. For\\n\\t\\t\\t\\tdetails see Fig. 4. Safranin O staining, original\\n\\t\\t\\t\\tmagnification \\u00d7 100.\",\n",
      "        \"fig_id\": \"F5\",\n",
      "        \"fig_label\": \"Figure 5\",\n",
      "        \"graphic_ref\": \"a:\\\\Vishal\\\\BiomedCLIP_data_pipeline\\\\_results\\\\data\\\\pubmed_open_access_files\\\\PMC17779\\\\ar-1-1-081-5.jpg\",\n",
      "        \"pair_id\": \"11056663_F5\"\n",
      "    },\n",
      "    {\n",
      "        \"fig_caption\": \"Serum cartilage oligomeric matrix protein (COMP) level as a marker\\n\\t\\t\\t\\tof cartilage turnover. Suppression of serum COMP was found after treatment with\\n\\t\\t\\t\\tinterleukin (IL)-4 and IL-4/prednisolone (Pred). IL-4(1 \\u03bcg/day) and both\\n\\t\\t\\t\\tdoses (0.1  \\u03bcg per day/0.05 mg per kg per day; and 1  \\u03bcg per\\n\\t\\t\\t\\tday/0.05 mg per kg per day) of IL-4/prednisolone reduced serum COMP levels to\\n\\t\\t\\t\\tbasic levels as found in nonimmunized animals (4.2 \\u00b1 0.2  \\u03bcg/ml). The\\n\\t\\t\\t\\tdata represent the mean\\u00b1 standard deviation COMP level of at least six\\n\\t\\t\\t\\tsera per group. *P < 0.01, versus vehicle, by\\n\\t\\t\\t\\tMann-Whitney U test.\",\n",
      "        \"fig_id\": \"F6\",\n",
      "        \"fig_label\": \"Figure 6\",\n",
      "        \"graphic_ref\": \"a:\\\\Vishal\\\\BiomedCLIP_data_pipeline\\\\_results\\\\data\\\\pubmed_open_access_files\\\\PMC17779\\\\ar-1-1-081-6.jpg\",\n",
      "        \"pair_id\": \"11056663_F6\"\n",
      "    },\n",
      "    {\n",
      "        \"fig_caption\": \"Protection of interleukin (IL)-4 and IL-4/prednisolone (Pred)\\n\\t\\t\\t\\ttreatment on bone destruction. Knee joints were isolated at day 35 and bone\\n\\t\\t\\t\\tdestruction was examined by radiographic analysis. For treatment scheme see\\n\\t\\t\\t\\tFig. 2. Erosions were scored on a scale ranging from 0 to\\n\\t\\t\\t\\t5 on the femur head, tibia and patella. Each group consists of at least nine\\n\\t\\t\\t\\tknee joints per group. *P < 0.01, versus vehicle, by\\n\\t\\t\\t\\tMann-Whitney U test.\",\n",
      "        \"fig_id\": \"F7\",\n",
      "        \"fig_label\": \"Figure 7\",\n",
      "        \"graphic_ref\": \"a:\\\\Vishal\\\\BiomedCLIP_data_pipeline\\\\_results\\\\data\\\\pubmed_open_access_files\\\\PMC17779\\\\ar-1-1-081-7.jpg\",\n",
      "        \"pair_id\": \"11056663_F7\"\n",
      "    },\n",
      "    {\n",
      "        \"fig_caption\": \"Bone destruction is prevented by interleukin (IL)-4 and\\n\\t\\t\\t\\tIL-4/prednisolone treatment. (a) Severe bone destruction in patella and\\n\\t\\t\\t\\tfemur in knee joint of vehicle-treated animal. (b) Almost no bone\\n\\t\\t\\t\\tdegradation was noted after treatment with IL-4/prednisolone (1  \\u03bcg per\\n\\t\\t\\t\\tday/0.05 mg per kg). (c) Bone destruction in femur of a vehicle-treated\\n\\t\\t\\t\\tanimal at higher magnification. Osteoclasts, large multinuclear cells, located\\n\\t\\t\\t\\tat the site of bone destruction (arrows). (d) No osteoclast-like cells\\n\\t\\t\\t\\twere found in IL-4 (1 \\u03bcg/day) treated animals. For treatment details see\\n\\t\\t\\t\\tFig. 4. S, synovium; B, bone; BM, bone marrow. Original\\n\\t\\t\\t\\tmagnifications \\u00d7 200 (a, b), \\u00d7 400 (c, d).\",\n",
      "        \"fig_id\": \"F8\",\n",
      "        \"fig_label\": \"Figure 8\",\n",
      "        \"graphic_ref\": \"a:\\\\Vishal\\\\BiomedCLIP_data_pipeline\\\\_results\\\\data\\\\pubmed_open_access_files\\\\PMC17779\\\\ar-1-1-081-8.jpg\",\n",
      "        \"pair_id\": \"11056663_F8\"\n",
      "    },\n",
      "    {\n",
      "        \"fig_caption\": \"Interleukin (IL)-4 or IL-4/prednisolone (Pred) treatment is\\n\\t\\t\\t\\tassociated with reduced anticollagen type II (CII) antibody levels. Treatment\\n\\t\\t\\t\\twith 1 \\u03bcg/day IL-4 resulted in lower anticollagen type II antibodies.\\n\\t\\t\\t\\tTotal Immunoglobulins (Ig tot), IgG1 and IgG2a levels\\n\\t\\t\\t\\twere reduced. Similar effects were found after treatment with IL-4/prednisolone\\n\\t\\t\\t\\t(1  \\u03bcg per day/0.05 mg per kg). Anticollagen type II levels were determined\\n\\t\\t\\t\\tin at least six mice per group. Data are expressed as means \\u00b1 standard\\n\\t\\t\\t\\tdeviation dilution, which gives the half maximal value.\",\n",
      "        \"fig_id\": \"F9\",\n",
      "        \"fig_label\": \"Figure 9\",\n",
      "        \"graphic_ref\": \"a:\\\\Vishal\\\\BiomedCLIP_data_pipeline\\\\_results\\\\data\\\\pubmed_open_access_files\\\\PMC17779\\\\ar-1-1-081-9.jpg\",\n",
      "        \"pair_id\": \"11056663_F9\"\n",
      "    }\n",
      "]\n",
      "[\n",
      "    {\n",
      "        \"fig_caption\": \"Schematic representation of the two-stage VH\\n\\t\\t\\t\\tfingerprinting assay using either genomic DNA or complementary (c)DNA as\\n\\t\\t\\t\\ttemplates. In stage I for the genomic DNA-based assay, genomic DNA was\\n\\t\\t\\t\\tamplified using a sense VH family-specific FR1 primer in conjunction\\n\\t\\t\\t\\twith an antisense JH consensus primer. For the cDNA-based assay,\\n\\t\\t\\t\\tcDNA was amplified using a sense VH family-specific FR1 primer in\\n\\t\\t\\t\\tconjunction with the appropriate antisense CH primer. In stage II, polymerase\\n\\t\\t\\t\\tchain reaction (PCR) products generated from either genomic DNA or cDNA were\\n\\t\\t\\t\\tamplified using a nested sense VH family-specific FR3 primer and a\\n\\t\\t\\t\\tradiolabeled antisense nested JH consensus primer that had been\\n\\t\\t\\t\\tend-labeled with \\u03b332-P. The radiolabeled PCR products were\\n\\t\\t\\t\\telectrophoresed through a 6% denaturing acrylamide sequencing gel, and then\\n\\t\\t\\t\\texposed to photographic film overnight. See text (Materials and methods) for\\n\\t\\t\\t\\tfurther details. *Areas of coding end processing at the\\n\\t\\t\\t\\tD-JH and VH-DJH junctions. The VH\\n\\t\\t\\t\\tfingerprinting results displayed were derived with the cDNA-based assay.\",\n",
      "        \"fig_id\": \"F1\",\n",
      "        \"fig_label\": \"Figure 1\",\n",
      "        \"graphic_ref\": \"a:\\\\Vishal\\\\BiomedCLIP_data_pipeline\\\\_results\\\\data\\\\pubmed_open_access_files\\\\PMC17803\\\\ar-2-1-050-1.jpg\",\n",
      "        \"pair_id\": \"11219389_F1\"\n",
      "    },\n",
      "    {\n",
      "        \"fig_caption\": \"Analyses of paired samples of blood (B) and synovial fluid (SF) B\\n\\t\\t\\t\\tcells from the same rheumatoid arthritis patient. Results using both the\\n\\t\\t\\t\\tgenomic DNA-based assay and the complementary (c)DNA-based assay for the three\\n\\t\\t\\t\\tmajor immunoglobulin isotypes (M, G, and A) are shown. Note that certain\\n\\t\\t\\t\\tclones, as represented by individual HCDR3 lengths, are restricted to the blood\\n\\t\\t\\t\\t(\\u25b8), others to the joint (\\u25b9), and others are common to both compartments\\n\\t\\t\\t\\t(\\u2666). E, expanded clone; A, activated clone; E+A, same clone that is both\\n\\t\\t\\t\\texpanded and activated.\",\n",
      "        \"fig_id\": \"F2\",\n",
      "        \"fig_label\": \"Figure 2\",\n",
      "        \"graphic_ref\": \"a:\\\\Vishal\\\\BiomedCLIP_data_pipeline\\\\_results\\\\data\\\\pubmed_open_access_files\\\\PMC17803\\\\ar-2-1-050-2.jpg\",\n",
      "        \"pair_id\": \"11219389_F2\"\n",
      "    },\n",
      "    {\n",
      "        \"fig_caption\": \"Analyses of paired samples of blood (B) and synovial tissue (ST) B\\n\\t\\t\\t\\tcells from the same rheumatoid arthritis patient. Results using both the\\n\\t\\t\\t\\tgenomic DNA-based assay and the complementary (c)DNA-based assay for the three\\n\\t\\t\\t\\tmajor immunoglobulin isotypes (M, G, and A) are shown. Certain clones are\\n\\t\\t\\t\\trestricted to the blood (\\u25b8), others to the joint (\\u25b9), and others are common\\n\\t\\t\\t\\tto both compartments (\\u2666).\",\n",
      "        \"fig_id\": \"F3\",\n",
      "        \"fig_label\": \"Figure 3\",\n",
      "        \"graphic_ref\": \"a:\\\\Vishal\\\\BiomedCLIP_data_pipeline\\\\_results\\\\data\\\\pubmed_open_access_files\\\\PMC17803\\\\ar-2-1-050-3.jpg\",\n",
      "        \"pair_id\": \"11219389_F3\"\n",
      "    },\n",
      "    {\n",
      "        \"fig_caption\": \"Analyses of B cells from paired samples of blood (B) and synovial\\n\\t\\t\\t\\ttissue from both the right (R) and left (L) hips of the same rheumatoid\\n\\t\\t\\t\\tarthritis patient. Results using both the genomic DNA-based assay and the\\n\\t\\t\\t\\tcomplementary (c)DNA-based assay for the three major immunoglobulin isotypes\\n\\t\\t\\t\\t(M, G, and A) are shown. R, clones that are restricted to the right hip joint;\\n\\t\\t\\t\\tL, clones that are restricted to the left hip joint; R+L, clones that are\\n\\t\\t\\t\\tcommon to both the right and left hip joints.\",\n",
      "        \"fig_id\": \"F4\",\n",
      "        \"fig_label\": \"Figure 4\",\n",
      "        \"graphic_ref\": \"a:\\\\Vishal\\\\BiomedCLIP_data_pipeline\\\\_results\\\\data\\\\pubmed_open_access_files\\\\PMC17803\\\\ar-2-1-050-4.jpg\",\n",
      "        \"pair_id\": \"11219389_F4\"\n",
      "    },\n",
      "    {\n",
      "        \"fig_caption\": \"Persistence of a synovial fluid B cell clone in the same joint for\\n\\t\\t\\t\\t4 months. Arthrocentesis was performed on the same joint of the same patient on\\n\\t\\t\\t\\tdays 0 and 120. One of the B-cell clones identified in each of these samples\\n\\t\\t\\t\\twas identical in both HCDR3 length and in VHDJH gene DNA\\n\\t\\t\\t\\tsequence.\",\n",
      "        \"fig_id\": \"F5\",\n",
      "        \"fig_label\": \"Figure 5\",\n",
      "        \"graphic_ref\": \"a:\\\\Vishal\\\\BiomedCLIP_data_pipeline\\\\_results\\\\data\\\\pubmed_open_access_files\\\\PMC17803\\\\ar-2-1-050-5.jpg\",\n",
      "        \"pair_id\": \"11219389_F5\"\n",
      "    }\n",
      "]\n",
      "[\n",
      "    {\n",
      "        \"fig_caption\": \"Analysis of the amplified polymerase chain reaction products by\\n\\t\\t\\t\\telectrophoresis on a 1% agarose gel. The expected PTEN band was visible in all\\n\\t\\t\\t\\tnormal (N1, N2 in lanes 3 and 4) and rheumatoid arthritis (R1-R7 in lanes 6\\u201312)\\n\\t\\t\\t\\tspecimens, and no additional transcripts could be detected, even at lower\\n\\t\\t\\t\\tspecificity.\",\n",
      "        \"fig_id\": \"F1\",\n",
      "        \"fig_label\": \"Figure 1\",\n",
      "        \"graphic_ref\": \"a:\\\\Vishal\\\\BiomedCLIP_data_pipeline\\\\_results\\\\data\\\\pubmed_open_access_files\\\\PMC17804\\\\ar-2-1-059-1.jpg\",\n",
      "        \"pair_id\": \"11219390_F1\"\n",
      "    },\n",
      "    {\n",
      "        \"fig_caption\": \"In situ hybridization on rheumatoid arthritis synovial\\n\\t\\t\\t\\ttissue shows only negligible expression of PTEN in the lining layer (A)\\n\\t\\t\\t\\tbut abundant expression in the sublining layer (A, B). Normal synovium\\n\\t\\t\\t\\tconsisting of only two to three cell layers of synovial cells showed clear\\n\\t\\t\\t\\tstaining, both in the most superficial layers and in deeper regions (C).\\n\\t\\t\\t\\tThe sense probe gave no specific staining (D).\",\n",
      "        \"fig_id\": \"F2\",\n",
      "        \"fig_label\": \"Figure 2\",\n",
      "        \"graphic_ref\": \"a:\\\\Vishal\\\\BiomedCLIP_data_pipeline\\\\_results\\\\data\\\\pubmed_open_access_files\\\\PMC17804\\\\ar-2-1-059-2.jpg\",\n",
      "        \"pair_id\": \"11219390_F2\"\n",
      "    },\n",
      "    {\n",
      "        \"fig_caption\": \"In cultured rheumatoid arthritis synovial fibroblasts (RA-SF) only\\n\\t\\t\\t\\tabout 40% expressed PTEN (A) whereas matrix metalloproteinase (MMP)-2\\n\\t\\t\\t\\twas expressed constitutively by almost every cell (B). PTEN expression\\n\\t\\t\\t\\t(C) was negligible in RA-SF aggressively invading the co-implanted\\n\\t\\t\\t\\tcartilage in the renal capsule of severe combined immunodeficiency mice.\\n\\t\\t\\t\\tHowever, abundant expression of MMP-2 messenger RNA was found (D).\",\n",
      "        \"fig_id\": \"F3\",\n",
      "        \"fig_label\": \"Figure 3\",\n",
      "        \"graphic_ref\": \"a:\\\\Vishal\\\\BiomedCLIP_data_pipeline\\\\_results\\\\data\\\\pubmed_open_access_files\\\\PMC17804\\\\ar-2-1-059-3.jpg\",\n",
      "        \"pair_id\": \"11219390_F3\"\n",
      "    }\n",
      "]\n",
      "[\n",
      "    {\n",
      "        \"fig_caption\": \"Immunolocalisation of mast cell tryptase, tumour necrosis factor\\n\\t\\t\\t\\t(TNF)-\\u03b1, interleukin (IL)-1\\u03b1 and IL-15 in the rheumatoid lesion.\\n\\t\\t\\t\\t(a) Micrograph showing mast cell tryptase (red) with extracellular\\n\\t\\t\\t\\tstaining indicative of mast cell (MC) activation associated with localized\\n\\t\\t\\t\\toedema (arrow) and TNF-\\u03b1 expression (brown) by a proportion of mononuclear\\n\\t\\t\\t\\tcells. (b) Micrograph showing mast cell tryptase (red), local MC\\n\\t\\t\\t\\tactivation and associated mononuclear cells stained for IL-1\\u03b1 (brown).\\n\\t\\t\\t\\t(c) Low power micrograph showing distribution of mast cells (tryptase,\\n\\t\\t\\t\\tred) and their degranulation in rheumatoid synovial tissue. (d)\\n\\t\\t\\t\\tConsecutive section to (c) stained for IL-15. Note the absence of IL-15\\n\\t\\t\\t\\tfrom MC activation sites. (e) Micrograph of cartilage-pannus junction showing\\n\\t\\t\\t\\tboth extracellular and intracellular staining for IL-15 (red). Note the\\n\\t\\t\\t\\tmicrofocal nature of cytokine production by a minority of cells. (f)\\n\\t\\t\\t\\tMicrograph of rheumatoid lesion showing chondrocytic cells stained for\\n\\t\\t\\t\\tIL-15 (red) with little evidence of cytokine production by the overlying pannus\\n\\t\\t\\t\\ttissue (to right of micrograph). Bars: (a) and (b) 35 \\u03bcm;\\n\\t\\t\\t\\t(c) and (d) 120 \\u03bcm; (e) 35 \\u03bcm; and (f)\\n\\t\\t\\t\\t45 \\u03bcm.\",\n",
      "        \"fig_id\": \"F1\",\n",
      "        \"fig_label\": \"Figure 1\",\n",
      "        \"graphic_ref\": \"a:\\\\Vishal\\\\BiomedCLIP_data_pipeline\\\\_results\\\\data\\\\pubmed_open_access_files\\\\PMC17805\\\\ar-2-1-065-1.jpg\",\n",
      "        \"pair_id\": \"11219391_F1\"\n",
      "    }\n",
      "]\n",
      "[\n",
      "    {\n",
      "        \"fig_caption\": \"Rheumatoid arthritis (RA) peripheral blood mononuclear cells (PBMCs) respond similarly to collagen type II (CII) as healthy control individual PBMCs, but they are hyporesponsive to other antigens. PBMCs from RA patients (n = 45) and healthy control individuals (n = 25) were stimulated with antigen for 7 days, and supernatants were analyzed by enzyme-linked immunosorbent assay (ELISA) for concentration of IFN-\\u03b3 . The background IFN-\\u03b3 production in wells without added antigen was subtracted in each case. (a) Levels of IFN-\\u03b3 after stimulation with native or denatured CII, and (b) after stimulation with purified protein derivative (PPD) or killed influenza virus are shown. The box plots show the median as a line and the 25th and 75th centiles limiting the box, with the 10th and 90th centiles indicated with bars.\",\n",
      "        \"fig_id\": \"F1\",\n",
      "        \"fig_label\": \"Figure 1\",\n",
      "        \"graphic_ref\": \"a:\\\\Vishal\\\\BiomedCLIP_data_pipeline\\\\_results\\\\data\\\\pubmed_open_access_files\\\\PMC17806\\\\ar-2-1-075-1.jpg\",\n",
      "        \"pair_id\": \"11219392_F1\"\n",
      "    },\n",
      "    {\n",
      "        \"fig_caption\": \"After compensating for the antigen hyporesponsiveness, rheumatoid arthritis (RA) peripheral blood mononuclear cells (PBMCs) had a higher response to collagen type II (CII) than did healthy control individual PBMCs. Production of IFN-\\u03b3 in RA patients (n = 45) and healthy control individuals (n = 25) in response to stimulation with native or denatured CII after compensation for the diminished responsiveness in RA patients (a) for purified protein derivative (PPD) and (b) for killed influenza virus are shown. On the y-axis the quotient between the CII-induced IFN-\\u03b3 production and (a) the PPD-induced IFN-\\u03b3 production and (b) the killed influenza virus-induced IFN-\\u03b3 production is given. The box plots show the median as a line and the 25th and 75th centiles limiting the box, with the 10th and 90th centiles indicated with bars.\",\n",
      "        \"fig_id\": \"F2\",\n",
      "        \"fig_label\": \"Figure 2\",\n",
      "        \"graphic_ref\": \"a:\\\\Vishal\\\\BiomedCLIP_data_pipeline\\\\_results\\\\data\\\\pubmed_open_access_files\\\\PMC17806\\\\ar-2-1-075-2.jpg\",\n",
      "        \"pair_id\": \"11219392_F2\"\n",
      "    },\n",
      "    {\n",
      "        \"fig_caption\": \"Rheumatoid arthritis (RA) patients with disease-associated human leucocyte antigen (HLA) genotypes had a higher relative reactivity to CII than RA patients with other HLA genotypes. Purified protein derivative (PPD) compensated IFN-\\u03b3 production in response to denatured type II collagen are shown: (a) HLA-DRB1*0401-positive (n =13) or DRB1*0401-negative (n = 32) RA patients and healthy control individuals (n = 9 and 15, respectively); and (b) HLA-DQA1*0301-DQB1*0301 (HLA-DQ8)-positive (n = 15) and HLA-DQ8 negative (n = 30) RA patients and healthy control (HC) individuals (n =5 and 15, respectively). The box plots show the median as a line and the 25th and 75th centiles limiting the box, with the 10th and 90th centiles indicated with bars.\",\n",
      "        \"fig_id\": \"F3\",\n",
      "        \"fig_label\": \"Figure 3\",\n",
      "        \"graphic_ref\": \"a:\\\\Vishal\\\\BiomedCLIP_data_pipeline\\\\_results\\\\data\\\\pubmed_open_access_files\\\\PMC17806\\\\ar-2-1-075-3.jpg\",\n",
      "        \"pair_id\": \"11219392_F3\"\n",
      "    },\n",
      "    {\n",
      "        \"fig_caption\": \"Rheumatoid arthritis (RA) patients with low levels of anticollagen type II (CII) had a higher cellular reactivity to denatured CII compared with RA patients with high levels of anti-CII. Production of IFN-\\u03b3 in RA patients with high serum levels of anti-CII antibodies (n = 19) or low anti-CII levels (n = 26) and healthy control individuals (n = 25) is shown. In (a), IFN-\\u03b3 induction after stimulation with native or denatured CII is shown. In (b), the CII response has been expressed as a fraction of the purified protein derivative (PPD) response showing, on the y axis, the quotient between the CII-induced IFN-\\u03b3 production and the PPD-induced IFN-\\u03b3 production. Shaded boxes represent RA patients with high serum levels of anti-CII, striped boxes represent RA patients with low levels of anti-CII and open boxes represent healthy control individuals. The box plots show the median as a line and the 25th and 75th centiles limiting the box, with the 10th and 90th centiles indicated with bars.\",\n",
      "        \"fig_id\": \"F4\",\n",
      "        \"fig_label\": \"Figure 4\",\n",
      "        \"graphic_ref\": \"a:\\\\Vishal\\\\BiomedCLIP_data_pipeline\\\\_results\\\\data\\\\pubmed_open_access_files\\\\PMC17806\\\\ar-2-1-075-4.jpg\",\n",
      "        \"pair_id\": \"11219392_F4\"\n",
      "    }\n",
      "]\n",
      "[\n",
      "    {\n",
      "        \"fig_caption\": \"Detection of A-SAA mRNA expression in inflamed human synovial\\n\\t\\t\\t\\ttissue by RT-PCR. Analysis of total RNA from rheumatoid synovium (n\\n\\t\\t\\t\\t= 3, lanes 1-3) was performed using primers for human A-SAA and GAPDH. The 500\\n\\t\\t\\t\\tbp molecular weight marker (MW) is highlighted.\",\n",
      "        \"fig_id\": \"F1\",\n",
      "        \"fig_label\": \"Figure 1\",\n",
      "        \"graphic_ref\": \"a:\\\\Vishal\\\\BiomedCLIP_data_pipeline\\\\_results\\\\data\\\\pubmed_open_access_files\\\\PMC17807\\\\ar-2-2-142-1.jpg\",\n",
      "        \"pair_id\": \"11062604_F1\"\n",
      "    },\n",
      "    {\n",
      "        \"fig_caption\": \"Detection of A-SAA mRNA expression in primary human synoviocytes.\\n\\t\\t\\t\\tRT-PCR analysis was performed using total RNA from individual rheumatoid\\n\\t\\t\\t\\tprimary synoviocytes with primers to human A-SAA and GAPDH (lanes 1, 2). The\\n\\t\\t\\t\\t500 bp molecular weight marker (MW) is highlighted.\",\n",
      "        \"fig_id\": \"F2\",\n",
      "        \"fig_label\": \"Figure 2\",\n",
      "        \"graphic_ref\": \"a:\\\\Vishal\\\\BiomedCLIP_data_pipeline\\\\_results\\\\data\\\\pubmed_open_access_files\\\\PMC17807\\\\ar-2-2-142-2.jpg\",\n",
      "        \"pair_id\": \"11062604_F2\"\n",
      "    },\n",
      "    {\n",
      "        \"fig_caption\": \"Immunohistological analysis of RA synovial membrane. Serial tissue\\n\\t\\t\\t\\tsections were stained with (a) antibody to A-SAA, (b) anti-CD68\\n\\t\\t\\t\\tand (c) IgG. A-SAA-positive cells are seen in the surface of the lining\\n\\t\\t\\t\\tlayer and in the perivascular areas. Some vascular endothelial cells are weakly\\n\\t\\t\\t\\tpositive (a). CD68-positive cells are seen throughout the lining layer\\n\\t\\t\\t\\tand in the perivascular areas of the sublining layer. Vascular endothelial\\n\\t\\t\\t\\tcells are negative (b). No staining was observed in the control sections\\n\\t\\t\\t\\t(c).\",\n",
      "        \"fig_id\": \"F3\",\n",
      "        \"fig_label\": \"Figure 3\",\n",
      "        \"graphic_ref\": \"a:\\\\Vishal\\\\BiomedCLIP_data_pipeline\\\\_results\\\\data\\\\pubmed_open_access_files\\\\PMC17807\\\\ar-2-2-142-3.jpg\",\n",
      "        \"pair_id\": \"11062604_F3\"\n",
      "    },\n",
      "    {\n",
      "        \"fig_caption\": \"Detection of A-SAA mRNA expression in inflamed human synovial\\n\\t\\t\\t\\ttissue by RT-PCR. Southern blot analysis of A-SAA and GAPDH cDNAs generated\\n\\t\\t\\t\\tusing total RNA from normal human synovium (lane 1) and rheumatoid synovium\\n\\t\\t\\t\\t(lane 2).\",\n",
      "        \"fig_id\": \"F4\",\n",
      "        \"fig_label\": \"Figure 4\",\n",
      "        \"graphic_ref\": \"a:\\\\Vishal\\\\BiomedCLIP_data_pipeline\\\\_results\\\\data\\\\pubmed_open_access_files\\\\PMC17807\\\\ar-2-2-142-4.jpg\",\n",
      "        \"pair_id\": \"11062604_F4\"\n",
      "    },\n",
      "    {\n",
      "        \"fig_caption\": \"Northern blot analysis of A-SAA mRNA expression in primary human\\n\\t\\t\\t\\tsynoviocytes. (a) Total RNA isolated from primary synoviocyte cultures\\n\\t\\t\\t\\t(lane 1), and KB oral epidermal cells stimulated for 24 h (lane 2) and 48 h (lane\\n\\t\\t\\t\\t3) with 10 ng/ml IL-1, IL-6 and dexamethasone (10-6 mol/l).\\n\\t\\t\\t\\t(b) Agarose gel electrophoresis demonstrating the integrity of total RNA\\n\\t\\t\\t\\tused for Northern analysis.\",\n",
      "        \"fig_id\": \"F5\",\n",
      "        \"fig_label\": \"Figure 5\",\n",
      "        \"graphic_ref\": \"a:\\\\Vishal\\\\BiomedCLIP_data_pipeline\\\\_results\\\\data\\\\pubmed_open_access_files\\\\PMC17807\\\\ar-2-2-142-5.jpg\",\n",
      "        \"pair_id\": \"11062604_F5\"\n",
      "    },\n",
      "    {\n",
      "        \"fig_caption\": \"Levels of A-SAA detected in culture primary RA synoviocyte\\n\\t\\t\\t\\tsupernatants. Mean values of control and individual RA samples (RA1-RA4) are\\n\\t\\t\\t\\tindicated. N, number of samples measured per group.\",\n",
      "        \"fig_id\": \"F6\",\n",
      "        \"fig_label\": \"Figure 6\",\n",
      "        \"graphic_ref\": \"a:\\\\Vishal\\\\BiomedCLIP_data_pipeline\\\\_results\\\\data\\\\pubmed_open_access_files\\\\PMC17807\\\\ar-2-2-142-6.jpg\",\n",
      "        \"pair_id\": \"11062604_F6\"\n",
      "    },\n",
      "    {\n",
      "        \"fig_caption\": \"Immunohistochemical analysis of RA synoviocytes. (a)\\n\\t\\t\\t\\tPositive cytoplasmic staining was observed in RA synoviocytes stained with\\n\\t\\t\\t\\tanti-A-SAA antibody. (b) The specificity of staining was confirmed using\\n\\t\\t\\t\\tsynoviocytes stained with isotype-matched IgG.\",\n",
      "        \"fig_id\": \"F7\",\n",
      "        \"fig_label\": \"Figure 7\",\n",
      "        \"graphic_ref\": \"a:\\\\Vishal\\\\BiomedCLIP_data_pipeline\\\\_results\\\\data\\\\pubmed_open_access_files\\\\PMC17807\\\\ar-2-2-142-7.jpg\",\n",
      "        \"pair_id\": \"11062604_F7\"\n",
      "    }\n",
      "]\n",
      "[\n",
      "    {\n",
      "        \"fig_caption\": \"Matrix metalloproteinase (MMP)-2 and MMP-9 gelatinolytic activity in patients with erosions, in patients with no erosions, and in normal control individuals.\",\n",
      "        \"fig_id\": \"F1\",\n",
      "        \"fig_label\": \"Figure 1\",\n",
      "        \"graphic_ref\": \"a:\\\\Vishal\\\\BiomedCLIP_data_pipeline\\\\_results\\\\data\\\\pubmed_open_access_files\\\\PMC17808\\\\ar-2-2-145-1.jpg\",\n",
      "        \"pair_id\": \"11062605_F1\"\n",
      "    },\n",
      "    {\n",
      "        \"fig_caption\": \"Matrix metalloproteinase (MMP)-2, MMP-9, MMP-14 and tissue inhibitor of metalloproteinase (TIMP)-2 expression in synovial tissue. (a) MMP-2 expression; (b) MMP-9 staining; (c) MMP-14 expression; (d) TIMP-2 expression; (e) no primary antibody; (f) mouse immunoglobulin G1(isotype control).\",\n",
      "        \"fig_id\": \"F2\",\n",
      "        \"fig_label\": \"Figure 2\",\n",
      "        \"graphic_ref\": \"a:\\\\Vishal\\\\BiomedCLIP_data_pipeline\\\\_results\\\\data\\\\pubmed_open_access_files\\\\PMC17808\\\\ar-2-2-145-2.jpg\",\n",
      "        \"pair_id\": \"11062605_F2\"\n",
      "    }\n",
      "]\n",
      "[\n",
      "    {\n",
      "        \"fig_caption\": \"Staining of paired samples of peripheral blood and synovial fluid\\nwith human leucocyte antigen (HLA)-peptide tetrameric complexes. Paired samples\\nof peripheral blood mononuclear cells (PBMCs; left column) and synovial fluid\\nmononuclear cells (SFMCs; right column) from donors (a) RhA6, (b,\\nc) RhA5 and (d) RhA7 were stained with a monoclonal antibody that\\nwas specific for CD8 and with (a, b) the A2/GLCTLVAML tetramer or (c,\\nd) the B8/RAKFKQLL tetramer. The percentage frequency of CD8+ T\\ncells that reacted with the tetrameric complexes is shown; 50 000 live cells\\nwere included in the analysis.\",\n",
      "        \"fig_id\": \"F1\",\n",
      "        \"fig_label\": \"Figure 1\",\n",
      "        \"graphic_ref\": \"a:\\\\Vishal\\\\BiomedCLIP_data_pipeline\\\\_results\\\\data\\\\pubmed_open_access_files\\\\PMC17809\\\\ar-2-2-154-1.jpg\",\n",
      "        \"pair_id\": \"11062606_F1\"\n",
      "    },\n",
      "    {\n",
      "        \"fig_caption\": \"T cells specific for the Epstein-Barr virus (EBV) lytic protein\\nepitopes GLCTLVAML and RAKFKQLL are enriched within synovial fluid. Paired\\nsamples of peripheral blood mononuclear cells (PBMCs) and synovial fluid\\nmononuclear cells (SFMCs) were stained with (a) the A2/GLCTLVAML\\ntetramer or (b) the B8/RAKFKQLL tetramer together with a monoclonal\\nantibodies specific for CD8. The percentage of CD8+ T cells that\\nreact with the relevant tetrameric complex is shown. L, left knee; R, right\\nknee.\",\n",
      "        \"fig_id\": \"F2\",\n",
      "        \"fig_label\": \"Figure 2\",\n",
      "        \"graphic_ref\": \"a:\\\\Vishal\\\\BiomedCLIP_data_pipeline\\\\_results\\\\data\\\\pubmed_open_access_files\\\\PMC17809\\\\ar-2-2-154-2.jpg\",\n",
      "        \"pair_id\": \"11062606_F2\"\n",
      "    },\n",
      "    {\n",
      "        \"fig_caption\": \"Frequency of IFN-\\u03b3 secreting antigen-specific T cells\\ndetected using an ELISpot assay. ELISpot assays to detect IFN-\\u03b3 secreted\\nby T cells following short-term incubation with (a) the GLCTLVAML\\npeptide or (b) the RAKFKQLL peptide were performed on paired samples of\\nperipheral blood mononuclear cells (PBMCs) and synovial fluid mononuclear cells\\n(SFMCs). The number of spots detected per 106 mononuclear cells is\\nshown.\",\n",
      "        \"fig_id\": \"F3\",\n",
      "        \"fig_label\": \"Figure 3\",\n",
      "        \"graphic_ref\": \"a:\\\\Vishal\\\\BiomedCLIP_data_pipeline\\\\_results\\\\data\\\\pubmed_open_access_files\\\\PMC17809\\\\ar-2-2-154-3.jpg\",\n",
      "        \"pair_id\": \"11062606_F3\"\n",
      "    },\n",
      "    {\n",
      "        \"fig_caption\": \"Expression of CD69 and human leucocyte antigen (HLA) DR by\\nB8-RAKFKQLL-specific T cells in peripheral blood and synovial fluid from\\npatient RhA7. Samples of peripheral blood mononuclear cells (dashed lines) and\\nsynovial fluid mononuclear cells (continuous lines) were stained with the\\nB8/RAKFKQLL tetramer, with anti-CD8 and with monoclonal antibodies specific for\\nCD69 or HLA-DR; 200 000 live cells were analyzed, and expression of CD69 and\\nHLA-DR by the populations of CD8+ B8/RAKFKQLL tetramer reactive cells is shown.\\nFITC, fluorescein isothiocyanate\",\n",
      "        \"fig_id\": \"F4\",\n",
      "        \"fig_label\": \"Figure 4\",\n",
      "        \"graphic_ref\": \"a:\\\\Vishal\\\\BiomedCLIP_data_pipeline\\\\_results\\\\data\\\\pubmed_open_access_files\\\\PMC17809\\\\ar-2-2-154-4.jpg\",\n",
      "        \"pair_id\": \"11062606_F4\"\n",
      "    },\n",
      "    {\n",
      "        \"fig_caption\": \"The phenotype of RAKFKQLL-specific T cells in peripheral blood and\\nsynovial fluid from patient RhA7. Samples of peripheral blood mononuclear cells\\n(PBMCs; left column) and synovial fluid mononuclear cells (SFMCs; right column)\\nwere stained with anti-CD8, the B8/RAKFKQLL tetramer and with monocloncal\\nantibodies specific for (a) CD38, (b) CD62L, (c) CD45RA,\\n(d) CD45RO, (e) CD57 and (f) CD28. The percentage\\nfrequency of CD8+ tetramer reactive cells that stain with the\\nphenotypic markers are shown; 200000 live cells were included in the analysis.\\nFITC, fluorescein isothiocyanate.\",\n",
      "        \"fig_id\": \"F5\",\n",
      "        \"fig_label\": \"Figure 5\",\n",
      "        \"graphic_ref\": \"a:\\\\Vishal\\\\BiomedCLIP_data_pipeline\\\\_results\\\\data\\\\pubmed_open_access_files\\\\PMC17809\\\\ar-2-2-154-5.jpg\",\n",
      "        \"pair_id\": \"11062606_F5\"\n",
      "    }\n",
      "]\n",
      "[\n",
      "    {\n",
      "        \"fig_caption\": \"(Left) Swelling of the left hind paws (mean \\u00b1\\n\\t\\t\\t\\t\\t standard error of the mean) in different phases of adjuvant arthritis (AA).\\n\\t\\t\\t\\t\\t Swelling usually starts around day 10 after immunization, followed by the\\n\\t\\t\\t\\t\\t development of accelerating arthritis (day 17) and chronic arthritis (day      23).\\n\\t\\t\\t\\t\\t (Right) Distribution of TUNEL-positive cells (red, indicated by arrows)\\n\\t\\t\\t\\t\\t in joints of AA rats on day 11 (a and c) and on day 23 (b and d).\\n\\t\\t\\t\\t\\t Very few TUNEL-positive cells were detected in normal rats or during the onset\\n\\t\\t\\t\\t\\t of arthritis, whereas the number of TUNEL-positive cells were significantly\\n\\t\\t\\t\\t\\t increased in the synovium (and also in cartilage) of rats with chronic AA.\\n\\t\\t\\t\\t\\t TUNEL method counterstrained with Mayer's hemalum. Original magnification\\n\\t\\t\\t\\t\\t 250x.\",\n",
      "        \"fig_id\": \"F1\",\n",
      "        \"fig_label\": \"Figure 1\",\n",
      "        \"graphic_ref\": \"a:\\\\Vishal\\\\BiomedCLIP_data_pipeline\\\\_results\\\\data\\\\pubmed_open_access_files\\\\PMC17810\\\\ar-2-3-229-1.jpg\",\n",
      "        \"pair_id\": \"11056668_F1\"\n",
      "    },\n",
      "    {\n",
      "        \"fig_caption\": \"Western blot analysis showing immunoreactive p53 in\\n\\t\\t\\t\\t  pooled joint extracts of rats with AA and pooled synovial tissue samples of\\n\\t\\t\\t\\t  patients with RA. Expression of p53 gradually increased from days 0-23 in rat\\n\\t\\t\\t\\t  AA (see also Table 1). Overexpression on day 23 (173\\n\\t\\t\\t\\t  arbitrary units) was markedly higher than p53 levels in RA synovium (32\\n\\t\\t\\t\\t  arbitrary units).\",\n",
      "        \"fig_id\": \"F2\",\n",
      "        \"fig_label\": \"Figure 2\",\n",
      "        \"graphic_ref\": \"a:\\\\Vishal\\\\BiomedCLIP_data_pipeline\\\\_results\\\\data\\\\pubmed_open_access_files\\\\PMC17810\\\\ar-2-3-229-2.jpg\",\n",
      "        \"pair_id\": \"11056668_F2\"\n",
      "    },\n",
      "    {\n",
      "        \"fig_caption\": \"Representative synovial tissue from a rat with adjuvant arthritis\\n\\t\\t\\t\\ton day 23, showing marked p53 overexpression [(a), indicated by arrows].\\n\\t\\t\\t\\tBoth cytoplasmic and nuclear staining was noted in the intimal lining layer (L)\\n\\t\\t\\t\\tand in the synovial sublining (S). Staining was absent in the negative control\\n\\t\\t\\t\\tsection (b). Monostaining peroxidase technique with tyramine enhancement\\n\\t\\t\\t\\tcounterstained with Mayer's hemalum. Original magnification 400x.\",\n",
      "        \"fig_id\": \"F3\",\n",
      "        \"fig_label\": \"Figure 3\",\n",
      "        \"graphic_ref\": \"a:\\\\Vishal\\\\BiomedCLIP_data_pipeline\\\\_results\\\\data\\\\pubmed_open_access_files\\\\PMC17810\\\\ar-2-3-229-3.jpg\",\n",
      "        \"pair_id\": \"11056668_F3\"\n",
      "    }\n",
      "]\n",
      "[\n",
      "    {\n",
      "        \"fig_caption\": \"Local delivery of Ad-mIL-4. Three days after lipopolysaccharide\\n\\t\\t\\t\\ttreatment collagen-immunized mice were injected periarticularly with\\n\\t\\t\\t\\t5\\u00d7108 particles of Ad-mIL-4, Ad-eGFP, or saline. (a)\\n\\t\\t\\t\\tArthritis index. Subsequently, severity of disease was assessed every other day\\n\\t\\t\\t\\tusing an established macroscopic scoring system ranging from 0 to 4: 0, normal;\\n\\t\\t\\t\\t1, detectable arthritis with erythma; 2, significant swelling and redness; 3,\\n\\t\\t\\t\\tsevere swelling and redness from joint to digit; and 4, maximal swelling with\\n\\t\\t\\t\\tankylosis or necrosis. The average macroscopic score was expressed as a\\n\\t\\t\\t\\tcumulative value for all paws, with a maximum possible score of 16 per mouse\\n\\t\\t\\t\\t(n = 20). *P <0.01. (b) Paw swelling. The\\n\\t\\t\\t\\tthickness of each paw was also evaluated using a spring-load caliper. The paw\\n\\t\\t\\t\\tswelling for each mouse was calculated by adding the four thicknesses of the\\n\\t\\t\\t\\tindividual paws. *P <0.1;**P\\n\\t\\t\\t\\t<0.05. (c) Number of arthritic paws. At the same time, the total\\n\\t\\t\\t\\tnumber of arthritic paws were determined for each experimental group\\n\\t\\t\\t\\t(n = 10, maximum 40 per group). *P <0.01.\",\n",
      "        \"fig_id\": \"F1\",\n",
      "        \"fig_label\": \"Figure 1\",\n",
      "        \"graphic_ref\": \"a:\\\\Vishal\\\\BiomedCLIP_data_pipeline\\\\_results\\\\data\\\\pubmed_open_access_files\\\\PMC17812\\\\ar-2-4-293-1.jpg\",\n",
      "        \"pair_id\": \"11056670_F1\"\n",
      "    },\n",
      "    {\n",
      "        \"fig_caption\": \"Histological analysis of the effect of local Ad-mIL-4 treatment in\\n\\t\\t\\t\\tCIA. (a) Ankle joints of mice were isolated from CIA and same-aged\\n\\t\\t\\t\\tnormal DBA mice 28 days after adenovirus injection. Ankle joint tissues were\\n\\t\\t\\t\\tstained with hematoxylin and eosin and showed 100\\u00d7 magnification.\\n\\t\\t\\t\\tParticles of Ad-IL-4 or Ad-eGFP (5\\u00d7108) were injected into\\n\\t\\t\\t\\tankle joints of mice with established CIA. (b) The joint tissue sections\\n\\t\\t\\t\\twere evaluated in a blinded manner and scored as follows: 1, synovial cell\\n\\t\\t\\t\\tproliferation, synovial hypertrophy with villus formation and/or fibrin\\n\\t\\t\\t\\tdeposition; 2, inflammation, synovitis and/or generalized inflammation; 3,\\n\\t\\t\\t\\tcartilage disruption, chondrocyte degeneration and/or ruffling of cartilage\\n\\t\\t\\t\\tsurface and/or dystrophic cartilage; and 4, joint destruction, cartilage\\n\\t\\t\\t\\terosion with abundant inflammation and pannus formation with bone erosion. A\\n\\t\\t\\t\\ttotal of five joints per group were evaluated by at least two individuals in a\\n\\t\\t\\t\\tblinded manner.\",\n",
      "        \"fig_id\": \"F2\",\n",
      "        \"fig_label\": \"Figure 2\",\n",
      "        \"graphic_ref\": \"a:\\\\Vishal\\\\BiomedCLIP_data_pipeline\\\\_results\\\\data\\\\pubmed_open_access_files\\\\PMC17812\\\\ar-2-4-293-2.jpg\",\n",
      "        \"pair_id\": \"11056670_F2\"\n",
      "    },\n",
      "    {\n",
      "        \"fig_caption\": \"Periarticular injection of Ad-mIL-4 into the hind leg ankle joints\\n\\t\\t\\t\\tconferred a therapeutic effect in the untreated, front paws. The arthritic mice\\n\\t\\t\\t\\tinjected in the hind leg ankle joints with Ad-mIL-4, Ad-eGFP or saline were\\n\\t\\t\\t\\tevaluated for the severity of arthritis in either the hind, treated paws\\n\\t\\t\\t\\t(a) or front, untreated paws (b). The macroscopic score (mean\\n\\t\\t\\t\\t\\u00b1 standard deviation) is expressed as a cumulative value for the two paws,\\n\\t\\t\\t\\twith a maximum possible score of 8.\",\n",
      "        \"fig_id\": \"F3\",\n",
      "        \"fig_label\": \"Figure 3\",\n",
      "        \"graphic_ref\": \"a:\\\\Vishal\\\\BiomedCLIP_data_pipeline\\\\_results\\\\data\\\\pubmed_open_access_files\\\\PMC17812\\\\ar-2-4-293-3.jpg\",\n",
      "        \"pair_id\": \"11056670_F3\"\n",
      "    },\n",
      "    {\n",
      "        \"fig_caption\": \"Induction of IL-10 by Ad-mIL-4 administration. Particles of\\n\\t\\t\\t\\tAd-IL-4, Ad-IL-10, or Ad-eGFP (5\\u00d7108) were injected into the\\n\\t\\t\\t\\tankle joints of na\\u00efve DBA mice. The animals were killed at the indicated\\n\\t\\t\\t\\ttime points and joint tissue homogenized. The lysate was then monitored for\\n\\t\\t\\t\\t(a) murine IL-4 and (b) murine IL-10 using the appropriate\\n\\t\\t\\t\\tELISA.\",\n",
      "        \"fig_id\": \"F4\",\n",
      "        \"fig_label\": \"Figure 4\",\n",
      "        \"graphic_ref\": \"a:\\\\Vishal\\\\BiomedCLIP_data_pipeline\\\\_results\\\\data\\\\pubmed_open_access_files\\\\PMC17812\\\\ar-2-4-293-4.jpg\",\n",
      "        \"pair_id\": \"11056670_F4\"\n",
      "    },\n",
      "    {\n",
      "        \"fig_caption\": \"Levels of expression of IL-4 and IL-10 in immunized mice after\\n\\t\\t\\t\\tperiarticular injection of diferent doses of Ad-mIL-4. Increasing doses of\\n\\t\\t\\t\\tAd-mIL-4 were injected periarticularly into mice with established arthritis.\\n\\t\\t\\t\\tThe animals were killed at day 35, and the joint tissue homogenized and assayed\\n\\t\\t\\t\\tfor levels of (a) IL-4 and (b) IL-10. The doses of Ad-mIL-4 used\\n\\t\\t\\t\\twere as follows: low, 5\\u00d7106; mid, 5\\u00d7107; and\\n\\t\\t\\t\\thigh, 5\\u00d7108.\",\n",
      "        \"fig_id\": \"F5\",\n",
      "        \"fig_label\": \"Figure 5\",\n",
      "        \"graphic_ref\": \"a:\\\\Vishal\\\\BiomedCLIP_data_pipeline\\\\_results\\\\data\\\\pubmed_open_access_files\\\\PMC17812\\\\ar-2-4-293-5.jpg\",\n",
      "        \"pair_id\": \"11056670_F5\"\n",
      "    },\n",
      "    {\n",
      "        \"fig_caption\": \"Systemic delivery of Ad-mIL-4. Adenoviruses were injected into the\\n\\t\\t\\t\\ttail vein 24 h after lipopolysaccharide treatment. (a) Arthritis index.\\n\\t\\t\\t\\tSubsequently, severity of disease was assessed every other day using an\\n\\t\\t\\t\\testablished macroscopic scoring system ranging from 0 to 4: 0, normal; 1,\\n\\t\\t\\t\\tdetectable arthritis with erythma; 2, significant swelling and redness; 3,\\n\\t\\t\\t\\tsevere swelling and redness from joint to digit; and 4, maximal swelling with\\n\\t\\t\\t\\tankylosis or necrosis. +The average macroscopic score was expressed as a\\n\\t\\t\\t\\tcumulative value for all paws, with a maximum possible score of 16 per mouse\\n\\t\\t\\t\\t(n =10). *P <0.001;**P\\n\\t\\t\\t\\t<0.0005. (b) Paw swelling. The thickness of each paw was also\\n\\t\\t\\t\\tevaluated using a spring-load caliper. The paw swelling for each mouse was\\n\\t\\t\\t\\tcalculated by adding the four thicknesses of the individual paws.\\n\\t\\t\\t\\t*P <0.05; **P <0.001. (c)\\n\\t\\t\\t\\tNumber of arthritis paws. The total number of arthritic paws were determined\\n\\t\\t\\t\\tfor each experimental group (maximum 40 per group). *P\\n\\t\\t\\t\\t<0.001.\",\n",
      "        \"fig_id\": \"F6\",\n",
      "        \"fig_label\": \"Figure 6\",\n",
      "        \"graphic_ref\": \"a:\\\\Vishal\\\\BiomedCLIP_data_pipeline\\\\_results\\\\data\\\\pubmed_open_access_files\\\\PMC17812\\\\ar-2-4-293-6.jpg\",\n",
      "        \"pair_id\": \"11056670_F6\"\n",
      "    },\n",
      "    {\n",
      "        \"fig_caption\": \"Serum IL-4 and IL-10 levels following systemic Ad-mIL-4 delivery\\n\\t\\t\\t\\tAd-mIL-4 was delivered to mice by tail vein injection 30 days after\\n\\t\\t\\t\\timmunization. A week and 30 days after Ad-mIL-4 and Ad-eGFP injection, the mice\\n\\t\\t\\t\\twere bled and serum levels of cytokines measured by ELISA. (a) IL-4\\n\\t\\t\\t\\tsecretion on day 7, (b) IL-10 secretion on day 7, (c) IL-4\\n\\t\\t\\t\\tsecretion on day 30, and (d) IL-10 secretion on day 30.\",\n",
      "        \"fig_id\": \"F7\",\n",
      "        \"fig_label\": \"Figure 7\",\n",
      "        \"graphic_ref\": \"a:\\\\Vishal\\\\BiomedCLIP_data_pipeline\\\\_results\\\\data\\\\pubmed_open_access_files\\\\PMC17812\\\\ar-2-4-293-7.jpg\",\n",
      "        \"pair_id\": \"11056670_F7\"\n",
      "    }\n",
      "]\n",
      "[\n",
      "    {\n",
      "        \"fig_caption\": \"Comparison of the translated amino acid sequences of 19 VH1\\n\\t\\t\\t\\tsegments with their closest germline counterparts. (b) Comparison of the\\n\\t\\t\\t\\ttranslated amino acid sequences of 19 VH1 segments with germline gene\\n\\t\\t\\t\\tIGHV1-18. All sequences are deposited in Genbank\\n\\t\\t\\t\\tdatabase with the following accession numbers: AF209875-209902;\\n\\t\\t\\t\\tAF211924-211932; AF241154-241156 and AF241186-241199.\",\n",
      "        \"fig_id\": \"F1\",\n",
      "        \"fig_label\": \"Figure 1\",\n",
      "        \"graphic_ref\": \"a:\\\\Vishal\\\\BiomedCLIP_data_pipeline\\\\_results\\\\data\\\\pubmed_open_access_files\\\\PMC17813\\\\ar-2-4-303-1.jpg\",\n",
      "        \"pair_id\": \"11056671_F1\"\n",
      "    },\n",
      "    {\n",
      "        \"fig_caption\": \"Analyses of the VH4 family amplificates. (a) Comparison of\\n\\t\\t\\t\\tthe five nucleotide VH4 sequences with their germline counterpart\\n\\t\\t\\t\\tIgHV4-30-1/4-31*02. (b) Clonal relation between sequences\\n\\t\\t\\t\\tk194/100 and k194/101; replacement (r) and silent (s)\\n\\t\\t\\t\\tmutations on the VH segment when compared with the germline. (c) Clonal\\n\\t\\t\\t\\trelation between sequence k194/23 amplified from the left peroneal\\n\\t\\t\\t\\ttendon (lpt) and sequences k194/102 and k194/103 amplified\\n\\t\\t\\t\\tfrom the cubita. Dashed arrows indicate the possibility of cyclic re-entry of\\n\\t\\t\\t\\tthe mature B cells into the hypermutation process.\",\n",
      "        \"fig_id\": \"F2\",\n",
      "        \"fig_label\": \"Figure 2\",\n",
      "        \"graphic_ref\": \"a:\\\\Vishal\\\\BiomedCLIP_data_pipeline\\\\_results\\\\data\\\\pubmed_open_access_files\\\\PMC17813\\\\ar-2-4-303-2.jpg\",\n",
      "        \"pair_id\": \"11056671_F2\"\n",
      "    },\n",
      "    {\n",
      "        \"fig_caption\": \"Histopathology (haematoxylin and eosin) and immunohistochemistry\\n\\t\\t\\t\\t(double staining: indirect immunoperoxidase and alcaline phosphatase in insert\\n\\t\\t\\t\\tof parts a and b) of rheumatoid synovial tissue from three different anatomical\\n\\t\\t\\t\\tlocations of the RA patient. These are as follows: (a) right peroneal\\n\\t\\t\\t\\ttendon sheath; (b) left peroneal tendon sheath with inserted figure\\n\\t\\t\\t\\tshowing Ki-M4 positive FDC network (brown) surrounded by CD20+ B\\n\\t\\t\\t\\tlymphocytes (blue), representing a germinal center; and (c) synovial\\n\\t\\t\\t\\tmembrane from the right cubita. Arrows indicate enlarged synovial intima\\n\\t\\t\\t\\t(original magnification 350\\u00d7).\",\n",
      "        \"fig_id\": \"F3\",\n",
      "        \"fig_label\": \"Figure 3\",\n",
      "        \"graphic_ref\": \"a:\\\\Vishal\\\\BiomedCLIP_data_pipeline\\\\_results\\\\data\\\\pubmed_open_access_files\\\\PMC17813\\\\ar-2-4-303-3.jpg\",\n",
      "        \"pair_id\": \"11056671_F3\"\n",
      "    },\n",
      "    {\n",
      "        \"fig_caption\": \"Total R/S ratios in the FR 1+2+3 and CDR 1+2 of B-cell clones from\\n\\t\\t\\t\\teach different anatomical region of the RA patient: (a) right peroneal\\n\\t\\t\\t\\ttendon sheath; (b) left peroneal tendon sheath; (c) cubita.\",\n",
      "        \"fig_id\": \"F4\",\n",
      "        \"fig_label\": \"Figure 4\",\n",
      "        \"graphic_ref\": \"a:\\\\Vishal\\\\BiomedCLIP_data_pipeline\\\\_results\\\\data\\\\pubmed_open_access_files\\\\PMC17813\\\\ar-2-4-303-4.jpg\",\n",
      "        \"pair_id\": \"11056671_F4\"\n",
      "    },\n",
      "    {\n",
      "        \"fig_caption\": \"Amino acid replacement plot, calculated across translated amino\\n\\t\\t\\t\\tacid sequences shown in Figure 3b. (a)\\n\\t\\t\\t\\tConservative replacement (Y D, E;\\u2194 N D, E; L\\u2194 V, A, F, I; S\\u2194 N, T, Q; D\\u2194 E;\\n\\t\\t\\t\\tK\\u2194 R); (b) indeterminant replacement (H\\u2194 all amino acids; M\\u2194 all\\n\\t\\t\\t\\tamino acids; G\\u2194 A, V, L, I, F, P; W\\u2194 R, K, S, T, N, Q, D, E; P\\u2194 A, V, I,\\n\\t\\t\\t\\tL,F; K, R\\u2194 N, Q, S, T, Y; C\\u2194 D, E, K, N, Q, R, S, T, Y; Y\\u2194 K, R, N, Q, S,\\n\\t\\t\\t\\tT); and (c) nonconservative replacement (R, K\\u2194 E, D; D, Y, E\\u2194 A, I,L,\\n\\t\\t\\t\\tP, F; S, T, Q, N\\u2194 A, I, L, V, P, F; R, K\\u2194 A, I, L, P,V, F; C\\u2194 A, I, P, V, L,\\n\\t\\t\\t\\tF; W\\u2194 A, I, P, F, V, L; G\\u2194 C, D, E, R, K, N, Q, S, T, Y). The type of\\n\\t\\t\\t\\treplacement was defined on the basis of [45,46,47,48].\",\n",
      "        \"fig_id\": \"F5\",\n",
      "        \"fig_label\": \"Figure 5\",\n",
      "        \"graphic_ref\": \"a:\\\\Vishal\\\\BiomedCLIP_data_pipeline\\\\_results\\\\data\\\\pubmed_open_access_files\\\\PMC17813\\\\ar-2-4-303-5.jpg\",\n",
      "        \"pair_id\": \"11056671_F5\"\n",
      "    },\n",
      "    {\n",
      "        \"fig_caption\": \"Generation of mixed molecules according to Maizels [37]. In RA synovial tissue mixed molecules could be the result\\n\\t\\t\\t\\tof a templated or an untemplated hypermutation DNA repair process.\",\n",
      "        \"fig_id\": \"F6\",\n",
      "        \"fig_label\": \"Figure 6\",\n",
      "        \"graphic_ref\": \"a:\\\\Vishal\\\\BiomedCLIP_data_pipeline\\\\_results\\\\data\\\\pubmed_open_access_files\\\\PMC17813\\\\ar-2-4-303-6.jpg\",\n",
      "        \"pair_id\": \"11056671_F6\"\n",
      "    }\n",
      "]\n",
      "[\n",
      "    {\n",
      "        \"fig_caption\": \"The immunodominant CII 256-270 peptide. CII is variably post-translationally modified in the chondrocyte by hydroxylation followed by galactosylation or glucogalactosylation of hydroxylysines. The peptide is depicted with the O-linked \\u03b2 -galactose at position 264 (hydroxylysine). The MMC mice have the CII point mutation to express glutamic acid at position 266 (as in human and rat CII), whereas mouse CII expresses aspartic acid at this position.\",\n",
      "        \"fig_id\": \"F1\",\n",
      "        \"fig_label\": \"Figure 1\",\n",
      "        \"graphic_ref\": \"a:\\\\Vishal\\\\BiomedCLIP_data_pipeline\\\\_results\\\\data\\\\pubmed_open_access_files\\\\PMC17814\\\\ar-2-4-315-1.jpg\",\n",
      "        \"pair_id\": \"11056672_F1\"\n",
      "    },\n",
      "    {\n",
      "        \"fig_caption\": \"Incidence of arthritis in male mice. Triangles represent transgenic MMC mice and squares represent nontransgenic littermates. Open and filled symbols represent thymectomized (Tx) and sham-operated (Sham) mice, respectively.\",\n",
      "        \"fig_id\": \"F2\",\n",
      "        \"fig_label\": \"Figure 2\",\n",
      "        \"graphic_ref\": \"a:\\\\Vishal\\\\BiomedCLIP_data_pipeline\\\\_results\\\\data\\\\pubmed_open_access_files\\\\PMC17814\\\\ar-2-4-315-2.jpg\",\n",
      "        \"pair_id\": \"11056672_F2\"\n",
      "    },\n",
      "    {\n",
      "        \"fig_caption\": \"Serum levels of antibodies specific for CII. Comparison of isotype anti-CII IgG responses in thymectomized (Tx) and sham-operated (Sham) mice as measured in sera 35 days after immunization in MMC transgenic mice and the nontransgenic littermates. Open symbols represent IgG2a and filled symbols IgG1. The transgenic mice have significantly lower isotype levels compared with their nontransgenic littermates, but thymectomy had no effect. The same pattern was seen in female (A) and male (B) mice.\",\n",
      "        \"fig_id\": \"F3\",\n",
      "        \"fig_label\": \"Figure 3\",\n",
      "        \"graphic_ref\": \"a:\\\\Vishal\\\\BiomedCLIP_data_pipeline\\\\_results\\\\data\\\\pubmed_open_access_files\\\\PMC17814\\\\ar-2-4-315-3.jpg\",\n",
      "        \"pair_id\": \"11056672_F3\"\n",
      "    },\n",
      "    {\n",
      "        \"fig_caption\": \"T-cell response to CII. Influence of thymectomy (Tx) on the T-cell response to CII peptides of MMC or littermate (lm) mice. Activation of lymph node cultures with different antigens; 50 \\u03bc g/ml synthetic CII 256-270 peptide, 50 \\u03bc g/ml glycosylated CII 256-270 peptide, 10 \\u03bc g/ml purified protein derivative. Backgrounds are cultures in which no antigen was added. The results after stimulation with purified protein derivative (positive control) are shown in the left, proliferative response towards CII peptides are shown in the middle and the IFN-\\u03b3 production is shown in the right part of the figure, respectively. The background IFN-\\u03b3 values below 0.01U/ml are not indicated in the figure. At the indicated times after thymectomy (4 weeks [4w] or 8 weeks [8w]), the indicated number of mice were immunized with rat CII and 10 days later the LNCs were isolated. Each bar represents the mean value \\u00b1 standard error. Both proliferation (as measured with thymidine uptake) and IFN-\\u03b3 contents in the supernatants are indicated. *P < 0.05, **P < 0.01, ***P < 0.001, versus background.\",\n",
      "        \"fig_id\": \"F4\",\n",
      "        \"fig_label\": \"Figure 4\",\n",
      "        \"graphic_ref\": \"a:\\\\Vishal\\\\BiomedCLIP_data_pipeline\\\\_results\\\\data\\\\pubmed_open_access_files\\\\PMC17814\\\\ar-2-4-315-4.jpg\",\n",
      "        \"pair_id\": \"11056672_F4\"\n",
      "    },\n",
      "    {\n",
      "        \"fig_caption\": \"B-cell response to CII. IgG ELISPOT is an assay that enumerates the number of anti-CII antibody-producing cells present in the LNCs. Squares represent individual nontransgenic littermates and triangles represent the transgenic MMC mice. No difference before and after thymectomy was noted and the difference between MMC and wild-type mice are significant (P =0.0012 for all mice, P =0.0102 for thymectomized mice). TX, thymectomized.\",\n",
      "        \"fig_id\": \"F5\",\n",
      "        \"fig_label\": \"Figure 5\",\n",
      "        \"graphic_ref\": \"a:\\\\Vishal\\\\BiomedCLIP_data_pipeline\\\\_results\\\\data\\\\pubmed_open_access_files\\\\PMC17814\\\\ar-2-4-315-5.jpg\",\n",
      "        \"pair_id\": \"11056672_F5\"\n",
      "    },\n",
      "    {\n",
      "        \"fig_caption\": \"Fate of CII-reactive T cells in vivo using transferred CFSE-labelled rat CII-reactive T cells. (a) The rat CII-reactive T cells could not be seen to divide in vivo. In MMC transgenic mice, however, dramatically fewer CFSE-positive cells could be recovered, all of which were CD43-positive. (b) One representative experiment (out of three) for two-colour analysis of spleen cells from MMC transgenic mice and nontransgenic littermates for CFSE and CD43.\",\n",
      "        \"fig_id\": \"F6\",\n",
      "        \"fig_label\": \"Figure 6\",\n",
      "        \"graphic_ref\": \"a:\\\\Vishal\\\\BiomedCLIP_data_pipeline\\\\_results\\\\data\\\\pubmed_open_access_files\\\\PMC17814\\\\ar-2-4-315-6.jpg\",\n",
      "        \"pair_id\": \"11056672_F6\"\n",
      "    }\n",
      "]\n",
      "[\n",
      "    {\n",
      "        \"fig_caption\": \"Comparison of skewing of X inactivation in normal female control individuals, and patients with various autoimmune diseases. Each dot represents one individual. The mean values for degree of skewing of X-inactivation are indicated for each population.\",\n",
      "        \"fig_id\": \"F1\",\n",
      "        \"fig_label\": \"Figure 1\",\n",
      "        \"graphic_ref\": \"a:\\\\Vishal\\\\BiomedCLIP_data_pipeline\\\\_results\\\\data\\\\pubmed_open_access_files\\\\PMC17816\\\\ar-2-5-399-1.jpg\",\n",
      "        \"pair_id\": \"11056674_F1\"\n",
      "    },\n",
      "    {\n",
      "        \"fig_caption\": \"A model showing the consequence of skewed X-chromosome inactivation on tolerance induction in the thymus. Thymocytes enter the thymus and proceed on a pathway that exposes them to thymic-deleting elements, mainly dendritic cells in the thymic medulla. Dendritic cells are schematically illustrated here as grey or black, depending on which of the two parental X chromosomes are predominantly active in each cell. On the left hand side of the figure, transiting thymocytes will be exposed to dendritic cells that express both parental X chromosome, and thus will be tolerant (ie deleted) to X-linked antigens from both parents. On the right hand side of the figure, transiting thymocytes will likely be exposed only to the `grey' dendritic cells, which express only one of the two parental X chromosomes. Thus, T cells that exit the thymus will not be tolerized to X-linked antigens from the other parent (the `black' dendritic cells).\",\n",
      "        \"fig_id\": \"F2\",\n",
      "        \"fig_label\": \"Figure 2\",\n",
      "        \"graphic_ref\": \"a:\\\\Vishal\\\\BiomedCLIP_data_pipeline\\\\_results\\\\data\\\\pubmed_open_access_files\\\\PMC17816\\\\ar-2-5-399-2.jpg\",\n",
      "        \"pair_id\": \"11056674_F2\"\n",
      "    },\n",
      "    {\n",
      "        \"fig_caption\": \"Schematic map of a portion of the first exon of the AR gene. The polymorphic CAG triplet repeat is flanked by HpaII sites, and the relative locations of primers AR1 and AR2, used for the PCR assay, are indicated.\",\n",
      "        \"fig_id\": \"F3\",\n",
      "        \"fig_label\": \"Figure 3\",\n",
      "        \"graphic_ref\": \"a:\\\\Vishal\\\\BiomedCLIP_data_pipeline\\\\_results\\\\data\\\\pubmed_open_access_files\\\\PMC17816\\\\ar-2-5-399-3.jpg\",\n",
      "        \"pair_id\": \"11056674_F3\"\n",
      "    },\n",
      "    {\n",
      "        \"fig_caption\": \"Fluorescence-based X-inactivation using PCR-based AR methylation assay. (a) An example of equivalent inactivation (51% versus 49%) of both upper (271 bp) and lower (260 bp) alleles. (b) An example of extremely skewed inactivation (10% versus 90%) of the upper (284 bp) and lower (271 bp) alleles. Mock-digested DNA (without HpaII) was used as control for peak intensities of both alleles.\",\n",
      "        \"fig_id\": \"F4\",\n",
      "        \"fig_label\": \"Figure 4\",\n",
      "        \"graphic_ref\": \"a:\\\\Vishal\\\\BiomedCLIP_data_pipeline\\\\_results\\\\data\\\\pubmed_open_access_files\\\\PMC17816\\\\ar-2-5-399-4.jpg\",\n",
      "        \"pair_id\": \"11056674_F4\"\n",
      "    }\n",
      "]\n",
      "[\n",
      "    {\n",
      "        \"fig_caption\": \"Indirect immunofluorescence pattern of anti-C1/C2-positive patient serum on HEp-2 cells. Cells were incubated with diluted patient serum (1:160), and bound IgG was detected by fluorescence microscopy after incubation with fluoresceinylated rabbit anti-human IgG. Strongly positive, very regular, coarse nuclear staining that spares nucleoli is observed. Original magnification is 200\\u00d7. Scale bar is 10 \\u03bcm.\",\n",
      "        \"fig_id\": \"F1\",\n",
      "        \"fig_label\": \"Figure 1\",\n",
      "        \"graphic_ref\": \"a:\\\\Vishal\\\\BiomedCLIP_data_pipeline\\\\_results\\\\data\\\\pubmed_open_access_files\\\\PMC17817\\\\ar-2-5-407-1.jpg\",\n",
      "        \"pair_id\": \"11056675_F1\"\n",
      "    },\n",
      "    {\n",
      "        \"fig_caption\": \"Immunoblotting using different patient sera (2-5) and a normal control serum (1) diluted 1:100 on blots of HeLa-cell nuclear extracts separated on SDS-PAGE. The serum examined in lane 2 is identical to the one shown in Fig. 1, and the serum in lane 5 is a sample from the original patient described by Stanek et al [4]. Developed with anti-IgG antibodies. Molecular masses (\\u00d710-3) of standard proteins are indicated on the left.\",\n",
      "        \"fig_id\": \"F2\",\n",
      "        \"fig_label\": \"Figure 2\",\n",
      "        \"graphic_ref\": \"a:\\\\Vishal\\\\BiomedCLIP_data_pipeline\\\\_results\\\\data\\\\pubmed_open_access_files\\\\PMC17817\\\\ar-2-5-407-2.jpg\",\n",
      "        \"pair_id\": \"11056675_F2\"\n",
      "    },\n",
      "    {\n",
      "        \"fig_caption\": \"Isolation of antibody-reactive proteins by 2D gel electrophoresis and immunoblotting. (a) Two-dimensional gel electrophoresis of HeLa-cell nuclear extract. Molecular-weight marker positions are indicated on the left. Isoelectric focusing was in the horizontal dimension with the anode on the left. The gel is silver-stained. (b) Immunoblot from a separation similar to the one shown in (a), developed with the patient serum diluted 1:200. (c) Two-dimensional electrophoresis of a fraction of the nuclear extract purified by reversed-phase HPLC. (d) The immunoblot of the separation in (c), developed with a 1:200 dilution of patient serum. The two prominent spots marked with a circle in (c) were cut out separately and analyzed by MS after in-gel trypsin digestion.\",\n",
      "        \"fig_id\": \"F3\",\n",
      "        \"fig_label\": \"Figure 3\",\n",
      "        \"graphic_ref\": \"a:\\\\Vishal\\\\BiomedCLIP_data_pipeline\\\\_results\\\\data\\\\pubmed_open_access_files\\\\PMC17817\\\\ar-2-5-407-3.jpg\",\n",
      "        \"pair_id\": \"11056675_F3\"\n",
      "    },\n",
      "    {\n",
      "        \"fig_caption\": \"Identification of C1/C2 hnRNPs by MS and by tandem MS sequencing. (a) Collision-induced dissociation spectrum of a doubly charged ion at m/z 580.32 Da corresponding to the sequence 207-216 (VDSLLENLEK) of the C2 hnRNP. The Y ion signal series is shown together with the deduced sequence giving the peptide sequence tag (632.36)LLSD(1060.70). (b) Two sections of the MALDI-MS peptide-mass maps showing the difference between the upper (C2) hnRNP and the lower (C1) hnRNP spots excised from 2D gels (cf Fig. 3c). The signal at m/z 3433.6 Da detected in the trypsin-digested material from the upper spot could be identified as the tryptic peptide that includes the 13-amino-acid insert in C2 hnRNP (illustrated in the figure). Only the corresponding peptide without the insert could be detected (at m/z 2101.9 Da) in the peptide-mass map from the lower spot. Signals derived by autoproteolysis of trypsin are marked with stars.\",\n",
      "        \"fig_id\": \"F4\",\n",
      "        \"fig_label\": \"Figure 4\",\n",
      "        \"graphic_ref\": \"a:\\\\Vishal\\\\BiomedCLIP_data_pipeline\\\\_results\\\\data\\\\pubmed_open_access_files\\\\PMC17817\\\\ar-2-5-407-4.jpg\",\n",
      "        \"pair_id\": \"11056675_F4\"\n",
      "    }\n",
      "]\n",
      "[\n",
      "    {\n",
      "        \"fig_caption\": \"Cytokine and activation marker expressions by CD4+CD45RO+T cells from RA synovial tissue (RA1). RA synovial tissue CD4+CD45RO+ Tcells were sorted, and cytokine and activation marker expressions were immediately determined in the TCR C\\u03b2 (TCRBC) mRNA-positive wells employing single-cell RT-PCR. Amplified PCR products were separated by electrophoresis through 2.0% agarose. As negative controls, one well that did not contain a cell (C1) and one well that was not prepared with reverse transcriptase (C2) were analyzed.\",\n",
      "        \"fig_id\": \"F1\",\n",
      "        \"fig_label\": \"Figure 1\",\n",
      "        \"graphic_ref\": \"a:\\\\Vishal\\\\BiomedCLIP_data_pipeline\\\\_results\\\\data\\\\pubmed_open_access_files\\\\PMC17818\\\\ar-2-5-415-1.jpg\",\n",
      "        \"pair_id\": \"11056676_F1\"\n",
      "    }\n",
      "]\n",
      "[\n",
      "    {\n",
      "        \"fig_caption\": \"Development of antigen-induced arthritis. (a) Diameters of the injected knee joints and the contralateral knee joints at different time points of arthritis. The contralateral knees show a slight increase in their diameters owing to growth. (bStuttgart: Gustav Fischer Verlag;d) Arthritic changes of the knee joints at 3, 10, 21, 42 and 84 days after the induction of arthritis, and of knee joints from immunized non-arthritic animals (0 days) in comparison with untreated normal control animals (n). (b) Histological examination of acute inflammatory changes (fibrin exudation and granulocytic infiltration of the synovial membrane and the joint cavity) in the injected joint and the contralateral knee. (c) Histological examination of the chronic inflammatory changes (hyperplasia of synovial lining, infiltration of mononuclear leucocytes) of the injected joint and the contralateral knee. (d) Overall joint destruction (pannus formation and erosion of cartilage and bone) in the injected knee joint and in the contralateral knee joint. (e) Loss of proteoglycans (staining with safranin O) in the cartilage of the injected knee and the contralateral knee. All values are means and standard deviations.\",\n",
      "        \"fig_id\": \"F1\",\n",
      "        \"fig_label\": \"Figure 1\",\n",
      "        \"graphic_ref\": \"a:\\\\Vishal\\\\BiomedCLIP_data_pipeline\\\\_results\\\\data\\\\pubmed_open_access_files\\\\PMC17819\\\\ar-2-5-424-1.jpg\",\n",
      "        \"pair_id\": \"11056677_F1\"\n",
      "    },\n",
      "    {\n",
      "        \"fig_caption\": \"Bilateral upregulation of receptor expression during antigen-induced arthritis. (a) Proportions of DRG neurons with binding of SP\\u2013gold in control animals and in different groups of animals with AIA. (b) Proportions of DRG neurons with binding of BK\\u2013gold in control animals and in different groups of animals with AIA. Results for DRG neurons from immunized animals without knee injection are shown at 0 days. White bars, contralateral to injected knee; black bars, ipsilateral to injected knee.\",\n",
      "        \"fig_id\": \"F2\",\n",
      "        \"fig_label\": \"Figure 2\",\n",
      "        \"graphic_ref\": \"a:\\\\Vishal\\\\BiomedCLIP_data_pipeline\\\\_results\\\\data\\\\pubmed_open_access_files\\\\PMC17819\\\\ar-2-5-424-2.jpg\",\n",
      "        \"pair_id\": \"11056677_F2\"\n",
      "    },\n",
      "    {\n",
      "        \"fig_caption\": \"Nociceptive behaviour of the rats in different experimental groups. (a) Description of the gait, scored as follows: 4, no walking; 3, walking on three legs; 2, limping with the injected leg; 1, limping after pressure on the knee; 0, normal walking. (b) Withdrawal response of the injected and the contralateral knee on local stimulation of the knee with a mechanical device, scored as follows: 3, response to pressure in the range 75\\u2013150 g; 2, response to pressure in the range 150\\u2013200 g; 1, response to pressure in the range 200\\u2013250 g; 0, no response to pressure of more than 250 g. The symbols show mean scores and standard deviations. In (a) the standard deviation was zero at most time points.\",\n",
      "        \"fig_id\": \"F3\",\n",
      "        \"fig_label\": \"Figure 3\",\n",
      "        \"graphic_ref\": \"a:\\\\Vishal\\\\BiomedCLIP_data_pipeline\\\\_results\\\\data\\\\pubmed_open_access_files\\\\PMC17819\\\\ar-2-5-424-3.jpg\",\n",
      "        \"pair_id\": \"11056677_F3\"\n",
      "    },\n",
      "    {\n",
      "        \"fig_caption\": \"Isolated DRG neurons of the adult rat after incubation with SP\\u2013gold (a) or BK\\u2013gold (b) and subsequent enhancement with silver. The neurons were cultured for 18 h. The black staining indicates binding of SP\\u2013gold or BK\\u2013gold (arrows).\",\n",
      "        \"fig_id\": \"F4\",\n",
      "        \"fig_label\": \"Figure 4\",\n",
      "        \"graphic_ref\": \"a:\\\\Vishal\\\\BiomedCLIP_data_pipeline\\\\_results\\\\data\\\\pubmed_open_access_files\\\\PMC17819\\\\ar-2-5-424-4.jpg\",\n",
      "        \"pair_id\": \"11056677_F4\"\n",
      "    },\n",
      "    {\n",
      "        \"fig_caption\": \"Distribution of the relative grey values of DRG neurons ipsilateral and contralateral to the injected knee with SP\\u2013gold binding. (a) Neurons (n = 800, from eight cultures) from control incubations treated with an excess of substance P that was administered together with SP\\u2013gold. (b) Neurons (n = 500, from five cultures) from untreated control animals. (c) Neurons (n = 300, from three cultures) from immunized animals without knee injection. (d) Neurons (n = 500, from five cultures) from rats 3 days after the induction of arthritis (3 days). (e) Neurons (n = 500, from five cultures) from AIA rats (21 days). White bars, neurons exhibiting grey densities that were in the range of those observed in neurons from control incubations; black bars, neurons exhibiting grey densities that were higher than those observed in the neurons from control incubations.\",\n",
      "        \"fig_id\": \"F5\",\n",
      "        \"fig_label\": \"Figure 5\",\n",
      "        \"graphic_ref\": \"a:\\\\Vishal\\\\BiomedCLIP_data_pipeline\\\\_results\\\\data\\\\pubmed_open_access_files\\\\PMC17819\\\\ar-2-5-424-5.jpg\",\n",
      "        \"pair_id\": \"11056677_F5\"\n",
      "    },\n",
      "    {\n",
      "        \"fig_caption\": \"Size distribution of the cultured neurons from different experimental groups. The white bars show the proportions of neurons with different areas from experiments in which SP\\u2013gold-binding sites were determined. The neurons with SP\\u2013gold-binding sites are shown by the black bars.\",\n",
      "        \"fig_id\": \"F6\",\n",
      "        \"fig_label\": \"Figure 6\",\n",
      "        \"graphic_ref\": \"a:\\\\Vishal\\\\BiomedCLIP_data_pipeline\\\\_results\\\\data\\\\pubmed_open_access_files\\\\PMC17819\\\\ar-2-5-424-6.jpg\",\n",
      "        \"pair_id\": \"11056677_F6\"\n",
      "    },\n",
      "    {\n",
      "        \"fig_caption\": \"Displacement control for SP\\u2013gold with the specific NK1 receptor agonist [Sar9, Met(O2)11]-SP in DRG neurons ipsilateral and contralateral to the injected knee. The histograms on the left show the distribution of the grey values after treatment with SP\\u2013gold; the histograms on the right show the distribution of the grey values after the administration of SP\\u2013gold and [Sar9, Met(O2)11]-SP (1 \\u03bcmol/ml) together.\",\n",
      "        \"fig_id\": \"F7\",\n",
      "        \"fig_label\": \"Figure 7\",\n",
      "        \"graphic_ref\": \"a:\\\\Vishal\\\\BiomedCLIP_data_pipeline\\\\_results\\\\data\\\\pubmed_open_access_files\\\\PMC17819\\\\ar-2-5-424-7.jpg\",\n",
      "        \"pair_id\": \"11056677_F7\"\n",
      "    },\n",
      "    {\n",
      "        \"fig_caption\": \"Distribution of the relative grey values of DRG neurons ipsilateral and contralateral to the injected knee with BK\\u2013gold binding. (a) Neurons (n = 800, from eight cultures) from control incubations treated with an excess of BK that was administered together with BK\\u2013gold. (b) Neurons (n = 500, from five cultures) from untreated control animals. (c) Neurons (n = 300, from three cultures) from immunized animals without knee injection. (d) Neurons (n = 500, from five cultures) from AIA rats (3 days). (e) Neurons (n = 300, from three cultures) from AIA rats (42 days). White bars, neurons exhibiting grey densities that were in the range of those observed in neurons from control incubations; black bars, neurons exhibiting grey densities that were higher than those observed in the neurons from control incubations.\",\n",
      "        \"fig_id\": \"F8\",\n",
      "        \"fig_label\": \"Figure 8\",\n",
      "        \"graphic_ref\": \"a:\\\\Vishal\\\\BiomedCLIP_data_pipeline\\\\_results\\\\data\\\\pubmed_open_access_files\\\\PMC17819\\\\ar-2-5-424-8.jpg\",\n",
      "        \"pair_id\": \"11056677_F8\"\n",
      "    },\n",
      "    {\n",
      "        \"fig_caption\": \"Size distribution of the cultured neurons from different experimental groups. The white bars show the proportions of neurons with different areas from experiments in which BK\\u2013gold-binding sites were determined. The neurons with BK\\u2013gold-binding sites are shown by the black bars.\",\n",
      "        \"fig_id\": \"F9\",\n",
      "        \"fig_label\": \"Figure 9\",\n",
      "        \"graphic_ref\": \"a:\\\\Vishal\\\\BiomedCLIP_data_pipeline\\\\_results\\\\data\\\\pubmed_open_access_files\\\\PMC17819\\\\ar-2-5-424-9.jpg\",\n",
      "        \"pair_id\": \"11056677_F9\"\n",
      "    }\n",
      "]\n",
      "[\n",
      "    {\n",
      "        \"fig_caption\": \"Appearance of cells isolated from a BMPC-rich elutriation fraction of healthy human blood and cultured in DMEM-20% FCS for 8 days (a, b). At this time, the predominant cells consist of both fibroblast-like cells with a central nucleus, filmy cytoplasm, and adherent pseudopods, and large, round cells with a thin, adherent cytoplasm and a round, central nucleus. Hematoxylin staining. (a) \\u00d7200; (b) \\u00d7400. (c) The appearance of cells isolated from the same BMPC-rich elutriation fraction of healthy human blood and cultured in DMEM-20% FCS supplemented at the initiation of culture with dexamethasone (10-7mol), ascorbic-acid-2-phosphate (0.05 mmol), and \\u03b2-glycerophosphate (10 mmol) for 8 days. At this time, all the cells have a round or cuboidal morphology with a centrally placed nucleus. \\u00d7200. Compare with the nonsupplemented cultures in (a).\",\n",
      "        \"fig_id\": \"F1\",\n",
      "        \"fig_label\": \"Figure 1\",\n",
      "        \"graphic_ref\": \"a:\\\\Vishal\\\\BiomedCLIP_data_pipeline\\\\_results\\\\data\\\\pubmed_open_access_files\\\\PMC17820\\\\ar-2-6-477-1.jpg\",\n",
      "        \"pair_id\": \"11056678_F1\"\n",
      "    },\n",
      "    {\n",
      "        \"fig_caption\": \"Time-lapse video cinematography of a BMPC-rich elutriation fraction cultured in DMEM-20% FCS observed by phase-contrast microscopy. At day 2 (a), there are small, round cells in clusters and a few cells with pseudopods. By day 6 (b), there are many large, fibroblast-like cells and large, round, stromal cells arising from a cluster of small, round cells.\",\n",
      "        \"fig_id\": \"F2\",\n",
      "        \"fig_label\": \"Figure 2\",\n",
      "        \"graphic_ref\": \"a:\\\\Vishal\\\\BiomedCLIP_data_pipeline\\\\_results\\\\data\\\\pubmed_open_access_files\\\\PMC17820\\\\ar-2-6-477-2.jpg\",\n",
      "        \"pair_id\": \"11056678_F2\"\n",
      "    },\n",
      "    {\n",
      "        \"fig_caption\": \"BMPC-rich elutriation fraction from healthy human blood cultured in DMEM-20% FCS. Cells were fixed, stained with anti-BMPR 1A antibody (see Methods), and analyzed on days 3, 5, 8, and 11. BMPCs were determined by morphology (fibroblast-like [hatched bars] or big cells [filled bars]) and immunoperoxidase staining. Results are presented as the means of total number of cells in six individual images. \\u00d7400. Computer image analysis (AnalySIS).\",\n",
      "        \"fig_id\": \"F3\",\n",
      "        \"fig_label\": \"Figure 3\",\n",
      "        \"graphic_ref\": \"a:\\\\Vishal\\\\BiomedCLIP_data_pipeline\\\\_results\\\\data\\\\pubmed_open_access_files\\\\PMC17820\\\\ar-2-6-477-3.jpg\",\n",
      "        \"pair_id\": \"11056678_F3\"\n",
      "    },\n",
      "    {\n",
      "        \"fig_caption\": \"BMPC-rich elutriation fraction cultured on a sterile glass slide in DMEM-20% FCS and allowed to proliferate. (a) On day 7, the slide was washed and the cells were fixed and stained with anti-BMPR Type 1A antibody. In the background are many unstained, small, mononuclear cells. Two types of cell are stained: one looks like a fibroblast, and the other is a large, round cell with an adherent cytoplasm. (b) A similar culture on day 12, stained with anti-endoglin (CD105) antibody. The cytoplasm of almost all the large mesenchymal cells shows stippled staining with perinuclear accentuation.\",\n",
      "        \"fig_id\": \"F4\",\n",
      "        \"fig_label\": \"Figure 4\",\n",
      "        \"graphic_ref\": \"a:\\\\Vishal\\\\BiomedCLIP_data_pipeline\\\\_results\\\\data\\\\pubmed_open_access_files\\\\PMC17820\\\\ar-2-6-477-4.jpg\",\n",
      "        \"pair_id\": \"11056678_F4\"\n",
      "    },\n",
      "    {\n",
      "        \"fig_caption\": \"BMPC-rich elutriation fraction cultured in DMEM-20% FCS supplemented with dexamethasone, ascorbic acid, and \\u03b2-glycerophosphate (as described in Fig. 1). After 20 days, about one-third of the cells are very large. Their cytoplasm stains with an anti-calcitonin antibody. Immunoperoxidase staining is also observed in the matrix formed around some of the largest cells. In the same supplemented cultures are large cells containing neutral lipid (Sudan IV; red stain). (a) Shows both anti-calcitonin-stained cells (arrows) and sudanophilic cells (arrowheads) in the same supplemented cultures (\\u00d7250) and (b) is at higher magnification (\\u00d7400) showing a cell and its surrounding matrix stained with an anticalcitonin antibody (arrow).\",\n",
      "        \"fig_id\": \"F5\",\n",
      "        \"fig_label\": \"Figure 5\",\n",
      "        \"graphic_ref\": \"a:\\\\Vishal\\\\BiomedCLIP_data_pipeline\\\\_results\\\\data\\\\pubmed_open_access_files\\\\PMC17820\\\\ar-2-6-477-5.jpg\",\n",
      "        \"pair_id\": \"11056678_F5\"\n",
      "    },\n",
      "    {\n",
      "        \"fig_caption\": \"BMPC-rich elutriation fraction cultured in DMEM-20% FCS supplemented with dexamethasone, ascorbic acid, and \\u03b2-glycerophosphate (as described in Fig. 1) and examined daily thereafter. (a) By day 7 there are many large, multinucleated cells (phase-contrast microscopy). (b) These cells stain with an anti-vitronectin receptor antibody (\\u00d7250).\",\n",
      "        \"fig_id\": \"F6\",\n",
      "        \"fig_label\": \"Figure 6\",\n",
      "        \"graphic_ref\": \"a:\\\\Vishal\\\\BiomedCLIP_data_pipeline\\\\_results\\\\data\\\\pubmed_open_access_files\\\\PMC17820\\\\ar-2-6-477-6.jpg\",\n",
      "        \"pair_id\": \"11056678_F6\"\n",
      "    },\n",
      "    {\n",
      "        \"fig_caption\": \"BMPC-rich elutriation fractions (n = 4) cultured in DMEM-20% FCS with varying concentrations of BMP2 for 5 days. Supernatants were collected and analyzed for alkaline phosphatase activity (AP; the release of pNP is a measure of AP activity). The lowest concentration of BMP2 (1 ng/ml) caused a significant increase in AP activity. **P > 0.004.\",\n",
      "        \"fig_id\": \"F7\",\n",
      "        \"fig_label\": \"Figure 7\",\n",
      "        \"graphic_ref\": \"a:\\\\Vishal\\\\BiomedCLIP_data_pipeline\\\\_results\\\\data\\\\pubmed_open_access_files\\\\PMC17820\\\\ar-2-6-477-7.jpg\",\n",
      "        \"pair_id\": \"11056678_F7\"\n",
      "    },\n",
      "    {\n",
      "        \"fig_caption\": \"RT-PCR analysis for expression of mRNA for (a) the chemokine SDF-1 and (b) the housekeeping gene GA3PD in cultured BMPCs (GA42, GA43), and a rheumatoid arthritis synovial fibroblast line (RA505 passage 4). Note the similar RT-PCR fragment size in the samples to that in an SDF-1 plasmid (lane 5) included as a positive control. Conditions for RT-PCR and the primers used are described in the methods section.\",\n",
      "        \"fig_id\": \"F8\",\n",
      "        \"fig_label\": \"Figure 8\",\n",
      "        \"graphic_ref\": \"a:\\\\Vishal\\\\BiomedCLIP_data_pipeline\\\\_results\\\\data\\\\pubmed_open_access_files\\\\PMC17820\\\\ar-2-6-477-8.jpg\",\n",
      "        \"pair_id\": \"11056678_F8\"\n",
      "    }\n",
      "]\n",
      "[\n",
      "    {\n",
      "        \"fig_caption\": \"Inflammation in H&E-stained sections of mouse knee joints after induction of immune-mediated arthritis (ICA). (a) Section from FcR \\u03b3-chain-/- mouse 3 days after ICA induction. No inflammatory cells are visible in the joint space (js) or synovium (s). (b) Section from C57BL/6 (control) mouse 3 days after ICA induction. Florid inflammation is visible both in the joint space (exudate) and in the synovium (infiltrate) (orginal magnification 100\\u00d7).\",\n",
      "        \"fig_id\": \"F1\",\n",
      "        \"fig_label\": \"Figure 1\",\n",
      "        \"graphic_ref\": \"a:\\\\Vishal\\\\BiomedCLIP_data_pipeline\\\\_results\\\\data\\\\pubmed_open_access_files\\\\PMC17821\\\\ar-2-6-489-1.jpg\",\n",
      "        \"pair_id\": \"11056679_F1\"\n",
      "    },\n",
      "    {\n",
      "        \"fig_caption\": \"Semiquantitative mRNA measurements in synovial tissue of FcR \\u03b3-chain-/- and C57BL/6 (control) mice. Synovial mRNA levels of IL-1, IL-1Ra, MCP-1, and MIP-2, 6 and 24 h after induction of ICA. At certain points during the PCR reaction, samples were put on agarose gel and electrophoresis was performed. The number of the cycle in which the first band appeared was found: thus, a low cycle number means a higher mRNA content. Data were corrected for GAPDH signal. (Each group: n = 6.)\",\n",
      "        \"fig_id\": \"F2\",\n",
      "        \"fig_label\": \"Figure 2\",\n",
      "        \"graphic_ref\": \"a:\\\\Vishal\\\\BiomedCLIP_data_pipeline\\\\_results\\\\data\\\\pubmed_open_access_files\\\\PMC17821\\\\ar-2-6-489-2.jpg\",\n",
      "        \"pair_id\": \"11056679_F2\"\n",
      "    },\n",
      "    {\n",
      "        \"fig_caption\": \"Expression of Fc\\u03b3Rs in na\\u00efve knee joints of C57BL/6 and DBA/1 mice as detected by immunohistochemical staining using specific anti-Fc\\u03b3RII/III antibodies (mAb: 2.4G2) and subsequent development using di-aminobenzidine. (a) Na\\u00efve C57BL/6 mice. Very light staining of both synovial lining layer (arrows) and deeper layer. (b) Na\\u00efve DBA/1. Note the markedly higher staining intensity, especially of the cells of the synovial lining (arrows) (original magnification 200\\u00d7).\",\n",
      "        \"fig_id\": \"F3\",\n",
      "        \"fig_label\": \"Figure 3\",\n",
      "        \"graphic_ref\": \"a:\\\\Vishal\\\\BiomedCLIP_data_pipeline\\\\_results\\\\data\\\\pubmed_open_access_files\\\\PMC17821\\\\ar-2-6-489-3.jpg\",\n",
      "        \"pair_id\": \"11056679_F3\"\n",
      "    },\n",
      "    {\n",
      "        \"fig_caption\": \"Expression of Fc\\u03b3Rs by resident peritoneal macrophages of C57BL/6 and DBA/1 mice as determined by fluorescence in FACS analysis. Almost twice as many receptors were expressed in DBA/1 as in C57BL/6 (control) mice. Cells were isolated from na\\u00efve mice using ice-cold medium and thereafter incubated with an anti-Fc\\u03b3R antibody (2.4G2) that recognises both Fc\\u03b3RII and RIII. Incubation with FITC-labeled secondary antibody followed.\",\n",
      "        \"fig_id\": \"F4\",\n",
      "        \"fig_label\": \"Figure 4\",\n",
      "        \"graphic_ref\": \"a:\\\\Vishal\\\\BiomedCLIP_data_pipeline\\\\_results\\\\data\\\\pubmed_open_access_files\\\\PMC17821\\\\ar-2-6-489-4.jpg\",\n",
      "        \"pair_id\": \"11056679_F4\"\n",
      "    },\n",
      "    {\n",
      "        \"fig_caption\": \"IL-1 production by peritoneal macrophages. Production of bioactive IL-1 (pg/ml) by peritoneal macrophages of C57BL/6 and DBA/1 mice 24 and 48 h after stimulation with HAGGs (100 \\u03bcg/ml). IL-1 production was measured using an IL-1-specific bioassay (NOB assay). The higher production by macrophages of DBA/1 than of C57BL/6 mice was significant (*P < 0.02).\",\n",
      "        \"fig_id\": \"F5\",\n",
      "        \"fig_label\": \"Figure 5\",\n",
      "        \"graphic_ref\": \"a:\\\\Vishal\\\\BiomedCLIP_data_pipeline\\\\_results\\\\data\\\\pubmed_open_access_files\\\\PMC17821\\\\ar-2-6-489-5.jpg\",\n",
      "        \"pair_id\": \"11056679_F5\"\n",
      "    },\n",
      "    {\n",
      "        \"fig_caption\": \"Cartilage damage during ICA. Safranin-O-stained knee-joint sections of FcR \\u03b3-chain-/-, C57BL/6, and DBA/1 mice 3 and 7 days after induction of ICA. Proteoglycan depletion was correlated with destaining of the superficial layer of the cartilage matrix, which is normally stained red. Both patellar (P) and femoral (F) cartilage are shown. (a) FcR \\u03b3-chain-/- 3 days after ICA induction. No proteoglycan depletion is seen. (b) C57BL/6 mouse 3 days after ICA induction. Marked destaining of the matrix is found. (c) C57BL/6 mouse 7 days after ICA induction. The absence of depleted areas suggests that the matrix has been completely restored. (d) DBA/1 mouse 3 days after ICA induction. The cartilage matrix is completely depleted, indicating considerable PG loss. (e) Same mouse strain (DBA/1) as in (d), 7 days after ICA induction. The cartilage matrix seems still devoid of PG, suggesting that no repair has taken place. Moreover, marked erosion of the matrix is visible, mainly of the femoral cartilage.\",\n",
      "        \"fig_id\": \"F6\",\n",
      "        \"fig_label\": \"Figure 6\",\n",
      "        \"graphic_ref\": \"a:\\\\Vishal\\\\BiomedCLIP_data_pipeline\\\\_results\\\\data\\\\pubmed_open_access_files\\\\PMC17821\\\\ar-2-6-489-6.jpg\",\n",
      "        \"pair_id\": \"11056679_F6\"\n",
      "    }\n",
      "]\n",
      "[\n",
      "    {\n",
      "        \"fig_caption\": \"RNase protection assay with the set of coagulation/fibrinolytic genes. (a) Typical eight-band protection pattern resulting from the analysis of 5 \\u03bcg of mouse-skin total RNA. (b) Kidney RNA prepared from various knockout (KO) mice (PAI1-, UPA-, or PAR1-deficient mice) and from wild-type (WT) mice, analyzed using RPA. (c) Kidney RNA prepared from lipopolysaccharide (LPS)-treated or untreated mice, analyzed using RPA. (d) RNA from murine hypoxic or normal endothelial cells, analyzed using RPA. In all these RPA experiments, 5 \\u03bcg of total RNA/lane was analyzed.\",\n",
      "        \"fig_id\": \"F1\",\n",
      "        \"fig_label\": \"Figure 1\",\n",
      "        \"graphic_ref\": \"a:\\\\Vishal\\\\BiomedCLIP_data_pipeline\\\\_results\\\\data\\\\pubmed_open_access_files\\\\PMC17822\\\\ar-2-6-504-1.jpg\",\n",
      "        \"pair_id\": \"11056680_F1\"\n",
      "    },\n",
      "    {\n",
      "        \"fig_caption\": \"Synovial levels of mRNA from procoagulant and fibrinolytic genes in AIA, as analyzed by RPA. (a) Autoradiographic signals of synovial RNA samples from left (L; control) and right (R) knees, 4 h after arthritis induction. The single sample shown for each condition shows the typical, reproducible pattern obtained from the RPA analysis of at least three different RNAs, each from different animals. (b) Same as (a), but 7 d after arthritis induction.\",\n",
      "        \"fig_id\": \"F2\",\n",
      "        \"fig_label\": \"Figure 2\",\n",
      "        \"graphic_ref\": \"a:\\\\Vishal\\\\BiomedCLIP_data_pipeline\\\\_results\\\\data\\\\pubmed_open_access_files\\\\PMC17822\\\\ar-2-6-504-2.jpg\",\n",
      "        \"pair_id\": \"11056680_F2\"\n",
      "    },\n",
      "    {\n",
      "        \"fig_caption\": \"Time course of accumulation of mRNA from procoagulant and fibrinolytic genes during AIA. RNA levels are expressed as arthritic/normal knee value ratios, after correcting for GAPDH signal. The 0 time point is given the value 1. Values are the mean \\u00b1 SEM of at least three different mRNA values from three different mice.\",\n",
      "        \"fig_id\": \"F3\",\n",
      "        \"fig_label\": \"Figure 3\",\n",
      "        \"graphic_ref\": \"a:\\\\Vishal\\\\BiomedCLIP_data_pipeline\\\\_results\\\\data\\\\pubmed_open_access_files\\\\PMC17822\\\\ar-2-6-504-3.jpg\",\n",
      "        \"pair_id\": \"11056680_F3\"\n",
      "    },\n",
      "    {\n",
      "        \"fig_caption\": \"RNA from procoagulant and fibrinolytic genes in paws of mice with CIA, as analyzed by RPA. (a) Autoradiographic signals of RNA samples from eitherarthritic paws (CIA) or normal paws from nonimmunized (NI) animals. The single sample shown for each condition represents the typical, reproducible pattern obtained from the RPA analysis of four RNAs, each from a different animal. (b) Expression of genes studied during CIA, shown as the ratio of mRNA in arthritic to that in normal paws (CIA/NI), after correction for GAPDH signal. Values are means \\u00b1 SEM of at least four different mRNA values from four different mice. \\u00a0*P < 0.05, CIA versus NI values.\",\n",
      "        \"fig_id\": \"F4\",\n",
      "        \"fig_label\": \"Figure 4\",\n",
      "        \"graphic_ref\": \"a:\\\\Vishal\\\\BiomedCLIP_data_pipeline\\\\_results\\\\data\\\\pubmed_open_access_files\\\\PMC17822\\\\ar-2-6-504-4.jpg\",\n",
      "        \"pair_id\": \"11056680_F4\"\n",
      "    },\n",
      "    {\n",
      "        \"fig_caption\": \"Activity of procoagulant and TF and concentrations of plasma TAT in mice with induced arthritis (CIA or AIA) and controls. (a) PCA (expressed in seconds taken for thrombus formation) in tissue extracts. Arthritic tissue extracts (A) were prepared from arthritic, swollen paws at day 42 after the first immunization (CIA model) or from arthritic right knee joints at day 3 after arthritis induction (AIA model). Nonarthritic (NA) tissue extracts were from paws of normal, nonimmunized mice (CIA model) or normal left knees (contralateral to induced arthritis; AIA model). (b) TF activity in arthritic (A) and nonarthritic (NA) tissue extracts (the same extracts as were used for PCA), measured using a chromogenic assay. (c) Plasma concentrations of TAT complexes as determined in arthritic (A) mice in comparison with nonimmunized, nonarthritic (NA) controls. Citrated plasmas from arthritic mice were prepared at day 42 after the first immunization (CIA model) or at day 3 after arthritis induction (AIA model). Values are means \\u00b1 SEM of at least four samples from four mice. \\u2013*P < 0.05, arthritic versus nonarthritic values.\",\n",
      "        \"fig_id\": \"F5\",\n",
      "        \"fig_label\": \"Figure 5\",\n",
      "        \"graphic_ref\": \"a:\\\\Vishal\\\\BiomedCLIP_data_pipeline\\\\_results\\\\data\\\\pubmed_open_access_files\\\\PMC17822\\\\ar-2-6-504-5.jpg\",\n",
      "        \"pair_id\": \"11056680_F5\"\n",
      "    }\n",
      "]\n",
      "[\n",
      "    {\n",
      "        \"fig_caption\": \"IL-12 protects against S aureus-induced death (n = 9 for both IL-12+/+ and IL-12-/-). Cumulative mortality in response to inoculation of 4 \\u00d7 108S aureus per mouse. The experiment was finished at day 21, when seven out of the nine IL-12+/+were still alive.\",\n",
      "        \"fig_id\": \"F1\",\n",
      "        \"fig_label\": \"Figure 1\",\n",
      "        \"graphic_ref\": \"a:\\\\Vishal\\\\BiomedCLIP_data_pipeline\\\\_results\\\\data\\\\pubmed_open_access_files\\\\PMC17823\\\\AR-3-1-041-1.jpg\",\n",
      "        \"pair_id\": \"11178125_F1\"\n",
      "    },\n",
      "    {\n",
      "        \"fig_caption\": \"Effect of IL-12 on staphylococcal growth in vivo. (a) Bacterial growth in the liver, at days 2, 7 and 20 after staphylococcal inoculation. At day 2, n = 5 in each group; at day 7, n = 6 IL-12-deficient mice and 5 control animals; and at day 20, n = 8 IL-12-/- mice and 9 wild-type controls. (b) Bacterial growth in the kidneys, at days 2, 7 and 20 after staphylococcal inoculation. At day 2, n = 5 in each group; at day 7, n = 6 IL-12-deficient mice and 5 control animals; and at day 20, n = 8 IL-12-/- mice and 9 wild-type controls. (c) Frequency of mice with bacterial growth in the joints, at days 2, 7 and 20 after staphylococcal inoculation. At day 2, n = 5 in each group; at day 7, n = 6 IL-12-deficient mice and 5 control animals; and at day 20, n = 8 IL-12-/- mice and 9 wild-type controls. Fifteen CFU was regarded as a positive staphylococcal growth. (d) Bacterial growth in blood, 6 h after staphylococcal inoculation; n = 5 for both IL-12+/+ and IL-12-/-.\",\n",
      "        \"fig_id\": \"F2\",\n",
      "        \"fig_label\": \"Figure 2\",\n",
      "        \"graphic_ref\": \"a:\\\\Vishal\\\\BiomedCLIP_data_pipeline\\\\_results\\\\data\\\\pubmed_open_access_files\\\\PMC17823\\\\AR-3-1-041-2.jpg\",\n",
      "        \"pair_id\": \"11178125_F2\"\n",
      "    }\n",
      "]\n",
      "[\n",
      "    {\n",
      "        \"fig_caption\": \"Hybridization in situ of synovium from the knee of an arthritic mouse, showing expression of TNF-\\u03b1 mRNA 3 d after intra-articular injection of ODN 1668.\",\n",
      "        \"fig_id\": \"F1\",\n",
      "        \"fig_label\": \"Figure 1\",\n",
      "        \"graphic_ref\": \"a:\\\\Vishal\\\\BiomedCLIP_data_pipeline\\\\_results\\\\data\\\\pubmed_open_access_files\\\\PMC17824\\\\AR-3-1-048-1.jpg\",\n",
      "        \"pair_id\": \"11178126_F1\"\n",
      "    },\n",
      "    {\n",
      "        \"fig_caption\": \"Kinetics of synovial cytokine mRNA expression in knees of mice given an intra-articular injection (6 \\u03bcg) of CpG ODN. (a) IFN-\\u03b3 and IL-1\\u03b2; (b) TNF-\\u03b1 and IL-12. Each bar represents the mean number and SEM of stained cells per mm2 in synovial tissue from four mice for each interval after inoculation.\",\n",
      "        \"fig_id\": \"F2\",\n",
      "        \"fig_label\": \"Figure 2\",\n",
      "        \"graphic_ref\": \"a:\\\\Vishal\\\\BiomedCLIP_data_pipeline\\\\_results\\\\data\\\\pubmed_open_access_files\\\\PMC17824\\\\AR-3-1-048-2.jpg\",\n",
      "        \"pair_id\": \"11178126_F2\"\n",
      "    },\n",
      "    {\n",
      "        \"fig_caption\": \"Incidence and severity of arthritis in knees of IL-12 knockout mice (IL-12\\u2013/\\u2013) (n = 8) in comparison with their wild-type littermates (IL-12+/+) (n = 9), 3 d after intra-articular inoculation with 6 \\u03bcg CpG ODN. (a) Incidence. (b) Severity. NS = not significant.\",\n",
      "        \"fig_id\": \"F3\",\n",
      "        \"fig_label\": \"Figure 3\",\n",
      "        \"graphic_ref\": \"a:\\\\Vishal\\\\BiomedCLIP_data_pipeline\\\\_results\\\\data\\\\pubmed_open_access_files\\\\PMC17824\\\\AR-3-1-048-3.jpg\",\n",
      "        \"pair_id\": \"11178126_F3\"\n",
      "    },\n",
      "    {\n",
      "        \"fig_caption\": \"Expression of cytokine mRNA in synovial tissue from knees of IL-12 knockout mice (IL-12\\u2013/\\u2013) in comparison with their wild-type littermates (IL-12+/+), 3 d after intra-articular inoculation with 6 \\u03bcg CpG ODN. Each bar represents the mean number and SEM of positive cells per mm2 in synovial tissue from four mice. NS = not significant.\",\n",
      "        \"fig_id\": \"F4\",\n",
      "        \"fig_label\": \"Figure 4\",\n",
      "        \"graphic_ref\": \"a:\\\\Vishal\\\\BiomedCLIP_data_pipeline\\\\_results\\\\data\\\\pubmed_open_access_files\\\\PMC17824\\\\AR-3-1-048-4.jpg\",\n",
      "        \"pair_id\": \"11178126_F4\"\n",
      "    },\n",
      "    {\n",
      "        \"fig_caption\": \"TNF-\\u03b1 production in vitro by spleen mononuclear cells from IL-12 knockout mice (IL-12\\u2013/\\u2013) in comparison with cells from their wild-type littermates (IL-12+/+), after stimulation with CpG ODN (1 \\u03bcm) or lipopolysaccharides (LPS) (1 \\u03bcg/ml). Values are means and SEM from three mice per group. *P < 0.05. NS = not significant.\",\n",
      "        \"fig_id\": \"F5\",\n",
      "        \"fig_label\": \"Figure 5\",\n",
      "        \"graphic_ref\": \"a:\\\\Vishal\\\\BiomedCLIP_data_pipeline\\\\_results\\\\data\\\\pubmed_open_access_files\\\\PMC17824\\\\AR-3-1-048-5.jpg\",\n",
      "        \"pair_id\": \"11178126_F5\"\n",
      "    }\n",
      "]\n",
      "[\n",
      "    {\n",
      "        \"fig_caption\": \"Representative cytokine profiles of Tm isolated from healthy donors and RA patients. CD4+, CD45RO+ T cells were isolated from the blood and synovial fluid of an RA patient (RA Patient 1), the blood and synovial tissue of an RA patient (RA Patient 7), and the blood of a healthy donor (Normal 1). Intracellular cytokines were assessed for peripheral blood and synovial cells from RA patients or blood of healthy donors. Cells were briefly stimulated for 6 h, fixed, permeabilized and stained with directly labeled control antibodies or anti-IFN-\\u03b3-FITC in combination with either PE-labeled anti-IL-2 or PE-labeled anti-IL-4, as indicated on the axes; 104 cells were collected for each analysis. The numbers shown represent the percentages of cells in each quadrant. Control staining with IgG-PE and IgG-FITC was carried out for each sample as shown (Normal 1) and the background was subtracted. Samples were obtained from matching RA blood and synovial fluid (n = 5), matching blood and synovial tissue (n = 3), and normal blood (n = 11). Statistical analysis of all samples evaluated for intracellular cytokines immediately after isolation is shown in Fig. 2.\",\n",
      "        \"fig_id\": \"F1\",\n",
      "        \"fig_label\": \"Figure 1\",\n",
      "        \"graphic_ref\": \"a:\\\\Vishal\\\\BiomedCLIP_data_pipeline\\\\_results\\\\data\\\\pubmed_open_access_files\\\\PMC17825\\\\AR-3-1-054-1.jpg\",\n",
      "        \"pair_id\": \"11178127_F1\"\n",
      "    },\n",
      "    {\n",
      "        \"fig_caption\": \"Frequency of cytokine producing cells in Tm subsets. Intracellular staining for cytokines was assessed for CD4+, CD45RO+ T cells that were immediately stimulated after isolation as described in Fig. 1; 104 cells were collected for each analysis of normal blood (n = 11), RAPB (n = 9), RASF (n = 8), and RAST (n = 4). The total number of cytokine-producing cells detected in each sample is shown in the upper right corner of each graph. The frequency of each subset of cytokine-producing cells is shown (mean \\u00b1 standard error of the mean). The frequency was derived by using the total number of cytokine-producing cells as the denominator (\\u00d7 100). Statistically significant differences are described in Results.\",\n",
      "        \"fig_id\": \"F2\",\n",
      "        \"fig_label\": \"Figure 2\",\n",
      "        \"graphic_ref\": \"a:\\\\Vishal\\\\BiomedCLIP_data_pipeline\\\\_results\\\\data\\\\pubmed_open_access_files\\\\PMC17825\\\\AR-3-1-054-2.jpg\",\n",
      "        \"pair_id\": \"11178127_F2\"\n",
      "    },\n",
      "    {\n",
      "        \"fig_caption\": \"RA synovial memory T cells are deficient in IL-4-producing cells after in vitro priming. CD4+ memory effector T cells were placed into priming cultures to generate effector cells. Effector T cells were generated by priming in the presence of anti-CD28 mAb and cytokines, as described in Materials and methods, or with additional immobilized anti-CD3 mAb, OKT3, at the indicated concentrations (T3lo, 0.01 \\u03bcg/ml; and T3hi, 1 \\u03bcg/ml). After priming, the cells were harvested and rested in cytokines before restimulation to detect intracellular cytokines as described in Materials and methods; 104 cells were collected for each analysis. The data shown were derived from independent experiments; for normal donors (n = 4), RAPB (n = 4), RASF (n = 4), and RAST (n = 3), low-dose OKT3 was omitted in one experiment. The frequency of each subset of cytokine-producing cells is shown. The total number of cytokine-producing cells in each sample is shown in the upper right corner. *P < 0.05, versus freshly isolated samples shown in Fig. 2 (two-tailed Student's t-test).\",\n",
      "        \"fig_id\": \"F3\",\n",
      "        \"fig_label\": \"Figure 3\",\n",
      "        \"graphic_ref\": \"a:\\\\Vishal\\\\BiomedCLIP_data_pipeline\\\\_results\\\\data\\\\pubmed_open_access_files\\\\PMC17825\\\\AR-3-1-054-3.jpg\",\n",
      "        \"pair_id\": \"11178127_F3\"\n",
      "    },\n",
      "    {\n",
      "        \"fig_caption\": \"In vitro generation of effector cells in the presence of anti-IFN-\\u03b3 antibody. CD4+ memory effector T cells obtained from the peripheral blood of a healthy donor (normal) or from RASF (patient) were stimulated as described in Fig. 3 with immobilized anti-CD3 mAb (OKT3, 0.01 \\u03bcg/ml), anti-CD28, and cytokines. In addition, cultures were carried out in the presence of increasing concentrations of a neutralizing anti-IFN-\\u03b3 antibody as indicated. After priming, the cells were washed, rested for 2.5 days and restimulated with mitogen to assess intracellular cytokines; 104 cells were collected for each analysis. The data are representative of at least two experiments. No significant difference was observed in the presence of anti-IFN-\\u03b3 antibody (P > 0.05).\",\n",
      "        \"fig_id\": \"F4\",\n",
      "        \"fig_label\": \"Figure 4\",\n",
      "        \"graphic_ref\": \"a:\\\\Vishal\\\\BiomedCLIP_data_pipeline\\\\_results\\\\data\\\\pubmed_open_access_files\\\\PMC17825\\\\AR-3-1-054-4.jpg\",\n",
      "        \"pair_id\": \"11178127_F4\"\n",
      "    },\n",
      "    {\n",
      "        \"fig_caption\": \"T-cell growth in the presence of IL-4 and anti-IFN-\\u03b3 antibody. T cells (0.5 \\u00d7 106/sample) were cultured in the presence or absence of IL-4, anti-IFN-\\u03b3 antibody, or both as described in Table 1. After priming, the cells were harvested and counted to assess cell growth, as described in Materials and methods. Similar results were obtained in at least two experiments. No significant difference (P > 0.05) was observed when the cells were cultured in the presence of IL-4 alone or in combination with anti-IFN-\\u03b3 antibody.\",\n",
      "        \"fig_id\": \"F5\",\n",
      "        \"fig_label\": \"Figure 5\",\n",
      "        \"graphic_ref\": \"a:\\\\Vishal\\\\BiomedCLIP_data_pipeline\\\\_results\\\\data\\\\pubmed_open_access_files\\\\PMC17825\\\\AR-3-1-054-5.jpg\",\n",
      "        \"pair_id\": \"11178127_F5\"\n",
      "    }\n",
      "]\n",
      "[\n",
      "    {\n",
      "        \"fig_caption\": \"Chemokine levels in tissue extracts from clinically uninvolved (CU) compared to clinically involved (CI) joints in paired (connected, filled circles) synovial biopsies from eight patients with RA. Also shown are results from unpaired (open circles) synovial biopsies. Chemokine levels are expressed as ng/mg of tissue extract.\",\n",
      "        \"fig_id\": \"F1\",\n",
      "        \"fig_label\": \"Figure 1\",\n",
      "        \"graphic_ref\": \"a:\\\\Vishal\\\\BiomedCLIP_data_pipeline\\\\_results\\\\data\\\\pubmed_open_access_files\\\\PMC17826\\\\AR-3-1-065-1.jpg\",\n",
      "        \"pair_id\": \"11178128_F1\"\n",
      "    },\n",
      "    {\n",
      "        \"fig_caption\": \"Representative examples of synovial tissue sections stained for interleukin-8 (CXCL8) protein expression [immunohistochemistry, CXCL8 monoclonal antibody (mAb)] and CXCL8 mRNA expression (in-situ hybridization, anti-sense CXCL8 riboprobe) in normal synovium and in synovial tissue from paired clinically uninvolved knee joints and clinically involved knee joints of rheumatoid arthritis (RA) patients and control sections with a sense probe or aspecific mAb.\",\n",
      "        \"fig_id\": \"F2\",\n",
      "        \"fig_label\": \"Figure 2\",\n",
      "        \"graphic_ref\": \"a:\\\\Vishal\\\\BiomedCLIP_data_pipeline\\\\_results\\\\data\\\\pubmed_open_access_files\\\\PMC17826\\\\AR-3-1-065-2.jpg\",\n",
      "        \"pair_id\": \"11178128_F2\"\n",
      "    },\n",
      "    {\n",
      "        \"fig_caption\": \"Mean integrated optical density (IOD) for interleukin-8 (CXCL8) protein expression (immunohistochemistry) and CXCL8 mRNA expression (in situ hybridization) in normal synovium and in synovial tissue from paired clinically uninvolved knee joints and clinically involved knee joints of rheumatoid arthritis (RA) patients. Abbreviation: ns, not significant.\",\n",
      "        \"fig_id\": \"F3\",\n",
      "        \"fig_label\": \"Figure 3\",\n",
      "        \"graphic_ref\": \"a:\\\\Vishal\\\\BiomedCLIP_data_pipeline\\\\_results\\\\data\\\\pubmed_open_access_files\\\\PMC17826\\\\AR-3-1-065-3.jpg\",\n",
      "        \"pair_id\": \"11178128_F3\"\n",
      "    },\n",
      "    {\n",
      "        \"fig_caption\": \"Interleukin-8 (CXCL8) expression and mRNA levels in synovial tissue (ST) from clinically uninvolved (CU) and from clinically involved (CI) joints in paired synovial biopsies from seven patients with rheumatoid arthritis (RA) (connected, filled circles). Also shown are results from one unpaired (open circles) synovial biopsy. CXCL8 levels are expressed as integrated optical density measured with digital image analysis on ST sections stained immunohistochemically and with in situ hybridization.\",\n",
      "        \"fig_id\": \"F4\",\n",
      "        \"fig_label\": \"Figure 4\",\n",
      "        \"graphic_ref\": \"a:\\\\Vishal\\\\BiomedCLIP_data_pipeline\\\\_results\\\\data\\\\pubmed_open_access_files\\\\PMC17826\\\\AR-3-1-065-4.jpg\",\n",
      "        \"pair_id\": \"11178128_F4\"\n",
      "    }\n",
      "]\n",
      "[\n",
      "    {\n",
      "        \"fig_caption\": \"Immunohistochemical staining of primary-culture RA synovial cells in chamber slides: (A), (B), (D)-(H) phase contrast, and (C) lightfield. While (A) control isotype-matched mAbs (peroxidase) or (B) rabbit serum (APAAP) showed no positive reaction, (C) the anti-Thy-1 mAb AS02 stained large, flat, spindle-shaped or stellate-shaped cells (ie cells with FB morphology; alkaline phosphatase, purple staining) and (D) the anti-CD14 mAb RMO52 identified small, round cells, conceivably macrophages (peroxidase, brown staining). The RA-SFB clearly expressed (E) procollagen I and (H) procollagen III (APAAP, red staining). The primary culture contained no endothelial cells, as documented by the lack of staining for (F) von Willebrand factor (APAAP) and (G) CD144 (APAAP). Original magnification: (A), (B), (F), and (G), 184 \\u00d7; (C)-(E) and (H) 368 \\u00d7.\",\n",
      "        \"fig_id\": \"F1\",\n",
      "        \"fig_label\": \"Figure 1\",\n",
      "        \"graphic_ref\": \"a:\\\\Vishal\\\\BiomedCLIP_data_pipeline\\\\_results\\\\data\\\\pubmed_open_access_files\\\\PMC17827\\\\AR-3-1-072-1.jpg\",\n",
      "        \"pair_id\": \"11178129_F1\"\n",
      "    },\n",
      "    {\n",
      "        \"fig_caption\": \"FACS/histochemical analysis of the negative fraction following isolation of RA-SFB from primary culture using Dynabeads\\u00ae M-450 CD14. The AS02/Thy-1+ RA-SFB (A) were almost free of contaminating CD14+(B) (mAb Tyk4) or CD68+ macrophages (D) (mAb PG-M1). The RA-SFB were accordingly negative for the macrophage marker non-specific esterase (histochemistry (C)). Original magnification: (C) 184 \\u00d7. PE, phycoerythrine; FITC, fluoresceine isothiocyanate.\",\n",
      "        \"fig_id\": \"F2\",\n",
      "        \"fig_label\": \"Figure 2\",\n",
      "        \"graphic_ref\": \"a:\\\\Vishal\\\\BiomedCLIP_data_pipeline\\\\_results\\\\data\\\\pubmed_open_access_files\\\\PMC17827\\\\AR-3-1-072-2.jpg\",\n",
      "        \"pair_id\": \"11178129_F2\"\n",
      "    },\n",
      "    {\n",
      "        \"fig_caption\": \"Immunohistochemical staining of the RA synovial membrane with the anti-Thy-1 mAb AS02. (A) This mAb strongly stained cells in the connective tissue layer beneath the lining layer (APAAP, red staining; arrows), while largely sparing cells of the lining layer (arrowhead). Endothelial cells (asterisk) and connective tissue cells in diffuse infiltrates were also stained, more weakly in the latter case. In serial sections, the anti-CD14 mAb MoS39 (kindly provided by Prof GR Burmester, Berlin, Germany) stained macrophages in the lining layer (arrowhead in (C)) and diffuse inflammatory infiltrates (peroxidase, brown staining; arrow in (C), (E)); the mAb against von Willebrand factor stained endothelial cells (peroxidase, brown staining; (D), (F), (G)). In double-staining experiments, the anti-Thy-1 mAb AS02 showed no overlap with anti-CD14 staining (E). In contrast, endothelial cells were double-stained with both the antibody against von Willebrand factor and the anti-Thy-1 mAb AS02 [arrowheads in (F)(G)]. There was no positive reaction with control isotype-matched mAbs (APAAP and peroxidase) (B), employed as controls for double-staining [(E), (F), (G)]. Original magnification: (A)-(D) and (F), 92 \\u00d7; (E) and (G), 184 \\u00d7.\",\n",
      "        \"fig_id\": \"F3\",\n",
      "        \"fig_label\": \"Figure 3\",\n",
      "        \"graphic_ref\": \"a:\\\\Vishal\\\\BiomedCLIP_data_pipeline\\\\_results\\\\data\\\\pubmed_open_access_files\\\\PMC17827\\\\AR-3-1-072-3.jpg\",\n",
      "        \"pair_id\": \"11178129_F3\"\n",
      "    },\n",
      "    {\n",
      "        \"fig_caption\": \"FACS analysis of primary-culture RA synovial cells (following 7 days of culture). The primary culture contained virtually only cells staining either with the FB-directed anti-Thy-1 mAb AS02 (A) or with the monocyte/macrophage-specific anti-CD14 mAb Tyk4 (B). FITC, fluoresceine isothiocyanate.\",\n",
      "        \"fig_id\": \"F4\",\n",
      "        \"fig_label\": \"Figure 4\",\n",
      "        \"graphic_ref\": \"a:\\\\Vishal\\\\BiomedCLIP_data_pipeline\\\\_results\\\\data\\\\pubmed_open_access_files\\\\PMC17827\\\\AR-3-1-072-4.jpg\",\n",
      "        \"pair_id\": \"11178129_F4\"\n",
      "    },\n",
      "    {\n",
      "        \"fig_caption\": \"Morphology of negatively isolated RA-SFB and macrophages upon reculture. When recultured, the RA-SFB obtained by negative isolation with Dynabeads\\u00ae M-450 CD14 showed almost exclusively spindle-shaped, flat or stellate morphology (A). Recultured CD14+ cells (B) exhibited small, round, macrophage-like morphology with attached magnetobeads, and contained only very few cells with FB morphology. Original maginification: 368 \\u00d7.\",\n",
      "        \"fig_id\": \"F5\",\n",
      "        \"fig_label\": \"Figure 5\",\n",
      "        \"graphic_ref\": \"a:\\\\Vishal\\\\BiomedCLIP_data_pipeline\\\\_results\\\\data\\\\pubmed_open_access_files\\\\PMC17827\\\\AR-3-1-072-5.jpg\",\n",
      "        \"pair_id\": \"11178129_F5\"\n",
      "    },\n",
      "    {\n",
      "        \"fig_caption\": \"Phenotype of isolated primary-culture RA-SFB (lower panels) in comparison with primary-culture normal skin-FB (upper panel) and isolated primary-culture OA-SFB. The double-staining experiments were performed with the anti-Thy-1 mAb AS02. (A)-(C) The expression of Thy-1 (A), MHC-II/Thy-1 (B) (double-staining), and vimentin/Thy-1 (C) (double-staining) in normal skin-FB; (D)-(F) the expression of Thy-1 (D), MHC-II/Thy-1 (E) (double-staining), and vimentin/Thy-1 (F) (double-staining) in OA-SFB; (G)-(I) the expression of the antigens Thy-1 (G), MHC-II/Thy-1 (H) (double-staining), vimentin/Thy-1 (I) (double-staining) on RA-SFB; (J)-(L) the expression of the cytoplasmic antigens procollagen I (J) and procollagen III/Thy-1 (K) (single-staining for procollagen III) and (L) (double-staining) in RA-SFB. Expression of prolyl-4-hydroxylase (M) and the proto-oncogenes c-Fos (N), and c-Jun (O) in RA-SFB is also shown. See Results and Table 4 for mean values and statistical comparison among the different FB types. PE, phycoerythrine; FITC, fluoresceine isothiocyanate.\",\n",
      "        \"fig_id\": \"F6\",\n",
      "        \"fig_label\": \"Figure 6\",\n",
      "        \"graphic_ref\": \"a:\\\\Vishal\\\\BiomedCLIP_data_pipeline\\\\_results\\\\data\\\\pubmed_open_access_files\\\\PMC17827\\\\AR-3-1-072-6.jpg\",\n",
      "        \"pair_id\": \"11178129_F6\"\n",
      "    },\n",
      "    {\n",
      "        \"fig_caption\": \"Phenotype comparison of isolated primary-culture (left column) and conventional fourth-passage RA-SFB (right column) from one representative patient. Expression of Thy-1 (A, B), MHC-II (C, D), prolyl-4-hydroxylase (E, F), procollagen III (G, H), c-Fos (I, J), and c-Jun (K, L). While the percentages of cells positive for MHC-II (C) and the MFI for c-Jun (K) were significantly higher in isolated primary-culture RA-SFB, the percentages of cells positive for prolyl-4-hydroxylase (F), procollagen III (H), and c-Fos (J) were significantly higher in conventional fourth passage (see Table 5 for details). PE, phycoerythrine; FITC, fluoresceine isothiocyanate.\",\n",
      "        \"fig_id\": \"F7\",\n",
      "        \"fig_label\": \"Figure 7\",\n",
      "        \"graphic_ref\": \"a:\\\\Vishal\\\\BiomedCLIP_data_pipeline\\\\_results\\\\data\\\\pubmed_open_access_files\\\\PMC17827\\\\AR-3-1-072-7.jpg\",\n",
      "        \"pair_id\": \"11178129_F7\"\n",
      "    },\n",
      "    {\n",
      "        \"fig_caption\": \"Proliferation rates, as assessed by incorporation of [3H]-thymidine (counts per minute [cpm]) in: first-passage (white bars) and conventional (conv.) fourth-passage (dark gray bars) normal skin-FB (n = 3 each) (A) isolated first-passage (white bars), isolated (isolat.) fourth-passage (light gray bars), and conventional fourth-passage (dark gray bars) OA-SFB (n = 3, 3, and 4, respectively) (B) and isolated first-passage (white bars), isolated (isolat.) fourth-passage (light gray bars), and conventional fourth-passage (dark gray bars) RA-SFB (n = 4, 3, and 5, respectively) (C), at rest (control) or following stimulation with IL-1\\u03b2 (50, 100, or 150 U/ml) or PDGF-BB (2.5, 5, or 10 U/ml). See Results for details. @ P \\u2264 0.05 for the comparison between cytokine-stimulated FB and non-stimulated control FB within the same FB preparation. *P \\u2264 0.05 for the comparison between OA-SFB and RA-SFB.\",\n",
      "        \"fig_id\": \"F8\",\n",
      "        \"fig_label\": \"Figure 8\",\n",
      "        \"graphic_ref\": \"a:\\\\Vishal\\\\BiomedCLIP_data_pipeline\\\\_results\\\\data\\\\pubmed_open_access_files\\\\PMC17827\\\\AR-3-1-072-8.jpg\",\n",
      "        \"pair_id\": \"11178129_F8\"\n",
      "    }\n",
      "]\n",
      "[\n",
      "    {\n",
      "        \"fig_caption\": \"Chemokine receptor expression by peripheral blood monocytes. Peripheral blood SRBC rosette negative cells (1 \\u00d7 105) were stained with anti-CD14 mAb and various chemokine receptor mAbs, and were analyzed by flow cytometry. CD14+ cells were gated, and chemokine receptor expression by the CD14+ monocytes is shown (solid line). Dotted lines show staining by isotype-matched control mAb. Percentage of positive cells is also shown in the histograms. Staining was from one of nine experiments. FL-1 height, FITC fluorescence; FL-2 height, PE fluorescence.\",\n",
      "        \"fig_id\": \"F1\",\n",
      "        \"fig_label\": \"Figure 1\",\n",
      "        \"graphic_ref\": \"a:\\\\Vishal\\\\BiomedCLIP_data_pipeline\\\\_results\\\\data\\\\pubmed_open_access_files\\\\PMC17828\\\\AR-3-2-118-1.jpg\",\n",
      "        \"pair_id\": \"11178119_F1\"\n",
      "    },\n",
      "    {\n",
      "        \"fig_caption\": \"Monocyte migration induced by supernatants of various cell lines. An assay of monocyte migration was performed using supernatants of various cells. Each cell line (1 \\u00d7 105/well) was cultured in six-well culture plates with 2 ml DMEM supplemented with 5% FBS. Supernatants were collected after 24 h of incubation, and were used for assay. Migrated cells were stained with anti-CD14 mAb, then the number of migrated CD14+ cells was assessed by flow cytometry. RA6/1, RA8/3, and Sy77 are RA SCLs, OA5/26 is a SCL from OA, and FBHG is a skin fibroblast line. The mean and SEM were calculated with data from 11 independent experiments. Statistical analysis was performed with the paired Student t test. *P < 0.05 and **P < 0.01.\",\n",
      "        \"fig_id\": \"F2\",\n",
      "        \"fig_label\": \"Figure 2\",\n",
      "        \"graphic_ref\": \"a:\\\\Vishal\\\\BiomedCLIP_data_pipeline\\\\_results\\\\data\\\\pubmed_open_access_files\\\\PMC17828\\\\AR-3-2-118-2.jpg\",\n",
      "        \"pair_id\": \"11178119_F2\"\n",
      "    },\n",
      "    {\n",
      "        \"fig_caption\": \"Chemokine mRNA expression by various cell lines. Chemokine mRNA expression was examined with RT-PCR. PCR products were separated in 1.5% agarose gels and analyzed after ethidium bromide staining. Each PCR was performed using 0.1 \\u03bcl cDNA sample and the number of PCR cycles indicated. RA6/1, RA8/3, and Sy77 are RA SCLs, OA5/26 is a SCL from OA, and FBHG is a skin fibroblast line.\",\n",
      "        \"fig_id\": \"F3\",\n",
      "        \"fig_label\": \"Figure 3\",\n",
      "        \"graphic_ref\": \"a:\\\\Vishal\\\\BiomedCLIP_data_pipeline\\\\_results\\\\data\\\\pubmed_open_access_files\\\\PMC17828\\\\AR-3-2-118-3.jpg\",\n",
      "        \"pair_id\": \"11178119_F3\"\n",
      "    },\n",
      "    {\n",
      "        \"fig_caption\": \"Chemokine production by various cell lines. Production of MCP-1, IL-8, RANTES, IP-10, and MIP-1\\u03b2 was measured by ELISA. Various cell lines (1 \\u00d7 105/ml) were cultured for 24 h with 2 ml DMEM containing 5% FBS, and supernatants were collected. The contents of (A) MCP-1, (B) IL-8, and (C) RANTES are shown; MIP-1\\u03b2 and IP-10 were not detected (less than 10 pg/ml). RA6/1, RA8/3, and Sy77 are RA SCLs, OA5/26 is a SCL from OA, and FBHG is a skin fibroblast line. The mean and SEM were calculated from triplicates of one representative experiment out of three with similar results. Statistical analysis was performed with the Student t test. *P < 0.05 and **P < 0.01.\",\n",
      "        \"fig_id\": \"F4\",\n",
      "        \"fig_label\": \"Figure 4\",\n",
      "        \"graphic_ref\": \"a:\\\\Vishal\\\\BiomedCLIP_data_pipeline\\\\_results\\\\data\\\\pubmed_open_access_files\\\\PMC17828\\\\AR-3-2-118-4.jpg\",\n",
      "        \"pair_id\": \"11178119_F4\"\n",
      "    },\n",
      "    {\n",
      "        \"fig_caption\": \"Blocking of monocyte migration induced by RA SCL supernatants with blocking anti-chemokine or chemokine receptor mAbs. Monocyte migration induced by supernatants of RA SCLs (RA6/1 and RA8/3) was assessed using mAbs, which can neutralize specific chemokines or chemokine receptors. Concentrations of mAbs were 10 \\u03bcg/ml for MCP-1, IL-8, and IP-10, and 50 \\u03bcg for anti-CCR5 mAb with 5 \\u00d7 105 SRBC rosette negative cells. Migrating cells were stained with anti-CD-14 mAb, and migrating CD14+cells were counted by flow cytometry. The mean and SEM were calculated from the results of nine independent experiments. The paired Student t test was used to assess statistical differences versus the result with control mAb.\",\n",
      "        \"fig_id\": \"F5\",\n",
      "        \"fig_label\": \"Figure 5\",\n",
      "        \"graphic_ref\": \"a:\\\\Vishal\\\\BiomedCLIP_data_pipeline\\\\_results\\\\data\\\\pubmed_open_access_files\\\\PMC17828\\\\AR-3-2-118-5.jpg\",\n",
      "        \"pair_id\": \"11178119_F5\"\n",
      "    },\n",
      "    {\n",
      "        \"fig_caption\": \"Chemokine production by RA SCL stimulated with TNF-\\u03b1. Production of MCP-1, IL-8, RANTES, IP-10, and MIP-1\\u03b2 was measured by ELISA. Various cell lines (1 \\u00d7 105/ml) were cultured for 24 h in 2 ml DMEM containing 5% FBS with or without 2 ng/ml TNF-\\u03b1, and supernatants were collected. The content of (A) MCP-1, (B) IL-8, (C) RANTES and (D) IP-10 are shown; MIP-1\\u03b2 was not detected (less than 10 pg/ml). RA6/1, RA8/3, and Sy77 are RA SCLs. The mean and SEM were calculated from triplicates of one representative experiment out of three with similar results. Statistical analysis was performed with the Student t test. *P < 0.05 and **P < 0.01.\",\n",
      "        \"fig_id\": \"F6\",\n",
      "        \"fig_label\": \"Figure 6\",\n",
      "        \"graphic_ref\": \"a:\\\\Vishal\\\\BiomedCLIP_data_pipeline\\\\_results\\\\data\\\\pubmed_open_access_files\\\\PMC17828\\\\AR-3-2-118-6.jpg\",\n",
      "        \"pair_id\": \"11178119_F6\"\n",
      "    },\n",
      "    {\n",
      "        \"fig_caption\": \"Monocyte migration induced by supernatants of RA SCLs stimulated with TNF-\\u03b1. Assay of monocyte migration was performed using supernatants of RA SCLs stimulated with TNF-\\u03b1. Each RA SCL (1 \\u00d7 105/well) was cultured in six-well culture plates with 2 ml DMEM supplemented with 5% FBS with or without 2 ng/ml TNF-\\u03b1. Supernatants were collected after 24 h of incubation, and were used for assay. Migrated cells were stained with anti-CD14 mAb, then the number of migrated CD14+ cells was assessed by flow cytometry. RA6/1, RA8/3, and Sy77 are RA SCLs. The mean and SEM were calculated from three independent experiments. Statistical analysis was performed with the paired Student t test. *P < 0.05 and **P < 0.01.\",\n",
      "        \"fig_id\": \"F7\",\n",
      "        \"fig_label\": \"Figure 7\",\n",
      "        \"graphic_ref\": \"a:\\\\Vishal\\\\BiomedCLIP_data_pipeline\\\\_results\\\\data\\\\pubmed_open_access_files\\\\PMC17828\\\\AR-3-2-118-7.jpg\",\n",
      "        \"pair_id\": \"11178119_F7\"\n",
      "    },\n",
      "    {\n",
      "        \"fig_caption\": \"Blocking of monocyte migration induced by supernatant of RA SCL stimulated with TNF-\\u03b1. Monocyte migration induced by supernatants of RA SCLs (RA6/1 and RA8/3) stimulated with 2 ng/ml TNF-\\u03b1 was assessed using mAbs, which can neutralize specific chemokines or chemokine receptors. Concentrations of mAbs were 10 \\u03bcg/ml for MCP-1, IL-8, and IP-10, and 50 \\u03bcg for anti-CCR5 mAb with 5 \\u00d7 105 SRBC rosette negative cells. Migrating cells were stained with anti-CD-14 mAb, and migrating CD14+cells were counted by flow cytometry. The mean and SEM were calculated from the results of three independent experiments. The paired Student t test was used to assess statistical differences versus the result with control mAb.\",\n",
      "        \"fig_id\": \"F8\",\n",
      "        \"fig_label\": \"Figure 8\",\n",
      "        \"graphic_ref\": \"a:\\\\Vishal\\\\BiomedCLIP_data_pipeline\\\\_results\\\\data\\\\pubmed_open_access_files\\\\PMC17828\\\\AR-3-2-118-8.jpg\",\n",
      "        \"pair_id\": \"11178119_F8\"\n",
      "    }\n",
      "]\n",
      "[\n",
      "    {\n",
      "        \"fig_caption\": \"Endothelium enhances monocyte migration. The percentages of peripheral blood mononuclear cells (PBMCs) migrated in the absence (white columns) or presence (black columns) of endothelial cells are shown at different time points. Results are means \\u00b1 SD for at least three independent experiments. Asterisks denote significant (P < 0.05) differences between the percentages of cells migrated in the absence of endothelium and in its presence.\",\n",
      "        \"fig_id\": \"F1\",\n",
      "        \"fig_label\": \"Figure 1\",\n",
      "        \"graphic_ref\": \"a:\\\\Vishal\\\\BiomedCLIP_data_pipeline\\\\_results\\\\data\\\\pubmed_open_access_files\\\\PMC17829\\\\AR-3-2-127-1.jpg\",\n",
      "        \"pair_id\": \"11178120_F1\"\n",
      "    },\n",
      "    {\n",
      "        \"fig_caption\": \"Monocyte migration is increased after the pretreatment of ECs with cytokines. Confluent monolayers of ECs that were formed on collagen gels were simultaneously incubated without cytokines (control) and with tumour necrosis factor-\\u03b1 (TNF-\\u03b1) (a), interleukin-1\\u03b1 (IL-1\\u03b1) (b), interferon-\\u03b3 (IFN-\\u03b3) (c) or macrophage inflammatory protein-1\\u03b1 (MIP-1\\u03b1) (d). The percentages of migrated peripheral blood mononuclear cells (PBMCs) after a migration period of 30 minutes are shown. Statistical significance: (a)P = 0.006; (b)P < 0.001; (c)P = 0.016; (d)P = 0.043.\",\n",
      "        \"fig_id\": \"F2\",\n",
      "        \"fig_label\": \"Figure 2\",\n",
      "        \"graphic_ref\": \"a:\\\\Vishal\\\\BiomedCLIP_data_pipeline\\\\_results\\\\data\\\\pubmed_open_access_files\\\\PMC17829\\\\AR-3-2-127-2.jpg\",\n",
      "        \"pair_id\": \"11178120_F2\"\n",
      "    },\n",
      "    {\n",
      "        \"fig_caption\": \"Migration through endothelium increases CD54 expression on monocytes. Histograms show the CD54 mean fluorescence intensity (mfi) of monocytes that migrated through untreated endothelium (grey line in each panel), or endothelium pretreated with tumour necrosis factor-\\u03b1 (black line in middle panel) or interleukin-1\\u03b1 (black line in bottom panel). CD54 mfi of the nonadherent monocyte fraction is shown by a dotted line (top panel), isotype controls are shown by a thin black line in each panel. The experiment shown is representative of three independent experiments.\",\n",
      "        \"fig_id\": \"F3\",\n",
      "        \"fig_label\": \"Figure 3\",\n",
      "        \"graphic_ref\": \"a:\\\\Vishal\\\\BiomedCLIP_data_pipeline\\\\_results\\\\data\\\\pubmed_open_access_files\\\\PMC17829\\\\AR-3-2-127-3.jpg\",\n",
      "        \"pair_id\": \"11178120_F3\"\n",
      "    },\n",
      "    {\n",
      "        \"fig_caption\": \"Cytokine-pretreated endothelium increases CD54 expression on monocytes. The fluorescein isothiocyanate (FITC) mean fluorescence intensity (mfi) of monocytes that migrated through endothelium pretreated with tumour necrosis factor-\\u03b1 (TNF-\\u03b1) (a) or interleukin-1\\u03b1 (IL-1\\u03b1) (b) is compared with the mfi of monocytes that simultaneously migrated through untreated endothelium (control). Statistical significance: (a)P = 0.043; (b)P = 0.019.\",\n",
      "        \"fig_id\": \"F4\",\n",
      "        \"fig_label\": \"Figure 4\",\n",
      "        \"graphic_ref\": \"a:\\\\Vishal\\\\BiomedCLIP_data_pipeline\\\\_results\\\\data\\\\pubmed_open_access_files\\\\PMC17829\\\\AR-3-2-127-4.jpg\",\n",
      "        \"pair_id\": \"11178120_F4\"\n",
      "    }\n",
      "]\n",
      "[\n",
      "    {\n",
      "        \"fig_caption\": \"Antibody array detection of labeled antigens. 114 different antibodies were spotted onto poly-L-lysine coated slides 6-12 times each at a 375 \\u03bcm spacing. Six protein mixes were labeled and detected according to the Materials and methods section. The inset in each panel highlights anti-Flag and anti-IgG spots, and the labels indicate the concentration of the antigen applied to each array. The images were normalized (see the Materials and methods section) and contrast adjusted to better show bright features.\",\n",
      "        \"fig_id\": \"F1\",\n",
      "        \"fig_label\": \"Figure 1\",\n",
      "        \"graphic_ref\": \"a:\\\\Vishal\\\\BiomedCLIP_data_pipeline\\\\_results\\\\data\\\\pubmed_open_access_files\\\\PMC25774\\\\gb-2001-2-2-research0004-1.jpg\",\n",
      "        \"pair_id\": \"11182887_F1\"\n",
      "    },\n",
      "    {\n",
      "        \"fig_caption\": \"Antigen array detection of labeled antibodies. 116 different antigens were spotted with 6-12 replicates at a 375 \\u03bcm spacing. Labeling, detection, and image processing were as described in Materials and methods section. The inset in each panel highlights AIM1 and Kalanin B1 spots detecting the indicated concentrations of corresponding antibody.\",\n",
      "        \"fig_id\": \"F2\",\n",
      "        \"fig_label\": \"Figure 2\",\n",
      "        \"graphic_ref\": \"a:\\\\Vishal\\\\BiomedCLIP_data_pipeline\\\\_results\\\\data\\\\pubmed_open_access_files\\\\PMC25774\\\\gb-2001-2-2-research0004-2.jpg\",\n",
      "        \"pair_id\": \"11182887_F2\"\n",
      "    },\n",
      "    {\n",
      "        \"fig_caption\": \"Relationship between the Cy5/Cy3 fluorescence ratios measured with antibody microarrays and the concentration ratios of the cognate antigens. The log10 of the Cy5/Cy3 fluorescence ratio was calculated for each antibody spot shown in Figure 1. The median values of the replicate measurements from 12 antibodies were plotted as a function of the concentrations of the corresponding antigens. The error bars represent the standard deviation between the replicate spots. The dashed line represents the known concentration ratio of the cognate antigen. The horizontal dashed line in the Anti-Mint2 panel represents a threshold to assess the reliability of detecting large oncentration changes (see text). It is determined by adding two standard deviations to the value measured at the final dilution.\",\n",
      "        \"fig_id\": \"F3\",\n",
      "        \"fig_label\": \"Figure 3\",\n",
      "        \"graphic_ref\": \"a:\\\\Vishal\\\\BiomedCLIP_data_pipeline\\\\_results\\\\data\\\\pubmed_open_access_files\\\\PMC25774\\\\gb-2001-2-2-research0004-3.jpg\",\n",
      "        \"pair_id\": \"11182887_F3\"\n",
      "    },\n",
      "    {\n",
      "        \"fig_caption\": \"Relationship between the Cy5/Cy3 fluorescence ratios measured using antigen microarrays and the concentration ratio of the cognate antibodies. The median of the log10 transformed Cy5/Cy3 fluorescence ratios of the indicated antigens from Figure 2 were plotted as a function of concentration ratio, as in Figure 3. Median values from the replicate spots are presented along with the concentration ratio of the cognate antibody, represented by the dashed line. The error bars represent the standard deviation between the replicate spots.\",\n",
      "        \"fig_id\": \"F4\",\n",
      "        \"fig_label\": \"Figure 4\",\n",
      "        \"graphic_ref\": \"a:\\\\Vishal\\\\BiomedCLIP_data_pipeline\\\\_results\\\\data\\\\pubmed_open_access_files\\\\PMC25774\\\\gb-2001-2-2-research0004-4.jpg\",\n",
      "        \"pair_id\": \"11182887_F4\"\n",
      "    },\n",
      "    {\n",
      "        \"fig_caption\": \"(a) Percentage of antibodies and antigens yielding qualitatively correct results as a function of analyte concentration. An antibody or antigen was determined to yield qualitatively correct results if 100% of the replicate spots at or above a given concentration segregated above a low concentration threshold. The low concentration threshold was calculated by averaging the Cy5/Cy3 fluorescence ratio measured at the lowest tested concentration of the target antibody or antigen and adding two times the standard deviation of the ratio measured at the cognate spots. (T = X + 2S, where T = the threshold, X = the average, and S = the standard deviation.) (b) Percentage of antibodies or antigens yielding quantitatively correct results versus concentration. An antibody or antigen measurement was considered quantitatively accurate if it both fulfilled the criteria for qualitative accuracy in (a) and in addition, the measured R/G ratio fell within a factor of two of the known concentration ratio.\",\n",
      "        \"fig_id\": \"F5\",\n",
      "        \"fig_label\": \"Figure 5\",\n",
      "        \"graphic_ref\": \"a:\\\\Vishal\\\\BiomedCLIP_data_pipeline\\\\_results\\\\data\\\\pubmed_open_access_files\\\\PMC25774\\\\gb-2001-2-2-research0004-5.jpg\",\n",
      "        \"pair_id\": \"11182887_F5\"\n",
      "    },\n",
      "    {\n",
      "        \"fig_caption\": \"The effect of protein concentration on background and detection limits. Six antigen mixes were added to fetal calf serum (FCS) solutions to produce a 10-fold and 100-fold increase in total protein concentration and a corresponding decrease in partial concentration of the antigens. After labeling, the mixes were analyzed with antibody microarrays. The images at the top of the figure present a detail from one of the arrays in each set. The median log10 of the Cy5/Cy3 fluorescence ratio is plotted as a function of the concentration ratio of the cognate antigen of the three indicated antibodies. The dashed line represents the log10 of the true ratio of antigen concentrations in the Cy5-labeled and Cy3-labeled solutions.\",\n",
      "        \"fig_id\": \"F6\",\n",
      "        \"fig_label\": \"Figure 6\",\n",
      "        \"graphic_ref\": \"a:\\\\Vishal\\\\BiomedCLIP_data_pipeline\\\\_results\\\\data\\\\pubmed_open_access_files\\\\PMC25774\\\\gb-2001-2-2-research0004-6.jpg\",\n",
      "        \"pair_id\": \"11182887_F6\"\n",
      "    },\n",
      "    {\n",
      "        \"fig_caption\": \"Investigation of partial concentration and absolute concentration detection limits. Six antibody mixes were added to FCS solutions to produce a 10-fold and 100-fold increase in total protein concentration and a corresponding decrease in partial concentration. The high protein solution was diluted 10-fold, so that the total protein concentration was equivalent between the mixes. The images at the top of the figure present a detail from one of the arrays in each set. The median log10 Cy5/Cy3 fluorescence ratio is plotted as a function of cognate antibody for the three indicated antigens. The dashed line represents the log10 of the true ratio of antigen concentrations in the Cy5-labeled and Cy3-labeled solutions.\",\n",
      "        \"fig_id\": \"F7\",\n",
      "        \"fig_label\": \"Figure 7\",\n",
      "        \"graphic_ref\": \"a:\\\\Vishal\\\\BiomedCLIP_data_pipeline\\\\_results\\\\data\\\\pubmed_open_access_files\\\\PMC25774\\\\gb-2001-2-2-research0004-7.jpg\",\n",
      "        \"pair_id\": \"11182887_F7\"\n",
      "    }\n",
      "]\n",
      "[\n",
      "    {\n",
      "        \"fig_caption\": \"Macronuclear development in S. lemnae (adapted from [11,12]). The arrow indicates the time point of injection. DNA from injected cells was prepared either about 6 hours after injection or from vegetative cells; the arrowheads show these two time points.\",\n",
      "        \"fig_id\": \"F1\",\n",
      "        \"fig_label\": \"Figure 1\",\n",
      "        \"graphic_ref\": \"a:\\\\Vishal\\\\BiomedCLIP_data_pipeline\\\\_results\\\\data\\\\pubmed_open_access_files\\\\PMC25775\\\\gb-2001-2-2-research0005-1.jpg\",\n",
      "        \"pair_id\": \"11182888_F1\"\n",
      "    },\n",
      "    {\n",
      "        \"fig_caption\": \"The constructs used for injection into the macronuclear anlagen. (a) Vector pCE5 contains two macronuclear precursor sequences homologous to a 1.1 and a 1.3 kb macronuclear DNA molecule. The 1.1 kb homologous precursor sequence contains 2 IES, and the 1.3 kb homologous sequence contains 3 IES. The two precursor sequences are separated by an 11 bp spacer and are flanked by micronuclear-specific sequences on both sides [26]. A 500 bp polylinker was inserted to modify the 1.3 kb homologous macronuclear precursor sequences [25]. (b) pCE12-20: deletion constructs derived from pCE5. Primers used for construction of the deletion vectors and for PCR analysis are shown above and below the maps. The sequences of the primers are listed in Table 1.\",\n",
      "        \"fig_id\": \"F2\",\n",
      "        \"fig_label\": \"Figure 2\",\n",
      "        \"graphic_ref\": \"a:\\\\Vishal\\\\BiomedCLIP_data_pipeline\\\\_results\\\\data\\\\pubmed_open_access_files\\\\PMC25775\\\\gb-2001-2-2-research0005-2.jpg\",\n",
      "        \"pair_id\": \"11182888_F2\"\n",
      "    },\n",
      "    {\n",
      "        \"fig_caption\": \"The effect of 3' and 5' deletions in the 1.3 kb macronuclear precursor sequence on DNA fragmentation. pCE18 and, as controls, pCE5 and pCE12 [27] were injected into the macronuclear anlagen in the polytene chromosome stage of 20-30 exconjugant cells. DNA was isolated from these cells 6-10 h later and a PCR analysis was performed. The PCR products were separated on a 1% agarose gel. M, molecular weight marker (1 kb ladder, Gibco BRL). (a) PCR products from cells injected with pCE12 using the primer combinations P9/P548 (lane1), pGEMP1/P20 (lane 2) and pGEMP2/P23 (lane 3). (b) PCR products from cells injected with pCE5 (lanes 1-5) using the primer combinations pUCP1/P20 (lane 1); pUCP2/P8 (lane 2); pUCP2P548 (lane 3); P20/P8 (lane 4) and P20/P548 (lane 5). Lanes 6-10: PCR products from cells injected with pCE18 using the primer combinations pGEMP1/P20 (lane 6); pGEMP2/P8 (lane 7); pGEMP2/P548 (lane 8); P20/P8 (lane 9) and P20/P548 (lane 10). (c,d) Control PCR using pCE12 (C), pCE5 and pCE18 (d) construct DNA as templates. PCR reactions in (c) are identical to those shown in (a), and PCR reactions in (d) are identical to those shown in (b).\",\n",
      "        \"fig_id\": \"F3\",\n",
      "        \"fig_label\": \"Figure 3\",\n",
      "        \"graphic_ref\": \"a:\\\\Vishal\\\\BiomedCLIP_data_pipeline\\\\_results\\\\data\\\\pubmed_open_access_files\\\\PMC25775\\\\gb-2001-2-2-research0005-3.jpg\",\n",
      "        \"pair_id\": \"11182888_F3\"\n",
      "    },\n",
      "    {\n",
      "        \"fig_caption\": \"Functional analysis of the 5' end of the 1.3 kb macronuclear precursor sequence. Different deletion constructs were injected into the developing macronucleus and the cells were allowed to finish macronuclear development. The presence of the injected constructs in the macronuclear DNA and their processing was analyzed by PCR. All constructs were injected into the polytene chromosome stage of the macronuclear anlagen; injection conditions were as described earlier [27]. A PCR analysis was performed using DNA of 30-40 vegetatively growing cells as template. Primers used were P9 and P7, both derived from endogenous 1.3 kb macronuclear sequences, and P548, derived from the inserted polylinker. (a) PCR products from uninjected and injected cells were separated on a 1% agarose gel. As a control a PCR using vector pCE5 as template was performed. M, molecular weight marker (1 kb ladder, Gibco BRL). Lane 1, PCR product from pCE5 vector DNA using the primer combination P9/P548. Lanes 2-3, PCR products from uninjected cells using the primer combinations P9/P7 (lane 2) and P9/P548 (lane 3). Lanes 4-5, PCR products from cells injected with pCE19 using the primer combinations P9/P7 (lane 4) and P9/P548 (lane 5). Lanes 6-7, PCR products from cells injected with pCE20 using the primer combinations P9/P7 (lane 6) and P9/P548 (lane 7). (b) The gel was hybridized with a DIG-labeled probe of the polylinker inserted into the 1.3 kb macronuclear precursor sequence. While in the case of pCE19 ((a) lane 5) no PCR product using the primer combination P9/P548 is visible in the ethidium bromide stained gel, a clear signal is observed after hybridization ((b) lane 5).\",\n",
      "        \"fig_id\": \"F4\",\n",
      "        \"fig_label\": \"Figure 4\",\n",
      "        \"graphic_ref\": \"a:\\\\Vishal\\\\BiomedCLIP_data_pipeline\\\\_results\\\\data\\\\pubmed_open_access_files\\\\PMC25775\\\\gb-2001-2-2-research0005-4.jpg\",\n",
      "        \"pair_id\": \"11182888_F4\"\n",
      "    },\n",
      "    {\n",
      "        \"fig_caption\": \"The effect of mutagenizing the St-Cbs on DNA-processing. Cells were injected with either pCE5 (lane 1) or pCE5mut (lane 2). Cells were allowed to finish macronuclear development and a PCR reaction was performed using the primer combination P9/P548 for specific detection of the modified precursor sequence. M, molecular weight marker (1 kb ladder, Gibco BRL).\",\n",
      "        \"fig_id\": \"F5\",\n",
      "        \"fig_label\": \"Figure 5\",\n",
      "        \"graphic_ref\": \"a:\\\\Vishal\\\\BiomedCLIP_data_pipeline\\\\_results\\\\data\\\\pubmed_open_access_files\\\\PMC25775\\\\gb-2001-2-2-research0005-5.jpg\",\n",
      "        \"pair_id\": \"11182888_F5\"\n",
      "    },\n",
      "    {\n",
      "        \"fig_caption\": \"Injection of \\u03b11-GFPtel- into the developing macronucleus of the polytene chromosome stage. The presence of the injected construct in the macronuclear DNA of injected cells and its processing was analyzed by PCR. After injection, the cells were allowed to finish macronuclear development, then a PCR analysis was performed using DNA of 30-40 vegetatively growing cells as templates. Primers used were P27, derived from the endogenous \\u03b11-tubulin macronuclear molecule, and pGFPP2, derived from GFP sequences. (a) Schematic diagram of the \\u03b11-GFPtel- construct. (b) PCR products from the construct, from uninjected and injected cells were separated on an 1% agarose gel. M, molecular weight marker (1 kb ladder, Gibco, BRL). Lane 1, PCR product from construct DNA; lane 2, PCR product from uninjected cells; lane 3, PCR product from cells injected with \\u03b11-GFPtel-. The gel was hybridized with a DIG-labeled probe of the \\u03b11-GFPtel- vector DNA.\",\n",
      "        \"fig_id\": \"F6\",\n",
      "        \"fig_label\": \"Figure 6\",\n",
      "        \"graphic_ref\": \"a:\\\\Vishal\\\\BiomedCLIP_data_pipeline\\\\_results\\\\data\\\\pubmed_open_access_files\\\\PMC25775\\\\gb-2001-2-2-research0005-6.jpg\",\n",
      "        \"pair_id\": \"11182888_F6\"\n",
      "    },\n",
      "    {\n",
      "        \"fig_caption\": \"Model for DNA processing during macronuclear development in hypotrichous ciliates. Inverted repeats acting as cis-acting DNA sequences required for DNA processing are localized in both subtelomeric regions but not necessarily at similar positions. By interaction of these sequences, a loop-like structure is formed, which is then resolved on its base by a specific nuclease. This implies that a precise cut is made only at the 3' end, the 5' end has to be filled in by a so far unknown proofreading mechanism. Telomeric sequences are then added de novo.\",\n",
      "        \"fig_id\": \"F7\",\n",
      "        \"fig_label\": \"Figure 7\",\n",
      "        \"graphic_ref\": \"a:\\\\Vishal\\\\BiomedCLIP_data_pipeline\\\\_results\\\\data\\\\pubmed_open_access_files\\\\PMC25775\\\\gb-2001-2-2-research0005-7.jpg\",\n",
      "        \"pair_id\": \"11182888_F7\"\n",
      "    }\n",
      "]\n",
      "[\n",
      "    {\n",
      "        \"fig_caption\": \"Results of molecular beacon end-point assays using the E8/E9 and E9/E10 probes on a representative genomic DNA panel. There is no difficulty in distinguishing a positive from a negative result in this assay. Note that the ruffed lemur sample (V. variegata) is clearly negative for both probes.\",\n",
      "        \"fig_id\": \"F1\",\n",
      "        \"fig_label\": \"Figure 1\",\n",
      "        \"graphic_ref\": \"a:\\\\Vishal\\\\BiomedCLIP_data_pipeline\\\\_results\\\\data\\\\pubmed_open_access_files\\\\PMC25776\\\\gb-2001-2-2-research0006-1.jpg\",\n",
      "        \"pair_id\": \"11182889_F1\"\n",
      "    },\n",
      "    {\n",
      "        \"fig_caption\": \"Representation of the SHMT-ps1 region amplified by the C1/B6 primers. The positions of the two molecular beacon sequences E8/E9 and E9/E10 are shown in relation to the exon-exon boundaries in SHMT-ps1.\",\n",
      "        \"fig_id\": \"F2\",\n",
      "        \"fig_label\": \"Figure 2\",\n",
      "        \"graphic_ref\": \"a:\\\\Vishal\\\\BiomedCLIP_data_pipeline\\\\_results\\\\data\\\\pubmed_open_access_files\\\\PMC25776\\\\gb-2001-2-2-research0006-2.jpg\",\n",
      "        \"pair_id\": \"11182889_F2\"\n",
      "    }\n",
      "]\n",
      "[\n",
      "    {\n",
      "        \"fig_caption\": \"The ASPECT A1000\\u00ae, a typical brain wave monitor capable of real time bedside EEG.\",\n",
      "        \"fig_id\": \"F1\",\n",
      "        \"fig_label\": \"Figure 1\",\n",
      "        \"graphic_ref\": \"a:\\\\Vishal\\\\BiomedCLIP_data_pipeline\\\\_results\\\\data\\\\pubmed_open_access_files\\\\PMC28985\\\\cc-1-1-015-1.jpg\",\n",
      "        \"pair_id\": \"11056693_F1\"\n",
      "    },\n",
      "    {\n",
      "        \"fig_caption\": \"(a) Cerebral electrical activity in a healthy volunteer, sitting in a quiet environment reading a magazine. Activity at normal sensitivity under 13 Hz to the left of the trend line. (b) A patient mildly sedated with lorazepam. The `monotony of sedation' pattern is illustrated. The spectral edge frequency (95% of brain wave activity occurring to the left of this line) demonstrates less variation between epochs.\",\n",
      "        \"fig_id\": \"F2\",\n",
      "        \"fig_label\": \"Figure 2\",\n",
      "        \"graphic_ref\": \"a:\\\\Vishal\\\\BiomedCLIP_data_pipeline\\\\_results\\\\data\\\\pubmed_open_access_files\\\\PMC28985\\\\cc-1-1-015-2.jpg\",\n",
      "        \"pair_id\": \"11056693_F2\"\n",
      "    },\n",
      "    {\n",
      "        \"fig_caption\": \"(a) Cerebral function tracing of an ICU patient who is alert, oriented, and aware but stimulated and anxious due to the frenetic ICU environment. There is progressively increased activity in the beta (> 13 Hz) ranges. (b) The same patient sedated with a continuous infusion of 2 mg/h midazolam. Narcotics and benzodiazepines in sedative doses generally induce a gradual reduction in activity at higher alpha (8-13 Hz) and beta (> 13 Hz) frequencies and increased activity at lower frequencies, especially theta (4-8 Hz) and delta (<4 Hz). The `activity line' shifts symmetrically to the left.\",\n",
      "        \"fig_id\": \"F3\",\n",
      "        \"fig_label\": \"Figure 3\",\n",
      "        \"graphic_ref\": \"a:\\\\Vishal\\\\BiomedCLIP_data_pipeline\\\\_results\\\\data\\\\pubmed_open_access_files\\\\PMC28985\\\\cc-1-1-015-3.jpg\",\n",
      "        \"pair_id\": \"11056693_F3\"\n",
      "    },\n",
      "    {\n",
      "        \"fig_caption\": \"Effect of midazolam as an intravenous sedative. This anxious patient was administered 2 mg intravenous midazolam during continuous EEG monitoring. The frequency diminished quickly in about 2 min, demonstrating the rapid clinical action of the short acting sedative. The action of propofol is similar to midazolam.\",\n",
      "        \"fig_id\": \"F4\",\n",
      "        \"fig_label\": \"Figure 4\",\n",
      "        \"graphic_ref\": \"a:\\\\Vishal\\\\BiomedCLIP_data_pipeline\\\\_results\\\\data\\\\pubmed_open_access_files\\\\PMC28985\\\\cc-1-1-015-4.jpg\",\n",
      "        \"pair_id\": \"11056693_F4\"\n",
      "    },\n",
      "    {\n",
      "        \"fig_caption\": \"The effects of midazolam administration observed in a trend mode. Midazolam (4 mg) was administered in a bolus to an anxious patient at the arrow. Low frequency delta activity (thin line) shows a slow progressive increase. High frequency beta activity (thick line) decreases quickly and remains low.\",\n",
      "        \"fig_id\": \"F5\",\n",
      "        \"fig_label\": \"Figure 5\",\n",
      "        \"graphic_ref\": \"a:\\\\Vishal\\\\BiomedCLIP_data_pipeline\\\\_results\\\\data\\\\pubmed_open_access_files\\\\PMC28985\\\\cc-1-1-015-5.jpg\",\n",
      "        \"pair_id\": \"11056693_F5\"\n",
      "    },\n",
      "    {\n",
      "        \"fig_caption\": \"Effect of lorazepam as an intravenous sedative. This anxious patient was administered 2 mg intravenous lorazepam during continuous EEG monitoring. The frequency diminished slowly in about 12 min, demonstrating the prolonged clinical action of the longer acting sedative.\",\n",
      "        \"fig_id\": \"F6\",\n",
      "        \"fig_label\": \"Figure 6\",\n",
      "        \"graphic_ref\": \"a:\\\\Vishal\\\\BiomedCLIP_data_pipeline\\\\_results\\\\data\\\\pubmed_open_access_files\\\\PMC28985\\\\cc-1-1-015-6.jpg\",\n",
      "        \"pair_id\": \"11056693_F6\"\n",
      "    },\n",
      "    {\n",
      "        \"fig_caption\": \"Effect of fentanyl as an intravenous analgesic sedative. This anxious patient with postoperative pain was administered 100 mg intravenous fentanyl during continuous EEG monitoring. The frequency quickly diminished in about 3 min, demonstrating the rapid clinical action of the short-acting analgesic sedative.\",\n",
      "        \"fig_id\": \"F7\",\n",
      "        \"fig_label\": \"Figure 7\",\n",
      "        \"graphic_ref\": \"a:\\\\Vishal\\\\BiomedCLIP_data_pipeline\\\\_results\\\\data\\\\pubmed_open_access_files\\\\PMC28985\\\\cc-1-1-015-7.jpg\",\n",
      "        \"pair_id\": \"11056693_F7\"\n",
      "    },\n",
      "    {\n",
      "        \"fig_caption\": \"Severe CNS depression produces increased amplitude in the delta band (<4 Hz) and very reduced activity in the other frequencies. (a) This patient with extremely toxic levels of ethyl alcohol was completely unresponsive on total life support, including mechanical ventilation. (b) The EEG tracing of a patient with certified brain death, established by EEG and clinical criteria. The activity line shifts to the right from electrical activity of the heart picked up by the monitor in the absence of brain electrical activity.\",\n",
      "        \"fig_id\": \"F8\",\n",
      "        \"fig_label\": \"Figure 8\",\n",
      "        \"graphic_ref\": \"a:\\\\Vishal\\\\BiomedCLIP_data_pipeline\\\\_results\\\\data\\\\pubmed_open_access_files\\\\PMC28985\\\\cc-1-1-015-8.jpg\",\n",
      "        \"pair_id\": \"11056693_F8\"\n",
      "    },\n",
      "    {\n",
      "        \"fig_caption\": \"EEG assessment of cerebral responsiveness during therapeutic neuromuscular blockade, and absence of potential artifacts from face muscle activity and eye blink. (a) Brief increase in higher frequencies normally associated with increased cognitive activity indicates cerebral response to a painful somatic stimuli. (b) Cerebral response to endotracheal suctioning in a therapeutically paralyzed patient. Dramatically increased high frequency waves, possibly indicating discomfort.\",\n",
      "        \"fig_id\": \"F9\",\n",
      "        \"fig_label\": \"Figure 9\",\n",
      "        \"graphic_ref\": \"a:\\\\Vishal\\\\BiomedCLIP_data_pipeline\\\\_results\\\\data\\\\pubmed_open_access_files\\\\PMC28985\\\\cc-1-1-015-9.jpg\",\n",
      "        \"pair_id\": \"11056693_F9\"\n",
      "    },\n",
      "    {\n",
      "        \"fig_caption\": \"(a) Patient with severe delirium tremens and life threatening agitation demonstrating multiple musculoskeletal artifacts on the EEG. (b) Neuromuscular blockade instituted with vecuronium and sedated with a bolus of propofol, followed by continuous infusion. (c) Patient oversedated on continuous infusion of propofol at 5 mg/kg/h. (d) Propofol infusion decreased to 2 mg/kg/h, brain wave activity increases.\",\n",
      "        \"fig_id\": \"F10\",\n",
      "        \"fig_label\": \"Figure 10\",\n",
      "        \"graphic_ref\": \"a:\\\\Vishal\\\\BiomedCLIP_data_pipeline\\\\_results\\\\data\\\\pubmed_open_access_files\\\\PMC28985\\\\cc-1-1-015-10.jpg\",\n",
      "        \"pair_id\": \"11056693_F10\"\n",
      "    }\n",
      "]\n",
      "[\n",
      "    {\n",
      "        \"fig_caption\": \"Comparative changes in (a) mean pulmonary artery pressure (\\u0394MPAP) and (b) pulmonary vascular resistance index (\\u0394PVRI) induced by increasing inspiratory intratracheal concentrations of inhaled NO (Insp IT NO) in the presence (n = 8, \\u25cf) or absence (n = 8, \\u25cb) of septic shock in 16 patients with ARDS. Mean pulmonary artery pressure and PVRI were measured: (1) before NO administration (C1); (2) following seven randomized concentrations of NO between 0.15 and 150 ppm, and (3) after the cessation of NO (C2). In both groups, NO induced a significant and dose-dependent decrease in MPAP and PVRI (P< 0.01). Change in MPAP and \\u0394 PVRI are expressed as percentage variation from the control value. In both groups, a plateau effect was observed for MPAP and PVRI from NO concentrations of 4.5 ppm. No interaction between the factors `group' and `does of NO' was found using the two-way analysis of variance, suggesting that the NO dose-response was not affected by the presence of septic shock.\",\n",
      "        \"fig_id\": \"F1\",\n",
      "        \"fig_label\": \"Figure 1\",\n",
      "        \"graphic_ref\": \"a:\\\\Vishal\\\\BiomedCLIP_data_pipeline\\\\_results\\\\data\\\\pubmed_open_access_files\\\\PMC28986\\\\cc-1-1-025-1.jpg\",\n",
      "        \"pair_id\": \"11056694_F1\"\n",
      "    },\n",
      "    {\n",
      "        \"fig_caption\": \"Changes in (a) PaO2/FiO2 (\\u0394 PaO2/FiO2 and (b) venous admixture (QVA/QT) induced by increasing inspiratory intratracheal concentrations of inhaled NO (Insp IT NO) in the presence (n = 8, \\u25cf) or absence (n = 8, \\u25cb) of septic shock in 16 patients with ARDS. PaO2/FiO2 and QVA/QT were measured: (1) before NO administration (C1); (2) following seven randomized concentrations of NO between 0.15 and 150 ppm, and (3) after cessation of NO (C2). \\u0394 PaO2/FiO2 and QVA/QT are expressed as percentage variation from the control value. In both groups, NO induced a significant and dose\\u2013dependent increase in PaO2/FiO2 and a decrease in QVA/QT (P< 0.01). In both groups, a plateau effect was observed for the NO-induced decrease in QVA/QT from NO concentrations of 1.5 ppm. In patients with septic shock, NO-induced increases in PaO2 did not show any plateau whereas in patients without septic shock a plateau effect was observed from NO concentrations of 4.5 ppm. An interaction between the factors 'group' and 'dose of NO' was found using the two-way analysis of variance (P = 0.035) suggesting that the profile of the NO dose\\u2013response curve was affected by the presence of septic shock.\",\n",
      "        \"fig_id\": \"F2\",\n",
      "        \"fig_label\": \"Figure 2\",\n",
      "        \"graphic_ref\": \"a:\\\\Vishal\\\\BiomedCLIP_data_pipeline\\\\_results\\\\data\\\\pubmed_open_access_files\\\\PMC28986\\\\cc-1-1-025-2.jpg\",\n",
      "        \"pair_id\": \"11056694_F2\"\n",
      "    },\n",
      "    {\n",
      "        \"fig_caption\": \"Comparative changes in (a) PaCO2 (\\u0394 PaCO2) and (b) alveolar dead space (\\u0394VDA/VT) induced by increasing inspiratory intratracheal concentrations of inhaled NO (Insp IT NO) in the presence (n = 7, filled circle) or absence (n = 8, \\u25cb) of septic shock in 15 patients with ARDS. PaCO2 and VDA/VT were measured: (1) before NO administration (C1); (2) following seven randomized concentrations of NO between 0.15 and 150 ppm, and (3) after the cessation of NO (C2). \\u0394 PaCO2 and \\u0394 VDA/VT are expressed as percentage variation from the control value. In each condition, minute ventilation was kept constant by adjusting the tidal volume. In both groups, NO induced a decrease in PaCO2 and VD A/VT which was statistically significant but dose-dependent in patients who only had septic shock (P < 0.02).\",\n",
      "        \"fig_id\": \"F3\",\n",
      "        \"fig_label\": \"Figure 3\",\n",
      "        \"graphic_ref\": \"a:\\\\Vishal\\\\BiomedCLIP_data_pipeline\\\\_results\\\\data\\\\pubmed_open_access_files\\\\PMC28986\\\\cc-1-1-025-3.jpg\",\n",
      "        \"pair_id\": \"11056694_F3\"\n",
      "    },\n",
      "    {\n",
      "        \"fig_caption\": \"Individual changes in MPAP and PaO2/FiO2 induced by increasing inspiratory intratracheal concentrations of inhaled NO (Insp IT NO) in eight patients with ARDS and without septic shock. Mean pulmonary artery pressure was measured: (1) before NO administration (C1); (2) following seven randomized concentrations of NO between 0.15 and 150 ppm, and (3) after the cessation of NO (C2). Changes are expressed as percentage variation from C1 (\\u0394 MPAP and \\u0394 PaO2/FiO2) and each patient is represented by a different symbol with a number corresponding to the numbers shown in Tables 1 and 2. In (a) and (b) patients without plateau effect on the dose\\u2013response curve are represented. In (c) and (d) patients with a plateau effect on the MPAP dose\\u2013response curve and showing a deterioration of their PaO2/FiO2 at the highest NO concentrations are represented.\",\n",
      "        \"fig_id\": \"F4\",\n",
      "        \"fig_label\": \"Figure 4\",\n",
      "        \"graphic_ref\": \"a:\\\\Vishal\\\\BiomedCLIP_data_pipeline\\\\_results\\\\data\\\\pubmed_open_access_files\\\\PMC28986\\\\cc-1-1-025-4.jpg\",\n",
      "        \"pair_id\": \"11056694_F4\"\n",
      "    },\n",
      "    {\n",
      "        \"fig_caption\": \"Individual changes in mean pulmonary artery pressure (MPAP) and PaO2/FiO2 induced by increasing inspiratory intratracheal concentrations of inhaled NO (Insp IT NO) in eight patients with ARDS and septic shock. MPAP was measured: (1) before NO administration (C1); (2) following seven randomized concentrations of NO between 0.15 and 150 ppm, and (3) after the cessation of NO (C2). Changes are expressed as a percentage variation from C1 (\\u0394 MPAP and \\u0394 PaO2/FiO2 and each patient is represented by a different symbol with a number corresponding to the numbers shown in Tables 1 and 2. In (a) and (b) patients without plateau effect on the dose-response curve are represented. In (c) and (d) patients with a plateau effect on the MPAP dose-response curve and showing a deterioration of their PaO2/FiO2 at the highest NO concentrations are represented.\",\n",
      "        \"fig_id\": \"F5\",\n",
      "        \"fig_label\": \"Figure 5\",\n",
      "        \"graphic_ref\": \"a:\\\\Vishal\\\\BiomedCLIP_data_pipeline\\\\_results\\\\data\\\\pubmed_open_access_files\\\\PMC28986\\\\cc-1-1-025-5.jpg\",\n",
      "        \"pair_id\": \"11056694_F5\"\n",
      "    }\n",
      "]\n",
      "[\n",
      "    {\n",
      "        \"fig_caption\": \"Particle size analysis with Coulter Counter TA II, 50 \\u03bc m aperture. The results are expressed as a percentage of the fat (% of total lipidic fraction = TLF). Dilution 1:100,000, particle diameters 0.79 to 5.04 \\u03bc m. Mother emulsions (ME) containing Intralipide\\u00ae 20% are at 6.83% TLF; those containing Medialipide\\u00ae 20% are at 3.39 and 2.66% TLF.\",\n",
      "        \"fig_id\": \"F1\",\n",
      "        \"fig_label\": \"Figure 1\",\n",
      "        \"graphic_ref\": \"a:\\\\Vishal\\\\BiomedCLIP_data_pipeline\\\\_results\\\\data\\\\pubmed_open_access_files\\\\PMC28987\\\\cc-1-1-041-1.jpg\",\n",
      "        \"pair_id\": \"11056695_F1\"\n",
      "    },\n",
      "    {\n",
      "        \"fig_caption\": \"Particle size analysis with Coulter Counter TA II, 50 mm aperture. The results are expressed as a percentage of the fat (% of TLF). Dilution 1:1000, particle diameters 1.59 to 5.04 mm. Intralipide\\u00ae 20%, ME = 0.42% TLF; Medialipide\\u00ae 20%, ME = 0.19 and 0.13% TLF.\",\n",
      "        \"fig_id\": \"F2\",\n",
      "        \"fig_label\": \"Figure 2\",\n",
      "        \"graphic_ref\": \"a:\\\\Vishal\\\\BiomedCLIP_data_pipeline\\\\_results\\\\data\\\\pubmed_open_access_files\\\\PMC28987\\\\cc-1-1-041-2.jpg\",\n",
      "        \"pair_id\": \"11056695_F2\"\n",
      "    },\n",
      "    {\n",
      "        \"fig_caption\": \"Particle size analysis with Coulter Counter TA II, 50 \\u03bc m aperture. The results are expressed as a percentage of the fat (% of TLF). Dilution 1:1000, particle diameters > 5.04 \\u03bc m. Intralipide\\u00ae 20%, ME = 0.02% TLF; Medialipide\\u00ae 20%, ME = 0.02 and 0.06% TLF.\",\n",
      "        \"fig_id\": \"F3\",\n",
      "        \"fig_label\": \"Figure 3\",\n",
      "        \"graphic_ref\": \"a:\\\\Vishal\\\\BiomedCLIP_data_pipeline\\\\_results\\\\data\\\\pubmed_open_access_files\\\\PMC28987\\\\cc-1-1-041-3.jpg\",\n",
      "        \"pair_id\": \"11056695_F3\"\n",
      "    }\n",
      "]\n",
      "[\n",
      "    {\n",
      "        \"fig_caption\": \"Changes in mean arterial pressure (MAP), cardiac index (CI), and systemic vascular resistance index (SVRI) in anesthetized dogs after 2 h intravenous administration of (a) isotonic saline or (b) bacterial lipopolysaccharide (LPS: 250 ng/kg/min) with or without 1 h infusion of carboxy-PTIO (0.1 mg/kg/min). Each point represents the mean of sham-vehicle group (n = 3), sham-carboxy-PTIO group (n = 3), LPS group (n = 7), and LPS plus carboxy-PTIO group (n = 7); bar shows SEM. *P < 0.05, **P < 0.01 vs baseline value. \\u2020P < 0.05; difference between the two groups at the same time point.\",\n",
      "        \"fig_id\": \"F1\",\n",
      "        \"fig_label\": \"Figure 1\",\n",
      "        \"graphic_ref\": \"a:\\\\Vishal\\\\BiomedCLIP_data_pipeline\\\\_results\\\\data\\\\pubmed_open_access_files\\\\PMC28988\\\\cc-1-1-045-1.jpg\",\n",
      "        \"pair_id\": \"11056696_F1\"\n",
      "    },\n",
      "    {\n",
      "        \"fig_caption\": \"Changes in arterial pH, PaO2, HCO3-, and base excess in anesthetized dogs after 2 h intravenous administration of (a) isotonic saline or (b) bacterial lipopolysaccharide (LPS: 250 ng/kg/min) with or without 1 h infusion or carboxy-PTIO (0.1 mg/kg/min). Each point represents the mean of sham-vehicle group (n = 3), sham-carboxy-PTIO group (n = 3), LPS group (n = 7), and LPS plus carboxy-PTIO group (n = 7); bar shows SEM. *P < 0.05, **P < 0.01 vs baseline value.\",\n",
      "        \"fig_id\": \"F2\",\n",
      "        \"fig_label\": \"Figure 2\",\n",
      "        \"graphic_ref\": \"a:\\\\Vishal\\\\BiomedCLIP_data_pipeline\\\\_results\\\\data\\\\pubmed_open_access_files\\\\PMC28988\\\\cc-1-1-045-2.jpg\",\n",
      "        \"pair_id\": \"11056696_F2\"\n",
      "    }\n",
      "]\n",
      "[\n",
      "    {\n",
      "        \"fig_caption\": \"A nuclear medicine cerebral blood flow scan of a normal human brain from a lateral view, showing flow (light shades) to the cerebrum and cerebellum.\",\n",
      "        \"fig_id\": \"F1\",\n",
      "        \"fig_label\": \"Figure 1\",\n",
      "        \"graphic_ref\": \"a:\\\\Vishal\\\\BiomedCLIP_data_pipeline\\\\_results\\\\data\\\\pubmed_open_access_files\\\\PMC28989\\\\cc-1-2-065-1.jpg\",\n",
      "        \"pair_id\": \"11056697_F1\"\n",
      "    },\n",
      "    {\n",
      "        \"fig_caption\": \"Oblique whole-head view of a nuclear medicine study showing no cerebral blood flow, consistent with brain death. Note the presence of soft tissue blood flow (light shades) and lack of cerebral blood flow (black area).\",\n",
      "        \"fig_id\": \"F2\",\n",
      "        \"fig_label\": \"Figure 2\",\n",
      "        \"graphic_ref\": \"a:\\\\Vishal\\\\BiomedCLIP_data_pipeline\\\\_results\\\\data\\\\pubmed_open_access_files\\\\PMC28989\\\\cc-1-2-065-2.jpg\",\n",
      "        \"pair_id\": \"11056697_F2\"\n",
      "    }\n",
      "]\n",
      "[\n",
      "    {\n",
      "        \"fig_caption\": \"Scatter plot of Bomed bioimpedance vs Vigilance thermodilution continuous measurement of cardiac index (r2 = 0.01).\",\n",
      "        \"fig_id\": \"F1\",\n",
      "        \"fig_label\": \"Figure 1\",\n",
      "        \"graphic_ref\": \"a:\\\\Vishal\\\\BiomedCLIP_data_pipeline\\\\_results\\\\data\\\\pubmed_open_access_files\\\\PMC28990\\\\cc-1-2-071-1.jpg\",\n",
      "        \"pair_id\": \"11056698_F1\"\n",
      "    },\n",
      "    {\n",
      "        \"fig_caption\": \"Bland\\u2013Altman plot of difference in cardiac index measured by bioimpedance cardiography (bi) and continuous thermodilution (td) against mean measured cardiac index (Cl; l/min/m2). The degree of bias (measured by the mean) and precision (\\u00b1 2SD) are shown.\",\n",
      "        \"fig_id\": \"F2\",\n",
      "        \"fig_label\": \"Figure 2\",\n",
      "        \"graphic_ref\": \"a:\\\\Vishal\\\\BiomedCLIP_data_pipeline\\\\_results\\\\data\\\\pubmed_open_access_files\\\\PMC28990\\\\cc-1-2-071-2.jpg\",\n",
      "        \"pair_id\": \"11056698_F2\"\n",
      "    }\n",
      "]\n",
      "[\n",
      "    {\n",
      "        \"fig_caption\": \"Schematic of the CarePorter device showing the important features. Specifically note portability, position of battery and location and quantity of air and oxygen tanks.\",\n",
      "        \"fig_id\": \"F1\",\n",
      "        \"fig_label\": \"Figure 1\",\n",
      "        \"graphic_ref\": \"a:\\\\Vishal\\\\BiomedCLIP_data_pipeline\\\\_results\\\\data\\\\pubmed_open_access_files\\\\PMC28995\\\\cc-1-3-105-1.jpg\",\n",
      "        \"pair_id\": \"11056703_F1\"\n",
      "    },\n",
      "    {\n",
      "        \"fig_caption\": \"CarePorter device coupled to bed for transport. In the intensive care unit the device may be coupled or uncoupled depending on staff preference.\",\n",
      "        \"fig_id\": \"F2\",\n",
      "        \"fig_label\": \"Figure 2\",\n",
      "        \"graphic_ref\": \"a:\\\\Vishal\\\\BiomedCLIP_data_pipeline\\\\_results\\\\data\\\\pubmed_open_access_files\\\\PMC28995\\\\cc-1-3-105-2.jpg\",\n",
      "        \"pair_id\": \"11056703_F2\"\n",
      "    }\n",
      "]\n",
      "[\n",
      "    {\n",
      "        \"fig_caption\": \"Mean pulmonary arterial pressure. BL = basline; \\u03b1\\u03b1Hb = \\u03b1\\u03b1-crosslinked hemoglobin 200 mg/kg; NO 5 ppm = 5 ppm inhaled nitric oxide; OFF = nitric oxide discontinued; NO 10 ppm = 10 ppm inhaled nitric oxide. P < 0.05 compared to baseline; P < 0.05 compared to \\u03b1\\u03b1Hb; P < 0.05 compared to OFF.\",\n",
      "        \"fig_id\": \"F1\",\n",
      "        \"fig_label\": \"Figure 1\",\n",
      "        \"graphic_ref\": \"a:\\\\Vishal\\\\BiomedCLIP_data_pipeline\\\\_results\\\\data\\\\pubmed_open_access_files\\\\PMC28996\\\\cc-1-3-111-1.jpg\",\n",
      "        \"pair_id\": \"11056704_F1\"\n",
      "    },\n",
      "    {\n",
      "        \"fig_caption\": \"(a) Lung compliance and (b) airway resistance. BL = baseline; \\u03b1\\u03b1Hb = \\u03b1\\u03b1-crosslinked hemoglobin 200 mg/kg; NO 5 ppm = 5 ppm inhaled nitric oxide; NO 10 ppm = 10 ppm inhaled nitric oxide; OFF = nitric oxide discontinued. P < 0.05 compared to baseline; P #60; 0.05 compared to \\u03b1\\u03b1Hb.\",\n",
      "        \"fig_id\": \"F2\",\n",
      "        \"fig_label\": \"Figure 2\",\n",
      "        \"graphic_ref\": \"a:\\\\Vishal\\\\BiomedCLIP_data_pipeline\\\\_results\\\\data\\\\pubmed_open_access_files\\\\PMC28996\\\\cc-1-3-111-2.jpg\",\n",
      "        \"pair_id\": \"11056704_F2\"\n",
      "    }\n",
      "]\n",
      "[\n",
      "    {\n",
      "        \"fig_caption\": \"\\u03b22-integrin expression on macrophages in the first (a) and final (b) BAL fluid. In the final lavage, the expression of CD11a, CD11b and CD18 was significantly up-regulated (b) in comparison with the values from the first lavage (a), in both groups. However, in the final lavage (b), the levels of up-regulation of CD11a, CD11b and CD18 in the high frequency oscillatory ventilation (HFO) group were significantly lower than those of the conventional mechanical ventilation (CMV) group. The solid column indicates CMV procedure and open column HFO procedure. *P < 0.05 vs CMV-treated. MFI = mean fluorescence intensity (arbitrary units).\",\n",
      "        \"fig_id\": \"F1\",\n",
      "        \"fig_label\": \"Figure 1\",\n",
      "        \"graphic_ref\": \"a:\\\\Vishal\\\\BiomedCLIP_data_pipeline\\\\_results\\\\data\\\\pubmed_open_access_files\\\\PMC29000\\\\cc-2-1-035-1.jpg\",\n",
      "        \"pair_id\": \"11056708_F1\"\n",
      "    }\n",
      "]\n",
      "[\n",
      "    {\n",
      "        \"fig_caption\": \"(a) A poor correlation (r = -0.139) was observed between arterial oxygen saturation and the oxygen extraction ratio and (b) a good correlation (r = -0.712) was observed between venous oxygen saturation and the oxygen extraction ratio.\",\n",
      "        \"fig_id\": \"F1\",\n",
      "        \"fig_label\": \"Figure 1\",\n",
      "        \"graphic_ref\": \"a:\\\\Vishal\\\\BiomedCLIP_data_pipeline\\\\_results\\\\data\\\\pubmed_open_access_files\\\\PMC29002\\\\cc-2-2-057-1.jpg\",\n",
      "        \"pair_id\": \"11056710_F1\"\n",
      "    }\n",
      "]\n",
      "[\n",
      "    {\n",
      "        \"fig_caption\": \"Identification of infiltrates, atelectasis, pleural effusions and leaks. \\u25aa, Radiologists' positive findings; \\u25a1, intensivists' concordant findings (those that were in agreement with the radiologist); \\u25a9, intensivists' discordant films, and \\u25aa, intensivists' over-reads (a subgroup of the discordant films). There was no statistical significance (P < 0.05) between the two groups.\",\n",
      "        \"fig_id\": \"F1\",\n",
      "        \"fig_label\": \"Figure 1\",\n",
      "        \"graphic_ref\": \"a:\\\\Vishal\\\\BiomedCLIP_data_pipeline\\\\_results\\\\data\\\\pubmed_open_access_files\\\\PMC29004\\\\cc-2-2-067-1.jpg\",\n",
      "        \"pair_id\": \"11056712_F1\"\n",
      "    },\n",
      "    {\n",
      "        \"fig_caption\": \"Comparison of radiologists' and intensivists' readings of line placement. \\u25aa, Radiologist reading; \\u25a1, intensivist readings. There was 100% concordance between the two groups.\",\n",
      "        \"fig_id\": \"F2\",\n",
      "        \"fig_label\": \"Figure 2\",\n",
      "        \"graphic_ref\": \"a:\\\\Vishal\\\\BiomedCLIP_data_pipeline\\\\_results\\\\data\\\\pubmed_open_access_files\\\\PMC29004\\\\cc-2-2-067-2.jpg\",\n",
      "        \"pair_id\": \"11056712_F2\"\n",
      "    },\n",
      "    {\n",
      "        \"fig_caption\": \"Comparison of radiologists' and intensivists' readings of endotracheal tube placement. \\u25aa, Radiologist readings; \\u25a1, intensivist readings. There was 100% concordance between the two groups.\",\n",
      "        \"fig_id\": \"F3\",\n",
      "        \"fig_label\": \"Figure 3\",\n",
      "        \"graphic_ref\": \"a:\\\\Vishal\\\\BiomedCLIP_data_pipeline\\\\_results\\\\data\\\\pubmed_open_access_files\\\\PMC29004\\\\cc-2-2-067-3.jpg\",\n",
      "        \"pair_id\": \"11056712_F3\"\n",
      "    }\n",
      "]\n",
      "[\n",
      "    {\n",
      "        \"fig_caption\": \"Schematic presentation of the experimental design used. At four\\n\\t\\t\\t\\tpositions (Pos. 1 to Pos. 4) along the inspiratory limb of the respiratory\\n\\t\\t\\t\\ttubing, NO and NO2 concentrations were measured by means of\\n\\t\\t\\t\\tchemiluminescence (CLD 700 AL chemiluminometer). The upper part of the figure\\n\\t\\t\\t\\tdemonstrates the measurement design without a humidification system. In the\\n\\t\\t\\t\\tlower part the site of the active humidification system is indicated between\\n\\t\\t\\t\\tPos. 1 and Pos. 2.\",\n",
      "        \"fig_id\": \"F1\",\n",
      "        \"fig_label\": \"Figure 1\",\n",
      "        \"graphic_ref\": \"a:\\\\Vishal\\\\BiomedCLIP_data_pipeline\\\\_results\\\\data\\\\pubmed_open_access_files\\\\PMC29005\\\\cc-3-1-001-1.jpg\",\n",
      "        \"pair_id\": \"11056715_F1\"\n",
      "    },\n",
      "    {\n",
      "        \"fig_caption\": \"Individual NO measurements for the different NO concentrations set\\n\\t\\t\\t\\t(x-axis, NO) and the different FiO2 values as well as the different\\n\\t\\t\\t\\tcircuit setups. The NO concentrations are expressed as a percentage of the set\\n\\t\\t\\t\\tNO concentration (y-axis). Each line of figures represents the different\\n\\t\\t\\t\\tsettings for FiO2. Each column of figures represents the different\\n\\t\\t\\t\\tsetups for the heating system.\",\n",
      "        \"fig_id\": \"F2\",\n",
      "        \"fig_label\": \"Figure 2\",\n",
      "        \"graphic_ref\": \"a:\\\\Vishal\\\\BiomedCLIP_data_pipeline\\\\_results\\\\data\\\\pubmed_open_access_files\\\\PMC29005\\\\cc-3-1-001-2.jpg\",\n",
      "        \"pair_id\": \"11056715_F2\"\n",
      "    },\n",
      "    {\n",
      "        \"fig_caption\": \"Nitric oxide (NO) concentrations as a percentage of the adjusted\\n\\t\\t\\t\\tNO dose (y-axis) for the different setups of the heating system (x-axis). The\\n\\t\\t\\t\\tdifferent bars reflect the different measurement positions (see Fig\\n\\t\\t\\t\\t1). Data are given as mean\\u00b1 standard deviation.\\n\\t\\t\\t\\t*P < 0.05, compared to pos.1 for a given setup;\\n\\t\\t\\t\\t\\u00a7P < 0.05, compared to the active humidification\\n\\t\\t\\t\\tsystem (acthum) for a given position, inacthum, Inactive humidification system;\\n\\t\\t\\t\\tnohum, no humidification system.\",\n",
      "        \"fig_id\": \"F3\",\n",
      "        \"fig_label\": \"Figure 3\",\n",
      "        \"graphic_ref\": \"a:\\\\Vishal\\\\BiomedCLIP_data_pipeline\\\\_results\\\\data\\\\pubmed_open_access_files\\\\PMC29005\\\\cc-3-1-001-3.jpg\",\n",
      "        \"pair_id\": \"11056715_F3\"\n",
      "    },\n",
      "    {\n",
      "        \"fig_caption\": \"Differences in nitric oxide (NO) concentrations between different\\n\\t\\t\\t\\tpositions as a percentage of the adjusted NO dose (y-axis) for the different\\n\\t\\t\\t\\tsetups of the heating system (x-axis). The different bars reflect the different\\n\\t\\t\\t\\tmeasurement positions (see Fig 1). Data are given as\\n\\t\\t\\t\\tmean \\u00b1 standard deviation. *P < 0.05, compared to the\\n\\t\\t\\t\\tactive humidification system (acthum). inacthum, inactive humidification\\n\\t\\t\\t\\tsystem; nohum, no humidification system.\",\n",
      "        \"fig_id\": \"F4\",\n",
      "        \"fig_label\": \"Figure 4\",\n",
      "        \"graphic_ref\": \"a:\\\\Vishal\\\\BiomedCLIP_data_pipeline\\\\_results\\\\data\\\\pubmed_open_access_files\\\\PMC29005\\\\cc-3-1-001-4.jpg\",\n",
      "        \"pair_id\": \"11056715_F4\"\n",
      "    },\n",
      "    {\n",
      "        \"fig_caption\": \"Individual nitrix dioxide (NO2) measurements in parts\\n\\t\\t\\t\\tper million (ppm, y-axis) for the different nitric oxide (NO) concentrations\\n\\t\\t\\t\\tadjusted (x-axis, NO) and the different FiO2 values as well as the\\n\\t\\t\\t\\tdifferent circuit setups. Each line of figures represents the different\\n\\t\\t\\t\\tsettings for FiO2. Each column of figures represents the different\\n\\t\\t\\t\\tsetups for the heating system.\",\n",
      "        \"fig_id\": \"F5\",\n",
      "        \"fig_label\": \"Figure 5\",\n",
      "        \"graphic_ref\": \"a:\\\\Vishal\\\\BiomedCLIP_data_pipeline\\\\_results\\\\data\\\\pubmed_open_access_files\\\\PMC29005\\\\cc-3-1-001-5.jpg\",\n",
      "        \"pair_id\": \"11056715_F5\"\n",
      "    }\n",
      "]\n",
      "[\n",
      "    {\n",
      "        \"fig_caption\": \"The procalcitonin (ProCT) molecule and its components. AminoproCT\\n\\t\\t\\t\\t= amino terminus of procalcitonin; immature CT = the 33 amino acid,\\n\\t\\t\\t\\tnon-amidated CT; CCP-I = calcitonin carboxyterminus peptide-I. In normal\\n\\t\\t\\t\\tpeople, in addition to the free, active, mature CT, small amounts of ProCT,\\n\\t\\t\\t\\taminoproCT, CCP-I, the conjoined CT:CCP-I peptide, and the immature CT\\n\\t\\t\\t\\tcirculate [18]. The amino acid sequence of the rat\\n\\t\\t\\t\\tmature CT is very similar to that of humans, and the sequence of hamster CT,\\n\\t\\t\\t\\talthough not yet known, reveals, by immunoassay studies, a marked homology with\\n\\t\\t\\t\\tthe rat.\",\n",
      "        \"fig_id\": \"F1\",\n",
      "        \"fig_label\": \"Figure 1\",\n",
      "        \"graphic_ref\": \"a:\\\\Vishal\\\\BiomedCLIP_data_pipeline\\\\_results\\\\data\\\\pubmed_open_access_files\\\\PMC29007\\\\cc-3-1-011-1.jpg\",\n",
      "        \"pair_id\": \"11056717_F1\"\n",
      "    },\n",
      "    {\n",
      "        \"fig_caption\": \"Relationship between inoculum of Escherichia coli and\\n\\t\\t\\t\\tmortality. Low dose = 1.0 \\u00d7 108 cfu/pellet, medium dose = 5.0\\n\\t\\t\\t\\t\\u00d7 108 cfu/pellet, high dose = 1.0 \\u00d7 109\\n\\t\\t\\t\\tcfu/pellet, and highest dose = 2.0 \\u00d7 109 cfu/pellet.\\n\\t\\t\\t\\tMortality for low dose was 0%. *Significantly different from other\\n\\t\\t\\t\\tgroups per Chi-square analysis, P < 0.001.\",\n",
      "        \"fig_id\": \"F2\",\n",
      "        \"fig_label\": \"Figure 2\",\n",
      "        \"graphic_ref\": \"a:\\\\Vishal\\\\BiomedCLIP_data_pipeline\\\\_results\\\\data\\\\pubmed_open_access_files\\\\PMC29007\\\\cc-3-1-011-2.jpg\",\n",
      "        \"pair_id\": \"11056717_F2\"\n",
      "    },\n",
      "    {\n",
      "        \"fig_caption\": \"Relationship between inoculum of Escherichia coli and\\n\\t\\t\\t\\ttotal immunoreactive calcitonin (iCT). Low dose = 1.0 \\u00d7 108\\n\\t\\t\\t\\tcfu/pellet, medium dose = 5.0 \\u00d7 108 cfu/pellet, high dose = 1.0\\n\\t\\t\\t\\t\\u00d7 109 cfu/pellet, and highest dose = 2.0 \\u00d7 109\\n\\t\\t\\t\\tcfu/pellet. *Statistically distinct, except between low and medium\\n\\t\\t\\t\\tdoses, per one-way ANOVA, P = 0.001.\",\n",
      "        \"fig_id\": \"F3\",\n",
      "        \"fig_label\": \"Figure 3\",\n",
      "        \"graphic_ref\": \"a:\\\\Vishal\\\\BiomedCLIP_data_pipeline\\\\_results\\\\data\\\\pubmed_open_access_files\\\\PMC29007\\\\cc-3-1-011-3.jpg\",\n",
      "        \"pair_id\": \"11056717_F3\"\n",
      "    },\n",
      "    {\n",
      "        \"fig_caption\": \"Comparison of chromatographs from septic human serum (a)\\n\\t\\t\\t\\tand pooled septic hamster serum (b). The dominant peak in each graph\\n\\t\\t\\t\\thas an estimated elution position of 0.2 KaV, which corresponds to the elution\\n\\t\\t\\t\\tposition of human procalcitonin (ProCT) [17]. CT,\\n\\t\\t\\t\\tcalcitonin; CT:CCP-1, conjoined calcitonin:calcitonin carboxypeptide-I.\",\n",
      "        \"fig_id\": \"F4\",\n",
      "        \"fig_label\": \"Figure 4\",\n",
      "        \"graphic_ref\": \"a:\\\\Vishal\\\\BiomedCLIP_data_pipeline\\\\_results\\\\data\\\\pubmed_open_access_files\\\\PMC29007\\\\cc-3-1-011-4.jpg\",\n",
      "        \"pair_id\": \"11056717_F4\"\n",
      "    }\n",
      "]\n",
      "[\n",
      "    {\n",
      "        \"fig_caption\": \"Oxygenation index (mean airway pressure\\u00d7FiO2\\n\\t\\t\\t\\t\\u00d7100/paO2) beforeand after saline lavage and surfactant\\n\\t\\t\\t\\tresupplementation in 12 neonates (mean 75th and 97th percentile).\",\n",
      "        \"fig_id\": \"F1\",\n",
      "        \"fig_label\": \"Figure 1\",\n",
      "        \"graphic_ref\": \"a:\\\\Vishal\\\\BiomedCLIP_data_pipeline\\\\_results\\\\data\\\\pubmed_open_access_files\\\\PMC29009\\\\cc-3-1-019-1.jpg\",\n",
      "        \"pair_id\": \"11056719_F1\"\n",
      "    },\n",
      "    {\n",
      "        \"fig_caption\": \"Chest X-ray in one patient at admission, demonstrating features of\\n\\t\\t\\t\\tmeconium aspiration.\",\n",
      "        \"fig_id\": \"F2\",\n",
      "        \"fig_label\": \"Figure 2\",\n",
      "        \"graphic_ref\": \"a:\\\\Vishal\\\\BiomedCLIP_data_pipeline\\\\_results\\\\data\\\\pubmed_open_access_files\\\\PMC29009\\\\cc-3-1-019-2.jpg\",\n",
      "        \"pair_id\": \"11056719_F2\"\n",
      "    },\n",
      "    {\n",
      "        \"fig_caption\": \"Chest X-ray 2 h after lavage/surfactant procedure in the same\\n\\t\\t\\t\\tpatient as in Fig 1, showing clearing of infiltrate.\",\n",
      "        \"fig_id\": \"F3\",\n",
      "        \"fig_label\": \"Figure 3\",\n",
      "        \"graphic_ref\": \"a:\\\\Vishal\\\\BiomedCLIP_data_pipeline\\\\_results\\\\data\\\\pubmed_open_access_files\\\\PMC29009\\\\cc-3-1-019-3.jpg\",\n",
      "        \"pair_id\": \"11056719_F3\"\n",
      "    }\n",
      "]\n",
      "[\n",
      "    {\n",
      "        \"fig_caption\": \"Pulsatility index at the different levels of continuous positive\\n\\t\\t\\t\\tairway pressure (CPAP) in all subjects (black bars, controls; grey bars,\\n\\t\\t\\t\\ttransplant subjects\",\n",
      "        \"fig_id\": \"F1\",\n",
      "        \"fig_label\": \"Figure 1\",\n",
      "        \"graphic_ref\": \"a:\\\\Vishal\\\\BiomedCLIP_data_pipeline\\\\_results\\\\data\\\\pubmed_open_access_files\\\\PMC29011\\\\cc-3-1-033-1.jpg\",\n",
      "        \"pair_id\": \"11056721_F1\"\n",
      "    }\n",
      "]\n",
      "[\n",
      "    {\n",
      "        \"fig_caption\": \"The radioactivity of bronchial secretions over time. The values at\\n\\t\\t\\t\\tzero time represent the baseline radioactivity. Asterisk (*) denotes\\n\\t\\t\\t\\tstatistical significance between cisapride and placebo.\",\n",
      "        \"fig_id\": \"F1\",\n",
      "        \"fig_label\": \"Figure 1\",\n",
      "        \"graphic_ref\": \"a:\\\\Vishal\\\\BiomedCLIP_data_pipeline\\\\_results\\\\data\\\\pubmed_open_access_files\\\\PMC29012\\\\cc-3-1-039-1.jpg\",\n",
      "        \"pair_id\": \"11056722_F1\"\n",
      "    },\n",
      "    {\n",
      "        \"fig_caption\": \"The cumulative radioactivity of bronchial secretions with and\\n\\t\\t\\t\\twithout cisapride.\",\n",
      "        \"fig_id\": \"F2\",\n",
      "        \"fig_label\": \"Figure 2\",\n",
      "        \"graphic_ref\": \"a:\\\\Vishal\\\\BiomedCLIP_data_pipeline\\\\_results\\\\data\\\\pubmed_open_access_files\\\\PMC29012\\\\cc-3-1-039-2.jpg\",\n",
      "        \"pair_id\": \"11056722_F2\"\n",
      "    }\n",
      "]\n",
      "[\n",
      "    {\n",
      "        \"fig_caption\": \"Procalcitonin (PCT) plasma concentrations of patients within four\\n\\t\\t\\t\\tcategories of the sepsis-related organ failure assessment (SOFA) score.\\n\\t\\t\\t\\tIndicated are median (\\u25cf), 25/75 percentiles (box) and 10/90 percentiles\\n\\t\\t\\t\\t(whisker) of PCT observations (n) obtained from 40 patients during a\\n\\t\\t\\t\\t15-day observation period. *P <0.05 compared with the\\n\\t\\t\\t\\tpreceding category (Mann-Whitney U-test).\",\n",
      "        \"fig_id\": \"F1\",\n",
      "        \"fig_label\": \"Figure 1\",\n",
      "        \"graphic_ref\": \"a:\\\\Vishal\\\\BiomedCLIP_data_pipeline\\\\_results\\\\data\\\\pubmed_open_access_files\\\\PMC29013\\\\cc-3-1-045-1.jpg\",\n",
      "        \"pair_id\": \"11056723_F1\"\n",
      "    },\n",
      "    {\n",
      "        \"fig_caption\": \"Plasma concentrations of the corresponding C-reactive protein\\n\\t\\t\\t\\t(CRP) concentrations of patients within four categories of the sepsis-related\\n\\t\\t\\t\\torgan failure assessment (SOFA)Figure 4 score. Indicated are median (\\u25cf), 25/75\\n\\t\\t\\t\\tpercentiles (box) and 10/90 percentiles (whisker) of CRP concentrations\\n\\t\\t\\t\\t(n) obtained from 40 patients during a 15-day observation period.\\n\\t\\t\\t\\t*P <0.05 compared with the preceding category\\n\\t\\t\\t\\t(Mann-Whitney U-test).\",\n",
      "        \"fig_id\": \"F2\",\n",
      "        \"fig_label\": \"Figure 2\",\n",
      "        \"graphic_ref\": \"a:\\\\Vishal\\\\BiomedCLIP_data_pipeline\\\\_results\\\\data\\\\pubmed_open_access_files\\\\PMC29013\\\\cc-3-1-045-2.jpg\",\n",
      "        \"pair_id\": \"11056723_F2\"\n",
      "    },\n",
      "    {\n",
      "        \"fig_caption\": \"Course of procalcitonin (PCT) plasma concentrations in 40 patients\\n\\t\\t\\t\\tduring 15 days after onset of sepsis or multiple organ dysfunction syndrome\\n\\t\\t\\t\\t(MODS). Indicated are median and 25/75 percentiles (whiskers) of PCT\\n\\t\\t\\t\\tconcentrations of 14 patients with a lethal outcome. (\\u25cf, solid line)\\n\\t\\t\\t\\tduring a 28-day observation period due to the underlying disease, and of 26\\n\\t\\t\\t\\tpatients who survived (\\u25cb, dashed line).\",\n",
      "        \"fig_id\": \"F3\",\n",
      "        \"fig_label\": \"Figure 3\",\n",
      "        \"graphic_ref\": \"a:\\\\Vishal\\\\BiomedCLIP_data_pipeline\\\\_results\\\\data\\\\pubmed_open_access_files\\\\PMC29013\\\\cc-3-1-045-3.jpg\",\n",
      "        \"pair_id\": \"11056723_F3\"\n",
      "    },\n",
      "    {\n",
      "        \"fig_caption\": \"The course of C-reactive protein (CRP) plasma concentrations in 40\\n\\t\\t\\t\\tpatients during 15 days after onset of sepsis or multiple organ dysfunction\\n\\t\\t\\t\\tsyndrome (MODS). Indicated are median and 25/75 percentiles (whiskers) of CRP\\n\\t\\t\\t\\tconcentrations of 14 patients with a lethal outcome (\\u25cf, solid line)\\n\\t\\t\\t\\tduring a 28-day observation period due to the underlying disease, and of 26\\n\\t\\t\\t\\tpatients who survived (\\u25cb, dashed line).\",\n",
      "        \"fig_id\": \"F4\",\n",
      "        \"fig_label\": \"Figure 4\",\n",
      "        \"graphic_ref\": \"a:\\\\Vishal\\\\BiomedCLIP_data_pipeline\\\\_results\\\\data\\\\pubmed_open_access_files\\\\PMC29013\\\\cc-3-1-045-4.jpg\",\n",
      "        \"pair_id\": \"11056723_F4\"\n",
      "    }\n",
      "]\n",
      "[\n",
      "    {\n",
      "        \"fig_caption\": \"Peripheral multilumen catheter cutdown sites and proximal venous\\n\\t\\t\\t\\tblood sampling sites.\",\n",
      "        \"fig_id\": \"F1\",\n",
      "        \"fig_label\": \"Figure 1\",\n",
      "        \"graphic_ref\": \"a:\\\\Vishal\\\\BiomedCLIP_data_pipeline\\\\_results\\\\data\\\\pubmed_open_access_files\\\\PMC29014\\\\cc-3-1-051-1.jpg\",\n",
      "        \"pair_id\": \"11056724_F1\"\n",
      "    }\n",
      "]\n",
      "[\n",
      "    {\n",
      "        \"fig_caption\": \"Average pre-transfusion haemoglobin values over time in participating institutions. This figure illustrates all haemoglobin concentrations during the first 10 days of intensive care unit (ICU) stay. There was an average decrease of 16 g/l in haemoglobin concentrations in all patients admitted to the ICU over the 10-day monitoring interval. Institution 1 had the highest values over time while institution 3 recorded the lowest concentrations during the 10 days. The solid thick line illustrates overall concentrations.\",\n",
      "        \"fig_id\": \"F1\",\n",
      "        \"fig_label\": \"Figure 1\",\n",
      "        \"graphic_ref\": \"a:\\\\Vishal\\\\BiomedCLIP_data_pipeline\\\\_results\\\\data\\\\pubmed_open_access_files\\\\PMC29015\\\\cc-3-2-057-1.jpg\",\n",
      "        \"pair_id\": \"11056725_F1\"\n",
      "    },\n",
      "    {\n",
      "        \"fig_caption\": \"Average pre-transfusion haemoglobin concentrations stratified by institution, APACHE II categories and transfusion status. Average pre-transfusion hemoglobin concentrations stratified by transfusion status, institution and high (> 15) versus low (\\u2264 15) APACHE II score. Institution 3 and 6 had the lowest concentrations overall and patients who received red cells. The influence of APACHE II scores appeared least important in centres (3 and 6) with a conservative approach to the administration of red cells. This graph also illustrates significant variations in haemoglobin concentrations in both APACHE II groups and in transfused and non-transfused patients.\",\n",
      "        \"fig_id\": \"F2\",\n",
      "        \"fig_label\": \"Figure 2\",\n",
      "        \"graphic_ref\": \"a:\\\\Vishal\\\\BiomedCLIP_data_pipeline\\\\_results\\\\data\\\\pubmed_open_access_files\\\\PMC29015\\\\cc-3-2-057-2.jpg\",\n",
      "        \"pair_id\": \"11056725_F2\"\n",
      "    }\n",
      "]\n",
      "[\n",
      "    {\n",
      "        \"fig_caption\": \"Timeline for study. Following documentation of severe\\n\\t\\t\\t\\tbronchospasm, lungs were randomized to receive either a helium-oxygen gas\\n\\t\\t\\t\\tmixture (heliox) or a nitrogen-oxygen gas mixture (nitrox). The order in which\\n\\t\\t\\t\\teach lung received pulmonary function tests (PFTs) was also randomized.\",\n",
      "        \"fig_id\": \"F1\",\n",
      "        \"fig_label\": \"Figure 1\",\n",
      "        \"graphic_ref\": \"a:\\\\Vishal\\\\BiomedCLIP_data_pipeline\\\\_results\\\\data\\\\pubmed_open_access_files\\\\PMC29016\\\\cc-3-2-065-1.jpg\",\n",
      "        \"pair_id\": \"11056726_F1\"\n",
      "    },\n",
      "    {\n",
      "        \"fig_caption\": \"Percentage improvement of resistance, tidal volume and compliance\\n\\t\\t\\t\\tafter lungs were crossed over from a nitrogen-oxygen gas mixture (nitrox) to a\\n\\t\\t\\t\\thelium-oxygen gas mixture (heliox) and from heliox to nitrox. A negative\\n\\t\\t\\t\\tpercentage improvement indicates a deterioration of lung function, i.e. an\\n\\t\\t\\t\\tincrease in resistance is depicted as a negative percentage improvement.\",\n",
      "        \"fig_id\": \"F2\",\n",
      "        \"fig_label\": \"Figure 2\",\n",
      "        \"graphic_ref\": \"a:\\\\Vishal\\\\BiomedCLIP_data_pipeline\\\\_results\\\\data\\\\pubmed_open_access_files\\\\PMC29016\\\\cc-3-2-065-2.jpg\",\n",
      "        \"pair_id\": \"11056726_F2\"\n",
      "    }\n",
      "]\n"
     ]
    }
   ],
   "source": [
    "import json\n",
    "# Read and print only the 'figures' field\n",
    "with open(pipeline_input_file_path, \"r\", encoding=\"utf-8\") as infile:\n",
    "    for line in infile:\n",
    "        data = json.loads(line)  # Parse JSON line\n",
    "        figures = data.get(\"figures\", [])  # Extract figures\n",
    "        if figures:\n",
    "            print(json.dumps(figures, indent=4))  # Pretty-print figures"
   ]
  },
  {
   "cell_type": "code",
   "execution_count": null,
   "metadata": {},
   "outputs": [],
   "source": []
  }
 ],
 "metadata": {
  "kernelspec": {
   "display_name": "biomed_env",
   "language": "python",
   "name": "python3"
  },
  "language_info": {
   "codemirror_mode": {
    "name": "ipython",
    "version": 3
   },
   "file_extension": ".py",
   "mimetype": "text/x-python",
   "name": "python",
   "nbconvert_exporter": "python",
   "pygments_lexer": "ipython3",
   "version": "3.10.0"
  }
 },
 "nbformat": 4,
 "nbformat_minor": 2
}
